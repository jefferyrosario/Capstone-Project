{
 "cells": [
  {
   "cell_type": "code",
   "execution_count": 1,
   "metadata": {},
   "outputs": [
    {
     "name": "stderr",
     "output_type": "stream",
     "text": [
      "C:\\Users\\Public\\Anaconda3\\lib\\site-packages\\statsmodels\\tools\\_testing.py:19: FutureWarning: pandas.util.testing is deprecated. Use the functions in the public API at pandas.testing instead.\n",
      "  import pandas.util.testing as tm\n"
     ]
    }
   ],
   "source": [
    "import pandas as pd\n",
    "import gensim\n",
    "import string\n",
    "import numpy as np\n",
    "import glob\n",
    "import os\n",
    "from bs4 import BeautifulSoup\n",
    "from zipfile import ZipFile\n",
    "import csv\n",
    "import xml.etree.ElementTree as ET\n",
    "from pathlib import Path, PureWindowsPath\n",
    "import csv\n",
    "from nltk.corpus import stopwords\n",
    "from tika import parser\n",
    "from nltk.stem import PorterStemmer\n",
    "import re\n",
    "import sklearn as sk\n",
    "from sklearn.linear_model import LogisticRegression, PoissonRegressor, RidgeClassifier\n",
    "from sklearn.preprocessing import MinMaxScaler, OneHotEncoder, PolynomialFeatures\n",
    "from sklearn.model_selection import cross_val_score, train_test_split, GridSearchCV\n",
    "from sklearn.metrics import classification_report, auc\n",
    "from imblearn.over_sampling import SMOTE\n",
    "import xgboost as xgb\n",
    "import pickle\n",
    "from collections import defaultdict\n",
    "from sklearn.pipeline import Pipeline\n",
    "from sklearn.impute import SimpleImputer, KNNImputer\n",
    "from sklearn.compose import ColumnTransformer, make_column_selector, make_column_transformer\n",
    "from nltk.tokenize import RegexpTokenizer, word_tokenize\n",
    "from gensim.sklearn_api import D2VTransformer, W2VTransformer, LdaTransformer\n",
    "from sklearn.feature_extraction.text import CountVectorizer, TfidfVectorizer\n",
    "from keras.wrappers.scikit_learn import KerasClassifier\n",
    "from keras.models import Sequential\n",
    "from imblearn.over_sampling import SMOTE\n",
    "from imblearn.under_sampling import RandomUnderSampler\n",
    "from imblearn.pipeline import Pipeline as imbPipe\n",
    "from sklearn.feature_extraction import DictVectorizer\n",
    "import matplotlib.pyplot as plt\n",
    "import seaborn as sns\n",
    "import PyPDF2\n",
    "from sklearn.neighbors import KNeighborsClassifier\n",
    "from sklearn.ensemble import RandomForestClassifier, AdaBoostClassifier\n",
    "from sklearn.svm import SVC\n",
    "from sklearn.tree import DecisionTreeClassifier, ExtraTreeClassifier\n",
    "from sklearn.neural_network import MLPClassifier\n",
    "from sklearn.model_selection import RepeatedStratifiedKFold\n",
    "from sklearn.model_selection import cross_val_predict, cross_val_score\n",
    "from statsmodels.api import OLS "
   ]
  },
  {
   "cell_type": "code",
   "execution_count": 4,
   "metadata": {},
   "outputs": [],
   "source": [
    "def conv_pdf(pdf):\n",
    "    fileObject = open(pdf, 'rb')\n",
    "    pdf_reader = PyPDF2.PdfFileReader(fileObject)\n",
    "    pages = pdf_reader.getNumPages()\n",
    "    text = []\n",
    "    for n in list(range(pages)):\n",
    "        page_text = pdf_reader.getPage(n)\n",
    "        text.append(page_text.extractText())\n",
    "    text = ' '.join(text)\n",
    "    return text"
   ]
  },
  {
   "cell_type": "markdown",
   "metadata": {},
   "source": [
    "# Problem Statement\n",
    "\n",
    "Clinical Trials Exploration\n",
    "\n",
    "Company A is dedicated to bringing down the cost and improving the outcomes of the drug discovery pipeline. As such we are very interested in understanding the drivers behind successful and unsuccessful clinical trials.\n",
    "\n",
    "\n",
    "\n",
    "### Phase 1:\n",
    "\n",
    "https://www.clinicaltrials.gov/\n",
    "Contains all 270k clinical trials performed in the US.  Each of these clinical trials will have papers associated with it.  Grab the clinical trials and the associated papers and store them in a way that links the two.  You may need to figure out how to grab the associated papers (they will not be stored in the same repository, and you may need to grab them using a different REST API).\n",
    "\n",
    "\n",
    "### Phase 2:\n",
    "Once we have the data all downloaded and linked, we’ll want to start looking for features that may drive whether or not the clinical trial was a success or a failure.  This will mean combing through the trial itself for “features” that we can use (e.g. number of citations on the associated papers, which drugs were under study, phase of the trial, etc . . .).\n",
    "\n",
    "Some pointers:\n",
    "Start by understanding the clinical trials themselves.  Google what you can, and if you still have specific questions around what particular things mean I can get those questions answered by people we have over here.  It will be very important that you understand what the fields in the trial mean in order to make good decisions on what features might make a difference.\n",
    "\n",
    "I’m most interested in doing some deep text-based analysis on the papers associated with the trials themselves.  Try to set things up so that this analysis will be easy.  We’ll want to ask questions like “for all the successful trials, let’s run this algorithm against the associated papers”.  We’ll provide the algorithm (or some pointers to where you can download it).  \n",
    "\n"
   ]
  },
  {
   "cell_type": "markdown",
   "metadata": {},
   "source": [
    "## Data Collection\n",
    "\n",
    "There are two ways to go about retrieving the clinical trials: download all clinical trails in a .zip file from clinicaltrials.gov or you can use their api. We will download the zip folder containing all the clinical trials.\n",
    "\n",
    "Clinical trials point to scientific research papers because the papers indicate that a drug works in some capacity in vivo for example. We will need to collect all of the research papers associated with each clinical trial. Downloading the research papers requires parsing the PMIDs from the clinical trials, creating a list, and downloading it using : https://github.com/billgreenwald/Pubmed-Batch-Download"
   ]
  },
  {
   "cell_type": "code",
   "execution_count": 6,
   "metadata": {},
   "outputs": [],
   "source": [
    "# assign root directory\n",
    "rootdir = './NCT_files/'\n",
    "\n",
    "# make a list of all the nct_files in the directory\n",
    "nct_files = []\n",
    "for subddir, dirs, files in os.walk(rootdir):\n",
    "    for file in files:\n",
    "        nct_files.append(os.path.join(subddir,file).replace('\\\\', '/'))\n"
   ]
  },
  {
   "cell_type": "code",
   "execution_count": null,
   "metadata": {},
   "outputs": [],
   "source": [
    "#view an nct file\n",
    "nct_files[1]\n"
   ]
  },
  {
   "cell_type": "code",
   "execution_count": 16,
   "metadata": {},
   "outputs": [],
   "source": [
    "#\n",
    "all_xmls = []\n",
    "zipfile = './AllPublicXML.zip'\n",
    "with ZipFile(zipfile, 'r') as myzip:\n",
    "    all_xmls.append(zip.namelist())\n",
    "    "
   ]
  },
  {
   "cell_type": "code",
   "execution_count": 346,
   "metadata": {},
   "outputs": [],
   "source": [
    "def split_list(alist, wanted_parts=1):\n",
    "    length = len(alist)\n",
    "    return [ alist[i*length // wanted_parts: (i+1)*length // wanted_parts] \n",
    "             for i in range(wanted_parts) ]\n",
    "\n",
    "# split list into 30 parts\n",
    "PMIDs_split = split_list(PMIDs,30)\n",
    "\n",
    "# create 30 .csv files with a list of PMIDs\n",
    "for i, pmid in enumerate(PMIDs_split):\n",
    "    pd.DataFrame(pmid).to_csv('./list_of_PMIDs'+str(i)+'.csv', index = False)"
   ]
  },
  {
   "cell_type": "raw",
   "metadata": {},
   "source": [
    "Clinical trials.gov uses XML markup. We will use element tree to parse the XML and find the tags we want to use. The first second and third layer describes the parent, child, grandchild dynamic that is used by the element tree module.\n",
    "\n",
    "first layer\n",
    "\n",
    "brief_title\n",
    "source\n",
    "overall_status\n",
    "study_type\n",
    "has_expanded_access\n",
    "condition\n",
    "study_first_posted\n",
    "verification_date\n",
    "last_update_posted\n",
    "keyword\n",
    "results\n",
    "phase\n",
    "enrollment_type\n",
    "\n",
    "second_layer\n",
    "\n",
    "textblock\n",
    "observational_model\n",
    "time_perspective\n",
    "intervention_type\n",
    "intervention_name\n",
    "gender\n",
    "minimum_age\n",
    "maximum_age\n",
    "healthy_volunteers\n",
    "country\n",
    "mesh_term\n",
    "allocation\n",
    "intervention_model\n",
    "primary_purpose\n",
    "masking\n",
    "\n",
    "\n",
    "\n",
    "third layer\n",
    "\n",
    "textblock\n",
    "\n"
   ]
  },
  {
   "cell_type": "markdown",
   "metadata": {},
   "source": [
    "\n",
    "\n",
    "## Pre-processing\n",
    "\n",
    "DataFrame construction:\n",
    "1. Download the dataset from clinicaltrials.gov\n",
    "2. Examine the XML files to determine what elements I would like to extract\n",
    "3. Go through every XML file for the specified elements in child_list and gchild_list. Elements are shown in the dataframe above.\n",
    "4. Determine what part of the dataset is relevant in making a prediction. Studies selected to go further with the analysis included completed, terminated, and suspended studies. This is because we at least have the outcome of these studies. We also want studies that have a phase shown.\n",
    "5. Fill in missing values. \n",
    "\n",
    "\n",
    "Now we want to preprocess the text. These texts would be in the columsn 'intervention_name', 'intervention_type', '"
   ]
  },
  {
   "cell_type": "code",
   "execution_count": 384,
   "metadata": {},
   "outputs": [],
   "source": [
    "child_list = ['brief_title', 'source', 'overall_status', 'study_type','has_expanded_access','condition',\n",
    "                'study_first_posted', 'verification_date', 'last_update_posted', 'keyword', 'phase',\n",
    "              'enrollment', 'intervention_browse', 'PMID']\n",
    "gchild_list = ['textblock', 'nct_id','observational_model', 'time_perspective', 'intervention_type',\n",
    "               'is_fda_regulated_drug', 'is_fda_regulated_device', \n",
    "               'defined Population', 'intervention_type', 'intervention_name', \n",
    "               'gender', 'minimum_age', 'maximum_age','healthy_volunteers', 'country',\n",
    "               'mesh_term', 'allocation', 'intervention_model', 'primary_purpose', 'masking','PMID']\n",
    "\n",
    "def parse_files(nct):\n",
    "    dataframes = []\n",
    "    for f in nct:\n",
    "            dataframes.append(parse_xml(f))\n",
    "    df = pd.concat(dataframes)\n",
    "    return df\n",
    "      \n",
    "  \n",
    "\n",
    "def parse_xml(xml):\n",
    "        #create empty lists for the tag and text\n",
    "        first_layer_tag = []\n",
    "        first_layer_text = []\n",
    "        \n",
    "        tree = etree.parse(xml)\n",
    "        root = tree.getroot()\n",
    "        \n",
    "        for child in root.iter([child_list]):\n",
    "            first_layer_tag.append(child.tag)\n",
    "            first_layer_text.append(child.text)\n",
    "        for gchild in root.iter([gchild_list]):\n",
    "            first_layer_tag.append(gchild.tag)\n",
    "            first_layer_text.append(gchild.text)\n",
    "        df = pd.DataFrame(data = [first_layer_text],\n",
    "                          columns = first_layer_tag\n",
    "                          )\n",
    "        df = df.loc[:,~df.columns.duplicated()]\n",
    "        return df\n",
    "    \n",
    "#dataframe = parse_files(nct_files)\n",
    "            "
   ]
  },
  {
   "cell_type": "code",
   "execution_count": 7,
   "metadata": {},
   "outputs": [],
   "source": [
    "child_list = ['brief_title', 'source', 'overall_status', 'study_type','has_expanded_access','condition',\n",
    "                'study_first_posted', 'verification_date', 'last_update_posted', 'keyword', 'phase',\n",
    "              'enrollment', 'intervention_browse', 'PMID']\n",
    "gchild_list = ['textblock', 'nct_id','observational_model', 'time_perspective', 'intervention_type',\n",
    "               'is_fda_regulated_drug', 'is_fda_regulated_device', \n",
    "               'defined Population', 'intervention_type', 'intervention_name', \n",
    "               'gender', 'minimum_age', 'maximum_age','healthy_volunteers', 'country',\n",
    "               'mesh_term', 'allocation', 'intervention_model', 'primary_purpose', 'masking']\n",
    "\n",
    "\n",
    "\n",
    "np_child_list = np.array(['brief_title', 'source', 'overall_status', 'study_type','has_expanded_access','condition',\n",
    "                'study_first_posted', 'verification_date', 'last_update_posted', 'keyword', 'phase',\n",
    "              'enrollment', 'intervention_browse', 'PMID'])\n",
    "np_gchild_list = np.array(['textblock', 'nct_id','observational_model', 'time_perspective', 'intervention_type',\n",
    "               'is_fda_regulated_drug', 'is_fda_regulated_device', \n",
    "               'defined Population', 'intervention_type', 'intervention_name', \n",
    "               'gender', 'minimum_age', 'maximum_age','healthy_volunteers', 'country',\n",
    "               'mesh_term', 'allocation', 'intervention_model', 'primary_purpose', 'masking'])\n",
    "\n",
    "\n",
    "def parse_files(nct):\n",
    "    dataframes = []\n",
    "    for f in nct:\n",
    "            dataframes.append(parse_xml(f))\n",
    "    df = pd.concat(dataframes)\n",
    "    return df\n",
    "\n",
    "\n",
    "\n",
    "def parse_xml(xml):\n",
    "        #create empty lists for the tag and text\n",
    "    first_layer_tag = []\n",
    "    first_layer_text = []\n",
    "        \n",
    "    tree = etree.parse(xml)\n",
    "    root = tree.getroot()\n",
    "        \n",
    "    for child in root.iter([np_child_list]+[np_gchild_list]):\n",
    "        first_layer_tag.append(child.tag)\n",
    "        first_layer_text.append(child.text)\n",
    "        \n",
    "   # for gchild in root.iter([np_gchild_list]):\n",
    "    #    first_layer_tag.append(gchild.tag)\n",
    "     #   first_layer_text.append(gchild.text)\n",
    "    df = pd.DataFrame(data = np.array([first_layer_text]),\n",
    "                      columns = first_layer_tag)\n",
    "    if 'PMID' in df.columns: \n",
    "        pmids_df = df.loc[:, ['PMID']]\n",
    "        transpose_df = pmids_df.transpose()\n",
    "        np_pmids = transpose_df.to_numpy()\n",
    "        flattened = list(np_pmids.reshape(1,len(np_pmids)).flatten())\n",
    "        pmids = ', '.join(flattened)\n",
    "        df['PMIDs'] = pmids\n",
    "        \n",
    "    \n",
    "    #df = df.loc[:,~df.columns.duplicated()]\n",
    "    return df\n",
    "#parse"
   ]
  },
  {
   "cell_type": "code",
   "execution_count": 60,
   "metadata": {},
   "outputs": [
    {
     "name": "stderr",
     "output_type": "stream",
     "text": [
      "C:\\Users\\Public\\Anaconda3\\lib\\site-packages\\ipykernel_launcher.py:5: FutureWarning: Sorting because non-concatenation axis is not aligned. A future version\n",
      "of pandas will change to not sort by default.\n",
      "\n",
      "To accept the future behavior, pass 'sort=False'.\n",
      "\n",
      "To retain the current behavior and silence the warning, pass 'sort=True'.\n",
      "\n",
      "  \"\"\"\n"
     ]
    }
   ],
   "source": [
    "dataframe = parse_files(nct_files)"
   ]
  },
  {
   "cell_type": "code",
   "execution_count": 4,
   "metadata": {},
   "outputs": [],
   "source": [
    "def repeat_columns(col):\n",
    "    if col in df.columns:\n",
    "        col_df = df.loc[:, [col]]\n",
    "        transpose_df = col_df.transpose()\n",
    "        np_col = transpose_df.to_numpy()\n",
    "        flattened = list(np_col.reshape(1,len(np_col)).flatten())\n",
    "        cols = ', '.join(flattened)\n",
    "        return cols\n",
    "    else:\n",
    "        None"
   ]
  },
  {
   "cell_type": "markdown",
   "metadata": {},
   "source": [
    "Now we must work to retrieve the PMIDs. First we find the PMIDS that we need from the DataFrame, then we split them into several .csv files. After we run several python programs in parallel to download the PMIDs."
   ]
  },
  {
   "cell_type": "code",
   "execution_count": 2,
   "metadata": {},
   "outputs": [],
   "source": [
    "import PyPDF2\n",
    "def isFullPdf(f):\n",
    "    end_content = ''\n",
    "    start_content = ''\n",
    "    size = os.path.getsize(f)\n",
    "    if size < 1024: return False \n",
    "    with open(f, 'rb') as fin: \n",
    "        #start content \n",
    "        fin.seek(0, 0)\n",
    "        start_content = fin.read(1024)\n",
    "        start_content = start_content.decode(\"ascii\", 'ignore' )\n",
    "        fin.seek(-1024, 2)\n",
    "        end_content = fin.read()\n",
    "        end_content = end_content.decode(\"ascii\", 'ignore' )\n",
    "    start_flag = False\n",
    "    #%PDF\n",
    "    if start_content.count('%PDF') > 0:\n",
    "        start_flag = True\n",
    "    \n",
    "        \n",
    "    if end_content.count('%%EOF') and start_flag > 0:\n",
    "        return True\n",
    "    eof = bytes([0])\n",
    "    eof = eof.decode(\"ascii\")\n",
    "    if end_content.endswith(eof) and start_flag:\n",
    "        return True\n",
    "    return False\n",
    "\n"
   ]
  },
  {
   "cell_type": "code",
   "execution_count": 3,
   "metadata": {},
   "outputs": [],
   "source": [
    "dirs = os.listdir('./tokens')\n",
    "def pmid_text(pmids):\n",
    "    pmid_t = []\n",
    "    for pmid in pmids:\n",
    "        if pmid+'.txt' in dirs:\n",
    "            with open('./fetched_pdfs/'\n",
    "                      +pmid+'.txt', 'rb') as file:\n",
    "                pmid_t.append(pickle.load(file))\n",
    "    else:\n",
    "        next\n",
    "    return pmid_t "
   ]
  },
  {
   "cell_type": "code",
   "execution_count": 554,
   "metadata": {},
   "outputs": [],
   "source": [
    "PMIDs = []\n",
    "#drop na values and convert series to numpy array\n",
    "PMIDs_to_scrape = df['PMIDs'].dropna().to_numpy()\n",
    "\n",
    "#remove comma from each value\n",
    "PMIDs_to_scrape = [l.replace(\",\", \"\") for l in PMIDs_to_scrape]\n",
    "\n",
    "#split pmids \n",
    "PMIDs_to_scrape = [l.split(' ')for l in PMIDs_to_scrape]\n",
    "\n",
    "\n",
    "for pmids in PMIDs_to_scrape:\n",
    "    for pmid in pmids:\n",
    "        PMIDs.append(pmid)\n",
    "\n",
    "#capture unique PMIDs      \n",
    "PMIDs = set(PMIDs)\n",
    "PMIDS = list(PMIDs)"
   ]
  },
  {
   "cell_type": "code",
   "execution_count": 189,
   "metadata": {},
   "outputs": [],
   "source": [
    "pdfs = os.listdir('./fetched_pdfs/')\n",
    "pdfs = ['./fetched_pdfs/'+pdf for pdf in pdfs]"
   ]
  },
  {
   "cell_type": "markdown",
   "metadata": {},
   "source": [
    "Drop columns related to observational studies and other variables we will not need for analysis. "
   ]
  },
  {
   "cell_type": "code",
   "execution_count": 11,
   "metadata": {},
   "outputs": [],
   "source": [
    "df.drop(labels = ['observational_model', 'intervention_browse',\n",
    "                    'time_perspective', 'keyword', 'defined Population', 'mesh_term'],\n",
    "          axis = 1, inplace = True)"
   ]
  },
  {
   "cell_type": "code",
   "execution_count": 13,
   "metadata": {},
   "outputs": [],
   "source": [
    "#combine the dataset where the overall_status is 'completed terminated or suspended'\n",
    "df = pd.concat((completed, terminated, suspended))"
   ]
  },
  {
   "cell_type": "markdown",
   "metadata": {},
   "source": [
    "Load the dataset."
   ]
  },
  {
   "cell_type": "code",
   "execution_count": 2,
   "metadata": {},
   "outputs": [
    {
     "ename": "FileNotFoundError",
     "evalue": "[Errno 2] No such file or directory: './original_df.pkl'",
     "output_type": "error",
     "traceback": [
      "\u001b[1;31m---------------------------------------------------------------------------\u001b[0m",
      "\u001b[1;31mFileNotFoundError\u001b[0m                         Traceback (most recent call last)",
      "\u001b[1;32m<ipython-input-2-897336bd5854>\u001b[0m in \u001b[0;36m<module>\u001b[1;34m\u001b[0m\n\u001b[1;32m----> 1\u001b[1;33m \u001b[0morg_df\u001b[0m \u001b[1;33m=\u001b[0m \u001b[0mopen\u001b[0m\u001b[1;33m(\u001b[0m\u001b[1;34m'./original_df.pkl'\u001b[0m\u001b[1;33m,\u001b[0m \u001b[1;34m'rb'\u001b[0m\u001b[1;33m)\u001b[0m\u001b[1;33m\u001b[0m\u001b[1;33m\u001b[0m\u001b[0m\n\u001b[0m\u001b[0;32m      2\u001b[0m \u001b[0morg_df\u001b[0m \u001b[1;33m=\u001b[0m \u001b[0mpickle\u001b[0m\u001b[1;33m.\u001b[0m\u001b[0mload\u001b[0m\u001b[1;33m(\u001b[0m\u001b[0morg_df\u001b[0m\u001b[1;33m)\u001b[0m\u001b[1;33m\u001b[0m\u001b[1;33m\u001b[0m\u001b[0m\n",
      "\u001b[1;31mFileNotFoundError\u001b[0m: [Errno 2] No such file or directory: './original_df.pkl'"
     ]
    }
   ],
   "source": [
    "org_df = open('../..original_df.pkl', 'rb')\n",
    "org_df = pickle.load(org_df)"
   ]
  },
  {
   "cell_type": "code",
   "execution_count": 67,
   "metadata": {},
   "outputs": [
    {
     "name": "stdout",
     "output_type": "stream",
     "text": [
      "<class 'pandas.core.frame.DataFrame'>\n",
      "Int64Index: 354534 entries, 0 to 0\n",
      "Data columns (total 33 columns):\n",
      " #   Column                   Non-Null Count   Dtype  \n",
      "---  ------                   --------------   -----  \n",
      " 0   brief_title              354534 non-null  object \n",
      " 1   source                   354534 non-null  object \n",
      " 2   overall_status           354534 non-null  object \n",
      " 3   study_type               354534 non-null  object \n",
      " 4   has_expanded_access      348493 non-null  object \n",
      " 5   condition                353674 non-null  object \n",
      " 6   study_first_posted       354534 non-null  object \n",
      " 7   verification_date        353692 non-null  object \n",
      " 8   last_update_posted       354534 non-null  object \n",
      " 9   keyword                  231168 non-null  object \n",
      " 10  phase                    277467 non-null  object \n",
      " 11  enrollment               347826 non-null  object \n",
      " 12  intervention_browse      125840 non-null  object \n",
      " 13  PMID                     354534 non-null  object \n",
      " 14  textblock                354534 non-null  object \n",
      " 15  nct_id                   354534 non-null  object \n",
      " 16  observational_model      69496 non-null   object \n",
      " 17  time_perspective         72522 non-null   object \n",
      " 18  intervention_type        354534 non-null  object \n",
      " 19  is_fda_regulated_drug    130891 non-null  object \n",
      " 20  is_fda_regulated_device  130883 non-null  object \n",
      " 21  defined Population       0 non-null       float64\n",
      " 22  intervention_name        354534 non-null  object \n",
      " 23  gender                   353673 non-null  object \n",
      " 24  minimum_age              353673 non-null  object \n",
      " 25  maximum_age              353673 non-null  object \n",
      " 26  healthy_volunteers       347490 non-null  object \n",
      " 27  country                  318275 non-null  object \n",
      " 28  mesh_term                310353 non-null  object \n",
      " 29  allocation               271090 non-null  object \n",
      " 30  intervention_model       270778 non-null  object \n",
      " 31  primary_purpose          269715 non-null  object \n",
      " 32  masking                  272151 non-null  object \n",
      "dtypes: float64(1), object(32)\n",
      "memory usage: 92.0+ MB\n"
     ]
    }
   ],
   "source": [
    "org_df.info()"
   ]
  },
  {
   "cell_type": "code",
   "execution_count": 2,
   "metadata": {},
   "outputs": [],
   "source": [
    "with open('./../../../Desktop/df.pkl', 'rb') as file:\n",
    "    org_df = pickle.load(file)"
   ]
  },
  {
   "cell_type": "markdown",
   "metadata": {},
   "source": [
    "These 4 columns have multiple data points. We will exclude them from the extractions for now."
   ]
  },
  {
   "cell_type": "code",
   "execution_count": 3,
   "metadata": {},
   "outputs": [],
   "source": [
    "l = ['intervention_type', 'intervention_name', 'textblock' ,'PMID', 'PMID_tokens']\n",
    "\n",
    "for col in org_df.columns:\n",
    "    if col not in l:\n",
    "        org_df[col] = org_df.loc[:,col].str[0]"
   ]
  },
  {
   "cell_type": "markdown",
   "metadata": {},
   "source": [
    "Next we want to drop columns that we will not use for analysis. Let's also select the specific study type we want to analyze. \n",
    "\n",
    "There are two different study types: interventional and observational.\n",
    "Clinical trials are interventional studies hence we will divide our dataset and look at only interventional studies."
   ]
  },
  {
   "cell_type": "code",
   "execution_count": 4,
   "metadata": {},
   "outputs": [],
   "source": [
    "def num_of_papers(pmids):\n",
    "    pmid = pmids.split(' ')\n",
    "    return len(pmid)\n",
    "\n",
    "org_df['num_of_papers'] = org_df['PMID'].map(num_of_papers)"
   ]
  },
  {
   "cell_type": "code",
   "execution_count": 5,
   "metadata": {},
   "outputs": [],
   "source": [
    "#drop columns\n",
    "org_df.drop(['observational_model', 'time_perspective', 'verification_date',\n",
    "             'defined Population', 'intervention_browse',\n",
    "             'brief_title', 'keyword', 'mesh_term', 'PMID_tok', 'enrollment'], axis = 1, inplace = True)\n",
    "#org_df['success'] = org_df['phase'] == 'Phase 4'\n",
    "\n",
    "#interventional studies only\n",
    "org_df = org_df[org_df.loc[:,'study_type'] == 'Interventional']\n",
    "\n",
    "#replace N/A values in 'phase' as np.nan\n",
    "org_df.loc[:, 'phase'].replace('N/A', np.nan, inplace = True)\n",
    "\n",
    "#drop the na values in 'phase'\n",
    "org_df.dropna(subset = ['phase'],inplace = True)\n",
    "\n",
    "#set the index\n",
    "org_df.set_index('nct_id', inplace = True)\n",
    "\n",
    "#capture completed, terminated, withdrawn values in overall_status\n",
    "completed = org_df[org_df.loc[:, 'overall_status'] == 'Completed']\n",
    "terminated = org_df[org_df.loc[:, 'overall_status'] == 'Terminated']\n",
    "withdrawn = org_df[org_df.loc[:, 'overall_status'] == 'Withdrawn']\n",
    "\n",
    "# combine the 3 dataframes\n",
    "org_df = pd.concat([completed, terminated, withdrawn])\n",
    "\n",
    "# add a new column\n",
    "org_df['num_of_papers'] = org_df['PMID'].map(num_of_papers)\n",
    "\n",
    "# create a success column \n",
    "org_df.loc[:, 'success'] = (org_df.loc[:,'overall_status'] == 'Completed') & (org_df.loc[:, 'phase'] == 'Phase 4')\n"
   ]
  },
  {
   "cell_type": "code",
   "execution_count": 12,
   "metadata": {},
   "outputs": [
    {
     "data": {
      "text/html": [
       "<div>\n",
       "<style scoped>\n",
       "    .dataframe tbody tr th:only-of-type {\n",
       "        vertical-align: middle;\n",
       "    }\n",
       "\n",
       "    .dataframe tbody tr th {\n",
       "        vertical-align: top;\n",
       "    }\n",
       "\n",
       "    .dataframe thead th {\n",
       "        text-align: right;\n",
       "    }\n",
       "</style>\n",
       "<table border=\"1\" class=\"dataframe\">\n",
       "  <thead>\n",
       "    <tr style=\"text-align: right;\">\n",
       "      <th></th>\n",
       "      <th>source</th>\n",
       "      <th>overall_status</th>\n",
       "      <th>study_type</th>\n",
       "      <th>has_expanded_access</th>\n",
       "      <th>condition</th>\n",
       "      <th>study_first_posted</th>\n",
       "      <th>last_update_posted</th>\n",
       "      <th>phase</th>\n",
       "      <th>enrollment</th>\n",
       "      <th>PMID</th>\n",
       "      <th>...</th>\n",
       "      <th>minimum_age</th>\n",
       "      <th>maximum_age</th>\n",
       "      <th>healthy_volunteers</th>\n",
       "      <th>country</th>\n",
       "      <th>allocation</th>\n",
       "      <th>intervention_model</th>\n",
       "      <th>primary_purpose</th>\n",
       "      <th>masking</th>\n",
       "      <th>PMID_tokens</th>\n",
       "      <th>num_of_papers</th>\n",
       "    </tr>\n",
       "    <tr>\n",
       "      <th>nct_id</th>\n",
       "      <th></th>\n",
       "      <th></th>\n",
       "      <th></th>\n",
       "      <th></th>\n",
       "      <th></th>\n",
       "      <th></th>\n",
       "      <th></th>\n",
       "      <th></th>\n",
       "      <th></th>\n",
       "      <th></th>\n",
       "      <th></th>\n",
       "      <th></th>\n",
       "      <th></th>\n",
       "      <th></th>\n",
       "      <th></th>\n",
       "      <th></th>\n",
       "      <th></th>\n",
       "      <th></th>\n",
       "      <th></th>\n",
       "      <th></th>\n",
       "      <th></th>\n",
       "    </tr>\n",
       "  </thead>\n",
       "  <tbody>\n",
       "    <tr>\n",
       "      <th>NCT00000113</th>\n",
       "      <td>Stony Brook University</td>\n",
       "      <td>Completed</td>\n",
       "      <td>Interventional</td>\n",
       "      <td>No</td>\n",
       "      <td>Myopia</td>\n",
       "      <td>September 24, 1999</td>\n",
       "      <td>April 15, 2016</td>\n",
       "      <td>Phase 3</td>\n",
       "      <td>469</td>\n",
       "      <td>12657584 15223788 16009841</td>\n",
       "      <td>...</td>\n",
       "      <td>6 Years</td>\n",
       "      <td>12 Years</td>\n",
       "      <td>No</td>\n",
       "      <td>United States</td>\n",
       "      <td>Randomized</td>\n",
       "      <td>Parallel Assignment</td>\n",
       "      <td>Treatment</td>\n",
       "      <td>Triple (Participant, Investigator, Outcomes As...</td>\n",
       "      <td>Accommodation, and, Related, Risk, Factors, As...</td>\n",
       "      <td>3</td>\n",
       "    </tr>\n",
       "    <tr>\n",
       "      <th>NCT00000125</th>\n",
       "      <td>Washington University School of Medicine</td>\n",
       "      <td>Completed</td>\n",
       "      <td>Interventional</td>\n",
       "      <td>No</td>\n",
       "      <td>Ocular Hypertension</td>\n",
       "      <td>September 24, 1999</td>\n",
       "      <td>June 2, 2020</td>\n",
       "      <td>Phase 3</td>\n",
       "      <td>1636</td>\n",
       "      <td>10326953 10980763 11024416 11581049 11755836 1...</td>\n",
       "      <td>...</td>\n",
       "      <td>40 Years</td>\n",
       "      <td>80 Years</td>\n",
       "      <td>No</td>\n",
       "      <td>NaN</td>\n",
       "      <td>Randomized</td>\n",
       "      <td>Parallel Assignment</td>\n",
       "      <td>Prevention</td>\n",
       "      <td>None (Open Label)</td>\n",
       "      <td>Asymmetries, and, Visual, Field, Summaries, as...</td>\n",
       "      <td>63</td>\n",
       "    </tr>\n",
       "    <tr>\n",
       "      <th>NCT00000129</th>\n",
       "      <td>National Eye Institute (NEI)</td>\n",
       "      <td>Completed</td>\n",
       "      <td>Interventional</td>\n",
       "      <td>No</td>\n",
       "      <td>Myopia</td>\n",
       "      <td>September 24, 1999</td>\n",
       "      <td>September 17, 2009</td>\n",
       "      <td>Phase 3</td>\n",
       "      <td>NaN</td>\n",
       "      <td>6338438 6380467 6638126 6486212 3872431 388512...</td>\n",
       "      <td>...</td>\n",
       "      <td>21 Years</td>\n",
       "      <td>N/A</td>\n",
       "      <td>No</td>\n",
       "      <td>NaN</td>\n",
       "      <td>Randomized</td>\n",
       "      <td>NaN</td>\n",
       "      <td>Treatment</td>\n",
       "      <td>NaN</td>\n",
       "      <td>British, Journal, of, Ophthalmology, ,, 1988, ...</td>\n",
       "      <td>32</td>\n",
       "    </tr>\n",
       "    <tr>\n",
       "      <th>NCT00000136</th>\n",
       "      <td>Johns Hopkins Bloomberg School of Public Health</td>\n",
       "      <td>Completed</td>\n",
       "      <td>Interventional</td>\n",
       "      <td>No</td>\n",
       "      <td>HIV Infections</td>\n",
       "      <td>September 24, 1999</td>\n",
       "      <td>October 22, 2015</td>\n",
       "      <td>Phase 3</td>\n",
       "      <td>234</td>\n",
       "      <td>1315661 8660161 8660169 8660168 9207349 926253...</td>\n",
       "      <td>...</td>\n",
       "      <td>13 Years</td>\n",
       "      <td>N/A</td>\n",
       "      <td>No</td>\n",
       "      <td>NaN</td>\n",
       "      <td>Randomized</td>\n",
       "      <td>Parallel Assignment</td>\n",
       "      <td>Treatment</td>\n",
       "      <td>Single (Outcomes Assessor)</td>\n",
       "      <td>Mortality, in, Patients, with, the, Acquired, ...</td>\n",
       "      <td>13</td>\n",
       "    </tr>\n",
       "    <tr>\n",
       "      <th>NCT00000139</th>\n",
       "      <td>National Eye Institute (NEI)</td>\n",
       "      <td>Completed</td>\n",
       "      <td>Interventional</td>\n",
       "      <td>No</td>\n",
       "      <td>Keratitis, Herpetic</td>\n",
       "      <td>September 24, 1999</td>\n",
       "      <td>March 24, 2010</td>\n",
       "      <td>Phase 3</td>\n",
       "      <td>NaN</td>\n",
       "      <td>8540857 9194719 9696640</td>\n",
       "      <td>...</td>\n",
       "      <td>18 Years</td>\n",
       "      <td>N/A</td>\n",
       "      <td>No</td>\n",
       "      <td>United States</td>\n",
       "      <td>Randomized</td>\n",
       "      <td>NaN</td>\n",
       "      <td>Treatment</td>\n",
       "      <td>NaN</td>\n",
       "      <td>Acyclovir, for, the, Prevention, of, Recurrent...</td>\n",
       "      <td>3</td>\n",
       "    </tr>\n",
       "    <tr>\n",
       "      <th>...</th>\n",
       "      <td>...</td>\n",
       "      <td>...</td>\n",
       "      <td>...</td>\n",
       "      <td>...</td>\n",
       "      <td>...</td>\n",
       "      <td>...</td>\n",
       "      <td>...</td>\n",
       "      <td>...</td>\n",
       "      <td>...</td>\n",
       "      <td>...</td>\n",
       "      <td>...</td>\n",
       "      <td>...</td>\n",
       "      <td>...</td>\n",
       "      <td>...</td>\n",
       "      <td>...</td>\n",
       "      <td>...</td>\n",
       "      <td>...</td>\n",
       "      <td>...</td>\n",
       "      <td>...</td>\n",
       "      <td>...</td>\n",
       "      <td>...</td>\n",
       "    </tr>\n",
       "    <tr>\n",
       "      <th>NCT04242966</th>\n",
       "      <td>Clinical Evaluation Research Unit at Kingston ...</td>\n",
       "      <td>Withdrawn</td>\n",
       "      <td>Interventional</td>\n",
       "      <td>No</td>\n",
       "      <td>Critical Illness</td>\n",
       "      <td>January 27, 2020</td>\n",
       "      <td>June 18, 2020</td>\n",
       "      <td>Phase 3</td>\n",
       "      <td>0</td>\n",
       "      <td>22811443 21705881 28388372 25781411 23991656 2...</td>\n",
       "      <td>...</td>\n",
       "      <td>18 Years</td>\n",
       "      <td>N/A</td>\n",
       "      <td>No</td>\n",
       "      <td>NaN</td>\n",
       "      <td>Randomized</td>\n",
       "      <td>Parallel Assignment</td>\n",
       "      <td>Basic Science</td>\n",
       "      <td>None (Open Label)</td>\n",
       "      <td>Thrombus, Aspiration, during, ST-Segment, Elev...</td>\n",
       "      <td>70</td>\n",
       "    </tr>\n",
       "    <tr>\n",
       "      <th>NCT04287543</th>\n",
       "      <td>Instituto Mexicano del Seguro Social</td>\n",
       "      <td>Withdrawn</td>\n",
       "      <td>Interventional</td>\n",
       "      <td>No</td>\n",
       "      <td>Parkinson Disease</td>\n",
       "      <td>February 27, 2020</td>\n",
       "      <td>August 4, 2020</td>\n",
       "      <td>Phase 2/Phase 3</td>\n",
       "      <td>0</td>\n",
       "      <td>28332488 12657434 20460187 24235893 24687146 1...</td>\n",
       "      <td>...</td>\n",
       "      <td>20 Years</td>\n",
       "      <td>N/A</td>\n",
       "      <td>No</td>\n",
       "      <td>Mexico</td>\n",
       "      <td>Randomized</td>\n",
       "      <td>Parallel Assignment</td>\n",
       "      <td>Treatment</td>\n",
       "      <td>Double (Participant, Investigator)</td>\n",
       "      <td>Sublethal, RNA, Oxidation, as, a, Mechanism, f...</td>\n",
       "      <td>40</td>\n",
       "    </tr>\n",
       "    <tr>\n",
       "      <th>NCT04290858</th>\n",
       "      <td>Xijing Hospital</td>\n",
       "      <td>Withdrawn</td>\n",
       "      <td>Interventional</td>\n",
       "      <td>No</td>\n",
       "      <td>Coronavirus Infections</td>\n",
       "      <td>March 2, 2020</td>\n",
       "      <td>March 24, 2020</td>\n",
       "      <td>Phase 2</td>\n",
       "      <td>0</td>\n",
       "      <td>15546092 15234326 31978945 32031570 32085846</td>\n",
       "      <td>...</td>\n",
       "      <td>18 Years</td>\n",
       "      <td>N/A</td>\n",
       "      <td>No</td>\n",
       "      <td>NaN</td>\n",
       "      <td>Randomized</td>\n",
       "      <td>Parallel Assignment</td>\n",
       "      <td>Treatment</td>\n",
       "      <td>None (Open Label)</td>\n",
       "      <td>A, Novel, Coronavirus, from, Patients, with, P...</td>\n",
       "      <td>5</td>\n",
       "    </tr>\n",
       "    <tr>\n",
       "      <th>NCT04290871</th>\n",
       "      <td>Xijing Hospital</td>\n",
       "      <td>Withdrawn</td>\n",
       "      <td>Interventional</td>\n",
       "      <td>No</td>\n",
       "      <td>Coronavirus</td>\n",
       "      <td>March 2, 2020</td>\n",
       "      <td>March 24, 2020</td>\n",
       "      <td>Phase 2</td>\n",
       "      <td>0</td>\n",
       "      <td>32031570 31978945 32085846 32105632 15546092 1...</td>\n",
       "      <td>...</td>\n",
       "      <td>18 Years</td>\n",
       "      <td>N/A</td>\n",
       "      <td>No</td>\n",
       "      <td>NaN</td>\n",
       "      <td>Randomized</td>\n",
       "      <td>Parallel Assignment</td>\n",
       "      <td>Treatment</td>\n",
       "      <td>Triple (Participant, Care Provider, Outcomes A...</td>\n",
       "      <td>A, Novel, Coronavirus, from, Patients, with, P...</td>\n",
       "      <td>6</td>\n",
       "    </tr>\n",
       "    <tr>\n",
       "      <th>NCT04354441</th>\n",
       "      <td>Sir Mortimer B. Davis - Jewish General Hospital</td>\n",
       "      <td>Withdrawn</td>\n",
       "      <td>Interventional</td>\n",
       "      <td>No</td>\n",
       "      <td>COVID-19</td>\n",
       "      <td>April 21, 2020</td>\n",
       "      <td>June 25, 2020</td>\n",
       "      <td>Phase 2</td>\n",
       "      <td>0</td>\n",
       "      <td>28561251 26244541 20367629 32151335 32145216 3...</td>\n",
       "      <td>...</td>\n",
       "      <td>18 Years</td>\n",
       "      <td>50 Years</td>\n",
       "      <td>No</td>\n",
       "      <td>NaN</td>\n",
       "      <td>Randomized</td>\n",
       "      <td>Parallel Assignment</td>\n",
       "      <td>Treatment</td>\n",
       "      <td>Quadruple (Participant, Care Provider, Investi...</td>\n",
       "      <td>Hydroxychloroquine, ,, a, less, toxic, derivat...</td>\n",
       "      <td>11</td>\n",
       "    </tr>\n",
       "  </tbody>\n",
       "</table>\n",
       "<p>5395 rows × 26 columns</p>\n",
       "</div>"
      ],
      "text/plain": [
       "                                                        source overall_status  \\\n",
       "nct_id                                                                          \n",
       "NCT00000113                             Stony Brook University      Completed   \n",
       "NCT00000125           Washington University School of Medicine      Completed   \n",
       "NCT00000129                       National Eye Institute (NEI)      Completed   \n",
       "NCT00000136    Johns Hopkins Bloomberg School of Public Health      Completed   \n",
       "NCT00000139                       National Eye Institute (NEI)      Completed   \n",
       "...                                                        ...            ...   \n",
       "NCT04242966  Clinical Evaluation Research Unit at Kingston ...      Withdrawn   \n",
       "NCT04287543               Instituto Mexicano del Seguro Social      Withdrawn   \n",
       "NCT04290858                                    Xijing Hospital      Withdrawn   \n",
       "NCT04290871                                    Xijing Hospital      Withdrawn   \n",
       "NCT04354441    Sir Mortimer B. Davis - Jewish General Hospital      Withdrawn   \n",
       "\n",
       "                 study_type has_expanded_access               condition  \\\n",
       "nct_id                                                                    \n",
       "NCT00000113  Interventional                  No                  Myopia   \n",
       "NCT00000125  Interventional                  No     Ocular Hypertension   \n",
       "NCT00000129  Interventional                  No                  Myopia   \n",
       "NCT00000136  Interventional                  No          HIV Infections   \n",
       "NCT00000139  Interventional                  No     Keratitis, Herpetic   \n",
       "...                     ...                 ...                     ...   \n",
       "NCT04242966  Interventional                  No        Critical Illness   \n",
       "NCT04287543  Interventional                  No       Parkinson Disease   \n",
       "NCT04290858  Interventional                  No  Coronavirus Infections   \n",
       "NCT04290871  Interventional                  No             Coronavirus   \n",
       "NCT04354441  Interventional                  No                COVID-19   \n",
       "\n",
       "             study_first_posted  last_update_posted            phase  \\\n",
       "nct_id                                                                 \n",
       "NCT00000113  September 24, 1999      April 15, 2016          Phase 3   \n",
       "NCT00000125  September 24, 1999        June 2, 2020          Phase 3   \n",
       "NCT00000129  September 24, 1999  September 17, 2009          Phase 3   \n",
       "NCT00000136  September 24, 1999    October 22, 2015          Phase 3   \n",
       "NCT00000139  September 24, 1999      March 24, 2010          Phase 3   \n",
       "...                         ...                 ...              ...   \n",
       "NCT04242966    January 27, 2020       June 18, 2020          Phase 3   \n",
       "NCT04287543   February 27, 2020      August 4, 2020  Phase 2/Phase 3   \n",
       "NCT04290858       March 2, 2020      March 24, 2020          Phase 2   \n",
       "NCT04290871       March 2, 2020      March 24, 2020          Phase 2   \n",
       "NCT04354441      April 21, 2020       June 25, 2020          Phase 2   \n",
       "\n",
       "            enrollment                                               PMID  \\\n",
       "nct_id                                                                      \n",
       "NCT00000113        469                         12657584 15223788 16009841   \n",
       "NCT00000125       1636  10326953 10980763 11024416 11581049 11755836 1...   \n",
       "NCT00000129        NaN  6338438 6380467 6638126 6486212 3872431 388512...   \n",
       "NCT00000136        234  1315661 8660161 8660169 8660168 9207349 926253...   \n",
       "NCT00000139        NaN                            8540857 9194719 9696640   \n",
       "...                ...                                                ...   \n",
       "NCT04242966          0  22811443 21705881 28388372 25781411 23991656 2...   \n",
       "NCT04287543          0  28332488 12657434 20460187 24235893 24687146 1...   \n",
       "NCT04290858          0       15546092 15234326 31978945 32031570 32085846   \n",
       "NCT04290871          0  32031570 31978945 32085846 32105632 15546092 1...   \n",
       "NCT04354441          0  28561251 26244541 20367629 32151335 32145216 3...   \n",
       "\n",
       "             ... minimum_age maximum_age healthy_volunteers        country  \\\n",
       "nct_id       ...                                                             \n",
       "NCT00000113  ...     6 Years    12 Years                 No  United States   \n",
       "NCT00000125  ...    40 Years    80 Years                 No            NaN   \n",
       "NCT00000129  ...    21 Years         N/A                 No            NaN   \n",
       "NCT00000136  ...    13 Years         N/A                 No            NaN   \n",
       "NCT00000139  ...    18 Years         N/A                 No  United States   \n",
       "...          ...         ...         ...                ...            ...   \n",
       "NCT04242966  ...    18 Years         N/A                 No            NaN   \n",
       "NCT04287543  ...    20 Years         N/A                 No         Mexico   \n",
       "NCT04290858  ...    18 Years         N/A                 No            NaN   \n",
       "NCT04290871  ...    18 Years         N/A                 No            NaN   \n",
       "NCT04354441  ...    18 Years    50 Years                 No            NaN   \n",
       "\n",
       "             allocation   intervention_model primary_purpose  \\\n",
       "nct_id                                                         \n",
       "NCT00000113  Randomized  Parallel Assignment       Treatment   \n",
       "NCT00000125  Randomized  Parallel Assignment      Prevention   \n",
       "NCT00000129  Randomized                  NaN       Treatment   \n",
       "NCT00000136  Randomized  Parallel Assignment       Treatment   \n",
       "NCT00000139  Randomized                  NaN       Treatment   \n",
       "...                 ...                  ...             ...   \n",
       "NCT04242966  Randomized  Parallel Assignment   Basic Science   \n",
       "NCT04287543  Randomized  Parallel Assignment       Treatment   \n",
       "NCT04290858  Randomized  Parallel Assignment       Treatment   \n",
       "NCT04290871  Randomized  Parallel Assignment       Treatment   \n",
       "NCT04354441  Randomized  Parallel Assignment       Treatment   \n",
       "\n",
       "                                                       masking  \\\n",
       "nct_id                                                           \n",
       "NCT00000113  Triple (Participant, Investigator, Outcomes As...   \n",
       "NCT00000125                                  None (Open Label)   \n",
       "NCT00000129                                                NaN   \n",
       "NCT00000136                         Single (Outcomes Assessor)   \n",
       "NCT00000139                                                NaN   \n",
       "...                                                        ...   \n",
       "NCT04242966                                  None (Open Label)   \n",
       "NCT04287543                 Double (Participant, Investigator)   \n",
       "NCT04290858                                  None (Open Label)   \n",
       "NCT04290871  Triple (Participant, Care Provider, Outcomes A...   \n",
       "NCT04354441  Quadruple (Participant, Care Provider, Investi...   \n",
       "\n",
       "                                                   PMID_tokens num_of_papers  \n",
       "nct_id                                                                        \n",
       "NCT00000113  Accommodation, and, Related, Risk, Factors, As...             3  \n",
       "NCT00000125  Asymmetries, and, Visual, Field, Summaries, as...            63  \n",
       "NCT00000129  British, Journal, of, Ophthalmology, ,, 1988, ...            32  \n",
       "NCT00000136  Mortality, in, Patients, with, the, Acquired, ...            13  \n",
       "NCT00000139  Acyclovir, for, the, Prevention, of, Recurrent...             3  \n",
       "...                                                        ...           ...  \n",
       "NCT04242966  Thrombus, Aspiration, during, ST-Segment, Elev...            70  \n",
       "NCT04287543  Sublethal, RNA, Oxidation, as, a, Mechanism, f...            40  \n",
       "NCT04290858  A, Novel, Coronavirus, from, Patients, with, P...             5  \n",
       "NCT04290871  A, Novel, Coronavirus, from, Patients, with, P...             6  \n",
       "NCT04354441  Hydroxychloroquine, ,, a, less, toxic, derivat...            11  \n",
       "\n",
       "[5395 rows x 26 columns]"
      ]
     },
     "execution_count": 12,
     "metadata": {},
     "output_type": "execute_result"
    }
   ],
   "source": [
    "org_df"
   ]
  },
  {
   "cell_type": "markdown",
   "metadata": {},
   "source": [
    "## Data Exploration\n",
    "\n",
    "Let's begin by splitting the dataset into it's training and testing set. We will also define the target variable. There are other columns that also need to be dropped."
   ]
  },
  {
   "cell_type": "code",
   "execution_count": 6,
   "metadata": {},
   "outputs": [],
   "source": [
    "X = org_df.drop(['success', 'phase', 'PMID', 'overall_status',\n",
    "             'study_first_posted', 'last_update_posted', 'study_type'], axis = 1)\n",
    "y = org_df['success']"
   ]
  },
  {
   "cell_type": "code",
   "execution_count": 7,
   "metadata": {},
   "outputs": [],
   "source": [
    "X_train, X_test, y_train, y_test = train_test_split(X, y, test_size = 0.33, shuffle = True, random_state = 26)"
   ]
  },
  {
   "cell_type": "markdown",
   "metadata": {},
   "source": [
    "All columns are considered objects. This needs to be addressed. We can infer from the column names what each column may contain. We can also look at the distribution of values in each column."
   ]
  },
  {
   "cell_type": "code",
   "execution_count": 8,
   "metadata": {},
   "outputs": [
    {
     "name": "stdout",
     "output_type": "stream",
     "text": [
      "<class 'pandas.core.frame.DataFrame'>\n",
      "Index: 3614 entries, NCT01720316 to NCT01428843\n",
      "Data columns (total 19 columns):\n",
      " #   Column                   Non-Null Count  Dtype \n",
      "---  ------                   --------------  ----- \n",
      " 0   source                   3614 non-null   object\n",
      " 1   has_expanded_access      3553 non-null   object\n",
      " 2   condition                3614 non-null   object\n",
      " 3   textblock                3614 non-null   object\n",
      " 4   intervention_type        3614 non-null   object\n",
      " 5   is_fda_regulated_drug    561 non-null    object\n",
      " 6   is_fda_regulated_device  554 non-null    object\n",
      " 7   intervention_name        3614 non-null   object\n",
      " 8   gender                   3614 non-null   object\n",
      " 9   minimum_age              3614 non-null   object\n",
      " 10  maximum_age              3614 non-null   object\n",
      " 11  healthy_volunteers       3606 non-null   object\n",
      " 12  country                  3415 non-null   object\n",
      " 13  allocation               3439 non-null   object\n",
      " 14  intervention_model       3398 non-null   object\n",
      " 15  primary_purpose          3551 non-null   object\n",
      " 16  masking                  3437 non-null   object\n",
      " 17  PMID_tokens              3614 non-null   object\n",
      " 18  num_of_papers            3614 non-null   int64 \n",
      "dtypes: int64(1), object(18)\n",
      "memory usage: 564.7+ KB\n"
     ]
    }
   ],
   "source": [
    "X_train.info()"
   ]
  },
  {
   "cell_type": "code",
   "execution_count": 20,
   "metadata": {},
   "outputs": [
    {
     "data": {
      "text/html": [
       "<div>\n",
       "<style scoped>\n",
       "    .dataframe tbody tr th:only-of-type {\n",
       "        vertical-align: middle;\n",
       "    }\n",
       "\n",
       "    .dataframe tbody tr th {\n",
       "        vertical-align: top;\n",
       "    }\n",
       "\n",
       "    .dataframe thead th {\n",
       "        text-align: right;\n",
       "    }\n",
       "</style>\n",
       "<table border=\"1\" class=\"dataframe\">\n",
       "  <thead>\n",
       "    <tr style=\"text-align: right;\">\n",
       "      <th></th>\n",
       "      <th>source</th>\n",
       "      <th>has_expanded_access</th>\n",
       "      <th>condition</th>\n",
       "      <th>enrollment</th>\n",
       "      <th>textblock</th>\n",
       "      <th>intervention_type</th>\n",
       "      <th>is_fda_regulated_drug</th>\n",
       "      <th>is_fda_regulated_device</th>\n",
       "      <th>intervention_name</th>\n",
       "      <th>gender</th>\n",
       "      <th>minimum_age</th>\n",
       "      <th>maximum_age</th>\n",
       "      <th>healthy_volunteers</th>\n",
       "      <th>country</th>\n",
       "      <th>allocation</th>\n",
       "      <th>intervention_model</th>\n",
       "      <th>primary_purpose</th>\n",
       "      <th>masking</th>\n",
       "      <th>PMID_tokens</th>\n",
       "      <th>num_of_papers</th>\n",
       "    </tr>\n",
       "    <tr>\n",
       "      <th>nct_id</th>\n",
       "      <th></th>\n",
       "      <th></th>\n",
       "      <th></th>\n",
       "      <th></th>\n",
       "      <th></th>\n",
       "      <th></th>\n",
       "      <th></th>\n",
       "      <th></th>\n",
       "      <th></th>\n",
       "      <th></th>\n",
       "      <th></th>\n",
       "      <th></th>\n",
       "      <th></th>\n",
       "      <th></th>\n",
       "      <th></th>\n",
       "      <th></th>\n",
       "      <th></th>\n",
       "      <th></th>\n",
       "      <th></th>\n",
       "      <th></th>\n",
       "    </tr>\n",
       "  </thead>\n",
       "  <tbody>\n",
       "    <tr>\n",
       "      <th>NCT01720316</th>\n",
       "      <td>Mclean Hospital</td>\n",
       "      <td>No</td>\n",
       "      <td>Schizo-affective Disorder</td>\n",
       "      <td>2</td>\n",
       "      <td>[\\n      The purpose of this study is to asses...</td>\n",
       "      <td>[Drug, Drug]</td>\n",
       "      <td>Yes</td>\n",
       "      <td>No</td>\n",
       "      <td>[Glycine, placebo]</td>\n",
       "      <td>All</td>\n",
       "      <td>18</td>\n",
       "      <td>65</td>\n",
       "      <td>No</td>\n",
       "      <td>United States</td>\n",
       "      <td>Randomized</td>\n",
       "      <td>Crossover Assignment</td>\n",
       "      <td>Treatment</td>\n",
       "      <td>Quadruple (Participant, Care Provider, Investi...</td>\n",
       "      <td>Untitled, Document, 1822, Am, J, Psychiatry, 1...</td>\n",
       "      <td>33</td>\n",
       "    </tr>\n",
       "    <tr>\n",
       "      <th>NCT00297258</th>\n",
       "      <td>GlaxoSmithKline</td>\n",
       "      <td>No</td>\n",
       "      <td>Sarcoma, Soft Tissue</td>\n",
       "      <td>148</td>\n",
       "      <td>[\\n      The purpose of this study is to evalu...</td>\n",
       "      <td>[Drug]</td>\n",
       "      <td>NaN</td>\n",
       "      <td>NaN</td>\n",
       "      <td>[pazopanib]</td>\n",
       "      <td>All</td>\n",
       "      <td>21</td>\n",
       "      <td>0</td>\n",
       "      <td>No</td>\n",
       "      <td>Belgium</td>\n",
       "      <td>Non-Randomized</td>\n",
       "      <td>Single Group Assignment</td>\n",
       "      <td>Treatment</td>\n",
       "      <td>None (Open Label)</td>\n",
       "      <td>Cytokine, and, angiogenic, factors, associated...</td>\n",
       "      <td>2</td>\n",
       "    </tr>\n",
       "    <tr>\n",
       "      <th>NCT01384149</th>\n",
       "      <td>Meir Medical Center</td>\n",
       "      <td>No</td>\n",
       "      <td>Primary Open Angle Glaucoma</td>\n",
       "      <td>32</td>\n",
       "      <td>[\\n      The purpose of this study is to evalu...</td>\n",
       "      <td>[Device, Device]</td>\n",
       "      <td>NaN</td>\n",
       "      <td>NaN</td>\n",
       "      <td>[external slt, standard slt]</td>\n",
       "      <td>All</td>\n",
       "      <td>40</td>\n",
       "      <td>0</td>\n",
       "      <td>No</td>\n",
       "      <td>Israel</td>\n",
       "      <td>Randomized</td>\n",
       "      <td>Parallel Assignment</td>\n",
       "      <td>Treatment</td>\n",
       "      <td>None (Open Label)</td>\n",
       "      <td>Early, Diagnosis, of, Ocular, Hypertension, Us...</td>\n",
       "      <td>11</td>\n",
       "    </tr>\n",
       "    <tr>\n",
       "      <th>NCT01267682</th>\n",
       "      <td>Penn State University</td>\n",
       "      <td>No</td>\n",
       "      <td>Delirium</td>\n",
       "      <td>283</td>\n",
       "      <td>[\\n      The purpose of this study is to test ...</td>\n",
       "      <td>[Behavioral]</td>\n",
       "      <td>NaN</td>\n",
       "      <td>NaN</td>\n",
       "      <td>[Cognitive Stimulation]</td>\n",
       "      <td>All</td>\n",
       "      <td>65</td>\n",
       "      <td>0</td>\n",
       "      <td>No</td>\n",
       "      <td>United States</td>\n",
       "      <td>Randomized</td>\n",
       "      <td>Parallel Assignment</td>\n",
       "      <td>Treatment</td>\n",
       "      <td>Single (Outcomes Assessor)</td>\n",
       "      <td>STUDY, PROTOCOL, Open, Access, Study, protocol...</td>\n",
       "      <td>11</td>\n",
       "    </tr>\n",
       "    <tr>\n",
       "      <th>NCT00331799</th>\n",
       "      <td>Duke University</td>\n",
       "      <td>No</td>\n",
       "      <td>Major Depressive Disorder</td>\n",
       "      <td>18</td>\n",
       "      <td>[\\n      The purpose of this study is to explo...</td>\n",
       "      <td>[Drug]</td>\n",
       "      <td>NaN</td>\n",
       "      <td>NaN</td>\n",
       "      <td>[Duloxetine]</td>\n",
       "      <td>All</td>\n",
       "      <td>18</td>\n",
       "      <td>65</td>\n",
       "      <td>No</td>\n",
       "      <td>United States</td>\n",
       "      <td>N/A</td>\n",
       "      <td>Single Group Assignment</td>\n",
       "      <td>Treatment</td>\n",
       "      <td>None (Open Label)</td>\n",
       "      <td>Article, 1702, Am, J, Psychiatry, 159:10, ,, O...</td>\n",
       "      <td>6</td>\n",
       "    </tr>\n",
       "  </tbody>\n",
       "</table>\n",
       "</div>"
      ],
      "text/plain": [
       "                            source has_expanded_access  \\\n",
       "nct_id                                                   \n",
       "NCT01720316        Mclean Hospital                  No   \n",
       "NCT00297258        GlaxoSmithKline                  No   \n",
       "NCT01384149    Meir Medical Center                  No   \n",
       "NCT01267682  Penn State University                  No   \n",
       "NCT00331799        Duke University                  No   \n",
       "\n",
       "                               condition  enrollment  \\\n",
       "nct_id                                                 \n",
       "NCT01720316    Schizo-affective Disorder           2   \n",
       "NCT00297258         Sarcoma, Soft Tissue         148   \n",
       "NCT01384149  Primary Open Angle Glaucoma          32   \n",
       "NCT01267682                     Delirium         283   \n",
       "NCT00331799    Major Depressive Disorder          18   \n",
       "\n",
       "                                                     textblock  \\\n",
       "nct_id                                                           \n",
       "NCT01720316  [\\n      The purpose of this study is to asses...   \n",
       "NCT00297258  [\\n      The purpose of this study is to evalu...   \n",
       "NCT01384149  [\\n      The purpose of this study is to evalu...   \n",
       "NCT01267682  [\\n      The purpose of this study is to test ...   \n",
       "NCT00331799  [\\n      The purpose of this study is to explo...   \n",
       "\n",
       "            intervention_type is_fda_regulated_drug is_fda_regulated_device  \\\n",
       "nct_id                                                                        \n",
       "NCT01720316      [Drug, Drug]                   Yes                      No   \n",
       "NCT00297258            [Drug]                   NaN                     NaN   \n",
       "NCT01384149  [Device, Device]                   NaN                     NaN   \n",
       "NCT01267682      [Behavioral]                   NaN                     NaN   \n",
       "NCT00331799            [Drug]                   NaN                     NaN   \n",
       "\n",
       "                        intervention_name gender  minimum_age  maximum_age  \\\n",
       "nct_id                                                                       \n",
       "NCT01720316            [Glycine, placebo]    All           18           65   \n",
       "NCT00297258                   [pazopanib]    All           21            0   \n",
       "NCT01384149  [external slt, standard slt]    All           40            0   \n",
       "NCT01267682       [Cognitive Stimulation]    All           65            0   \n",
       "NCT00331799                  [Duloxetine]    All           18           65   \n",
       "\n",
       "            healthy_volunteers        country      allocation  \\\n",
       "nct_id                                                          \n",
       "NCT01720316                 No  United States      Randomized   \n",
       "NCT00297258                 No        Belgium  Non-Randomized   \n",
       "NCT01384149                 No         Israel      Randomized   \n",
       "NCT01267682                 No  United States      Randomized   \n",
       "NCT00331799                 No  United States             N/A   \n",
       "\n",
       "                  intervention_model primary_purpose  \\\n",
       "nct_id                                                 \n",
       "NCT01720316     Crossover Assignment       Treatment   \n",
       "NCT00297258  Single Group Assignment       Treatment   \n",
       "NCT01384149      Parallel Assignment       Treatment   \n",
       "NCT01267682      Parallel Assignment       Treatment   \n",
       "NCT00331799  Single Group Assignment       Treatment   \n",
       "\n",
       "                                                       masking  \\\n",
       "nct_id                                                           \n",
       "NCT01720316  Quadruple (Participant, Care Provider, Investi...   \n",
       "NCT00297258                                  None (Open Label)   \n",
       "NCT01384149                                  None (Open Label)   \n",
       "NCT01267682                         Single (Outcomes Assessor)   \n",
       "NCT00331799                                  None (Open Label)   \n",
       "\n",
       "                                                   PMID_tokens  num_of_papers  \n",
       "nct_id                                                                         \n",
       "NCT01720316  Untitled, Document, 1822, Am, J, Psychiatry, 1...             33  \n",
       "NCT00297258  Cytokine, and, angiogenic, factors, associated...              2  \n",
       "NCT01384149  Early, Diagnosis, of, Ocular, Hypertension, Us...             11  \n",
       "NCT01267682  STUDY, PROTOCOL, Open, Access, Study, protocol...             11  \n",
       "NCT00331799  Article, 1702, Am, J, Psychiatry, 159:10, ,, O...              6  "
      ]
     },
     "execution_count": 20,
     "metadata": {},
     "output_type": "execute_result"
    }
   ],
   "source": [
    "X_train.head()"
   ]
  },
  {
   "cell_type": "markdown",
   "metadata": {},
   "source": [
    "There are several missing values to deal with. Most columns are listed as object which seems incorrect. We will deal with this so we can explore the data more clearly."
   ]
  },
  {
   "cell_type": "code",
   "execution_count": 9,
   "metadata": {},
   "outputs": [],
   "source": [
    "def change_age(ages):\n",
    "    lis = []\n",
    "    n = str(ages).split(' ')\n",
    "    if len(n) < 2:\n",
    "        return 0   \n",
    "    elif n[1] == 'Months' or n[1] == 'Month':\n",
    "        return (1/12) * int(n[0])   \n",
    "    elif n[1] == 'Years' or n[1] == 'Year':\n",
    "        return n[0]\n",
    "    elif n[1] == 'Days' or n[1] == 'Day':\n",
    "        return (1/365) * int(n[0])\n",
    "    elif n[1] == 'Weeks' or n[1] == 'Week':\n",
    "        return (1/52) * int(n[0])\n",
    "    elif n[1] == 'Hours' or n[1] == 'Hour':\n",
    "        return (1/8760) * int(n[0])\n",
    "    elif n[1] == 'Minutes' or n[1] == 'Minute':\n",
    "        return(1/525600) * int(n[0])"
   ]
  },
  {
   "cell_type": "code",
   "execution_count": 10,
   "metadata": {},
   "outputs": [
    {
     "name": "stderr",
     "output_type": "stream",
     "text": [
      "C:\\Users\\Public\\Anaconda3\\lib\\site-packages\\pandas\\core\\indexing.py:1743: SettingWithCopyWarning: \n",
      "A value is trying to be set on a copy of a slice from a DataFrame.\n",
      "Try using .loc[row_indexer,col_indexer] = value instead\n",
      "\n",
      "See the caveats in the documentation: https://pandas.pydata.org/pandas-docs/stable/user_guide/indexing.html#returning-a-view-versus-a-copy\n",
      "  isetter(ilocs[0], value)\n"
     ]
    }
   ],
   "source": [
    "#correctly label columns as a category\n",
    "X_train.loc[:, 'intervention_model'] = X_train.loc[:,'intervention_model'].astype('category')\n",
    "X_train.loc[:, 'healthy_volunteers'] = X_train.loc[:, 'healthy_volunteers'].astype('category')\n",
    "X_train.loc[:, 'masking'] = X_train.loc[:, 'masking'].astype('category')\n",
    "X_train.loc[:, 'primary_purpose'] = X_train.loc[:, 'primary_purpose'].astype('category')\n",
    "X_train.loc[:, 'allocation'] = X_train.loc[:, 'allocation'].astype('category')\n",
    "X_train.loc[:, 'gender'] = X_train.loc[:, 'gender'].astype('category')\n",
    "X_train.loc[:, 'is_fda_regulated_drug'] = X_train.loc[:, 'is_fda_regulated_drug'].astype('category')\n",
    "X_train.loc[:, 'is_fda_regulated_device'] = X_train.loc[:, 'is_fda_regulated_device'].astype('category')\n",
    "X_train.loc[:, 'has_expanded_access'] = X_train.loc[:, 'has_expanded_access'].astype('category')\n",
    "X_train.loc[:,'country'] = X_train.loc[:, 'country'].astype('category')\n",
    "#enrollment_mean = X_train[X_train.loc[:, 'enrollment'].notnull()].loc[:, 'enrollment'].astype(int).median()\n",
    "#X_train.loc[:, 'enrollment'].fillna(enrollment_mean, inplace = True)\n",
    "\n",
    "#correctly label columns as int\n",
    "X_train.loc[:,'minimum_age'] = X_train.loc[:, 'minimum_age'].map(change_age)\n",
    "X_train.loc[:, 'maximum_age'] = X_train.loc[:, 'maximum_age'].map(change_age)\n",
    "X_train.loc[:, 'maximum_age'] = X_train.loc[:, 'maximum_age'].astype(int)\n",
    "X_train.loc[:, 'minimum_age'] = X_train.loc[:, 'minimum_age'].astype(int)"
   ]
  },
  {
   "cell_type": "markdown",
   "metadata": {},
   "source": [
    "We've converted the columns into their necessary datatypes. The clinical trials website illustrates the datatype that is used for each column. Next we should take deeper look at each column to better understand the distribution of the columns and to see the necessary steps to take when filling in missing values."
   ]
  },
  {
   "cell_type": "code",
   "execution_count": 22,
   "metadata": {},
   "outputs": [
    {
     "name": "stdout",
     "output_type": "stream",
     "text": [
      "<class 'pandas.core.frame.DataFrame'>\n",
      "Index: 3614 entries, NCT01720316 to NCT01428843\n",
      "Data columns (total 20 columns):\n",
      " #   Column                   Non-Null Count  Dtype   \n",
      "---  ------                   --------------  -----   \n",
      " 0   source                   3614 non-null   object  \n",
      " 1   has_expanded_access      3553 non-null   category\n",
      " 2   condition                3614 non-null   object  \n",
      " 3   enrollment               3614 non-null   int32   \n",
      " 4   textblock                3614 non-null   object  \n",
      " 5   intervention_type        3614 non-null   object  \n",
      " 6   is_fda_regulated_drug    561 non-null    category\n",
      " 7   is_fda_regulated_device  554 non-null    category\n",
      " 8   intervention_name        3614 non-null   object  \n",
      " 9   gender                   3614 non-null   category\n",
      " 10  minimum_age              3614 non-null   int32   \n",
      " 11  maximum_age              3614 non-null   int32   \n",
      " 12  healthy_volunteers       3606 non-null   category\n",
      " 13  country                  3415 non-null   category\n",
      " 14  allocation               3439 non-null   category\n",
      " 15  intervention_model       3398 non-null   category\n",
      " 16  primary_purpose          3551 non-null   category\n",
      " 17  masking                  3437 non-null   category\n",
      " 18  PMID_tokens              3614 non-null   object  \n",
      " 19  num_of_papers            3614 non-null   int64   \n",
      "dtypes: category(10), int32(3), int64(1), object(6)\n",
      "memory usage: 311.2+ KB\n"
     ]
    }
   ],
   "source": [
    "X_train.info()"
   ]
  },
  {
   "cell_type": "code",
   "execution_count": 112,
   "metadata": {},
   "outputs": [
    {
     "data": {
      "text/plain": [
       "<matplotlib.axes._subplots.AxesSubplot at 0x1adf05e7f08>"
      ]
     },
     "execution_count": 112,
     "metadata": {},
     "output_type": "execute_result"
    },
    {
     "data": {
      "image/png": "[encoded data removed]",
      "text/plain": [
       "<Figure size 432x288 with 1 Axes>"
      ]
     },
     "metadata": {
      "needs_background": "light"
     },
     "output_type": "display_data"
    }
   ],
   "source": [
    "sns.distplot(X_train['minimum_age'])"
   ]
  },
  {
   "cell_type": "code",
   "execution_count": 121,
   "metadata": {},
   "outputs": [
    {
     "data": {
      "text/plain": [
       "<matplotlib.axes._subplots.AxesSubplot at 0x1adf1304c48>"
      ]
     },
     "execution_count": 121,
     "metadata": {},
     "output_type": "execute_result"
    },
    {
     "data": {
      "image/png": "[encoded data removed]",
      "text/plain": [
       "<Figure size 432x288 with 1 Axes>"
      ]
     },
     "metadata": {
      "needs_background": "light"
     },
     "output_type": "display_data"
    }
   ],
   "source": [
    "min_age = power_transform(X_train['minimum_age'])\n",
    "sns.distplot(min_age)"
   ]
  },
  {
   "cell_type": "code",
   "execution_count": 124,
   "metadata": {},
   "outputs": [
    {
     "data": {
      "text/plain": [
       "<matplotlib.axes._subplots.AxesSubplot at 0x1adf03899c8>"
      ]
     },
     "execution_count": 124,
     "metadata": {},
     "output_type": "execute_result"
    },
    {
     "data": {
      "image/png": "[encoded data removed]",
      "text/plain": [
       "<Figure size 432x288 with 1 Axes>"
      ]
     },
     "metadata": {
      "needs_background": "light"
     },
     "output_type": "display_data"
    }
   ],
   "source": [
    "sns.distplot(X_train['maximum_age'])"
   ]
  },
  {
   "cell_type": "code",
   "execution_count": 126,
   "metadata": {},
   "outputs": [
    {
     "data": {
      "text/plain": [
       "<matplotlib.axes._subplots.AxesSubplot at 0x1adf114ae48>"
      ]
     },
     "execution_count": 126,
     "metadata": {},
     "output_type": "execute_result"
    },
    {
     "data": {
      "image/png": "[encoded data removed]",
      "text/plain": [
       "<Figure size 432x288 with 1 Axes>"
      ]
     },
     "metadata": {
      "needs_background": "light"
     },
     "output_type": "display_data"
    }
   ],
   "source": [
    "max_age = power_transform(X_train['maximum_age'])\n",
    "sns.distplot(max_age)"
   ]
  },
  {
   "cell_type": "code",
   "execution_count": 91,
   "metadata": {},
   "outputs": [
    {
     "data": {
      "text/plain": [
       "<matplotlib.axes._subplots.AxesSubplot at 0x1adf0929fc8>"
      ]
     },
     "execution_count": 91,
     "metadata": {},
     "output_type": "execute_result"
    },
    {
     "data": {
      "image/png": "[encoded data removed]",
      "text/plain": [
       "<Figure size 576x432 with 1 Axes>"
      ]
     },
     "metadata": {
      "needs_background": "light"
     },
     "output_type": "display_data"
    }
   ],
   "source": [
    "plt.figure(figsize=(8,6))\n",
    "sns.distplot(X_train['minimum_age'])"
   ]
  },
  {
   "cell_type": "code",
   "execution_count": 129,
   "metadata": {},
   "outputs": [
    {
     "data": {
      "text/plain": [
       "<matplotlib.axes._subplots.AxesSubplot at 0x1adf12eec48>"
      ]
     },
     "execution_count": 129,
     "metadata": {},
     "output_type": "execute_result"
    },
    {
     "data": {
      "image/png": "[encoded data removed]",
      "text/plain": [
       "<Figure size 432x288 with 1 Axes>"
      ]
     },
     "metadata": {
      "needs_background": "light"
     },
     "output_type": "display_data"
    }
   ],
   "source": [
    "sns.distplot(X_train['Num_of_papers'])"
   ]
  },
  {
   "cell_type": "code",
   "execution_count": 194,
   "metadata": {},
   "outputs": [
    {
     "data": {
      "text/html": [
       "<div>\n",
       "<style scoped>\n",
       "    .dataframe tbody tr th:only-of-type {\n",
       "        vertical-align: middle;\n",
       "    }\n",
       "\n",
       "    .dataframe tbody tr th {\n",
       "        vertical-align: top;\n",
       "    }\n",
       "\n",
       "    .dataframe thead th {\n",
       "        text-align: right;\n",
       "    }\n",
       "</style>\n",
       "<table border=\"1\" class=\"dataframe\">\n",
       "  <thead>\n",
       "    <tr style=\"text-align: right;\">\n",
       "      <th></th>\n",
       "      <th>minimum_age</th>\n",
       "      <th>maximum_age</th>\n",
       "      <th>num_of_papers</th>\n",
       "    </tr>\n",
       "  </thead>\n",
       "  <tbody>\n",
       "    <tr>\n",
       "      <th>count</th>\n",
       "      <td>3614.000000</td>\n",
       "      <td>3614.000000</td>\n",
       "      <td>3614.000000</td>\n",
       "    </tr>\n",
       "    <tr>\n",
       "      <th>mean</th>\n",
       "      <td>18.254012</td>\n",
       "      <td>32.063641</td>\n",
       "      <td>9.190371</td>\n",
       "    </tr>\n",
       "    <tr>\n",
       "      <th>std</th>\n",
       "      <td>11.902417</td>\n",
       "      <td>35.218536</td>\n",
       "      <td>13.323635</td>\n",
       "    </tr>\n",
       "    <tr>\n",
       "      <th>min</th>\n",
       "      <td>0.000000</td>\n",
       "      <td>0.000000</td>\n",
       "      <td>1.000000</td>\n",
       "    </tr>\n",
       "    <tr>\n",
       "      <th>25%</th>\n",
       "      <td>18.000000</td>\n",
       "      <td>0.000000</td>\n",
       "      <td>2.000000</td>\n",
       "    </tr>\n",
       "    <tr>\n",
       "      <th>50%</th>\n",
       "      <td>18.000000</td>\n",
       "      <td>14.000000</td>\n",
       "      <td>4.000000</td>\n",
       "    </tr>\n",
       "    <tr>\n",
       "      <th>75%</th>\n",
       "      <td>18.000000</td>\n",
       "      <td>65.000000</td>\n",
       "      <td>11.000000</td>\n",
       "    </tr>\n",
       "    <tr>\n",
       "      <th>max</th>\n",
       "      <td>75.000000</td>\n",
       "      <td>130.000000</td>\n",
       "      <td>199.000000</td>\n",
       "    </tr>\n",
       "  </tbody>\n",
       "</table>\n",
       "</div>"
      ],
      "text/plain": [
       "       minimum_age  maximum_age  num_of_papers\n",
       "count  3614.000000  3614.000000    3614.000000\n",
       "mean     18.254012    32.063641       9.190371\n",
       "std      11.902417    35.218536      13.323635\n",
       "min       0.000000     0.000000       1.000000\n",
       "25%      18.000000     0.000000       2.000000\n",
       "50%      18.000000    14.000000       4.000000\n",
       "75%      18.000000    65.000000      11.000000\n",
       "max      75.000000   130.000000     199.000000"
      ]
     },
     "execution_count": 194,
     "metadata": {},
     "output_type": "execute_result"
    }
   ],
   "source": [
    "X_train.select_dtypes('number').describe()"
   ]
  },
  {
   "cell_type": "code",
   "execution_count": 137,
   "metadata": {},
   "outputs": [
    {
     "data": {
      "text/plain": [
       "<matplotlib.axes._subplots.AxesSubplot at 0x1adf1e28fc8>"
      ]
     },
     "execution_count": 137,
     "metadata": {},
     "output_type": "execute_result"
    },
    {
     "data": {
      "image/png": "[encoded data removed]",
      "text/plain": [
       "<Figure size 432x288 with 1 Axes>"
      ]
     },
     "metadata": {
      "needs_background": "light"
     },
     "output_type": "display_data"
    }
   ],
   "source": [
    "sns.distplot(np.log(X_train['num_of_papers']))"
   ]
  },
  {
   "cell_type": "code",
   "execution_count": 144,
   "metadata": {},
   "outputs": [],
   "source": [
    "from sklearn.preprocessing import QuantileTransformer\n",
    "def power_transform(column):\n",
    "    power = PowerTransformer()\n",
    "    col_trans = column.to_numpy()\n",
    "    col_trans = col_trans.reshape(len(col_trans), 1)\n",
    "    col_trans = power.fit_transform(col_trans)\n",
    "    return col_trans"
   ]
  },
  {
   "cell_type": "code",
   "execution_count": 145,
   "metadata": {},
   "outputs": [
    {
     "data": {
      "text/plain": [
       "<matplotlib.axes._subplots.AxesSubplot at 0x1adf1fcb708>"
      ]
     },
     "execution_count": 145,
     "metadata": {},
     "output_type": "execute_result"
    },
    {
     "data": {
      "image/png": "[encoded data removed]",
      "text/plain": [
       "<Figure size 432x288 with 1 Axes>"
      ]
     },
     "metadata": {
      "needs_background": "light"
     },
     "output_type": "display_data"
    }
   ],
   "source": [
    "num_citations = power_transform(X_train['Num of citations'])\n",
    "sns.distplot(num_citations)"
   ]
  },
  {
   "cell_type": "code",
   "execution_count": 186,
   "metadata": {},
   "outputs": [
    {
     "data": {
      "text/plain": [
       "No     542\n",
       "Yes     12\n",
       "Name: is_fda_regulated_device, dtype: int64"
      ]
     },
     "execution_count": 186,
     "metadata": {},
     "output_type": "execute_result"
    }
   ],
   "source": [
    "X_train['is_fda_regulated_device'].value_counts()"
   ]
  },
  {
   "cell_type": "code",
   "execution_count": 188,
   "metadata": {},
   "outputs": [
    {
     "data": {
      "text/plain": [
       "Yes    292\n",
       "No     269\n",
       "Name: is_fda_regulated_drug, dtype: int64"
      ]
     },
     "execution_count": 188,
     "metadata": {},
     "output_type": "execute_result"
    }
   ],
   "source": [
    "X_train['is_fda_regulated_drug'].value_counts()"
   ]
  },
  {
   "cell_type": "code",
   "execution_count": 190,
   "metadata": {},
   "outputs": [
    {
     "name": "stdout",
     "output_type": "stream",
     "text": [
      "All       3192\n",
      "Female     264\n",
      "Male       158\n",
      "Name: gender, dtype: int64\n"
     ]
    }
   ],
   "source": [
    "X_train['gender'].value_counts()"
   ]
  },
  {
   "cell_type": "code",
   "execution_count": 194,
   "metadata": {},
   "outputs": [
    {
     "data": {
      "text/plain": [
       "United States         1730\n",
       "Canada                 139\n",
       "France                 118\n",
       "Germany                117\n",
       "Italy                  103\n",
       "                      ... \n",
       "Estonia                  1\n",
       "El Salvador              1\n",
       "Dominican Republic       1\n",
       "Côte D'Ivoire            1\n",
       "Albania                  1\n",
       "Name: country, Length: 103, dtype: int64"
      ]
     },
     "execution_count": 194,
     "metadata": {},
     "output_type": "execute_result"
    }
   ],
   "source": [
    "X_train['country'].value_counts()"
   ]
  },
  {
   "cell_type": "code",
   "execution_count": 195,
   "metadata": {},
   "outputs": [
    {
     "data": {
      "text/plain": [
       "Randomized        2427\n",
       "N/A                593\n",
       "Non-Randomized     419\n",
       "Name: allocation, dtype: int64"
      ]
     },
     "execution_count": 195,
     "metadata": {},
     "output_type": "execute_result"
    }
   ],
   "source": [
    "X_train['allocation'].value_counts()"
   ]
  },
  {
   "cell_type": "code",
   "execution_count": 196,
   "metadata": {},
   "outputs": [
    {
     "data": {
      "text/plain": [
       "Parallel Assignment        2114\n",
       "Single Group Assignment     892\n",
       "Crossover Assignment        279\n",
       "Factorial Assignment         79\n",
       "Sequential Assignment        34\n",
       "Name: intervention_model, dtype: int64"
      ]
     },
     "execution_count": 196,
     "metadata": {},
     "output_type": "execute_result"
    }
   ],
   "source": [
    "X_train['intervention_model'].value_counts()"
   ]
  },
  {
   "cell_type": "code",
   "execution_count": 197,
   "metadata": {},
   "outputs": [
    {
     "data": {
      "text/plain": [
       "Treatment                          2699\n",
       "Prevention                          489\n",
       "Diagnostic                          103\n",
       "Basic Science                        96\n",
       "Supportive Care                      76\n",
       "Other                                53\n",
       "Health Services Research             24\n",
       "Screening                            10\n",
       "Educational/Counseling/Training       1\n",
       "Name: primary_purpose, dtype: int64"
      ]
     },
     "execution_count": 197,
     "metadata": {},
     "output_type": "execute_result"
    }
   ],
   "source": [
    "X_train['primary_purpose'].value_counts()"
   ]
  },
  {
   "cell_type": "code",
   "execution_count": 198,
   "metadata": {},
   "outputs": [
    {
     "data": {
      "text/plain": [
       "None (Open Label)                                                          1712\n",
       "Quadruple (Participant, Care Provider, Investigator, Outcomes Assessor)     554\n",
       "Double (Participant, Investigator)                                          290\n",
       "Triple (Participant, Care Provider, Investigator)                           161\n",
       "Single (Outcomes Assessor)                                                  134\n",
       "Double                                                                      123\n",
       "Single (Participant)                                                        116\n",
       "Triple (Participant, Investigator, Outcomes Assessor)                       111\n",
       "Double (Participant, Outcomes Assessor)                                      52\n",
       "Single (Investigator)                                                        49\n",
       "Double (Participant, Care Provider)                                          47\n",
       "Triple (Participant, Care Provider, Outcomes Assessor)                       29\n",
       "Single                                                                       18\n",
       "Double (Investigator, Outcomes Assessor)                                     14\n",
       "Triple (Care Provider, Investigator, Outcomes Assessor)                      11\n",
       "Double (Care Provider, Investigator)                                          8\n",
       "Single (Care Provider)                                                        5\n",
       "Double (Care Provider, Outcomes Assessor)                                     3\n",
       "Name: masking, dtype: int64"
      ]
     },
     "execution_count": 198,
     "metadata": {},
     "output_type": "execute_result"
    }
   ],
   "source": [
    "X_train['masking'].value_counts()"
   ]
  },
  {
   "cell_type": "markdown",
   "metadata": {},
   "source": [
    "Take a look at the target variable. The amount of successful trials is under represented. This will effect our precision and recall. We can look to apply methods to synthetically increase the smaller class."
   ]
  },
  {
   "cell_type": "code",
   "execution_count": 85,
   "metadata": {},
   "outputs": [
    {
     "data": {
      "image/png": "[encoded data removed]",
      "text/plain": [
       "<Figure size 720x504 with 1 Axes>"
      ]
     },
     "metadata": {},
     "output_type": "display_data"
    }
   ],
   "source": [
    "sns.set()\n",
    "\n",
    "plt.plot(figsize = (10,10))\n",
    "y.value_counts().plot(kind = 'bar', figsize = (10,7))\n",
    "plt.title\n",
    "plt.title('Successful or Unsuccessful Trial', fontsize = 20);"
   ]
  },
  {
   "cell_type": "markdown",
   "metadata": {},
   "source": [
    "## Data Cleaning\n",
    "\n",
    "For the categorical variables we will one hot encode them. Categorical variables must be represented in a numerical format. This will also increase the complexity and dimensionality of the dataset."
   ]
  },
  {
   "cell_type": "code",
   "execution_count": 11,
   "metadata": {},
   "outputs": [
    {
     "name": "stderr",
     "output_type": "stream",
     "text": [
      "C:\\Users\\Public\\Anaconda3\\lib\\site-packages\\pandas\\core\\series.py:4535: SettingWithCopyWarning: \n",
      "A value is trying to be set on a copy of a slice from a DataFrame\n",
      "\n",
      "See the caveats in the documentation: https://pandas.pydata.org/pandas-docs/stable/user_guide/indexing.html#returning-a-view-versus-a-copy\n",
      "  downcast=downcast,\n"
     ]
    }
   ],
   "source": [
    "#df['intervention_model'].fillna(df['intervention_model'].mode())\n",
    "X_train.loc[:, 'intervention_model'].fillna(X_train['intervention_model'].mode()[0], inplace = True)\n",
    "X_train.loc[:, 'healthy_volunteers'].fillna(X_train['healthy_volunteers'].mode()[0], inplace = True)\n",
    "X_train.loc[:, 'masking'].fillna(X_train['masking'].mode()[0], inplace = True)\n",
    "X_train.loc[:, 'primary_purpose'].fillna(X_train['primary_purpose'].mode()[0], inplace = True)\n",
    "X_train.loc[:, 'allocation'].fillna(X_train['allocation'].mode()[0], inplace = True)\n",
    "X_train.loc[:, 'country'].fillna(X_train['country'].mode()[0], inplace = True)\n",
    "X_train.loc[:, 'gender'].fillna(X_train['gender'].mode()[0], inplace = True)\n",
    "X_train.loc[:, 'has_expanded_access'].fillna('No', inplace = True)\n",
    "X_train.loc[:, 'is_fda_regulated_drug'].fillna(X_train['is_fda_regulated_drug'].mode()[0], inplace = True)\n",
    "X_train.loc[:, 'is_fda_regulated_device'].fillna(X_train['is_fda_regulated_device'].mode()[0], inplace = True)"
   ]
  },
  {
   "cell_type": "code",
   "execution_count": 81,
   "metadata": {},
   "outputs": [
    {
     "name": "stdout",
     "output_type": "stream",
     "text": [
      "<class 'pandas.core.frame.DataFrame'>\n",
      "Index: 3614 entries, NCT01720316 to NCT01428843\n",
      "Data columns (total 19 columns):\n",
      " #   Column                   Non-Null Count  Dtype   \n",
      "---  ------                   --------------  -----   \n",
      " 0   source                   3614 non-null   object  \n",
      " 1   has_expanded_access      3614 non-null   category\n",
      " 2   condition                3614 non-null   object  \n",
      " 3   textblock                3614 non-null   object  \n",
      " 4   intervention_type        3614 non-null   object  \n",
      " 5   is_fda_regulated_drug    3614 non-null   category\n",
      " 6   is_fda_regulated_device  3614 non-null   category\n",
      " 7   intervention_name        3614 non-null   object  \n",
      " 8   gender                   3614 non-null   category\n",
      " 9   minimum_age              3614 non-null   int32   \n",
      " 10  maximum_age              3614 non-null   int32   \n",
      " 11  healthy_volunteers       3614 non-null   category\n",
      " 12  country                  3614 non-null   category\n",
      " 13  allocation               3614 non-null   category\n",
      " 14  intervention_model       3614 non-null   category\n",
      " 15  primary_purpose          3614 non-null   category\n",
      " 16  masking                  3614 non-null   category\n",
      " 17  PMID_tokens              3614 non-null   object  \n",
      " 18  num_of_papers            3614 non-null   int64   \n",
      "dtypes: category(10), int32(2), int64(1), object(6)\n",
      "memory usage: 297.1+ KB\n"
     ]
    }
   ],
   "source": [
    "X_train.info()"
   ]
  },
  {
   "cell_type": "code",
   "execution_count": 82,
   "metadata": {},
   "outputs": [
    {
     "name": "stdout",
     "output_type": "stream",
     "text": [
      "<class 'pandas.core.frame.DataFrame'>\n",
      "Index: 1781 entries, NCT02627131 to NCT00486044\n",
      "Data columns (total 19 columns):\n",
      " #   Column                   Non-Null Count  Dtype   \n",
      "---  ------                   --------------  -----   \n",
      " 0   source                   1781 non-null   object  \n",
      " 1   has_expanded_access      1781 non-null   category\n",
      " 2   condition                1781 non-null   object  \n",
      " 3   textblock                1781 non-null   object  \n",
      " 4   intervention_type        1781 non-null   object  \n",
      " 5   is_fda_regulated_drug    1781 non-null   category\n",
      " 6   is_fda_regulated_device  1781 non-null   category\n",
      " 7   intervention_name        1781 non-null   object  \n",
      " 8   gender                   1781 non-null   category\n",
      " 9   minimum_age              1781 non-null   object  \n",
      " 10  maximum_age              1781 non-null   object  \n",
      " 11  healthy_volunteers       1781 non-null   category\n",
      " 12  country                  1781 non-null   category\n",
      " 13  allocation               1781 non-null   category\n",
      " 14  intervention_model       1781 non-null   category\n",
      " 15  primary_purpose          1781 non-null   category\n",
      " 16  masking                  1781 non-null   category\n",
      " 17  PMID_tokens              1781 non-null   object  \n",
      " 18  num_of_papers            1781 non-null   int64   \n",
      "dtypes: category(10), int64(1), object(8)\n",
      "memory usage: 161.6+ KB\n"
     ]
    }
   ],
   "source": []
  },
  {
   "cell_type": "code",
   "execution_count": 107,
   "metadata": {},
   "outputs": [],
   "source": [
    "categorical_columns = X_train.select_dtypes('category').columns\n",
    "\n",
    "X_train_cat = pd.get_dummies(X_train, columns = categorical_columns)"
   ]
  },
  {
   "cell_type": "code",
   "execution_count": 12,
   "metadata": {},
   "outputs": [],
   "source": [
    "X_test.loc[:, 'intervention_model'] = X_test.loc[:,'intervention_model'].astype('category')\n",
    "X_test.loc[:, 'healthy_volunteers'] = X_test.loc[:, 'healthy_volunteers'].astype('category')\n",
    "X_test.loc[:, 'masking'] = X_test.loc[:, 'masking'].astype('category')\n",
    "X_test.loc[:, 'primary_purpose'] = X_test.loc[:, 'primary_purpose'].astype('category')\n",
    "X_test.loc[:, 'allocation'] = X_test.loc[:, 'allocation'].astype('category')\n",
    "X_test.loc[:, 'gender'] = X_test.loc[:, 'gender'].astype('category')\n",
    "X_test.loc[:, 'is_fda_regulated_drug'] = X_test.loc[:, 'is_fda_regulated_drug'].astype('category')\n",
    "X_test.loc[:, 'is_fda_regulated_device'] = X_test.loc[:, 'is_fda_regulated_device'].astype('category')\n",
    "X_test.loc[:, 'has_expanded_access'] = X_test.loc[:, 'has_expanded_access'].astype('category')\n",
    "X_test.loc[:,'country'] = X_test.loc[:, 'country'].astype('category')"
   ]
  },
  {
   "cell_type": "code",
   "execution_count": 13,
   "metadata": {},
   "outputs": [],
   "source": [
    "X_test.loc[:, 'intervention_model'].fillna(X_train['intervention_model'].mode()[0], inplace = True)\n",
    "X_test.loc[:, 'healthy_volunteers'].fillna(X_train['healthy_volunteers'].mode()[0], inplace = True)\n",
    "X_test.loc[:,'masking'].fillna(X_train['masking'].mode()[0], inplace = True)\n",
    "X_test.loc[:,'primary_purpose'].fillna(X_train['primary_purpose'].mode()[0], inplace = True)\n",
    "X_test.loc[:, 'allocation'].fillna(X_train['allocation'].mode()[0], inplace = True)\n",
    "X_test.loc[:, 'country'].fillna(X_train['country'].mode()[0], inplace = True)\n",
    "X_test.loc[:, 'gender'].fillna(X_train['gender'].mode()[0], inplace = True)\n",
    "X_test.loc[:, 'has_expanded_access'].fillna('No', inplace = True)\n",
    "X_test.loc[:, 'is_fda_regulated_drug'].fillna(X_test['is_fda_regulated_drug'].mode()[0], inplace = True)\n",
    "X_test.loc[:, 'is_fda_regulated_device'].fillna(X_test['is_fda_regulated_device'].mode()[0], inplace = True)\n",
    "\n",
    "#correctly label columns as int\n",
    "X_test.loc[:,'minimum_age'] = X_test.loc[:, 'minimum_age'].map(change_age)\n",
    "X_test.loc[:, 'maximum_age'] = X_test.loc[:, 'maximum_age'].map(change_age)\n",
    "X_test.loc[:, 'maximum_age'] = X_test.loc[:, 'maximum_age'].astype(int)\n",
    "X_test.loc[:, 'minimum_age'] = X_test.loc[:, 'minimum_age'].astype(int)"
   ]
  },
  {
   "cell_type": "code",
   "execution_count": 227,
   "metadata": {},
   "outputs": [
    {
     "name": "stdout",
     "output_type": "stream",
     "text": [
      "(3614, 1000)\n",
      "['aachen', 'aalborg', 'aarhus', 'ab', 'abbott', 'abbvie', 'abramson', 'academy', 'acrotech', 'addiction', 'adelaide', 'administration', 'aegerion', 'aesculap', 'affairs', 'affections', 'affiliated', 'ag', 'agency', 'aging', 'agunco', 'aids', 'aires', 'akron', 'alabama', 'albany', 'albert', 'alberta', 'alcon', 'alegre', 'alexandria', 'alfred', 'allegheny', 'allergan', 'allergy', 'alliance', 'allina', 'almeria', 'alta', 'america', 'american', 'americas', 'amgen', 'amiens', 'ampharma', 'anderson', 'andrea', 'angeles', 'anhui', 'ann', 'annecy', 'antioquia', 'antonio', 'antwerp', 'ao', 'applied', 'arca', 'area', 'army', 'arthritis', 'asan', 'asia', 'asociación', 'assistance', 'assiut', 'associates', 'association', 'astrazeneca', 'ataturk', 'athens', 'atlantic', 'atrium', 'augusta', 'aurinia', 'auris', 'australia', 'austrian', 'authority', 'auxologico', 'azienda', 'ballabh', 'baltimore', 'bambino', 'bangladesh', 'barbara', 'bard', 'bari', 'basel', 'baskent', 'bausch', 'bay', 'bayer', 'baylor', 'behring', 'beijing', 'belgium', 'bellvitge', 'benioff', 'berard', 'berlin', 'bern', 'berne', 'besta', 'beth', 'bhubaneswar', 'biochimique', 'bioclon', 'biogen', 'biologic', 'biome', 'biomedical', 'biomédica', 'biopharma', 'biopharmaceuticals', 'biostatistics', 'biotech', 'biotechnologies', 'birmingham', 'bispebjerg', 'blood', 'bloomberg', 'bordeaux', 'boston', 'brain', 'branch', 'brasilia', 'brazil', 'breast', 'brigham', 'bristolmyers', 'british', 'brook', 'buddhist', 'buffalo', 'bundang', 'caen', 'cairo', 'calando', 'calgary', 'california', 'cambridge', 'camc', 'campinas', 'campus', 'canada', 'canadian', 'canbas', 'cancer', 'cancerologie', 'cardiologie', 'cardiología', 'cardiovascular', 'care', 'carita', 'carlo', 'carolina', 'case', 'cataract', 'catholic', 'catholique', 'catolica', 'cc', 'cedarssinai', 'ceguera', 'celgene', 'cell', 'center', 'centers', 'centocor', 'central', 'centre', 'centreresearch', 'centro', 'cerenis', 'champlaincharlesle', 'chang', 'chapel', 'charite', 'charles', 'chi', 'chicago', 'chiesi', 'child', 'childhood', 'children', 'chile', 'chiltern', 'china', 'chinese', 'christiana', 'ciencias', 'cincinnati', 'city', 'ciudad', 'cleveland', 'clinic', 'clinica', 'clinical', 'clinicas', 'clinics', 'cliniques', 'cll', 'co', 'college', 'cologne', 'colorado', 'colorectal', 'columbia', 'command', 'commercialization', 'commonwealth', 'company', 'comprehensive', 'consortium', 'control', 'cooperative', 'copenhagen', 'cornell', 'corp', 'corporation', 'corps', 'creighton', 'cruz', 'csl', 'cv', 'damanhour', 'danafarber', 'darmstadt', 'dartmouthhitchcock', 'davis', 'de', 'deaconess', 'defense', 'degli', 'dei', 'del', 'della', 'denmark', 'denver', 'der', 'des', 'detude', 'deutsches', 'development', 'developpement', 'devices', 'di', 'diabetes', 'diarrhoeal', 'diego', 'digestive', 'digestives', 'disease', 'diseases', 'diskapi', 'disorders', 'dohme', 'donga', 'dr', 'drug', 'drugs', 'du', 'dublin', 'duesseldorf', 'duke', 'dundee', 'dutch', 'ear', 'east', 'eastern', 'education', 'eiger', 'eisenhower', 'el', 'eli', 'emory', 'en', 'england', 'epidemiology', 'erasmus', 'erlangennürnberg', 'español', 'especialidad', 'esperion', 'espirito', 'estadual', 'et', 'eunice', 'european', 'evaluation', 'evitar', 'eye', 'falk', 'farma', 'farmaceutici', 'fe', 'federal', 'federation', 'federico', 'fernando', 'figueira', 'first', 'florence', 'florida', 'foch', 'fondazione', 'food', 'force', 'ford', 'forest', 'foundation', 'france', 'francisco', 'francophone', 'franklin', 'fraser', 'fred', 'frederiksberg', 'freiburg', 'french', 'fresenius', 'fuda', 'fukushima', 'fundacion', 'fundació', 'fundación', 'gachon', 'galveston', 'galway', 'gaslini', 'genentech', 'general', 'genetics', 'geneva', 'genevois', 'gentofte', 'george', 'georgetown', 'gerais', 'gerardo', 'german', 'germans', 'germany', 'gesù', 'giannina', 'gil', 'gilead', 'giovanni', 'glaukos', 'glaxosmithkline', 'gmbh', 'good', 'govind', 'grande', 'greater', 'grenoble', 'grifols', 'groningen', 'group', 'groupe', 'grupo', 'gruppo', 'grünenthal', 'guadalajara', 'guangzhou', 'gung', 'gyeongsang', 'gynecology', 'hadassah', 'hallym', 'hamburgeppendorf', 'harapan', 'hartford', 'harvard', 'haukeland', 'health', 'healthcare', 'healthcoreneri', 'heart', 'heidelberg', 'heinrichheine', 'hellenic', 'helsinki', 'henry', 'hepatitis', 'herlev', 'hershey', 'herzzentrum', 'hierro', 'higher', 'hill', 'hiv', 'holdings', 'hong', 'hope', 'hopital', 'hopkins', 'horizon', 'hospital', 'hospitalier', 'hospitals', 'houston', 'human', 'hutchinson', 'hygiene', 'ibsa', 'icahn', 'ii', 'iladevi', 'iliad', 'illinois', 'imaging', 'immunomedics', 'imperial', 'inc', 'incorporated', 'india', 'indiana', 'indonesia', 'infectious', 'infirmary', 'inflammatoires', 'initiative', 'innovaderm', 'innovation', 'innovations', 'innsbruck', 'inova', 'inselspital', 'insermanrs', 'insight', 'institut', 'institute', 'institutes', 'institutet', 'instituto', 'integral', 'intercept', 'intermountain', 'international', 'intervention', 'investigacion', 'investigación', 'iol', 'iowa', 'ipsen', 'irccs', 'ireland', 'irvine', 'isfahan', 'island', 'israel', 'istituto', 'italiano', 'italy', 'izmir', 'jaeb', 'janeiro', 'janssen', 'japan', 'jefferson', 'jenkins', 'jersey', 'jewish', 'jilin', 'jinling', 'jinnah', 'johns', 'johnson', 'jonsson', 'jordan', 'joslin', 'jude', 'kabi', 'kaen', 'kaiser', 'kaisuan', 'kansas', 'kaohsiung', 'karmanos', 'karolinska', 'kemal', 'kennedy', 'kentucky', 'kettering', 'kg', 'kgaa', 'khon', 'kidney', 'kimmel', 'king', 'kingston', 'kita', 'kk', 'kong', 'korea', 'kovacs', 'ku', 'kyberg', 'la', 'laboratories', 'laboratorios', 'lagos', 'langone', 'laser', 'laval', 'lawson', 'le', 'leeds', 'lehigh', 'leicester', 'leiden', 'leo', 'leon', 'leuven', 'lieve', 'life', 'lille', 'lilly', 'limited', 'linda', 'linstitut', 'liverpool', 'ljubljana', 'llc', 'lodz', 'loma', 'lomb', 'london', 'longcom', 'los', 'louis', 'louvain', 'loyola', 'lp', 'ltd', 'ltda', 'lublin', 'ludwig', 'ludwigmaximilians', 'luigi', 'lumos', 'lund', 'lung', 'lymphoma', 'maastricht', 'madison', 'madrid', 'magdeburg', 'maggiore', 'mahidol', 'maimonides', 'makerere', 'malaya', 'malignancy', 'management', 'manitoba', 'mansoura', 'maria', 'mario', 'maryland', 'massachusetts', 'mateon', 'matteo', 'mayo', 'mayıs', 'mcgill', 'mclean', 'mcmaster', 'md', 'medical', 'medicas', 'medicina', 'medicine', 'medicines', 'medico', 'mediking', 'medimmune', 'medstar', 'medtronic', 'meir', 'meixoeiro', 'melanoma', 'memorial', 'menarini', 'mental', 'mentor', 'menzies', 'merck', 'mercy', 'merz', 'metabolism', 'methodist', 'mexicano', 'mexico', 'miami', 'michael', 'michigan', 'midwest', 'milano', 'military', 'milton', 'minas', 'ministry', 'minnesota', 'mississippi', 'mitsubishi', 'molecular', 'montefiore', 'montréal', 'monza', 'mortimer', 'mount', 'moyne', 'muenchen', 'muenster', 'multiplo', 'mundipharma', 'munich', 'musculoskeletal', 'mustafa', 'médicale', 'méxico', 'nacional', 'naked', 'nanjing', 'naples', 'national', 'nationwide', 'naval', 'navarra', 'navidea', 'nazionale', 'nci', 'nealth', 'nebraska', 'neglected', 'negri', 'nei', 'neonatal', 'neovii', 'network', 'neumedicines', 'neurodegenerative', 'neurogen', 'neurological', 'neurologico', 'neuroscience', 'new', 'nhlbi', 'nhs', 'nia', 'niaid', 'niams', 'nichd', 'niddk', 'nigeria', 'nimh', 'nordic', 'nordisk', 'north', 'northern', 'northside', 'northwell', 'northwestern', 'norwegian', 'nottingham', 'nova', 'novartis', 'novo', 'novocure', 'nui', 'nutricion', 'nutrition', 'nv', 'nyu', 'oakland', 'obstetrics', 'ocera', 'octapharma', 'office', 'ohio', 'oncology', 'onconova', 'ondokuz', 'ontario', 'onze', 'oregon', 'organisation', 'organization', 'orsola', 'ortopedico', 'oslo', 'ospedale', 'ospedaliera', 'ospedaliero', 'ostfold', 'ostrava', 'oswaldo', 'otsuka', 'ottawa', 'oxford', 'pa', 'pacific', 'padova', 'pakistan', 'pant', 'papa', 'papworth', 'para', 'paracelsus', 'parc', 'paris', 'paulo', 'paz', 'pearl', 'pediatric', 'peking', 'pennington', 'pennsylvania', 'people', 'per', 'permanente', 'pernambuco', 'pesquisa', 'pethema', 'pfizer', 'pharma', 'pharmaceutica', 'pharmaceutical', 'pharmaceuticals', 'pharmacological', 'pharmacy', 'pharmacyclics', 'pharmaxis', 'philadelphia', 'pierce', 'pittsburgh', 'pledpharma', 'pneumologie', 'poland', 'policlinico', 'pontificia', 'population', 'porto', 'postgraduate', 'pour', 'prasat', 'prevention', 'prince', 'pro', 'products', 'professor', 'program', 'project', 'psychiatric', 'pty', 'public', 'publica', 'publique', 'puerta', 'pujol', 'purdue', 'pusan', 'quebec', 'queen', 'rabin', 'radboud', 'radiation', 'raffaele', 'rambam', 'rebiotix', 'recerca', 'recherche', 'region', 'regional', 'rehabilitation', 'renji', 'research', 'researchfrench', 'retina', 'rheumatology', 'rhode', 'rigshospitalet', 'rio', 'rizzoli', 'robert', 'rochester', 'roma', 'royal', 'rush', 'russian', 'rutgers', 'rwth', 'sa', 'saarland', 'sacred', 'salud', 'salvador', 'samaritan', 'samsung', 'san', 'sanaria', 'sang', 'sangart', 'sanitaria', 'sanità', 'sanofi', 'sansum', 'sant', 'santa', 'santo', 'santé', 'sao', 'sapienza', 'sarl', 'saskatchewan', 'school', 'science', 'sciences', 'scientific', 'scri', 'seameo', 'seattle', 'seguro', 'seoul', 'seqirus', 'serbia', 'service', 'services', 'shandong', 'sharp', 'sheba', 'sheffield', 'shiga', 'shiraz', 'shire', 'shriver', 'sick', 'sidney', 'siena', 'silanes', 'silesia', 'sinai', 'singapore', 'sir', 'skin', 'sl', 'sloan', 'social', 'society', 'south', 'southeast', 'southern', 'southwest', 'southwestern', 'spa', 'spanish', 'specialists', 'spinal', 'spine', 'squibb', 'srl', 'st', 'stamford', 'stanford', 'stanley', 'state', 'states', 'steno', 'stony', 'studi', 'studio', 'study', 'suffolk', 'sun', 'sunnybrook', 'sunovion', 'superiore', 'surgery', 'swiss', 'switzerland', 'sydney', 'synvista', 'system', 'são', 'tabriz', 'taiho', 'taipei', 'taiwan', 'takeda', 'tallikut', 'tanabe', 'tanta', 'teaching', 'tec', 'tech', 'technische', 'technology', 'tehran', 'temple', 'texas', 'theracos', 'therapeutic', 'therapeutics', 'therapeutique', 'therapy', 'thessaloniki', 'thomas', 'tiantan', 'tiefenbacher', 'tokyo', 'top', 'toronto', 'toulouse', 'tours', 'translational', 'transplant', 'transtasman', 'treatment', 'trials', 'trias', 'trog', 'tropical', 'trust', 'tuberculosis', 'tuebingen', 'tufts', 'tulane', 'tumor', 'tumori', 'turkish', 'turku', 'tzu', 'ucb', 'ucsf', 'ulm', 'umc', 'underwater', 'unit', 'universidad', 'universidade', 'universitaire', 'universitaires', 'universitari', 'universitaria', 'universitario', 'university', 'università', 'universität', 'universitätsklinikum', 'universtity', 'uppsala', 'us', 'usa', 'utah', 'utrecht', 'va', 'vaccine', 'valley', 'vanderbilt', 'vanvitelli', 'vascular', 'vaudois', 'venezuela', 'venterpharma', 'veterans', 'vienna', 'vietnam', 'viral', 'virginia', 'vrouw', 'wageningen', 'wake', 'warsaw', 'washington', 'wayne', 'weill', 'welfare', 'west', 'western', 'wisconsin', 'women', 'wonkwang', 'worcester', 'worldwide', 'xijing', 'xxiii', 'yale', 'yatsen', 'yonsei', 'york', 'zagreb', 'zambranohellion', 'zealand', 'zhifei', 'ziekenhuis', 'ziekenhuizen', 'zubiran', 'zurich']\n"
     ]
    }
   ],
   "source": [
    "tfidf_source_vectorizer = TfidfVectorizer(analyzer=get_tokens, ngram_range=(2,2), max_features=1000)\n",
    "tfidf_source = tfidf_source_vectorizer.fit_transform(X_train['source'])\n",
    "print(tfidf_source.shape)\n",
    "print(tfidf_source_vectorizer.get_feature_names())"
   ]
  },
  {
   "cell_type": "code",
   "execution_count": 228,
   "metadata": {},
   "outputs": [
    {
     "data": {
      "text/html": [
       "<div>\n",
       "<style scoped>\n",
       "    .dataframe tbody tr th:only-of-type {\n",
       "        vertical-align: middle;\n",
       "    }\n",
       "\n",
       "    .dataframe tbody tr th {\n",
       "        vertical-align: top;\n",
       "    }\n",
       "\n",
       "    .dataframe thead th {\n",
       "        text-align: right;\n",
       "    }\n",
       "</style>\n",
       "<table border=\"1\" class=\"dataframe\">\n",
       "  <thead>\n",
       "    <tr style=\"text-align: right;\">\n",
       "      <th></th>\n",
       "      <th>aachen</th>\n",
       "      <th>aalborg</th>\n",
       "      <th>aarhus</th>\n",
       "      <th>ab</th>\n",
       "      <th>abbott</th>\n",
       "      <th>abbvie</th>\n",
       "      <th>abramson</th>\n",
       "      <th>academy</th>\n",
       "      <th>acrotech</th>\n",
       "      <th>addiction</th>\n",
       "      <th>...</th>\n",
       "      <th>yonsei</th>\n",
       "      <th>york</th>\n",
       "      <th>zagreb</th>\n",
       "      <th>zambranohellion</th>\n",
       "      <th>zealand</th>\n",
       "      <th>zhifei</th>\n",
       "      <th>ziekenhuis</th>\n",
       "      <th>ziekenhuizen</th>\n",
       "      <th>zubiran</th>\n",
       "      <th>zurich</th>\n",
       "    </tr>\n",
       "  </thead>\n",
       "  <tbody>\n",
       "    <tr>\n",
       "      <th>0</th>\n",
       "      <td>0.0</td>\n",
       "      <td>0.0</td>\n",
       "      <td>0.0</td>\n",
       "      <td>0.0</td>\n",
       "      <td>0.0</td>\n",
       "      <td>0.0</td>\n",
       "      <td>0.0</td>\n",
       "      <td>0.0</td>\n",
       "      <td>0.0</td>\n",
       "      <td>0.0</td>\n",
       "      <td>...</td>\n",
       "      <td>0.0</td>\n",
       "      <td>0.0</td>\n",
       "      <td>0.0</td>\n",
       "      <td>0.0</td>\n",
       "      <td>0.0</td>\n",
       "      <td>0.0</td>\n",
       "      <td>0.0</td>\n",
       "      <td>0.0</td>\n",
       "      <td>0.0</td>\n",
       "      <td>0.0</td>\n",
       "    </tr>\n",
       "    <tr>\n",
       "      <th>1</th>\n",
       "      <td>0.0</td>\n",
       "      <td>0.0</td>\n",
       "      <td>0.0</td>\n",
       "      <td>0.0</td>\n",
       "      <td>0.0</td>\n",
       "      <td>0.0</td>\n",
       "      <td>0.0</td>\n",
       "      <td>0.0</td>\n",
       "      <td>0.0</td>\n",
       "      <td>0.0</td>\n",
       "      <td>...</td>\n",
       "      <td>0.0</td>\n",
       "      <td>0.0</td>\n",
       "      <td>0.0</td>\n",
       "      <td>0.0</td>\n",
       "      <td>0.0</td>\n",
       "      <td>0.0</td>\n",
       "      <td>0.0</td>\n",
       "      <td>0.0</td>\n",
       "      <td>0.0</td>\n",
       "      <td>0.0</td>\n",
       "    </tr>\n",
       "    <tr>\n",
       "      <th>2</th>\n",
       "      <td>0.0</td>\n",
       "      <td>0.0</td>\n",
       "      <td>0.0</td>\n",
       "      <td>0.0</td>\n",
       "      <td>0.0</td>\n",
       "      <td>0.0</td>\n",
       "      <td>0.0</td>\n",
       "      <td>0.0</td>\n",
       "      <td>0.0</td>\n",
       "      <td>0.0</td>\n",
       "      <td>...</td>\n",
       "      <td>0.0</td>\n",
       "      <td>0.0</td>\n",
       "      <td>0.0</td>\n",
       "      <td>0.0</td>\n",
       "      <td>0.0</td>\n",
       "      <td>0.0</td>\n",
       "      <td>0.0</td>\n",
       "      <td>0.0</td>\n",
       "      <td>0.0</td>\n",
       "      <td>0.0</td>\n",
       "    </tr>\n",
       "    <tr>\n",
       "      <th>3</th>\n",
       "      <td>0.0</td>\n",
       "      <td>0.0</td>\n",
       "      <td>0.0</td>\n",
       "      <td>0.0</td>\n",
       "      <td>0.0</td>\n",
       "      <td>0.0</td>\n",
       "      <td>0.0</td>\n",
       "      <td>0.0</td>\n",
       "      <td>0.0</td>\n",
       "      <td>0.0</td>\n",
       "      <td>...</td>\n",
       "      <td>0.0</td>\n",
       "      <td>0.0</td>\n",
       "      <td>0.0</td>\n",
       "      <td>0.0</td>\n",
       "      <td>0.0</td>\n",
       "      <td>0.0</td>\n",
       "      <td>0.0</td>\n",
       "      <td>0.0</td>\n",
       "      <td>0.0</td>\n",
       "      <td>0.0</td>\n",
       "    </tr>\n",
       "    <tr>\n",
       "      <th>4</th>\n",
       "      <td>0.0</td>\n",
       "      <td>0.0</td>\n",
       "      <td>0.0</td>\n",
       "      <td>0.0</td>\n",
       "      <td>0.0</td>\n",
       "      <td>0.0</td>\n",
       "      <td>0.0</td>\n",
       "      <td>0.0</td>\n",
       "      <td>0.0</td>\n",
       "      <td>0.0</td>\n",
       "      <td>...</td>\n",
       "      <td>0.0</td>\n",
       "      <td>0.0</td>\n",
       "      <td>0.0</td>\n",
       "      <td>0.0</td>\n",
       "      <td>0.0</td>\n",
       "      <td>0.0</td>\n",
       "      <td>0.0</td>\n",
       "      <td>0.0</td>\n",
       "      <td>0.0</td>\n",
       "      <td>0.0</td>\n",
       "    </tr>\n",
       "  </tbody>\n",
       "</table>\n",
       "<p>5 rows × 1000 columns</p>\n",
       "</div>"
      ],
      "text/plain": [
       "   aachen  aalborg  aarhus   ab  abbott  abbvie  abramson  academy  acrotech  \\\n",
       "0     0.0      0.0     0.0  0.0     0.0     0.0       0.0      0.0       0.0   \n",
       "1     0.0      0.0     0.0  0.0     0.0     0.0       0.0      0.0       0.0   \n",
       "2     0.0      0.0     0.0  0.0     0.0     0.0       0.0      0.0       0.0   \n",
       "3     0.0      0.0     0.0  0.0     0.0     0.0       0.0      0.0       0.0   \n",
       "4     0.0      0.0     0.0  0.0     0.0     0.0       0.0      0.0       0.0   \n",
       "\n",
       "   addiction  ...  yonsei  york  zagreb  zambranohellion  zealand  zhifei  \\\n",
       "0        0.0  ...     0.0   0.0     0.0              0.0      0.0     0.0   \n",
       "1        0.0  ...     0.0   0.0     0.0              0.0      0.0     0.0   \n",
       "2        0.0  ...     0.0   0.0     0.0              0.0      0.0     0.0   \n",
       "3        0.0  ...     0.0   0.0     0.0              0.0      0.0     0.0   \n",
       "4        0.0  ...     0.0   0.0     0.0              0.0      0.0     0.0   \n",
       "\n",
       "   ziekenhuis  ziekenhuizen  zubiran  zurich  \n",
       "0         0.0           0.0      0.0     0.0  \n",
       "1         0.0           0.0      0.0     0.0  \n",
       "2         0.0           0.0      0.0     0.0  \n",
       "3         0.0           0.0      0.0     0.0  \n",
       "4         0.0           0.0      0.0     0.0  \n",
       "\n",
       "[5 rows x 1000 columns]"
      ]
     },
     "execution_count": 228,
     "metadata": {},
     "output_type": "execute_result"
    }
   ],
   "source": [
    "tfidf_source_df = pd.DataFrame(tfidf_source.toarray())\n",
    "tfidf_source_df.columns = tfidf_source_vectorizer.get_feature_names()\n",
    "tfidf_source_df.head()"
   ]
  },
  {
   "cell_type": "code",
   "execution_count": 229,
   "metadata": {},
   "outputs": [
    {
     "name": "stdout",
     "output_type": "stream",
     "text": [
      "\n",
      "\n",
      "Words : \n",
      "            term        rank\n",
      "947  university  348.487687\n",
      "166      center  161.485006\n",
      "627    national  154.763105\n",
      "398    hospital  149.796215\n",
      "375      health  143.678968\n",
      "197    clinical  112.995012\n",
      "570     medical  107.628735\n",
      "433  institutes  107.113887\n",
      "161          cc  107.113887\n",
      "432   institute  106.052644\n"
     ]
    }
   ],
   "source": [
    "#get top ranking features\n",
    "\n",
    "sums = tfidf_source_df.sum(axis = 0) \n",
    "data1 = [] \n",
    "for col, term in enumerate(tfidf_source_df.columns): \n",
    "    data1.append( (term, sums[col] )) \n",
    "ranking = pd.DataFrame(data1, columns = ['term', 'rank']) \n",
    "words = (ranking.sort_values('rank', ascending = False)) \n",
    "print (\"\\n\\nWords : \\n\", words.head(10))"
   ]
  },
  {
   "cell_type": "code",
   "execution_count": 133,
   "metadata": {},
   "outputs": [
    {
     "name": "stderr",
     "output_type": "stream",
     "text": [
      "C:\\Users\\Public\\Anaconda3\\lib\\site-packages\\ipykernel_launcher.py:1: SettingWithCopyWarning: \n",
      "A value is trying to be set on a copy of a slice from a DataFrame.\n",
      "Try using .loc[row_indexer,col_indexer] = value instead\n",
      "\n",
      "See the caveats in the documentation: https://pandas.pydata.org/pandas-docs/stable/user_guide/indexing.html#returning-a-view-versus-a-copy\n",
      "  \"\"\"Entry point for launching an IPython kernel.\n"
     ]
    }
   ],
   "source": [
    "X_train['source_len'] = X_train['source'].apply(lambda x: len(x) - x.count(\" \"))"
   ]
  },
  {
   "cell_type": "code",
   "execution_count": 134,
   "metadata": {},
   "outputs": [
    {
     "data": {
      "text/plain": [
       "nct_id\n",
       "NCT01720316    14\n",
       "NCT00297258    15\n",
       "NCT01384149    17\n",
       "NCT01267682    19\n",
       "NCT00331799    14\n",
       "               ..\n",
       "NCT00844493    41\n",
       "NCT00365170    14\n",
       "NCT00826020    20\n",
       "NCT00505375    63\n",
       "NCT01428843    63\n",
       "Name: source_len, Length: 3614, dtype: int64"
      ]
     },
     "execution_count": 134,
     "metadata": {},
     "output_type": "execute_result"
    }
   ],
   "source": [
    "X_train['source_len']"
   ]
  },
  {
   "cell_type": "code",
   "execution_count": 125,
   "metadata": {},
   "outputs": [
    {
     "name": "stderr",
     "output_type": "stream",
     "text": [
      "C:\\Users\\Public\\Anaconda3\\lib\\site-packages\\pandas\\core\\indexing.py:1743: SettingWithCopyWarning: \n",
      "A value is trying to be set on a copy of a slice from a DataFrame.\n",
      "Try using .loc[row_indexer,col_indexer] = value instead\n",
      "\n",
      "See the caveats in the documentation: https://pandas.pydata.org/pandas-docs/stable/user_guide/indexing.html#returning-a-view-versus-a-copy\n",
      "  isetter(ilocs[0], value)\n"
     ]
    }
   ],
   "source": [
    "X_train.loc[:, 'condition'] = X_train['condition'].map(get_tokens)\n",
    "X_train.loc[:, 'condition'] = X_train['condition'].map(lambda x: ' '.join(x))"
   ]
  },
  {
   "cell_type": "code",
   "execution_count": 230,
   "metadata": {},
   "outputs": [
    {
     "name": "stdout",
     "output_type": "stream",
     "text": [
      "(3614, 1000)\n",
      "['abdominal hysterectomy', 'abdominal surgery', 'abdominis block', 'accidental falls', 'acellular pertussis', 'acid base', 'acne vulgaris', 'acquired bleeding', 'acquired immunodeficiency', 'actinic keratosis', 'acute cardiogenic', 'acute childhood', 'acute chronic', 'acute coronary', 'acute diverticulitis', 'acute heart', 'acute ischemic', 'acute lymphoblastic', 'acute megakaryoblastic', 'acute myeloid', 'acute myocardial', 'acute pain', 'acute pancreatitis', 'acute renal', 'acute respiratory', 'acute stroke', 'adenocarcinoma prostate', 'adenocarcinoma rectum', 'adrenal insufficiency', 'adult acute', 'adult immune', 'adult primary', 'adult solid', 'adult tcell', 'advanced cancer', 'advanced cervical', 'advanced solid', 'african american', 'age related', 'agent therapy', 'agerelated macular', 'aggregation inhibitors', 'airway obstruction', 'alcohol dependence', 'alcoholrelated disorders', 'allergic rhinitis', 'alpha antitrypsin', 'alpha deficiency', 'alzheimer disease', 'american women', 'amyotrophic lateral', 'anaplastic thyroid', 'anemia sickle', 'anesthesia general', 'anesthesia obstetrical', 'angina pectoris', 'angioedema hae', 'angioplasty transluminal', 'angle glaucoma', 'ankle foot', 'ankylosing spondylitis', 'anterior cruciate', 'antibodymediated rejection', 'antiplatelet aggregation', 'antitrypsin deficiency', 'anxiety disorder', 'anxiety disorders', 'aortic aneurysm', 'aortic stenosis', 'aortic valve', 'aplastic anemia', 'apnea prematurity', 'apnea syndrome', 'arising kshvassociated', 'arterial disease', 'arterial hypertension', 'arterial occlusive', 'arteriovenous fistula', 'artery bypass', 'artery calcification', 'artery disease', 'artery plaque', 'artery stenosis', 'arthritis psoriatic', 'arthritis rheumatoid', 'arthrosis unspecified', 'asperger syndrome', 'assess effect', 'ataxia type', 'atherosclerotic cardiovascular', 'athletic performance', 'atopic dermatitis', 'atrial fibrillation', 'atrophy due', 'atrophy type', 'attention deficit', 'attention deficithyperactivity', 'autistic disorder', 'autoimmune autonomic', 'autonomic ganglionopathy', 'autosomal dominant', 'back pain', 'bacterial pneumonia', 'bacterial vaginosis', 'bancrofti infection', 'barrett metaplasia', 'basal cell', 'base imbalance', 'bcell lymphoma', 'behavior disorder', 'behcet disease', 'benign prostatic', 'betathalassemia major', 'biliary cirrhosis', 'bipolar depression', 'bipolar disorder', 'bipolar ii', 'birth control', 'birth weight', 'bladder neoplasms', 'bleeding disorder', 'blood disease', 'blood pressure', 'bone cyst', 'bone fracture', 'bone health', 'bone pain', 'bowel disease', 'bowel preparation', 'bowel syndrome', 'brain central', 'brain injury', 'brain metastasis', 'brain neoplasms', 'brain tumor', 'brazil increasing', 'breast cancer', 'breast feeding', 'breast milk', 'breast neoplasms', 'bronchi oli', 'bronchial asthma', 'bronchiectasis adult', 'bronchiolitis obliterans', 'burkitt lymphoma', 'bypass grafting', 'caloric restriction', 'canavan disease', 'cancer advanced', 'cancer cervix', 'cancer intracranial', 'cancer prevention', 'cancer solid', 'cannula site', 'carcinoma head', 'carcinoma mouth', 'carcinoma nonsmallcell', 'carcinoma penis', 'carcinoma renal', 'cardiac arrest', 'cardiac output', 'cardiac surgery', 'cardiac surgical', 'cardiogenic pulmonary', 'cardiovascular disease', 'cardiovascular diseases', 'carotid artery', 'carotid atherosclerosis', 'carpal tunnel', 'castleman disease', 'castrationresistant prostate', 'cat allergy', 'catheter infections', 'catheterassociated urinary', 'celiac disease', 'cell anemia', 'cell carcinoma', 'cell disease', 'cell lung', 'cell lymphoma', 'cell neoplasm', 'cell pertussis', 'cell transplantation', 'cell tumor', 'central nervous', 'central retinal', 'central serous', 'cerebral hemorrhage', 'cerebral infarction', 'cerebral palsy', 'cerebral stroke', 'cerebrovascular accident', 'certain specified', 'cervical cancer', 'cervical dysplasia', 'cervical dystonia', 'cervicobrachial neuralgia', 'cervix cancer', 'cesarean section', 'chagas disease', 'charcot marie', 'chemotherapyinduced nausea', 'chest pain', 'child comfort', 'cholestasis progressive', 'chronic granulomatous', 'chronic gvhd', 'chronic heart', 'chronic hepatitis', 'chronic infection', 'chronic inflammation', 'chronic ischemic', 'chronic kidney', 'chronic lymphocytic', 'chronic migraine', 'chronic myeloid', 'chronic obstructive', 'chronic pain', 'chronic periodontitis', 'chronic renal', 'cigarette smoking', 'circulatory perfusion', 'cirrhosis biliary', 'closed fracture', 'clostridium difficile', 'cocaine addiction', 'cognition disorders', 'cognitive dysfunction', 'cognitive impairment', 'collagenous colitis', 'colon breast', 'colon cancer', 'colonic neoplasms', 'colorectal cancer', 'colorectal disorders', 'colorectal neoplasms', 'common variable', 'communityacquired pneumonia', 'complete tear', 'complicated grief', 'complications diabetes', 'congenital heart', 'congenital hyperinsulinism', 'congestive heart', 'conjunctivitis allergic', 'conscious sedation', 'control method', 'convulsion nonepileptic', 'copd asthma', 'cord injury', 'corneal neovascularization', 'coronary arteriosclerosis', 'coronary artery', 'coronary disease', 'coronary heart', 'coronary syndrome', 'coronavirus infections', 'critical illness', 'critical limb', 'crohn disease', 'cruciate ligament', 'cryptococcal meningitis', 'current drug', 'current recent', 'cutaneous atrophy', 'cutaneous leishmaniasis', 'cutaneous tcell', 'cyst aneurysmal', 'cystic fibrosis', 'cystoid macular', 'cytomegalovirus infection', 'deep vein', 'defects congenital', 'deficiency syndrome', 'deficit disorder', 'deficit hyperactivity', 'deficithyperactivity disorder', 'dense deposit', 'dental anxiety', 'dental caries', 'dentin hypersensitivity', 'dentin sensitivity', 'dependent oral', 'depersonalization disorder', 'deposit disease', 'depression involutional', 'depressive disorder', 'depressive symptoms', 'determine effect', 'diabetes mellitus', 'diabetes type', 'diabetic foot', 'diabetic macular', 'diabetic nephropathy', 'diabetic neuropathies', 'diabetic patients', 'diabetic retinopathy', 'diaphragmatic dysfunction', 'dietary modification', 'difficile infection', 'difficult airway', 'diffuse large', 'digeorge anomaly', 'digital ulcer', 'disease chronic', 'disease copd', 'disease gerd', 'disease hd', 'disease hodgkin', 'disease type', 'disk displacement', 'disorder adhd', 'disorder hyperactivity', 'disorder major', 'distress syndrome', 'drug addiction', 'drug delivery', 'drug interaction', 'drug overdose', 'drug resistant', 'drug toxicity', 'dry eye', 'duchenne muscular', 'due certain', 'due corticosteroids', 'due plasmodium', 'due radiation', 'due trichomonas', 'dystrophic epidermolysis', 'dystrophy dmd', 'ear nose', 'ebola hemorrhagic', 'ebola virus', 'ecg effects', 'effect green', 'effect vitamin', 'egovarian gastric', 'eisenmenger syndrome', 'elderly african', 'elderly people', 'elective cardiac', 'elevation myocardial', 'emergence delirium', 'end stage', 'endometrial cancer', 'endotracheal intubation', 'endstage renal', 'epcam positive', 'epidermolysis bullosa', 'epilepsy partial', 'erythematosus nephritis', 'esophageal cancer', 'esophageal neoplasms', 'estrogen receptornegative', 'ewing sarcoma', 'exudative agerelated', 'eye syndromes', 'fabry disease', 'failure acute', 'failure chronic', 'failure congestive', 'failure dialysis', 'failure rejection', 'falciparum malaria', 'fallopian tube', 'familial hypercholesterolemia', 'familial intrahepatic', 'fatty liver', 'fecal incontinence', 'fever tickborne', 'focal dystonia', 'focal segmental', 'foetal growth', 'follicular lymphoma', 'food hypersensitivity', 'foot ulcer', 'fracture hip', 'functional constipation', 'functional dyspepsia', 'fungal infection', 'fusion acquired', 'gall stone', 'ganglionopathy aag', 'gastric cancer', 'gastric colon', 'gastroesophageal reflux', 'gastrointestinal cancer', 'gastrointestinal stromal', 'gaucher disease', 'general anesthesia', 'germ cell', 'glaucoma poag', 'glioblastoma multiforme', 'glioma brain', 'glomerulonephritis iga', 'glucose intolerance', 'glucose tolerance', 'glucose transporter', 'graft dysfunction', 'graft versus', 'graft vs', 'graftversushost disease', 'granulomatous disease', 'graves disease', 'green tea', 'growth hormone', 'growth problem', 'gyrate atrophy', 'head neck', 'health elderly', 'healthy adult', 'healthy adults', 'healthy males', 'healthy subjects', 'healthy volunteer', 'healthy volunteers', 'heart arrest', 'heart defects', 'heart disease', 'heart diseases', 'heart failure', 'heart syndrome', 'helicobacter pylori', 'hemangioma liver', 'hematologic malignancies', 'hematologic neoplasms', 'hematopoietic stem', 'hemodynamic optimization', 'hemorrhagic fever', 'hemorrhoids internal', 'hepatitis chronic', 'hepatitis coinfection', 'hepatitis virus', 'hepatocellular carcinoma', 'hereditary angioedema', 'herpes zoster', 'hip fractures', 'hip osteoarthritis', 'hippellindau disease', 'history atrial', 'hiv immunodeficiency', 'hiv infection', 'hiv infections', 'homozygous familial', 'host disease', 'hpv infections', 'htlvi infection', 'human immunodeficiency', 'human papilloma', 'human volunteers', 'hunter syndrome', 'huntington disease', 'hyperactivity disorder', 'hyperparathyroidism primary', 'hyperparathyroidism secondary', 'hypertension pulmonary', 'hypertrophic cardiomyopathy', 'hypoplastic left', 'hysterectomy wertheim', 'idiopathic arthritis', 'idiopathic nephrotic', 'idiopathic pulmonary', 'idiopathic thrombocytopenic', 'ii disorder', 'iii iv', 'immune responses', 'immunodeficiency syndrome', 'immunodeficiency virus', 'impaired glucose', 'increasing number', 'indicated icd', 'induction maintaining', 'infant newborn', 'infantile spasms', 'infection adults', 'infection type', 'infections meningococcal', 'infections papillomavirus', 'infections rotavirus', 'infections streptococcal', 'inflammatory bowel', 'influenza human', 'influenza virus', 'inherited metabolic', 'inherited platelet', 'initiation birth', 'instent restenosis', 'insulin dependent', 'insulin resistance', 'interferential current', 'intervertebral disk', 'intraabdominal intrapelvic', 'intracerebral hemorrhage', 'intracranial metastases', 'intraepithelial prostatic', 'intrahepatic cholestasis', 'intrapelvic surgery', 'irritable bowel', 'ischemic heart', 'ischemic stroke', 'japanese encephalitis', 'juvenile idiopathic', 'keratitis herpetic', 'keratoconjunctivitis sicca', 'kidney autosomal', 'kidney cancer', 'kidney disease', 'kidney diseases', 'kidney failure', 'kidney transplant', 'kidney transplantation', 'knee anterior', 'knee arthroplasty', 'knee injuries', 'knee osteoarthritis', 'knowledge transfer', 'knowlesi malaria', 'kshvassociated multicentric', 'labor pain', 'lactose intolerance', 'large bcell', 'large cell', 'largecell diffuse', 'late onset', 'latent tuberculosis', 'lateral epicondylitis', 'lateral sclerosis', 'left heart', 'length discrepancy', 'leukemia acute', 'leukemia aml', 'leukemia lymphoma', 'leukemia myeloid', 'leukemia tcell', 'lichen sclerosus', 'lifraumeni syndrome', 'ligament reconstruction', 'limb ischemia', 'limb length', 'limb pain', 'liver cancer', 'liver cirrhosis', 'liver disease', 'liver diseases', 'liver failure', 'liver metastases', 'liver transplantation', 'locally advanced', 'low back', 'low birth', 'low breast', 'lung cancer', 'lung diseases', 'lung neoplasms', 'lung transplant', 'lupus erythematosus', 'lupus nephritis', 'lymphoblastic leukemia', 'lymphocytic bronchi', 'lymphocytic leukemia', 'lymphoma arising', 'lymphoma atl', 'lymphoma follicular', 'lymphoma largecell', 'macular degeneration', 'macular edema', 'macular oedema', 'macular telangiectasia', 'maintaining remission', 'major depression', 'major depressive', 'majors betathalassemia', 'malaria due', 'malaria falciparum', 'male infertility', 'malignant ascites', 'malignant glioma', 'malignant melanoma', 'malignant neoplasm', 'malignant pleural', 'mandibular hypoplasia', 'marie tooth', 'mcdermid syndrome', 'megakaryoblastic leukemia', 'melanoma skin', 'melanoma stage', 'mellitus insulindependent', 'mellitus non', 'mellitus type', 'meningococcal disease', 'meningococcal infections', 'metabolic diseases', 'metabolic syndrome', 'metabolism nutrition', 'metastatic breast', 'metastatic cancer', 'metastatic colorectal', 'metastatic locally', 'metastatic malignant', 'metastatic melanoma', 'metastatic pancreatic', 'metastatic renal', 'methicillin resistant', 'microvascular angina', 'mild cognitive', 'milk supply', 'moderate depression', 'morbid obesity', 'motor neuron', 'mouth neoplasms', 'mpn myeloproliferative', 'mucositis ulcerative', 'multicentric castleman', 'multiforme brain', 'multiple myeloma', 'multiple sclerosis', 'muscle spasticity', 'muscular atrophy', 'muscular dystrophy', 'myelodysplastic syndrome', 'myelodysplastic syndromes', 'myeloid acute', 'myeloid leukaemia', 'myeloid leukemia', 'myeloma plasma', 'myeloma plasmacell', 'myeloproliferative neoplasms', 'myocardial infarction', 'myocardial reperfusion', 'nausea vomiting', 'neck cancer', 'neck squamous', 'negative symptoms', 'neonatal sepsis', 'neoplasm breast', 'neoplasm malignant', 'neoplasm metastasis', 'neoplasm stomach', 'neoplasms oral', 'neoplastic syndrome', 'nephrotic syndrome', 'nerve block', 'nervous system', 'neuroendocrine carcinoma', 'neuroendocrine tumor', 'neuroendocrine tumors', 'neuroendocrine tumours', 'neuroepithelial tumor', 'neurofibromatosis type', 'neurologic syndrome', 'neuromuscular block', 'neuromuscular blockade', 'neuron disease', 'newborn diseases', 'newonset type', 'nicotine dependence', 'niemannpick disease', 'non insulin', 'non small', 'nonalcoholic steatohepatitis', 'nonconstipation irritable', 'nonproliferative diabetic', 'nonsmall cell', 'nonsmallcell lung', 'nose throat', 'nosocomial infections', 'novel influenza', 'number elderly', 'nutrition associated', 'nutrition disorder', 'obesity childhood', 'obsessivecompulsive disorder', 'obstruction syndrome', 'obstructive jaundice', 'obstructive pulmonary', 'obstructive sleep', 'occlusive diseases', 'ocular hypertension', 'ohtahara syndrome', 'oli tis', 'onset neonatal', 'open angle', 'openangle glaucoma', 'operable breast', 'ophthalmic solutions', 'opioid use', 'opioidrelated disorders', 'oral agent', 'oral mucositis', 'osteoarthritis knee', 'osteoarthritis pain', 'otitis media', 'outofhospital cardiac', 'ovarian cancer', 'ovarian cyst', 'ovary syndrome', 'overactive bladder', 'pain acute', 'pain breast', 'pain due', 'pain episodes', 'pain intractable', 'pain postoperative', 'pain stage', 'pain total', 'pancreaskidney transplantation', 'pancreatic adenocarcinoma', 'pancreatic cancer', 'panic disorder', 'papilloma virus', 'papillomavirus infections', 'parenteral nutrition', 'parkinson disease', 'patient indicated', 'patients obstructive', 'pectus excavatum', 'percutaneous coronary', 'perfusion disorder', 'periapical abscess', 'perinatal depression', 'perioperative hemodynamic', 'peripheral arterial', 'peripheral neuropathy', 'peripheral tcell', 'peripheral vascular', 'personality disorder', 'phantom limb', 'pharmacodynamic interaction', 'phelan mcdermid', 'phobic disorders', 'pigmented villonodular', 'plantar fasciitis', 'plasma cell', 'plasmodium falciparum', 'plasmodium knowlesi', 'platelet aggregation', 'platelet disorder', 'pleural effusion', 'pleural mesothelioma', 'pneumocystis carinii', 'pneumonia cap', 'pneumonia pneumocystis', 'polycystic kidney', 'polycystic ovary', 'positive tumor', 'post operative', 'postlung transplantation', 'postmenopausal women', 'postoperative cognitive', 'postoperative delirium', 'postoperative ileus', 'postoperative nausea', 'postoperative pain', 'postoperative sedation', 'postprandial lipemia', 'posttraumatic stress', 'posttraumatic syringomyelia', 'prader willi', 'preanesthetic medication', 'precancerous gastric', 'premature complexes', 'premature ejaculation', 'preparation colonoscopy', 'pressure high', 'preterm delivery', 'prevention hiv', 'primary biliary', 'primary dysmenorrhea', 'primary graft', 'primary hepatocellular', 'primary hypercholesterolemia', 'primary immunodeficiency', 'primary openangle', 'primary sjogren', 'procedural sedation', 'progressive familial', 'prostate cancer', 'prostate neoplasm', 'prostatic hyperplasia', 'prostatic neoplasia', 'prostatic neoplasms', 'protocol specific', 'psoriatic arthritis', 'pulmonary arterial', 'pulmonary disease', 'pulmonary edema', 'pulmonary embolism', 'pulmonary fibrosis', 'pulmonary hypertension', 'purpura thrombocytopenic', 'pylori infection', 'radiation exposure', 'radiocontrast nephropathy', 'radius fractures', 'recent history', 'receptornegative breast', 'recessive dystrophic', 'rectal neoplasm', 'rectal neoplasms', 'recurrent melanoma', 'recurrent prostate', 'recurrent urinary', 'reflux disease', 'refractory epilepsy', 'relapsed multiple', 'relapsing fever', 'relapsingremitting multiple', 'related macular', 'rem sleep', 'remission collagenous', 'renal calculi', 'renal cell', 'renal disease', 'renal failure', 'renal insufficiency', 'renal transplant', 'reperfusion injury', 'requiring colonoscopy', 'resistant chronic', 'resistant depression', 'resistant malaria', 'resistant solid', 'respiratory distress', 'respiratory failure', 'respiratory insufficiency', 'respiratory muscles', 'respiratory tract', 'responses vaccine', 'retinal degeneration', 'retinal disease', 'retinal vein', 'retinitis pigmentosa', 'retinopathy prematurity', 'rheumatoid arthritis', 'rotavirus infections', 'schizoaffective disorder', 'schizotypal personality', 'sclerosis als', 'sclerosis relapsingremitting', 'scorpion sting', 'seasonal allergic', 'secondary hyperparathyroidism', 'segment elevation', 'segmental glomerulosclerosis', 'segmental vitiligo', 'septic shock', 'serous chorioretinopathy', 'severe sepsis', 'sexual behavior', 'short bowel', 'shoulder pain', 'sickle cell', 'sinusoidal obstruction', 'site pain', 'sjogren syndrome', 'skin cancer', 'skin diseases', 'sleep apnea', 'sleep apnoea', 'sleep behavior', 'small cell', 'smoking cessation', 'social anxiety', 'soft tissue', 'solid malignancies', 'solid tumor', 'solid tumors', 'specified procedures', 'spinal cord', 'spinal fractures', 'spinal fusion', 'spinal muscular', 'spinocerebellar ataxia', 'spondylitis ankylosing', 'squamous cell', 'st elevation', 'st segment', 'stage breast', 'stage iii', 'stage iv', 'stage renal', 'standard therapy', 'staphylococcal infections', 'staphylococcus aureus', 'stelevation myocardial', 'stem cell', 'sting envenomation', 'stomach neoplasms', 'stone disease', 'stress disorder', 'stress psychological', 'stroke acute', 'stromal tumors', 'stsegment elevation', 'subarachnoid hemorrhage', 'subjects primary', 'subjets requiring', 'surgical interventions', 'syndrome adult', 'syndrome ards', 'system tumors', 'systemic lupus', 'systemic scleroderma', 'systemic sclerosis', 'tbi traumatic', 'tcell leukemia', 'tcell lymphoma', 'tea diabetes', 'tear knee', 'temporomandibular disorder', 'testicular germ', 'thalassemia majors', 'thoracic neoplasms', 'thrombocytopenic idiopathic', 'thrombocytopenic purpura', 'thyroid cancer', 'thyroid dysfunction', 'tis postlung', 'tissue sarcoma', 'tissue sarcomas', 'tobacco dependence', 'tobacco use', 'tooth disease', 'total knee', 'tourette syndrome', 'tract infection', 'tract infections', 'transient neurologic', 'transluminal percutaneous', 'transplant failure', 'transplant immunosuppression', 'transplant infection', 'transplant rejection', 'transporter type', 'transversus abdominis', 'traumatic brain', 'treatment resistant', 'trichomonal due', 'trigeminal neuralgia', 'tuberculosis infection', 'tuberculosis pulmonary', 'tumor ear', 'tumor egovarian', 'tumor protocol', 'tunnel syndrome', 'type deficiency', 'type diabetes', 'type ii', 'ulcer scleroderma', 'ulcerative colitis', 'ulcerative due', 'uncomplicated knowlesi', 'uncomplicated plasmodium', 'unspecified adult', 'unspecified ankle', 'upper airway', 'upper respiratory', 'urinary bladder', 'urinary incontinence', 'urinary tract', 'use disorder', 'uterine cervical', 'uterine leiomyomas', 'vaginitis trichomonal', 'valve disease', 'valve stenosis', 'variable immunodeficiency', 'vascular diseases', 'vascular stiffness', 'vasoocclusive pain', 'vegetative state', 'vein occlusion', 'vein thrombosis', 'venous disease', 'venous thromboembolism', 'venous thrombosis', 'ventilatorassociated pneumonia', 'ventricular arrhythmias', 'ventricular premature', 'versus host', 'vestibular schwannoma', 'villonodular synovitis', 'virus infection', 'virus prevention', 'virus subtype', 'vitamin bone', 'vitamin deficiency', 'vitreoretinal surgery', 'von hippellindau', 'vs host', 'vulvar lichen', 'waldenstrom macroglobulinemia', 'waldenström macroglobulinemia', 'wegener granulomatosis', 'wet macular', 'whole cell', 'whooping cough', 'willi syndrome', 'women osteoporosis', 'wuchereria bancrofti']\n"
     ]
    }
   ],
   "source": [
    "tfidf_condition_vectorizer = TfidfVectorizer(ngram_range=(2,2), max_features= 1000)\n",
    "tfidf_condition = tfidf_condition_vectorizer.fit_transform(X_train['condition'])\n",
    "print(tfidf_condition.shape)\n",
    "print(tfidf_condition_vectorizer.get_feature_names())"
   ]
  },
  {
   "cell_type": "code",
   "execution_count": 231,
   "metadata": {},
   "outputs": [
    {
     "data": {
      "text/html": [
       "<div>\n",
       "<style scoped>\n",
       "    .dataframe tbody tr th:only-of-type {\n",
       "        vertical-align: middle;\n",
       "    }\n",
       "\n",
       "    .dataframe tbody tr th {\n",
       "        vertical-align: top;\n",
       "    }\n",
       "\n",
       "    .dataframe thead th {\n",
       "        text-align: right;\n",
       "    }\n",
       "</style>\n",
       "<table border=\"1\" class=\"dataframe\">\n",
       "  <thead>\n",
       "    <tr style=\"text-align: right;\">\n",
       "      <th></th>\n",
       "      <th>abdominal hysterectomy</th>\n",
       "      <th>abdominal surgery</th>\n",
       "      <th>abdominis block</th>\n",
       "      <th>accidental falls</th>\n",
       "      <th>acellular pertussis</th>\n",
       "      <th>acid base</th>\n",
       "      <th>acne vulgaris</th>\n",
       "      <th>acquired bleeding</th>\n",
       "      <th>acquired immunodeficiency</th>\n",
       "      <th>actinic keratosis</th>\n",
       "      <th>...</th>\n",
       "      <th>vulvar lichen</th>\n",
       "      <th>waldenstrom macroglobulinemia</th>\n",
       "      <th>waldenström macroglobulinemia</th>\n",
       "      <th>wegener granulomatosis</th>\n",
       "      <th>wet macular</th>\n",
       "      <th>whole cell</th>\n",
       "      <th>whooping cough</th>\n",
       "      <th>willi syndrome</th>\n",
       "      <th>women osteoporosis</th>\n",
       "      <th>wuchereria bancrofti</th>\n",
       "    </tr>\n",
       "  </thead>\n",
       "  <tbody>\n",
       "    <tr>\n",
       "      <th>0</th>\n",
       "      <td>0.0</td>\n",
       "      <td>0.0</td>\n",
       "      <td>0.0</td>\n",
       "      <td>0.0</td>\n",
       "      <td>0.0</td>\n",
       "      <td>0.0</td>\n",
       "      <td>0.0</td>\n",
       "      <td>0.0</td>\n",
       "      <td>0.0</td>\n",
       "      <td>0.0</td>\n",
       "      <td>...</td>\n",
       "      <td>0.0</td>\n",
       "      <td>0.0</td>\n",
       "      <td>0.0</td>\n",
       "      <td>0.0</td>\n",
       "      <td>0.0</td>\n",
       "      <td>0.0</td>\n",
       "      <td>0.0</td>\n",
       "      <td>0.0</td>\n",
       "      <td>0.0</td>\n",
       "      <td>0.0</td>\n",
       "    </tr>\n",
       "    <tr>\n",
       "      <th>1</th>\n",
       "      <td>0.0</td>\n",
       "      <td>0.0</td>\n",
       "      <td>0.0</td>\n",
       "      <td>0.0</td>\n",
       "      <td>0.0</td>\n",
       "      <td>0.0</td>\n",
       "      <td>0.0</td>\n",
       "      <td>0.0</td>\n",
       "      <td>0.0</td>\n",
       "      <td>0.0</td>\n",
       "      <td>...</td>\n",
       "      <td>0.0</td>\n",
       "      <td>0.0</td>\n",
       "      <td>0.0</td>\n",
       "      <td>0.0</td>\n",
       "      <td>0.0</td>\n",
       "      <td>0.0</td>\n",
       "      <td>0.0</td>\n",
       "      <td>0.0</td>\n",
       "      <td>0.0</td>\n",
       "      <td>0.0</td>\n",
       "    </tr>\n",
       "    <tr>\n",
       "      <th>2</th>\n",
       "      <td>0.0</td>\n",
       "      <td>0.0</td>\n",
       "      <td>0.0</td>\n",
       "      <td>0.0</td>\n",
       "      <td>0.0</td>\n",
       "      <td>0.0</td>\n",
       "      <td>0.0</td>\n",
       "      <td>0.0</td>\n",
       "      <td>0.0</td>\n",
       "      <td>0.0</td>\n",
       "      <td>...</td>\n",
       "      <td>0.0</td>\n",
       "      <td>0.0</td>\n",
       "      <td>0.0</td>\n",
       "      <td>0.0</td>\n",
       "      <td>0.0</td>\n",
       "      <td>0.0</td>\n",
       "      <td>0.0</td>\n",
       "      <td>0.0</td>\n",
       "      <td>0.0</td>\n",
       "      <td>0.0</td>\n",
       "    </tr>\n",
       "    <tr>\n",
       "      <th>3</th>\n",
       "      <td>0.0</td>\n",
       "      <td>0.0</td>\n",
       "      <td>0.0</td>\n",
       "      <td>0.0</td>\n",
       "      <td>0.0</td>\n",
       "      <td>0.0</td>\n",
       "      <td>0.0</td>\n",
       "      <td>0.0</td>\n",
       "      <td>0.0</td>\n",
       "      <td>0.0</td>\n",
       "      <td>...</td>\n",
       "      <td>0.0</td>\n",
       "      <td>0.0</td>\n",
       "      <td>0.0</td>\n",
       "      <td>0.0</td>\n",
       "      <td>0.0</td>\n",
       "      <td>0.0</td>\n",
       "      <td>0.0</td>\n",
       "      <td>0.0</td>\n",
       "      <td>0.0</td>\n",
       "      <td>0.0</td>\n",
       "    </tr>\n",
       "    <tr>\n",
       "      <th>4</th>\n",
       "      <td>0.0</td>\n",
       "      <td>0.0</td>\n",
       "      <td>0.0</td>\n",
       "      <td>0.0</td>\n",
       "      <td>0.0</td>\n",
       "      <td>0.0</td>\n",
       "      <td>0.0</td>\n",
       "      <td>0.0</td>\n",
       "      <td>0.0</td>\n",
       "      <td>0.0</td>\n",
       "      <td>...</td>\n",
       "      <td>0.0</td>\n",
       "      <td>0.0</td>\n",
       "      <td>0.0</td>\n",
       "      <td>0.0</td>\n",
       "      <td>0.0</td>\n",
       "      <td>0.0</td>\n",
       "      <td>0.0</td>\n",
       "      <td>0.0</td>\n",
       "      <td>0.0</td>\n",
       "      <td>0.0</td>\n",
       "    </tr>\n",
       "  </tbody>\n",
       "</table>\n",
       "<p>5 rows × 1000 columns</p>\n",
       "</div>"
      ],
      "text/plain": [
       "   abdominal hysterectomy  abdominal surgery  abdominis block  \\\n",
       "0                     0.0                0.0              0.0   \n",
       "1                     0.0                0.0              0.0   \n",
       "2                     0.0                0.0              0.0   \n",
       "3                     0.0                0.0              0.0   \n",
       "4                     0.0                0.0              0.0   \n",
       "\n",
       "   accidental falls  acellular pertussis  acid base  acne vulgaris  \\\n",
       "0               0.0                  0.0        0.0            0.0   \n",
       "1               0.0                  0.0        0.0            0.0   \n",
       "2               0.0                  0.0        0.0            0.0   \n",
       "3               0.0                  0.0        0.0            0.0   \n",
       "4               0.0                  0.0        0.0            0.0   \n",
       "\n",
       "   acquired bleeding  acquired immunodeficiency  actinic keratosis  ...  \\\n",
       "0                0.0                        0.0                0.0  ...   \n",
       "1                0.0                        0.0                0.0  ...   \n",
       "2                0.0                        0.0                0.0  ...   \n",
       "3                0.0                        0.0                0.0  ...   \n",
       "4                0.0                        0.0                0.0  ...   \n",
       "\n",
       "   vulvar lichen  waldenstrom macroglobulinemia  \\\n",
       "0            0.0                            0.0   \n",
       "1            0.0                            0.0   \n",
       "2            0.0                            0.0   \n",
       "3            0.0                            0.0   \n",
       "4            0.0                            0.0   \n",
       "\n",
       "   waldenström macroglobulinemia  wegener granulomatosis  wet macular  \\\n",
       "0                            0.0                     0.0          0.0   \n",
       "1                            0.0                     0.0          0.0   \n",
       "2                            0.0                     0.0          0.0   \n",
       "3                            0.0                     0.0          0.0   \n",
       "4                            0.0                     0.0          0.0   \n",
       "\n",
       "   whole cell  whooping cough  willi syndrome  women osteoporosis  \\\n",
       "0         0.0             0.0             0.0                 0.0   \n",
       "1         0.0             0.0             0.0                 0.0   \n",
       "2         0.0             0.0             0.0                 0.0   \n",
       "3         0.0             0.0             0.0                 0.0   \n",
       "4         0.0             0.0             0.0                 0.0   \n",
       "\n",
       "   wuchereria bancrofti  \n",
       "0                   0.0  \n",
       "1                   0.0  \n",
       "2                   0.0  \n",
       "3                   0.0  \n",
       "4                   0.0  \n",
       "\n",
       "[5 rows x 1000 columns]"
      ]
     },
     "execution_count": 231,
     "metadata": {},
     "output_type": "execute_result"
    }
   ],
   "source": [
    "tfidf_condition_df = pd.DataFrame(tfidf_condition.toarray())\n",
    "tfidf_condition_df.columns = tfidf_condition_vectorizer.get_feature_names()\n",
    "tfidf_condition_df.head()"
   ]
  },
  {
   "cell_type": "code",
   "execution_count": 232,
   "metadata": {},
   "outputs": [
    {
     "name": "stdout",
     "output_type": "stream",
     "text": [
      "\n",
      "\n",
      "Words : \n",
      "                         term       rank\n",
      "442           hiv infections  79.000000\n",
      "289        diabetes mellitus  71.806709\n",
      "946            type diabetes  59.063247\n",
      "136            breast cancer  58.908783\n",
      "165  cardiovascular diseases  39.000000\n",
      "776          prostate cancer  36.112965\n",
      "420            heart failure  27.428912\n",
      "588            mellitus type  27.138763\n",
      "614         multiple myeloma  23.769318\n",
      "833     rheumatoid arthritis  23.481180\n"
     ]
    }
   ],
   "source": [
    "#get top ranking features\n",
    "\n",
    "sums = tfidf_condition_df.sum(axis = 0) \n",
    "data1 = [] \n",
    "for col, term in enumerate(tfidf_condition_df.columns): \n",
    "    data1.append( (term, sums[col] )) \n",
    "ranking = pd.DataFrame(data1, columns = ['term', 'rank']) \n",
    "words = (ranking.sort_values('rank', ascending = False)) \n",
    "print (\"\\n\\nWords : \\n\", words.head(10))"
   ]
  },
  {
   "cell_type": "code",
   "execution_count": 147,
   "metadata": {},
   "outputs": [
    {
     "name": "stderr",
     "output_type": "stream",
     "text": [
      "C:\\Users\\Public\\Anaconda3\\lib\\site-packages\\pandas\\core\\indexing.py:1743: SettingWithCopyWarning: \n",
      "A value is trying to be set on a copy of a slice from a DataFrame.\n",
      "Try using .loc[row_indexer,col_indexer] = value instead\n",
      "\n",
      "See the caveats in the documentation: https://pandas.pydata.org/pandas-docs/stable/user_guide/indexing.html#returning-a-view-versus-a-copy\n",
      "  isetter(ilocs[0], value)\n"
     ]
    }
   ],
   "source": [
    "X_train.loc[:, 'textblock'] = X_train['textblock'].map(get_tokens)\n",
    "X_train.loc[:, 'textblock'] = X_train['textblock'].map(lambda x: ' '.join(x))"
   ]
  },
  {
   "cell_type": "code",
   "execution_count": 234,
   "metadata": {},
   "outputs": [
    {
     "name": "stdout",
     "output_type": "stream",
     "text": [
      "(3614, 2000)\n",
      "['abdominal pain', 'ability give', 'able comply', 'able give', 'able provide', 'able understand', 'able willing', 'absence disease', 'absolute neutrophil', 'abuse dependence', 'abuse within', 'acceptable method', 'acceptable methods', 'accrual total', 'accrued study', 'ace inhibitors', 'active drug', 'active hepatitis', 'active infection', 'active malignancy', 'active treatment', 'acute chronic', 'acute coronary', 'acute ischemic', 'acute myeloid', 'acute myocardial', 'acute respiratory', 'addition patients', 'additional patients', 'adequate contraception', 'adequate contraceptive', 'adequately treated', 'adjuvant chemotherapy', 'adjuvant therapy', 'administration fda', 'administration study', 'adult patients', 'advanced disease', 'advanced metastatic', 'adverse effects', 'adverse event', 'adverse events', 'adverse reaction', 'adverse reactions', 'age gender', 'age greater', 'age inclusive', 'age less', 'age must', 'age older', 'age performance', 'age time', 'age years', 'aged years', 'agent within', 'agents within', 'ages years', 'agree use', 'aim determine', 'aim study', 'aim trial', 'alanine aminotransferase', 'alanine transaminase', 'alcohol abuse', 'alcohol drug', 'alcohol substance', 'alcohol use', 'alkaline phosphatase', 'allergic reaction', 'allergic reactions', 'allergic rhinitis', 'allergy hypersensitivity', 'alone combination', 'also receive', 'also used', 'alt ast', 'alt sgpt', 'alt times', 'alt uln', 'alzheimer disease', 'american college', 'american society', 'aminotransferase alt', 'aminotransferase ast', 'among patients', 'analysis performed', 'angina pectoris', 'animal models', 'animal studies', 'another clinical', 'another investigational', 'another study', 'antibiotic therapy', 'antibiotic treatment', 'anticancer therapy', 'anticoagulant therapy', 'anticoagulation therapy', 'antigen hbsag', 'antiinflammatory drugs', 'antiplatelet therapy', 'antiretroviral therapy', 'aortic stenosis', 'aortic valve', 'approved fda', 'approximately patients', 'approximately weeks', 'arm ii', 'arm patients', 'arterial blood', 'arterial hypertension', 'arterial pressure', 'artery bypass', 'artery disease', 'aspartate aminotransferase', 'assess effect', 'assess efficacy', 'assess safety', 'assess whether', 'assessed using', 'assigned one', 'assigned receive', 'assigned treatment', 'associated increased', 'association class', 'association nyha', 'ast alanine', 'ast alt', 'atrial fibrillation', 'autoimmune disease', 'back pain', 'bariatric surgery', 'barrier method', 'barrier methods', 'basal cell', 'basal squamous', 'based medical', 'based upon', 'baseline months', 'baseline visit', 'baseline weeks', 'bcell lymphoma', 'bearing potential', 'become pregnant', 'becoming pregnant', 'beginning study', 'beneficial effect', 'beneficial effects', 'bilateral oophorectomy', 'bilirubin less', 'bilirubin mgdl', 'bilirubin uln', 'biologic therapy', 'bipolar disorder', 'birth control', 'birth weight', 'bleeding diathesis', 'bleeding disorder', 'bleeding disorders', 'blood blood', 'blood cell', 'blood cells', 'blood count', 'blood counts', 'blood draw', 'blood drawn', 'blood draws', 'blood flow', 'blood glucose', 'blood pressure', 'blood products', 'blood sample', 'blood samples', 'blood sampling', 'blood stem', 'blood sugar', 'blood test', 'blood tests', 'blood transfusion', 'blood urine', 'blood vessels', 'body composition', 'body mass', 'body weight', 'bone loss', 'bone marrow', 'botulinum toxin', 'bowel disease', 'bowel preparation', 'bp mmhg', 'brain injury', 'brain metastases', 'branch block', 'breast cancer', 'breast feeding', 'breastfeeding women', 'bundle branch', 'bypass graft', 'bypass surgery', 'cancer carcinoma', 'cancer cells', 'cancer institute', 'cancer objectives', 'cancer patients', 'cancer treatment', 'carcinoma situ', 'carcinoma skin', 'cardiac arrest', 'cardiac arrhythmia', 'cardiac arrhythmias', 'cardiac catheterization', 'cardiac disease', 'cardiac function', 'cardiac output', 'cardiac pulmonary', 'cardiac surgery', 'cardiopulmonary bypass', 'cardiovascular disease', 'cardiovascular events', 'cardiovascular risk', 'care patients', 'care treatment', 'care unit', 'cataract surgery', 'cause death', 'cell anemia', 'cell carcinoma', 'cell count', 'cell disease', 'cell growth', 'cell lines', 'cell lung', 'cell lymphoma', 'cell skin', 'cell squamous', 'cell transplant', 'cell transplantation', 'cells dividing', 'central nervous', 'central venous', 'cerebrovascular accident', 'cervical cancer', 'cervical carcinoma', 'chain reaction', 'change baseline', 'characteristics age', 'chemotherapy patients', 'chemotherapy prior', 'chemotherapy radiation', 'chemotherapy radiotherapy', 'chemotherapy regimen', 'chemotherapy regimens', 'chemotherapy use', 'chest pain', 'chest xray', 'child bearing', 'childbearing age', 'childbearing potential', 'children adolescents', 'children years', 'chronic disease', 'chronic hepatitis', 'chronic illness', 'chronic kidney', 'chronic liver', 'chronic medical', 'chronic obstructive', 'chronic pain', 'chronic renal', 'class ii', 'class iii', 'clearance greater', 'clearance mlmin', 'clinic visit', 'clinic visits', 'clinical benefit', 'clinical care', 'clinical center', 'clinical data', 'clinical diagnosis', 'clinical efficacy', 'clinical evidence', 'clinical examination', 'clinical followup', 'clinical laboratory', 'clinical outcome', 'clinical outcomes', 'clinical practice', 'clinical research', 'clinical response', 'clinical studies', 'clinical study', 'clinical symptoms', 'clinical trial', 'clinical trials', 'clinically indicated', 'clinically relevant', 'clinically significant', 'cns disease', 'cns metastases', 'cognitive function', 'cognitive impairment', 'cohort patients', 'cohorts patients', 'colorectal cancer', 'combination chemotherapy', 'combination therapy', 'commercially available', 'commonly used', 'compare effectiveness', 'compare effects', 'compare efficacy', 'compared control', 'compared patients', 'compared placebo', 'complete blood', 'complete remission', 'complete response', 'complete study', 'completion study', 'compliance protocol', 'compliance study', 'comply protocol', 'comply requirements', 'comply study', 'computed tomography', 'concomitant medication', 'concomitant medications', 'concurrent chemotherapy', 'concurrent therapy', 'condition opinion', 'condition would', 'confirmed diagnosis', 'congenital heart', 'congestive heart', 'conjugate vaccine', 'consecutive days', 'consent comply', 'consent document', 'consent exclusion', 'consent form', 'consent must', 'consent obtained', 'consent participate', 'consent patient', 'consent patients', 'consent prior', 'consent study', 'continuous infusion', 'contraception study', 'contraceptive measures', 'contraceptive method', 'contraceptive methods', 'control group', 'control patients', 'controlled clinical', 'controlled study', 'controlled trial', 'cooperative oncology', 'cord blood', 'coronary angiography', 'coronary artery', 'coronary heart', 'coronary intervention', 'coronary syndrome', 'could affect', 'could interfere', 'count anc', 'count greater', 'count least', 'count less', 'course study', 'creactive protein', 'creatinine clearance', 'creatinine greater', 'creatinine less', 'creatinine mgdl', 'criteria age', 'criteria aged', 'criteria confirmed', 'criteria diabetes', 'criteria diagnosed', 'criteria diagnosis', 'criteria eligible', 'criteria exclusion', 'criteria female', 'criteria history', 'criteria informed', 'criteria least', 'criteria male', 'criteria met', 'criteria must', 'criteria participant', 'criteria participants', 'criteria patient', 'criteria patients', 'criteria pregnant', 'criteria solid', 'criteria study', 'criteria subject', 'criteria subjects', 'criteria treatment', 'criteria type', 'criteria women', 'criteria years', 'criterion found', 'critically ill', 'crohn disease', 'crossover study', 'ct mri', 'ct scan', 'curatively treated', 'current standard', 'current study', 'current treatment', 'current use', 'currently available', 'currently receiving', 'currently taking', 'cystic fibrosis', 'cytologically confirmed', 'cytotoxic chemotherapy', 'daily days', 'daily dose', 'daily weeks', 'data analysis', 'data collected', 'data collection', 'data safety', 'data suggest', 'day day', 'day days', 'day patients', 'day study', 'day treatment', 'day visit', 'days day', 'days days', 'days enrollment', 'days first', 'days following', 'days last', 'days patients', 'days preceding', 'days prior', 'days screening', 'days since', 'days starting', 'days study', 'days treatment', 'days weeks', 'de novo', 'deep vein', 'defined least', 'defined serum', 'depressive disorder', 'depressive symptoms', 'design narrative', 'design study', 'designed evaluate', 'determine effect', 'determine effectiveness', 'determine effects', 'determine efficacy', 'determine safety', 'determine whether', 'determined investigator', 'device iud', 'diabetes mellitus', 'diabetic patients', 'diabetic retinopathy', 'diagnostic criteria', 'diastolic blood', 'dietary supplements', 'different doses', 'different ways', 'diffuse large', 'discretion investigator', 'disease activity', 'disease characteristics', 'disease chronic', 'disease condition', 'disease copd', 'disease defined', 'disease disease', 'disease eg', 'disease history', 'disease including', 'disease known', 'disease may', 'disease must', 'disease patients', 'disease prior', 'disease progression', 'disease requiring', 'disease severe', 'disease time', 'disease within', 'diseases including', 'disorder requiring', 'dividing stop', 'dose escalation', 'dose least', 'dose level', 'dose levels', 'dose limiting', 'dose mg', 'dose mtd', 'dose study', 'dose vaccine', 'double blind', 'doubleblind placebocontrolled', 'doubleblind randomized', 'drug abuse', 'drug administration', 'drug alcohol', 'drug patients', 'drug study', 'drug therapy', 'drug treatment', 'drug use', 'drug within', 'drugs nsaids', 'drugs used', 'drugs within', 'duration study', 'eastern cooperative', 'ecog performance', 'effective birth', 'effective contraception', 'effective method', 'effective treatment', 'effects treatment', 'efficacy safety', 'either eye', 'either placebo', 'ejection fraction', 'elderly patients', 'electrocardiogram ecg', 'eligibility criteria', 'eligible participants', 'eligible participate', 'eligible patients', 'eligible study', 'emergency department', 'emission tomography', 'end stage', 'end study', 'end treatment', 'endocrine therapy', 'endothelial dysfunction', 'endothelial function', 'endothelial growth', 'enrolled patients', 'enrolled study', 'enrollment patients', 'enrollment study', 'entering study', 'entire study', 'entry study', 'epidermal growth', 'equal gdl', 'equal greater', 'equal less', 'equal mgdl', 'equal times', 'equal uln', 'equal years', 'escalating doses', 'estimated glomerular', 'et al', 'ethics committee', 'evaluate effect', 'evaluate effectiveness', 'evaluate effects', 'evaluate efficacy', 'evaluate safety', 'evaluate whether', 'evaluation criteria', 'every day', 'every days', 'every hours', 'every minutes', 'every months', 'every week', 'every weeks', 'evidence active', 'evidence suggests', 'examination blood', 'examination laboratory', 'examine whether', 'except basal', 'excluded study', 'exclusion criteria', 'expectancy greater', 'expectancy least', 'expectancy less', 'expectancy months', 'experimental treatment', 'expiratory volume', 'extension phase', 'extension study', 'eye drops', 'factor receptor', 'failure new', 'failure nyha', 'failure patients', 'failure rate', 'failure unstable', 'family history', 'family member', 'fasting blood', 'fasting glucose', 'fasting plasma', 'fatty acids', 'fda approved', 'female patients', 'female subjects', 'female years', 'females childbearing', 'filtration rate', 'first days', 'first dose', 'first hours', 'first line', 'first months', 'first study', 'first vaccination', 'first weeks', 'fish oil', 'five years', 'folic acid', 'followed every', 'followed months', 'followed weeks', 'following conditions', 'following criteria', 'following laboratory', 'following medications', 'following study', 'following treatment', 'followup period', 'followup visit', 'followup visits', 'food drug', 'form contraception', 'forms contraception', 'found protocol', 'four weeks', 'fraction lvef', 'free survival', 'function defined', 'function patients', 'function tests', 'fungal infection', 'gastric cancer', 'gastrointestinal bleeding', 'gastrointestinal disease', 'gastrointestinal tract', 'general anesthesia', 'general health', 'general population', 'gestational age', 'gilbert syndrome', 'give informed', 'give written', 'glomerular filtration', 'glucose levels', 'glucose metabolism', 'glucose mgdl', 'glucose tolerance', 'glycemic control', 'goal study', 'good general', 'good health', 'grade ii', 'greater equal', 'greater mgdl', 'greater months', 'greater times', 'greater years', 'group ecog', 'group group', 'group patients', 'group receive', 'group received', 'group study', 'group subjects', 'groups group', 'groups patients', 'growing die', 'growth factor', 'growth factors', 'growth hormone', 'growth tumor', 'hcv infection', 'hcv rna', 'head neck', 'health care', 'health organization', 'health problem', 'health problems', 'health status', 'healthy adult', 'healthy adults', 'healthy subjects', 'healthy volunteers', 'heart association', 'heart attack', 'heart block', 'heart disease', 'heart failure', 'heart muscle', 'heart rate', 'hemoglobin gdl', 'hemoglobin greater', 'hepatic disease', 'hepatic function', 'hepatic renal', 'hepatitis antibody', 'hepatitis hepatitis', 'hepatitis infection', 'hepatitis surface', 'hepatitis virus', 'hepatocellular carcinoma', 'hg diastolic', 'high blood', 'high dose', 'high doses', 'high levels', 'high risk', 'higher dose', 'higher doses', 'higher risk', 'highly effective', 'histologically confirmed', 'histologically cytologically', 'history alcohol', 'history allergic', 'history allergy', 'history cancer', 'history chronic', 'history clinical', 'history clinically', 'history drug', 'history hypersensitivity', 'history malignancy', 'history physical', 'history severe', 'history significant', 'hiv hepatitis', 'hiv infected', 'hiv infection', 'hiv positive', 'hiv rna', 'hiv test', 'hiv vaccine', 'hormonal contraception', 'hormonal therapy', 'hormone replacement', 'hospital admission', 'hospital discharge', 'hospital stay', 'hours days', 'hours hours', 'hours prior', 'however patients', 'human immunodeficiency', 'hypertension systolic', 'icu patients', 'ii iii', 'ii patients', 'ii study', 'ii trial', 'iii iv', 'iii trial', 'ill patients', 'illness including', 'imaging mri', 'imaging studies', 'imatinib mesylate', 'immune cells', 'immune response', 'immune responses', 'immune system', 'immunodeficiency virus', 'immunosuppressive agents', 'immunosuppressive drugs', 'immunosuppressive therapy', 'important role', 'include patients', 'included study', 'including following', 'including limited', 'inclusion criteria', 'inclusion exclusion', 'inclusion study', 'inclusionexclusion criteria', 'increase risk', 'increased risk', 'index bmi', 'induction chemotherapy', 'induction therapy', 'infarction mi', 'infarction unstable', 'infarction within', 'infection requiring', 'infection within', 'infectious disease', 'infectious diseases', 'inflammatory bowel', 'inflammatory response', 'influenza vaccine', 'information criterion', 'informed consent', 'inhaled corticosteroids', 'initiation study', 'injection site', 'institutes health', 'institutional normal', 'institutional review', 'institutional upper', 'insulin glargine', 'insulin pump', 'insulin resistance', 'insulin secretion', 'insulin sensitivity', 'insulin therapy', 'intensive care', 'intercurrent illness', 'interfere study', 'interim analysis', 'international normalized', 'interpretation study', 'intervention group', 'intervention pci', 'intraocular pressure', 'intrauterine device', 'intravenous infusion', 'intravenous iv', 'investigate whether', 'investigational agent', 'investigational agents', 'investigational drug', 'investigational drugs', 'investigational medicinal', 'investigational nonregistered', 'investigational product', 'investigational study', 'investigator may', 'investigator might', 'investigator opinion', 'investigator would', 'investigators aim', 'investigators also', 'investigators hypothesize', 'investigators propose', 'ischemic attack', 'ischemic heart', 'ischemic stroke', 'iv days', 'iv hours', 'iv infusion', 'iv minutes', 'john wort', 'judged investigator', 'judgment investigator', 'kidney disease', 'kidney function', 'kidney transplant', 'kill tumor', 'known allergy', 'known history', 'known hypersensitivity', 'known suspected', 'laboratory abnormalities', 'laboratory parameters', 'laboratory results', 'laboratory tests', 'laboratory values', 'lactating women', 'large bcell', 'last days', 'last dose', 'last hours', 'last month', 'last months', 'last two', 'last weeks', 'last year', 'last years', 'ldl cholesterol', 'leading cause', 'least days', 'least hours', 'least minutes', 'least month', 'least months', 'least one', 'least three', 'least two', 'least weeks', 'least year', 'least years', 'left main', 'left ventricular', 'legal guardian', 'length stay', 'less days', 'less equal', 'less mgdl', 'less months', 'less times', 'less weeks', 'less years', 'level greater', 'life expectancy', 'limit compliance', 'limit normal', 'live attenuated', 'liver biopsy', 'liver disease', 'liver dysfunction', 'liver failure', 'liver function', 'liver kidney', 'liver metastases', 'liver renal', 'loading dose', 'local anesthetic', 'local anesthetics', 'locally advanced', 'long qt', 'long term', 'low back', 'low blood', 'low dose', 'low doses', 'low risk', 'lower limit', 'lung cancer', 'lung disease', 'lung function', 'lupus erythematosus', 'lymph node', 'lymph nodes', 'lymphoblastic leukemia', 'lymphocyte count', 'lymphocytic leukemia', 'macular edema', 'magnetic resonance', 'main objective', 'maintenance therapy', 'major cause', 'major depression', 'major depressive', 'major surgery', 'major surgical', 'male female', 'male patients', 'males females', 'malignancy except', 'malignancy within', 'malignant disease', 'management patients', 'many patients', 'marrow function', 'marrow transplantation', 'mass index', 'maximum dose', 'maximum tolerated', 'may affect', 'may also', 'may cause', 'may continue', 'may effective', 'may eligible', 'may enrolled', 'may help', 'may improve', 'may include', 'may included', 'may increase', 'may interfere', 'may kill', 'may lead', 'may participate', 'may receive', 'may result', 'may used', 'measurable disease', 'mechanical ventilation', 'mechanism action', 'medical care', 'medical center', 'medical condition', 'medical conditions', 'medical history', 'medical illness', 'medical monitor', 'medical psychiatric', 'medical therapy', 'medical treatment', 'medication use', 'medication within', 'medications known', 'medications within', 'medicinal product', 'meet criteria', 'meet following', 'meet inclusion', 'mellitus type', 'men women', 'mental health', 'metabolic syndrome', 'metastatic breast', 'metastatic disease', 'metastatic melanoma', 'method birth', 'method contraception', 'methods birth', 'methods contraception', 'mg daily', 'mg mg', 'mg per', 'mg po', 'mg twice', 'mgdl mmoll', 'might interfere', 'mild moderate', 'mm hg', 'mmhg diastolic', 'moderate severe', 'molecular weight', 'monoclonal antibodies', 'monoclonal antibody', 'month prior', 'months age', 'months completion', 'months enrollment', 'months exclusion', 'months first', 'months following', 'months followup', 'months history', 'months inclusion', 'months last', 'months months', 'months participants', 'months patients', 'months preceding', 'months prior', 'months screening', 'months since', 'months study', 'months treatment', 'months years', 'morbidity mortality', 'mri scan', 'multicenter randomized', 'multicenter study', 'multiple myeloma', 'multiple sclerosis', 'muscle strength', 'must able', 'must adequate', 'must agree', 'must documented', 'must greater', 'must least', 'must meet', 'must negative', 'must normal', 'must obtained', 'must received', 'must recovered', 'must sign', 'must stable', 'must use', 'must willing', 'must years', 'myeloid leukemia', 'myocardial infarction', 'myocardial ischemia', 'national cancer', 'national institutes', 'nature study', 'nausea vomiting', 'neck cancer', 'negative pregnancy', 'negative serum', 'negative urine', 'nervous system', 'neurological disorders', 'neuromuscular blockade', 'neutrophil count', 'new york', 'newly diagnosed', 'next months', 'nih clinical', 'nitric oxide', 'nonchildbearing potential', 'nonhodgkin lymphoma', 'nonmelanoma skin', 'nonsmall cell', 'nonsteroidal antiinflammatory', 'normal limits', 'normal range', 'normal renal', 'normal saline', 'normal uln', 'normalized ratio', 'number patients', 'nursing women', 'nyha class', 'objective determine', 'objective evaluate', 'objective response', 'objective study', 'objectives determine', 'objectives evaluate', 'objectives primary', 'objectives study', 'obstructive pulmonary', 'obtained within', 'older adults', 'older years', 'oncology group', 'one dose', 'one following', 'one group', 'one hour', 'one month', 'one prior', 'one study', 'one three', 'one two', 'one week', 'one year', 'ongoing active', 'open label', 'operating room', 'opinion investigator', 'opportunistic infection', 'opportunistic infections', 'optimal dose', 'oral contraceptives', 'oral medication', 'organ dysfunction', 'organ failure', 'organ function', 'outcome measure', 'outcome measures', 'outcomes include', 'outline randomized', 'ovarian cancer', 'overall survival', 'oxidative stress', 'oxygen saturation', 'pain control', 'pain intensity', 'pain management', 'pain relief', 'pain scores', 'pancreatic cancer', 'parent guardian', 'parkinson disease', 'part study', 'partial response', 'participant must', 'participants must', 'participants randomized', 'participants randomly', 'participants receive', 'participants received', 'participants study', 'participants undergo', 'participate study', 'participate trial', 'participating another', 'participating study', 'participation another', 'participation clinical', 'participation study', 'past days', 'past month', 'past months', 'past weeks', 'past year', 'past years', 'patient ability', 'patient characteristics', 'patient must', 'patient population', 'patient satisfaction', 'patients accrued', 'patients active', 'patients acute', 'patients admitted', 'patients advanced', 'patients age', 'patients aged', 'patients also', 'patients assigned', 'patients childbearing', 'patients chronic', 'patients currently', 'patients develop', 'patients diabetes', 'patients diagnosed', 'patients eligible', 'patients enrolled', 'patients evaluated', 'patients excluded', 'patients experience', 'patients followed', 'patients following', 'patients given', 'patients group', 'patients high', 'patients history', 'patients included', 'patients inclusion', 'patients known', 'patients may', 'patients metastatic', 'patients must', 'patients newly', 'patients outline', 'patients patients', 'patients per', 'patients pregnant', 'patients presenting', 'patients previously', 'patients primary', 'patients randomized', 'patients randomly', 'patients receive', 'patients received', 'patients receiving', 'patients recruited', 'patients recurrent', 'patients relapsed', 'patients schizophrenia', 'patients severe', 'patients stage', 'patients stratified', 'patients study', 'patients suffering', 'patients taking', 'patients treated', 'patients treatment', 'patients type', 'patients undergo', 'patients undergoing', 'patients whose', 'patients without', 'patients years', 'pediatric patients', 'peptic ulcer', 'per day', 'per group', 'per minute', 'per week', 'per year', 'percutaneous coronary', 'performance status', 'performed patients', 'performed using', 'performed within', 'period days', 'period months', 'period patients', 'period prior', 'period study', 'period time', 'period weeks', 'peripheral blood', 'peripheral neuropathy', 'peripheral vascular', 'pet scan', 'phase ii', 'phase iii', 'phase patients', 'phase study', 'phase trial', 'physical activity', 'physical exam', 'physical examination', 'pilot study', 'placebo controlled', 'placebo group', 'placebo patients', 'placebocontrolled study', 'placebocontrolled trial', 'planned use', 'planning become', 'plasma glucose', 'plasma levels', 'platelet aggregation', 'platelet count', 'polymerase chain', 'poor prognosis', 'poorly controlled', 'portion study', 'positive hepatitis', 'positive hiv', 'positive negative', 'positive patients', 'positive pregnancy', 'positive test', 'positive urine', 'positron emission', 'postmenopausal women', 'postoperative pain', 'postoperative period', 'potential defined', 'potential must', 'potential using', 'preceding first', 'preceding months', 'preclude study', 'prednisone equivalent', 'pregnancy lactation', 'pregnancy test', 'pregnancy testing', 'pregnant breast', 'pregnant breastfeeding', 'pregnant lactating', 'pregnant nursing', 'pregnant study', 'pregnant women', 'preliminary data', 'present study', 'pressure greater', 'pressure heart', 'pressure mm', 'pressure mmhg', 'preterm infants', 'previous days', 'previous history', 'previous months', 'previous studies', 'previous study', 'previous treatment', 'previous years', 'previously received', 'previously treated', 'primary care', 'primary endpoint', 'primary hypothesis', 'primary objective', 'primary objectives', 'primary outcome', 'primary purpose', 'primary secondary', 'primary tumor', 'principal investigator', 'prior administration', 'prior baseline', 'prior chemotherapy', 'prior concurrent', 'prior day', 'prior dosing', 'prior enrollment', 'prior enrolment', 'prior entering', 'prior entry', 'prior first', 'prior history', 'prior inclusion', 'prior initiation', 'prior participation', 'prior radiotherapy', 'prior randomization', 'prior registration', 'prior screening', 'prior start', 'prior starting', 'prior study', 'prior surgery', 'prior systemic', 'prior therapy', 'prior treatment', 'prior vaccination', 'prior visit', 'procedures exclusion', 'procedures performed', 'product within', 'products within', 'progression free', 'progression unacceptable', 'progressionfree survival', 'progressive disease', 'projected accrual', 'proportion patients', 'proposed study', 'prospective randomized', 'prospective study', 'prostate cancer', 'prothrombin time', 'protocol exclusion', 'protocol patients', 'protocol requirements', 'provide informed', 'provide written', 'psychiatric condition', 'psychiatric disease', 'psychiatric disorder', 'psychiatric disorders', 'psychiatric illness', 'psychotic disorder', 'public health', 'pulmonary artery', 'pulmonary disease', 'pulmonary edema', 'pulmonary embolism', 'pulmonary function', 'pulmonary hypertension', 'purpose phase', 'purpose randomized', 'purpose research', 'purpose study', 'qt interval', 'qtc interval', 'quality life', 'radiation therapy', 'randomized clinical', 'randomized controlled', 'randomized double', 'randomized doubleblind', 'randomized either', 'randomized one', 'randomized phase', 'randomized placebo', 'randomized placebocontrolled', 'randomized receive', 'randomized study', 'randomized treatment', 'randomized trial', 'randomly assigned', 'rating scale', 'rationale drugs', 'receive either', 'receive one', 'receive oral', 'receive placebo', 'receive single', 'receive standard', 'receive study', 'receive treatment', 'received investigational', 'received least', 'received prior', 'received treatment', 'receiving investigational', 'receiving treatment', 'recent studies', 'recent study', 'receptor antagonist', 'recist criteria', 'recombinant human', 'red blood', 'reduce risk', 'regimen patients', 'registered trademark', 'relapsed refractory', 'renal cell', 'renal disease', 'renal dysfunction', 'renal failure', 'renal function', 'renal hepatic', 'renal impairment', 'renal insufficiency', 'renal transplant', 'repeats every', 'replacement therapy', 'reproductive potential', 'required study', 'requirements protocol', 'requirements study', 'requiring hospitalization', 'requiring medication', 'requiring systemic', 'requiring treatment', 'research assistant', 'research study', 'research team', 'resonance imaging', 'respiratory distress', 'respiratory failure', 'respiratory rate', 'respiratory tract', 'response evaluation', 'response patients', 'response rate', 'response rates', 'response treatment', 'results study', 'retinal vein', 'reverse transcriptase', 'review board', 'rheumatoid arthritis', 'risk adverse', 'risk bleeding', 'risk cardiovascular', 'risk developing', 'risk factor', 'risk factors', 'risk patients', 'runin period', 'safe effective', 'safety data', 'safety effectiveness', 'safety efficacy', 'safety immunogenicity', 'safety monitoring', 'safety profile', 'safety tolerability', 'sample size', 'samples collected', 'scale vas', 'schizoaffective disorder', 'schizophrenia schizoaffective', 'score greater', 'screened medical', 'screening period', 'screening visit', 'second third', 'secondary endpoints', 'secondary objective', 'secondary objectives', 'secondary outcome', 'secondary outcomes', 'see appendix', 'seizure disorder', 'serious adverse', 'serious illness', 'serious medical', 'serum bilirubin', 'serum creatinine', 'serum levels', 'serum pregnancy', 'serum urine', 'seven days', 'several studies', 'severe acute', 'severe allergic', 'severe chronic', 'severe hepatic', 'sexually active', 'short term', 'shoulder pain', 'shown effective', 'sickle cell', 'side effect', 'side effects', 'sign informed', 'sign written', 'signed dated', 'signed informed', 'significant abnormalities', 'significant cardiac', 'significant cardiovascular', 'significant medical', 'significant reduction', 'signing informed', 'signs symptoms', 'similar chemical', 'since last', 'since prior', 'single agent', 'single dose', 'situ cervix', 'situations would', 'six months', 'six weeks', 'skeletal muscle', 'skin cancer', 'sleep apnea', 'smoking cessation', 'society anesthesiologists', 'soft tissue', 'solid tumor', 'solid tumors', 'specific aim', 'specific aims', 'specified hematopoietic', 'spinal cord', 'squamous cell', 'st john', 'stable disease', 'stable dose', 'stable least', 'stage ii', 'stage iii', 'stage iv', 'standard care', 'standard deviation', 'standard medical', 'standard therapy', 'standard treatment', 'start study', 'starting study', 'statistical analysis', 'statistically significant', 'status ecog', 'status life', 'stem cell', 'stem cells', 'steroid therapy', 'stop growing', 'stop growth', 'stop tumor', 'stratified according', 'stroke patients', 'studies demonstrated', 'studies performed', 'studies shown', 'studies suggest', 'study aims', 'study also', 'study assess', 'study compare', 'study completion', 'study conducted', 'study day', 'study days', 'study design', 'study designed', 'study determine', 'study drug', 'study drugs', 'study duration', 'study enrollment', 'study entry', 'study evaluate', 'study examine', 'study exclusion', 'study eye', 'study first', 'study following', 'study group', 'study history', 'study include', 'study including', 'study inclusion', 'study investigate', 'study investigational', 'study investigators', 'study last', 'study may', 'study medication', 'study medications', 'study months', 'study must', 'study objectives', 'study participant', 'study participants', 'study participation', 'study patient', 'study patients', 'study period', 'study phase', 'study physician', 'study population', 'study procedures', 'study protocol', 'study provide', 'study randomized', 'study receive', 'study requirements', 'study results', 'study screening', 'study see', 'study site', 'study staff', 'study start', 'study study', 'study subject', 'study subjects', 'study test', 'study therapy', 'study time', 'study treatment', 'study two', 'study use', 'study vaccination', 'study vaccine', 'study visit', 'study visits', 'study weeks', 'study within', 'study women', 'study would', 'subject must', 'subjects enrolled', 'subjects may', 'subjects must', 'subjects randomized', 'subjects receive', 'subjects received', 'subjects treated', 'subjects type', 'subjects years', 'substance abuse', 'suicidal ideation', 'surface antigen', 'surgery patients', 'surgery study', 'surgery within', 'surgical intervention', 'surgical procedure', 'surgical procedures', 'surgical resection', 'surgical sterilization', 'surgical treatment', 'surgically sterile', 'surgically sterilized', 'survival patients', 'survival rate', 'symptom onset', 'symptomatic congestive', 'system cns', 'systemic chemotherapy', 'systemic corticosteroids', 'systemic disease', 'systemic infection', 'systemic lupus', 'systemic steroids', 'systemic therapy', 'systemic treatment', 'systolic blood', 'take part', 'take place', 'target lesion', 'tcell lymphoma', 'test hypothesis', 'test patients', 'test performed', 'test positive', 'test result', 'test results', 'test safety', 'test screening', 'test whether', 'test within', 'test women', 'therapy biologic', 'therapy chemotherapy', 'therapy concurrent', 'therapy eg', 'therapy including', 'therapy inclusion', 'therapy least', 'therapy may', 'therapy must', 'therapy patients', 'therapy prior', 'therapy specified', 'therapy treatment', 'therapy weeks', 'therapy within', 'three days', 'three groups', 'three months', 'three times', 'three weeks', 'throughout study', 'thyroid disease', 'time enrollment', 'time first', 'time point', 'time points', 'time randomization', 'time screening', 'time signing', 'time study', 'times daily', 'times day', 'times normal', 'times per', 'times uln', 'times upper', 'tolerance test', 'tolerated dose', 'tomography ct', 'tomography pet', 'topical steroids', 'total bilirubin', 'total body', 'total number', 'total patients', 'toxic effects', 'toxicity patients', 'tract infection', 'transient ischemic', 'treated basal', 'treated regimens', 'treating patients', 'treating physician', 'treatment arm', 'treatment arms', 'treatment either', 'treatment failure', 'treatment group', 'treatment groups', 'treatment inclusion', 'treatment least', 'treatment may', 'treatment options', 'treatment patient', 'treatment patients', 'treatment period', 'treatment phase', 'treatment regimen', 'treatment regimens', 'treatment repeats', 'treatment study', 'treatment subjects', 'treatment weeks', 'treatment within', 'trial compare', 'trial comparing', 'trial conducted', 'trial designed', 'trial determine', 'trial evaluate', 'trial patients', 'trial study', 'trial studying', 'trial within', 'tubal ligation', 'tumor cells', 'tumor tissue', 'twice daily', 'twice day', 'two different', 'two doses', 'two groups', 'two months', 'two treatment', 'two weeks', 'two years', 'type diabetes', 'type ii', 'tyrosine kinase', 'ulcer disease', 'ulcerative colitis', 'uln creatinine', 'uln uln', 'unable comply', 'unacceptable toxicity', 'uncontrolled diabetes', 'uncontrolled hypertension', 'uncontrolled infection', 'united states', 'university hospital', 'unstable angina', 'unstable medical', 'unwilling use', 'upper limit', 'upper normal', 'uric acid', 'urinary tract', 'urine collection', 'urine pregnancy', 'urine samples', 'urine serum', 'urine tests', 'use acceptable', 'use adequate', 'use different', 'use effective', 'use investigational', 'use oral', 'use study', 'use within', 'used chemotherapy', 'used study', 'used treat', 'used treatment', 'using adequate', 'using effective', 'using standard', 'usual care', 'vaccine administration', 'vaccine planned', 'vaccine study', 'vaccine within', 'vaccines within', 'valproic acid', 'vascular disease', 'vascular endothelial', 'vein thrombosis', 'venous access', 'ventricular ejection', 'ventricular tachycardia', 'versus placebo', 'viral load', 'virus hcv', 'virus hiv', 'virus infection', 'visit day', 'visit visit', 'visit week', 'visual acuity', 'vital signs', 'vitamin supplementation', 'vs placebo', 'washout period', 'ways stop', 'week prior', 'week study', 'week treatment', 'week visit', 'week week', 'week weeks', 'weekly weeks', 'weeks enrollment', 'weeks first', 'weeks following', 'weeks gestation', 'weeks inclusion', 'weeks last', 'weeks months', 'weeks participants', 'weeks patients', 'weeks preceding', 'weeks prior', 'weeks screening', 'weeks since', 'weeks study', 'weeks treatment', 'weeks week', 'weeks weeks', 'weight gain', 'weight kg', 'weight loss', 'well controlled', 'well tolerated', 'western blot', 'whichever longer', 'white blood', 'whole body', 'widely used', 'willing able', 'willing participate', 'willing provide', 'willing use', 'within days', 'within first', 'within hours', 'within last', 'within month', 'within months', 'within next', 'within normal', 'within one', 'within past', 'within preceding', 'within previous', 'within six', 'within three', 'within two', 'within week', 'within weeks', 'within year', 'within years', 'without evidence', 'women childbearing', 'women women', 'women years', 'world health', 'would compromise', 'would interfere', 'would limit', 'would make', 'would preclude', 'would prevent', 'written consent', 'written informed', 'year old', 'year prior', 'years age', 'years diagnosis', 'years disease', 'years except', 'years exclusion', 'years inclusive', 'years old', 'years older', 'years patients', 'years prior', 'years study', 'years time', 'years years', 'yet known', 'york heart', 'young adults']\n"
     ]
    }
   ],
   "source": [
    "#X_train.loc[:, 'textblock'] = X_train['textblock'].map(lambda x: ' '.join(x))\n",
    "\n",
    "tfidf_textblock_vectorizer = TfidfVectorizer( ngram_range=(2,2), max_features = 2000)\n",
    "tfidf_textblock = tfidf_textblock_vectorizer.fit_transform(X_train['textblock'])\n",
    "\n",
    "print(tfidf_textblock.shape)\n",
    "print(tfidf_textblock_vectorizer.get_feature_names())"
   ]
  },
  {
   "cell_type": "code",
   "execution_count": 235,
   "metadata": {},
   "outputs": [
    {
     "data": {
      "text/html": [
       "<div>\n",
       "<style scoped>\n",
       "    .dataframe tbody tr th:only-of-type {\n",
       "        vertical-align: middle;\n",
       "    }\n",
       "\n",
       "    .dataframe tbody tr th {\n",
       "        vertical-align: top;\n",
       "    }\n",
       "\n",
       "    .dataframe thead th {\n",
       "        text-align: right;\n",
       "    }\n",
       "</style>\n",
       "<table border=\"1\" class=\"dataframe\">\n",
       "  <thead>\n",
       "    <tr style=\"text-align: right;\">\n",
       "      <th></th>\n",
       "      <th>abdominal pain</th>\n",
       "      <th>ability give</th>\n",
       "      <th>able comply</th>\n",
       "      <th>able give</th>\n",
       "      <th>able provide</th>\n",
       "      <th>able understand</th>\n",
       "      <th>able willing</th>\n",
       "      <th>absence disease</th>\n",
       "      <th>absolute neutrophil</th>\n",
       "      <th>abuse dependence</th>\n",
       "      <th>...</th>\n",
       "      <th>years old</th>\n",
       "      <th>years older</th>\n",
       "      <th>years patients</th>\n",
       "      <th>years prior</th>\n",
       "      <th>years study</th>\n",
       "      <th>years time</th>\n",
       "      <th>years years</th>\n",
       "      <th>yet known</th>\n",
       "      <th>york heart</th>\n",
       "      <th>young adults</th>\n",
       "    </tr>\n",
       "  </thead>\n",
       "  <tbody>\n",
       "    <tr>\n",
       "      <th>0</th>\n",
       "      <td>0.0</td>\n",
       "      <td>0.0</td>\n",
       "      <td>0.0</td>\n",
       "      <td>0.0</td>\n",
       "      <td>0.0</td>\n",
       "      <td>0.0</td>\n",
       "      <td>0.0</td>\n",
       "      <td>0.0</td>\n",
       "      <td>0.0</td>\n",
       "      <td>0.000000</td>\n",
       "      <td>...</td>\n",
       "      <td>0.0</td>\n",
       "      <td>0.0</td>\n",
       "      <td>0.0</td>\n",
       "      <td>0.0</td>\n",
       "      <td>0.0</td>\n",
       "      <td>0.0</td>\n",
       "      <td>0.0</td>\n",
       "      <td>0.0</td>\n",
       "      <td>0.0</td>\n",
       "      <td>0.0</td>\n",
       "    </tr>\n",
       "    <tr>\n",
       "      <th>1</th>\n",
       "      <td>0.0</td>\n",
       "      <td>0.0</td>\n",
       "      <td>0.0</td>\n",
       "      <td>0.0</td>\n",
       "      <td>0.0</td>\n",
       "      <td>0.0</td>\n",
       "      <td>0.0</td>\n",
       "      <td>0.0</td>\n",
       "      <td>0.0</td>\n",
       "      <td>0.000000</td>\n",
       "      <td>...</td>\n",
       "      <td>0.0</td>\n",
       "      <td>0.0</td>\n",
       "      <td>0.0</td>\n",
       "      <td>0.0</td>\n",
       "      <td>0.0</td>\n",
       "      <td>0.0</td>\n",
       "      <td>0.0</td>\n",
       "      <td>0.0</td>\n",
       "      <td>0.0</td>\n",
       "      <td>0.0</td>\n",
       "    </tr>\n",
       "    <tr>\n",
       "      <th>2</th>\n",
       "      <td>0.0</td>\n",
       "      <td>0.0</td>\n",
       "      <td>0.0</td>\n",
       "      <td>0.0</td>\n",
       "      <td>0.0</td>\n",
       "      <td>0.0</td>\n",
       "      <td>0.0</td>\n",
       "      <td>0.0</td>\n",
       "      <td>0.0</td>\n",
       "      <td>0.000000</td>\n",
       "      <td>...</td>\n",
       "      <td>0.0</td>\n",
       "      <td>0.0</td>\n",
       "      <td>0.0</td>\n",
       "      <td>0.0</td>\n",
       "      <td>0.0</td>\n",
       "      <td>0.0</td>\n",
       "      <td>0.0</td>\n",
       "      <td>0.0</td>\n",
       "      <td>0.0</td>\n",
       "      <td>0.0</td>\n",
       "    </tr>\n",
       "    <tr>\n",
       "      <th>3</th>\n",
       "      <td>0.0</td>\n",
       "      <td>0.0</td>\n",
       "      <td>0.0</td>\n",
       "      <td>0.0</td>\n",
       "      <td>0.0</td>\n",
       "      <td>0.0</td>\n",
       "      <td>0.0</td>\n",
       "      <td>0.0</td>\n",
       "      <td>0.0</td>\n",
       "      <td>0.000000</td>\n",
       "      <td>...</td>\n",
       "      <td>0.0</td>\n",
       "      <td>0.0</td>\n",
       "      <td>0.0</td>\n",
       "      <td>0.0</td>\n",
       "      <td>0.0</td>\n",
       "      <td>0.0</td>\n",
       "      <td>0.0</td>\n",
       "      <td>0.0</td>\n",
       "      <td>0.0</td>\n",
       "      <td>0.0</td>\n",
       "    </tr>\n",
       "    <tr>\n",
       "      <th>4</th>\n",
       "      <td>0.0</td>\n",
       "      <td>0.0</td>\n",
       "      <td>0.0</td>\n",
       "      <td>0.0</td>\n",
       "      <td>0.0</td>\n",
       "      <td>0.0</td>\n",
       "      <td>0.0</td>\n",
       "      <td>0.0</td>\n",
       "      <td>0.0</td>\n",
       "      <td>0.221026</td>\n",
       "      <td>...</td>\n",
       "      <td>0.0</td>\n",
       "      <td>0.0</td>\n",
       "      <td>0.0</td>\n",
       "      <td>0.0</td>\n",
       "      <td>0.0</td>\n",
       "      <td>0.0</td>\n",
       "      <td>0.0</td>\n",
       "      <td>0.0</td>\n",
       "      <td>0.0</td>\n",
       "      <td>0.0</td>\n",
       "    </tr>\n",
       "  </tbody>\n",
       "</table>\n",
       "<p>5 rows × 2000 columns</p>\n",
       "</div>"
      ],
      "text/plain": [
       "   abdominal pain  ability give  able comply  able give  able provide  \\\n",
       "0             0.0           0.0          0.0        0.0           0.0   \n",
       "1             0.0           0.0          0.0        0.0           0.0   \n",
       "2             0.0           0.0          0.0        0.0           0.0   \n",
       "3             0.0           0.0          0.0        0.0           0.0   \n",
       "4             0.0           0.0          0.0        0.0           0.0   \n",
       "\n",
       "   able understand  able willing  absence disease  absolute neutrophil  \\\n",
       "0              0.0           0.0              0.0                  0.0   \n",
       "1              0.0           0.0              0.0                  0.0   \n",
       "2              0.0           0.0              0.0                  0.0   \n",
       "3              0.0           0.0              0.0                  0.0   \n",
       "4              0.0           0.0              0.0                  0.0   \n",
       "\n",
       "   abuse dependence  ...  years old  years older  years patients  years prior  \\\n",
       "0          0.000000  ...        0.0          0.0             0.0          0.0   \n",
       "1          0.000000  ...        0.0          0.0             0.0          0.0   \n",
       "2          0.000000  ...        0.0          0.0             0.0          0.0   \n",
       "3          0.000000  ...        0.0          0.0             0.0          0.0   \n",
       "4          0.221026  ...        0.0          0.0             0.0          0.0   \n",
       "\n",
       "   years study  years time  years years  yet known  york heart  young adults  \n",
       "0          0.0         0.0          0.0        0.0         0.0           0.0  \n",
       "1          0.0         0.0          0.0        0.0         0.0           0.0  \n",
       "2          0.0         0.0          0.0        0.0         0.0           0.0  \n",
       "3          0.0         0.0          0.0        0.0         0.0           0.0  \n",
       "4          0.0         0.0          0.0        0.0         0.0           0.0  \n",
       "\n",
       "[5 rows x 2000 columns]"
      ]
     },
     "execution_count": 235,
     "metadata": {},
     "output_type": "execute_result"
    }
   ],
   "source": [
    "tfidf_textblock_df = pd.DataFrame(tfidf_textblock.toarray())\n",
    "tfidf_textblock_df.columns = tfidf_textblock_vectorizer.get_feature_names()\n",
    "tfidf_textblock_df.head()"
   ]
  },
  {
   "cell_type": "code",
   "execution_count": 236,
   "metadata": {},
   "outputs": [
    {
     "name": "stdout",
     "output_type": "stream",
     "text": [
      "<class 'pandas.core.frame.DataFrame'>\n",
      "RangeIndex: 3614 entries, 0 to 3613\n",
      "Columns: 2000 entries, abdominal pain to young adults\n",
      "dtypes: float64(2000)\n",
      "memory usage: 55.1 MB\n"
     ]
    }
   ],
   "source": [
    "tfidf_textblock_df.info()"
   ]
  },
  {
   "cell_type": "code",
   "execution_count": 237,
   "metadata": {},
   "outputs": [
    {
     "name": "stdout",
     "output_type": "stream",
     "text": [
      "\n",
      "\n",
      "Words : \n",
      "                     term        rank\n",
      "793   inclusion criteria  125.375697\n",
      "592   exclusion criteria  123.028636\n",
      "813     informed consent   93.512780\n",
      "1421       purpose study   73.900669\n",
      "1950         within days   73.847135\n",
      "168       blood pressure   73.712822\n",
      "292       clinical trial   60.787732\n",
      "1984           years age   60.575346\n",
      "710        heart failure   56.620010\n",
      "443           days prior   56.437295\n"
     ]
    }
   ],
   "source": [
    "sums = tfidf_textblock_df.sum(axis = 0) \n",
    "data1 = [] \n",
    "for col, term in enumerate(tfidf_textblock_df.columns): \n",
    "    data1.append( (term, sums[col] )) \n",
    "ranking = pd.DataFrame(data1, columns = ['term', 'rank']) \n",
    "words = (ranking.sort_values('rank', ascending = False)) \n",
    "print (\"\\n\\nWords : \\n\", words.head(10))"
   ]
  },
  {
   "cell_type": "code",
   "execution_count": 148,
   "metadata": {},
   "outputs": [
    {
     "name": "stderr",
     "output_type": "stream",
     "text": [
      "C:\\Users\\Public\\Anaconda3\\lib\\site-packages\\ipykernel_launcher.py:1: SettingWithCopyWarning: \n",
      "A value is trying to be set on a copy of a slice from a DataFrame.\n",
      "Try using .loc[row_indexer,col_indexer] = value instead\n",
      "\n",
      "See the caveats in the documentation: https://pandas.pydata.org/pandas-docs/stable/user_guide/indexing.html#returning-a-view-versus-a-copy\n",
      "  \"\"\"Entry point for launching an IPython kernel.\n"
     ]
    }
   ],
   "source": [
    "X_train['textblock_len'] = X_train['textblock'].apply(lambda x: len(x) - x.count(\" \"))"
   ]
  },
  {
   "cell_type": "code",
   "execution_count": 154,
   "metadata": {},
   "outputs": [
    {
     "name": "stderr",
     "output_type": "stream",
     "text": [
      "C:\\Users\\Public\\Anaconda3\\lib\\site-packages\\pandas\\core\\indexing.py:1743: SettingWithCopyWarning: \n",
      "A value is trying to be set on a copy of a slice from a DataFrame.\n",
      "Try using .loc[row_indexer,col_indexer] = value instead\n",
      "\n",
      "See the caveats in the documentation: https://pandas.pydata.org/pandas-docs/stable/user_guide/indexing.html#returning-a-view-versus-a-copy\n",
      "  isetter(ilocs[0], value)\n"
     ]
    }
   ],
   "source": [
    "X_train['intervention_type'] = X_train['intervention_type'].map(lambda x: get_tokens(' '.join(x)))\n",
    "X_train.loc[:, 'intervention_type'] = X_train['intervention_type'].map(lambda x: ' '.join(x))"
   ]
  },
  {
   "cell_type": "code",
   "execution_count": 159,
   "metadata": {},
   "outputs": [
    {
     "name": "stderr",
     "output_type": "stream",
     "text": [
      "C:\\Users\\Public\\Anaconda3\\lib\\site-packages\\ipykernel_launcher.py:1: SettingWithCopyWarning: \n",
      "A value is trying to be set on a copy of a slice from a DataFrame.\n",
      "Try using .loc[row_indexer,col_indexer] = value instead\n",
      "\n",
      "See the caveats in the documentation: https://pandas.pydata.org/pandas-docs/stable/user_guide/indexing.html#returning-a-view-versus-a-copy\n",
      "  \"\"\"Entry point for launching an IPython kernel.\n"
     ]
    }
   ],
   "source": [
    "X_train['intervention_type'] = X_train['intervention_type'].map(get_tokens)"
   ]
  },
  {
   "cell_type": "code",
   "execution_count": 160,
   "metadata": {},
   "outputs": [
    {
     "name": "stdout",
     "output_type": "stream",
     "text": [
      "(3614, 51)\n",
      "['behavioral behavioral', 'behavioral device', 'behavioral dietary', 'behavioral drug', 'behavioral procedure', 'biological biological', 'biological device', 'biological dietary', 'biological drug', 'biological procedure', 'biological radiation', 'combination product', 'device behavioral', 'device device', 'device diagnostic', 'device drug', 'device procedure', 'diagnostic test', 'dietary supplement', 'drug behavioral', 'drug biological', 'drug combination', 'drug device', 'drug diagnostic', 'drug dietary', 'drug drug', 'drug genetic', 'drug procedure', 'drug radiation', 'genetic biological', 'genetic drug', 'genetic procedure', 'genetic radiation', 'procedure behavioral', 'procedure biological', 'procedure device', 'procedure drug', 'procedure procedure', 'procedure radiation', 'product combination', 'product drug', 'radiation drug', 'radiation procedure', 'radiation radiation', 'supplement behavioral', 'supplement dietary', 'supplement drug', 'supplement procedure', 'test device', 'test diagnostic', 'test drug']\n"
     ]
    }
   ],
   "source": [
    "tfidf_int_type_vectorizer = TfidfVectorizer( ngram_range=(2,2))\n",
    "tfidf_int_type = tfidf_int_type_vectorizer.fit_transform(X_train['intervention_type'].map(lambda x: ' '.join(x)))\n",
    "print(tfidf_int_type.shape)\n",
    "print(tfidf_int_type_vectorizer.get_feature_names())"
   ]
  },
  {
   "cell_type": "code",
   "execution_count": 161,
   "metadata": {},
   "outputs": [
    {
     "data": {
      "text/html": [
       "<div>\n",
       "<style scoped>\n",
       "    .dataframe tbody tr th:only-of-type {\n",
       "        vertical-align: middle;\n",
       "    }\n",
       "\n",
       "    .dataframe tbody tr th {\n",
       "        vertical-align: top;\n",
       "    }\n",
       "\n",
       "    .dataframe thead th {\n",
       "        text-align: right;\n",
       "    }\n",
       "</style>\n",
       "<table border=\"1\" class=\"dataframe\">\n",
       "  <thead>\n",
       "    <tr style=\"text-align: right;\">\n",
       "      <th></th>\n",
       "      <th>behavioral behavioral</th>\n",
       "      <th>behavioral device</th>\n",
       "      <th>behavioral dietary</th>\n",
       "      <th>behavioral drug</th>\n",
       "      <th>behavioral procedure</th>\n",
       "      <th>biological biological</th>\n",
       "      <th>biological device</th>\n",
       "      <th>biological dietary</th>\n",
       "      <th>biological drug</th>\n",
       "      <th>biological procedure</th>\n",
       "      <th>...</th>\n",
       "      <th>radiation drug</th>\n",
       "      <th>radiation procedure</th>\n",
       "      <th>radiation radiation</th>\n",
       "      <th>supplement behavioral</th>\n",
       "      <th>supplement dietary</th>\n",
       "      <th>supplement drug</th>\n",
       "      <th>supplement procedure</th>\n",
       "      <th>test device</th>\n",
       "      <th>test diagnostic</th>\n",
       "      <th>test drug</th>\n",
       "    </tr>\n",
       "  </thead>\n",
       "  <tbody>\n",
       "    <tr>\n",
       "      <th>0</th>\n",
       "      <td>0.0</td>\n",
       "      <td>0.0</td>\n",
       "      <td>0.0</td>\n",
       "      <td>0.0</td>\n",
       "      <td>0.0</td>\n",
       "      <td>0.0</td>\n",
       "      <td>0.0</td>\n",
       "      <td>0.0</td>\n",
       "      <td>0.0</td>\n",
       "      <td>0.0</td>\n",
       "      <td>...</td>\n",
       "      <td>0.0</td>\n",
       "      <td>0.0</td>\n",
       "      <td>0.0</td>\n",
       "      <td>0.0</td>\n",
       "      <td>0.0</td>\n",
       "      <td>0.0</td>\n",
       "      <td>0.0</td>\n",
       "      <td>0.0</td>\n",
       "      <td>0.0</td>\n",
       "      <td>0.0</td>\n",
       "    </tr>\n",
       "    <tr>\n",
       "      <th>1</th>\n",
       "      <td>0.0</td>\n",
       "      <td>0.0</td>\n",
       "      <td>0.0</td>\n",
       "      <td>0.0</td>\n",
       "      <td>0.0</td>\n",
       "      <td>0.0</td>\n",
       "      <td>0.0</td>\n",
       "      <td>0.0</td>\n",
       "      <td>0.0</td>\n",
       "      <td>0.0</td>\n",
       "      <td>...</td>\n",
       "      <td>0.0</td>\n",
       "      <td>0.0</td>\n",
       "      <td>0.0</td>\n",
       "      <td>0.0</td>\n",
       "      <td>0.0</td>\n",
       "      <td>0.0</td>\n",
       "      <td>0.0</td>\n",
       "      <td>0.0</td>\n",
       "      <td>0.0</td>\n",
       "      <td>0.0</td>\n",
       "    </tr>\n",
       "    <tr>\n",
       "      <th>2</th>\n",
       "      <td>0.0</td>\n",
       "      <td>0.0</td>\n",
       "      <td>0.0</td>\n",
       "      <td>0.0</td>\n",
       "      <td>0.0</td>\n",
       "      <td>0.0</td>\n",
       "      <td>0.0</td>\n",
       "      <td>0.0</td>\n",
       "      <td>0.0</td>\n",
       "      <td>0.0</td>\n",
       "      <td>...</td>\n",
       "      <td>0.0</td>\n",
       "      <td>0.0</td>\n",
       "      <td>0.0</td>\n",
       "      <td>0.0</td>\n",
       "      <td>0.0</td>\n",
       "      <td>0.0</td>\n",
       "      <td>0.0</td>\n",
       "      <td>0.0</td>\n",
       "      <td>0.0</td>\n",
       "      <td>0.0</td>\n",
       "    </tr>\n",
       "    <tr>\n",
       "      <th>3</th>\n",
       "      <td>0.0</td>\n",
       "      <td>0.0</td>\n",
       "      <td>0.0</td>\n",
       "      <td>0.0</td>\n",
       "      <td>0.0</td>\n",
       "      <td>0.0</td>\n",
       "      <td>0.0</td>\n",
       "      <td>0.0</td>\n",
       "      <td>0.0</td>\n",
       "      <td>0.0</td>\n",
       "      <td>...</td>\n",
       "      <td>0.0</td>\n",
       "      <td>0.0</td>\n",
       "      <td>0.0</td>\n",
       "      <td>0.0</td>\n",
       "      <td>0.0</td>\n",
       "      <td>0.0</td>\n",
       "      <td>0.0</td>\n",
       "      <td>0.0</td>\n",
       "      <td>0.0</td>\n",
       "      <td>0.0</td>\n",
       "    </tr>\n",
       "    <tr>\n",
       "      <th>4</th>\n",
       "      <td>0.0</td>\n",
       "      <td>0.0</td>\n",
       "      <td>0.0</td>\n",
       "      <td>0.0</td>\n",
       "      <td>0.0</td>\n",
       "      <td>0.0</td>\n",
       "      <td>0.0</td>\n",
       "      <td>0.0</td>\n",
       "      <td>0.0</td>\n",
       "      <td>0.0</td>\n",
       "      <td>...</td>\n",
       "      <td>0.0</td>\n",
       "      <td>0.0</td>\n",
       "      <td>0.0</td>\n",
       "      <td>0.0</td>\n",
       "      <td>0.0</td>\n",
       "      <td>0.0</td>\n",
       "      <td>0.0</td>\n",
       "      <td>0.0</td>\n",
       "      <td>0.0</td>\n",
       "      <td>0.0</td>\n",
       "    </tr>\n",
       "  </tbody>\n",
       "</table>\n",
       "<p>5 rows × 51 columns</p>\n",
       "</div>"
      ],
      "text/plain": [
       "   behavioral behavioral  behavioral device  behavioral dietary  \\\n",
       "0                    0.0                0.0                 0.0   \n",
       "1                    0.0                0.0                 0.0   \n",
       "2                    0.0                0.0                 0.0   \n",
       "3                    0.0                0.0                 0.0   \n",
       "4                    0.0                0.0                 0.0   \n",
       "\n",
       "   behavioral drug  behavioral procedure  biological biological  \\\n",
       "0              0.0                   0.0                    0.0   \n",
       "1              0.0                   0.0                    0.0   \n",
       "2              0.0                   0.0                    0.0   \n",
       "3              0.0                   0.0                    0.0   \n",
       "4              0.0                   0.0                    0.0   \n",
       "\n",
       "   biological device  biological dietary  biological drug  \\\n",
       "0                0.0                 0.0              0.0   \n",
       "1                0.0                 0.0              0.0   \n",
       "2                0.0                 0.0              0.0   \n",
       "3                0.0                 0.0              0.0   \n",
       "4                0.0                 0.0              0.0   \n",
       "\n",
       "   biological procedure  ...  radiation drug  radiation procedure  \\\n",
       "0                   0.0  ...             0.0                  0.0   \n",
       "1                   0.0  ...             0.0                  0.0   \n",
       "2                   0.0  ...             0.0                  0.0   \n",
       "3                   0.0  ...             0.0                  0.0   \n",
       "4                   0.0  ...             0.0                  0.0   \n",
       "\n",
       "   radiation radiation  supplement behavioral  supplement dietary  \\\n",
       "0                  0.0                    0.0                 0.0   \n",
       "1                  0.0                    0.0                 0.0   \n",
       "2                  0.0                    0.0                 0.0   \n",
       "3                  0.0                    0.0                 0.0   \n",
       "4                  0.0                    0.0                 0.0   \n",
       "\n",
       "   supplement drug  supplement procedure  test device  test diagnostic  \\\n",
       "0              0.0                   0.0          0.0              0.0   \n",
       "1              0.0                   0.0          0.0              0.0   \n",
       "2              0.0                   0.0          0.0              0.0   \n",
       "3              0.0                   0.0          0.0              0.0   \n",
       "4              0.0                   0.0          0.0              0.0   \n",
       "\n",
       "   test drug  \n",
       "0        0.0  \n",
       "1        0.0  \n",
       "2        0.0  \n",
       "3        0.0  \n",
       "4        0.0  \n",
       "\n",
       "[5 rows x 51 columns]"
      ]
     },
     "execution_count": 161,
     "metadata": {},
     "output_type": "execute_result"
    }
   ],
   "source": [
    "tfidf_int_type_df = pd.DataFrame(tfidf_int_type.toarray())\n",
    "tfidf_int_type_df.columns = tfidf_int_type_vectorizer.get_feature_names()\n",
    "tfidf_int_type_df.head()"
   ]
  },
  {
   "cell_type": "code",
   "execution_count": 162,
   "metadata": {},
   "outputs": [
    {
     "name": "stdout",
     "output_type": "stream",
     "text": [
      "\n",
      "\n",
      "Words : \n",
      "                      term         rank\n",
      "25              drug drug  1445.274961\n",
      "5   biological biological   153.568429\n",
      "18     dietary supplement    88.140409\n",
      "13          device device    68.023834\n",
      "37    procedure procedure    67.075554\n",
      "0   behavioral behavioral    57.399544\n",
      "8         biological drug    51.272355\n",
      "27         drug procedure    48.298186\n",
      "36         procedure drug    32.174826\n",
      "45     supplement dietary    29.195898\n"
     ]
    }
   ],
   "source": [
    "sums = tfidf_int_type_df.sum(axis = 0) \n",
    "data1 = [] \n",
    "for col, term in enumerate(tfidf_int_type_df.columns): \n",
    "    data1.append( (term, sums[col] )) \n",
    "ranking = pd.DataFrame(data1, columns = ['term', 'rank']) \n",
    "words = (ranking.sort_values('rank', ascending = False)) \n",
    "print (\"\\n\\nWords : \\n\", words.head(10))"
   ]
  },
  {
   "cell_type": "code",
   "execution_count": 164,
   "metadata": {},
   "outputs": [
    {
     "name": "stderr",
     "output_type": "stream",
     "text": [
      "C:\\Users\\Public\\Anaconda3\\lib\\site-packages\\ipykernel_launcher.py:1: SettingWithCopyWarning: \n",
      "A value is trying to be set on a copy of a slice from a DataFrame.\n",
      "Try using .loc[row_indexer,col_indexer] = value instead\n",
      "\n",
      "See the caveats in the documentation: https://pandas.pydata.org/pandas-docs/stable/user_guide/indexing.html#returning-a-view-versus-a-copy\n",
      "  \"\"\"Entry point for launching an IPython kernel.\n"
     ]
    }
   ],
   "source": [
    "X_train['intervention_type_len'] = X_train['intervention_type'].apply(lambda x: len(x) - x.count(\" \"))"
   ]
  },
  {
   "cell_type": "code",
   "execution_count": 84,
   "metadata": {},
   "outputs": [
    {
     "name": "stderr",
     "output_type": "stream",
     "text": [
      "C:\\Users\\Public\\Anaconda3\\lib\\site-packages\\pandas\\core\\indexing.py:1743: SettingWithCopyWarning: \n",
      "A value is trying to be set on a copy of a slice from a DataFrame.\n",
      "Try using .loc[row_indexer,col_indexer] = value instead\n",
      "\n",
      "See the caveats in the documentation: https://pandas.pydata.org/pandas-docs/stable/user_guide/indexing.html#returning-a-view-versus-a-copy\n",
      "  isetter(ilocs[0], value)\n"
     ]
    }
   ],
   "source": [
    "X_train.loc[:, 'intervention_name'] = X_train['intervention_name'].map(lambda x: get_tokens(' '.join(x)))\n",
    "X_train.loc[:, 'intervention_name'] = X_train['intervention_name'].map(lambda x: ' '.join(x))"
   ]
  },
  {
   "cell_type": "code",
   "execution_count": 208,
   "metadata": {},
   "outputs": [
    {
     "name": "stdout",
     "output_type": "stream",
     "text": [
      "(3614, 1000)\n",
      "['abacavir sulfate', 'abciximab placebo', 'abraxane induction', 'ace inhibitor', 'acetaminophen iv', 'acetaminophen placebo', 'acetazolamide placebo', 'acetylsalicylic acid', 'acid dha', 'acid ezetimibe', 'acid levocarnitine', 'acid placebo', 'acid vit', 'acid vitamin', 'acids parenteral', 'acute consumption', 'acyline testosterone', 'adalimumab adalimumab', 'adalimumab delivered', 'adalimumab placebo', 'adductor canal', 'adefovir dipivoxil', 'adempas placebo', 'adherence information', 'adjuvant highdose', 'adjuvant mediumdose', 'adjuvant therapy', 'adjuvanted split', 'administered daily', 'airway pressure', 'albaconazole tablet', 'alendronic acid', 'alfa injection', 'alkaline phosphatase', 'allium cepa', 'allogeneic bone', 'allopurinol placebo', 'amg mg', 'amine acids', 'amiodarone case', 'amlodipine besylate', 'amlodipine mg', 'amniotic membrane', 'amodiaquine artesunate', 'amodiaquine vitamin', 'analogs lispro', 'anesthesia system', 'angioplasty transluminal', 'angiotensin receptor', 'animalis subsp', 'antegrade cardioplegia', 'antiarrhythmic drugs', 'antibiotic ns', 'anticancer agent', 'antigen receptor', 'antimoniate nmethylglucamine', 'antithymocyte globulin', 'antivenin centruroides', 'apremilast apremilast', 'apremilast mg', 'arginine placebo', 'arm breathemate', 'arm right', 'arm tbppd', 'aromatase inhibitors', 'artemetherlumefantrine combination', 'artery bypass', 'artesunate vitamin', 'ascorbic acid', 'asparaginase cyclophosphamide', 'aspart biphasic', 'aspart fasteracting', 'aspart insulin', 'aspirin clopidogrel', 'aspirin mg', 'aspirin placebo', 'assessing part', 'atorvastatin placebo', 'atorvastatin rosuvastatin', 'atropine eye', 'auditory training', 'autologous bone', 'autologous dendritic', 'autologous hematopoietic', 'autologous peripheral', 'autologous stem', 'autologous umbilical', 'av delay', 'avelumab mgkg', 'balloon catheter', 'bare metal', 'based eye', 'beam radiotherapy', 'beclomethasone dipropionate', 'behavioral therapy', 'bempedoic acid', 'best supportive', 'bevacizumab erlotinib', 'bevacizumab trabectedin', 'bifidobacterium animalis', 'bifidobacterium breve', 'bilateral movements', 'bimatoprost ophthalmic', 'biodegradable collagen', 'biologicals malaria', 'biomarker analysis', 'biopsy target', 'biphasic insulin', 'bivalent whole', 'block continuous', 'blood cells', 'blood markers', 'blood pressure', 'blood stem', 'blood transfusion', 'body irradiation', 'bone marrow', 'bonta injection', 'boosted protease', 'botulinum toxin', 'brachial plexus', 'breathemate device', 'breve bifidobacterium', 'breve placebos', 'bright light', 'buffer coli', 'bupivacaine dexmedetomidine', 'bupivacaine saline', 'bypass surgery', 'cabazitaxel cabazitaxel', 'cabg surgery', 'caffeine citrate', 'calcium carbonate', 'calcium mercaptopurine', 'calcium vitamin', 'canal block', 'cancer stem', 'capecitabine capecitabine', 'capecitabine oxaliplatin', 'capsiate natura', 'carbonate placebo', 'carboplatin cisplatin', 'carboplatin cyclophosphamide', 'carboplatin induction', 'carboplatin paclitaxel', 'carboplatin pemetrexed', 'carboxymethylcellulose based', 'cardiac resynchronization', 'care bsc', 'care maintenance', 'carmoterol chf', 'case complex', 'case management', 'caspofungin acetate', 'cataract surgery', 'catheter ablation', 'celecoxib placebo', 'cell oral', 'cell selection', 'cell therapy', 'cell transplant', 'cell transplantation', 'cell vaccine', 'cells autotransfusion', 'centruroides scorpion', 'cepa extract', 'certolizumab pegol', 'chemoembolization tace', 'chf carmoterol', 'chf placebo', 'child single', 'chlorhexidine gluconate', 'chloride injection', 'chloride nacl', 'chloride solution', 'chloroquine cq', 'chloroquine primaquine', 'cholecalciferol cholecalciferol', 'cholecalciferol placebo', 'cholera vaccine', 'cisplatin bevacizumab', 'cisplatin capecitabine', 'cisplatin carboplatin', 'cisplatin fluorouracil', 'cisplatin lowlet', 'cisplatin pemetrexed', 'clofazimine dapsone', 'clopidogrel clopidogrel', 'clopidogrel mg', 'closedloop anesthesia', 'cnto mgkg', 'coated balloon', 'coenzyme placebo', 'cognitive behavioral', 'cognitive remediation', 'cognitive retraining', 'cognitive therapy', 'coli strain', 'collagen matrix', 'comparator placebo', 'comparator sitagliptin', 'complex ventricular', 'computed tomography', 'concomitant comparator', 'conjugate vaccine', 'consumption capsiate', 'continuation phase', 'continuous glucose', 'continuous positive', 'control group', 'conventional surgery', 'cord blood', 'coronary artery', 'coronary coronary', 'coronary intervention', 'coronary stent', 'creatine monohydrate', 'current stimulation', 'cyclophosphamide cytarabine', 'cyclophosphamide docetaxel', 'cyclophosphamide doxorubicin', 'cyclophosphamide fludarabine', 'cyclophosphamide placebo', 'cytarabine daunorubicin', 'cytarabine etoposide', 'cytarabine mercaptopurine', 'czp mg', 'daily po', 'daily rtms', 'dapagliflozin placebo', 'dapsone mb', 'darbepoetin alfa', 'darvocet opana', 'darvocet placebo', 'daunorubicin hydrochloride', 'day three', 'days second', 'deep neuromuscular', 'degludec insulin', 'degludecinsulin aspart', 'degludecliraglutide insulin', 'delay programming', 'delivered current', 'delivered physiolis', 'dendritic cell', 'dendritic cells', 'detemir insulin', 'dexamethasone doxorubicin', 'dexamethasone etoposide', 'dexamethasone solution', 'dexamethasone vincristine', 'dexmedetomidine dexmedetomidine', 'dexmedetomidine low', 'dexmedetomidine midazolam', 'dexmedetomidine placebo', 'dexmedetomidine propofol', 'dextrose water', 'diabetic pt', 'diagnosis estrogen', 'dichloride xofigo', 'dichloroacetate sodium', 'didanosine efavirenz', 'diet fatrestricted', 'diet low', 'dietary supplement', 'dietary supplements', 'dilution antibiotic', 'direct current', 'disoproxil fumarate', 'distinct limbs', 'diuresis furosemide', 'diuretics plus', 'dna vaccine', 'dose adjuvant', 'dose budesonide', 'dose escalation', 'dose fentanyl', 'dose group', 'dose mg', 'dose nevirapine', 'dose pegylated', 'dose placebo', 'dose vaccine', 'doses clofazimine', 'dosing algorithm', 'double gamtbvac', 'double lumen', 'doxorubicin cyclophosphamide', 'doxorubicin hydrochloride', 'drop formulation', 'drops eye', 'drops solution', 'drug therapy', 'drugeluting stent', 'drugs ie', 'dry needling', 'duodenal exclusion', 'duration treatment', 'dutasteride placebo', 'efavirenz emtricitabinetenofovir', 'effect drug', 'effect pulsatile', 'efv lpvr', 'electrical stimulation', 'electron therapy', 'eluting stent', 'emission tomography', 'emtricitabine ftc', 'emtricitabinetenofovir disoproxil', 'encephalitis vaccine', 'enhanced usual', 'enriched natural', 'epinephrine tetracaine', 'epirubicin cisplatin', 'ergometer cycling', 'erlotinib hydrochloride', 'ertapenem sodium', 'ertugliflozin mg', 'erythropoietin epoetinbeta', 'escitalopram bupropion', 'estrogen treatment', 'etoposide cyclophosphamide', 'etoposide leucovorin', 'etoposide methotrexate', 'etoposide vincristine', 'etoricoxib mg', 'euro cicald', 'every day', 'evolocumab ezetimibe', 'evolocumab placebo', 'ex vivo', 'exenatide insulin', 'exercise program', 'exercise training', 'extended release', 'external beam', 'extract placebo', 'eye drop', 'eye drops', 'ezetimibe atorvastatin', 'ezetimibe placebo', 'fasteracting insulin', 'fat biopsy', 'fatty acid', 'fatty acids', 'febuxostat allopurinol', 'femoral nerve', 'fenofibrate placebo', 'fentanyl fentanyl', 'fentanyl low', 'filgrastim asparaginase', 'filgrastim carboplatin', 'filgrastim cyclophosphamide', 'filtering surgery', 'fish oil', 'fixed combination', 'flow nasal', 'fludarabine aldesleukin', 'fludarabine cyclophosphamide', 'fluoxetine placebo', 'fluoxetine treatment', 'fluticasone propionate', 'fluzone vaccine', 'focused ultrasound', 'folic acid', 'followed cisplatin', 'followed vka', 'following tavi', 'food diary', 'formoterol fumarate', 'formulation carboxymethylcellulose', 'ftctdf efv', 'full surface', 'fumarate combination', 'gamma ray', 'gamtbvac vaccination', 'gastric bypass', 'gcsf filgrastim', 'gel letrozole', 'gel placebo', 'gemcitabine cisplatin', 'gemcitabine hydrochloride', 'gemtuzumab ozogamicin', 'general anesthesia', 'glargine insulin', 'glargine metformin', 'glase solution', 'glass ionomer', 'glaucoma filtering', 'globulin intravenous', 'glucose monitoring', 'glutamine antioxidants', 'goserelin acetate', 'green tea', 'group atrasentan', 'group control', 'group group', 'growth hormone', 'gsk biologicals', 'gy ifrt', 'hdr planning', 'hematopoietic stem', 'hepatitis vaccine', 'high dose', 'high flow', 'highdose adjuvant', 'hormone related', 'hour every', 'hpv types', 'human albumin', 'human autologous', 'human hyaluronidase', 'human insulin', 'hybrid regimen', 'hydrochloride dexamethasone', 'hydrochloride etoposide', 'hydrochloride gemcitabine', 'hydrochloride paclitaxel', 'hydrochloride placebo', 'hydrocortisone placebo', 'hydromorphone hydromorphone', 'hydroxyethyl starch', 'hypertonic saline', 'ibuprofen acetaminophen', 'identical placebo', 'idursulfase mg', 'ie amiodarone', 'imatinib mesylate', 'immune globulin', 'immunologic technique', 'inactivated influenza', 'individual psychotherapy', 'indocyanine green', 'induction carboplatin', 'induction chemotherapy', 'infanrix hexa', 'infliximab mgkg', 'influenza vaccine', 'ingenol mebutate', 'inhalation solution', 'inhaled nitric', 'inhibitor placebo', 'inhibitor taf', 'injectable solution', 'injection saline', 'injections distinct', 'insulin analogs', 'insulin aspart', 'insulin crystals', 'insulin degludec', 'insulin degludecinsulin', 'insulin degludecliraglutide', 'insulin detemir', 'insulin diabetic', 'insulin glargine', 'insulin insulin', 'insulin lispro', 'insulin placebo', 'intensive insulin', 'interactive website', 'interferential current', 'interferon alfa', 'interferon ribavirin', 'interferongamma placebo', 'interleukin interleukin', 'interscalene brachial', 'intervention days', 'intraarticular injection', 'intradialytic exercise', 'intramuscular injections', 'intraoperative intravenous', 'intravenous solution', 'intravitreal triamcinolone', 'intravitreous dexamethasone', 'investigational vaccine', 'ipratropium bromide', 'irinotecan temsirolimus', 'isosorbide dinitrate', 'isotonic saline', 'isotonic solution', 'isradipine cr', 'iv insulin', 'iv tpa', 'ivacaftor mg', 'japanese encephalitis', 'ketamine placebo', 'ketamine saline', 'killed bivalent', 'laboratory biomarker', 'lamivudine lopinavirritonavir', 'lamivudine stavudine', 'lamotrigine mgday', 'laser mj', 'laser therapy', 'leaf extract', 'left arm', 'lenalidomide dexamethasone', 'lenalidomide doubleblind', 'lenalidomide mg', 'let lidocaine', 'letrozole placebo', 'leucovorin calcium', 'leucovorin oxaliplatin', 'levodopa benserazide', 'levothyroxine placebo', 'lidocaine epinephrine', 'lipid emulsion', 'lipoic acid', 'liposomal amphotericin', 'liposomal bupivacaine', 'liquid meal', 'liraglutide liraglutide', 'liraglutide placebo', 'lisdexamfetamine dimesylate', 'lithium carbonate', 'live attenuated', 'live okamerck', 'liver tumour', 'lnmma acetylcholine', 'lopinavirritonavir nevirapine', 'losartan mg', 'losartan placebo', 'losartan potassium', 'low dose', 'low molecular', 'low propofol', 'low protein', 'lowdose adjuvant', 'lowlet electron', 'lowlet gamma', 'lowlet photon', 'lreshap lenalidomide', 'lumen tube', 'magnesium sulfate', 'magnetic resonance', 'magnetic stimulation', 'malaria vaccine', 'maleate placebo', 'manipulative therapy', 'markers effect', 'marrow mononuclear', 'marrow transplantation', 'matched placebo', 'matching placebo', 'matrix implant', 'mavrilimumab mg', 'mb doses', 'mdd diagnosis', 'mebutate gel', 'mediumdose adjuvant', 'medtronic santa', 'melana ela', 'melatonin mg', 'melphalan prednisone', 'memantine placebo', 'meningococcal conjugate', 'meningococcal polysaccharide', 'menu labelling', 'mercaptopurine mesna', 'mercaptopurine methotrexate', 'mesenchymal stem', 'mesna methotrexate', 'mesylate placebo', 'metal stent', 'metformin mg', 'metformin pioglitazone', 'metformin placebo', 'methotrexate methylprednisolone', 'methotrexate pegaspargase', 'mg amg', 'mg capsule', 'mg comparator', 'mg czp', 'mg daily', 'mg dexamethasone', 'mg etoricoxib', 'mg ivacaftor', 'mg lreshap', 'mg mavrilimumab', 'mg mg', 'mg oral', 'mg placebo', 'mg ranibizumab', 'mg sc', 'mg tablet', 'mg ticagrelor', 'mg twice', 'mgkg cnto', 'mgkg placebo', 'mgkg primaquine', 'mgkg sugammadex', 'mgkg trebananib', 'microlipid fish', 'mifepristone placebo', 'mitoxantrone hydrochloride', 'ml intravitreous', 'molecular weight', 'monitoring system', 'mononuclear cell', 'mononuclear cells', 'montanide cpg', 'months following', 'motexafin gadolinium', 'mother child', 'movements neuromuscular', 'mycophenolate mofetil', 'myocardial contrast', 'myoinositol folic', 'nacetylcysteine placebo', 'naltrexone placebo', 'nasal spray', 'natura acute', 'natural compounds', 'necator americanus', 'nelfinavir mesylate', 'neoadjuvant therapy', 'neostigmine atropine', 'neostigmine glycopyrrolate', 'neostigmine placebo', 'nerve block', 'neuromuscular blockade', 'neuromuscular electrical', 'nevirapine mother', 'nevirapine zidovudine', 'nexavar placebo', 'niacin placebo', 'nicotine patch', 'nitric oxide', 'normal saline', 'novartis investigational', 'novartis seasonal', 'nph insulin', 'nutraceutical combination', 'nutrition education', 'nutrof total', 'octreotide lar', 'oculusgen biodegradable', 'olanzapine quetiapine', 'omalizumab placebo', 'opana darvocet', 'opana placebo', 'ophthalmic solution', 'oral capsule', 'oral cholera', 'oral omeprazole', 'oral placebo', 'oral product', 'oral tablet', 'oral testosterone', 'osteopathic manipulative', 'oxaliplatin irinotecan', 'oxytocin placebo', 'paclitaxel carboplatin', 'paclitaxel coated', 'pandemic influenza', 'parathyroid hormone', 'part assessing', 'part ii', 'patient information', 'pb doses', 'pegaspargase prednisone', 'peginterferon ribavirin', 'pegylated interferon', 'pemetrexed cisplatin', 'per day', 'percutaneous coronary', 'peripheral blood', 'pet scan', 'pfc sigma', 'pfspz challenge', 'pharmacological study', 'phase cognitive', 'photon therapy', 'physical activity', 'physical exercise', 'physical therapy', 'placebo alirocumab', 'placebo atorvastatin', 'placebo capsule', 'placebo capsules', 'placebo comparator', 'placebo darvocet', 'placebo denosumab', 'placebo dpi', 'placebo etanercept', 'placebo etoricoxib', 'placebo evolocumab', 'placebo ezetimibe', 'placebo gel', 'placebo group', 'placebo heparin', 'placebo insulin', 'placebo liraglutide', 'placebo losartan', 'placebo match', 'placebo mg', 'placebo nacl', 'placebo omarigliptin', 'placebo opana', 'placebo oral', 'placebo pill', 'placebo placebo', 'placebo prednisone', 'placebo single', 'placebo tablets', 'placebo unspecified', 'placebo vitamin', 'plasminogen activator', 'platelet rich', 'pledox µmolkg', 'plexus block', 'plus antiarrhythmic', 'plus laser', 'plus ribavirin', 'pneumococcal vaccine', 'po days', 'polyunsaturated fatty', 'pomalidomide dexamethasone', 'positive airway', 'positron emission', 'potassium chloride', 'prednisone dexamethasone', 'prednisone mg', 'prednisone placebo', 'prednisone prednisone', 'prednisone therapeutic', 'prefilled syringe', 'primaquine mgkg', 'primaquine phosphate', 'primary pci', 'processed meat', 'programming cardiac', 'propofol dexmedetomidine', 'propofol placebo', 'propranolol placebo', 'protease inhibitor', 'protein diet', 'protein parathyroid', 'pt blood', 'pulsatile iv', 'quadrivalent hpv', 'qualityoflife assessment', 'quetiapine risperidone', 'radiation therapy', 'radiotherapy temozolomide', 'ranibizumab targeted', 'ranolazine placebo', 'rapamycineluting stent', 'ray therapy', 'rdt hsrdt', 'receptor car', 'recession coverage', 'recombinant human', 'recombinant interferon', 'recombinant tat', 'recombinant vaccine', 'recombinant vaccinia', 'red blood', 'regimen cyclophosphamide', 'regular insulin', 'related protein', 'remifentanil fentanyl', 'repetitive transcranial', 'replacement therapy', 'resonance imaging', 'resynchronization therapy', 'retinal photocoagulation', 'retinoic acid', 'rh days', 'rich plasma', 'rifaximin placebo', 'right arm', 'riluzole placebo', 'ringer lactate', 'riociguat adempas', 'ritonavir nelfinavir', 'rituximab chop', 'rivaroxaban xarelto', 'rocuronium dose', 'rocuronium reversal', 'ropivacaine injection', 'ropivacaine mcg', 'ropivacaine ropivacaine', 'ropivacaine saline', 'rosa ca', 'rosiglitazone placebo', 'rotarix placebo', 'rotational atherectomy', 'rotavirus vaccine', 'routine care', 'rouxeny gastric', 'ruti ruti', 'saline infusion', 'saline placebo', 'saline solution', 'salsalate placebo', 'santa rosa', 'sargramostim mcgkgdose', 'saxagliptin placebo', 'sc mg', 'sch sch', 'seasonal influenza', 'selenium artesunate', 'semaglutide placebo', 'semaglutide semaglutide', 'semuloparin sodium', 'seroxat cognitive', 'sevoflurane propofol', 'sham tdcs', 'shigella sonnei', 'sigma knee', 'single dose', 'sirolimuseluting stent', 'sitagliptin glimepiride', 'sitagliptin mg', 'sitagliptin phosphate', 'sitagliptin placebo', 'sk mg', 'sodium bicarbonate', 'sodium chloride', 'sodium fluoride', 'sodium nitrite', 'sof rbv', 'sofvel sof', 'solution bimatoprost', 'solution ml', 'solution placebo', 'solution saline', 'sorafenib nexavar', 'spect imaging', 'spinal manipulation', 'spironolactone placebo', 'split virion', 'split virus', 'sporozoite challenge', 'standard care', 'standard dose', 'standard rdt', 'standard treatment', 'statin therapy', 'stavudine zidovudine', 'stem cell', 'stem cells', 'stent implantation', 'stent medtronic', 'stereotactic radiosurgery', 'sterile water', 'stimulating factor', 'stimulation bilateral', 'stimulation rtms', 'strain buffer', 'stretching exercise', 'subsp lactis', 'sucrose injection', 'sugammadex mgkg', 'sugammadex neostigmine', 'sugar pill', 'suggested hours', 'sulfate allogeneic', 'sulfate lidocaine', 'sulfate lowlet', 'sunitinib pazopanib', 'supportive care', 'suramin suramin', 'surface laser', 'surgery neoadjuvant', 'surgery radiation', 'surgical procedure', 'synflorix prevenar', 'syringe adalimumab', 'table olives', 'tablet placebo', 'tace transarterial', 'taf boosted', 'target liver', 'tat protein', 'tbppd left', 'tbppd right', 'tdcs sham', 'technique laboratory', 'telephone counseling', 'telephone support', 'tenofovir df', 'tenofovir disoproxil', 'test test', 'testosterone gel', 'testosterone group', 'testosterone patches', 'testosterone undecanoate', 'tetracaine gel', 'therapeutic hydrocortisone', 'therapy av', 'therapy cbt', 'therapy conventional', 'therapy dapt', 'therapy lowlet', 'therapy placebo', 'therapy radiation', 'therapy rehabilitation', 'thioguanine vincristine', 'three months', 'three weeks', 'thymus tissue', 'ticagrelor mg', 'timolol maleate', 'tinzaparin sodium', 'tissue plasminogen', 'tomography positron', 'topical lidocaine', 'topotecan hydrochloride', 'total body', 'toxin type', 'tpa normothermia', 'tramadol neostigmine', 'tranexamic acid', 'transarterial chemoembolization', 'transcranial direct', 'transcranial magnetic', 'transdermal patch', 'transluminal percutaneous', 'transplantation peripheral', 'transplantation radiation', 'trastuzumab docetaxel', 'treatment mdd', 'treatment part', 'treatment usual', 'treatment weeks', 'treatment years', 'trebananib mgkg', 'triamcinolone injection', 'trichiasis surgery', 'type normal', 'type placebo', 'types vlp', 'typhoid vi', 'ultrasound plus', 'umbilical cord', 'unfractionated heparin', 'upper extremity', 'use amine', 'use intraoperative', 'use placebo', 'usual care', 'vaccination dose', 'vaccine adenoviral', 'vaccine cyclophosphamide', 'vaccine doses', 'vaccine gsk', 'vaccine hepatitis', 'vaccine injections', 'vaccine japanese', 'vaccine killed', 'vaccine live', 'vaccine meningococcal', 'vaccine novartis', 'vaccine placebo', 'vaccine recombinant', 'vaccine split', 'vaccine strain', 'vaccine vaccine', 'valproic acid', 'vandetanib dose', 'varenicline placebo', 'vi vaccine', 'vincristine daunorubicin', 'vincristine sulfate', 'vinorelbine tartrate', 'virion inactivated', 'virus vaccine', 'vitamin amodiaquine', 'vitamin artesunate', 'vitamin cholecalciferol', 'vitamin group', 'vitamin iu', 'vitamin placebo', 'vitamin selenium', 'vitamin vitamin', 'vitamin zinc', 'vlp vaccine', 'volume peg', 'vs cypher', 'weeks part', 'weeks placebo', 'weight heparin', 'white meat', 'whole cell', 'whole wheat', 'xarelto enoxaparin', 'xofigo dichloride', 'years comparator', 'yukondes pearlstent', 'zalcitabine didanosine', 'zidovudine didanosine', 'zidovudine zalcitabine', 'zinc artesunate', 'zoledronic acid', 'zoll usa', 'zoster vaccine', 'µmolkg pledox', 'μg μg']\n"
     ]
    }
   ],
   "source": [
    "tfidf_int_name_vectorizer = TfidfVectorizer(ngram_range=(2,2), max_features = 1000)\n",
    "tfidf_int_name = tfidf_int_name_vectorizer.fit_transform(X_train['intervention_name'])\n",
    "print(tfidf_int_name.shape)\n",
    "print(tfidf_int_name_vectorizer.get_feature_names())"
   ]
  },
  {
   "cell_type": "code",
   "execution_count": 209,
   "metadata": {
    "scrolled": true
   },
   "outputs": [
    {
     "data": {
      "text/html": [
       "<div>\n",
       "<style scoped>\n",
       "    .dataframe tbody tr th:only-of-type {\n",
       "        vertical-align: middle;\n",
       "    }\n",
       "\n",
       "    .dataframe tbody tr th {\n",
       "        vertical-align: top;\n",
       "    }\n",
       "\n",
       "    .dataframe thead th {\n",
       "        text-align: right;\n",
       "    }\n",
       "</style>\n",
       "<table border=\"1\" class=\"dataframe\">\n",
       "  <thead>\n",
       "    <tr style=\"text-align: right;\">\n",
       "      <th></th>\n",
       "      <th>abacavir sulfate</th>\n",
       "      <th>abciximab placebo</th>\n",
       "      <th>abraxane induction</th>\n",
       "      <th>ace inhibitor</th>\n",
       "      <th>acetaminophen iv</th>\n",
       "      <th>acetaminophen placebo</th>\n",
       "      <th>acetazolamide placebo</th>\n",
       "      <th>acetylsalicylic acid</th>\n",
       "      <th>acid dha</th>\n",
       "      <th>acid ezetimibe</th>\n",
       "      <th>...</th>\n",
       "      <th>yukondes pearlstent</th>\n",
       "      <th>zalcitabine didanosine</th>\n",
       "      <th>zidovudine didanosine</th>\n",
       "      <th>zidovudine zalcitabine</th>\n",
       "      <th>zinc artesunate</th>\n",
       "      <th>zoledronic acid</th>\n",
       "      <th>zoll usa</th>\n",
       "      <th>zoster vaccine</th>\n",
       "      <th>µmolkg pledox</th>\n",
       "      <th>μg μg</th>\n",
       "    </tr>\n",
       "  </thead>\n",
       "  <tbody>\n",
       "    <tr>\n",
       "      <th>0</th>\n",
       "      <td>0.0</td>\n",
       "      <td>0.0</td>\n",
       "      <td>0.0</td>\n",
       "      <td>0.0</td>\n",
       "      <td>0.0</td>\n",
       "      <td>0.0</td>\n",
       "      <td>0.0</td>\n",
       "      <td>0.0</td>\n",
       "      <td>0.0</td>\n",
       "      <td>0.0</td>\n",
       "      <td>...</td>\n",
       "      <td>0.0</td>\n",
       "      <td>0.0</td>\n",
       "      <td>0.0</td>\n",
       "      <td>0.0</td>\n",
       "      <td>0.0</td>\n",
       "      <td>0.0</td>\n",
       "      <td>0.0</td>\n",
       "      <td>0.0</td>\n",
       "      <td>0.0</td>\n",
       "      <td>0.0</td>\n",
       "    </tr>\n",
       "    <tr>\n",
       "      <th>1</th>\n",
       "      <td>0.0</td>\n",
       "      <td>0.0</td>\n",
       "      <td>0.0</td>\n",
       "      <td>0.0</td>\n",
       "      <td>0.0</td>\n",
       "      <td>0.0</td>\n",
       "      <td>0.0</td>\n",
       "      <td>0.0</td>\n",
       "      <td>0.0</td>\n",
       "      <td>0.0</td>\n",
       "      <td>...</td>\n",
       "      <td>0.0</td>\n",
       "      <td>0.0</td>\n",
       "      <td>0.0</td>\n",
       "      <td>0.0</td>\n",
       "      <td>0.0</td>\n",
       "      <td>0.0</td>\n",
       "      <td>0.0</td>\n",
       "      <td>0.0</td>\n",
       "      <td>0.0</td>\n",
       "      <td>0.0</td>\n",
       "    </tr>\n",
       "    <tr>\n",
       "      <th>2</th>\n",
       "      <td>0.0</td>\n",
       "      <td>0.0</td>\n",
       "      <td>0.0</td>\n",
       "      <td>0.0</td>\n",
       "      <td>0.0</td>\n",
       "      <td>0.0</td>\n",
       "      <td>0.0</td>\n",
       "      <td>0.0</td>\n",
       "      <td>0.0</td>\n",
       "      <td>0.0</td>\n",
       "      <td>...</td>\n",
       "      <td>0.0</td>\n",
       "      <td>0.0</td>\n",
       "      <td>0.0</td>\n",
       "      <td>0.0</td>\n",
       "      <td>0.0</td>\n",
       "      <td>0.0</td>\n",
       "      <td>0.0</td>\n",
       "      <td>0.0</td>\n",
       "      <td>0.0</td>\n",
       "      <td>0.0</td>\n",
       "    </tr>\n",
       "    <tr>\n",
       "      <th>3</th>\n",
       "      <td>0.0</td>\n",
       "      <td>0.0</td>\n",
       "      <td>0.0</td>\n",
       "      <td>0.0</td>\n",
       "      <td>0.0</td>\n",
       "      <td>0.0</td>\n",
       "      <td>0.0</td>\n",
       "      <td>0.0</td>\n",
       "      <td>0.0</td>\n",
       "      <td>0.0</td>\n",
       "      <td>...</td>\n",
       "      <td>0.0</td>\n",
       "      <td>0.0</td>\n",
       "      <td>0.0</td>\n",
       "      <td>0.0</td>\n",
       "      <td>0.0</td>\n",
       "      <td>0.0</td>\n",
       "      <td>0.0</td>\n",
       "      <td>0.0</td>\n",
       "      <td>0.0</td>\n",
       "      <td>0.0</td>\n",
       "    </tr>\n",
       "    <tr>\n",
       "      <th>4</th>\n",
       "      <td>0.0</td>\n",
       "      <td>0.0</td>\n",
       "      <td>0.0</td>\n",
       "      <td>0.0</td>\n",
       "      <td>0.0</td>\n",
       "      <td>0.0</td>\n",
       "      <td>0.0</td>\n",
       "      <td>0.0</td>\n",
       "      <td>0.0</td>\n",
       "      <td>0.0</td>\n",
       "      <td>...</td>\n",
       "      <td>0.0</td>\n",
       "      <td>0.0</td>\n",
       "      <td>0.0</td>\n",
       "      <td>0.0</td>\n",
       "      <td>0.0</td>\n",
       "      <td>0.0</td>\n",
       "      <td>0.0</td>\n",
       "      <td>0.0</td>\n",
       "      <td>0.0</td>\n",
       "      <td>0.0</td>\n",
       "    </tr>\n",
       "  </tbody>\n",
       "</table>\n",
       "<p>5 rows × 1000 columns</p>\n",
       "</div>"
      ],
      "text/plain": [
       "   abacavir sulfate  abciximab placebo  abraxane induction  ace inhibitor  \\\n",
       "0               0.0                0.0                 0.0            0.0   \n",
       "1               0.0                0.0                 0.0            0.0   \n",
       "2               0.0                0.0                 0.0            0.0   \n",
       "3               0.0                0.0                 0.0            0.0   \n",
       "4               0.0                0.0                 0.0            0.0   \n",
       "\n",
       "   acetaminophen iv  acetaminophen placebo  acetazolamide placebo  \\\n",
       "0               0.0                    0.0                    0.0   \n",
       "1               0.0                    0.0                    0.0   \n",
       "2               0.0                    0.0                    0.0   \n",
       "3               0.0                    0.0                    0.0   \n",
       "4               0.0                    0.0                    0.0   \n",
       "\n",
       "   acetylsalicylic acid  acid dha  acid ezetimibe  ...  yukondes pearlstent  \\\n",
       "0                   0.0       0.0             0.0  ...                  0.0   \n",
       "1                   0.0       0.0             0.0  ...                  0.0   \n",
       "2                   0.0       0.0             0.0  ...                  0.0   \n",
       "3                   0.0       0.0             0.0  ...                  0.0   \n",
       "4                   0.0       0.0             0.0  ...                  0.0   \n",
       "\n",
       "   zalcitabine didanosine  zidovudine didanosine  zidovudine zalcitabine  \\\n",
       "0                     0.0                    0.0                     0.0   \n",
       "1                     0.0                    0.0                     0.0   \n",
       "2                     0.0                    0.0                     0.0   \n",
       "3                     0.0                    0.0                     0.0   \n",
       "4                     0.0                    0.0                     0.0   \n",
       "\n",
       "   zinc artesunate  zoledronic acid  zoll usa  zoster vaccine  µmolkg pledox  \\\n",
       "0              0.0              0.0       0.0             0.0            0.0   \n",
       "1              0.0              0.0       0.0             0.0            0.0   \n",
       "2              0.0              0.0       0.0             0.0            0.0   \n",
       "3              0.0              0.0       0.0             0.0            0.0   \n",
       "4              0.0              0.0       0.0             0.0            0.0   \n",
       "\n",
       "   μg μg  \n",
       "0    0.0  \n",
       "1    0.0  \n",
       "2    0.0  \n",
       "3    0.0  \n",
       "4    0.0  \n",
       "\n",
       "[5 rows x 1000 columns]"
      ]
     },
     "execution_count": 209,
     "metadata": {},
     "output_type": "execute_result"
    }
   ],
   "source": [
    "tfidf_int_name_df = pd.DataFrame(tfidf_int_name.toarray())\n",
    "tfidf_int_name_df.columns = tfidf_int_name_vectorizer.get_feature_names()\n",
    "tfidf_int_name_df.head()"
   ]
  },
  {
   "cell_type": "code",
   "execution_count": 210,
   "metadata": {},
   "outputs": [
    {
     "name": "stdout",
     "output_type": "stream",
     "text": [
      "\n",
      "\n",
      "Words : \n",
      "                     term       rank\n",
      "628        normal saline  32.982937\n",
      "512  liraglutide placebo  17.368086\n",
      "841            stem cell  13.319112\n",
      "819      sodium chloride  11.634004\n",
      "581           mg placebo  11.599300\n",
      "647          oral tablet  11.214979\n",
      "743    radiation therapy  11.186993\n",
      "454     insulin glargine  10.586602\n",
      "437    influenza vaccine  10.378937\n",
      "942           usual care  10.143678\n"
     ]
    }
   ],
   "source": [
    "sums = tfidf_int_name_df.sum(axis = 0) \n",
    "data1 = [] \n",
    "for col, term in enumerate(tfidf_int_name_df.columns): \n",
    "    data1.append( (term, sums[col] )) \n",
    "ranking = pd.DataFrame(data1, columns = ['term', 'rank']) \n",
    "words = (ranking.sort_values('rank', ascending = False)) \n",
    "print (\"\\n\\nWords : \\n\", words.head(10))"
   ]
  },
  {
   "cell_type": "code",
   "execution_count": 119,
   "metadata": {},
   "outputs": [
    {
     "name": "stderr",
     "output_type": "stream",
     "text": [
      "C:\\Users\\Public\\Anaconda3\\lib\\site-packages\\pandas\\core\\indexing.py:1743: SettingWithCopyWarning: \n",
      "A value is trying to be set on a copy of a slice from a DataFrame.\n",
      "Try using .loc[row_indexer,col_indexer] = value instead\n",
      "\n",
      "See the caveats in the documentation: https://pandas.pydata.org/pandas-docs/stable/user_guide/indexing.html#returning-a-view-versus-a-copy\n",
      "  isetter(ilocs[0], value)\n"
     ]
    }
   ],
   "source": [
    "X_train.loc[:, 'inter_name_len'] = X_train['intervention_name'].apply(lambda x: len(x) - x.count(\" \"))"
   ]
  },
  {
   "cell_type": "code",
   "execution_count": 102,
   "metadata": {},
   "outputs": [
    {
     "name": "stderr",
     "output_type": "stream",
     "text": [
      "C:\\Users\\Public\\Anaconda3\\lib\\site-packages\\pandas\\core\\indexing.py:1743: SettingWithCopyWarning: \n",
      "A value is trying to be set on a copy of a slice from a DataFrame.\n",
      "Try using .loc[row_indexer,col_indexer] = value instead\n",
      "\n",
      "See the caveats in the documentation: https://pandas.pydata.org/pandas-docs/stable/user_guide/indexing.html#returning-a-view-versus-a-copy\n",
      "  isetter(ilocs[0], value)\n"
     ]
    }
   ],
   "source": [
    "#X_train.loc[:,'PMID_tokens'] = X_train['PMID_tokens'].map(get_tokens)\n",
    "X_train.loc[:, 'PMID_tokens'] = X_train['PMID_tokens'].map(lambda x: ' '.join(x))"
   ]
  },
  {
   "cell_type": "code",
   "execution_count": 238,
   "metadata": {},
   "outputs": [
    {
     "name": "stdout",
     "output_type": "stream",
     "text": [
      "(3614, 3000)\n",
      "['aa', 'ab', 'abbreviations', 'abdominal', 'ability', 'able', 'abnormal', 'abnormalities', 'absence', 'absolute', 'absorption', 'abstract', 'abuse', 'ac', 'acad', 'academic', 'academy', 'acceptable', 'accepted', 'access', 'accessed', 'accordance', 'according', 'account', 'accumulation', 'accuracy', 'accurate', 'ace', 'achieve', 'achieved', 'achieving', 'acid', 'acids', 'acknowledgements', 'acknowledgments', 'acnes', 'acquired', 'acquisition', 'across', 'act', 'acta', 'action', 'actions', 'activated', 'activation', 'active', 'activities', 'activity', 'actual', 'acuity', 'acute', 'ad', 'added', 'addition', 'additional', 'additionally', 'address', 'addressed', 'adequate', 'adhd', 'adherence', 'adhesion', 'adiponectin', 'adipose', 'adjusted', 'adjustment', 'adjuvant', 'administered', 'administration', 'admission', 'admitted', 'adolescents', 'adult', 'adults', 'advanced', 'advantage', 'adverse', 'advisory', 'ae', 'aes', 'af', 'affect', 'affected', 'affinity', 'africa', 'african', 'ag', 'age', 'aged', 'agent', 'agents', 'ages', 'aggressive', 'aging', 'agonist', 'agonists', 'agreement', 'ah', 'ahajournalsorg', 'ai', 'aids', 'aim', 'air', 'airway', 'aj', 'ak', 'akt', 'al', 'albumin', 'alcohol', 'algorithm', 'allele', 'allergic', 'allergy', 'allogeneic', 'allow', 'allowed', 'allows', 'almost', 'alone', 'along', 'alpha', 'already', 'also', 'alter', 'alterations', 'altered', 'alternative', 'although', 'alveolar', 'always', 'alzheimer', 'ambulatory', 'america', 'american', 'amino', 'among', 'amount', 'amounts', 'amplification', 'anaesthesia', 'analg', 'analgesia', 'analgesic', 'analysed', 'analyses', 'analysis', 'analyzed', 'anderson', 'andor', 'androgen', 'anemia', 'anesth', 'anesthesia', 'anesthesiology', 'anesthetic', 'angina', 'angiogenesis', 'angiographic', 'angiography', 'angioplasty', 'angiotensin', 'animal', 'animals', 'ann', 'annual', 'another', 'anova', 'antagonist', 'antagonists', 'anterior', 'antibiotic', 'antibiotics', 'antibodies', 'antibody', 'anticancer', 'antigen', 'antigens', 'antihypertensive', 'antiinflammatory', 'antimicrobial', 'antioxidant', 'antipsychotic', 'antiretroviral', 'antitumor', 'antiviral', 'anxiety', 'aortic', 'ap', 'apoptosis', 'apoptotic', 'apparent', 'appear', 'appeared', 'appears', 'appendix', 'application', 'applied', 'approach', 'approaches', 'appropriate', 'approval', 'approved', 'approximately', 'april', 'ar', 'arch', 'area', 'areas', 'arm', 'arms', 'around', 'arrest', 'arterial', 'arteries', 'artery', 'arthritis', 'article', 'articles', 'asa', 'asian', 'asked', 'aspart', 'aspects', 'aspirin', 'assay', 'assays', 'assess', 'assessed', 'assessing', 'assessment', 'assessments', 'assigned', 'assignment', 'assistance', 'associated', 'associates', 'association', 'associations', 'assumed', 'asthma', 'asymptomatic', 'atherosclerosis', 'atp', 'atrial', 'attention', 'attenuated', 'attributable', 'attributed', 'auc', 'august', 'australia', 'author', 'authors', 'autoimmune', 'autologous', 'autophagy', 'av', 'availability', 'available', 'average', 'avoid', 'axis', 'ay', 'ba', 'back', 'background', 'bacteria', 'bacterial', 'balance', 'barrier', 'bars', 'basal', 'base', 'based', 'baseline', 'basic', 'basis', 'bcell', 'bcg', 'bd', 'became', 'become', 'beginning', 'behavior', 'behavioral', 'beneficial', 'benefit', 'benefits', 'best', 'beta', 'bethesda', 'better', 'bevacizumab', 'beyond', 'bias', 'bid', 'bilateral', 'binding', 'biochem', 'biochemical', 'biol', 'biological', 'biology', 'biomarker', 'biomarkers', 'biomed', 'biopsies', 'biopsy', 'bipolar', 'birth', 'bis', 'bj', 'bl', 'black', 'bladder', 'bleeding', 'blinded', 'block', 'blockade', 'blocking', 'blocks', 'blood', 'blot', 'blue', 'bm', 'bmc', 'bmi', 'bmj', 'board', 'body', 'bolus', 'bone', 'booster', 'bortezomib', 'boston', 'botulinum', 'bound', 'bowel', 'box', 'bp', 'br', 'braf', 'brain', 'breast', 'brief', 'briefly', 'british', 'broad', 'brown', 'bs', 'buffer', 'bupivacaine', 'burden', 'bypass', 'ca', 'cabg', 'cad', 'calcium', 'calculated', 'california', 'canada', 'cancer', 'cancerresaacrjournalsorg', 'cancers', 'candidate', 'capable', 'capacity', 'capillary', 'carcinoma', 'cardiac', 'cardiol', 'cardiology', 'cardiovasc', 'cardiovascular', 'care', 'carotid', 'carried', 'case', 'cases', 'categories', 'category', 'catheter', 'cause', 'caused', 'causes', 'cb', 'cc', 'cd', 'cdna', 'ce', 'cell', 'cells', 'cellular', 'center', 'centers', 'central', 'centre', 'cerebral', 'certain', 'cervical', 'cessation', 'cf', 'cg', 'ch', 'chain', 'challenge', 'chan', 'chang', 'change', 'changed', 'changes', 'channel', 'characteristic', 'characteristics', 'characterization', 'characterized', 'chd', 'chem', 'chemical', 'chemother', 'chemotherapy', 'chen', 'chest', 'chicago', 'child', 'childhood', 'children', 'china', 'choice', 'cholesterol', 'chop', 'chosen', 'chromosome', 'chronic', 'ci', 'circulating', 'circulation', 'cis', 'cisplatin', 'citation', 'cited', 'city', 'cj', 'ckd', 'cl', 'class', 'classification', 'classified', 'clear', 'clearance', 'clearly', 'clin', 'clincancerresaacrjournalsorg', 'clinic', 'clinical', 'clinically', 'clinicaltrialsgov', 'clinicians', 'clone', 'clones', 'clopidogrel', 'close', 'closely', 'cluster', 'cm', 'cmax', 'cmdretrieve', 'cns', 'co', 'cochrane', 'coefficient', 'cognitive', 'cohen', 'cohort', 'cohorts', 'cold', 'coll', 'collagen', 'collected', 'collection', 'college', 'colon', 'colorectal', 'column', 'combination', 'combinations', 'combined', 'committee', 'common', 'commonly', 'commons', 'community', 'comparable', 'comparative', 'compare', 'compared', 'comparing', 'comparison', 'comparisons', 'competing', 'complement', 'complete', 'completed', 'completely', 'completion', 'complex', 'complexes', 'compliance', 'complications', 'component', 'components', 'composite', 'composition', 'compound', 'compounds', 'comprehensive', 'computed', 'concentration', 'concentrations', 'concept', 'concern', 'concerns', 'conclusion', 'conclusions', 'concomitant', 'concurrent', 'condition', 'conditions', 'conducted', 'confidence', 'confirm', 'confirmed', 'conflict', 'congenital', 'congestive', 'conjugate', 'consecutive', 'consensus', 'consent', 'consequences', 'consider', 'considerable', 'considered', 'consisted', 'consistent', 'consistently', 'constant', 'consulting', 'consumption', 'contact', 'contain', 'contained', 'containing', 'contains', 'content', 'context', 'continue', 'continued', 'continuous', 'contrast', 'contribute', 'contributed', 'contribution', 'contributions', 'control', 'controlled', 'controls', 'conventional', 'conversion', 'cooperative', 'copd', 'copyright', 'cord', 'core', 'coronary', 'corporation', 'correct', 'corrected', 'correction', 'correlate', 'correlated', 'correlates', 'correlation', 'correlations', 'correspondence', 'corresponding', 'cortex', 'cortical', 'corticosteroids', 'cortisol', 'cost', 'costs', 'could', 'council', 'count', 'counted', 'countries', 'counts', 'course', 'covariates', 'cox', 'cp', 'cpap', 'cr', 'creactive', 'creatinine', 'creative', 'crit', 'criteria', 'criterion', 'critical', 'critically', 'crossover', 'crp', 'cs', 'csf', 'ct', 'cte', 'ctl', 'cto', 'ctober', 'culture', 'cultured', 'cultures', 'cumulative', 'curr', 'current', 'currently', 'curve', 'curves', 'cutaneous', 'cutoff', 'cv', 'cvd', 'cycle', 'cycles', 'cyclin', 'cyclophosphamide', 'cystic', 'cytokine', 'cytokines', 'cytometry', 'cytotoxic', 'cytotoxicity', 'da', 'daily', 'damage', 'data', 'database', 'date', 'david', 'davis', 'day', 'days', 'db', 'dbp', 'dbpubmed', 'dc', 'dcs', 'dd', 'de', 'death', 'deaths', 'december', 'deciliter', 'decision', 'decline', 'decrease', 'decreased', 'decreases', 'decreasing', 'deep', 'defects', 'deficiency', 'define', 'defined', 'definition', 'definitions', 'degeneration', 'degradation', 'degree', 'del', 'delay', 'delayed', 'deletion', 'delirium', 'delivered', 'delivery', 'dementia', 'demographic', 'demonstrate', 'demonstrated', 'demonstrating', 'dendritic', 'denmark', 'denotes', 'density', 'dental', 'department', 'dependence', 'dependent', 'depending', 'depletion', 'depression', 'depressive', 'der', 'derived', 'dermatol', 'des', 'described', 'description', 'design', 'designed', 'despite', 'detailed', 'details', 'detect', 'detectable', 'detected', 'detection', 'determination', 'determine', 'determined', 'develop', 'developed', 'developing', 'development', 'deviation', 'device', 'devices', 'dexamethasone', 'dexmedetomidine', 'df', 'dg', 'dh', 'di', 'diabetes', 'diabetic', 'diagnosed', 'diagnosis', 'diagnostic', 'dialysis', 'diameter', 'diarrhea', 'diastolic', 'dic', 'died', 'diego', 'diet', 'dietary', 'differ', 'difference', 'differences', 'different', 'differential', 'differentiation', 'difficult', 'diffuse', 'diluted', 'dilution', 'direct', 'directed', 'directly', 'dis', 'disability', 'discharge', 'discontinuation', 'discontinued', 'discussed', 'discussion', 'disease', 'diseases', 'disorder', 'disorders', 'distal', 'distance', 'distinct', 'distress', 'distributed', 'distribution', 'divided', 'division', 'dj', 'dl', 'dm', 'dna', 'docetaxel', 'documented', 'doi', 'domain', 'domains', 'done', 'donor', 'donors', 'dopamine', 'doptabstract', 'dosage', 'dose', 'doses', 'dosing', 'double', 'doubleblind', 'dovepress', 'downloaded', 'doxorubicin', 'dp', 'dr', 'drawn', 'drug', 'drugs', 'dry', 'ds', 'du', 'due', 'duration', 'dw', 'dynamic', 'dysfunction', 'ea', 'earlier', 'early', 'ec', 'ecg', 'ed', 'edema', 'eds', 'education', 'ee', 'ef', 'effect', 'effective', 'effectively', 'effectiveness', 'effector', 'effects', 'efficacy', 'eg', 'egfr', 'eight', 'either', 'ej', 'ejection', 'el', 'elderly', 'electrical', 'elevated', 'elevation', 'eligibility', 'eligible', 'elimination', 'elisa', 'em', 'email', 'emergency', 'emission', 'employed', 'en', 'encoding', 'end', 'endocrine', 'endocrinol', 'endocrinology', 'endogenous', 'endothelial', 'endpoint', 'endpoints', 'energy', 'engl', 'england', 'enhance', 'enhanced', 'enhancement', 'enhances', 'enrolled', 'enrollment', 'ensure', 'entered', 'entire', 'entry', 'env', 'environment', 'enzyme', 'enzymes', 'ep', 'epidemiol', 'epidemiology', 'epidermal', 'epidural', 'episode', 'episodes', 'epithelial', 'epithelium', 'epitope', 'epitopes', 'equal', 'equally', 'equivalent', 'er', 'error', 'errors', 'es', 'especially', 'essential', 'established', 'estimate', 'estimated', 'estimates', 'estimation', 'estrogen', 'et', 'etanercept', 'ethical', 'ethics', 'eur', 'europe', 'european', 'ev', 'evaluable', 'evaluate', 'evaluated', 'evaluating', 'evaluation', 'even', 'event', 'events', 'every', 'evidence', 'evident', 'evolocumab', 'ex', 'exacerbation', 'exacerbations', 'exact', 'examination', 'examine', 'examined', 'example', 'excellent', 'except', 'excess', 'excluded', 'exclusion', 'excretion', 'exercise', 'exhibited', 'exon', 'exp', 'expansion', 'expected', 'experience', 'experienced', 'experiment', 'experimental', 'experiments', 'expert', 'explain', 'explained', 'explanation', 'exposed', 'exposure', 'express', 'expressed', 'expressing', 'expression', 'extended', 'extension', 'extensive', 'extent', 'external', 'extracellular', 'extract', 'extracted', 'extraction', 'extracts', 'eye', 'eyes', 'fa', 'fact', 'factor', 'factors', 'failed', 'failure', 'falciparum', 'false', 'family', 'far', 'fast', 'faster', 'fasting', 'fat', 'fatal', 'fatigue', 'fatty', 'favorable', 'fax', 'fc', 'fda', 'fe', 'features', 'february', 'fed', 'fees', 'female', 'females', 'femoral', 'fetal', 'fever', 'fewer', 'fi', 'fibrillation', 'fibroblasts', 'fibrosis', 'field', 'fig', 'figure', 'figures', 'final', 'finally', 'find', 'finding', 'findings', 'first', 'firstline', 'fish', 'fisher', 'five', 'fixed', 'fl', 'flow', 'fluid', 'fluorescence', 'fm', 'fo', 'focal', 'focus', 'focused', 'follow', 'followed', 'following', 'follows', 'followup', 'food', 'force', 'form', 'formation', 'formed', 'forms', 'formula', 'formulation', 'forward', 'found', 'foundation', 'four', 'fr', 'fraction', 'fractions', 'fracture', 'france', 'francisco', 'free', 'frequencies', 'frequency', 'frequent', 'frequently', 'fro', 'frozen', 'full', 'fully', 'function', 'functional', 'functioning', 'functions', 'funded', 'funding', 'furthermore', 'fusion', 'future', 'ga', 'gain', 'gas', 'gastric', 'gastrointestinal', 'gave', 'gc', 'gd', 'ge', 'gel', 'gemcitabine', 'gen', 'gender', 'gene', 'general', 'generally', 'generated', 'generation', 'genes', 'genet', 'genetic', 'genome', 'genomic', 'genotype', 'genotypes', 'geometric', 'germany', 'gfr', 'gh', 'gi', 'give', 'given', 'gj', 'gl', 'glargine', 'glaxosmithkline', 'global', 'glomerular', 'glucose', 'glutamate', 'glycemic', 'gm', 'goal', 'goals', 'gold', 'good', 'gp', 'gr', 'grade', 'graft', 'grant', 'grants', 'gray', 'great', 'greater', 'green', 'group', 'groups', 'growth', 'gs', 'guest', 'guide', 'guideline', 'guidelines', 'gut', 'gvhd', 'ha', 'half', 'halflife', 'hamilton', 'hand', 'harris', 'hazard', 'hb', 'hbv', 'hc', 'hcv', 'hd', 'hdl', 'head', 'headache', 'healing', 'health', 'healthcare', 'healthy', 'heart', 'height', 'help', 'helsinki', 'hematologic', 'hematopoietic', 'hemodynamic', 'hemoglobin', 'hemorrhage', 'hence', 'heparin', 'hepatic', 'hepatitis', 'heterogeneity', 'hf', 'hg', 'hi', 'high', 'highdose', 'higher', 'highest', 'highly', 'highrisk', 'hill', 'hindawi', 'hip', 'histone', 'history', 'hiv', 'hivinfected', 'hj', 'hla', 'hm', 'ho', 'hoc', 'home', 'homeostasis', 'hormone', 'hospital', 'hospitalization', 'hospitalized', 'hospitals', 'host', 'hour', 'hours', 'however', 'hpv', 'hr', 'hs', 'ht', 'http', 'huang', 'hum', 'human', 'humans', 'hyperalgesia', 'hyperglycemia', 'hypertension', 'hypertensive', 'hypertrophy', 'hypoglycemia', 'hypotension', 'hypothermia', 'hypothesis', 'hypothesized', 'hypoxia', 'ia', 'ib', 'ic', 'icu', 'id', 'identical', 'identification', 'identified', 'identify', 'ie', 'ig', 'igg', 'ii', 'iii', 'il', 'ill', 'illness', 'im', 'image', 'images', 'imaging', 'imatinib', 'immediate', 'immediately', 'immune', 'immunity', 'immunization', 'immunized', 'immunodeficiency', 'immunogenicity', 'immunol', 'immunology', 'immunotherapy', 'impact', 'impaired', 'impairment', 'implantation', 'implications', 'importance', 'important', 'importantly', 'improve', 'improved', 'improvement', 'improvements', 'improves', 'improving', 'inadequate', 'inc', 'incidence', 'include', 'included', 'includes', 'including', 'inclusion', 'increase', 'increased', 'increases', 'increasing', 'incubated', 'incubation', 'indeed', 'independent', 'independently', 'index', 'indicate', 'indicated', 'indicates', 'indicating', 'individual', 'individuals', 'induce', 'induced', 'induces', 'induction', 'infant', 'infants', 'infarct', 'infarction', 'infect', 'infected', 'infection', 'infections', 'infectious', 'infiltration', 'inflammation', 'inflammatory', 'infliximab', 'influence', 'influenza', 'information', 'informed', 'infusion', 'infusions', 'ingestion', 'inhaled', 'inhibit', 'inhibited', 'inhibition', 'inhibitor', 'inhibitors', 'inhibitory', 'inhibits', 'initial', 'initially', 'initiated', 'initiation', 'injected', 'injection', 'injections', 'injury', 'instead', 'institute', 'institutes', 'institutional', 'insufficient', 'insulin', 'int', 'intact', 'intake', 'intensity', 'intensive', 'intentiontotreat', 'interaction', 'interactions', 'interest', 'interestingly', 'interests', 'interferon', 'interim', 'intermediate', 'intermittent', 'intern', 'internal', 'international', 'interpretation', 'interquartile', 'interval', 'intervals', 'intervention', 'interventions', 'interview', 'intestinal', 'intracellular', 'intraoperative', 'intravenous', 'introduction', 'invasive', 'invest', 'investigate', 'investigated', 'investigation', 'investigator', 'investigators', 'involved', 'involvement', 'involving', 'io', 'ip', 'iqr', 'ir', 'iron', 'irradiation', 'ischemia', 'ischemic', 'isolated', 'isolates', 'isolation', 'issue', 'issues', 'italy', 'items', 'iv', 'ja', 'jama', 'james', 'january', 'japan', 'japanese', 'jb', 'jc', 'jco', 'jd', 'je', 'jf', 'jg', 'jh', 'jj', 'jk', 'jl', 'jm', 'jn', 'jo', 'john', 'johnson', 'joint', 'jones', 'journal', 'jp', 'jr', 'js', 'jt', 'july', 'june', 'jw', 'ka', 'ketamine', 'key', 'keywords', 'kg', 'kidney', 'kim', 'kinase', 'kinetics', 'kingdom', 'kit', 'kj', 'kl', 'km', 'knee', 'knowledge', 'known', 'ks', 'la', 'labeled', 'laboratories', 'laboratory', 'lack', 'lactate', 'lancet', 'lane', 'large', 'largely', 'larger', 'laser', 'last', 'late', 'later', 'lateral', 'latter', 'layer', 'lc', 'ld', 'ldl', 'ldlc', 'le', 'lead', 'leading', 'leads', 'learning', 'least', 'lecture', 'led', 'lee', 'left', 'leg', 'length', 'lesion', 'lesions', 'less', 'leukemia', 'level', 'levels', 'lewis', 'lh', 'li', 'license', 'life', 'lifestyle', 'ligand', 'light', 'like', 'likelihood', 'likely', 'lilly', 'limb', 'limit', 'limitation', 'limitations', 'limited', 'limits', 'lin', 'line', 'linear', 'lines', 'link', 'linked', 'lipid', 'lipids', 'lipoprotein', 'liquid', 'liraglutide', 'lish', 'list', 'listed', 'liter', 'literature', 'lithium', 'little', 'liu', 'live', 'liver', 'living', 'lj', 'lm', 'lo', 'load', 'loading', 'local', 'localization', 'located', 'location', 'log', 'logistic', 'logrank', 'london', 'long', 'longer', 'longitudinal', 'longterm', 'los', 'loss', 'lost', 'louis', 'low', 'lowdose', 'lower', 'lowering', 'lowest', 'ls', 'lt', 'ltd', 'lu', 'lumbar', 'lung', 'lungs', 'lv', 'ly', 'lymph', 'lymphocyte', 'lymphocytes', 'lymphoma', 'mab', 'macrophages', 'macular', 'made', 'magnesium', 'magnetic', 'magnitude', 'mailto', 'main', 'mainly', 'maintain', 'maintained', 'maintenance', 'major', 'majority', 'make', 'making', 'malaria', 'male', 'males', 'malignant', 'man', 'management', 'manner', 'manual', 'manufacturer', 'manuscript', 'many', 'map', 'march', 'marked', 'markedly', 'marker', 'markers', 'marrow', 'martin', 'mass', 'massachusetts', 'matched', 'material', 'materials', 'maternal', 'matrix', 'maximal', 'maximum', 'may', 'mb', 'mc', 'md', 'meal', 'mean', 'meaningful', 'means', 'measure', 'measured', 'measurement', 'measurements', 'measures', 'measuring', 'mechanical', 'mechanism', 'mechanisms', 'med', 'media', 'median', 'mediated', 'mediators', 'medical', 'medication', 'medications', 'medicine', 'medium', 'meet', 'meeting', 'melanoma', 'melatonin', 'mellitus', 'member', 'members', 'membrane', 'membranes', 'memory', 'men', 'mental', 'merck', 'met', 'metaanalysis', 'metab', 'metabolic', 'metabolism', 'metabolites', 'metastases', 'metastasis', 'metastatic', 'metformin', 'method', 'methods', 'methotrexate', 'mf', 'mg', 'mgday', 'mgdl', 'mgkg', 'mgml', 'mh', 'mi', 'mice', 'michael', 'microbiol', 'microscopy', 'microvascular', 'middle', 'might', 'migration', 'mild', 'milk', 'miller', 'million', 'min', 'mineral', 'minimal', 'minimum', 'minor', 'minute', 'minutes', 'missing', 'mitochondrial', 'mixed', 'mixture', 'mj', 'ml', 'mm', 'mmhg', 'mmol', 'mmoll', 'mn', 'mo', 'mode', 'model', 'models', 'moderate', 'modest', 'modification', 'modified', 'modulation', 'mol', 'molecular', 'molecule', 'molecules', 'monitor', 'monitored', 'monitoring', 'monkeys', 'monoclonal', 'monocytes', 'mononuclear', 'monotherapy', 'month', 'months', 'mood', 'morbidity', 'moreover', 'morning', 'morphine', 'mortality', 'motion', 'motor', 'mouse', 'movement', 'mp', 'mr', 'mri', 'mrna', 'ms', 'mt', 'mtor', 'mtx', 'much', 'mucosal', 'multicenter', 'multiple', 'multivariate', 'murine', 'muscle', 'must', 'mutant', 'mutation', 'mutations', 'mw', 'myeloid', 'myeloma', 'myocardial', 'na', 'nasal', 'nat', 'national', 'natl', 'natural', 'nature', 'nausea', 'nc', 'nd', 'ne', 'nearly', 'necessary', 'neck', 'necrosis', 'need', 'needed', 'needs', 'negative', 'neither', 'nejmorg', 'neonatal', 'neonates', 'nephrol', 'nephropathy', 'nerve', 'nervous', 'net', 'netherlands', 'network', 'neural', 'neurol', 'neurologic', 'neurological', 'neurology', 'neuromuscular', 'neuronal', 'neurons', 'neuropathy', 'neurosci', 'neutralizing', 'neutropenia', 'neutrophil', 'neutrophils', 'never', 'nevertheless', 'new', 'newly', 'next', 'ng', 'ngl', 'ngml', 'nicotine', 'nih', 'nine', 'nitric', 'nj', 'nk', 'nl', 'nloaded', 'nm', 'nmda', 'nocturnal', 'node', 'nodes', 'none', 'nonfatal', 'noninvasive', 'nordisk', 'normal', 'normalized', 'north', 'note', 'noted', 'novartis', 'novel', 'november', 'novo', 'nr', 'ns', 'nt', 'nuclear', 'number', 'numbers', 'numerous', 'nutr', 'nutrition', 'ny', 'oa', 'obese', 'obesity', 'objective', 'observation', 'observational', 'observations', 'observed', 'obstruction', 'obstructive', 'obtain', 'obtained', 'occlusion', 'occur', 'occurred', 'occurrence', 'occurring', 'occurs', 'october', 'ocular', 'od', 'odds', 'office', 'often', 'oh', 'oil', 'old', 'older', 'om', 'oncol', 'oncology', 'one', 'ongoing', 'online', 'onlinefirst', 'onset', 'open', 'openlabel', 'ophthalmol', 'ophthalmology', 'opin', 'opioid', 'opioids', 'optimal', 'option', 'options', 'oral', 'orally', 'order', 'organ', 'organization', 'organs', 'origin', 'original', 'os', 'others', 'otherwise', 'outcome', 'outcomes', 'outpatient', 'output', 'outside', 'ovarian', 'overall', 'overexpression', 'overnight', 'overweight', 'ow', 'owing', 'oxford', 'oxidative', 'oxide', 'oxygen', 'pa', 'paclitaxel', 'page', 'pah', 'pain', 'paired', 'pancreatic', 'panel', 'paper', 'parallel', 'parameter', 'parameters', 'parent', 'parenteral', 'parents', 'paris', 'park', 'part', 'partial', 'partially', 'participant', 'participants', 'participate', 'participated', 'participating', 'participation', 'particular', 'particularly', 'past', 'pathogenesis', 'pathol', 'pathological', 'pathology', 'pathway', 'pathways', 'patient', 'patients', 'pattern', 'patterns', 'paul', 'pbmc', 'pbmcs', 'pbs', 'pc', 'pci', 'pcr', 'pd', 'pe', 'peak', 'pediatr', 'pediatric', 'pediatrics', 'people', 'peptide', 'peptides', 'per', 'percent', 'percentage', 'percentages', 'percentile', 'percutaneous', 'perform', 'performance', 'performed', 'perfusion', 'perhaps', 'period', 'periods', 'perioperative', 'peripheral', 'permeability', 'permission', 'permissions', 'persistent', 'personal', 'persons', 'pertussis', 'pet', 'pf', 'pfizer', 'pfs', 'pg', 'pgml', 'ph', 'pharma', 'pharmaceuticals', 'pharmacokinetic', 'pharmacokinetics', 'pharmacol', 'pharmacological', 'pharmacology', 'phase', 'phd', 'phenotype', 'philadelphia', 'phosphate', 'phosphorylation', 'phys', 'physical', 'physician', 'physicians', 'physiol', 'physiological', 'pi', 'pilot', 'pj', 'pk', 'pl', 'place', 'placebo', 'placebocontrolled', 'placed', 'plan', 'planned', 'plaque', 'plasma', 'plasmodium', 'platelet', 'platelets', 'plates', 'play', 'plays', 'plos', 'plus', 'pm', 'pmid', 'pneumonia', 'po', 'point', 'points', 'pooled', 'poor', 'poorly', 'population', 'populations', 'portion', 'position', 'positive', 'possibility', 'possible', 'possibly', 'post', 'posterior', 'postmenopausal', 'postoperative', 'postprandial', 'posttreatment', 'potassium', 'potent', 'potential', 'potentially', 'power', 'powered', 'pp', 'pr', 'practice', 'preclinical', 'predict', 'predicted', 'prediction', 'predictive', 'predictor', 'predictors', 'prednisone', 'predominantly', 'pregnancy', 'pregnant', 'preliminary', 'premature', 'preoperative', 'preparation', 'prepared', 'prescribed', 'presence', 'present', 'presentation', 'presented', 'prespecified', 'press', 'pressure', 'preterm', 'pretreatment', 'prevalence', 'prevent', 'preventing', 'prevention', 'prevents', 'previous', 'previously', 'primarily', 'primary', 'primers', 'principal', 'prior', 'probability', 'probably', 'probe', 'problem', 'problems', 'proc', 'procedure', 'procedures', 'process', 'processes', 'processing', 'produce', 'produced', 'product', 'production', 'products', 'professor', 'profile', 'profiles', 'progenitor', 'prognosis', 'prognostic', 'program', 'programs', 'progress', 'progression', 'progressionfree', 'progressive', 'proinflammatory', 'project', 'proliferation', 'prolonged', 'promising', 'promote', 'promoter', 'promotes', 'properties', 'prophylaxis', 'propofol', 'proportion', 'proportions', 'proposed', 'prospective', 'prostate', 'protease', 'proteasome', 'protection', 'protective', 'protein', 'proteins', 'protocol', 'protocols', 'provide', 'provided', 'provides', 'providing', 'proximal', 'ps', 'psa', 'psoriasis', 'psychiatric', 'psychiatry', 'psychological', 'pt', 'ptca', 'public', 'publication', 'published', 'publishing', 'pubmed', 'pulmonary', 'pulse', 'pump', 'purified', 'purpose', 'purposes', 'pw', 'quality', 'quantification', 'quantified', 'quantitative', 'question', 'questionnaire', 'questions', 'ra', 'rabbit', 'race', 'radiation', 'radiotherapy', 'random', 'randomised', 'randomization', 'randomized', 'randomly', 'range', 'ranged', 'ranges', 'ranging', 'rapamycin', 'rapid', 'rapidly', 'rare', 'rat', 'rate', 'rates', 'rather', 'rating', 'ratio', 'rationale', 'ratios', 'rats', 'rb', 'rc', 'rd', 'reach', 'reached', 'reaction', 'reactions', 'reactive', 'reactivity', 'read', 'realtime', 'reason', 'reasons', 'receive', 'received', 'receiving', 'recent', 'recently', 'receptor', 'receptors', 'recipients', 'recognition', 'recognized', 'recombinant', 'recommendation', 'recommendations', 'recommended', 'recorded', 'records', 'recovery', 'recruited', 'recruitment', 'rectal', 'recurrence', 'recurrent', 'red', 'reduce', 'reduced', 'reduces', 'reducing', 'reduction', 'reductions', 'ref', 'reference', 'references', 'referred', 'reflect', 'refractory', 'regard', 'regarding', 'regardless', 'regimen', 'regimens', 'region', 'regional', 'regions', 'registry', 'regression', 'regular', 'regulation', 'regulatory', 'rehabilitation', 'rejection', 'relapse', 'relapsed', 'related', 'relation', 'relationship', 'relationships', 'relative', 'relatively', 'release', 'relevance', 'relevant', 'reliability', 'reliable', 'relief', 'remain', 'remained', 'remaining', 'remains', 'remifentanil', 'remission', 'remodeling', 'removal', 'removed', 'renal', 'repair', 'repeat', 'repeated', 'reperfusion', 'replacement', 'replication', 'report', 'reported', 'reporting', 'reports', 'represent', 'representative', 'represented', 'represents', 'reprint', 'reprints', 'reproduction', 'request', 'requests', 'require', 'required', 'requirement', 'requirements', 'requires', 'requiring', 'res', 'rescue', 'research', 'resection', 'reserved', 'residual', 'resistance', 'resistant', 'resolution', 'resolved', 'resonance', 'respect', 'respective', 'respectively', 'respir', 'respiratory', 'respond', 'responders', 'response', 'responses', 'responsible', 'responsiveness', 'rest', 'restenosis', 'resting', 'restricted', 'result', 'resulted', 'resulting', 'results', 'resuscitation', 'retention', 'retina', 'retinal', 'retinopathy', 'retrospective', 'return', 'returned', 'rev', 'revascularization', 'revealed', 'reversal', 'reverse', 'review', 'reviewed', 'reviews', 'revised', 'revision', 'rf', 'rg', 'rh', 'rheum', 'rheumatoid', 'rheumatology', 'rhythm', 'ri', 'right', 'rights', 'rise', 'risk', 'risks', 'rituximab', 'rj', 'rl', 'rm', 'rn', 'rna', 'ro', 'robert', 'robust', 'roche', 'role', 'roles', 'room', 'route', 'routine', 'rp', 'rr', 'rs', 'rt', 'rv', 'rw', 'ry', 'sa', 'safe', 'safety', 'saline', 'sample', 'samples', 'sampling', 'san', 'sas', 'satisfaction', 'sb', 'sbp', 'sc', 'scale', 'scales', 'scan', 'scand', 'scans', 'schedule', 'scheduled', 'schizophrenia', 'school', 'sci', 'science', 'sciences', 'scientific', 'sclerosis', 'score', 'scores', 'scoring', 'screened', 'screening', 'sd', 'se', 'search', 'second', 'secondary', 'seconds', 'secretion', 'section', 'sections', 'sedation', 'see', 'seems', 'seen', 'segment', 'segments', 'selected', 'selection', 'selective', 'sem', 'sensitive', 'sensitivity', 'sensory', 'separate', 'separated', 'separately', 'sepsis', 'september', 'septic', 'sequence', 'sequences', 'sequential', 'sera', 'serial', 'series', 'serious', 'serum', 'served', 'service', 'services', 'session', 'sessions', 'set', 'sets', 'setting', 'settings', 'seven', 'several', 'severe', 'severity', 'sex', 'sf', 'sg', 'sh', 'sham', 'shock', 'short', 'shorter', 'shortterm', 'show', 'showed', 'showing', 'shown', 'shows', 'si', 'side', 'sigma', 'signal', 'signaling', 'signals', 'significance', 'significant', 'significantly', 'signs', 'similar', 'similarly', 'simple', 'since', 'single', 'sitagliptin', 'site', 'sites', 'six', 'size', 'sizes', 'sj', 'sk', 'skeletal', 'skin', 'sl', 'sleep', 'slightly', 'slow', 'sm', 'small', 'smaller', 'smith', 'smokers', 'smoking', 'smooth', 'soc', 'social', 'society', 'sodium', 'software', 'solely', 'solid', 'soluble', 'solution', 'sorafenib', 'source', 'sources', 'south', 'sp', 'space', 'special', 'species', 'specific', 'specifically', 'specificity', 'specified', 'specimens', 'spectrum', 'spinal', 'spine', 'spleen', 'spontaneous', 'sports', 'sputum', 'squamous', 'square', 'squibb', 'sr', 'ss', 'st', 'stability', 'stable', 'staff', 'stage', 'stages', 'stained', 'staining', 'standard', 'standardized', 'standards', 'start', 'started', 'starting', 'state', 'statement', 'states', 'statin', 'statins', 'statistical', 'statistically', 'statistics', 'status', 'stay', 'stem', 'stenosis', 'stent', 'stents', 'step', 'steroid', 'steroids', 'stiffness', 'still', 'stimulated', 'stimulation', 'stimuli', 'stopped', 'stored', 'strain', 'strains', 'strategies', 'strategy', 'stratified', 'strength', 'stress', 'stroke', 'strong', 'strongly', 'structural', 'structure', 'structures', 'student', 'studied', 'studies', 'study', 'su', 'subcutaneous', 'subgroup', 'subgroups', 'subject', 'subjects', 'submit', 'subsequent', 'subsequently', 'subset', 'substantial', 'substantially', 'substrate', 'success', 'successful', 'sudden', 'sufficient', 'suggest', 'suggested', 'suggesting', 'suggests', 'suicide', 'sum', 'summarized', 'summary', 'superior', 'suppl', 'supplement', 'supplemental', 'supplementary', 'supplementation', 'support', 'supported', 'supporting', 'suppression', 'surface', 'surg', 'surgery', 'surgical', 'surveillance', 'survey', 'survival', 'susceptibility', 'suspected', 'sustained', 'sweden', 'switzerland', 'sympathetic', 'symptom', 'symptomatic', 'symptoms', 'syndrome', 'syndromes', 'synthesis', 'system', 'systematic', 'systemic', 'systems', 'systolic', 'ta', 'table', 'tables', 'take', 'taken', 'taking', 'target', 'targeted', 'targeting', 'targets', 'task', 'tat', 'taylor', 'tb', 'tc', 'tcell', 'te', 'team', 'technical', 'technique', 'techniques', 'technology', 'temperature', 'temporal', 'ten', 'term', 'terms', 'test', 'tested', 'testing', 'testosterone', 'tests', 'texas', 'text', 'tg', 'th', 'thank', 'ther', 'therapeutic', 'therapeutics', 'therapies', 'therapy', 'thereafter', 'thereby', 'therefore', 'thickness', 'third', 'thomas', 'thompson', 'thoracic', 'though', 'thought', 'three', 'threshold', 'thromb', 'thrombosis', 'throughout', 'thus', 'thyroid', 'ti', 'time', 'times', 'timi', 'timing', 'tio', 'tissue', 'tissues', 'titer', 'titers', 'tj', 'tl', 'tm', 'tnfa', 'tof', 'together', 'tolerability', 'tolerance', 'tolerated', 'tomography', 'tool', 'top', 'topical', 'total', 'toward', 'toxic', 'toxicities', 'toxicity', 'toxin', 'tr', 'tract', 'traditional', 'training', 'transcription', 'transfer', 'transferred', 'transfusion', 'transgenic', 'transient', 'transmission', 'transplant', 'transplantation', 'transport', 'trauma', 'treat', 'treated', 'treating', 'treatment', 'treatments', 'trend', 'trends', 'trial', 'trials', 'triglycerides', 'troponin', 'true', 'ts', 'tt', 'ttp', 'tu', 'tube', 'tuberculosis', 'tumor', 'tumors', 'tumour', 'tumours', 'twice', 'two', 'twosided', 'ty', 'type', 'types', 'typical', 'typically', 'tyrosine', 'uk', 'ultrasound', 'un', 'unable', 'unclear', 'undergo', 'undergoing', 'underlying', 'understanding', 'underwent', 'unique', 'unit', 'united', 'units', 'university', 'unknown', 'unless', 'unlikely', 'unstable', 'untreated', 'update', 'updated', 'upon', 'upper', 'upregulation', 'uptake', 'urinary', 'urine', 'us', 'usa', 'use', 'used', 'useful', 'uses', 'using', 'usual', 'usually', 'va', 'vaccinated', 'vaccination', 'vaccine', 'vaccines', 'validated', 'validation', 'validity', 'value', 'values', 'valve', 'van', 'variability', 'variable', 'variables', 'variance', 'variant', 'variants', 'variation', 'variations', 'varied', 'variety', 'various', 'vas', 'vascular', 'vector', 'vegf', 'vehicle', 'vein', 'velocity', 'venous', 'ventilation', 'ventricular', 'verbal', 'version', 'versus', 'vessel', 'vessels', 'vi', 'via', 'view', 'viral', 'virol', 'virus', 'viruses', 'vision', 'visit', 'visits', 'visual', 'vital', 'vitamin', 'vitro', 'vivo', 'vol', 'volume', 'volumes', 'volunteers', 'vomiting', 'von', 'vs', 'wa', 'wall', 'wang', 'warfarin', 'washed', 'washington', 'water', 'way', 'wc', 'week', 'weekly', 'weeks', 'weight', 'well', 'west', 'western', 'whereas', 'whether', 'white', 'whole', 'whose', 'wide', 'widely', 'wilcoxon', 'wildtype', 'williams', 'wilson', 'withdrawal', 'withdrew', 'within', 'without', 'wj', 'wk', 'wm', 'women', 'words', 'work', 'working', 'world', 'worse', 'worsening', 'would', 'wound', 'writing', 'written', 'wt', 'wu', 'wwwdovepresscom', 'wwwhindawicom', 'wwwncbinlmnihgoventrezqueryfcgi', 'wwwnejmorg', 'wwwplosoneorg', 'yang', 'year', 'years', 'yes', 'yet', 'york', 'young', 'younger', 'youth', 'yr', 'yrig', 'zhang', 'µg', 'μg']\n"
     ]
    }
   ],
   "source": [
    "tfidf_pmid_vectorizer = TfidfVectorizer(max_features=3000)\n",
    "tfidf_pmid = tfidf_pmid_vectorizer.fit_transform(X_train['PMID_tokens'])\n",
    "print(tfidf_pmid.shape)\n",
    "print(tfidf_pmid_vectorizer.get_feature_names())"
   ]
  },
  {
   "cell_type": "code",
   "execution_count": 239,
   "metadata": {},
   "outputs": [
    {
     "data": {
      "text/html": [
       "<div>\n",
       "<style scoped>\n",
       "    .dataframe tbody tr th:only-of-type {\n",
       "        vertical-align: middle;\n",
       "    }\n",
       "\n",
       "    .dataframe tbody tr th {\n",
       "        vertical-align: top;\n",
       "    }\n",
       "\n",
       "    .dataframe thead th {\n",
       "        text-align: right;\n",
       "    }\n",
       "</style>\n",
       "<table border=\"1\" class=\"dataframe\">\n",
       "  <thead>\n",
       "    <tr style=\"text-align: right;\">\n",
       "      <th></th>\n",
       "      <th>aa</th>\n",
       "      <th>ab</th>\n",
       "      <th>abbreviations</th>\n",
       "      <th>abdominal</th>\n",
       "      <th>ability</th>\n",
       "      <th>able</th>\n",
       "      <th>abnormal</th>\n",
       "      <th>abnormalities</th>\n",
       "      <th>absence</th>\n",
       "      <th>absolute</th>\n",
       "      <th>...</th>\n",
       "      <th>yet</th>\n",
       "      <th>york</th>\n",
       "      <th>young</th>\n",
       "      <th>younger</th>\n",
       "      <th>youth</th>\n",
       "      <th>yr</th>\n",
       "      <th>yrig</th>\n",
       "      <th>zhang</th>\n",
       "      <th>µg</th>\n",
       "      <th>μg</th>\n",
       "    </tr>\n",
       "  </thead>\n",
       "  <tbody>\n",
       "    <tr>\n",
       "      <th>0</th>\n",
       "      <td>0.009438</td>\n",
       "      <td>0.0</td>\n",
       "      <td>0.000000</td>\n",
       "      <td>0.0</td>\n",
       "      <td>0.003785</td>\n",
       "      <td>0.000000</td>\n",
       "      <td>0.009377</td>\n",
       "      <td>0.000000</td>\n",
       "      <td>0.000000</td>\n",
       "      <td>0.000000</td>\n",
       "      <td>...</td>\n",
       "      <td>0.004236</td>\n",
       "      <td>0.003907</td>\n",
       "      <td>0.00428</td>\n",
       "      <td>0.0</td>\n",
       "      <td>0.0</td>\n",
       "      <td>0.0</td>\n",
       "      <td>0.0</td>\n",
       "      <td>0.000000</td>\n",
       "      <td>0.0</td>\n",
       "      <td>0.0</td>\n",
       "    </tr>\n",
       "    <tr>\n",
       "      <th>1</th>\n",
       "      <td>0.000000</td>\n",
       "      <td>0.0</td>\n",
       "      <td>0.020907</td>\n",
       "      <td>0.0</td>\n",
       "      <td>0.000000</td>\n",
       "      <td>0.000000</td>\n",
       "      <td>0.000000</td>\n",
       "      <td>0.000000</td>\n",
       "      <td>0.000000</td>\n",
       "      <td>0.013887</td>\n",
       "      <td>...</td>\n",
       "      <td>0.000000</td>\n",
       "      <td>0.000000</td>\n",
       "      <td>0.00000</td>\n",
       "      <td>0.0</td>\n",
       "      <td>0.0</td>\n",
       "      <td>0.0</td>\n",
       "      <td>0.0</td>\n",
       "      <td>0.000000</td>\n",
       "      <td>0.0</td>\n",
       "      <td>0.0</td>\n",
       "    </tr>\n",
       "    <tr>\n",
       "      <th>2</th>\n",
       "      <td>0.000000</td>\n",
       "      <td>0.0</td>\n",
       "      <td>0.000000</td>\n",
       "      <td>0.0</td>\n",
       "      <td>0.000000</td>\n",
       "      <td>0.000000</td>\n",
       "      <td>0.000000</td>\n",
       "      <td>0.000000</td>\n",
       "      <td>0.000000</td>\n",
       "      <td>0.019615</td>\n",
       "      <td>...</td>\n",
       "      <td>0.006129</td>\n",
       "      <td>0.000000</td>\n",
       "      <td>0.00000</td>\n",
       "      <td>0.0</td>\n",
       "      <td>0.0</td>\n",
       "      <td>0.0</td>\n",
       "      <td>0.0</td>\n",
       "      <td>0.000000</td>\n",
       "      <td>0.0</td>\n",
       "      <td>0.0</td>\n",
       "    </tr>\n",
       "    <tr>\n",
       "      <th>3</th>\n",
       "      <td>0.000000</td>\n",
       "      <td>0.0</td>\n",
       "      <td>0.001621</td>\n",
       "      <td>0.0</td>\n",
       "      <td>0.006765</td>\n",
       "      <td>0.002747</td>\n",
       "      <td>0.000000</td>\n",
       "      <td>0.001751</td>\n",
       "      <td>0.000000</td>\n",
       "      <td>0.000000</td>\n",
       "      <td>...</td>\n",
       "      <td>0.000000</td>\n",
       "      <td>0.005586</td>\n",
       "      <td>0.00459</td>\n",
       "      <td>0.0</td>\n",
       "      <td>0.0</td>\n",
       "      <td>0.0</td>\n",
       "      <td>0.0</td>\n",
       "      <td>0.003462</td>\n",
       "      <td>0.0</td>\n",
       "      <td>0.0</td>\n",
       "    </tr>\n",
       "    <tr>\n",
       "      <th>4</th>\n",
       "      <td>0.000000</td>\n",
       "      <td>0.0</td>\n",
       "      <td>0.000000</td>\n",
       "      <td>0.0</td>\n",
       "      <td>0.000000</td>\n",
       "      <td>0.014208</td>\n",
       "      <td>0.000000</td>\n",
       "      <td>0.000000</td>\n",
       "      <td>0.004328</td>\n",
       "      <td>0.000000</td>\n",
       "      <td>...</td>\n",
       "      <td>0.000000</td>\n",
       "      <td>0.004815</td>\n",
       "      <td>0.00000</td>\n",
       "      <td>0.0</td>\n",
       "      <td>0.0</td>\n",
       "      <td>0.0</td>\n",
       "      <td>0.0</td>\n",
       "      <td>0.000000</td>\n",
       "      <td>0.0</td>\n",
       "      <td>0.0</td>\n",
       "    </tr>\n",
       "  </tbody>\n",
       "</table>\n",
       "<p>5 rows × 3000 columns</p>\n",
       "</div>"
      ],
      "text/plain": [
       "         aa   ab  abbreviations  abdominal   ability      able  abnormal  \\\n",
       "0  0.009438  0.0       0.000000        0.0  0.003785  0.000000  0.009377   \n",
       "1  0.000000  0.0       0.020907        0.0  0.000000  0.000000  0.000000   \n",
       "2  0.000000  0.0       0.000000        0.0  0.000000  0.000000  0.000000   \n",
       "3  0.000000  0.0       0.001621        0.0  0.006765  0.002747  0.000000   \n",
       "4  0.000000  0.0       0.000000        0.0  0.000000  0.014208  0.000000   \n",
       "\n",
       "   abnormalities   absence  absolute  ...       yet      york    young  \\\n",
       "0       0.000000  0.000000  0.000000  ...  0.004236  0.003907  0.00428   \n",
       "1       0.000000  0.000000  0.013887  ...  0.000000  0.000000  0.00000   \n",
       "2       0.000000  0.000000  0.019615  ...  0.006129  0.000000  0.00000   \n",
       "3       0.001751  0.000000  0.000000  ...  0.000000  0.005586  0.00459   \n",
       "4       0.000000  0.004328  0.000000  ...  0.000000  0.004815  0.00000   \n",
       "\n",
       "   younger  youth   yr  yrig     zhang   µg   μg  \n",
       "0      0.0    0.0  0.0   0.0  0.000000  0.0  0.0  \n",
       "1      0.0    0.0  0.0   0.0  0.000000  0.0  0.0  \n",
       "2      0.0    0.0  0.0   0.0  0.000000  0.0  0.0  \n",
       "3      0.0    0.0  0.0   0.0  0.003462  0.0  0.0  \n",
       "4      0.0    0.0  0.0   0.0  0.000000  0.0  0.0  \n",
       "\n",
       "[5 rows x 3000 columns]"
      ]
     },
     "execution_count": 239,
     "metadata": {},
     "output_type": "execute_result"
    }
   ],
   "source": [
    "tfidf_pmid_df = pd.DataFrame(tfidf_pmid.toarray())\n",
    "tfidf_pmid_df.columns = tfidf_pmid_vectorizer.get_feature_names()\n",
    "tfidf_pmid_df.head()"
   ]
  },
  {
   "cell_type": "code",
   "execution_count": 241,
   "metadata": {},
   "outputs": [
    {
     "name": "stdout",
     "output_type": "stream",
     "text": [
      "\n",
      "\n",
      "Words : \n",
      "            term        rank\n",
      "1960   patients  378.823604\n",
      "2643      study  221.213795\n",
      "2809  treatment  177.175593\n",
      "910          et  169.417486\n",
      "107          al  167.843498\n",
      "362      cancer  156.452317\n",
      "392       cells  155.183135\n",
      "1134      group  153.397944\n",
      "1213       http  131.556778\n",
      "455    clinical  101.714221\n"
     ]
    }
   ],
   "source": [
    "sums = tfidf_pmid_df.sum(axis = 0) \n",
    "data1 = [] \n",
    "for col, term in enumerate(tfidf_pmid_df.columns): \n",
    "    data1.append( (term, sums[col] )) \n",
    "ranking = pd.DataFrame(data1, columns = ['term', 'rank']) \n",
    "words = (ranking.sort_values('rank', ascending = False)) \n",
    "print (\"\\n\\nWords : \\n\", words.head(10))"
   ]
  },
  {
   "cell_type": "code",
   "execution_count": 121,
   "metadata": {},
   "outputs": [
    {
     "name": "stderr",
     "output_type": "stream",
     "text": [
      "C:\\Users\\Public\\Anaconda3\\lib\\site-packages\\ipykernel_launcher.py:1: SettingWithCopyWarning: \n",
      "A value is trying to be set on a copy of a slice from a DataFrame.\n",
      "Try using .loc[row_indexer,col_indexer] = value instead\n",
      "\n",
      "See the caveats in the documentation: https://pandas.pydata.org/pandas-docs/stable/user_guide/indexing.html#returning-a-view-versus-a-copy\n",
      "  \"\"\"Entry point for launching an IPython kernel.\n"
     ]
    }
   ],
   "source": [
    "X_train['pmid_len'] = X_train['PMID_tokens'].apply(lambda x: len(x) - x.count(\" \"))"
   ]
  },
  {
   "cell_type": "code",
   "execution_count": 185,
   "metadata": {},
   "outputs": [
    {
     "data": {
      "text/plain": [
       "<matplotlib.axes._subplots.AxesSubplot at 0x216b18fcd88>"
      ]
     },
     "execution_count": 185,
     "metadata": {},
     "output_type": "execute_result"
    },
    {
     "data": {
      "image/png": "[encoded data removed]",
      "text/plain": [
       "<Figure size 432x288 with 1 Axes>"
      ]
     },
     "metadata": {
      "needs_background": "light"
     },
     "output_type": "display_data"
    }
   ],
   "source": [
    "X_train['inter_name_len'].plot(kind = 'hist', bins = 20)\n"
   ]
  },
  {
   "cell_type": "code",
   "execution_count": 189,
   "metadata": {},
   "outputs": [
    {
     "data": {
      "text/plain": [
       "<matplotlib.axes._subplots.AxesSubplot at 0x216b1cb96c8>"
      ]
     },
     "execution_count": 189,
     "metadata": {},
     "output_type": "execute_result"
    },
    {
     "data": {
      "image/png": "[encoded data removed]",
      "text/plain": [
       "<Figure size 432x288 with 1 Axes>"
      ]
     },
     "metadata": {
      "needs_background": "light"
     },
     "output_type": "display_data"
    }
   ],
   "source": [
    "X_train['source_len'].plot(kind = 'hist',)"
   ]
  },
  {
   "cell_type": "code",
   "execution_count": 202,
   "metadata": {},
   "outputs": [
    {
     "data": {
      "text/plain": [
       "<matplotlib.axes._subplots.AxesSubplot at 0x21c03460888>"
      ]
     },
     "execution_count": 202,
     "metadata": {},
     "output_type": "execute_result"
    },
    {
     "data": {
      "image/png": "[encoded data removed]",
      "text/plain": [
       "<Figure size 432x288 with 1 Axes>"
      ]
     },
     "metadata": {
      "needs_background": "light"
     },
     "output_type": "display_data"
    }
   ],
   "source": [
    "sns.distplot(np.log(1+ X_train['intervention_type_len']))"
   ]
  },
  {
   "cell_type": "code",
   "execution_count": 221,
   "metadata": {},
   "outputs": [
    {
     "data": {
      "text/plain": [
       "<1781x5000 sparse matrix of type '<class 'numpy.float64'>'\n",
       "\twith 1818748 stored elements in Compressed Sparse Row format>"
      ]
     },
     "execution_count": 221,
     "metadata": {},
     "output_type": "execute_result"
    }
   ],
   "source": [
    "tfidf_pmid_vectorizer.transform(X_test['PMID_tokens'])"
   ]
  },
  {
   "cell_type": "code",
   "execution_count": 106,
   "metadata": {},
   "outputs": [],
   "source": [
    "categorical_columns_test = X_test.select_dtypes('category').columns\n",
    "\n",
    "X_test_cat = pd.get_dummies(X_test, columns = categorical_columns_test)"
   ]
  },
  {
   "cell_type": "code",
   "execution_count": 245,
   "metadata": {},
   "outputs": [
    {
     "name": "stdout",
     "output_type": "stream",
     "text": [
      "<class 'pandas.core.frame.DataFrame'>\n",
      "RangeIndex: 3614 entries, 0 to 3613\n",
      "Columns: 3000 entries, aa to μg\n",
      "dtypes: float64(3000)\n",
      "memory usage: 82.7 MB\n"
     ]
    }
   ],
   "source": [
    "tfidf_pmid_df."
   ]
  },
  {
   "cell_type": "code",
   "execution_count": 148,
   "metadata": {},
   "outputs": [],
   "source": [
    "X_train_cat.drop(columns = 'success', inplace = True)"
   ]
  },
  {
   "cell_type": "code",
   "execution_count": 117,
   "metadata": {},
   "outputs": [],
   "source": [
    "X_train_cat.drop(columns = X_train_cat.select_dtypes('object'), inplace = True)"
   ]
  },
  {
   "cell_type": "code",
   "execution_count": 17,
   "metadata": {},
   "outputs": [
    {
     "name": "stderr",
     "output_type": "stream",
     "text": [
      "C:\\Users\\Public\\Anaconda3\\lib\\site-packages\\pandas\\core\\frame.py:4174: SettingWithCopyWarning: \n",
      "A value is trying to be set on a copy of a slice from a DataFrame\n",
      "\n",
      "See the caveats in the documentation: https://pandas.pydata.org/pandas-docs/stable/user_guide/indexing.html#returning-a-view-versus-a-copy\n",
      "  errors=errors,\n"
     ]
    }
   ],
   "source": [
    "X_train.drop(columns = X_train.select_dtypes('object'), inplace = True)"
   ]
  },
  {
   "cell_type": "code",
   "execution_count": 52,
   "metadata": {},
   "outputs": [
    {
     "data": {
      "text/plain": [
       "nct_id\n",
       "NCT01720316    False\n",
       "NCT00297258    False\n",
       "NCT01384149    False\n",
       "NCT01267682    False\n",
       "NCT00331799    False\n",
       "               ...  \n",
       "NCT00844493    False\n",
       "NCT00365170     True\n",
       "NCT00826020    False\n",
       "NCT00505375    False\n",
       "NCT01428843    False\n",
       "Name: success, Length: 3614, dtype: bool"
      ]
     },
     "execution_count": 52,
     "metadata": {},
     "output_type": "execute_result"
    }
   ],
   "source": [
    "data['success']"
   ]
  },
  {
   "cell_type": "code",
   "execution_count": 185,
   "metadata": {},
   "outputs": [],
   "source": [
    "data = X_train.copy()\n",
    "data['success'] = y_train\n",
    "data['success'] = data['success'].astype('int')\n",
    "data.drop(columns = 'country', inplace = True)"
   ]
  },
  {
   "cell_type": "code",
   "execution_count": 101,
   "metadata": {},
   "outputs": [
    {
     "data": {
      "text/html": [
       "<div>\n",
       "<style scoped>\n",
       "    .dataframe tbody tr th:only-of-type {\n",
       "        vertical-align: middle;\n",
       "    }\n",
       "\n",
       "    .dataframe tbody tr th {\n",
       "        vertical-align: top;\n",
       "    }\n",
       "\n",
       "    .dataframe thead th {\n",
       "        text-align: right;\n",
       "    }\n",
       "</style>\n",
       "<table border=\"1\" class=\"dataframe\">\n",
       "  <thead>\n",
       "    <tr style=\"text-align: right;\">\n",
       "      <th></th>\n",
       "      <th>minimum_age</th>\n",
       "      <th>maximum_age</th>\n",
       "      <th>num_of_papers</th>\n",
       "      <th>success</th>\n",
       "    </tr>\n",
       "  </thead>\n",
       "  <tbody>\n",
       "    <tr>\n",
       "      <th>minimum_age</th>\n",
       "      <td>1.000000</td>\n",
       "      <td>0.196880</td>\n",
       "      <td>0.075541</td>\n",
       "      <td>0.049284</td>\n",
       "    </tr>\n",
       "    <tr>\n",
       "      <th>maximum_age</th>\n",
       "      <td>0.196880</td>\n",
       "      <td>1.000000</td>\n",
       "      <td>0.037117</td>\n",
       "      <td>0.013105</td>\n",
       "    </tr>\n",
       "    <tr>\n",
       "      <th>num_of_papers</th>\n",
       "      <td>0.075541</td>\n",
       "      <td>0.037117</td>\n",
       "      <td>1.000000</td>\n",
       "      <td>0.034405</td>\n",
       "    </tr>\n",
       "    <tr>\n",
       "      <th>success</th>\n",
       "      <td>0.049284</td>\n",
       "      <td>0.013105</td>\n",
       "      <td>0.034405</td>\n",
       "      <td>1.000000</td>\n",
       "    </tr>\n",
       "  </tbody>\n",
       "</table>\n",
       "</div>"
      ],
      "text/plain": [
       "               minimum_age  maximum_age  num_of_papers   success\n",
       "minimum_age       1.000000     0.196880       0.075541  0.049284\n",
       "maximum_age       0.196880     1.000000       0.037117  0.013105\n",
       "num_of_papers     0.075541     0.037117       1.000000  0.034405\n",
       "success           0.049284     0.013105       0.034405  1.000000"
      ]
     },
     "execution_count": 101,
     "metadata": {},
     "output_type": "execute_result"
    }
   ],
   "source": [
    "data.corr()"
   ]
  },
  {
   "cell_type": "code",
   "execution_count": 269,
   "metadata": {},
   "outputs": [
    {
     "name": "stdout",
     "output_type": "stream",
     "text": [
      "Optimization terminated successfully.\n",
      "         Current function value: 0.463423\n",
      "         Iterations 6\n"
     ]
    }
   ],
   "source": [
    "from statsmodels.api import Logit\n",
    "from statsmodels.formula.api import logit\n",
    "\n",
    "pred_int = '+'.join(X_train.select_dtypes('number'))+'+'\n",
    "pred_cat = ')+C('.join(X_train.select_dtypes('category'))\n",
    "pred_cat = 'C('+pred_cat+')'\n",
    "formula = 'success'+'~' + pred_int + pred_cat\n",
    "logreg = logit(formula = '''success ~ minimum_age + maximum_age + num_of_papers + C(healthy_volunteers)\n",
    "                            + C(is_fda_regulated_drug) + C(is_fda_regulated_device) + C(gender)\n",
    "                            + C(allocation) + C(intervention_model) + C(primary_purpose)\n",
    "                            + C(masking)''', data = data, \n",
    "              drop_cols= cols_to_drop\n",
    "              ).fit()\n",
    "                                             \n",
    "#outcome = 'price'\n",
    "#pred_sum = '+'.join(X_train.columns)\n",
    "#formula = outcome+'~'+ pred_sum\n",
    "#model = ols(formula = formula, data = data).fit()"
   ]
  },
  {
   "cell_type": "code",
   "execution_count": 227,
   "metadata": {},
   "outputs": [
    {
     "data": {
      "text/html": [
       "<table class=\"simpletable\">\n",
       "<caption>Logit Regression Results</caption>\n",
       "<tr>\n",
       "  <th>Dep. Variable:</th>        <td>success</td>     <th>  No. Observations:  </th>  <td>  3614</td>  \n",
       "</tr>\n",
       "<tr>\n",
       "  <th>Model:</th>                 <td>Logit</td>      <th>  Df Residuals:      </th>  <td>  3576</td>  \n",
       "</tr>\n",
       "<tr>\n",
       "  <th>Method:</th>                 <td>MLE</td>       <th>  Df Model:          </th>  <td>    37</td>  \n",
       "</tr>\n",
       "<tr>\n",
       "  <th>Date:</th>            <td>Sun, 28 Mar 2021</td> <th>  Pseudo R-squ.:     </th>  <td>0.03752</td> \n",
       "</tr>\n",
       "<tr>\n",
       "  <th>Time:</th>                <td>19:51:12</td>     <th>  Log-Likelihood:    </th> <td> -1662.1</td> \n",
       "</tr>\n",
       "<tr>\n",
       "  <th>converged:</th>             <td>False</td>      <th>  LL-Null:           </th> <td> -1726.9</td> \n",
       "</tr>\n",
       "<tr>\n",
       "  <th>Covariance Type:</th>     <td>nonrobust</td>    <th>  LLR p-value:       </th> <td>3.303e-12</td>\n",
       "</tr>\n",
       "</table>\n",
       "<table class=\"simpletable\">\n",
       "<tr>\n",
       "                                            <td></td>                                               <th>coef</th>     <th>std err</th>      <th>z</th>      <th>P>|z|</th>  <th>[0.025</th>    <th>0.975]</th>  \n",
       "</tr>\n",
       "<tr>\n",
       "  <th>Intercept</th>                                                                             <td>   -1.7854</td> <td>    0.502</td> <td>   -3.558</td> <td> 0.000</td> <td>   -2.769</td> <td>   -0.802</td>\n",
       "</tr>\n",
       "<tr>\n",
       "  <th>C(is_fda_regulated_drug)[T.Yes]</th>                                                       <td>   -0.4284</td> <td>    0.150</td> <td>   -2.855</td> <td> 0.004</td> <td>   -0.723</td> <td>   -0.134</td>\n",
       "</tr>\n",
       "<tr>\n",
       "  <th>C(gender)[T.Female]</th>                                                                   <td>   -0.1954</td> <td>    0.175</td> <td>   -1.117</td> <td> 0.264</td> <td>   -0.538</td> <td>    0.148</td>\n",
       "</tr>\n",
       "<tr>\n",
       "  <th>C(gender)[T.Male]</th>                                                                     <td>   -0.5872</td> <td>    0.256</td> <td>   -2.295</td> <td> 0.022</td> <td>   -1.089</td> <td>   -0.086</td>\n",
       "</tr>\n",
       "<tr>\n",
       "  <th>C(allocation)[T.Non-Randomized]</th>                                                       <td>    0.0594</td> <td>    0.224</td> <td>    0.265</td> <td> 0.791</td> <td>   -0.380</td> <td>    0.499</td>\n",
       "</tr>\n",
       "<tr>\n",
       "  <th>C(allocation)[T.Randomized]</th>                                                           <td>    0.5177</td> <td>    0.255</td> <td>    2.033</td> <td> 0.042</td> <td>    0.019</td> <td>    1.017</td>\n",
       "</tr>\n",
       "<tr>\n",
       "  <th>C(intervention_model)[T.Factorial Assignment]</th>                                         <td>   -0.4582</td> <td>    0.329</td> <td>   -1.392</td> <td> 0.164</td> <td>   -1.103</td> <td>    0.187</td>\n",
       "</tr>\n",
       "<tr>\n",
       "  <th>C(intervention_model)[T.Parallel Assignment]</th>                                          <td>   -0.2377</td> <td>    0.156</td> <td>   -1.524</td> <td> 0.128</td> <td>   -0.543</td> <td>    0.068</td>\n",
       "</tr>\n",
       "<tr>\n",
       "  <th>C(intervention_model)[T.Sequential Assignment]</th>                                        <td>  -12.6410</td> <td>  192.193</td> <td>   -0.066</td> <td> 0.948</td> <td> -389.332</td> <td>  364.050</td>\n",
       "</tr>\n",
       "<tr>\n",
       "  <th>C(intervention_model)[T.Single Group Assignment]</th>                                      <td>   -0.3616</td> <td>    0.253</td> <td>   -1.432</td> <td> 0.152</td> <td>   -0.857</td> <td>    0.133</td>\n",
       "</tr>\n",
       "<tr>\n",
       "  <th>C(primary_purpose)[T.Diagnostic]</th>                                                      <td>    0.1371</td> <td>    0.361</td> <td>    0.380</td> <td> 0.704</td> <td>   -0.570</td> <td>    0.844</td>\n",
       "</tr>\n",
       "<tr>\n",
       "  <th>C(primary_purpose)[T.Educational/Counseling/Training]</th>                                 <td>  -17.6787</td> <td>  1.7e+04</td> <td>   -0.001</td> <td> 0.999</td> <td>-3.33e+04</td> <td> 3.32e+04</td>\n",
       "</tr>\n",
       "<tr>\n",
       "  <th>C(primary_purpose)[T.Health Services Research]</th>                                        <td>   -0.0392</td> <td>    0.550</td> <td>   -0.071</td> <td> 0.943</td> <td>   -1.118</td> <td>    1.039</td>\n",
       "</tr>\n",
       "<tr>\n",
       "  <th>C(primary_purpose)[T.Other]</th>                                                           <td>   -0.1463</td> <td>    0.429</td> <td>   -0.341</td> <td> 0.733</td> <td>   -0.988</td> <td>    0.696</td>\n",
       "</tr>\n",
       "<tr>\n",
       "  <th>C(primary_purpose)[T.Prevention]</th>                                                      <td>   -0.1900</td> <td>    0.285</td> <td>   -0.666</td> <td> 0.505</td> <td>   -0.749</td> <td>    0.369</td>\n",
       "</tr>\n",
       "<tr>\n",
       "  <th>C(primary_purpose)[T.Screening]</th>                                                       <td>    0.8362</td> <td>    0.706</td> <td>    1.185</td> <td> 0.236</td> <td>   -0.547</td> <td>    2.219</td>\n",
       "</tr>\n",
       "<tr>\n",
       "  <th>C(primary_purpose)[T.Supportive Care]</th>                                                 <td>    0.0368</td> <td>    0.374</td> <td>    0.098</td> <td> 0.922</td> <td>   -0.696</td> <td>    0.770</td>\n",
       "</tr>\n",
       "<tr>\n",
       "  <th>C(primary_purpose)[T.Treatment]</th>                                                       <td>   -0.3224</td> <td>    0.264</td> <td>   -1.222</td> <td> 0.222</td> <td>   -0.840</td> <td>    0.195</td>\n",
       "</tr>\n",
       "<tr>\n",
       "  <th>C(masking)[T.Double (Care Provider, Investigator)]</th>                                    <td>    0.9238</td> <td>    0.875</td> <td>    1.056</td> <td> 0.291</td> <td>   -0.791</td> <td>    2.638</td>\n",
       "</tr>\n",
       "<tr>\n",
       "  <th>C(masking)[T.Double (Care Provider, Outcomes Assessor)]</th>                               <td>  -11.2847</td> <td>  408.070</td> <td>   -0.028</td> <td> 0.978</td> <td> -811.088</td> <td>  788.518</td>\n",
       "</tr>\n",
       "<tr>\n",
       "  <th>C(masking)[T.Double (Investigator, Outcomes Assessor)]</th>                                <td>    1.6661</td> <td>    0.614</td> <td>    2.713</td> <td> 0.007</td> <td>    0.462</td> <td>    2.870</td>\n",
       "</tr>\n",
       "<tr>\n",
       "  <th>C(masking)[T.Double (Participant, Care Provider)]</th>                                     <td>    1.0926</td> <td>    0.433</td> <td>    2.521</td> <td> 0.012</td> <td>    0.243</td> <td>    1.942</td>\n",
       "</tr>\n",
       "<tr>\n",
       "  <th>C(masking)[T.Double (Participant, Investigator)]</th>                                      <td>    0.4316</td> <td>    0.326</td> <td>    1.326</td> <td> 0.185</td> <td>   -0.206</td> <td>    1.070</td>\n",
       "</tr>\n",
       "<tr>\n",
       "  <th>C(masking)[T.Double (Participant, Outcomes Assessor)]</th>                                 <td>    1.1674</td> <td>    0.414</td> <td>    2.819</td> <td> 0.005</td> <td>    0.356</td> <td>    1.979</td>\n",
       "</tr>\n",
       "<tr>\n",
       "  <th>C(masking)[T.None (Open Label)]</th>                                                       <td>    0.6033</td> <td>    0.298</td> <td>    2.022</td> <td> 0.043</td> <td>    0.019</td> <td>    1.188</td>\n",
       "</tr>\n",
       "<tr>\n",
       "  <th>C(masking)[T.Quadruple (Participant, Care Provider, Investigator, Outcomes Assessor)]</th> <td>    0.6147</td> <td>    0.305</td> <td>    2.016</td> <td> 0.044</td> <td>    0.017</td> <td>    1.212</td>\n",
       "</tr>\n",
       "<tr>\n",
       "  <th>C(masking)[T.Single]</th>                                                                  <td>    0.8101</td> <td>    0.638</td> <td>    1.269</td> <td> 0.204</td> <td>   -0.441</td> <td>    2.061</td>\n",
       "</tr>\n",
       "<tr>\n",
       "  <th>C(masking)[T.Single (Care Provider)]</th>                                                  <td>    0.6358</td> <td>    1.158</td> <td>    0.549</td> <td> 0.583</td> <td>   -1.633</td> <td>    2.905</td>\n",
       "</tr>\n",
       "<tr>\n",
       "  <th>C(masking)[T.Single (Investigator)]</th>                                                   <td>    1.1807</td> <td>    0.426</td> <td>    2.773</td> <td> 0.006</td> <td>    0.346</td> <td>    2.015</td>\n",
       "</tr>\n",
       "<tr>\n",
       "  <th>C(masking)[T.Single (Outcomes Assessor)]</th>                                              <td>    1.0999</td> <td>    0.346</td> <td>    3.182</td> <td> 0.001</td> <td>    0.422</td> <td>    1.777</td>\n",
       "</tr>\n",
       "<tr>\n",
       "  <th>C(masking)[T.Single (Participant)]</th>                                                    <td>    0.5426</td> <td>    0.373</td> <td>    1.455</td> <td> 0.146</td> <td>   -0.188</td> <td>    1.273</td>\n",
       "</tr>\n",
       "<tr>\n",
       "  <th>C(masking)[T.Triple (Care Provider, Investigator, Outcomes Assessor)]</th>                 <td>    0.9373</td> <td>    0.748</td> <td>    1.254</td> <td> 0.210</td> <td>   -0.528</td> <td>    2.403</td>\n",
       "</tr>\n",
       "<tr>\n",
       "  <th>C(masking)[T.Triple (Participant, Care Provider, Investigator)]</th>                       <td>    0.6689</td> <td>    0.347</td> <td>    1.930</td> <td> 0.054</td> <td>   -0.010</td> <td>    1.348</td>\n",
       "</tr>\n",
       "<tr>\n",
       "  <th>C(masking)[T.Triple (Participant, Care Provider, Outcomes Assessor)]</th>                  <td>    1.3875</td> <td>    0.485</td> <td>    2.863</td> <td> 0.004</td> <td>    0.438</td> <td>    2.338</td>\n",
       "</tr>\n",
       "<tr>\n",
       "  <th>C(masking)[T.Triple (Participant, Investigator, Outcomes Assessor)]</th>                   <td>    1.0108</td> <td>    0.359</td> <td>    2.814</td> <td> 0.005</td> <td>    0.307</td> <td>    1.715</td>\n",
       "</tr>\n",
       "<tr>\n",
       "  <th>minimum_age</th>                                                                           <td>    0.0084</td> <td>    0.004</td> <td>    2.343</td> <td> 0.019</td> <td>    0.001</td> <td>    0.015</td>\n",
       "</tr>\n",
       "<tr>\n",
       "  <th>maximum_age</th>                                                                           <td>   -0.0003</td> <td>    0.001</td> <td>   -0.209</td> <td> 0.835</td> <td>   -0.003</td> <td>    0.002</td>\n",
       "</tr>\n",
       "<tr>\n",
       "  <th>num_of_papers</th>                                                                         <td>    0.0045</td> <td>    0.003</td> <td>    1.472</td> <td> 0.141</td> <td>   -0.001</td> <td>    0.011</td>\n",
       "</tr>\n",
       "</table>"
      ],
      "text/plain": [
       "<class 'statsmodels.iolib.summary.Summary'>\n",
       "\"\"\"\n",
       "                           Logit Regression Results                           \n",
       "==============================================================================\n",
       "Dep. Variable:                success   No. Observations:                 3614\n",
       "Model:                          Logit   Df Residuals:                     3576\n",
       "Method:                           MLE   Df Model:                           37\n",
       "Date:                Sun, 28 Mar 2021   Pseudo R-squ.:                 0.03752\n",
       "Time:                        19:51:12   Log-Likelihood:                -1662.1\n",
       "converged:                      False   LL-Null:                       -1726.9\n",
       "Covariance Type:            nonrobust   LLR p-value:                 3.303e-12\n",
       "=========================================================================================================================================================\n",
       "                                                                                            coef    std err          z      P>|z|      [0.025      0.975]\n",
       "---------------------------------------------------------------------------------------------------------------------------------------------------------\n",
       "Intercept                                                                                -1.7854      0.502     -3.558      0.000      -2.769      -0.802\n",
       "C(is_fda_regulated_drug)[T.Yes]                                                          -0.4284      0.150     -2.855      0.004      -0.723      -0.134\n",
       "C(gender)[T.Female]                                                                      -0.1954      0.175     -1.117      0.264      -0.538       0.148\n",
       "C(gender)[T.Male]                                                                        -0.5872      0.256     -2.295      0.022      -1.089      -0.086\n",
       "C(allocation)[T.Non-Randomized]                                                           0.0594      0.224      0.265      0.791      -0.380       0.499\n",
       "C(allocation)[T.Randomized]                                                               0.5177      0.255      2.033      0.042       0.019       1.017\n",
       "C(intervention_model)[T.Factorial Assignment]                                            -0.4582      0.329     -1.392      0.164      -1.103       0.187\n",
       "C(intervention_model)[T.Parallel Assignment]                                             -0.2377      0.156     -1.524      0.128      -0.543       0.068\n",
       "C(intervention_model)[T.Sequential Assignment]                                          -12.6410    192.193     -0.066      0.948    -389.332     364.050\n",
       "C(intervention_model)[T.Single Group Assignment]                                         -0.3616      0.253     -1.432      0.152      -0.857       0.133\n",
       "C(primary_purpose)[T.Diagnostic]                                                          0.1371      0.361      0.380      0.704      -0.570       0.844\n",
       "C(primary_purpose)[T.Educational/Counseling/Training]                                   -17.6787    1.7e+04     -0.001      0.999   -3.33e+04    3.32e+04\n",
       "C(primary_purpose)[T.Health Services Research]                                           -0.0392      0.550     -0.071      0.943      -1.118       1.039\n",
       "C(primary_purpose)[T.Other]                                                              -0.1463      0.429     -0.341      0.733      -0.988       0.696\n",
       "C(primary_purpose)[T.Prevention]                                                         -0.1900      0.285     -0.666      0.505      -0.749       0.369\n",
       "C(primary_purpose)[T.Screening]                                                           0.8362      0.706      1.185      0.236      -0.547       2.219\n",
       "C(primary_purpose)[T.Supportive Care]                                                     0.0368      0.374      0.098      0.922      -0.696       0.770\n",
       "C(primary_purpose)[T.Treatment]                                                          -0.3224      0.264     -1.222      0.222      -0.840       0.195\n",
       "C(masking)[T.Double (Care Provider, Investigator)]                                        0.9238      0.875      1.056      0.291      -0.791       2.638\n",
       "C(masking)[T.Double (Care Provider, Outcomes Assessor)]                                 -11.2847    408.070     -0.028      0.978    -811.088     788.518\n",
       "C(masking)[T.Double (Investigator, Outcomes Assessor)]                                    1.6661      0.614      2.713      0.007       0.462       2.870\n",
       "C(masking)[T.Double (Participant, Care Provider)]                                         1.0926      0.433      2.521      0.012       0.243       1.942\n",
       "C(masking)[T.Double (Participant, Investigator)]                                          0.4316      0.326      1.326      0.185      -0.206       1.070\n",
       "C(masking)[T.Double (Participant, Outcomes Assessor)]                                     1.1674      0.414      2.819      0.005       0.356       1.979\n",
       "C(masking)[T.None (Open Label)]                                                           0.6033      0.298      2.022      0.043       0.019       1.188\n",
       "C(masking)[T.Quadruple (Participant, Care Provider, Investigator, Outcomes Assessor)]     0.6147      0.305      2.016      0.044       0.017       1.212\n",
       "C(masking)[T.Single]                                                                      0.8101      0.638      1.269      0.204      -0.441       2.061\n",
       "C(masking)[T.Single (Care Provider)]                                                      0.6358      1.158      0.549      0.583      -1.633       2.905\n",
       "C(masking)[T.Single (Investigator)]                                                       1.1807      0.426      2.773      0.006       0.346       2.015\n",
       "C(masking)[T.Single (Outcomes Assessor)]                                                  1.0999      0.346      3.182      0.001       0.422       1.777\n",
       "C(masking)[T.Single (Participant)]                                                        0.5426      0.373      1.455      0.146      -0.188       1.273\n",
       "C(masking)[T.Triple (Care Provider, Investigator, Outcomes Assessor)]                     0.9373      0.748      1.254      0.210      -0.528       2.403\n",
       "C(masking)[T.Triple (Participant, Care Provider, Investigator)]                           0.6689      0.347      1.930      0.054      -0.010       1.348\n",
       "C(masking)[T.Triple (Participant, Care Provider, Outcomes Assessor)]                      1.3875      0.485      2.863      0.004       0.438       2.338\n",
       "C(masking)[T.Triple (Participant, Investigator, Outcomes Assessor)]                       1.0108      0.359      2.814      0.005       0.307       1.715\n",
       "minimum_age                                                                               0.0084      0.004      2.343      0.019       0.001       0.015\n",
       "maximum_age                                                                              -0.0003      0.001     -0.209      0.835      -0.003       0.002\n",
       "num_of_papers                                                                             0.0045      0.003      1.472      0.141      -0.001       0.011\n",
       "=========================================================================================================================================================\n",
       "\"\"\""
      ]
     },
     "execution_count": 227,
     "metadata": {},
     "output_type": "execute_result"
    }
   ],
   "source": [
    "logreg.summary()"
   ]
  },
  {
   "cell_type": "code",
   "execution_count": 268,
   "metadata": {},
   "outputs": [],
   "source": [
    "cols_to_drop = ['C(healthy_volunteers)[T.No]', 'C(is_fda_regulated_device)[T.Yes]',\n",
    "                'C(intervention_model)[T.Sequential Assignment]', 'C(primary_purpose)[T.Educational/Counseling/Training]',\n",
    "                'C(primary_purpose)[T.Health Services Research]', 'C(primary_purpose)[T.Other]',\n",
    "                'C(primary_purpose)[T.Supportive Care]', 'C(masking)[T.Double (Care Provider, Outcomes Assessor)]',\n",
    "                'maximum_age', 'C(allocation)[T.Non-Randomized]', 'C(masking)[T.Single (Care Provider)]',\n",
    "                'C(primary_purpose)[T.Diagnostic]', 'C(intervention_model)[T.Single Group Assignment]',\n",
    "                'C(intervention_model)[T.Single Group Assignment]','C(intervention_model)[T.Parallel Assignment]',\n",
    "                'C(intervention_model)[T.Factorial Assignment]', 'C(masking)[T.Double (Care Provider, Investigator)]',\n",
    "                'C(primary_purpose)[T.Screening]', 'C(gender)[T.Female]',\n",
    "                'C(masking)[T.Triple (Care Provider, Investigator, Outcomes Assessor)]',\n",
    "                'C(masking)[T.Double (Participant, Investigator)]', 'C(masking)[T.Single]',\n",
    "                'C(masking)[T.Triple (Participant, Care Provider, Investigator)]'\n",
    "                \n",
    "            \n",
    "                ]\n",
    "\n",
    "d['healthy_volunteers_No']\n",
    "d['is_fda_regulated_device_Yes']\n",
    "d['intervention_model_Sequential Assignment']\n",
    "d['pr']"
   ]
  },
  {
   "cell_type": "code",
   "execution_count": 278,
   "metadata": {},
   "outputs": [
    {
     "ename": "KeyError",
     "evalue": "\"['C(healthy_volunteers)[T.No]' 'C(is_fda_regulated_device)[T.Yes]'\\n 'C(intervention_model)[T.Sequential Assignment]'\\n 'C(primary_purpose)[T.Educational/Counseling/Training]'\\n 'C(primary_purpose)[T.Health Services Research]'\\n 'C(primary_purpose)[T.Other]' 'C(primary_purpose)[T.Supportive Care]'\\n 'C(masking)[T.Double (Care Provider, Outcomes Assessor)]'\\n 'C(allocation)[T.Non-Randomized]' 'C(masking)[T.Single (Care Provider)]'\\n 'C(primary_purpose)[T.Diagnostic]'\\n 'C(intervention_model)[T.Single Group Assignment]'\\n 'C(intervention_model)[T.Single Group Assignment]'\\n 'C(intervention_model)[T.Parallel Assignment]'\\n 'C(intervention_model)[T.Factorial Assignment]'\\n 'C(masking)[T.Double (Care Provider, Investigator)]'\\n 'C(primary_purpose)[T.Screening]' 'C(gender)[T.Female]'\\n 'C(masking)[T.Triple (Care Provider, Investigator, Outcomes Assessor)]'\\n 'C(masking)[T.Double (Participant, Investigator)]' 'C(masking)[T.Single]'\\n 'C(masking)[T.Triple (Participant, Care Provider, Investigator)]'] not found in axis\"",
     "output_type": "error",
     "traceback": [
      "\u001b[1;31m---------------------------------------------------------------------------\u001b[0m",
      "\u001b[1;31mKeyError\u001b[0m                                  Traceback (most recent call last)",
      "\u001b[1;32m<ipython-input-278-408817e59104>\u001b[0m in \u001b[0;36m<module>\u001b[1;34m\u001b[0m\n\u001b[1;32m----> 1\u001b[1;33m \u001b[0md\u001b[0m\u001b[1;33m.\u001b[0m\u001b[0mdrop\u001b[0m\u001b[1;33m(\u001b[0m\u001b[0mcolumns\u001b[0m\u001b[1;33m=\u001b[0m \u001b[0mcols_to_drop\u001b[0m\u001b[1;33m)\u001b[0m\u001b[1;33m\u001b[0m\u001b[1;33m\u001b[0m\u001b[0m\n\u001b[0m",
      "\u001b[1;32mC:\\Users\\Public\\Anaconda3\\lib\\site-packages\\pandas\\core\\frame.py\u001b[0m in \u001b[0;36mdrop\u001b[1;34m(self, labels, axis, index, columns, level, inplace, errors)\u001b[0m\n\u001b[0;32m   4172\u001b[0m             \u001b[0mlevel\u001b[0m\u001b[1;33m=\u001b[0m\u001b[0mlevel\u001b[0m\u001b[1;33m,\u001b[0m\u001b[1;33m\u001b[0m\u001b[1;33m\u001b[0m\u001b[0m\n\u001b[0;32m   4173\u001b[0m             \u001b[0minplace\u001b[0m\u001b[1;33m=\u001b[0m\u001b[0minplace\u001b[0m\u001b[1;33m,\u001b[0m\u001b[1;33m\u001b[0m\u001b[1;33m\u001b[0m\u001b[0m\n\u001b[1;32m-> 4174\u001b[1;33m             \u001b[0merrors\u001b[0m\u001b[1;33m=\u001b[0m\u001b[0merrors\u001b[0m\u001b[1;33m,\u001b[0m\u001b[1;33m\u001b[0m\u001b[1;33m\u001b[0m\u001b[0m\n\u001b[0m\u001b[0;32m   4175\u001b[0m         )\n\u001b[0;32m   4176\u001b[0m \u001b[1;33m\u001b[0m\u001b[0m\n",
      "\u001b[1;32mC:\\Users\\Public\\Anaconda3\\lib\\site-packages\\pandas\\core\\generic.py\u001b[0m in \u001b[0;36mdrop\u001b[1;34m(self, labels, axis, index, columns, level, inplace, errors)\u001b[0m\n\u001b[0;32m   3885\u001b[0m         \u001b[1;32mfor\u001b[0m \u001b[0maxis\u001b[0m\u001b[1;33m,\u001b[0m \u001b[0mlabels\u001b[0m \u001b[1;32min\u001b[0m \u001b[0maxes\u001b[0m\u001b[1;33m.\u001b[0m\u001b[0mitems\u001b[0m\u001b[1;33m(\u001b[0m\u001b[1;33m)\u001b[0m\u001b[1;33m:\u001b[0m\u001b[1;33m\u001b[0m\u001b[1;33m\u001b[0m\u001b[0m\n\u001b[0;32m   3886\u001b[0m             \u001b[1;32mif\u001b[0m \u001b[0mlabels\u001b[0m \u001b[1;32mis\u001b[0m \u001b[1;32mnot\u001b[0m \u001b[1;32mNone\u001b[0m\u001b[1;33m:\u001b[0m\u001b[1;33m\u001b[0m\u001b[1;33m\u001b[0m\u001b[0m\n\u001b[1;32m-> 3887\u001b[1;33m                 \u001b[0mobj\u001b[0m \u001b[1;33m=\u001b[0m \u001b[0mobj\u001b[0m\u001b[1;33m.\u001b[0m\u001b[0m_drop_axis\u001b[0m\u001b[1;33m(\u001b[0m\u001b[0mlabels\u001b[0m\u001b[1;33m,\u001b[0m \u001b[0maxis\u001b[0m\u001b[1;33m,\u001b[0m \u001b[0mlevel\u001b[0m\u001b[1;33m=\u001b[0m\u001b[0mlevel\u001b[0m\u001b[1;33m,\u001b[0m \u001b[0merrors\u001b[0m\u001b[1;33m=\u001b[0m\u001b[0merrors\u001b[0m\u001b[1;33m)\u001b[0m\u001b[1;33m\u001b[0m\u001b[1;33m\u001b[0m\u001b[0m\n\u001b[0m\u001b[0;32m   3888\u001b[0m \u001b[1;33m\u001b[0m\u001b[0m\n\u001b[0;32m   3889\u001b[0m         \u001b[1;32mif\u001b[0m \u001b[0minplace\u001b[0m\u001b[1;33m:\u001b[0m\u001b[1;33m\u001b[0m\u001b[1;33m\u001b[0m\u001b[0m\n",
      "\u001b[1;32mC:\\Users\\Public\\Anaconda3\\lib\\site-packages\\pandas\\core\\generic.py\u001b[0m in \u001b[0;36m_drop_axis\u001b[1;34m(self, labels, axis, level, errors)\u001b[0m\n\u001b[0;32m   3919\u001b[0m                 \u001b[0mnew_axis\u001b[0m \u001b[1;33m=\u001b[0m \u001b[0maxis\u001b[0m\u001b[1;33m.\u001b[0m\u001b[0mdrop\u001b[0m\u001b[1;33m(\u001b[0m\u001b[0mlabels\u001b[0m\u001b[1;33m,\u001b[0m \u001b[0mlevel\u001b[0m\u001b[1;33m=\u001b[0m\u001b[0mlevel\u001b[0m\u001b[1;33m,\u001b[0m \u001b[0merrors\u001b[0m\u001b[1;33m=\u001b[0m\u001b[0merrors\u001b[0m\u001b[1;33m)\u001b[0m\u001b[1;33m\u001b[0m\u001b[1;33m\u001b[0m\u001b[0m\n\u001b[0;32m   3920\u001b[0m             \u001b[1;32melse\u001b[0m\u001b[1;33m:\u001b[0m\u001b[1;33m\u001b[0m\u001b[1;33m\u001b[0m\u001b[0m\n\u001b[1;32m-> 3921\u001b[1;33m                 \u001b[0mnew_axis\u001b[0m \u001b[1;33m=\u001b[0m \u001b[0maxis\u001b[0m\u001b[1;33m.\u001b[0m\u001b[0mdrop\u001b[0m\u001b[1;33m(\u001b[0m\u001b[0mlabels\u001b[0m\u001b[1;33m,\u001b[0m \u001b[0merrors\u001b[0m\u001b[1;33m=\u001b[0m\u001b[0merrors\u001b[0m\u001b[1;33m)\u001b[0m\u001b[1;33m\u001b[0m\u001b[1;33m\u001b[0m\u001b[0m\n\u001b[0m\u001b[0;32m   3922\u001b[0m             \u001b[0mresult\u001b[0m \u001b[1;33m=\u001b[0m \u001b[0mself\u001b[0m\u001b[1;33m.\u001b[0m\u001b[0mreindex\u001b[0m\u001b[1;33m(\u001b[0m\u001b[1;33m**\u001b[0m\u001b[1;33m{\u001b[0m\u001b[0maxis_name\u001b[0m\u001b[1;33m:\u001b[0m \u001b[0mnew_axis\u001b[0m\u001b[1;33m}\u001b[0m\u001b[1;33m)\u001b[0m\u001b[1;33m\u001b[0m\u001b[1;33m\u001b[0m\u001b[0m\n\u001b[0;32m   3923\u001b[0m \u001b[1;33m\u001b[0m\u001b[0m\n",
      "\u001b[1;32mC:\\Users\\Public\\Anaconda3\\lib\\site-packages\\pandas\\core\\indexes\\base.py\u001b[0m in \u001b[0;36mdrop\u001b[1;34m(self, labels, errors)\u001b[0m\n\u001b[0;32m   5282\u001b[0m         \u001b[1;32mif\u001b[0m \u001b[0mmask\u001b[0m\u001b[1;33m.\u001b[0m\u001b[0many\u001b[0m\u001b[1;33m(\u001b[0m\u001b[1;33m)\u001b[0m\u001b[1;33m:\u001b[0m\u001b[1;33m\u001b[0m\u001b[1;33m\u001b[0m\u001b[0m\n\u001b[0;32m   5283\u001b[0m             \u001b[1;32mif\u001b[0m \u001b[0merrors\u001b[0m \u001b[1;33m!=\u001b[0m \u001b[1;34m\"ignore\"\u001b[0m\u001b[1;33m:\u001b[0m\u001b[1;33m\u001b[0m\u001b[1;33m\u001b[0m\u001b[0m\n\u001b[1;32m-> 5284\u001b[1;33m                 \u001b[1;32mraise\u001b[0m \u001b[0mKeyError\u001b[0m\u001b[1;33m(\u001b[0m\u001b[1;34mf\"{labels[mask]} not found in axis\"\u001b[0m\u001b[1;33m)\u001b[0m\u001b[1;33m\u001b[0m\u001b[1;33m\u001b[0m\u001b[0m\n\u001b[0m\u001b[0;32m   5285\u001b[0m             \u001b[0mindexer\u001b[0m \u001b[1;33m=\u001b[0m \u001b[0mindexer\u001b[0m\u001b[1;33m[\u001b[0m\u001b[1;33m~\u001b[0m\u001b[0mmask\u001b[0m\u001b[1;33m]\u001b[0m\u001b[1;33m\u001b[0m\u001b[1;33m\u001b[0m\u001b[0m\n\u001b[0;32m   5286\u001b[0m         \u001b[1;32mreturn\u001b[0m \u001b[0mself\u001b[0m\u001b[1;33m.\u001b[0m\u001b[0mdelete\u001b[0m\u001b[1;33m(\u001b[0m\u001b[0mindexer\u001b[0m\u001b[1;33m)\u001b[0m\u001b[1;33m\u001b[0m\u001b[1;33m\u001b[0m\u001b[0m\n",
      "\u001b[1;31mKeyError\u001b[0m: \"['C(healthy_volunteers)[T.No]' 'C(is_fda_regulated_device)[T.Yes]'\\n 'C(intervention_model)[T.Sequential Assignment]'\\n 'C(primary_purpose)[T.Educational/Counseling/Training]'\\n 'C(primary_purpose)[T.Health Services Research]'\\n 'C(primary_purpose)[T.Other]' 'C(primary_purpose)[T.Supportive Care]'\\n 'C(masking)[T.Double (Care Provider, Outcomes Assessor)]'\\n 'C(allocation)[T.Non-Randomized]' 'C(masking)[T.Single (Care Provider)]'\\n 'C(primary_purpose)[T.Diagnostic]'\\n 'C(intervention_model)[T.Single Group Assignment]'\\n 'C(intervention_model)[T.Single Group Assignment]'\\n 'C(intervention_model)[T.Parallel Assignment]'\\n 'C(intervention_model)[T.Factorial Assignment]'\\n 'C(masking)[T.Double (Care Provider, Investigator)]'\\n 'C(primary_purpose)[T.Screening]' 'C(gender)[T.Female]'\\n 'C(masking)[T.Triple (Care Provider, Investigator, Outcomes Assessor)]'\\n 'C(masking)[T.Double (Participant, Investigator)]' 'C(masking)[T.Single]'\\n 'C(masking)[T.Triple (Participant, Care Provider, Investigator)]'] not found in axis\""
     ]
    }
   ],
   "source": [
    "d.drop(columns= cols_to_drop)"
   ]
  },
  {
   "cell_type": "code",
   "execution_count": 279,
   "metadata": {},
   "outputs": [
    {
     "data": {
      "text/html": [
       "<div>\n",
       "<style scoped>\n",
       "    .dataframe tbody tr th:only-of-type {\n",
       "        vertical-align: middle;\n",
       "    }\n",
       "\n",
       "    .dataframe tbody tr th {\n",
       "        vertical-align: top;\n",
       "    }\n",
       "\n",
       "    .dataframe thead th {\n",
       "        text-align: right;\n",
       "    }\n",
       "</style>\n",
       "<table border=\"1\" class=\"dataframe\">\n",
       "  <thead>\n",
       "    <tr style=\"text-align: right;\">\n",
       "      <th></th>\n",
       "      <th>has_expanded_access</th>\n",
       "      <th>is_fda_regulated_drug</th>\n",
       "      <th>is_fda_regulated_device</th>\n",
       "      <th>gender</th>\n",
       "      <th>minimum_age</th>\n",
       "      <th>maximum_age</th>\n",
       "      <th>healthy_volunteers</th>\n",
       "      <th>allocation</th>\n",
       "      <th>intervention_model</th>\n",
       "      <th>primary_purpose</th>\n",
       "      <th>masking</th>\n",
       "      <th>num_of_papers</th>\n",
       "      <th>success</th>\n",
       "    </tr>\n",
       "    <tr>\n",
       "      <th>nct_id</th>\n",
       "      <th></th>\n",
       "      <th></th>\n",
       "      <th></th>\n",
       "      <th></th>\n",
       "      <th></th>\n",
       "      <th></th>\n",
       "      <th></th>\n",
       "      <th></th>\n",
       "      <th></th>\n",
       "      <th></th>\n",
       "      <th></th>\n",
       "      <th></th>\n",
       "      <th></th>\n",
       "    </tr>\n",
       "  </thead>\n",
       "  <tbody>\n",
       "    <tr>\n",
       "      <th>NCT01720316</th>\n",
       "      <td>No</td>\n",
       "      <td>Yes</td>\n",
       "      <td>No</td>\n",
       "      <td>All</td>\n",
       "      <td>18</td>\n",
       "      <td>65</td>\n",
       "      <td>No</td>\n",
       "      <td>Randomized</td>\n",
       "      <td>Crossover Assignment</td>\n",
       "      <td>Treatment</td>\n",
       "      <td>Quadruple (Participant, Care Provider, Investi...</td>\n",
       "      <td>33</td>\n",
       "      <td>0</td>\n",
       "    </tr>\n",
       "    <tr>\n",
       "      <th>NCT00297258</th>\n",
       "      <td>No</td>\n",
       "      <td>Yes</td>\n",
       "      <td>No</td>\n",
       "      <td>All</td>\n",
       "      <td>21</td>\n",
       "      <td>0</td>\n",
       "      <td>No</td>\n",
       "      <td>Non-Randomized</td>\n",
       "      <td>Single Group Assignment</td>\n",
       "      <td>Treatment</td>\n",
       "      <td>None (Open Label)</td>\n",
       "      <td>2</td>\n",
       "      <td>0</td>\n",
       "    </tr>\n",
       "    <tr>\n",
       "      <th>NCT01384149</th>\n",
       "      <td>No</td>\n",
       "      <td>Yes</td>\n",
       "      <td>No</td>\n",
       "      <td>All</td>\n",
       "      <td>40</td>\n",
       "      <td>0</td>\n",
       "      <td>No</td>\n",
       "      <td>Randomized</td>\n",
       "      <td>Parallel Assignment</td>\n",
       "      <td>Treatment</td>\n",
       "      <td>None (Open Label)</td>\n",
       "      <td>11</td>\n",
       "      <td>0</td>\n",
       "    </tr>\n",
       "    <tr>\n",
       "      <th>NCT01267682</th>\n",
       "      <td>No</td>\n",
       "      <td>Yes</td>\n",
       "      <td>No</td>\n",
       "      <td>All</td>\n",
       "      <td>65</td>\n",
       "      <td>0</td>\n",
       "      <td>No</td>\n",
       "      <td>Randomized</td>\n",
       "      <td>Parallel Assignment</td>\n",
       "      <td>Treatment</td>\n",
       "      <td>Single (Outcomes Assessor)</td>\n",
       "      <td>11</td>\n",
       "      <td>0</td>\n",
       "    </tr>\n",
       "    <tr>\n",
       "      <th>NCT00331799</th>\n",
       "      <td>No</td>\n",
       "      <td>Yes</td>\n",
       "      <td>No</td>\n",
       "      <td>All</td>\n",
       "      <td>18</td>\n",
       "      <td>65</td>\n",
       "      <td>No</td>\n",
       "      <td>N/A</td>\n",
       "      <td>Single Group Assignment</td>\n",
       "      <td>Treatment</td>\n",
       "      <td>None (Open Label)</td>\n",
       "      <td>6</td>\n",
       "      <td>0</td>\n",
       "    </tr>\n",
       "    <tr>\n",
       "      <th>...</th>\n",
       "      <td>...</td>\n",
       "      <td>...</td>\n",
       "      <td>...</td>\n",
       "      <td>...</td>\n",
       "      <td>...</td>\n",
       "      <td>...</td>\n",
       "      <td>...</td>\n",
       "      <td>...</td>\n",
       "      <td>...</td>\n",
       "      <td>...</td>\n",
       "      <td>...</td>\n",
       "      <td>...</td>\n",
       "      <td>...</td>\n",
       "    </tr>\n",
       "    <tr>\n",
       "      <th>NCT00844493</th>\n",
       "      <td>No</td>\n",
       "      <td>Yes</td>\n",
       "      <td>No</td>\n",
       "      <td>All</td>\n",
       "      <td>18</td>\n",
       "      <td>45</td>\n",
       "      <td>Accepts Healthy Volunteers</td>\n",
       "      <td>Randomized</td>\n",
       "      <td>Single Group Assignment</td>\n",
       "      <td>Prevention</td>\n",
       "      <td>Quadruple (Participant, Care Provider, Investi...</td>\n",
       "      <td>7</td>\n",
       "      <td>0</td>\n",
       "    </tr>\n",
       "    <tr>\n",
       "      <th>NCT00365170</th>\n",
       "      <td>No</td>\n",
       "      <td>Yes</td>\n",
       "      <td>No</td>\n",
       "      <td>Female</td>\n",
       "      <td>18</td>\n",
       "      <td>0</td>\n",
       "      <td>No</td>\n",
       "      <td>Randomized</td>\n",
       "      <td>Parallel Assignment</td>\n",
       "      <td>Treatment</td>\n",
       "      <td>None (Open Label)</td>\n",
       "      <td>6</td>\n",
       "      <td>1</td>\n",
       "    </tr>\n",
       "    <tr>\n",
       "      <th>NCT00826020</th>\n",
       "      <td>No</td>\n",
       "      <td>Yes</td>\n",
       "      <td>No</td>\n",
       "      <td>All</td>\n",
       "      <td>0</td>\n",
       "      <td>0</td>\n",
       "      <td>No</td>\n",
       "      <td>N/A</td>\n",
       "      <td>Single Group Assignment</td>\n",
       "      <td>Treatment</td>\n",
       "      <td>None (Open Label)</td>\n",
       "      <td>5</td>\n",
       "      <td>0</td>\n",
       "    </tr>\n",
       "    <tr>\n",
       "      <th>NCT00505375</th>\n",
       "      <td>No</td>\n",
       "      <td>Yes</td>\n",
       "      <td>No</td>\n",
       "      <td>All</td>\n",
       "      <td>6</td>\n",
       "      <td>45</td>\n",
       "      <td>No</td>\n",
       "      <td>Randomized</td>\n",
       "      <td>Parallel Assignment</td>\n",
       "      <td>Treatment</td>\n",
       "      <td>Triple (Participant, Care Provider, Investigator)</td>\n",
       "      <td>8</td>\n",
       "      <td>0</td>\n",
       "    </tr>\n",
       "    <tr>\n",
       "      <th>NCT01428843</th>\n",
       "      <td>No</td>\n",
       "      <td>Yes</td>\n",
       "      <td>No</td>\n",
       "      <td>All</td>\n",
       "      <td>18</td>\n",
       "      <td>0</td>\n",
       "      <td>No</td>\n",
       "      <td>Randomized</td>\n",
       "      <td>Parallel Assignment</td>\n",
       "      <td>Treatment</td>\n",
       "      <td>Double (Participant, Investigator)</td>\n",
       "      <td>6</td>\n",
       "      <td>0</td>\n",
       "    </tr>\n",
       "  </tbody>\n",
       "</table>\n",
       "<p>3614 rows × 13 columns</p>\n",
       "</div>"
      ],
      "text/plain": [
       "            has_expanded_access is_fda_regulated_drug is_fda_regulated_device  \\\n",
       "nct_id                                                                          \n",
       "NCT01720316                  No                   Yes                      No   \n",
       "NCT00297258                  No                   Yes                      No   \n",
       "NCT01384149                  No                   Yes                      No   \n",
       "NCT01267682                  No                   Yes                      No   \n",
       "NCT00331799                  No                   Yes                      No   \n",
       "...                         ...                   ...                     ...   \n",
       "NCT00844493                  No                   Yes                      No   \n",
       "NCT00365170                  No                   Yes                      No   \n",
       "NCT00826020                  No                   Yes                      No   \n",
       "NCT00505375                  No                   Yes                      No   \n",
       "NCT01428843                  No                   Yes                      No   \n",
       "\n",
       "             gender  minimum_age  maximum_age          healthy_volunteers  \\\n",
       "nct_id                                                                      \n",
       "NCT01720316     All           18           65                          No   \n",
       "NCT00297258     All           21            0                          No   \n",
       "NCT01384149     All           40            0                          No   \n",
       "NCT01267682     All           65            0                          No   \n",
       "NCT00331799     All           18           65                          No   \n",
       "...             ...          ...          ...                         ...   \n",
       "NCT00844493     All           18           45  Accepts Healthy Volunteers   \n",
       "NCT00365170  Female           18            0                          No   \n",
       "NCT00826020     All            0            0                          No   \n",
       "NCT00505375     All            6           45                          No   \n",
       "NCT01428843     All           18            0                          No   \n",
       "\n",
       "                 allocation       intervention_model primary_purpose  \\\n",
       "nct_id                                                                 \n",
       "NCT01720316      Randomized     Crossover Assignment       Treatment   \n",
       "NCT00297258  Non-Randomized  Single Group Assignment       Treatment   \n",
       "NCT01384149      Randomized      Parallel Assignment       Treatment   \n",
       "NCT01267682      Randomized      Parallel Assignment       Treatment   \n",
       "NCT00331799             N/A  Single Group Assignment       Treatment   \n",
       "...                     ...                      ...             ...   \n",
       "NCT00844493      Randomized  Single Group Assignment      Prevention   \n",
       "NCT00365170      Randomized      Parallel Assignment       Treatment   \n",
       "NCT00826020             N/A  Single Group Assignment       Treatment   \n",
       "NCT00505375      Randomized      Parallel Assignment       Treatment   \n",
       "NCT01428843      Randomized      Parallel Assignment       Treatment   \n",
       "\n",
       "                                                       masking  num_of_papers  \\\n",
       "nct_id                                                                          \n",
       "NCT01720316  Quadruple (Participant, Care Provider, Investi...             33   \n",
       "NCT00297258                                  None (Open Label)              2   \n",
       "NCT01384149                                  None (Open Label)             11   \n",
       "NCT01267682                         Single (Outcomes Assessor)             11   \n",
       "NCT00331799                                  None (Open Label)              6   \n",
       "...                                                        ...            ...   \n",
       "NCT00844493  Quadruple (Participant, Care Provider, Investi...              7   \n",
       "NCT00365170                                  None (Open Label)              6   \n",
       "NCT00826020                                  None (Open Label)              5   \n",
       "NCT00505375  Triple (Participant, Care Provider, Investigator)              8   \n",
       "NCT01428843                 Double (Participant, Investigator)              6   \n",
       "\n",
       "             success  \n",
       "nct_id                \n",
       "NCT01720316        0  \n",
       "NCT00297258        0  \n",
       "NCT01384149        0  \n",
       "NCT01267682        0  \n",
       "NCT00331799        0  \n",
       "...              ...  \n",
       "NCT00844493        0  \n",
       "NCT00365170        1  \n",
       "NCT00826020        0  \n",
       "NCT00505375        0  \n",
       "NCT01428843        0  \n",
       "\n",
       "[3614 rows x 13 columns]"
      ]
     },
     "execution_count": 279,
     "metadata": {},
     "output_type": "execute_result"
    }
   ],
   "source": [
    "data['su']"
   ]
  },
  {
   "cell_type": "markdown",
   "metadata": {},
   "source": [
    "Let's remove the columns with high P-values.\n",
    "\n",
    "healthy volunteers no\n"
   ]
  },
  {
   "cell_type": "code",
   "execution_count": 298,
   "metadata": {},
   "outputs": [
    {
     "name": "stdout",
     "output_type": "stream",
     "text": [
      "<class 'pandas.core.frame.DataFrame'>\n",
      "Index: 1781 entries, NCT02627131 to NCT00486044\n",
      "Data columns (total 19 columns):\n",
      " #   Column                   Non-Null Count  Dtype   \n",
      "---  ------                   --------------  -----   \n",
      " 0   source                   1781 non-null   object  \n",
      " 1   has_expanded_access      1781 non-null   category\n",
      " 2   condition                1781 non-null   object  \n",
      " 3   textblock                1781 non-null   object  \n",
      " 4   intervention_type        1781 non-null   object  \n",
      " 5   is_fda_regulated_drug    1781 non-null   category\n",
      " 6   is_fda_regulated_device  1781 non-null   category\n",
      " 7   intervention_name        1781 non-null   object  \n",
      " 8   gender                   1781 non-null   category\n",
      " 9   minimum_age              1781 non-null   int32   \n",
      " 10  maximum_age              1781 non-null   int32   \n",
      " 11  healthy_volunteers       1781 non-null   category\n",
      " 12  country                  1781 non-null   category\n",
      " 13  allocation               1781 non-null   category\n",
      " 14  intervention_model       1781 non-null   category\n",
      " 15  primary_purpose          1781 non-null   category\n",
      " 16  masking                  1781 non-null   category\n",
      " 17  PMID_tokens              1781 non-null   object  \n",
      " 18  num_of_papers            1781 non-null   int64   \n",
      "dtypes: category(10), int32(2), int64(1), object(6)\n",
      "memory usage: 147.7+ KB\n"
     ]
    }
   ],
   "source": [
    "X_test.info()"
   ]
  },
  {
   "cell_type": "code",
   "execution_count": 301,
   "metadata": {},
   "outputs": [],
   "source": [
    "test_data = X_test.copy()\n",
    "test_data.drop(columns = ['country', 'source', 'intervention_type', 'intervention_name',\n",
    "                          'PMID_tokens', 'condition', 'textblock'], inplace = True)\n",
    "test_data = pd.get_dummies(test_data, columns = test_data.select_dtypes('category').columns.tolist(), drop_first = True)\n"
   ]
  },
  {
   "cell_type": "code",
   "execution_count": 318,
   "metadata": {},
   "outputs": [
    {
     "data": {
      "text/plain": [
       "SVC()"
      ]
     },
     "execution_count": 318,
     "metadata": {},
     "output_type": "execute_result"
    }
   ],
   "source": [
    "from sklearn.svm import SVC\n",
    "sklog = SVC()\n",
    "\n",
    "sklog.fit(d.drop(columns = 'success'), y_train)"
   ]
  },
  {
   "cell_type": "code",
   "execution_count": 319,
   "metadata": {},
   "outputs": [],
   "source": [
    "y_pred = sklog.predict(test_data)"
   ]
  },
  {
   "cell_type": "code",
   "execution_count": 320,
   "metadata": {},
   "outputs": [
    {
     "name": "stdout",
     "output_type": "stream",
     "text": [
      "              precision    recall  f1-score   support\n",
      "\n",
      "       False       0.81      1.00      0.90      1447\n",
      "        True       0.00      0.00      0.00       334\n",
      "\n",
      "    accuracy                           0.81      1781\n",
      "   macro avg       0.41      0.50      0.45      1781\n",
      "weighted avg       0.66      0.81      0.73      1781\n",
      "\n"
     ]
    },
    {
     "name": "stderr",
     "output_type": "stream",
     "text": [
      "C:\\Users\\Public\\Anaconda3\\lib\\site-packages\\sklearn\\metrics\\_classification.py:1221: UndefinedMetricWarning: Precision and F-score are ill-defined and being set to 0.0 in labels with no predicted samples. Use `zero_division` parameter to control this behavior.\n",
      "  _warn_prf(average, modifier, msg_start, len(result))\n"
     ]
    }
   ],
   "source": [
    "print(classification_report(y_test, y_pred))"
   ]
  },
  {
   "cell_type": "code",
   "execution_count": 198,
   "metadata": {},
   "outputs": [],
   "source": [
    "#d.drop(columns = 'country', inplace = True)\n",
    "d = pd.get_dummies(data, columns = data.select_dtypes('category').columns.tolist(), drop_first = True)\n",
    "\n"
   ]
  },
  {
   "cell_type": "code",
   "execution_count": 216,
   "metadata": {},
   "outputs": [],
   "source": [
    "cols = d.drop(columns ='success').columns.tolist()\n",
    "#.columns.to_list()\n",
    "cols = '+'.join(cols)\n",
    "formula = 'success'+' ~ '+cols"
   ]
  },
  {
   "cell_type": "code",
   "execution_count": 217,
   "metadata": {},
   "outputs": [
    {
     "data": {
      "text/plain": [
       "'success ~ minimum_age+maximum_age+num_of_papers+has_expanded_access_Yes+is_fda_regulated_drug_Yes+is_fda_regulated_device_Yes+gender_Female+gender_Male+healthy_volunteers_No+allocation_Non-Randomized+allocation_Randomized+intervention_model_Factorial Assignment+intervention_model_Parallel Assignment+intervention_model_Sequential Assignment+intervention_model_Single Group Assignment+primary_purpose_Diagnostic+primary_purpose_Educational/Counseling/Training+primary_purpose_Health Services Research+primary_purpose_Other+primary_purpose_Prevention+primary_purpose_Screening+primary_purpose_Supportive Care+primary_purpose_Treatment+masking_Double (Care Provider, Investigator)+masking_Double (Care Provider, Outcomes Assessor)+masking_Double (Investigator, Outcomes Assessor)+masking_Double (Participant, Care Provider)+masking_Double (Participant, Investigator)+masking_Double (Participant, Outcomes Assessor)+masking_None (Open Label)+masking_Quadruple (Participant, Care Provider, Investigator, Outcomes Assessor)+masking_Single+masking_Single (Care Provider)+masking_Single (Investigator)+masking_Single (Outcomes Assessor)+masking_Single (Participant)+masking_Triple (Care Provider, Investigator, Outcomes Assessor)+masking_Triple (Participant, Care Provider, Investigator)+masking_Triple (Participant, Care Provider, Outcomes Assessor)+masking_Triple (Participant, Investigator, Outcomes Assessor)'"
      ]
     },
     "execution_count": 217,
     "metadata": {},
     "output_type": "execute_result"
    }
   ],
   "source": [
    "formula"
   ]
  },
  {
   "cell_type": "code",
   "execution_count": 37,
   "metadata": {},
   "outputs": [],
   "source": [
    "pred_cat = ')+C('.join(X_train.select_dtypes('category'))\n",
    "pred_cat = 'C('+pred_cat+')'"
   ]
  },
  {
   "cell_type": "code",
   "execution_count": 144,
   "metadata": {},
   "outputs": [
    {
     "ename": "PatsyError",
     "evalue": "error tokenizing input (maybe an unclosed string?)\n    success~minimum_age+maximum_age+num_of_papers+has_expanded_access_No+has_expanded_access_Yes+is_fda_regulated_drug_No+is_fda_regulated_drug_Yes+is_fda_regulated_device_No+is_fda_regulated_device_Yes+gender_All+gender_Female+gender_Male+healthy_volunteers_AcceptsHealthyVolunteers+healthy_volunteers_No+country_Albania+country_Algeria+country_Argentina+country_Armenia+country_Australia+country_Austria+country_Bahrain+country_Bangladesh+country_Belgium+country_BosniaandHerzegovina+country_Botswana+country_Brazil+country_Bulgaria+country_BurkinaFaso+country_Cambodia+country_Cameroon+country_Canada+country_CentralAfricanRepublic+country_Chile+country_China+country_Colombia+country_Congo+country_Congo,TheDemocraticRepublicofthe+country_CostaRica+country_Croatia+country_Cuba+country_CzechRepublic+country_Czechia+country_CôteD'Ivoire+country_Denmark+country_DominicanRepublic+country_Egypt+country_ElSalvador+country_Estonia+country_Ethiopia+country_Finland+country_France+country_Gabon+country_Gambia+country_Germany+country_Ghana+country_Greece+country_Guinea+country_Guinea-Bissau+country_Haiti+country_HongKong+country_Hungary+country_India+country_Indonesia+country_Iran,IslamicRepublicof+country_Ireland+country_Israel+country_Italy+country_Japan+country_Jordan+country_Kenya+country_Korea,Republicof+country_Lebanon+country_Malawi+country_Malaysia+country_Mali+country_Mexico+country_Mongolia+country_Mozambique+country_Myanmar+country_Nepal+country_Netherlands+country_NewZealand+country_Nigeria+country_Norway+country_Pakistan+country_Paraguay+country_Peru+country_Philippines+country_Poland+country_Portugal+country_PuertoRico+country_Qatar+country_Romania+country_RussianFederation+country_SaudiArabia+country_Senegal+country_Serbia+country_SierraLeone+country_Singapore+country_Slovenia+country_SouthAfrica+country_Spain+country_Sudan+country_Sweden+country_Switzerland+country_Taiwan+country_Tanzania+country_Thailand+country_Tunisia+country_Turkey+country_Uganda+country_Ukraine+country_UnitedKingdom+country_UnitedStates+country_Venezuela+country_Vietnam+country_Zambia+allocation_N/A+allocation_Non-Randomized+allocation_Randomized+intervention_model_CrossoverAssignment+intervention_model_FactorialAssignment+intervention_model_ParallelAssignment+intervention_model_SequentialAssignment+intervention_model_SingleGroupAssignment+primary_purpose_BasicScience+primary_purpose_Diagnostic+primary_purpose_Educational/Counseling/Training+primary_purpose_HealthServicesResearch+primary_purpose_Other+primary_purpose_Prevention+primary_purpose_Screening+primary_purpose_SupportiveCare+primary_purpose_Treatment+masking_Double+masking_Double(CareProvider,Investigator)+masking_Double(CareProvider,OutcomesAssessor)+masking_Double(Investigator,OutcomesAssessor)+masking_Double(Participant,CareProvider)+masking_Double(Participant,Investigator)+masking_Double(Participant,OutcomesAssessor)+masking_None(OpenLabel)+masking_Quadruple(Participant,CareProvider,Investigator,OutcomesAssessor)+masking_Single+masking_Single(CareProvider)+masking_Single(Investigator)+masking_Single(OutcomesAssessor)+masking_Single(Participant)+masking_Triple(CareProvider,Investigator,OutcomesAssessor)+masking_Triple(Participant,CareProvider,Investigator)+masking_Triple(Participant,CareProvider,OutcomesAssessor)+masking_Triple(Participant,Investigator,OutcomesAssessor)+country_Belarus+country_Benin+country_Iraq+country_Kazakhstan+country_Lesotho+country_Moldova,Republicof+country_Namibia+country_PapuaNewGuinea+country_Swaziland+country_SyrianArabRepublic+country_TrinidadandTobago+country_Uruguay+primary_purpose_DeviceFeasibility\n                                                                                                                                                                                                                                                                                                                                                                                                                                                                                                                                                                                                                                                                                                                                                                                                                                                                 ^",
     "output_type": "error",
     "traceback": [
      "\u001b[1;31m---------------------------------------------------------------------------\u001b[0m",
      "\u001b[1;31mPatsyError\u001b[0m                                Traceback (most recent call last)",
      "\u001b[1;32m<ipython-input-144-0224111eabc7>\u001b[0m in \u001b[0;36m<module>\u001b[1;34m\u001b[0m\n\u001b[0;32m     16\u001b[0m \u001b[1;33m\u001b[0m\u001b[0m\n\u001b[0;32m     17\u001b[0m \u001b[0mformula\u001b[0m \u001b[1;33m=\u001b[0m \u001b[0moutcome\u001b[0m\u001b[1;33m+\u001b[0m\u001b[1;34m'~'\u001b[0m\u001b[1;33m+\u001b[0m \u001b[0mpred_sum\u001b[0m\u001b[1;33m\u001b[0m\u001b[1;33m\u001b[0m\u001b[0m\n\u001b[1;32m---> 18\u001b[1;33m \u001b[0mmodel\u001b[0m \u001b[1;33m=\u001b[0m \u001b[0mlogit\u001b[0m\u001b[1;33m(\u001b[0m\u001b[0mformula\u001b[0m \u001b[1;33m=\u001b[0m \u001b[0mformula\u001b[0m\u001b[1;33m,\u001b[0m \u001b[0mdata\u001b[0m \u001b[1;33m=\u001b[0m \u001b[0mX_train_cat\u001b[0m\u001b[1;33m)\u001b[0m\u001b[1;33m.\u001b[0m\u001b[0mfit\u001b[0m\u001b[1;33m(\u001b[0m\u001b[1;33m)\u001b[0m\u001b[1;33m\u001b[0m\u001b[1;33m\u001b[0m\u001b[0m\n\u001b[0m",
      "\u001b[1;32mC:\\Users\\Public\\Anaconda3\\lib\\site-packages\\statsmodels\\base\\model.py\u001b[0m in \u001b[0;36mfrom_formula\u001b[1;34m(cls, formula, data, subset, drop_cols, *args, **kwargs)\u001b[0m\n\u001b[0;32m    157\u001b[0m \u001b[1;33m\u001b[0m\u001b[0m\n\u001b[0;32m    158\u001b[0m         tmp = handle_formula_data(data, None, formula, depth=eval_env,\n\u001b[1;32m--> 159\u001b[1;33m                                   missing=missing)\n\u001b[0m\u001b[0;32m    160\u001b[0m         \u001b[1;33m(\u001b[0m\u001b[1;33m(\u001b[0m\u001b[0mendog\u001b[0m\u001b[1;33m,\u001b[0m \u001b[0mexog\u001b[0m\u001b[1;33m)\u001b[0m\u001b[1;33m,\u001b[0m \u001b[0mmissing_idx\u001b[0m\u001b[1;33m,\u001b[0m \u001b[0mdesign_info\u001b[0m\u001b[1;33m)\u001b[0m \u001b[1;33m=\u001b[0m \u001b[0mtmp\u001b[0m\u001b[1;33m\u001b[0m\u001b[1;33m\u001b[0m\u001b[0m\n\u001b[0;32m    161\u001b[0m \u001b[1;33m\u001b[0m\u001b[0m\n",
      "\u001b[1;32mC:\\Users\\Public\\Anaconda3\\lib\\site-packages\\statsmodels\\formula\\formulatools.py\u001b[0m in \u001b[0;36mhandle_formula_data\u001b[1;34m(Y, X, formula, depth, missing)\u001b[0m\n\u001b[0;32m     63\u001b[0m         \u001b[1;32mif\u001b[0m \u001b[0mdata_util\u001b[0m\u001b[1;33m.\u001b[0m\u001b[0m_is_using_pandas\u001b[0m\u001b[1;33m(\u001b[0m\u001b[0mY\u001b[0m\u001b[1;33m,\u001b[0m \u001b[1;32mNone\u001b[0m\u001b[1;33m)\u001b[0m\u001b[1;33m:\u001b[0m\u001b[1;33m\u001b[0m\u001b[1;33m\u001b[0m\u001b[0m\n\u001b[0;32m     64\u001b[0m             result = dmatrices(formula, Y, depth, return_type='dataframe',\n\u001b[1;32m---> 65\u001b[1;33m                                NA_action=na_action)\n\u001b[0m\u001b[0;32m     66\u001b[0m         \u001b[1;32melse\u001b[0m\u001b[1;33m:\u001b[0m\u001b[1;33m\u001b[0m\u001b[1;33m\u001b[0m\u001b[0m\n\u001b[0;32m     67\u001b[0m             result = dmatrices(formula, Y, depth, return_type='dataframe',\n",
      "\u001b[1;32mC:\\Users\\Public\\Anaconda3\\lib\\site-packages\\patsy\\highlevel.py\u001b[0m in \u001b[0;36mdmatrices\u001b[1;34m(formula_like, data, eval_env, NA_action, return_type)\u001b[0m\n\u001b[0;32m    308\u001b[0m     \u001b[0meval_env\u001b[0m \u001b[1;33m=\u001b[0m \u001b[0mEvalEnvironment\u001b[0m\u001b[1;33m.\u001b[0m\u001b[0mcapture\u001b[0m\u001b[1;33m(\u001b[0m\u001b[0meval_env\u001b[0m\u001b[1;33m,\u001b[0m \u001b[0mreference\u001b[0m\u001b[1;33m=\u001b[0m\u001b[1;36m1\u001b[0m\u001b[1;33m)\u001b[0m\u001b[1;33m\u001b[0m\u001b[1;33m\u001b[0m\u001b[0m\n\u001b[0;32m    309\u001b[0m     (lhs, rhs) = _do_highlevel_design(formula_like, data, eval_env,\n\u001b[1;32m--> 310\u001b[1;33m                                       NA_action, return_type)\n\u001b[0m\u001b[0;32m    311\u001b[0m     \u001b[1;32mif\u001b[0m \u001b[0mlhs\u001b[0m\u001b[1;33m.\u001b[0m\u001b[0mshape\u001b[0m\u001b[1;33m[\u001b[0m\u001b[1;36m1\u001b[0m\u001b[1;33m]\u001b[0m \u001b[1;33m==\u001b[0m \u001b[1;36m0\u001b[0m\u001b[1;33m:\u001b[0m\u001b[1;33m\u001b[0m\u001b[1;33m\u001b[0m\u001b[0m\n\u001b[0;32m    312\u001b[0m         \u001b[1;32mraise\u001b[0m \u001b[0mPatsyError\u001b[0m\u001b[1;33m(\u001b[0m\u001b[1;34m\"model is missing required outcome variables\"\u001b[0m\u001b[1;33m)\u001b[0m\u001b[1;33m\u001b[0m\u001b[1;33m\u001b[0m\u001b[0m\n",
      "\u001b[1;32mC:\\Users\\Public\\Anaconda3\\lib\\site-packages\\patsy\\highlevel.py\u001b[0m in \u001b[0;36m_do_highlevel_design\u001b[1;34m(formula_like, data, eval_env, NA_action, return_type)\u001b[0m\n\u001b[0;32m    163\u001b[0m         \u001b[1;32mreturn\u001b[0m \u001b[0miter\u001b[0m\u001b[1;33m(\u001b[0m\u001b[1;33m[\u001b[0m\u001b[0mdata\u001b[0m\u001b[1;33m]\u001b[0m\u001b[1;33m)\u001b[0m\u001b[1;33m\u001b[0m\u001b[1;33m\u001b[0m\u001b[0m\n\u001b[0;32m    164\u001b[0m     design_infos = _try_incr_builders(formula_like, data_iter_maker, eval_env,\n\u001b[1;32m--> 165\u001b[1;33m                                       NA_action)\n\u001b[0m\u001b[0;32m    166\u001b[0m     \u001b[1;32mif\u001b[0m \u001b[0mdesign_infos\u001b[0m \u001b[1;32mis\u001b[0m \u001b[1;32mnot\u001b[0m \u001b[1;32mNone\u001b[0m\u001b[1;33m:\u001b[0m\u001b[1;33m\u001b[0m\u001b[1;33m\u001b[0m\u001b[0m\n\u001b[0;32m    167\u001b[0m         return build_design_matrices(design_infos, data,\n",
      "\u001b[1;32mC:\\Users\\Public\\Anaconda3\\lib\\site-packages\\patsy\\highlevel.py\u001b[0m in \u001b[0;36m_try_incr_builders\u001b[1;34m(formula_like, data_iter_maker, eval_env, NA_action)\u001b[0m\n\u001b[0;32m     60\u001b[0m                 \"ascii-only, or else upgrade to Python 3.\")\n\u001b[0;32m     61\u001b[0m     \u001b[1;32mif\u001b[0m \u001b[0misinstance\u001b[0m\u001b[1;33m(\u001b[0m\u001b[0mformula_like\u001b[0m\u001b[1;33m,\u001b[0m \u001b[0mstr\u001b[0m\u001b[1;33m)\u001b[0m\u001b[1;33m:\u001b[0m\u001b[1;33m\u001b[0m\u001b[1;33m\u001b[0m\u001b[0m\n\u001b[1;32m---> 62\u001b[1;33m         \u001b[0mformula_like\u001b[0m \u001b[1;33m=\u001b[0m \u001b[0mModelDesc\u001b[0m\u001b[1;33m.\u001b[0m\u001b[0mfrom_formula\u001b[0m\u001b[1;33m(\u001b[0m\u001b[0mformula_like\u001b[0m\u001b[1;33m)\u001b[0m\u001b[1;33m\u001b[0m\u001b[1;33m\u001b[0m\u001b[0m\n\u001b[0m\u001b[0;32m     63\u001b[0m         \u001b[1;31m# fallthrough\u001b[0m\u001b[1;33m\u001b[0m\u001b[1;33m\u001b[0m\u001b[1;33m\u001b[0m\u001b[0m\n\u001b[0;32m     64\u001b[0m     \u001b[1;32mif\u001b[0m \u001b[0misinstance\u001b[0m\u001b[1;33m(\u001b[0m\u001b[0mformula_like\u001b[0m\u001b[1;33m,\u001b[0m \u001b[0mModelDesc\u001b[0m\u001b[1;33m)\u001b[0m\u001b[1;33m:\u001b[0m\u001b[1;33m\u001b[0m\u001b[1;33m\u001b[0m\u001b[0m\n",
      "\u001b[1;32mC:\\Users\\Public\\Anaconda3\\lib\\site-packages\\patsy\\desc.py\u001b[0m in \u001b[0;36mfrom_formula\u001b[1;34m(cls, tree_or_string)\u001b[0m\n\u001b[0;32m    162\u001b[0m             \u001b[0mtree\u001b[0m \u001b[1;33m=\u001b[0m \u001b[0mtree_or_string\u001b[0m\u001b[1;33m\u001b[0m\u001b[1;33m\u001b[0m\u001b[0m\n\u001b[0;32m    163\u001b[0m         \u001b[1;32melse\u001b[0m\u001b[1;33m:\u001b[0m\u001b[1;33m\u001b[0m\u001b[1;33m\u001b[0m\u001b[0m\n\u001b[1;32m--> 164\u001b[1;33m             \u001b[0mtree\u001b[0m \u001b[1;33m=\u001b[0m \u001b[0mparse_formula\u001b[0m\u001b[1;33m(\u001b[0m\u001b[0mtree_or_string\u001b[0m\u001b[1;33m)\u001b[0m\u001b[1;33m\u001b[0m\u001b[1;33m\u001b[0m\u001b[0m\n\u001b[0m\u001b[0;32m    165\u001b[0m         \u001b[0mvalue\u001b[0m \u001b[1;33m=\u001b[0m \u001b[0mEvaluator\u001b[0m\u001b[1;33m(\u001b[0m\u001b[1;33m)\u001b[0m\u001b[1;33m.\u001b[0m\u001b[0meval\u001b[0m\u001b[1;33m(\u001b[0m\u001b[0mtree\u001b[0m\u001b[1;33m,\u001b[0m \u001b[0mrequire_evalexpr\u001b[0m\u001b[1;33m=\u001b[0m\u001b[1;32mFalse\u001b[0m\u001b[1;33m)\u001b[0m\u001b[1;33m\u001b[0m\u001b[1;33m\u001b[0m\u001b[0m\n\u001b[0;32m    166\u001b[0m         \u001b[1;32massert\u001b[0m \u001b[0misinstance\u001b[0m\u001b[1;33m(\u001b[0m\u001b[0mvalue\u001b[0m\u001b[1;33m,\u001b[0m \u001b[0mcls\u001b[0m\u001b[1;33m)\u001b[0m\u001b[1;33m\u001b[0m\u001b[1;33m\u001b[0m\u001b[0m\n",
      "\u001b[1;32mC:\\Users\\Public\\Anaconda3\\lib\\site-packages\\patsy\\parse_formula.py\u001b[0m in \u001b[0;36mparse_formula\u001b[1;34m(code, extra_operators)\u001b[0m\n\u001b[0;32m    146\u001b[0m     tree = infix_parse(_tokenize_formula(code, operator_strings),\n\u001b[0;32m    147\u001b[0m                        \u001b[0moperators\u001b[0m\u001b[1;33m,\u001b[0m\u001b[1;33m\u001b[0m\u001b[1;33m\u001b[0m\u001b[0m\n\u001b[1;32m--> 148\u001b[1;33m                        _atomic_token_types)\n\u001b[0m\u001b[0;32m    149\u001b[0m     \u001b[1;32mif\u001b[0m \u001b[1;32mnot\u001b[0m \u001b[0misinstance\u001b[0m\u001b[1;33m(\u001b[0m\u001b[0mtree\u001b[0m\u001b[1;33m,\u001b[0m \u001b[0mParseNode\u001b[0m\u001b[1;33m)\u001b[0m \u001b[1;32mor\u001b[0m \u001b[0mtree\u001b[0m\u001b[1;33m.\u001b[0m\u001b[0mtype\u001b[0m \u001b[1;33m!=\u001b[0m \u001b[1;34m\"~\"\u001b[0m\u001b[1;33m:\u001b[0m\u001b[1;33m\u001b[0m\u001b[1;33m\u001b[0m\u001b[0m\n\u001b[0;32m    150\u001b[0m         \u001b[0mtree\u001b[0m \u001b[1;33m=\u001b[0m \u001b[0mParseNode\u001b[0m\u001b[1;33m(\u001b[0m\u001b[1;34m\"~\"\u001b[0m\u001b[1;33m,\u001b[0m \u001b[1;32mNone\u001b[0m\u001b[1;33m,\u001b[0m \u001b[1;33m[\u001b[0m\u001b[0mtree\u001b[0m\u001b[1;33m]\u001b[0m\u001b[1;33m,\u001b[0m \u001b[0mtree\u001b[0m\u001b[1;33m.\u001b[0m\u001b[0morigin\u001b[0m\u001b[1;33m)\u001b[0m\u001b[1;33m\u001b[0m\u001b[1;33m\u001b[0m\u001b[0m\n",
      "\u001b[1;32mC:\\Users\\Public\\Anaconda3\\lib\\site-packages\\patsy\\infix_parser.py\u001b[0m in \u001b[0;36minfix_parse\u001b[1;34m(tokens, operators, atomic_types, trace)\u001b[0m\n\u001b[0;32m    208\u001b[0m \u001b[1;33m\u001b[0m\u001b[0m\n\u001b[0;32m    209\u001b[0m     \u001b[0mwant_noun\u001b[0m \u001b[1;33m=\u001b[0m \u001b[1;32mTrue\u001b[0m\u001b[1;33m\u001b[0m\u001b[1;33m\u001b[0m\u001b[0m\n\u001b[1;32m--> 210\u001b[1;33m     \u001b[1;32mfor\u001b[0m \u001b[0mtoken\u001b[0m \u001b[1;32min\u001b[0m \u001b[0mtoken_source\u001b[0m\u001b[1;33m:\u001b[0m\u001b[1;33m\u001b[0m\u001b[1;33m\u001b[0m\u001b[0m\n\u001b[0m\u001b[0;32m    211\u001b[0m         \u001b[1;32mif\u001b[0m \u001b[0mc\u001b[0m\u001b[1;33m.\u001b[0m\u001b[0mtrace\u001b[0m\u001b[1;33m:\u001b[0m\u001b[1;33m\u001b[0m\u001b[1;33m\u001b[0m\u001b[0m\n\u001b[0;32m    212\u001b[0m             \u001b[0mprint\u001b[0m\u001b[1;33m(\u001b[0m\u001b[1;34m\"Reading next token (want_noun=%r)\"\u001b[0m \u001b[1;33m%\u001b[0m \u001b[1;33m(\u001b[0m\u001b[0mwant_noun\u001b[0m\u001b[1;33m,\u001b[0m\u001b[1;33m)\u001b[0m\u001b[1;33m)\u001b[0m\u001b[1;33m\u001b[0m\u001b[1;33m\u001b[0m\u001b[0m\n",
      "\u001b[1;32mC:\\Users\\Public\\Anaconda3\\lib\\site-packages\\patsy\\parse_formula.py\u001b[0m in \u001b[0;36m_tokenize_formula\u001b[1;34m(code, operator_strings)\u001b[0m\n\u001b[0;32m     92\u001b[0m         \u001b[1;32melse\u001b[0m\u001b[1;33m:\u001b[0m\u001b[1;33m\u001b[0m\u001b[1;33m\u001b[0m\u001b[0m\n\u001b[0;32m     93\u001b[0m             \u001b[0mit\u001b[0m\u001b[1;33m.\u001b[0m\u001b[0mpush_back\u001b[0m\u001b[1;33m(\u001b[0m\u001b[1;33m(\u001b[0m\u001b[0mpytype\u001b[0m\u001b[1;33m,\u001b[0m \u001b[0mtoken_string\u001b[0m\u001b[1;33m,\u001b[0m \u001b[0morigin\u001b[0m\u001b[1;33m)\u001b[0m\u001b[1;33m)\u001b[0m\u001b[1;33m\u001b[0m\u001b[1;33m\u001b[0m\u001b[0m\n\u001b[1;32m---> 94\u001b[1;33m             \u001b[1;32myield\u001b[0m \u001b[0m_read_python_expr\u001b[0m\u001b[1;33m(\u001b[0m\u001b[0mit\u001b[0m\u001b[1;33m,\u001b[0m \u001b[0mend_tokens\u001b[0m\u001b[1;33m)\u001b[0m\u001b[1;33m\u001b[0m\u001b[1;33m\u001b[0m\u001b[0m\n\u001b[0m\u001b[0;32m     95\u001b[0m \u001b[1;33m\u001b[0m\u001b[0m\n\u001b[0;32m     96\u001b[0m \u001b[1;32mdef\u001b[0m \u001b[0mtest__tokenize_formula\u001b[0m\u001b[1;33m(\u001b[0m\u001b[1;33m)\u001b[0m\u001b[1;33m:\u001b[0m\u001b[1;33m\u001b[0m\u001b[1;33m\u001b[0m\u001b[0m\n",
      "\u001b[1;32mC:\\Users\\Public\\Anaconda3\\lib\\site-packages\\patsy\\parse_formula.py\u001b[0m in \u001b[0;36m_read_python_expr\u001b[1;34m(it, end_tokens)\u001b[0m\n\u001b[0;32m     42\u001b[0m     \u001b[0morigins\u001b[0m \u001b[1;33m=\u001b[0m \u001b[1;33m[\u001b[0m\u001b[1;33m]\u001b[0m\u001b[1;33m\u001b[0m\u001b[1;33m\u001b[0m\u001b[0m\n\u001b[0;32m     43\u001b[0m     \u001b[0mbracket_level\u001b[0m \u001b[1;33m=\u001b[0m \u001b[1;36m0\u001b[0m\u001b[1;33m\u001b[0m\u001b[1;33m\u001b[0m\u001b[0m\n\u001b[1;32m---> 44\u001b[1;33m     \u001b[1;32mfor\u001b[0m \u001b[0mpytype\u001b[0m\u001b[1;33m,\u001b[0m \u001b[0mtoken_string\u001b[0m\u001b[1;33m,\u001b[0m \u001b[0morigin\u001b[0m \u001b[1;32min\u001b[0m \u001b[0mit\u001b[0m\u001b[1;33m:\u001b[0m\u001b[1;33m\u001b[0m\u001b[1;33m\u001b[0m\u001b[0m\n\u001b[0m\u001b[0;32m     45\u001b[0m         \u001b[1;32massert\u001b[0m \u001b[0mbracket_level\u001b[0m \u001b[1;33m>=\u001b[0m \u001b[1;36m0\u001b[0m\u001b[1;33m\u001b[0m\u001b[1;33m\u001b[0m\u001b[0m\n\u001b[0;32m     46\u001b[0m         \u001b[1;32mif\u001b[0m \u001b[0mbracket_level\u001b[0m \u001b[1;33m==\u001b[0m \u001b[1;36m0\u001b[0m \u001b[1;32mand\u001b[0m \u001b[0mtoken_string\u001b[0m \u001b[1;32min\u001b[0m \u001b[0mend_tokens\u001b[0m\u001b[1;33m:\u001b[0m\u001b[1;33m\u001b[0m\u001b[1;33m\u001b[0m\u001b[0m\n",
      "\u001b[1;32mC:\\Users\\Public\\Anaconda3\\lib\\site-packages\\patsy\\util.py\u001b[0m in \u001b[0;36mnext\u001b[1;34m(self)\u001b[0m\n\u001b[0;32m    347\u001b[0m         \u001b[1;32melse\u001b[0m\u001b[1;33m:\u001b[0m\u001b[1;33m\u001b[0m\u001b[1;33m\u001b[0m\u001b[0m\n\u001b[0;32m    348\u001b[0m             \u001b[1;31m# May raise StopIteration\u001b[0m\u001b[1;33m\u001b[0m\u001b[1;33m\u001b[0m\u001b[1;33m\u001b[0m\u001b[0m\n\u001b[1;32m--> 349\u001b[1;33m             \u001b[1;32mreturn\u001b[0m \u001b[0msix\u001b[0m\u001b[1;33m.\u001b[0m\u001b[0madvance_iterator\u001b[0m\u001b[1;33m(\u001b[0m\u001b[0mself\u001b[0m\u001b[1;33m.\u001b[0m\u001b[0m_it\u001b[0m\u001b[1;33m)\u001b[0m\u001b[1;33m\u001b[0m\u001b[1;33m\u001b[0m\u001b[0m\n\u001b[0m\u001b[0;32m    350\u001b[0m     \u001b[0m__next__\u001b[0m \u001b[1;33m=\u001b[0m \u001b[0mnext\u001b[0m\u001b[1;33m\u001b[0m\u001b[1;33m\u001b[0m\u001b[0m\n\u001b[0;32m    351\u001b[0m \u001b[1;33m\u001b[0m\u001b[0m\n",
      "\u001b[1;32mC:\\Users\\Public\\Anaconda3\\lib\\site-packages\\patsy\\tokens.py\u001b[0m in \u001b[0;36mpython_tokenize\u001b[1;34m(code)\u001b[0m\n\u001b[0;32m     40\u001b[0m                 raise PatsyError(\"error tokenizing input \"\n\u001b[0;32m     41\u001b[0m                                  \u001b[1;34m\"(maybe an unclosed string?)\"\u001b[0m\u001b[1;33m,\u001b[0m\u001b[1;33m\u001b[0m\u001b[1;33m\u001b[0m\u001b[0m\n\u001b[1;32m---> 42\u001b[1;33m                                  origin)\n\u001b[0m\u001b[0;32m     43\u001b[0m             \u001b[1;32mif\u001b[0m \u001b[0mpytype\u001b[0m \u001b[1;33m==\u001b[0m \u001b[0mtokenize\u001b[0m\u001b[1;33m.\u001b[0m\u001b[0mCOMMENT\u001b[0m\u001b[1;33m:\u001b[0m\u001b[1;33m\u001b[0m\u001b[1;33m\u001b[0m\u001b[0m\n\u001b[0;32m     44\u001b[0m                 \u001b[1;32mraise\u001b[0m \u001b[0mPatsyError\u001b[0m\u001b[1;33m(\u001b[0m\u001b[1;34m\"comments are not allowed\"\u001b[0m\u001b[1;33m,\u001b[0m \u001b[0morigin\u001b[0m\u001b[1;33m)\u001b[0m\u001b[1;33m\u001b[0m\u001b[1;33m\u001b[0m\u001b[0m\n",
      "\u001b[1;31mPatsyError\u001b[0m: error tokenizing input (maybe an unclosed string?)\n    success~minimum_age+maximum_age+num_of_papers+has_expanded_access_No+has_expanded_access_Yes+is_fda_regulated_drug_No+is_fda_regulated_drug_Yes+is_fda_regulated_device_No+is_fda_regulated_device_Yes+gender_All+gender_Female+gender_Male+healthy_volunteers_AcceptsHealthyVolunteers+healthy_volunteers_No+country_Albania+country_Algeria+country_Argentina+country_Armenia+country_Australia+country_Austria+country_Bahrain+country_Bangladesh+country_Belgium+country_BosniaandHerzegovina+country_Botswana+country_Brazil+country_Bulgaria+country_BurkinaFaso+country_Cambodia+country_Cameroon+country_Canada+country_CentralAfricanRepublic+country_Chile+country_China+country_Colombia+country_Congo+country_Congo,TheDemocraticRepublicofthe+country_CostaRica+country_Croatia+country_Cuba+country_CzechRepublic+country_Czechia+country_CôteD'Ivoire+country_Denmark+country_DominicanRepublic+country_Egypt+country_ElSalvador+country_Estonia+country_Ethiopia+country_Finland+country_France+country_Gabon+country_Gambia+country_Germany+country_Ghana+country_Greece+country_Guinea+country_Guinea-Bissau+country_Haiti+country_HongKong+country_Hungary+country_India+country_Indonesia+country_Iran,IslamicRepublicof+country_Ireland+country_Israel+country_Italy+country_Japan+country_Jordan+country_Kenya+country_Korea,Republicof+country_Lebanon+country_Malawi+country_Malaysia+country_Mali+country_Mexico+country_Mongolia+country_Mozambique+country_Myanmar+country_Nepal+country_Netherlands+country_NewZealand+country_Nigeria+country_Norway+country_Pakistan+country_Paraguay+country_Peru+country_Philippines+country_Poland+country_Portugal+country_PuertoRico+country_Qatar+country_Romania+country_RussianFederation+country_SaudiArabia+country_Senegal+country_Serbia+country_SierraLeone+country_Singapore+country_Slovenia+country_SouthAfrica+country_Spain+country_Sudan+country_Sweden+country_Switzerland+country_Taiwan+country_Tanzania+country_Thailand+country_Tunisia+country_Turkey+country_Uganda+country_Ukraine+country_UnitedKingdom+country_UnitedStates+country_Venezuela+country_Vietnam+country_Zambia+allocation_N/A+allocation_Non-Randomized+allocation_Randomized+intervention_model_CrossoverAssignment+intervention_model_FactorialAssignment+intervention_model_ParallelAssignment+intervention_model_SequentialAssignment+intervention_model_SingleGroupAssignment+primary_purpose_BasicScience+primary_purpose_Diagnostic+primary_purpose_Educational/Counseling/Training+primary_purpose_HealthServicesResearch+primary_purpose_Other+primary_purpose_Prevention+primary_purpose_Screening+primary_purpose_SupportiveCare+primary_purpose_Treatment+masking_Double+masking_Double(CareProvider,Investigator)+masking_Double(CareProvider,OutcomesAssessor)+masking_Double(Investigator,OutcomesAssessor)+masking_Double(Participant,CareProvider)+masking_Double(Participant,Investigator)+masking_Double(Participant,OutcomesAssessor)+masking_None(OpenLabel)+masking_Quadruple(Participant,CareProvider,Investigator,OutcomesAssessor)+masking_Single+masking_Single(CareProvider)+masking_Single(Investigator)+masking_Single(OutcomesAssessor)+masking_Single(Participant)+masking_Triple(CareProvider,Investigator,OutcomesAssessor)+masking_Triple(Participant,CareProvider,Investigator)+masking_Triple(Participant,CareProvider,OutcomesAssessor)+masking_Triple(Participant,Investigator,OutcomesAssessor)+country_Belarus+country_Benin+country_Iraq+country_Kazakhstan+country_Lesotho+country_Moldova,Republicof+country_Namibia+country_PapuaNewGuinea+country_Swaziland+country_SyrianArabRepublic+country_TrinidadandTobago+country_Uruguay+primary_purpose_DeviceFeasibility\n                                                                                                                                                                                                                                                                                                                                                                                                                                                                                                                                                                                                                                                                                                                                                                                                                                                                 ^"
     ]
    }
   ],
   "source": [
    "from statsmodels.formula.api import logit\n",
    "\n",
    "#logit()\n",
    "\n",
    "\n",
    "#logreg = Logit(y_train, X_train_cat, missing = 'drop').fit()\n",
    "\n",
    "\n",
    "X_train_cat['success'] = y_train\n",
    "outcome = 'success'\n",
    "pred_sum = '+'.join(X_train_cat.drop(columns = 'success').columns.tolist())\n",
    "pattern = re.compile(r'\\s+')\n",
    "pred_sum = re.sub(pattern, '', pred_sum)\n",
    "\n",
    "pred_sum.rstrip(' ')\n",
    "\n",
    "formula = outcome+'~'+ pred_sum\n",
    "model = logit(formula = formula, data = X_train_cat).fit()"
   ]
  },
  {
   "cell_type": "code",
   "execution_count": 197,
   "metadata": {},
   "outputs": [
    {
     "name": "stderr",
     "output_type": "stream",
     "text": [
      "C:\\Users\\Public\\Anaconda3\\lib\\site-packages\\pandas\\core\\indexing.py:1743: SettingWithCopyWarning: \n",
      "A value is trying to be set on a copy of a slice from a DataFrame.\n",
      "Try using .loc[row_indexer,col_indexer] = value instead\n",
      "\n",
      "See the caveats in the documentation: https://pandas.pydata.org/pandas-docs/stable/user_guide/indexing.html#returning-a-view-versus-a-copy\n",
      "  isetter(ilocs[0], value)\n"
     ]
    }
   ],
   "source": [
    "X_train.loc[:, 'intervention_type'] = X_train['intervention_type'].map(lambda x: ' '.join(x))\n",
    "X_train.loc[:, 'intervention_name'] = X_train['intervention_name'].map(lambda x: ' '.join(x))\n",
    "X_train.loc[:, 'textblock'] = X_train.loc[:, 'textblock'].str[0]\n",
    "\n",
    "X_test.loc[:, 'intervention_type'] = X_test['intervention_type'].map(lambda x: ' '.join(x))\n",
    "X_test.loc[:, 'intervention_name'] = X_test['intervention_name'].map(lambda x: ' '.join(x))\n",
    "X_test.loc[:, 'textblock'] = X_test.loc[:, 'textblock'].str[0]"
   ]
  },
  {
   "cell_type": "markdown",
   "metadata": {},
   "source": [
    "We will combine the text data to provide the vectorizers with as much data as possible."
   ]
  },
  {
   "cell_type": "code",
   "execution_count": 369,
   "metadata": {},
   "outputs": [
    {
     "name": "stderr",
     "output_type": "stream",
     "text": [
      "C:\\Users\\Public\\Anaconda3\\lib\\site-packages\\ipykernel_launcher.py:1: SettingWithCopyWarning: \n",
      "A value is trying to be set on a copy of a slice from a DataFrame.\n",
      "Try using .loc[row_indexer,col_indexer] = value instead\n",
      "\n",
      "See the caveats in the documentation: https://pandas.pydata.org/pandas-docs/stable/user_guide/indexing.html#returning-a-view-versus-a-copy\n",
      "  \"\"\"Entry point for launching an IPython kernel.\n",
      "C:\\Users\\Public\\Anaconda3\\lib\\site-packages\\ipykernel_launcher.py:2: SettingWithCopyWarning: \n",
      "A value is trying to be set on a copy of a slice from a DataFrame.\n",
      "Try using .loc[row_indexer,col_indexer] = value instead\n",
      "\n",
      "See the caveats in the documentation: https://pandas.pydata.org/pandas-docs/stable/user_guide/indexing.html#returning-a-view-versus-a-copy\n",
      "  \n"
     ]
    }
   ],
   "source": [
    "X_train.loc[:, 'combined_text'] = X_train['source']+' '+ X_train['condition']+ ' '+ X_train['textblock'] + ' ' +  X_train['intervention_type'] + ' ' +  X_train['intervention_name'] + ' '+ X_train['PMID_tokens']\n",
    "X_train.loc[:, 'combined_text'] = X_train['combined_text'].map(get_tokens)\n",
    "\n",
    "X_test.loc[:, 'combined_text'] = X_test['source']+ ' '+X_test['condition']+' '+X_test['textblock']+' '+X_test['intervention_type']+' '+X_test['intervention_name']+' '+X_test['PMID_tokens']\n",
    "X_test.loc[:, 'combined_text'] = X_test['combined_text'].map(get_tokens)"
   ]
  },
  {
   "cell_type": "code",
   "execution_count": 249,
   "metadata": {},
   "outputs": [],
   "source": [
    "combined_text = X_train['combined_text'].to_numpy()\n",
    "combined_text = [w for sublist in combined_text for w in sublist]\n"
   ]
  },
  {
   "cell_type": "code",
   "execution_count": 251,
   "metadata": {},
   "outputs": [],
   "source": [
    "from  nltk import FreqDist\n",
    "freqdist = FreqDist(combined_text)\n",
    "\n",
    "most_common = freqdist.most_common(200)"
   ]
  },
  {
   "cell_type": "code",
   "execution_count": 253,
   "metadata": {},
   "outputs": [
    {
     "data": {
      "text/plain": [
       "[('patients', 227773),\n",
       " ('study', 134263),\n",
       " ('et', 112246),\n",
       " ('al', 112003),\n",
       " ('treatment', 104628),\n",
       " ('group', 87718),\n",
       " ('cells', 78083),\n",
       " ('http', 73976),\n",
       " ('clinical', 63872),\n",
       " ('cancer', 59822),\n",
       " ('disease', 58204),\n",
       " ('data', 58102),\n",
       " ('may', 51129),\n",
       " ('cell', 48516),\n",
       " ('therapy', 47861),\n",
       " ('analysis', 46626),\n",
       " ('use', 46161),\n",
       " ('studies', 45790),\n",
       " ('results', 44958),\n",
       " ('table', 44527),\n",
       " ('diabetes', 43972),\n",
       " ('trial', 43504),\n",
       " ('also', 42777),\n",
       " ('blood', 42719),\n",
       " ('risk', 42582),\n",
       " ('using', 42111),\n",
       " ('used', 40958),\n",
       " ('effects', 40693),\n",
       " ('one', 40593),\n",
       " ('time', 39959),\n",
       " ('two', 39013),\n",
       " ('levels', 38319),\n",
       " ('response', 38192),\n",
       " ('control', 38110),\n",
       " ('effect', 37902),\n",
       " ('patient', 37227),\n",
       " ('dose', 36969),\n",
       " ('subjects', 36588),\n",
       " ('baseline', 36474),\n",
       " ('mean', 35703),\n",
       " ('compared', 35392),\n",
       " ('significant', 35204),\n",
       " ('med', 34456),\n",
       " ('groups', 34283),\n",
       " ('human', 33548),\n",
       " ('fig', 33005),\n",
       " ('research', 32419),\n",
       " ('placebo', 30873),\n",
       " ('medical', 30641),\n",
       " ('associated', 30437),\n",
       " ('pain', 30116),\n",
       " ('number', 30048),\n",
       " ('new', 29393),\n",
       " ('age', 29353),\n",
       " ('per', 29221),\n",
       " ('years', 29201),\n",
       " ('mg', 29009),\n",
       " ('total', 28881),\n",
       " ('increased', 28857),\n",
       " ('first', 28775),\n",
       " ('type', 28686),\n",
       " ('days', 28466),\n",
       " ('months', 27954),\n",
       " ('reported', 27743),\n",
       " ('activity', 27648),\n",
       " ('however', 27527),\n",
       " ('drug', 27357),\n",
       " ('figure', 27171),\n",
       " ('health', 26974),\n",
       " ('care', 26766),\n",
       " ('shown', 26310),\n",
       " ('rate', 26249),\n",
       " ('without', 26183),\n",
       " ('primary', 25965),\n",
       " ('university', 25963),\n",
       " ('heart', 25377),\n",
       " ('received', 25355),\n",
       " ('insulin', 25155),\n",
       " ('expression', 25046),\n",
       " ('events', 24807),\n",
       " ('day', 24434),\n",
       " ('tumor', 24348),\n",
       " ('md', 23987),\n",
       " ('weeks', 23510),\n",
       " ('observed', 23404),\n",
       " ('significantly', 23090),\n",
       " ('test', 23089),\n",
       " ('among', 22799),\n",
       " ('protein', 22760),\n",
       " ('high', 22685),\n",
       " ('function', 22571),\n",
       " ('medicine', 22553),\n",
       " ('mice', 22165),\n",
       " ('higher', 22103),\n",
       " ('performed', 22103),\n",
       " ('three', 22077),\n",
       " ('randomized', 22065),\n",
       " ('clin', 21886),\n",
       " ('journal', 21808),\n",
       " ('acute', 21764),\n",
       " ('efficacy', 21588),\n",
       " ('treated', 21573),\n",
       " ('trials', 21270),\n",
       " ('increase', 21013),\n",
       " ('children', 20959),\n",
       " ('glucose', 20956),\n",
       " ('level', 20803),\n",
       " ('survival', 20714),\n",
       " ('similar', 20713),\n",
       " ('hospital', 20271),\n",
       " ('plasma', 20206),\n",
       " ('values', 20126),\n",
       " ('safety', 19994),\n",
       " ('serum', 19991),\n",
       " ('within', 19875),\n",
       " ('percent', 19828),\n",
       " ('found', 19780),\n",
       " ('coronary', 19751),\n",
       " ('ci', 19488),\n",
       " ('changes', 19374),\n",
       " ('phase', 19326),\n",
       " ('adverse', 19279),\n",
       " ('different', 19091),\n",
       " ('infection', 19081),\n",
       " ('factors', 18930),\n",
       " ('lower', 18878),\n",
       " ('de', 18782),\n",
       " ('included', 18759),\n",
       " ('surgery', 18745),\n",
       " ('normal', 18704),\n",
       " ('mm', 18477),\n",
       " ('model', 18443),\n",
       " ('although', 18158),\n",
       " ('population', 18128),\n",
       " ('association', 17978),\n",
       " ('chronic', 17950),\n",
       " ('pressure', 17853),\n",
       " ('women', 17701),\n",
       " ('vs', 17678),\n",
       " ('volume', 17650),\n",
       " ('following', 17563),\n",
       " ('factor', 17550),\n",
       " ('including', 17488),\n",
       " ('low', 17415),\n",
       " ('versus', 17402),\n",
       " ('differences', 17319),\n",
       " ('evidence', 17242),\n",
       " ('participants', 17068),\n",
       " ('change', 17060),\n",
       " ('vaccine', 17058),\n",
       " ('death', 17018),\n",
       " ('median', 16941),\n",
       " ('could', 16939),\n",
       " ('range', 16882),\n",
       " ('outcome', 16809),\n",
       " ('growth', 16804),\n",
       " ('difference', 16788),\n",
       " ('based', 16696),\n",
       " ('administration', 16661),\n",
       " ('period', 16637),\n",
       " ('well', 16627),\n",
       " ('methods', 16617),\n",
       " ('followup', 16505),\n",
       " ('october', 16414),\n",
       " ('respectively', 16256),\n",
       " ('reduction', 16072),\n",
       " ('cardiovascular', 15973),\n",
       " ('center', 15910),\n",
       " ('score', 15888),\n",
       " ('res', 15798),\n",
       " ('less', 15776),\n",
       " ('end', 15750),\n",
       " ('least', 15685),\n",
       " ('american', 15591),\n",
       " ('showed', 15521),\n",
       " ('failure', 15361),\n",
       " ('receptor', 15346),\n",
       " ('available', 15334),\n",
       " ('lung', 15290),\n",
       " ('severe', 15196),\n",
       " ('symptoms', 15127),\n",
       " ('responses', 15003),\n",
       " ('early', 14863),\n",
       " ('engl', 14838),\n",
       " ('week', 14831),\n",
       " ('outcomes', 14829),\n",
       " ('cardiac', 14822),\n",
       " ('either', 14785),\n",
       " ('present', 14767),\n",
       " ('development', 14660),\n",
       " ('doptabstract', 14600),\n",
       " ('rates', 14528),\n",
       " ('measured', 14511),\n",
       " ('weight', 14503),\n",
       " ('standard', 14493),\n",
       " ('concentrations', 14467),\n",
       " ('society', 14458),\n",
       " ('role', 14440),\n",
       " ('mortality', 14396),\n",
       " ('addition', 14380)]"
      ]
     },
     "execution_count": 253,
     "metadata": {},
     "output_type": "execute_result"
    }
   ],
   "source": [
    "most_common"
   ]
  },
  {
   "cell_type": "code",
   "execution_count": 371,
   "metadata": {},
   "outputs": [],
   "source": [
    "X_test.loc[:, 'intervention_model'] = X_test.loc[:,'intervention_model'].astype('category')\n",
    "X_test.loc[:, 'healthy_volunteers'] = X_test.loc[:, 'healthy_volunteers'].astype('category')\n",
    "X_test.loc[:, 'masking'] = X_test.loc[:, 'masking'].astype('category')\n",
    "X_test.loc[:, 'primary_purpose'] = X_test.loc[:, 'primary_purpose'].astype('category')\n",
    "X_test.loc[:, 'allocation'] = X_test.loc[:, 'allocation'].astype('category')\n",
    "X_test.loc[:, 'gender'] = X_test.loc[:, 'gender'].astype('category')\n",
    "\n",
    "X_test.loc[:, 'enrollment'].fillna(enrollment_mean, inplace = True)\n",
    "X_test.loc[:, 'enrollment'] = X_test.loc[:,'enrollment'].astype(int)\n",
    "X_test.loc[:,'minimum_age'] = X_test.loc[:, 'minimum_age'].map(change_age).to_numpy()\n",
    "X_test.loc[:, 'maximum_age'] = X_test.loc[:, 'maximum_age'].map(change_age).to_numpy()\n",
    "X_test.loc[:, 'has_expanded_access'] = X_test.loc[:, 'has_expanded_access'].astype('category')\n",
    "X_test.loc[:,'country'] = X_test.loc[:, 'country'].astype('category')\n",
    "X_test.loc[:, 'maximum_age'] = X_test.loc[:,'maximum_age'].astype(int)\n",
    "X_test.loc[:, 'minimum_age'] = X_test.loc[:,'minimum_age'].astype(int)\n"
   ]
  },
  {
   "cell_type": "markdown",
   "metadata": {},
   "source": [
    "Let's create a model using only the text. I'd like to establish a bit of a baseline of what numbers we are going to see when running models down the line. We want to focus on a high precision."
   ]
  },
  {
   "cell_type": "code",
   "execution_count": 263,
   "metadata": {},
   "outputs": [],
   "source": [
    "vectorizer = TfidfVectorizer()\n",
    "tf_idf_train = vectorizer.fit_transform(X_train['combined_text'].map(lambda x: ' '.join(x)))\n",
    "tf_idf_test = vectorizer.transform(X_test['combined_text'].map(lambda x: ' '.join(x)))"
   ]
  },
  {
   "cell_type": "code",
   "execution_count": 264,
   "metadata": {},
   "outputs": [
    {
     "data": {
      "text/plain": [
       "(3614, 426391)"
      ]
     },
     "execution_count": 264,
     "metadata": {},
     "output_type": "execute_result"
    }
   ],
   "source": [
    "tf_idf_train.shape"
   ]
  },
  {
   "cell_type": "code",
   "execution_count": 279,
   "metadata": {},
   "outputs": [
    {
     "name": "stdout",
     "output_type": "stream",
     "text": [
      "Multinomial Naive Bayes\n",
      "Training Accuracy: 0.8157 \t\t Testing Accuracy: 0.8125\n",
      "\n",
      "----------------------------------------------------------------------\n",
      "\n",
      "Random Forest\n",
      "Training Accuracy: 1.0 \t\t Testing Accuracy: 0.8209\n"
     ]
    }
   ],
   "source": [
    "from sklearn.naive_bayes import MultinomialNB\n",
    "from sklearn.ensemble import RandomForestClassifier\n",
    "from sklearn.metrics import accuracy_score\n",
    "nb_classifier = MultinomialNB()\n",
    "rf_classifier = RandomForestClassifier(n_estimators= 100)\n",
    "logreg = LogisticRegression()\n",
    "\n",
    "nb_classifier.fit(tf_idf_train, y_train)\n",
    "nb_train_preds = nb_classifier.predict(tf_idf_train)\n",
    "nb_test_preds = nb_classifier.predict(tf_idf_test)\n",
    "\n",
    "\n",
    "rf_classifier.fit(tf_idf_train, y_train)\n",
    "rf_train_preds = rf_classifier.predict(tf_idf_train)\n",
    "rf_test_preds = rf_classifier.predict(tf_idf_test)\n",
    "\n",
    "logreg.fit(tf_idf_train,y_train)\n",
    "lr_test = logreg.predict(tf_idf_test)\n",
    "\n",
    "nb_train_score = accuracy_score(y_train, nb_train_preds)\n",
    "nb_test_score = accuracy_score(y_test, nb_test_preds)\n",
    "rf_train_score = accuracy_score(y_train, rf_train_preds)\n",
    "rf_test_score = accuracy_score(y_test, rf_test_preds)\n",
    "\n",
    "print(\"Multinomial Naive Bayes\")\n",
    "print(\"Training Accuracy: {:.4} \\t\\t Testing Accuracy: {:.4}\".format(nb_train_score, nb_test_score))\n",
    "print(\"\")\n",
    "print('-'*70)\n",
    "print(\"\")\n",
    "print('Random Forest')\n",
    "print(\"Training Accuracy: {:.4} \\t\\t Testing Accuracy: {:.4}\".format(rf_train_score, rf_test_score))"
   ]
  },
  {
   "cell_type": "code",
   "execution_count": 276,
   "metadata": {},
   "outputs": [
    {
     "name": "stdout",
     "output_type": "stream",
     "text": [
      "              precision    recall  f1-score   support\n",
      "\n",
      "       False       0.82      0.99      0.90      1447\n",
      "        True       0.71      0.07      0.12       334\n",
      "\n",
      "    accuracy                           0.82      1781\n",
      "   macro avg       0.77      0.53      0.51      1781\n",
      "weighted avg       0.80      0.82      0.75      1781\n",
      "\n"
     ]
    }
   ],
   "source": [
    "print(classification_report(y_test, rf_test_preds))"
   ]
  },
  {
   "cell_type": "code",
   "execution_count": 282,
   "metadata": {},
   "outputs": [
    {
     "name": "stdout",
     "output_type": "stream",
     "text": [
      "              precision    recall  f1-score   support\n",
      "\n",
      "       False       1.00      0.82      0.90      1756\n",
      "        True       0.06      0.76      0.11        25\n",
      "\n",
      "    accuracy                           0.82      1781\n",
      "   macro avg       0.53      0.79      0.50      1781\n",
      "weighted avg       0.98      0.82      0.89      1781\n",
      "\n"
     ]
    }
   ],
   "source": [
    "print(classification_report(lr_test, y_test))"
   ]
  },
  {
   "cell_type": "code",
   "execution_count": 178,
   "metadata": {},
   "outputs": [
    {
     "data": {
      "text/plain": [
       "array([False, False, False, ..., False, False, False])"
      ]
     },
     "execution_count": 178,
     "metadata": {},
     "output_type": "execute_result"
    }
   ],
   "source": [
    "logreg = LogisticRegression()\n",
    "\n",
    "logreg.fit(tokens, y_train)\n",
    "\n",
    "logreg.predict(test_tokens)"
   ]
  },
  {
   "cell_type": "code",
   "execution_count": 179,
   "metadata": {},
   "outputs": [
    {
     "name": "stdout",
     "output_type": "stream",
     "text": [
      "              precision    recall  f1-score   support\n",
      "\n",
      "       False       0.81      0.97      0.88      1447\n",
      "        True       0.20      0.04      0.06       334\n",
      "\n",
      "    accuracy                           0.79      1781\n",
      "   macro avg       0.50      0.50      0.47      1781\n",
      "weighted avg       0.70      0.79      0.73      1781\n",
      "\n"
     ]
    }
   ],
   "source": [
    "y_pred = logreg.predict(test_tokens)\n",
    "\n",
    "print(classification_report(y_test, y_pred))"
   ]
  },
  {
   "cell_type": "code",
   "execution_count": 295,
   "metadata": {},
   "outputs": [
    {
     "name": "stderr",
     "output_type": "stream",
     "text": [
      "C:\\Users\\Public\\Anaconda3\\lib\\site-packages\\ipykernel_launcher.py:1: SettingWithCopyWarning: \n",
      "A value is trying to be set on a copy of a slice from a DataFrame.\n",
      "Try using .loc[row_indexer,col_indexer] = value instead\n",
      "\n",
      "See the caveats in the documentation: https://pandas.pydata.org/pandas-docs/stable/user_guide/indexing.html#returning-a-view-versus-a-copy\n",
      "  \"\"\"Entry point for launching an IPython kernel.\n"
     ]
    }
   ],
   "source": [
    "X_train['combined_text'] = X_train['combined_text'].map(lambda x: ' '.join(x))"
   ]
  },
  {
   "cell_type": "code",
   "execution_count": 372,
   "metadata": {},
   "outputs": [
    {
     "name": "stderr",
     "output_type": "stream",
     "text": [
      "C:\\Users\\Public\\Anaconda3\\lib\\site-packages\\pandas\\core\\frame.py:4174: SettingWithCopyWarning: \n",
      "A value is trying to be set on a copy of a slice from a DataFrame\n",
      "\n",
      "See the caveats in the documentation: https://pandas.pydata.org/pandas-docs/stable/user_guide/indexing.html#returning-a-view-versus-a-copy\n",
      "  errors=errors,\n"
     ]
    }
   ],
   "source": [
    "X_train.drop(['source', 'condition', 'textblock', 'intervention_type', \n",
    "              'intervention_name','PMID_tokens'],\n",
    "             axis = 1, inplace = True)\n",
    "X_test.drop(['source', 'condition', 'textblock', 'intervention_type', \n",
    "              'intervention_name', 'PMID_tokens'],\n",
    "             axis = 1, inplace = True)"
   ]
  },
  {
   "cell_type": "code",
   "execution_count": 358,
   "metadata": {},
   "outputs": [
    {
     "name": "stderr",
     "output_type": "stream",
     "text": [
      "C:\\Users\\Public\\Anaconda3\\lib\\site-packages\\ipykernel_launcher.py:1: SettingWithCopyWarning: \n",
      "A value is trying to be set on a copy of a slice from a DataFrame.\n",
      "Try using .loc[row_indexer,col_indexer] = value instead\n",
      "\n",
      "See the caveats in the documentation: https://pandas.pydata.org/pandas-docs/stable/user_guide/indexing.html#returning-a-view-versus-a-copy\n",
      "  \"\"\"Entry point for launching an IPython kernel.\n",
      "C:\\Users\\Public\\Anaconda3\\lib\\site-packages\\ipykernel_launcher.py:2: SettingWithCopyWarning: \n",
      "A value is trying to be set on a copy of a slice from a DataFrame.\n",
      "Try using .loc[row_indexer,col_indexer] = value instead\n",
      "\n",
      "See the caveats in the documentation: https://pandas.pydata.org/pandas-docs/stable/user_guide/indexing.html#returning-a-view-versus-a-copy\n",
      "  \n"
     ]
    }
   ],
   "source": [
    "X_train['combined_text']= X_train['combined_text'].map(lambda x: x.split(' '))\n",
    "X_test['combined_text']= X_test['combined_text'].map(lambda x: x.split(' '))"
   ]
  },
  {
   "cell_type": "markdown",
   "metadata": {},
   "source": [
    "Let's create a more streamlined process since we will want to deploy our model in the future. We will also look at ways to improve the accuracy of the model. One way we can try and improve the accuracy of the model is by not combining the text into one column. We will keep them seperate and apply vectorization to each column to see if that improves our scores. Let's also define which measure of accuracy we want to focus on. \n",
    "\n",
    "Take a look below. In an imbalanced classification, you can have a high overall accuracy and not necessarily predict the under represented column well. If we accurately predict all False labels and no True labels, we can land an accuracy score over 75%.\n",
    "\n",
    "What we need to focus on is the precision score of the True labels. We want to limit the amount of false positives we classify."
   ]
  },
  {
   "cell_type": "code",
   "execution_count": 375,
   "metadata": {},
   "outputs": [
    {
     "name": "stdout",
     "output_type": "stream",
     "text": [
      "[Pipeline] ...... (step 1 of 3) Processing preprocessor, total= 6.8min\n",
      "[Pipeline] .............. (step 2 of 3) Processing bal2, total=   0.5s\n",
      "[Pipeline] ............. (step 3 of 3) Processing model, total=   0.7s\n"
     ]
    },
    {
     "data": {
      "text/plain": [
       "Pipeline(steps=[('preprocessor',\n",
       "                 ColumnTransformer(n_jobs=-1,\n",
       "                                   transformers=[('num',\n",
       "                                                  Pipeline(steps=[('imputer',\n",
       "                                                                   SimpleImputer(strategy='median')),\n",
       "                                                                  ('scaler',\n",
       "                                                                   MinMaxScaler())]),\n",
       "                                                  ['minimum_age', 'maximum_age',\n",
       "                                                   'enrollment',\n",
       "                                                   'num_of_papers']),\n",
       "                                                 ('text',\n",
       "                                                  Pipeline(steps=[('vectorizer',\n",
       "                                                                   D2VTransformer(dbow_words=1))]),\n",
       "                                                  'combined_text'),\n",
       "                                                 ('cat',\n",
       "                                                  Pipeline(steps=[('imputer'...\n",
       "                                                                                 strategy='constant')),\n",
       "                                                                  ('ohe',\n",
       "                                                                   OneHotEncoder(handle_unknown='ignore'))]),\n",
       "                                                  ['has_expanded_access',\n",
       "                                                   'gender',\n",
       "                                                   'healthy_volunteers',\n",
       "                                                   'country', 'allocation',\n",
       "                                                   'intervention_model',\n",
       "                                                   'masking',\n",
       "                                                   'is_fda_regulated_drug',\n",
       "                                                   'is_fda_regulated_device',\n",
       "                                                   'primary_purpose'])])),\n",
       "                ('bal2', SMOTE(sampling_strategy=0.3)),\n",
       "                ('model', LogisticRegression(C=1, solver='liblinear'))],\n",
       "         verbose=True)"
      ]
     },
     "execution_count": 375,
     "metadata": {},
     "output_type": "execute_result"
    }
   ],
   "source": [
    "cat_cols = ['has_expanded_access', 'gender', 'healthy_volunteers', 'country',\n",
    "            'allocation', 'intervention_model', 'masking', 'is_fda_regulated_drug',\n",
    "            'is_fda_regulated_device', 'primary_purpose']\n",
    "num_cols = ['minimum_age', 'maximum_age', 'enrollment', 'num_of_papers']\n",
    "\n",
    "\n",
    "cat_pipe = Pipeline([('imputer', SimpleImputer(strategy = 'constant', fill_value = 'missing')),\n",
    "                     ('ohe', OneHotEncoder(handle_unknown = 'ignore'))])\n",
    "\n",
    "\n",
    "num_pipe = Pipeline([('imputer', SimpleImputer(strategy = 'median')),\n",
    "                     ('scaler', MinMaxScaler())])\n",
    "\n",
    "word_pipe = Pipeline([('vectorizer', D2VTransformer(dm = 1, min_count = 5, dbow_words= 1))])\n",
    "\n",
    "preprocessor = ColumnTransformer(transformers = [('num', num_pipe, num_cols),\n",
    "                                                 ('text', word_pipe, 'combined_text'),\n",
    "                                                 ('cat', cat_pipe, cat_cols),\n",
    "                                                 #('poly', poly_pipe, inter)\n",
    "                                                 ], remainder = 'drop',\n",
    "                                 n_jobs=-1)\n",
    "\n",
    "pipe = imbPipe(steps = [('preprocessor', preprocessor),\n",
    "                        #('poly', PolynomialFeatures()),\n",
    "                         #('bal', RandomUnderSampler(sampling_strategy = 0.4)),\n",
    "                        ('bal2', SMOTE(sampling_strategy= 0.3)),\n",
    "                        ('model', LogisticRegression(solver = 'liblinear', C = 1))],\n",
    "                           verbose = True)\n",
    "\n",
    "pipe.fit(X_train, y_train)"
   ]
  },
  {
   "cell_type": "code",
   "execution_count": 306,
   "metadata": {},
   "outputs": [
    {
     "name": "stderr",
     "output_type": "stream",
     "text": [
      "C:\\Users\\Public\\Anaconda3\\lib\\site-packages\\ipykernel_launcher.py:1: SettingWithCopyWarning: \n",
      "A value is trying to be set on a copy of a slice from a DataFrame.\n",
      "Try using .loc[row_indexer,col_indexer] = value instead\n",
      "\n",
      "See the caveats in the documentation: https://pandas.pydata.org/pandas-docs/stable/user_guide/indexing.html#returning-a-view-versus-a-copy\n",
      "  \"\"\"Entry point for launching an IPython kernel.\n"
     ]
    }
   ],
   "source": [
    "X_test['combined_text'] = X_test['combined_text'].map(lambda x: ' '.join(x))"
   ]
  },
  {
   "cell_type": "code",
   "execution_count": 307,
   "metadata": {},
   "outputs": [
    {
     "name": "stdout",
     "output_type": "stream",
     "text": [
      "              precision    recall  f1-score   support\n",
      "\n",
      "       False       0.83      0.99      0.90      1447\n",
      "        True       0.73      0.14      0.24       334\n",
      "\n",
      "    accuracy                           0.83      1781\n",
      "   macro avg       0.78      0.57      0.57      1781\n",
      "weighted avg       0.81      0.83      0.78      1781\n",
      "\n"
     ]
    }
   ],
   "source": [
    "y_pred = pipe.predict(X_test)\n",
    "print(classification_report(y_test, y_pred))"
   ]
  },
  {
   "cell_type": "code",
   "execution_count": 309,
   "metadata": {},
   "outputs": [
    {
     "name": "stdout",
     "output_type": "stream",
     "text": [
      "              precision    recall  f1-score   support\n",
      "\n",
      "       False       0.84      0.98      0.90      1447\n",
      "        True       0.72      0.17      0.27       334\n",
      "\n",
      "    accuracy                           0.83      1781\n",
      "   macro avg       0.78      0.58      0.59      1781\n",
      "weighted avg       0.81      0.83      0.79      1781\n",
      "\n"
     ]
    }
   ],
   "source": [
    "y_pred = pipe.predict(X_test)\n",
    "print(classification_report(y_test, y_pred))"
   ]
  },
  {
   "cell_type": "code",
   "execution_count": 376,
   "metadata": {},
   "outputs": [
    {
     "name": "stdout",
     "output_type": "stream",
     "text": [
      "              precision    recall  f1-score   support\n",
      "\n",
      "       False       0.87      0.91      0.89      1447\n",
      "        True       0.49      0.39      0.43       334\n",
      "\n",
      "    accuracy                           0.81      1781\n",
      "   macro avg       0.68      0.65      0.66      1781\n",
      "weighted avg       0.79      0.81      0.80      1781\n",
      "\n"
     ]
    }
   ],
   "source": [
    "y_pred = pipe.predict(X_test)\n",
    "print(classification_report(y_test, y_pred))"
   ]
  },
  {
   "cell_type": "markdown",
   "metadata": {},
   "source": [
    "Let's try a different approach. Let's keep the text columns seperate to see if there is a difference in the accuracy of the models."
   ]
  },
  {
   "cell_type": "code",
   "execution_count": 328,
   "metadata": {},
   "outputs": [
    {
     "name": "stdout",
     "output_type": "stream",
     "text": [
      "              precision    recall  f1-score   support\n",
      "\n",
      "       False       0.85      0.97      0.91      1447\n",
      "        True       0.65      0.26      0.37       334\n",
      "\n",
      "    accuracy                           0.84      1781\n",
      "   macro avg       0.75      0.61      0.64      1781\n",
      "weighted avg       0.81      0.84      0.81      1781\n",
      "\n"
     ]
    }
   ],
   "source": [
    "y_pred = pipe.predict(X_test)\n",
    "print(classification_report(y_test, y_pred))"
   ]
  },
  {
   "cell_type": "code",
   "execution_count": 325,
   "metadata": {},
   "outputs": [
    {
     "name": "stdout",
     "output_type": "stream",
     "text": [
      "              precision    recall  f1-score   support\n",
      "\n",
      "       False       0.85      0.97      0.91      1447\n",
      "        True       0.65      0.25      0.37       334\n",
      "\n",
      "    accuracy                           0.83      1781\n",
      "   macro avg       0.75      0.61      0.64      1781\n",
      "weighted avg       0.81      0.83      0.80      1781\n",
      "\n"
     ]
    }
   ],
   "source": [
    "y_pred = pipe.predict(X_test)\n",
    "print(classification_report(y_test, y_pred))"
   ]
  },
  {
   "cell_type": "markdown",
   "metadata": {},
   "source": [
    "Each clinical trial may use reference papers which in turn have PMIDs associated with them. These PMIDs are reference numbers to the actual article themselves. We will capture each PMID in every clinical trial to later perform a web crawl to obtan each article if permissible. "
   ]
  },
  {
   "cell_type": "markdown",
   "metadata": {},
   "source": [
    "We also need to only keep the interventional studies that are finished. We will keep completed, unknown_status, terminated, withdrawn, suspended studies."
   ]
  },
  {
   "cell_type": "markdown",
   "metadata": {},
   "source": [
    "Split the training and test set. We will conserve 33% of dataset as the test set."
   ]
  },
  {
   "cell_type": "code",
   "execution_count": 338,
   "metadata": {
    "scrolled": true
   },
   "outputs": [
    {
     "name": "stdout",
     "output_type": "stream",
     "text": [
      "[Pipeline] ...... (step 1 of 3) Processing preprocessor, total=  32.8s\n",
      "[Pipeline] .............. (step 2 of 3) Processing bal2, total=   1.1s\n",
      "[Pipeline] ............. (step 3 of 3) Processing model, total=   8.3s\n",
      "AUC for 0.2: 0.802676609462485\n",
      "-------------------------------------------------------------------------------------\n",
      "[Pipeline] ...... (step 1 of 3) Processing preprocessor, total=  35.3s\n",
      "[Pipeline] .............. (step 2 of 3) Processing bal2, total=   1.5s\n",
      "[Pipeline] ............. (step 3 of 3) Processing model, total=  11.2s\n",
      "AUC for 0.25: 0.8035559840926303\n",
      "-------------------------------------------------------------------------------------\n",
      "[Pipeline] ...... (step 1 of 3) Processing preprocessor, total=  25.5s\n",
      "[Pipeline] .............. (step 2 of 3) Processing bal2, total=   1.1s\n",
      "[Pipeline] ............. (step 3 of 3) Processing model, total=   6.8s\n",
      "AUC for 0.33: 0.8065665490028927\n",
      "-------------------------------------------------------------------------------------\n",
      "[Pipeline] ...... (step 1 of 3) Processing preprocessor, total=  25.8s\n",
      "[Pipeline] .............. (step 2 of 3) Processing bal2, total=   1.1s\n",
      "[Pipeline] ............. (step 3 of 3) Processing model, total=   6.9s\n",
      "AUC for 0.5: 0.8069514047233797\n",
      "-------------------------------------------------------------------------------------\n",
      "[Pipeline] ...... (step 1 of 3) Processing preprocessor, total=  26.0s\n",
      "[Pipeline] .............. (step 2 of 3) Processing bal2, total=   1.2s\n",
      "[Pipeline] ............. (step 3 of 3) Processing model, total=  10.1s\n",
      "AUC for 0.8: 0.8092564008127492\n",
      "-------------------------------------------------------------------------------------\n"
     ]
    },
    {
     "data": {
      "image/png": "[encoded data removed]",
      "text/plain": [
       "<Figure size 720x576 with 1 Axes>"
      ]
     },
     "metadata": {
      "needs_background": "light"
     },
     "output_type": "display_data"
    }
   ],
   "source": [
    "import seaborn as sns\n",
    "import matplotlib.pyplot as plt\n",
    "from sklearn.metrics import roc_curve\n",
    "\n",
    "%matplotlib inline\n",
    "ratios = [ 0.3, 0.6, 0.5, .7, .9]\n",
    "names = ['0.2', '0.25', '0.33','0.5','0.8','even']\n",
    "colors = sns.color_palette('Set2')\n",
    "\n",
    "plt.figure(figsize=(10, 8))\n",
    "\n",
    "for n, ratio in enumerate(ratios):\n",
    "    #smote = SMOTE(sampling_strategy=ratio, random_state=42)\n",
    "    #X_train_resampled, y_train_resampled = smote.fit_sample(X_train, y_train)\n",
    "    pipe = imbPipe(steps = [('preprocessor', preprocessor),\n",
    "                        #('poly', PolynomialFeatures()),\n",
    "                         #('bal', RandomUnderSampler(sampling_strategy = 0.4)),\n",
    "                        ('bal2', SMOTE(sampling_strategy= ratio)),\n",
    "                         ('model', LogisticRegression(solver = 'liblinear', C = 1))],\n",
    "               verbose = True)\n",
    "\n",
    "    pipe.fit(X_train, y_train)\n",
    "    \n",
    "    \n",
    "    # Predict\n",
    "    y_hat_test = pipe.predict(X_test)\n",
    "\n",
    "    y_score = pipe.decision_function(X_test)\n",
    "\n",
    "    fpr, tpr, thresholds = roc_curve(y_test, y_score)\n",
    "    print('AUC for {}: {}'.format(names[n], auc(fpr, tpr)))\n",
    "    print('-------------------------------------------------------------------------------------')\n",
    "    lw = 2\n",
    "    plt.plot(fpr, tpr, color=colors[n],\n",
    "             lw=lw, label='ROC curve {}'.format(names[n]))\n",
    "\n",
    "plt.plot([0, 1], [0, 1], color='navy', lw=lw, linestyle='--')\n",
    "plt.xlim([0.0, 1.0])\n",
    "plt.ylim([0.0, 1.05])\n",
    "\n",
    "plt.yticks([i/20.0 for i in range(21)])\n",
    "plt.xticks([i/20.0 for i in range(21)])\n",
    "plt.xlabel('False Positive Rate')\n",
    "plt.ylabel('True Positive Rate')\n",
    "plt.title('Receiver operating characteristic (ROC) Curve')\n",
    "plt.legend(loc='lower right')\n",
    "plt.show()"
   ]
  },
  {
   "cell_type": "code",
   "execution_count": 73,
   "metadata": {},
   "outputs": [],
   "source": [
    "def get_tokens(tokens):\n",
    "    \n",
    "    tokens = word_tokenize(tokens)\n",
    "    #split text in words and implement lower case\n",
    "    tokens = [word.lower() for word in tokens]\n",
    "   # hyphen = '-'\n",
    "    #tokens = [word+word if word.endswith(hyphen) else word for word in tokens]\n",
    "    tokens = [w for w in tokens if not w == ',']\n",
    "    \n",
    "    #remove http\n",
    "    tokens = [re.sub(r'http\\S+', '',w) for w in tokens]\n",
    "    \n",
    "    # combine hyphenated words\n",
    "    tok = []\n",
    "    tokens_to_remove= []\n",
    "    for n,w in enumerate(tokens):\n",
    "        if re.match('(.)*[-]$', w):\n",
    "            #w = w.rstrip('-')\n",
    "            w = w.replace('-', ' ')\n",
    "            if n+1 ==len(tokens):\n",
    "                next\n",
    "            else:\n",
    "                w = w + tokens[n+1]\n",
    "            tokens_to_remove.append(n+1)\n",
    "        tok.append(w)\n",
    "       # if n+1 == len(tokens):\n",
    "        #    tok.append(w)\n",
    "        #else:\n",
    "         #   tok.append(w)\n",
    "            \n",
    "    tok = [w for i, w in enumerate(tok) if i not in tokens_to_remove]\n",
    "    \n",
    "    \n",
    "    #remove punctuation from each word\n",
    "    table = str.maketrans('', '', string.punctuation)\n",
    "    stripped = [w.translate(table) for w in tok]\n",
    "\n",
    "    #remove remaining words that are not alphabetic\n",
    "    words = [word for word in stripped if word.isalpha()] \n",
    "    #words = stripped\n",
    "    #filter out stopwords\n",
    "    stop_words = set(stopwords.words('english'))\n",
    "    #letters = re.search([a-zA-Z])\n",
    "    words = [w for w in words if not w in stop_words]\n",
    "    #\n",
    "    toke = []\n",
    "    \n",
    "    #remove single characters\n",
    "    for w in words:\n",
    "        if len(w) == 1:\n",
    "            if re.match('[a-z]', w):\n",
    "                next\n",
    "        else:\n",
    "            toke.append(w)         \n",
    "    \n",
    "    return toke"
   ]
  },
  {
   "cell_type": "code",
   "execution_count": 74,
   "metadata": {},
   "outputs": [
    {
     "data": {
      "text/plain": [
       "nct_id\n",
       "NCT01720316    [purpose, study, assess, efficacy, oral, glyci...\n",
       "NCT00297258    [purpose, study, evaluate, activity, tolerabil...\n",
       "NCT01384149    [purpose, study, evaluate, advantages, disadva...\n",
       "NCT01267682    [purpose, study, test, effectiveness, cognitiv...\n",
       "NCT00331799    [purpose, study, explore, benefits, duloxetine...\n",
       "                                     ...                        \n",
       "NCT00844493    [study, validate, model, testing, new, vaccine...\n",
       "NCT00365170    [trial, conducted, europe, middle, east, north...\n",
       "NCT00826020    [purpose, study, determine, established, paren...\n",
       "NCT00505375    [purpose, study, determine, whether, treatment...\n",
       "NCT01428843    [anemia, frequently, extradigestive, symptom, ...\n",
       "Name: textblock, Length: 3614, dtype: object"
      ]
     },
     "execution_count": 74,
     "metadata": {},
     "output_type": "execute_result"
    }
   ],
   "source": [
    "X_train['textblock'].map(get_tokens)"
   ]
  },
  {
   "cell_type": "code",
   "execution_count": 381,
   "metadata": {},
   "outputs": [
    {
     "name": "stderr",
     "output_type": "stream",
     "text": [
      "C:\\Users\\Public\\Anaconda3\\lib\\site-packages\\pandas\\core\\indexing.py:1743: SettingWithCopyWarning: \n",
      "A value is trying to be set on a copy of a slice from a DataFrame.\n",
      "Try using .loc[row_indexer,col_indexer] = value instead\n",
      "\n",
      "See the caveats in the documentation: https://pandas.pydata.org/pandas-docs/stable/user_guide/indexing.html#returning-a-view-versus-a-copy\n",
      "  isetter(ilocs[0], value)\n"
     ]
    },
    {
     "ename": "MemoryError",
     "evalue": "",
     "output_type": "error",
     "traceback": [
      "\u001b[1;31m---------------------------------------------------------------------------\u001b[0m",
      "\u001b[1;31mMemoryError\u001b[0m                               Traceback (most recent call last)",
      "\u001b[1;32m<ipython-input-381-cf14af6fb2a1>\u001b[0m in \u001b[0;36m<module>\u001b[1;34m\u001b[0m\n\u001b[0;32m    105\u001b[0m \u001b[0mX_train\u001b[0m\u001b[1;33m.\u001b[0m\u001b[0mloc\u001b[0m\u001b[1;33m[\u001b[0m\u001b[1;33m:\u001b[0m\u001b[1;33m,\u001b[0m\u001b[1;34m'source'\u001b[0m\u001b[1;33m]\u001b[0m \u001b[1;33m=\u001b[0m \u001b[0mX_train\u001b[0m\u001b[1;33m[\u001b[0m\u001b[1;34m'source'\u001b[0m\u001b[1;33m]\u001b[0m\u001b[1;33m.\u001b[0m\u001b[0mmap\u001b[0m\u001b[1;33m(\u001b[0m\u001b[1;32mlambda\u001b[0m \u001b[0mx\u001b[0m\u001b[1;33m:\u001b[0m \u001b[1;34m' '\u001b[0m\u001b[1;33m.\u001b[0m\u001b[0mjoin\u001b[0m\u001b[1;33m(\u001b[0m\u001b[0mx\u001b[0m\u001b[1;33m)\u001b[0m\u001b[1;33m)\u001b[0m\u001b[1;33m\u001b[0m\u001b[1;33m\u001b[0m\u001b[0m\n\u001b[0;32m    106\u001b[0m \u001b[0mX_train\u001b[0m\u001b[1;33m.\u001b[0m\u001b[0mloc\u001b[0m\u001b[1;33m[\u001b[0m\u001b[1;33m:\u001b[0m\u001b[1;33m,\u001b[0m \u001b[1;34m'textblock'\u001b[0m\u001b[1;33m]\u001b[0m \u001b[1;33m=\u001b[0m \u001b[0mX_train\u001b[0m\u001b[1;33m[\u001b[0m\u001b[1;34m'textblock'\u001b[0m\u001b[1;33m]\u001b[0m\u001b[1;33m.\u001b[0m\u001b[0mmap\u001b[0m\u001b[1;33m(\u001b[0m\u001b[1;32mlambda\u001b[0m \u001b[0mx\u001b[0m\u001b[1;33m:\u001b[0m \u001b[1;34m' '\u001b[0m\u001b[1;33m.\u001b[0m\u001b[0mjoin\u001b[0m\u001b[1;33m(\u001b[0m\u001b[0mx\u001b[0m\u001b[1;33m)\u001b[0m\u001b[1;33m)\u001b[0m\u001b[1;33m\u001b[0m\u001b[1;33m\u001b[0m\u001b[0m\n\u001b[1;32m--> 107\u001b[1;33m \u001b[0mX_train\u001b[0m\u001b[1;33m.\u001b[0m\u001b[0mloc\u001b[0m\u001b[1;33m[\u001b[0m\u001b[1;33m:\u001b[0m\u001b[1;33m,\u001b[0m \u001b[1;34m'PMID_tokens'\u001b[0m\u001b[1;33m]\u001b[0m \u001b[1;33m=\u001b[0m \u001b[0mX_train\u001b[0m\u001b[1;33m[\u001b[0m\u001b[1;34m'PMID_tokens'\u001b[0m\u001b[1;33m]\u001b[0m\u001b[1;33m.\u001b[0m\u001b[0mmap\u001b[0m\u001b[1;33m(\u001b[0m\u001b[1;32mlambda\u001b[0m \u001b[0mx\u001b[0m\u001b[1;33m:\u001b[0m \u001b[0mget_tokens\u001b[0m\u001b[1;33m(\u001b[0m\u001b[1;34m' '\u001b[0m\u001b[1;33m.\u001b[0m\u001b[0mjoin\u001b[0m\u001b[1;33m(\u001b[0m\u001b[0mx\u001b[0m\u001b[1;33m)\u001b[0m\u001b[1;33m)\u001b[0m\u001b[1;33m)\u001b[0m\u001b[1;33m\u001b[0m\u001b[1;33m\u001b[0m\u001b[0m\n\u001b[0m\u001b[0;32m    108\u001b[0m \u001b[0mX_train\u001b[0m\u001b[1;33m.\u001b[0m\u001b[0mloc\u001b[0m\u001b[1;33m[\u001b[0m\u001b[1;33m:\u001b[0m\u001b[1;33m,\u001b[0m \u001b[1;34m'PMID_tokens'\u001b[0m\u001b[1;33m]\u001b[0m \u001b[1;33m=\u001b[0m \u001b[0mX_train\u001b[0m\u001b[1;33m[\u001b[0m\u001b[1;34m'PMID_tokens'\u001b[0m\u001b[1;33m]\u001b[0m\u001b[1;33m.\u001b[0m\u001b[0mmap\u001b[0m\u001b[1;33m(\u001b[0m\u001b[1;32mlambda\u001b[0m \u001b[0mx\u001b[0m\u001b[1;33m:\u001b[0m \u001b[1;34m' '\u001b[0m\u001b[1;33m.\u001b[0m\u001b[0mjoin\u001b[0m\u001b[1;33m(\u001b[0m\u001b[0mx\u001b[0m\u001b[1;33m)\u001b[0m\u001b[1;33m)\u001b[0m\u001b[1;33m\u001b[0m\u001b[1;33m\u001b[0m\u001b[0m\n\u001b[0;32m    109\u001b[0m \u001b[1;33m\u001b[0m\u001b[0m\n",
      "\u001b[1;32mC:\\Users\\Public\\Anaconda3\\lib\\site-packages\\pandas\\core\\series.py\u001b[0m in \u001b[0;36mmap\u001b[1;34m(self, arg, na_action)\u001b[0m\n\u001b[0;32m   3980\u001b[0m         \u001b[0mdtype\u001b[0m\u001b[1;33m:\u001b[0m \u001b[0mobject\u001b[0m\u001b[1;33m\u001b[0m\u001b[1;33m\u001b[0m\u001b[0m\n\u001b[0;32m   3981\u001b[0m         \"\"\"\n\u001b[1;32m-> 3982\u001b[1;33m         \u001b[0mnew_values\u001b[0m \u001b[1;33m=\u001b[0m \u001b[0msuper\u001b[0m\u001b[1;33m(\u001b[0m\u001b[1;33m)\u001b[0m\u001b[1;33m.\u001b[0m\u001b[0m_map_values\u001b[0m\u001b[1;33m(\u001b[0m\u001b[0marg\u001b[0m\u001b[1;33m,\u001b[0m \u001b[0mna_action\u001b[0m\u001b[1;33m=\u001b[0m\u001b[0mna_action\u001b[0m\u001b[1;33m)\u001b[0m\u001b[1;33m\u001b[0m\u001b[1;33m\u001b[0m\u001b[0m\n\u001b[0m\u001b[0;32m   3983\u001b[0m         return self._constructor(new_values, index=self.index).__finalize__(\n\u001b[0;32m   3984\u001b[0m             \u001b[0mself\u001b[0m\u001b[1;33m,\u001b[0m \u001b[0mmethod\u001b[0m\u001b[1;33m=\u001b[0m\u001b[1;34m\"map\"\u001b[0m\u001b[1;33m\u001b[0m\u001b[1;33m\u001b[0m\u001b[0m\n",
      "\u001b[1;32mC:\\Users\\Public\\Anaconda3\\lib\\site-packages\\pandas\\core\\base.py\u001b[0m in \u001b[0;36m_map_values\u001b[1;34m(self, mapper, na_action)\u001b[0m\n\u001b[0;32m   1158\u001b[0m \u001b[1;33m\u001b[0m\u001b[0m\n\u001b[0;32m   1159\u001b[0m         \u001b[1;31m# mapper is a function\u001b[0m\u001b[1;33m\u001b[0m\u001b[1;33m\u001b[0m\u001b[1;33m\u001b[0m\u001b[0m\n\u001b[1;32m-> 1160\u001b[1;33m         \u001b[0mnew_values\u001b[0m \u001b[1;33m=\u001b[0m \u001b[0mmap_f\u001b[0m\u001b[1;33m(\u001b[0m\u001b[0mvalues\u001b[0m\u001b[1;33m,\u001b[0m \u001b[0mmapper\u001b[0m\u001b[1;33m)\u001b[0m\u001b[1;33m\u001b[0m\u001b[1;33m\u001b[0m\u001b[0m\n\u001b[0m\u001b[0;32m   1161\u001b[0m \u001b[1;33m\u001b[0m\u001b[0m\n\u001b[0;32m   1162\u001b[0m         \u001b[1;32mreturn\u001b[0m \u001b[0mnew_values\u001b[0m\u001b[1;33m\u001b[0m\u001b[1;33m\u001b[0m\u001b[0m\n",
      "\u001b[1;32mpandas\\_libs\\lib.pyx\u001b[0m in \u001b[0;36mpandas._libs.lib.map_infer\u001b[1;34m()\u001b[0m\n",
      "\u001b[1;32m<ipython-input-381-cf14af6fb2a1>\u001b[0m in \u001b[0;36m<lambda>\u001b[1;34m(x)\u001b[0m\n\u001b[0;32m    105\u001b[0m \u001b[0mX_train\u001b[0m\u001b[1;33m.\u001b[0m\u001b[0mloc\u001b[0m\u001b[1;33m[\u001b[0m\u001b[1;33m:\u001b[0m\u001b[1;33m,\u001b[0m\u001b[1;34m'source'\u001b[0m\u001b[1;33m]\u001b[0m \u001b[1;33m=\u001b[0m \u001b[0mX_train\u001b[0m\u001b[1;33m[\u001b[0m\u001b[1;34m'source'\u001b[0m\u001b[1;33m]\u001b[0m\u001b[1;33m.\u001b[0m\u001b[0mmap\u001b[0m\u001b[1;33m(\u001b[0m\u001b[1;32mlambda\u001b[0m \u001b[0mx\u001b[0m\u001b[1;33m:\u001b[0m \u001b[1;34m' '\u001b[0m\u001b[1;33m.\u001b[0m\u001b[0mjoin\u001b[0m\u001b[1;33m(\u001b[0m\u001b[0mx\u001b[0m\u001b[1;33m)\u001b[0m\u001b[1;33m)\u001b[0m\u001b[1;33m\u001b[0m\u001b[1;33m\u001b[0m\u001b[0m\n\u001b[0;32m    106\u001b[0m \u001b[0mX_train\u001b[0m\u001b[1;33m.\u001b[0m\u001b[0mloc\u001b[0m\u001b[1;33m[\u001b[0m\u001b[1;33m:\u001b[0m\u001b[1;33m,\u001b[0m \u001b[1;34m'textblock'\u001b[0m\u001b[1;33m]\u001b[0m \u001b[1;33m=\u001b[0m \u001b[0mX_train\u001b[0m\u001b[1;33m[\u001b[0m\u001b[1;34m'textblock'\u001b[0m\u001b[1;33m]\u001b[0m\u001b[1;33m.\u001b[0m\u001b[0mmap\u001b[0m\u001b[1;33m(\u001b[0m\u001b[1;32mlambda\u001b[0m \u001b[0mx\u001b[0m\u001b[1;33m:\u001b[0m \u001b[1;34m' '\u001b[0m\u001b[1;33m.\u001b[0m\u001b[0mjoin\u001b[0m\u001b[1;33m(\u001b[0m\u001b[0mx\u001b[0m\u001b[1;33m)\u001b[0m\u001b[1;33m)\u001b[0m\u001b[1;33m\u001b[0m\u001b[1;33m\u001b[0m\u001b[0m\n\u001b[1;32m--> 107\u001b[1;33m \u001b[0mX_train\u001b[0m\u001b[1;33m.\u001b[0m\u001b[0mloc\u001b[0m\u001b[1;33m[\u001b[0m\u001b[1;33m:\u001b[0m\u001b[1;33m,\u001b[0m \u001b[1;34m'PMID_tokens'\u001b[0m\u001b[1;33m]\u001b[0m \u001b[1;33m=\u001b[0m \u001b[0mX_train\u001b[0m\u001b[1;33m[\u001b[0m\u001b[1;34m'PMID_tokens'\u001b[0m\u001b[1;33m]\u001b[0m\u001b[1;33m.\u001b[0m\u001b[0mmap\u001b[0m\u001b[1;33m(\u001b[0m\u001b[1;32mlambda\u001b[0m \u001b[0mx\u001b[0m\u001b[1;33m:\u001b[0m \u001b[0mget_tokens\u001b[0m\u001b[1;33m(\u001b[0m\u001b[1;34m' '\u001b[0m\u001b[1;33m.\u001b[0m\u001b[0mjoin\u001b[0m\u001b[1;33m(\u001b[0m\u001b[0mx\u001b[0m\u001b[1;33m)\u001b[0m\u001b[1;33m)\u001b[0m\u001b[1;33m)\u001b[0m\u001b[1;33m\u001b[0m\u001b[1;33m\u001b[0m\u001b[0m\n\u001b[0m\u001b[0;32m    108\u001b[0m \u001b[0mX_train\u001b[0m\u001b[1;33m.\u001b[0m\u001b[0mloc\u001b[0m\u001b[1;33m[\u001b[0m\u001b[1;33m:\u001b[0m\u001b[1;33m,\u001b[0m \u001b[1;34m'PMID_tokens'\u001b[0m\u001b[1;33m]\u001b[0m \u001b[1;33m=\u001b[0m \u001b[0mX_train\u001b[0m\u001b[1;33m[\u001b[0m\u001b[1;34m'PMID_tokens'\u001b[0m\u001b[1;33m]\u001b[0m\u001b[1;33m.\u001b[0m\u001b[0mmap\u001b[0m\u001b[1;33m(\u001b[0m\u001b[1;32mlambda\u001b[0m \u001b[0mx\u001b[0m\u001b[1;33m:\u001b[0m \u001b[1;34m' '\u001b[0m\u001b[1;33m.\u001b[0m\u001b[0mjoin\u001b[0m\u001b[1;33m(\u001b[0m\u001b[0mx\u001b[0m\u001b[1;33m)\u001b[0m\u001b[1;33m)\u001b[0m\u001b[1;33m\u001b[0m\u001b[1;33m\u001b[0m\u001b[0m\n\u001b[0;32m    109\u001b[0m \u001b[1;33m\u001b[0m\u001b[0m\n",
      "\u001b[1;31mMemoryError\u001b[0m: "
     ]
    }
   ],
   "source": [
    "tokenized_cols = ['source', 'condition','textblock','intervention_type',\n",
    "                  'intervention_name']\n",
    "\n",
    "cat_cols = ['has_expanded_access', 'gender', 'healthy_volunteers', 'country',\n",
    "            'allocation', 'intervention_model', 'masking', 'is_fda_regulated_drug',\n",
    "            'is_fda_regulated_device', 'primary_purpose']\n",
    "num_cols = ['minimum_age', 'maximum_age', 'num_of_papers']\n",
    "\n",
    "def change_datatype(df, datatype, cols):\n",
    "    for col in cols:\n",
    "        if col == 'minimum_age' or col == 'maximum_age':\n",
    "            df.loc[:, col] = df.loc[:, col].map(change_age)\n",
    "        df.loc[:, col] = df.loc[:, col].astype(datatype)    \n",
    "    return df\n",
    "\n",
    "def split_words_col(df, y):\n",
    "    cols = ['source','condition', 'PMID_tokens']\n",
    "    other_cols = ['intervention_type', 'intervention_name', 'textblock']\n",
    "    for col in cols:\n",
    "        df.loc[:, col] =df[col].map(lambda x: x.split(' '))\n",
    "    for col in other_cols:\n",
    "        df.loc[:, col] = df[col]\n",
    "    return df\n",
    "\n",
    "def tokenize_col(df, cols):\n",
    "    extra_step = ['intervention_name', 'intervention_type', 'textblock', 'source', 'condition']\n",
    "    for col in cols:\n",
    "        if col in extra_step: \n",
    "            df.loc[:, col] = df.loc[:, col].map(lambda x:' '.join(x))    \n",
    "        df.loc[:, col] = df.loc[:, col].map(get_tokens)  \n",
    "    return df\n",
    "\n",
    "def get_tokens(tokens):\n",
    "    \n",
    "    tokens = word_tokenize(tokens)\n",
    "    #split text in words and implement lower case\n",
    "    tokens = [word.lower() for word in tokens]\n",
    "   # hyphen = '-'\n",
    "    #tokens = [word+word if word.endswith(hyphen) else word for word in tokens]\n",
    "    tokens = [w for w in tokens if not w == ',']\n",
    "    \n",
    "    #remove http\n",
    "    tokens = [re.sub(r'http\\S+', '',w) for w in tokens]\n",
    "    \n",
    "    # combine hyphenated words\n",
    "    tok = []\n",
    "    tokens_to_remove= []\n",
    "    for n,w in enumerate(tokens):\n",
    "        if re.match('(.)*[-]$', w):\n",
    "            #w = w.rstrip('-')\n",
    "            w = w.replacedef get_tokens(tokens):\n",
    "    \n",
    "    tokens = word_tokenize(tokens)\n",
    "    #split text in words and implement lower case\n",
    "    tokens = [word.lower() for word in tokens]\n",
    "   # hyphen = '-'\n",
    "    #tokens = [word+word if word.endswith(hyphen) else word for word in tokens]\n",
    "    tokens = [w for w in tokens if not w == ',']\n",
    "    \n",
    "    #remove http\n",
    "    tokens = [re.sub(r'http\\S+', '',w) for w in tokens]\n",
    "    \n",
    "    # combine hyphenated words\n",
    "    tok = []\n",
    "    tokens_to_remove= []\n",
    "    for n,w in enumerate(tokens):\n",
    "        if re.match('(.)*[-]$', w):\n",
    "            w = w.rstrip('-')\n",
    "            if n+1 ==len(tokens):\n",
    "                next\n",
    "            else:\n",
    "                w = w + tokens[n+1]\n",
    "            tokens_to_remove.append(n+1)\n",
    "        tok.append(w)\n",
    "       # if n+1 == len(tokens):\n",
    "        #    tok.append(w)\n",
    "        #else:\n",
    "         #   tok.append(w)\n",
    "            \n",
    "    tok = [w for i, w in enumerate(tok) if i not in tokens_to_remove]\n",
    "    \n",
    "    \n",
    "    #remove punctuation from each word\n",
    "    table = str.maketrans('', '', string.punctuation)\n",
    "    stripped = [w.translate(table) for w in tok]\n",
    "\n",
    "    #remove remaining words that are not alphabetic\n",
    "    words = [word for word in stripped if word.isalpha()] \n",
    "    #words = stripped\n",
    "    #filter out stopwords\n",
    "    stop_words = set(stopwords.words('english'))\n",
    "    #letters = re.search([a-zA-Z])\n",
    "    words = [w for w in words if not w in stop_words]\n",
    "    #\n",
    "    toke = []\n",
    "    \n",
    "    #remove single characters\n",
    "    for w in words:\n",
    "        if len(w) == 1:\n",
    "            if re.match('[a-z]', w):\n",
    "                next\n",
    "        else:\n",
    "            toke.append(w)         \n",
    "    \n",
    "    return toke\n",
    "            if n+1 ==len(tokens):\n",
    "                next\n",
    "            else:\n",
    "                w = w + tokens[n+1]\n",
    "            tokens_to_remove.append(n+1)\n",
    "        tok.append(w)\n",
    "       # if n+1 == len(tokens):\n",
    "        #    tok.append(w)\n",
    "        #else:\n",
    "         #   tok.append(w)\n",
    "            \n",
    "    tok = [w for i, w in enumerate(tok) if i not in tokens_to_remove]\n",
    "    \n",
    "    \n",
    "    #remove punctuation from each word\n",
    "    table = str.maketrans('', '', string.punctuation)\n",
    "    stripped = [w.translate(table) for w in tok]\n",
    "\n",
    "    #remove remaining words that are not alphabetic\n",
    "    words = [word for word in stripped if word.isalpha()] \n",
    "    #words = stripped\n",
    "    #filter out stopwords\n",
    "    stop_words = set(stopwords.words('english'))\n",
    "    #letters = re.search([a-zA-Z])\n",
    "    words = [w for w in words if not w in stop_words]\n",
    "    #\n",
    "    toke = []\n",
    "    \n",
    "    #remove single characters\n",
    "    for w in words:\n",
    "        if len(w) == 1:\n",
    "            if re.match('[a-z]', w):\n",
    "                next\n",
    "        else:\n",
    "            toke.append(w)         \n",
    "    \n",
    "    return toke\n",
    "\n",
    "#split_words_col(X_train, y_train)\n",
    "#split_words_col(X_test, y_test)\n",
    "\n",
    "\n",
    "change_datatype(X_train, 'category', cat_cols)\n",
    "change_datatype(X_train, np.number, num_cols)\n",
    "tokenize_col(X_train, tokenized_cols)\n",
    "\n",
    "change_datatype(X_test, 'category', cat_cols)\n",
    "change_datatype(X_test, np.number, num_cols)\n",
    "tokenize_col(X_test, tokenized_cols)\n",
    "\n",
    "\n",
    "X_train.loc[:,'intervention_name'] = X_train['intervention_name'].map(lambda x: ' '.join(x))\n",
    "X_train.loc[:,'intervention_type'] = X_train['intervention_type'].map(lambda x: ' '.join(x))\n",
    "X_train.loc[:,'condition'] = X_train['condition'].map(lambda x: ' '.join(x))\n",
    "X_train.loc[:,'source'] = X_train['source'].map(lambda x: ' '.join(x))\n",
    "X_train.loc[:, 'textblock'] = X_train['textblock'].map(lambda x: ' '.join(x))\n",
    "X_train.loc[:, 'PMID_tokens'] = X_train['PMID_tokens'].map(lambda x: get_tokens(' '.join(x)))\n",
    "X_train.loc[:, 'PMID_tokens'] = X_train['PMID_tokens'].map(lambda x: ' '.join(x))\n",
    "\n",
    "X_test.loc[:,'intervention_name'] = X_test['intervention_name'].map(lambda x: ' '.join(x))\n",
    "X_test.loc[:,'intervention_type'] = X_test['intervention_type'].map(lambda x: ' '.join(x))\n",
    "X_test.loc[:,'condition'] = X_test['condition'].map(lambda x: ' '.join(x))\n",
    "X_test.loc[:,'source'] = X_test['source'].map(lambda x: ' '.join(x))\n",
    "X_test.loc[:, 'textblock'] = X_test['textblock'].map(lambda x: ' '.join(x))\n",
    "X_test.loc[:, 'PMID_tokens'] = X_test['PMID_tokens'].map(lambda x: get_tokens(' '.join(x)))\n",
    "X_test.loc[:, 'PMID_tokens'] = X_test['PMID_tokens'].map(lambda x: ' '.join(x))\n",
    "\n",
    "\n",
    "\n",
    "\n",
    "\n",
    "#for col in ['PMID']:\n",
    " #   X_train.loc[:, col] = X_train[col].map(lambda x: x.split(' '))\n",
    "  #  X_test.loc[:, col] = X_test[col].map(lambda x : x.split(' '))\n"
   ]
  },
  {
   "cell_type": "code",
   "execution_count": 378,
   "metadata": {},
   "outputs": [
    {
     "data": {
      "text/plain": [
       "23003"
      ]
     },
     "execution_count": 378,
     "metadata": {},
     "output_type": "execute_result"
    }
   ],
   "source": [
    "import gc\n",
    "gc.collect()"
   ]
  },
  {
   "cell_type": "code",
   "execution_count": 368,
   "metadata": {},
   "outputs": [
    {
     "data": {
      "text/plain": [
       "nct_id\n",
       "NCT02627131    hindawi publishing corporation stem cells inte...\n",
       "NCT02735213    email karger kargercom mini review ophthalmic ...\n",
       "NCT01819129    faster aspart versus insulin aspart part basal...\n",
       "NCT00045838    proc nati acad sci usa vol pp december medical...\n",
       "NCT01309997    cancer therapy clinical randomized phase ii cr...\n",
       "                                     ...                        \n",
       "NCT00506831    systemic cell typespecific gene expression pat...\n",
       "NCT02049762    ticagrelor versus clopidogrel patients acute c...\n",
       "NCT01314066    incidence outcomes acute lung injury engl med ...\n",
       "NCT01445106    research article journal clinical investigatio...\n",
       "NCT00486044    simvastatin strongly reduces levels alzheimer ...\n",
       "Name: PMID_tokens, Length: 1781, dtype: object"
      ]
     },
     "execution_count": 368,
     "metadata": {},
     "output_type": "execute_result"
    }
   ],
   "source": [
    "X_train.loc[:, 'textblock'] = X_train['textblock'].map(lambda x: ' '.join(x))\n",
    "X_train.loc[:, 'PMID_tokens'] = X_train['PMID_tokens'].map(lambda x: ' '.join(x))\n",
    "\n",
    "X_test.loc[:, 'textblock'] = X_test['textblock'].map(lambda x: ' '.join(x))\n",
    "X_test.loc[:, 'PMID_tokens'] = X_test['PMID_tokens'].map(lambda x: ' '.join(x))"
   ]
  },
  {
   "cell_type": "code",
   "execution_count": 360,
   "metadata": {},
   "outputs": [
    {
     "name": "stderr",
     "output_type": "stream",
     "text": [
      "C:\\Users\\Public\\Anaconda3\\lib\\site-packages\\pandas\\core\\indexing.py:1743: SettingWithCopyWarning: \n",
      "A value is trying to be set on a copy of a slice from a DataFrame.\n",
      "Try using .loc[row_indexer,col_indexer] = value instead\n",
      "\n",
      "See the caveats in the documentation: https://pandas.pydata.org/pandas-docs/stable/user_guide/indexing.html#returning-a-view-versus-a-copy\n",
      "  isetter(ilocs[0], value)\n"
     ]
    }
   ],
   "source": [
    "X_train.loc[:, 'PMID_tokens'] = X_train['PMID_tokens'].map(lambda x: get_tokens(' '.join(x)))\n",
    "X_test.loc[:, 'PMID_tokens'] = X_test['PMID_tokens'].map(lambda x: get_tokens(' '.join(x)))"
   ]
  },
  {
   "cell_type": "code",
   "execution_count": 17,
   "metadata": {},
   "outputs": [
    {
     "name": "stderr",
     "output_type": "stream",
     "text": [
      "C:\\Users\\Public\\Anaconda3\\lib\\site-packages\\pandas\\core\\indexing.py:1743: SettingWithCopyWarning: \n",
      "A value is trying to be set on a copy of a slice from a DataFrame.\n",
      "Try using .loc[row_indexer,col_indexer] = value instead\n",
      "\n",
      "See the caveats in the documentation: https://pandas.pydata.org/pandas-docs/stable/user_guide/indexing.html#returning-a-view-versus-a-copy\n",
      "  isetter(ilocs[0], value)\n"
     ]
    }
   ],
   "source": [
    "X_train.loc[:,'intervention_name'] = X_train['intervention_name'].map(lambda x: ' '.join(x))\n",
    "X_train.loc[:,'intervention_type'] = X_train['intervention_type'].map(lambda x: ' '.join(x))\n",
    "X_train.loc[:,'condition'] = X_train['condition'].map(lambda x: ' '.join(x))\n",
    "X_train.loc[:,'source'] = X_train['source'].map(lambda x: ' '.join(x))\n",
    "\n",
    "X_test.loc[:,'intervention_name'] = X_test['intervention_name'].map(lambda x: ' '.join(x))\n",
    "X_test.loc[:,'intervention_type'] = X_test['intervention_type'].map(lambda x: ' '.join(x))\n",
    "X_test.loc[:,'condition'] = X_test['condition'].map(lambda x: ' '.join(x))\n",
    "X_test.loc[:,'source'] = X_test['source'].map(lambda x: ' '.join(x))"
   ]
  },
  {
   "cell_type": "code",
   "execution_count": 140,
   "metadata": {},
   "outputs": [],
   "source": [
    "X_copy = X.copy()\n",
    "y_copy = y.copy()\n",
    "\n",
    "split_words_col(X_copy, y_copy)\n",
    "\n",
    "change_datatype(X_copy, 'category', cat_cols)\n",
    "change_datatype(X_copy, np.number, num_cols)\n",
    "tokenize_col(X_copy, tokenized_cols)\n",
    "\n",
    "X_copy.loc[:,'intervention_name'] = X_copy['intervention_name'].map(lambda x: ' '.join(x))\n",
    "X_copy.loc[:,'intervention_type'] = X_copy['intervention_type'].map(lambda x: ' '.join(x))\n",
    "X_copy.loc[:,'condition'] = X_copy['condition'].map(lambda x: ' '.join(x))\n",
    "X_copy.loc[:,'source'] = X_copy['source'].map(lambda x: ' '.join(x))\n",
    "\n",
    "X_copy.loc[:, 'PMID_tokens'] = X_copy['PMID_tokens'].map(lambda x: ' '.join(x))\n",
    "X_copy.loc[:, 'PMID_tokens'] = X_copy['PMID_tokens'].map(get_tokens)\n",
    "\n",
    "X_copy.loc[:, 'PMID_tokens'] = X_copy['PMID_tokens'].map(lambda x: ' '.join(x))\n",
    "X_copy.loc[:, 'textblock'] = X_copy['textblock'].map(lambda x: ' '.join(x))"
   ]
  },
  {
   "cell_type": "code",
   "execution_count": 343,
   "metadata": {},
   "outputs": [
    {
     "name": "stderr",
     "output_type": "stream",
     "text": [
      "C:\\Users\\Public\\Anaconda3\\lib\\site-packages\\pandas\\core\\indexing.py:1743: SettingWithCopyWarning: \n",
      "A value is trying to be set on a copy of a slice from a DataFrame.\n",
      "Try using .loc[row_indexer,col_indexer] = value instead\n",
      "\n",
      "See the caveats in the documentation: https://pandas.pydata.org/pandas-docs/stable/user_guide/indexing.html#returning-a-view-versus-a-copy\n",
      "  isetter(ilocs[0], value)\n"
     ]
    }
   ],
   "source": [
    "X_train.loc[:, 'PMID_tokens'] = X_train['PMID_tokens'].map(lambda x: ' '.join(x))\n",
    "X_train.loc[:, 'textblock'] = X_train['textblock'].map(lambda x: ' '.join(x))\n",
    "\n",
    "X_test.loc[:, 'PMID_tokens'] = X_test['PMID_tokens'].map(lambda x: ' '.join(x))\n",
    "X_test.loc[:, 'textblock'] = X_test['textblock'].map(lambda x: ' '.join(x))"
   ]
  },
  {
   "cell_type": "code",
   "execution_count": 37,
   "metadata": {},
   "outputs": [
    {
     "name": "stderr",
     "output_type": "stream",
     "text": [
      "C:\\Users\\Public\\Anaconda3\\lib\\site-packages\\pandas\\core\\indexing.py:1743: SettingWithCopyWarning: \n",
      "A value is trying to be set on a copy of a slice from a DataFrame.\n",
      "Try using .loc[row_indexer,col_indexer] = value instead\n",
      "\n",
      "See the caveats in the documentation: https://pandas.pydata.org/pandas-docs/stable/user_guide/indexing.html#returning-a-view-versus-a-copy\n",
      "  isetter(ilocs[0], value)\n"
     ]
    }
   ],
   "source": [
    "X_train.loc[:, 'PMID_tokens'] = X_train['PMID_tokens'].map(lambda x: ' '.join(x))\n",
    "X_test.loc[:, 'PMID_tokens'] = X_test['PMID_tokens'].map(lambda x: ' '.join(x))\n",
    "\n",
    "X_train.loc[:, 'PMID_tokens'] = X_train['PMID_tokens'].map(get_tokens)\n",
    "X_test.loc[:, 'PMID_tokens'] = X_test['PMID_tokens'].map(get_tokens)\n",
    "\n",
    "X_train.loc[:, 'PMID_tokens'] = X_train['PMID_tokens'].map(lambda x: ' '.join(x))\n",
    "X_train.loc[:, 'textblock'] = X_train['textblock'].map(lambda x: ' '.join(x))\n",
    "\n",
    "X_test.loc[:, 'PMID_tokens'] = X_test['PMID_tokens'].map(lambda x: ' '.join(x))\n",
    "X_test.loc[:, 'textblock'] = X_test['textblock'].map(lambda x: ' '.join(x))"
   ]
  },
  {
   "cell_type": "code",
   "execution_count": 203,
   "metadata": {},
   "outputs": [
    {
     "name": "stderr",
     "output_type": "stream",
     "text": [
      "C:\\Users\\Public\\Anaconda3\\lib\\site-packages\\pandas\\core\\indexing.py:1743: SettingWithCopyWarning: \n",
      "A value is trying to be set on a copy of a slice from a DataFrame.\n",
      "Try using .loc[row_indexer,col_indexer] = value instead\n",
      "\n",
      "See the caveats in the documentation: https://pandas.pydata.org/pandas-docs/stable/user_guide/indexing.html#returning-a-view-versus-a-copy\n",
      "  isetter(ilocs[0], value)\n"
     ]
    }
   ],
   "source": [
    "X_train.loc[:, 'PMID_tokens'] = X_train['PMID_tokens'].map(lambda x: x.split(' '))\n"
   ]
  },
  {
   "cell_type": "code",
   "execution_count": 326,
   "metadata": {},
   "outputs": [
    {
     "data": {
      "text/html": [
       "<div>\n",
       "<style scoped>\n",
       "    .dataframe tbody tr th:only-of-type {\n",
       "        vertical-align: middle;\n",
       "    }\n",
       "\n",
       "    .dataframe tbody tr th {\n",
       "        vertical-align: top;\n",
       "    }\n",
       "\n",
       "    .dataframe thead th {\n",
       "        text-align: right;\n",
       "    }\n",
       "</style>\n",
       "<table border=\"1\" class=\"dataframe\">\n",
       "  <thead>\n",
       "    <tr style=\"text-align: right;\">\n",
       "      <th></th>\n",
       "      <th>source</th>\n",
       "      <th>has_expanded_access</th>\n",
       "      <th>condition</th>\n",
       "      <th>textblock</th>\n",
       "      <th>intervention_type</th>\n",
       "      <th>is_fda_regulated_drug</th>\n",
       "      <th>is_fda_regulated_device</th>\n",
       "      <th>intervention_name</th>\n",
       "      <th>gender</th>\n",
       "      <th>minimum_age</th>\n",
       "      <th>maximum_age</th>\n",
       "      <th>healthy_volunteers</th>\n",
       "      <th>country</th>\n",
       "      <th>allocation</th>\n",
       "      <th>intervention_model</th>\n",
       "      <th>primary_purpose</th>\n",
       "      <th>masking</th>\n",
       "      <th>PMID_tokens</th>\n",
       "      <th>num_of_papers</th>\n",
       "    </tr>\n",
       "    <tr>\n",
       "      <th>nct_id</th>\n",
       "      <th></th>\n",
       "      <th></th>\n",
       "      <th></th>\n",
       "      <th></th>\n",
       "      <th></th>\n",
       "      <th></th>\n",
       "      <th></th>\n",
       "      <th></th>\n",
       "      <th></th>\n",
       "      <th></th>\n",
       "      <th></th>\n",
       "      <th></th>\n",
       "      <th></th>\n",
       "      <th></th>\n",
       "      <th></th>\n",
       "      <th></th>\n",
       "      <th></th>\n",
       "      <th></th>\n",
       "      <th></th>\n",
       "    </tr>\n",
       "  </thead>\n",
       "  <tbody>\n",
       "    <tr>\n",
       "      <th>NCT01720316</th>\n",
       "      <td></td>\n",
       "      <td>No</td>\n",
       "      <td></td>\n",
       "      <td>purpose study assess efficacy oral glycine aug...</td>\n",
       "      <td>drug drug</td>\n",
       "      <td>Yes</td>\n",
       "      <td>No</td>\n",
       "      <td>glycine placebo</td>\n",
       "      <td>All</td>\n",
       "      <td>18.0</td>\n",
       "      <td>65.0</td>\n",
       "      <td>No</td>\n",
       "      <td>United States</td>\n",
       "      <td>Randomized</td>\n",
       "      <td>Crossover Assignment</td>\n",
       "      <td>Treatment</td>\n",
       "      <td>Quadruple (Participant, Care Provider, Investi...</td>\n",
       "      <td>U n t i t l e d ,   D o c u m e n t ,   1 8 2 ...</td>\n",
       "      <td>33.0</td>\n",
       "    </tr>\n",
       "    <tr>\n",
       "      <th>NCT00297258</th>\n",
       "      <td></td>\n",
       "      <td>No</td>\n",
       "      <td></td>\n",
       "      <td>purpose study evaluate activity tolerability p...</td>\n",
       "      <td>drug</td>\n",
       "      <td>NaN</td>\n",
       "      <td>NaN</td>\n",
       "      <td>pazopanib</td>\n",
       "      <td>All</td>\n",
       "      <td>21.0</td>\n",
       "      <td>0.0</td>\n",
       "      <td>No</td>\n",
       "      <td>Belgium</td>\n",
       "      <td>Non-Randomized</td>\n",
       "      <td>Single Group Assignment</td>\n",
       "      <td>Treatment</td>\n",
       "      <td>None (Open Label)</td>\n",
       "      <td>C y t o k i n e ,   a n d ,   a n g i o g e n ...</td>\n",
       "      <td>2.0</td>\n",
       "    </tr>\n",
       "    <tr>\n",
       "      <th>NCT01384149</th>\n",
       "      <td></td>\n",
       "      <td>No</td>\n",
       "      <td></td>\n",
       "      <td>purpose study evaluate advantages disadvantage...</td>\n",
       "      <td>device device</td>\n",
       "      <td>NaN</td>\n",
       "      <td>NaN</td>\n",
       "      <td>external slt standard slt</td>\n",
       "      <td>All</td>\n",
       "      <td>40.0</td>\n",
       "      <td>0.0</td>\n",
       "      <td>No</td>\n",
       "      <td>Israel</td>\n",
       "      <td>Randomized</td>\n",
       "      <td>Parallel Assignment</td>\n",
       "      <td>Treatment</td>\n",
       "      <td>None (Open Label)</td>\n",
       "      <td>E a r l y ,   D i a g n o s i s ,   o f ,   O ...</td>\n",
       "      <td>11.0</td>\n",
       "    </tr>\n",
       "    <tr>\n",
       "      <th>NCT01267682</th>\n",
       "      <td></td>\n",
       "      <td>No</td>\n",
       "      <td></td>\n",
       "      <td>purpose study test effectiveness cognitively s...</td>\n",
       "      <td>behavioral</td>\n",
       "      <td>NaN</td>\n",
       "      <td>NaN</td>\n",
       "      <td>cognitive stimulation</td>\n",
       "      <td>All</td>\n",
       "      <td>65.0</td>\n",
       "      <td>0.0</td>\n",
       "      <td>No</td>\n",
       "      <td>United States</td>\n",
       "      <td>Randomized</td>\n",
       "      <td>Parallel Assignment</td>\n",
       "      <td>Treatment</td>\n",
       "      <td>Single (Outcomes Assessor)</td>\n",
       "      <td>S T U D Y ,   P R O T O C O L ,   O p e n ,   ...</td>\n",
       "      <td>11.0</td>\n",
       "    </tr>\n",
       "    <tr>\n",
       "      <th>NCT00331799</th>\n",
       "      <td></td>\n",
       "      <td>No</td>\n",
       "      <td></td>\n",
       "      <td>purpose study explore benefits duloxetine enha...</td>\n",
       "      <td>drug</td>\n",
       "      <td>NaN</td>\n",
       "      <td>NaN</td>\n",
       "      <td>duloxetine</td>\n",
       "      <td>All</td>\n",
       "      <td>18.0</td>\n",
       "      <td>65.0</td>\n",
       "      <td>No</td>\n",
       "      <td>United States</td>\n",
       "      <td>N/A</td>\n",
       "      <td>Single Group Assignment</td>\n",
       "      <td>Treatment</td>\n",
       "      <td>None (Open Label)</td>\n",
       "      <td>A r t i c l e ,   1 7 0 2 ,   A m ,   J ,   P ...</td>\n",
       "      <td>6.0</td>\n",
       "    </tr>\n",
       "    <tr>\n",
       "      <th>...</th>\n",
       "      <td>...</td>\n",
       "      <td>...</td>\n",
       "      <td>...</td>\n",
       "      <td>...</td>\n",
       "      <td>...</td>\n",
       "      <td>...</td>\n",
       "      <td>...</td>\n",
       "      <td>...</td>\n",
       "      <td>...</td>\n",
       "      <td>...</td>\n",
       "      <td>...</td>\n",
       "      <td>...</td>\n",
       "      <td>...</td>\n",
       "      <td>...</td>\n",
       "      <td>...</td>\n",
       "      <td>...</td>\n",
       "      <td>...</td>\n",
       "      <td>...</td>\n",
       "      <td>...</td>\n",
       "    </tr>\n",
       "    <tr>\n",
       "      <th>NCT00844493</th>\n",
       "      <td></td>\n",
       "      <td>No</td>\n",
       "      <td></td>\n",
       "      <td>study validate model testing new vaccines desi...</td>\n",
       "      <td>biological biological biological biological</td>\n",
       "      <td>NaN</td>\n",
       "      <td>NaN</td>\n",
       "      <td>coli strain buffer coli strain buffer coli str...</td>\n",
       "      <td>All</td>\n",
       "      <td>18.0</td>\n",
       "      <td>45.0</td>\n",
       "      <td>Accepts Healthy Volunteers</td>\n",
       "      <td>United States</td>\n",
       "      <td>Randomized</td>\n",
       "      <td>Single Group Assignment</td>\n",
       "      <td>Prevention</td>\n",
       "      <td>Quadruple (Participant, Care Provider, Investi...</td>\n",
       "      <td>C o m p a r a t i v e ,   S a f e t y ,   a n ...</td>\n",
       "      <td>7.0</td>\n",
       "    </tr>\n",
       "    <tr>\n",
       "      <th>NCT00365170</th>\n",
       "      <td></td>\n",
       "      <td>No</td>\n",
       "      <td></td>\n",
       "      <td>trial conducted europe middle east north ameri...</td>\n",
       "      <td>drug drug</td>\n",
       "      <td>NaN</td>\n",
       "      <td>NaN</td>\n",
       "      <td>human insulin insulin aspart</td>\n",
       "      <td>Female</td>\n",
       "      <td>18.0</td>\n",
       "      <td>0.0</td>\n",
       "      <td>No</td>\n",
       "      <td>Argentina</td>\n",
       "      <td>Randomized</td>\n",
       "      <td>Parallel Assignment</td>\n",
       "      <td>Treatment</td>\n",
       "      <td>None (Open Label)</td>\n",
       "      <td>M a t e r n a l ,   G l y c e m i c ,   C o n ...</td>\n",
       "      <td>6.0</td>\n",
       "    </tr>\n",
       "    <tr>\n",
       "      <th>NCT00826020</th>\n",
       "      <td></td>\n",
       "      <td>No</td>\n",
       "      <td></td>\n",
       "      <td>purpose study determine established parenteral...</td>\n",
       "      <td>drug</td>\n",
       "      <td>NaN</td>\n",
       "      <td>NaN</td>\n",
       "      <td></td>\n",
       "      <td>All</td>\n",
       "      <td>0.0</td>\n",
       "      <td>0.0</td>\n",
       "      <td>No</td>\n",
       "      <td>United States</td>\n",
       "      <td>N/A</td>\n",
       "      <td>Single Group Assignment</td>\n",
       "      <td>Treatment</td>\n",
       "      <td>None (Open Label)</td>\n",
       "      <td>O m e g a - 3 ,   F a t t y ,   A c i d ,   S ...</td>\n",
       "      <td>5.0</td>\n",
       "    </tr>\n",
       "    <tr>\n",
       "      <th>NCT00505375</th>\n",
       "      <td></td>\n",
       "      <td>No</td>\n",
       "      <td></td>\n",
       "      <td>purpose study determine whether treatment abat...</td>\n",
       "      <td>drug</td>\n",
       "      <td>Yes</td>\n",
       "      <td>No</td>\n",
       "      <td>ig placebo</td>\n",
       "      <td>All</td>\n",
       "      <td>6.0</td>\n",
       "      <td>45.0</td>\n",
       "      <td>No</td>\n",
       "      <td>United States</td>\n",
       "      <td>Randomized</td>\n",
       "      <td>Parallel Assignment</td>\n",
       "      <td>Treatment</td>\n",
       "      <td>Triple (Participant, Care Provider, Investigator)</td>\n",
       "      <td>0 5 8 5 7 ,   I n t r o d u c t i o n ,   P s ...</td>\n",
       "      <td>8.0</td>\n",
       "    </tr>\n",
       "    <tr>\n",
       "      <th>NCT01428843</th>\n",
       "      <td></td>\n",
       "      <td>No</td>\n",
       "      <td></td>\n",
       "      <td>anemia frequently extradigestive symptom infla...</td>\n",
       "      <td>drug drug</td>\n",
       "      <td>NaN</td>\n",
       "      <td>NaN</td>\n",
       "      <td>ferrisat placebo</td>\n",
       "      <td>All</td>\n",
       "      <td>18.0</td>\n",
       "      <td>0.0</td>\n",
       "      <td>No</td>\n",
       "      <td>France</td>\n",
       "      <td>Randomized</td>\n",
       "      <td>Parallel Assignment</td>\n",
       "      <td>Treatment</td>\n",
       "      <td>Double (Participant, Investigator)</td>\n",
       "      <td>G u t ,   , ,   1 9 6 7 ,   , ,   8 ,   , ,   ...</td>\n",
       "      <td>6.0</td>\n",
       "    </tr>\n",
       "  </tbody>\n",
       "</table>\n",
       "<p>3614 rows × 19 columns</p>\n",
       "</div>"
      ],
      "text/plain": [
       "            source has_expanded_access condition  \\\n",
       "nct_id                                             \n",
       "NCT01720316                         No             \n",
       "NCT00297258                         No             \n",
       "NCT01384149                         No             \n",
       "NCT01267682                         No             \n",
       "NCT00331799                         No             \n",
       "...            ...                 ...       ...   \n",
       "NCT00844493                         No             \n",
       "NCT00365170                         No             \n",
       "NCT00826020                         No             \n",
       "NCT00505375                         No             \n",
       "NCT01428843                         No             \n",
       "\n",
       "                                                     textblock  \\\n",
       "nct_id                                                           \n",
       "NCT01720316  purpose study assess efficacy oral glycine aug...   \n",
       "NCT00297258  purpose study evaluate activity tolerability p...   \n",
       "NCT01384149  purpose study evaluate advantages disadvantage...   \n",
       "NCT01267682  purpose study test effectiveness cognitively s...   \n",
       "NCT00331799  purpose study explore benefits duloxetine enha...   \n",
       "...                                                        ...   \n",
       "NCT00844493  study validate model testing new vaccines desi...   \n",
       "NCT00365170  trial conducted europe middle east north ameri...   \n",
       "NCT00826020  purpose study determine established parenteral...   \n",
       "NCT00505375  purpose study determine whether treatment abat...   \n",
       "NCT01428843  anemia frequently extradigestive symptom infla...   \n",
       "\n",
       "                                       intervention_type  \\\n",
       "nct_id                                                     \n",
       "NCT01720316                                    drug drug   \n",
       "NCT00297258                                         drug   \n",
       "NCT01384149                                device device   \n",
       "NCT01267682                                   behavioral   \n",
       "NCT00331799                                         drug   \n",
       "...                                                  ...   \n",
       "NCT00844493  biological biological biological biological   \n",
       "NCT00365170                                    drug drug   \n",
       "NCT00826020                                         drug   \n",
       "NCT00505375                                         drug   \n",
       "NCT01428843                                    drug drug   \n",
       "\n",
       "            is_fda_regulated_drug is_fda_regulated_device  \\\n",
       "nct_id                                                      \n",
       "NCT01720316                   Yes                      No   \n",
       "NCT00297258                   NaN                     NaN   \n",
       "NCT01384149                   NaN                     NaN   \n",
       "NCT01267682                   NaN                     NaN   \n",
       "NCT00331799                   NaN                     NaN   \n",
       "...                           ...                     ...   \n",
       "NCT00844493                   NaN                     NaN   \n",
       "NCT00365170                   NaN                     NaN   \n",
       "NCT00826020                   NaN                     NaN   \n",
       "NCT00505375                   Yes                      No   \n",
       "NCT01428843                   NaN                     NaN   \n",
       "\n",
       "                                             intervention_name  gender  \\\n",
       "nct_id                                                                   \n",
       "NCT01720316                                    glycine placebo     All   \n",
       "NCT00297258                                          pazopanib     All   \n",
       "NCT01384149                          external slt standard slt     All   \n",
       "NCT01267682                              cognitive stimulation     All   \n",
       "NCT00331799                                         duloxetine     All   \n",
       "...                                                        ...     ...   \n",
       "NCT00844493  coli strain buffer coli strain buffer coli str...     All   \n",
       "NCT00365170                       human insulin insulin aspart  Female   \n",
       "NCT00826020                                                        All   \n",
       "NCT00505375                                         ig placebo     All   \n",
       "NCT01428843                                   ferrisat placebo     All   \n",
       "\n",
       "             minimum_age  maximum_age          healthy_volunteers  \\\n",
       "nct_id                                                              \n",
       "NCT01720316         18.0         65.0                          No   \n",
       "NCT00297258         21.0          0.0                          No   \n",
       "NCT01384149         40.0          0.0                          No   \n",
       "NCT01267682         65.0          0.0                          No   \n",
       "NCT00331799         18.0         65.0                          No   \n",
       "...                  ...          ...                         ...   \n",
       "NCT00844493         18.0         45.0  Accepts Healthy Volunteers   \n",
       "NCT00365170         18.0          0.0                          No   \n",
       "NCT00826020          0.0          0.0                          No   \n",
       "NCT00505375          6.0         45.0                          No   \n",
       "NCT01428843         18.0          0.0                          No   \n",
       "\n",
       "                   country      allocation       intervention_model  \\\n",
       "nct_id                                                                \n",
       "NCT01720316  United States      Randomized     Crossover Assignment   \n",
       "NCT00297258        Belgium  Non-Randomized  Single Group Assignment   \n",
       "NCT01384149         Israel      Randomized      Parallel Assignment   \n",
       "NCT01267682  United States      Randomized      Parallel Assignment   \n",
       "NCT00331799  United States             N/A  Single Group Assignment   \n",
       "...                    ...             ...                      ...   \n",
       "NCT00844493  United States      Randomized  Single Group Assignment   \n",
       "NCT00365170      Argentina      Randomized      Parallel Assignment   \n",
       "NCT00826020  United States             N/A  Single Group Assignment   \n",
       "NCT00505375  United States      Randomized      Parallel Assignment   \n",
       "NCT01428843         France      Randomized      Parallel Assignment   \n",
       "\n",
       "            primary_purpose  \\\n",
       "nct_id                        \n",
       "NCT01720316       Treatment   \n",
       "NCT00297258       Treatment   \n",
       "NCT01384149       Treatment   \n",
       "NCT01267682       Treatment   \n",
       "NCT00331799       Treatment   \n",
       "...                     ...   \n",
       "NCT00844493      Prevention   \n",
       "NCT00365170       Treatment   \n",
       "NCT00826020       Treatment   \n",
       "NCT00505375       Treatment   \n",
       "NCT01428843       Treatment   \n",
       "\n",
       "                                                       masking  \\\n",
       "nct_id                                                           \n",
       "NCT01720316  Quadruple (Participant, Care Provider, Investi...   \n",
       "NCT00297258                                  None (Open Label)   \n",
       "NCT01384149                                  None (Open Label)   \n",
       "NCT01267682                         Single (Outcomes Assessor)   \n",
       "NCT00331799                                  None (Open Label)   \n",
       "...                                                        ...   \n",
       "NCT00844493  Quadruple (Participant, Care Provider, Investi...   \n",
       "NCT00365170                                  None (Open Label)   \n",
       "NCT00826020                                  None (Open Label)   \n",
       "NCT00505375  Triple (Participant, Care Provider, Investigator)   \n",
       "NCT01428843                 Double (Participant, Investigator)   \n",
       "\n",
       "                                                   PMID_tokens  num_of_papers  \n",
       "nct_id                                                                         \n",
       "NCT01720316  U n t i t l e d ,   D o c u m e n t ,   1 8 2 ...           33.0  \n",
       "NCT00297258  C y t o k i n e ,   a n d ,   a n g i o g e n ...            2.0  \n",
       "NCT01384149  E a r l y ,   D i a g n o s i s ,   o f ,   O ...           11.0  \n",
       "NCT01267682  S T U D Y ,   P R O T O C O L ,   O p e n ,   ...           11.0  \n",
       "NCT00331799  A r t i c l e ,   1 7 0 2 ,   A m ,   J ,   P ...            6.0  \n",
       "...                                                        ...            ...  \n",
       "NCT00844493  C o m p a r a t i v e ,   S a f e t y ,   a n ...            7.0  \n",
       "NCT00365170  M a t e r n a l ,   G l y c e m i c ,   C o n ...            6.0  \n",
       "NCT00826020  O m e g a - 3 ,   F a t t y ,   A c i d ,   S ...            5.0  \n",
       "NCT00505375  0 5 8 5 7 ,   I n t r o d u c t i o n ,   P s ...            8.0  \n",
       "NCT01428843  G u t ,   , ,   1 9 6 7 ,   , ,   8 ,   , ,   ...            6.0  \n",
       "\n",
       "[3614 rows x 19 columns]"
      ]
     },
     "execution_count": 326,
     "metadata": {},
     "output_type": "execute_result"
    }
   ],
   "source": [
    "X_train"
   ]
  },
  {
   "cell_type": "code",
   "execution_count": 325,
   "metadata": {},
   "outputs": [
    {
     "ename": "ValueError",
     "evalue": "empty vocabulary; perhaps the documents only contain stop words",
     "output_type": "error",
     "traceback": [
      "\u001b[1;31m---------------------------------------------------------------------------\u001b[0m",
      "\u001b[1;31m_RemoteTraceback\u001b[0m                          Traceback (most recent call last)",
      "\u001b[1;31m_RemoteTraceback\u001b[0m: \n\"\"\"\nTraceback (most recent call last):\n  File \"C:\\Users\\Public\\Anaconda3\\lib\\site-packages\\joblib\\externals\\loky\\process_executor.py\", line 418, in _process_worker\n    r = call_item()\n  File \"C:\\Users\\Public\\Anaconda3\\lib\\site-packages\\joblib\\externals\\loky\\process_executor.py\", line 272, in __call__\n    return self.fn(*self.args, **self.kwargs)\n  File \"C:\\Users\\Public\\Anaconda3\\lib\\site-packages\\joblib\\_parallel_backends.py\", line 567, in __call__\n    return self.func(*args, **kwargs)\n  File \"C:\\Users\\Public\\Anaconda3\\lib\\site-packages\\joblib\\parallel.py\", line 225, in __call__\n    for func, args, kwargs in self.items]\n  File \"C:\\Users\\Public\\Anaconda3\\lib\\site-packages\\joblib\\parallel.py\", line 225, in <listcomp>\n    for func, args, kwargs in self.items]\n  File \"C:\\Users\\Public\\Anaconda3\\lib\\site-packages\\sklearn\\pipeline.py\", line 740, in _fit_transform_one\n    res = transformer.fit_transform(X, y, **fit_params)\n  File \"C:\\Users\\Public\\Anaconda3\\lib\\site-packages\\sklearn\\pipeline.py\", line 376, in fit_transform\n    return last_step.fit_transform(Xt, y, **fit_params_last_step)\n  File \"C:\\Users\\Public\\Anaconda3\\lib\\site-packages\\sklearn\\feature_extraction\\text.py\", line 1840, in fit_transform\n    X = super().fit_transform(raw_documents)\n  File \"C:\\Users\\Public\\Anaconda3\\lib\\site-packages\\sklearn\\feature_extraction\\text.py\", line 1199, in fit_transform\n    self.fixed_vocabulary_)\n  File \"C:\\Users\\Public\\Anaconda3\\lib\\site-packages\\sklearn\\feature_extraction\\text.py\", line 1129, in _count_vocab\n    raise ValueError(\"empty vocabulary; perhaps the documents only\"\nValueError: empty vocabulary; perhaps the documents only contain stop words\n\"\"\"",
      "\nThe above exception was the direct cause of the following exception:\n",
      "\u001b[1;31mValueError\u001b[0m                                Traceback (most recent call last)",
      "\u001b[1;32m<ipython-input-325-ced07cc17a46>\u001b[0m in \u001b[0;36m<module>\u001b[1;34m\u001b[0m\n\u001b[0;32m     74\u001b[0m \u001b[1;33m\u001b[0m\u001b[0m\n\u001b[0;32m     75\u001b[0m \u001b[1;31m#grid_search.fit(X_train, y_train)\u001b[0m\u001b[1;33m\u001b[0m\u001b[1;33m\u001b[0m\u001b[1;33m\u001b[0m\u001b[0m\n\u001b[1;32m---> 76\u001b[1;33m \u001b[0mpipe\u001b[0m\u001b[1;33m.\u001b[0m\u001b[0mfit\u001b[0m\u001b[1;33m(\u001b[0m\u001b[0mX_train\u001b[0m\u001b[1;33m,\u001b[0m \u001b[0my_train\u001b[0m\u001b[1;33m)\u001b[0m\u001b[1;33m\u001b[0m\u001b[1;33m\u001b[0m\u001b[0m\n\u001b[0m",
      "\u001b[1;32mC:\\Users\\Public\\Anaconda3\\lib\\site-packages\\imbalanced_learn-0.7.0-py3.7.egg\\imblearn\\pipeline.py\u001b[0m in \u001b[0;36mfit\u001b[1;34m(self, X, y, **fit_params)\u001b[0m\n\u001b[0;32m    275\u001b[0m             \u001b[0mThis\u001b[0m \u001b[0mestimator\u001b[0m\u001b[1;33m.\u001b[0m\u001b[1;33m\u001b[0m\u001b[1;33m\u001b[0m\u001b[0m\n\u001b[0;32m    276\u001b[0m         \"\"\"\n\u001b[1;32m--> 277\u001b[1;33m         \u001b[0mXt\u001b[0m\u001b[1;33m,\u001b[0m \u001b[0myt\u001b[0m\u001b[1;33m,\u001b[0m \u001b[0mfit_params\u001b[0m \u001b[1;33m=\u001b[0m \u001b[0mself\u001b[0m\u001b[1;33m.\u001b[0m\u001b[0m_fit\u001b[0m\u001b[1;33m(\u001b[0m\u001b[0mX\u001b[0m\u001b[1;33m,\u001b[0m \u001b[0my\u001b[0m\u001b[1;33m,\u001b[0m \u001b[1;33m**\u001b[0m\u001b[0mfit_params\u001b[0m\u001b[1;33m)\u001b[0m\u001b[1;33m\u001b[0m\u001b[1;33m\u001b[0m\u001b[0m\n\u001b[0m\u001b[0;32m    278\u001b[0m         with _print_elapsed_time('Pipeline',\n\u001b[0;32m    279\u001b[0m                                  self._log_message(len(self.steps) - 1)):\n",
      "\u001b[1;32mC:\\Users\\Public\\Anaconda3\\lib\\site-packages\\imbalanced_learn-0.7.0-py3.7.egg\\imblearn\\pipeline.py\u001b[0m in \u001b[0;36m_fit\u001b[1;34m(self, X, y, **fit_params)\u001b[0m\n\u001b[0;32m    231\u001b[0m                     \u001b[0mmessage_clsname\u001b[0m\u001b[1;33m=\u001b[0m\u001b[1;34m'Pipeline'\u001b[0m\u001b[1;33m,\u001b[0m\u001b[1;33m\u001b[0m\u001b[1;33m\u001b[0m\u001b[0m\n\u001b[0;32m    232\u001b[0m                     \u001b[0mmessage\u001b[0m\u001b[1;33m=\u001b[0m\u001b[0mself\u001b[0m\u001b[1;33m.\u001b[0m\u001b[0m_log_message\u001b[0m\u001b[1;33m(\u001b[0m\u001b[0mstep_idx\u001b[0m\u001b[1;33m)\u001b[0m\u001b[1;33m,\u001b[0m\u001b[1;33m\u001b[0m\u001b[1;33m\u001b[0m\u001b[0m\n\u001b[1;32m--> 233\u001b[1;33m                     \u001b[1;33m**\u001b[0m\u001b[0mfit_params_steps\u001b[0m\u001b[1;33m[\u001b[0m\u001b[0mname\u001b[0m\u001b[1;33m]\u001b[0m\u001b[1;33m\u001b[0m\u001b[1;33m\u001b[0m\u001b[0m\n\u001b[0m\u001b[0;32m    234\u001b[0m                 )\n\u001b[0;32m    235\u001b[0m             \u001b[1;32melif\u001b[0m \u001b[0mhasattr\u001b[0m\u001b[1;33m(\u001b[0m\u001b[0mcloned_transformer\u001b[0m\u001b[1;33m,\u001b[0m \u001b[1;34m\"fit_resample\"\u001b[0m\u001b[1;33m)\u001b[0m\u001b[1;33m:\u001b[0m\u001b[1;33m\u001b[0m\u001b[1;33m\u001b[0m\u001b[0m\n",
      "\u001b[1;32mC:\\Users\\Public\\Anaconda3\\lib\\site-packages\\joblib\\memory.py\u001b[0m in \u001b[0;36m__call__\u001b[1;34m(self, *args, **kwargs)\u001b[0m\n\u001b[0;32m    353\u001b[0m \u001b[1;33m\u001b[0m\u001b[0m\n\u001b[0;32m    354\u001b[0m     \u001b[1;32mdef\u001b[0m \u001b[0m__call__\u001b[0m\u001b[1;33m(\u001b[0m\u001b[0mself\u001b[0m\u001b[1;33m,\u001b[0m \u001b[1;33m*\u001b[0m\u001b[0margs\u001b[0m\u001b[1;33m,\u001b[0m \u001b[1;33m**\u001b[0m\u001b[0mkwargs\u001b[0m\u001b[1;33m)\u001b[0m\u001b[1;33m:\u001b[0m\u001b[1;33m\u001b[0m\u001b[1;33m\u001b[0m\u001b[0m\n\u001b[1;32m--> 355\u001b[1;33m         \u001b[1;32mreturn\u001b[0m \u001b[0mself\u001b[0m\u001b[1;33m.\u001b[0m\u001b[0mfunc\u001b[0m\u001b[1;33m(\u001b[0m\u001b[1;33m*\u001b[0m\u001b[0margs\u001b[0m\u001b[1;33m,\u001b[0m \u001b[1;33m**\u001b[0m\u001b[0mkwargs\u001b[0m\u001b[1;33m)\u001b[0m\u001b[1;33m\u001b[0m\u001b[1;33m\u001b[0m\u001b[0m\n\u001b[0m\u001b[0;32m    356\u001b[0m \u001b[1;33m\u001b[0m\u001b[0m\n\u001b[0;32m    357\u001b[0m     \u001b[1;32mdef\u001b[0m \u001b[0mcall_and_shelve\u001b[0m\u001b[1;33m(\u001b[0m\u001b[0mself\u001b[0m\u001b[1;33m,\u001b[0m \u001b[1;33m*\u001b[0m\u001b[0margs\u001b[0m\u001b[1;33m,\u001b[0m \u001b[1;33m**\u001b[0m\u001b[0mkwargs\u001b[0m\u001b[1;33m)\u001b[0m\u001b[1;33m:\u001b[0m\u001b[1;33m\u001b[0m\u001b[1;33m\u001b[0m\u001b[0m\n",
      "\u001b[1;32mC:\\Users\\Public\\Anaconda3\\lib\\site-packages\\sklearn\\pipeline.py\u001b[0m in \u001b[0;36m_fit_transform_one\u001b[1;34m(transformer, X, y, weight, message_clsname, message, **fit_params)\u001b[0m\n\u001b[0;32m    738\u001b[0m     \u001b[1;32mwith\u001b[0m \u001b[0m_print_elapsed_time\u001b[0m\u001b[1;33m(\u001b[0m\u001b[0mmessage_clsname\u001b[0m\u001b[1;33m,\u001b[0m \u001b[0mmessage\u001b[0m\u001b[1;33m)\u001b[0m\u001b[1;33m:\u001b[0m\u001b[1;33m\u001b[0m\u001b[1;33m\u001b[0m\u001b[0m\n\u001b[0;32m    739\u001b[0m         \u001b[1;32mif\u001b[0m \u001b[0mhasattr\u001b[0m\u001b[1;33m(\u001b[0m\u001b[0mtransformer\u001b[0m\u001b[1;33m,\u001b[0m \u001b[1;34m'fit_transform'\u001b[0m\u001b[1;33m)\u001b[0m\u001b[1;33m:\u001b[0m\u001b[1;33m\u001b[0m\u001b[1;33m\u001b[0m\u001b[0m\n\u001b[1;32m--> 740\u001b[1;33m             \u001b[0mres\u001b[0m \u001b[1;33m=\u001b[0m \u001b[0mtransformer\u001b[0m\u001b[1;33m.\u001b[0m\u001b[0mfit_transform\u001b[0m\u001b[1;33m(\u001b[0m\u001b[0mX\u001b[0m\u001b[1;33m,\u001b[0m \u001b[0my\u001b[0m\u001b[1;33m,\u001b[0m \u001b[1;33m**\u001b[0m\u001b[0mfit_params\u001b[0m\u001b[1;33m)\u001b[0m\u001b[1;33m\u001b[0m\u001b[1;33m\u001b[0m\u001b[0m\n\u001b[0m\u001b[0;32m    741\u001b[0m         \u001b[1;32melse\u001b[0m\u001b[1;33m:\u001b[0m\u001b[1;33m\u001b[0m\u001b[1;33m\u001b[0m\u001b[0m\n\u001b[0;32m    742\u001b[0m             \u001b[0mres\u001b[0m \u001b[1;33m=\u001b[0m \u001b[0mtransformer\u001b[0m\u001b[1;33m.\u001b[0m\u001b[0mfit\u001b[0m\u001b[1;33m(\u001b[0m\u001b[0mX\u001b[0m\u001b[1;33m,\u001b[0m \u001b[0my\u001b[0m\u001b[1;33m,\u001b[0m \u001b[1;33m**\u001b[0m\u001b[0mfit_params\u001b[0m\u001b[1;33m)\u001b[0m\u001b[1;33m.\u001b[0m\u001b[0mtransform\u001b[0m\u001b[1;33m(\u001b[0m\u001b[0mX\u001b[0m\u001b[1;33m)\u001b[0m\u001b[1;33m\u001b[0m\u001b[1;33m\u001b[0m\u001b[0m\n",
      "\u001b[1;32mC:\\Users\\Public\\Anaconda3\\lib\\site-packages\\sklearn\\compose\\_column_transformer.py\u001b[0m in \u001b[0;36mfit_transform\u001b[1;34m(self, X, y)\u001b[0m\n\u001b[0;32m    529\u001b[0m         \u001b[0mself\u001b[0m\u001b[1;33m.\u001b[0m\u001b[0m_validate_remainder\u001b[0m\u001b[1;33m(\u001b[0m\u001b[0mX\u001b[0m\u001b[1;33m)\u001b[0m\u001b[1;33m\u001b[0m\u001b[1;33m\u001b[0m\u001b[0m\n\u001b[0;32m    530\u001b[0m \u001b[1;33m\u001b[0m\u001b[0m\n\u001b[1;32m--> 531\u001b[1;33m         \u001b[0mresult\u001b[0m \u001b[1;33m=\u001b[0m \u001b[0mself\u001b[0m\u001b[1;33m.\u001b[0m\u001b[0m_fit_transform\u001b[0m\u001b[1;33m(\u001b[0m\u001b[0mX\u001b[0m\u001b[1;33m,\u001b[0m \u001b[0my\u001b[0m\u001b[1;33m,\u001b[0m \u001b[0m_fit_transform_one\u001b[0m\u001b[1;33m)\u001b[0m\u001b[1;33m\u001b[0m\u001b[1;33m\u001b[0m\u001b[0m\n\u001b[0m\u001b[0;32m    532\u001b[0m \u001b[1;33m\u001b[0m\u001b[0m\n\u001b[0;32m    533\u001b[0m         \u001b[1;32mif\u001b[0m \u001b[1;32mnot\u001b[0m \u001b[0mresult\u001b[0m\u001b[1;33m:\u001b[0m\u001b[1;33m\u001b[0m\u001b[1;33m\u001b[0m\u001b[0m\n",
      "\u001b[1;32mC:\\Users\\Public\\Anaconda3\\lib\\site-packages\\sklearn\\compose\\_column_transformer.py\u001b[0m in \u001b[0;36m_fit_transform\u001b[1;34m(self, X, y, func, fitted)\u001b[0m\n\u001b[0;32m    465\u001b[0m                     message=self._log_message(name, idx, len(transformers)))\n\u001b[0;32m    466\u001b[0m                 for idx, (name, trans, column, weight) in enumerate(\n\u001b[1;32m--> 467\u001b[1;33m                         self._iter(fitted=fitted, replace_strings=True), 1))\n\u001b[0m\u001b[0;32m    468\u001b[0m         \u001b[1;32mexcept\u001b[0m \u001b[0mValueError\u001b[0m \u001b[1;32mas\u001b[0m \u001b[0me\u001b[0m\u001b[1;33m:\u001b[0m\u001b[1;33m\u001b[0m\u001b[1;33m\u001b[0m\u001b[0m\n\u001b[0;32m    469\u001b[0m             \u001b[1;32mif\u001b[0m \u001b[1;34m\"Expected 2D array, got 1D array instead\"\u001b[0m \u001b[1;32min\u001b[0m \u001b[0mstr\u001b[0m\u001b[1;33m(\u001b[0m\u001b[0me\u001b[0m\u001b[1;33m)\u001b[0m\u001b[1;33m:\u001b[0m\u001b[1;33m\u001b[0m\u001b[1;33m\u001b[0m\u001b[0m\n",
      "\u001b[1;32mC:\\Users\\Public\\Anaconda3\\lib\\site-packages\\joblib\\parallel.py\u001b[0m in \u001b[0;36m__call__\u001b[1;34m(self, iterable)\u001b[0m\n\u001b[0;32m    932\u001b[0m \u001b[1;33m\u001b[0m\u001b[0m\n\u001b[0;32m    933\u001b[0m             \u001b[1;32mwith\u001b[0m \u001b[0mself\u001b[0m\u001b[1;33m.\u001b[0m\u001b[0m_backend\u001b[0m\u001b[1;33m.\u001b[0m\u001b[0mretrieval_context\u001b[0m\u001b[1;33m(\u001b[0m\u001b[1;33m)\u001b[0m\u001b[1;33m:\u001b[0m\u001b[1;33m\u001b[0m\u001b[1;33m\u001b[0m\u001b[0m\n\u001b[1;32m--> 934\u001b[1;33m                 \u001b[0mself\u001b[0m\u001b[1;33m.\u001b[0m\u001b[0mretrieve\u001b[0m\u001b[1;33m(\u001b[0m\u001b[1;33m)\u001b[0m\u001b[1;33m\u001b[0m\u001b[1;33m\u001b[0m\u001b[0m\n\u001b[0m\u001b[0;32m    935\u001b[0m             \u001b[1;31m# Make sure that we get a last message telling us we are done\u001b[0m\u001b[1;33m\u001b[0m\u001b[1;33m\u001b[0m\u001b[1;33m\u001b[0m\u001b[0m\n\u001b[0;32m    936\u001b[0m             \u001b[0melapsed_time\u001b[0m \u001b[1;33m=\u001b[0m \u001b[0mtime\u001b[0m\u001b[1;33m.\u001b[0m\u001b[0mtime\u001b[0m\u001b[1;33m(\u001b[0m\u001b[1;33m)\u001b[0m \u001b[1;33m-\u001b[0m \u001b[0mself\u001b[0m\u001b[1;33m.\u001b[0m\u001b[0m_start_time\u001b[0m\u001b[1;33m\u001b[0m\u001b[1;33m\u001b[0m\u001b[0m\n",
      "\u001b[1;32mC:\\Users\\Public\\Anaconda3\\lib\\site-packages\\joblib\\parallel.py\u001b[0m in \u001b[0;36mretrieve\u001b[1;34m(self)\u001b[0m\n\u001b[0;32m    831\u001b[0m             \u001b[1;32mtry\u001b[0m\u001b[1;33m:\u001b[0m\u001b[1;33m\u001b[0m\u001b[1;33m\u001b[0m\u001b[0m\n\u001b[0;32m    832\u001b[0m                 \u001b[1;32mif\u001b[0m \u001b[0mgetattr\u001b[0m\u001b[1;33m(\u001b[0m\u001b[0mself\u001b[0m\u001b[1;33m.\u001b[0m\u001b[0m_backend\u001b[0m\u001b[1;33m,\u001b[0m \u001b[1;34m'supports_timeout'\u001b[0m\u001b[1;33m,\u001b[0m \u001b[1;32mFalse\u001b[0m\u001b[1;33m)\u001b[0m\u001b[1;33m:\u001b[0m\u001b[1;33m\u001b[0m\u001b[1;33m\u001b[0m\u001b[0m\n\u001b[1;32m--> 833\u001b[1;33m                     \u001b[0mself\u001b[0m\u001b[1;33m.\u001b[0m\u001b[0m_output\u001b[0m\u001b[1;33m.\u001b[0m\u001b[0mextend\u001b[0m\u001b[1;33m(\u001b[0m\u001b[0mjob\u001b[0m\u001b[1;33m.\u001b[0m\u001b[0mget\u001b[0m\u001b[1;33m(\u001b[0m\u001b[0mtimeout\u001b[0m\u001b[1;33m=\u001b[0m\u001b[0mself\u001b[0m\u001b[1;33m.\u001b[0m\u001b[0mtimeout\u001b[0m\u001b[1;33m)\u001b[0m\u001b[1;33m)\u001b[0m\u001b[1;33m\u001b[0m\u001b[1;33m\u001b[0m\u001b[0m\n\u001b[0m\u001b[0;32m    834\u001b[0m                 \u001b[1;32melse\u001b[0m\u001b[1;33m:\u001b[0m\u001b[1;33m\u001b[0m\u001b[1;33m\u001b[0m\u001b[0m\n\u001b[0;32m    835\u001b[0m                     \u001b[0mself\u001b[0m\u001b[1;33m.\u001b[0m\u001b[0m_output\u001b[0m\u001b[1;33m.\u001b[0m\u001b[0mextend\u001b[0m\u001b[1;33m(\u001b[0m\u001b[0mjob\u001b[0m\u001b[1;33m.\u001b[0m\u001b[0mget\u001b[0m\u001b[1;33m(\u001b[0m\u001b[1;33m)\u001b[0m\u001b[1;33m)\u001b[0m\u001b[1;33m\u001b[0m\u001b[1;33m\u001b[0m\u001b[0m\n",
      "\u001b[1;32mC:\\Users\\Public\\Anaconda3\\lib\\site-packages\\joblib\\_parallel_backends.py\u001b[0m in \u001b[0;36mwrap_future_result\u001b[1;34m(future, timeout)\u001b[0m\n\u001b[0;32m    519\u001b[0m         AsyncResults.get from multiprocessing.\"\"\"\n\u001b[0;32m    520\u001b[0m         \u001b[1;32mtry\u001b[0m\u001b[1;33m:\u001b[0m\u001b[1;33m\u001b[0m\u001b[1;33m\u001b[0m\u001b[0m\n\u001b[1;32m--> 521\u001b[1;33m             \u001b[1;32mreturn\u001b[0m \u001b[0mfuture\u001b[0m\u001b[1;33m.\u001b[0m\u001b[0mresult\u001b[0m\u001b[1;33m(\u001b[0m\u001b[0mtimeout\u001b[0m\u001b[1;33m=\u001b[0m\u001b[0mtimeout\u001b[0m\u001b[1;33m)\u001b[0m\u001b[1;33m\u001b[0m\u001b[1;33m\u001b[0m\u001b[0m\n\u001b[0m\u001b[0;32m    522\u001b[0m         \u001b[1;32mexcept\u001b[0m \u001b[0mLokyTimeoutError\u001b[0m\u001b[1;33m:\u001b[0m\u001b[1;33m\u001b[0m\u001b[1;33m\u001b[0m\u001b[0m\n\u001b[0;32m    523\u001b[0m             \u001b[1;32mraise\u001b[0m \u001b[0mTimeoutError\u001b[0m\u001b[1;33m(\u001b[0m\u001b[1;33m)\u001b[0m\u001b[1;33m\u001b[0m\u001b[1;33m\u001b[0m\u001b[0m\n",
      "\u001b[1;32mC:\\Users\\Public\\Anaconda3\\lib\\concurrent\\futures\\_base.py\u001b[0m in \u001b[0;36mresult\u001b[1;34m(self, timeout)\u001b[0m\n\u001b[0;32m    433\u001b[0m                 \u001b[1;32mraise\u001b[0m \u001b[0mCancelledError\u001b[0m\u001b[1;33m(\u001b[0m\u001b[1;33m)\u001b[0m\u001b[1;33m\u001b[0m\u001b[1;33m\u001b[0m\u001b[0m\n\u001b[0;32m    434\u001b[0m             \u001b[1;32melif\u001b[0m \u001b[0mself\u001b[0m\u001b[1;33m.\u001b[0m\u001b[0m_state\u001b[0m \u001b[1;33m==\u001b[0m \u001b[0mFINISHED\u001b[0m\u001b[1;33m:\u001b[0m\u001b[1;33m\u001b[0m\u001b[1;33m\u001b[0m\u001b[0m\n\u001b[1;32m--> 435\u001b[1;33m                 \u001b[1;32mreturn\u001b[0m \u001b[0mself\u001b[0m\u001b[1;33m.\u001b[0m\u001b[0m__get_result\u001b[0m\u001b[1;33m(\u001b[0m\u001b[1;33m)\u001b[0m\u001b[1;33m\u001b[0m\u001b[1;33m\u001b[0m\u001b[0m\n\u001b[0m\u001b[0;32m    436\u001b[0m             \u001b[1;32melse\u001b[0m\u001b[1;33m:\u001b[0m\u001b[1;33m\u001b[0m\u001b[1;33m\u001b[0m\u001b[0m\n\u001b[0;32m    437\u001b[0m                 \u001b[1;32mraise\u001b[0m \u001b[0mTimeoutError\u001b[0m\u001b[1;33m(\u001b[0m\u001b[1;33m)\u001b[0m\u001b[1;33m\u001b[0m\u001b[1;33m\u001b[0m\u001b[0m\n",
      "\u001b[1;32mC:\\Users\\Public\\Anaconda3\\lib\\concurrent\\futures\\_base.py\u001b[0m in \u001b[0;36m__get_result\u001b[1;34m(self)\u001b[0m\n\u001b[0;32m    382\u001b[0m     \u001b[1;32mdef\u001b[0m \u001b[0m__get_result\u001b[0m\u001b[1;33m(\u001b[0m\u001b[0mself\u001b[0m\u001b[1;33m)\u001b[0m\u001b[1;33m:\u001b[0m\u001b[1;33m\u001b[0m\u001b[1;33m\u001b[0m\u001b[0m\n\u001b[0;32m    383\u001b[0m         \u001b[1;32mif\u001b[0m \u001b[0mself\u001b[0m\u001b[1;33m.\u001b[0m\u001b[0m_exception\u001b[0m\u001b[1;33m:\u001b[0m\u001b[1;33m\u001b[0m\u001b[1;33m\u001b[0m\u001b[0m\n\u001b[1;32m--> 384\u001b[1;33m             \u001b[1;32mraise\u001b[0m \u001b[0mself\u001b[0m\u001b[1;33m.\u001b[0m\u001b[0m_exception\u001b[0m\u001b[1;33m\u001b[0m\u001b[1;33m\u001b[0m\u001b[0m\n\u001b[0m\u001b[0;32m    385\u001b[0m         \u001b[1;32melse\u001b[0m\u001b[1;33m:\u001b[0m\u001b[1;33m\u001b[0m\u001b[1;33m\u001b[0m\u001b[0m\n\u001b[0;32m    386\u001b[0m             \u001b[1;32mreturn\u001b[0m \u001b[0mself\u001b[0m\u001b[1;33m.\u001b[0m\u001b[0m_result\u001b[0m\u001b[1;33m\u001b[0m\u001b[1;33m\u001b[0m\u001b[0m\n",
      "\u001b[1;31mValueError\u001b[0m: empty vocabulary; perhaps the documents only contain stop words"
     ]
    }
   ],
   "source": [
    "from keras.layers import Dense\n",
    "from sklearn.ensemble import AdaBoostClassifier, BaggingClassifier, RandomForestClassifier\n",
    "from sklearn.neighbors import KNeighborsClassifier\n",
    "from sklearn.svm import SVC\n",
    "from gensim.sklearn_api import LdaSeqTransformer, FTTransformer,LdaTransformer,LsiTransformer\n",
    "from gensim.test.utils import common_corpus, common_dictionary\n",
    "\n",
    "tokenized_cols = ['source', 'condition', 'intervention_name', 'textblock',\n",
    "                  'intervention_type']\n",
    "cat_cols = ['has_expanded_access', 'gender', 'healthy_volunteers', 'country',\n",
    "            'allocation', 'intervention_model', 'masking', 'is_fda_regulated_drug',\n",
    "            'is_fda_regulated_device', 'primary_purpose']\n",
    "num_cols = ['minimum_age', 'maximum_age', 'num_of_papers']\n",
    "\n",
    "#word_cols = ['source', 'intervention_name', 'PMID_tokens']\n",
    "#cat_cols = X_train.select_dtypes('category').columns.to_list\n",
    "#num_cols = X_train.select_dtypes('number').columns\n",
    "\n",
    "#word_cols = X_train.select_dtypes('object').columns\n",
    "\n",
    "#for col in tokenize_col:\n",
    "\n",
    "cat_pipe = Pipeline([('imputer', SimpleImputer(strategy = 'constant', fill_value = 'missing')),\n",
    "                     ('ohe', OneHotEncoder(handle_unknown = 'ignore'))])\n",
    "\n",
    "\n",
    "num_pipe = Pipeline([('imputer', SimpleImputer(strategy = 'median')),\n",
    "                     ('scaler', MinMaxScaler())])\n",
    "\n",
    "word_pipe = Pipeline([('vectorizer', TfidfVectorizer(ngram_range= (1,1)))])\n",
    "\n",
    "d2v_pipe = Pipeline([('d2v', W2VTransformer(min_count = 5, vector_size = 100))])\n",
    "poly_pipe = Pipeline([('poly', PolynomialFeatures())])\n",
    "\n",
    "grid_params = {\n",
    "    'model__penalty' : ['l1', 'l2'],\n",
    "    'model__C' : [ 0.1, 1, 10],\n",
    "    'model__solver':['liblinear', 'newton-cg']\n",
    "    \n",
    "}\n",
    "\n",
    "def get_model():\n",
    "    # create model\n",
    "    model = Sequential()\n",
    "    model.add(Dense(10, activation='relu'))\n",
    "    model.add(Dense(5, activation = 'relu'))\n",
    "    model.add(Dense(1, activation='sigmoid'))\n",
    "    # Compile model\n",
    "    model.compile(loss='binary_crossentropy', optimizer='adam', metrics=['accuracy'])\n",
    "    return model\n",
    "\n",
    "cnn = KerasClassifier(build_fn=get_model, epochs = 10)\n",
    "cnn._estimator_type = 'classifier'\n",
    "\n",
    "\n",
    "preprocessor = ColumnTransformer(transformers = [('source_tfidf', word_pipe, 'source'),\n",
    "                                                 ('cat', cat_pipe, cat_cols),\n",
    "                                                 ('num', num_pipe, num_cols),\n",
    "                                                 #('pmid_tfidf', word_pipe, 'PMID_tokens'),\n",
    "                                                 ('text_tfidf', word_pipe, 'textblock'),\n",
    "                                                 ('condition_tfidf',word_pipe , 'condition'),\n",
    "                                                 ('intervention_name_tfidf', word_pipe, 'intervention_name'),\n",
    "                                                 ('intervention_type_tfidf', word_pipe, 'intervention_type'),\n",
    "                                                 ], remainder = 'drop',n_jobs=-2)\n",
    "                            \n",
    "pipe = imbPipe(steps = [('preprocessor', preprocessor),                       \n",
    "                         #('bal', RandomUnderSampler(sampling_strategy = 0.2)),\n",
    "                        ('bal2', SMOTE(sampling_strategy= 0.3)),\n",
    "                        ('model', LogisticRegression(solver = 'newton-cg'))],\n",
    "                    \n",
    "               verbose = True)\n",
    "\n",
    "#grid_search = GridSearchCV(pipe, grid_params, n_jobs = -1, verbose = 3)\n",
    "\n",
    "#grid_search.fit(X_train, y_train)\n",
    "pipe.fit(X_train, y_train)"
   ]
  },
  {
   "cell_type": "code",
   "execution_count": 41,
   "metadata": {},
   "outputs": [
    {
     "name": "stdout",
     "output_type": "stream",
     "text": [
      "              precision    recall  f1-score   support\n",
      "\n",
      "       False       0.87      0.96      0.91      1447\n",
      "        True       0.66      0.36      0.47       334\n",
      "\n",
      "    accuracy                           0.85      1781\n",
      "   macro avg       0.76      0.66      0.69      1781\n",
      "weighted avg       0.83      0.85      0.83      1781\n",
      "\n"
     ]
    }
   ],
   "source": [
    "#with text columns included\n",
    "y_pred = pipe.predict(X_test)\n",
    "print(classification_report(y_test, y_pred))"
   ]
  },
  {
   "cell_type": "code",
   "execution_count": null,
   "metadata": {},
   "outputs": [],
   "source": []
  },
  {
   "cell_type": "code",
   "execution_count": 178,
   "metadata": {},
   "outputs": [
    {
     "name": "stdout",
     "output_type": "stream",
     "text": [
      "              precision    recall  f1-score   support\n",
      "\n",
      "       False       0.85      0.95      0.90      1447\n",
      "        True       0.55      0.25      0.34       334\n",
      "\n",
      "    accuracy                           0.82      1781\n",
      "   macro avg       0.70      0.60      0.62      1781\n",
      "weighted avg       0.79      0.82      0.79      1781\n",
      "\n"
     ]
    }
   ],
   "source": [
    "#without text columns included\n",
    "y_pred = pipe.predict(X_test)\n",
    "print(classification_report(y_test, y_pred))"
   ]
  },
  {
   "cell_type": "code",
   "execution_count": 151,
   "metadata": {},
   "outputs": [
    {
     "name": "stdout",
     "output_type": "stream",
     "text": [
      "              precision    recall  f1-score   support\n",
      "\n",
      "       False       0.83      0.99      0.90      4395\n",
      "        True       0.64      0.11      0.18      1000\n",
      "\n",
      "    accuracy                           0.82      5395\n",
      "   macro avg       0.73      0.55      0.54      5395\n",
      "weighted avg       0.79      0.82      0.77      5395\n",
      "\n"
     ]
    }
   ],
   "source": [
    "print(classification_report(y_copy, cross))"
   ]
  },
  {
   "cell_type": "code",
   "execution_count": 152,
   "metadata": {},
   "outputs": [
    {
     "data": {
      "text/plain": [
       "['text_classification.joblib']"
      ]
     },
     "execution_count": 152,
     "metadata": {},
     "output_type": "execute_result"
    }
   ],
   "source": [
    "# import joblib\n",
    "from joblib import dump\n",
    "\n",
    "# dump the pipeline model\n",
    "dump(pipe, filename=\"text_classification.joblib\")"
   ]
  },
  {
   "cell_type": "code",
   "execution_count": 181,
   "metadata": {},
   "outputs": [
    {
     "data": {
      "text/plain": [
       "Index(['source', 'has_expanded_access', 'condition', 'enrollment', 'textblock',\n",
       "       'intervention_type', 'is_fda_regulated_drug', 'is_fda_regulated_device',\n",
       "       'intervention_name', 'gender', 'minimum_age', 'maximum_age',\n",
       "       'healthy_volunteers', 'country', 'allocation', 'intervention_model',\n",
       "       'primary_purpose', 'masking', 'PMID_tokens', 'num_of_papers'],\n",
       "      dtype='object')"
      ]
     },
     "execution_count": 181,
     "metadata": {},
     "output_type": "execute_result"
    }
   ],
   "source": [
    "X_copy.columns"
   ]
  },
  {
   "cell_type": "code",
   "execution_count": 183,
   "metadata": {},
   "outputs": [
    {
     "data": {
      "text/html": [
       "<div>\n",
       "<style scoped>\n",
       "    .dataframe tbody tr th:only-of-type {\n",
       "        vertical-align: middle;\n",
       "    }\n",
       "\n",
       "    .dataframe tbody tr th {\n",
       "        vertical-align: top;\n",
       "    }\n",
       "\n",
       "    .dataframe thead th {\n",
       "        text-align: right;\n",
       "    }\n",
       "</style>\n",
       "<table border=\"1\" class=\"dataframe\">\n",
       "  <thead>\n",
       "    <tr style=\"text-align: right;\">\n",
       "      <th></th>\n",
       "      <th>source</th>\n",
       "      <th>has_expanded_access</th>\n",
       "      <th>condition</th>\n",
       "      <th>enrollment</th>\n",
       "      <th>textblock</th>\n",
       "      <th>intervention_type</th>\n",
       "      <th>is_fda_regulated_drug</th>\n",
       "      <th>is_fda_regulated_device</th>\n",
       "      <th>intervention_name</th>\n",
       "      <th>gender</th>\n",
       "      <th>minimum_age</th>\n",
       "      <th>maximum_age</th>\n",
       "      <th>healthy_volunteers</th>\n",
       "      <th>country</th>\n",
       "      <th>allocation</th>\n",
       "      <th>intervention_model</th>\n",
       "      <th>primary_purpose</th>\n",
       "      <th>masking</th>\n",
       "      <th>PMID_tokens</th>\n",
       "      <th>num_of_papers</th>\n",
       "    </tr>\n",
       "  </thead>\n",
       "  <tbody>\n",
       "    <tr>\n",
       "      <th>nct00000113</th>\n",
       "      <td>stony brook university</td>\n",
       "      <td>No</td>\n",
       "      <td>myopia</td>\n",
       "      <td>470</td>\n",
       "      <td>evaluate whether progressive</td>\n",
       "      <td></td>\n",
       "      <td>NaN</td>\n",
       "      <td>NaN</td>\n",
       "      <td>progressive addition lenses</td>\n",
       "      <td>All</td>\n",
       "      <td>6.0</td>\n",
       "      <td>12.0</td>\n",
       "      <td>No</td>\n",
       "      <td>United States</td>\n",
       "      <td>Randomized</td>\n",
       "      <td>Parallel Assignment</td>\n",
       "      <td>Treatment</td>\n",
       "      <td>NaN</td>\n",
       "      <td>accomodation related risk factors</td>\n",
       "      <td>3.0</td>\n",
       "    </tr>\n",
       "  </tbody>\n",
       "</table>\n",
       "</div>"
      ],
      "text/plain": [
       "                              source  has_expanded_access  condition  \\\n",
       "nct00000113   stony brook university                   No     myopia   \n",
       "\n",
       "              enrollment                      textblock  intervention_type  \\\n",
       "nct00000113          470   evaluate whether progressive                      \n",
       "\n",
       "             is_fda_regulated_drug  is_fda_regulated_device  \\\n",
       "nct00000113                    NaN                      NaN   \n",
       "\n",
       "                        intervention_name  gender   minimum_age   maximum_age  \\\n",
       "nct00000113   progressive addition lenses     All           6.0          12.0   \n",
       "\n",
       "            healthy_volunteers         country   allocation  \\\n",
       "nct00000113                 No   United States   Randomized   \n",
       "\n",
       "               intervention_model primary_purpose  masking  \\\n",
       "nct00000113   Parallel Assignment       Treatment      NaN   \n",
       "\n",
       "                                    PMID_tokens   num_of_papers  \n",
       "nct00000113   accomodation related risk factors             3.0  "
      ]
     },
     "execution_count": 183,
     "metadata": {},
     "output_type": "execute_result"
    }
   ],
   "source": [
    "import csv\n",
    "with open('file_to_predict.txt') as f:\n",
    "    lines = f.readline()\n",
    "    #lines.replace\n",
    "#pd.DataFrame(data = lines)\n",
    "lines = lines.split(',')\n",
    "pd.read_csv('file_to_predict.txt')"
   ]
  },
  {
   "cell_type": "code",
   "execution_count": 68,
   "metadata": {},
   "outputs": [
    {
     "name": "stdout",
     "output_type": "stream",
     "text": [
      "              precision    recall  f1-score   support\n",
      "\n",
      "       False       0.88      0.88      0.88      1447\n",
      "        True       0.48      0.47      0.47       334\n",
      "\n",
      "    accuracy                           0.81      1781\n",
      "   macro avg       0.68      0.68      0.68      1781\n",
      "weighted avg       0.80      0.81      0.80      1781\n",
      "\n"
     ]
    }
   ],
   "source": [
    "y_pred = pipe.predict(X_test)\n",
    "print(classification_report(y_test, y_pred))"
   ]
  },
  {
   "cell_type": "code",
   "execution_count": 66,
   "metadata": {},
   "outputs": [
    {
     "name": "stdout",
     "output_type": "stream",
     "text": [
      "              precision    recall  f1-score   support\n",
      "\n",
      "       False       0.87      0.90      0.89      1447\n",
      "        True       0.50      0.42      0.46       334\n",
      "\n",
      "    accuracy                           0.81      1781\n",
      "   macro avg       0.69      0.66      0.67      1781\n",
      "weighted avg       0.80      0.81      0.81      1781\n",
      "\n"
     ]
    }
   ],
   "source": [
    "y_pred = pipe.predict(X_test)\n",
    "print(classification_report(y_test, y_pred))"
   ]
  },
  {
   "cell_type": "code",
   "execution_count": 205,
   "metadata": {},
   "outputs": [],
   "source": [
    "from sklearn.ensemble import BaggingClassifier\n",
    "from sklearn.linear_model import RidgeClassifier\n",
    "from sklearn.naive_bayes import CategoricalNB\n",
    "\n",
    "\n",
    "def run_base_models():\n",
    "    knn = KNeighborsClassifier()\n",
    "    logreg = LogisticRegression()\n",
    "    ada = AdaBoostClassifier()\n",
    "    rf = RandomForestClassifier()\n",
    "    svm = SVC()\n",
    "    ridge = RidgeClassifier()\n",
    "    #nb = CategoricalNB()\n",
    "    \n",
    "    models = [knn, logreg, ada, rf, svm, ridge]\n",
    "    scores = []\n",
    "    y_preds = []\n",
    "    knn_params = {}\n",
    "    preprocessor = ColumnTransformer(transformers = [('num', num_pipe, num_cols),\n",
    "                                                 ('cat', cat_pipe, cat_cols)], \n",
    "                                 n_jobs=-1,\n",
    "                                 remainder='passthrough')\n",
    "    for model in models:\n",
    "        \n",
    "        pipe = imbPipe(steps = [('preprocessor', preprocessor),\n",
    "                        ('poly', PolynomialFeatures()),\n",
    "                        ('model', model)],\n",
    "               verbose = True)\n",
    "        pipe.fit(X_train, y_train)\n",
    "        score = pipe.score(X_test, y_test)\n",
    "        y_pred = pipe.predict(X_test)\n",
    "        y_preds.append(y_pred)\n",
    "        scores.append(score)\n",
    "    return [models, scores]\n",
    "m = run_models()"
   ]
  },
  {
   "cell_type": "code",
   "execution_count": 212,
   "metadata": {},
   "outputs": [
    {
     "data": {
      "text/plain": [
       "[[KNeighborsClassifier(),\n",
       "  LogisticRegression(),\n",
       "  AdaBoostClassifier(),\n",
       "  RandomForestClassifier(),\n",
       "  SVC(),\n",
       "  RidgeClassifier()],\n",
       " [0.7400336889387984,\n",
       "  0.7916900617630545,\n",
       "  0.8135878719820325,\n",
       "  0.8130263896687254,\n",
       "  0.8158338012352611,\n",
       "  0.7770915216170691]]"
      ]
     },
     "execution_count": 212,
     "metadata": {},
     "output_type": "execute_result"
    }
   ],
   "source": [
    "m"
   ]
  },
  {
   "cell_type": "code",
   "execution_count": 207,
   "metadata": {},
   "outputs": [
    {
     "name": "stdout",
     "output_type": "stream",
     "text": [
      "[Pipeline] ...... (step 1 of 3) Processing preprocessor, total=   0.1s\n",
      "[Pipeline] .............. (step 2 of 3) Processing poly, total=   0.0s\n",
      "[Pipeline] ............. (step 3 of 3) Processing model, total=   0.0s\n",
      "[Pipeline] ...... (step 1 of 3) Processing preprocessor, total=   0.1s\n",
      "[Pipeline] .............. (step 2 of 3) Processing poly, total=   0.0s\n"
     ]
    },
    {
     "name": "stderr",
     "output_type": "stream",
     "text": [
      "C:\\Users\\Public\\Anaconda3\\lib\\site-packages\\sklearn\\linear_model\\_logistic.py:764: ConvergenceWarning: lbfgs failed to converge (status=1):\n",
      "STOP: TOTAL NO. of ITERATIONS REACHED LIMIT.\n",
      "\n",
      "Increase the number of iterations (max_iter) or scale the data as shown in:\n",
      "    https://scikit-learn.org/stable/modules/preprocessing.html\n",
      "Please also refer to the documentation for alternative solver options:\n",
      "    https://scikit-learn.org/stable/modules/linear_model.html#logistic-regression\n",
      "  extra_warning_msg=_LOGISTIC_SOLVER_CONVERGENCE_MSG)\n"
     ]
    },
    {
     "name": "stdout",
     "output_type": "stream",
     "text": [
      "[Pipeline] ............. (step 3 of 3) Processing model, total=   0.7s\n",
      "[Pipeline] ...... (step 1 of 3) Processing preprocessor, total=   0.1s\n",
      "[Pipeline] .............. (step 2 of 3) Processing poly, total=   0.0s\n",
      "[Pipeline] ............. (step 3 of 3) Processing model, total=   3.8s\n",
      "[Pipeline] ...... (step 1 of 3) Processing preprocessor, total=   0.1s\n",
      "[Pipeline] .............. (step 2 of 3) Processing poly, total=   0.0s\n",
      "[Pipeline] ............. (step 3 of 3) Processing model, total=   3.3s\n",
      "[Pipeline] ...... (step 1 of 3) Processing preprocessor, total=   0.1s\n",
      "[Pipeline] .............. (step 2 of 3) Processing poly, total=   0.0s\n",
      "[Pipeline] ............. (step 3 of 3) Processing model, total=   6.8s\n",
      "[Pipeline] ...... (step 1 of 3) Processing preprocessor, total=   0.1s\n",
      "[Pipeline] .............. (step 2 of 3) Processing poly, total=   0.0s\n",
      "[Pipeline] ............. (step 3 of 3) Processing model, total=   0.8s\n"
     ]
    }
   ],
   "source": [
    "m = run_base_models()"
   ]
  },
  {
   "cell_type": "code",
   "execution_count": 47,
   "metadata": {},
   "outputs": [
    {
     "name": "stdout",
     "output_type": "stream",
     "text": [
      "[Pipeline] ...... (step 1 of 3) Processing preprocessor, total=  25.2s\n",
      "[Pipeline] .............. (step 2 of 3) Processing bal2, total=   0.9s\n",
      "[Pipeline] ............. (step 3 of 3) Processing model, total=   0.0s\n",
      "[Pipeline] ...... (step 1 of 3) Processing preprocessor, total=  25.7s\n",
      "[Pipeline] .............. (step 2 of 3) Processing bal2, total=   0.9s\n",
      "[Pipeline] ............. (step 3 of 3) Processing model, total=  21.5s\n",
      "[Pipeline] ...... (step 1 of 3) Processing preprocessor, total=  25.7s\n",
      "[Pipeline] .............. (step 2 of 3) Processing bal2, total=   0.9s\n",
      "[Pipeline] ............. (step 3 of 3) Processing model, total= 1.1min\n",
      "[Pipeline] ...... (step 1 of 3) Processing preprocessor, total=  25.4s\n",
      "[Pipeline] .............. (step 2 of 3) Processing bal2, total=   0.8s\n",
      "[Pipeline] ............. (step 3 of 3) Processing model, total=   6.2s\n",
      "[Pipeline] ...... (step 1 of 3) Processing preprocessor, total=  25.3s\n",
      "[Pipeline] .............. (step 2 of 3) Processing bal2, total=   1.0s\n",
      "[Pipeline] ............. (step 3 of 3) Processing model, total= 2.6min\n",
      "[Pipeline] ...... (step 1 of 3) Processing preprocessor, total=  25.9s\n",
      "[Pipeline] .............. (step 2 of 3) Processing bal2, total=   0.8s\n",
      "[Pipeline] ............. (step 3 of 3) Processing model, total=   5.7s\n"
     ]
    }
   ],
   "source": [
    "def run_base_models():\n",
    "    knn = KNeighborsClassifier()\n",
    "    logreg = LogisticRegression(solver = 'newton-cg')\n",
    "    ada = AdaBoostClassifier()\n",
    "    rf = RandomForestClassifier(n_estimators=50)\n",
    "    svm = SVC()\n",
    "    ridge = RidgeClassifier()\n",
    "    models = [knn, logreg, ada, rf, svm, ridge]\n",
    "    scores = []\n",
    "    y_preds = []\n",
    "    word_pipe = Pipeline([('vectorizer', TfidfVectorizer(ngram_range= (1,1)))])\n",
    "    preprocessor = ColumnTransformer(transformers = [('num', num_pipe, num_cols),\n",
    "                                                 ('pmid_tfidf', word_pipe, 'PMID_tokens'),\n",
    "                                                 ('text_tfidf', word_pipe, 'textblock'),\n",
    "                                                 ('condition_tfidf', word_pipe, 'condition'),\n",
    "                                                 ('source_tfidf', word_pipe, 'source'),\n",
    "                                                 ('intervention_name_tfidf', word_pipe, 'intervention_name'),\n",
    "                                                 ('intervention_type_tfidf', word_pipe, 'intervention_type'),\n",
    "                                                 ('cat', cat_pipe, cat_cols),\n",
    "                                                 #('poly', poly_pipe, inter)\n",
    "                                                \n",
    "                                                 ], n_jobs=-1)\n",
    "\n",
    "    for model in models:                    \n",
    "            pipe = imbPipe(steps = [('preprocessor', preprocessor),\n",
    "                         #('bal', RandomUnderSampler(sampling_strategy = 0.2)),\n",
    "                        ('bal2', SMOTE(sampling_strategy= 0.3)),\n",
    "                         ('model', model)],\n",
    "                           verbose = True)\n",
    "\n",
    "            pipe.fit(X_train, y_train)\n",
    "            pipe.predict(X_test)\n",
    "            score = pipe.score(X_test, y_test)\n",
    "            scores.append(score)\n",
    "            y_pred = pipe.predict(X_test)\n",
    "            y_preds.append(y_pred)\n",
    "    return [models, scores, y_preds]\n",
    "m = run_base_models()"
   ]
  },
  {
   "cell_type": "code",
   "execution_count": 215,
   "metadata": {},
   "outputs": [
    {
     "data": {
      "text/plain": [
       "[[KNeighborsClassifier(),\n",
       "  LogisticRegression(),\n",
       "  AdaBoostClassifier(),\n",
       "  RandomForestClassifier(),\n",
       "  SVC(),\n",
       "  RidgeClassifier()],\n",
       " [0.8107804604154969,\n",
       "  0.8349241998877035,\n",
       "  0.7978663672094329,\n",
       "  0.8265019651880966,\n",
       "  0.8147108366086468,\n",
       "  0.8338012352610893]]"
      ]
     },
     "execution_count": 215,
     "metadata": {},
     "output_type": "execute_result"
    }
   ],
   "source": [
    "m"
   ]
  },
  {
   "cell_type": "code",
   "execution_count": 67,
   "metadata": {},
   "outputs": [
    {
     "data": {
      "text/plain": [
       "[array([False,  True, False, ..., False, False, False]),\n",
       " array([False, False, False, ..., False, False, False]),\n",
       " array([False,  True, False, ..., False, False, False]),\n",
       " array([False, False, False, ..., False, False, False]),\n",
       " array([False, False, False, ..., False, False, False]),\n",
       " array([False, False, False, ..., False, False, False])]"
      ]
     },
     "execution_count": 67,
     "metadata": {},
     "output_type": "execute_result"
    }
   ],
   "source": [
    "m[2]"
   ]
  },
  {
   "cell_type": "code",
   "execution_count": 91,
   "metadata": {},
   "outputs": [
    {
     "name": "stdout",
     "output_type": "stream",
     "text": [
      "              precision    recall  f1-score   support\n",
      "\n",
      "       False       0.91      0.60      0.72      1447\n",
      "        True       0.30      0.74      0.42       334\n",
      "\n",
      "    accuracy                           0.62      1781\n",
      "   macro avg       0.60      0.67      0.57      1781\n",
      "weighted avg       0.79      0.62      0.66      1781\n",
      "\n"
     ]
    }
   ],
   "source": [
    "print(classification_report(y_test, m[2][0]))"
   ]
  },
  {
   "cell_type": "code",
   "execution_count": 90,
   "metadata": {},
   "outputs": [
    {
     "name": "stdout",
     "output_type": "stream",
     "text": [
      "              precision    recall  f1-score   support\n",
      "\n",
      "       False       0.86      0.96      0.91      1447\n",
      "        True       0.64      0.34      0.45       334\n",
      "\n",
      "    accuracy                           0.84      1781\n",
      "   macro avg       0.75      0.65      0.68      1781\n",
      "weighted avg       0.82      0.84      0.82      1781\n",
      "\n"
     ]
    }
   ],
   "source": [
    "print(classification_report(y_test, m[2][1]))"
   ]
  },
  {
   "cell_type": "code",
   "execution_count": 92,
   "metadata": {},
   "outputs": [
    {
     "name": "stdout",
     "output_type": "stream",
     "text": [
      "              precision    recall  f1-score   support\n",
      "\n",
      "       False       0.86      0.90      0.88      1447\n",
      "        True       0.45      0.35      0.39       334\n",
      "\n",
      "    accuracy                           0.80      1781\n",
      "   macro avg       0.66      0.63      0.64      1781\n",
      "weighted avg       0.78      0.80      0.79      1781\n",
      "\n"
     ]
    }
   ],
   "source": [
    "print(classification_report(y_test, m[2][2]))"
   ]
  },
  {
   "cell_type": "code",
   "execution_count": 93,
   "metadata": {},
   "outputs": [
    {
     "name": "stdout",
     "output_type": "stream",
     "text": [
      "              precision    recall  f1-score   support\n",
      "\n",
      "       False       0.82      1.00      0.90      1447\n",
      "        True       0.77      0.07      0.13       334\n",
      "\n",
      "    accuracy                           0.82      1781\n",
      "   macro avg       0.79      0.53      0.51      1781\n",
      "weighted avg       0.81      0.82      0.76      1781\n",
      "\n"
     ]
    }
   ],
   "source": [
    "print(classification_report(y_test, m[2][3]))"
   ]
  },
  {
   "cell_type": "code",
   "execution_count": 94,
   "metadata": {},
   "outputs": [
    {
     "name": "stdout",
     "output_type": "stream",
     "text": [
      "              precision    recall  f1-score   support\n",
      "\n",
      "       False       0.83      0.99      0.90      1447\n",
      "        True       0.76      0.13      0.22       334\n",
      "\n",
      "    accuracy                           0.83      1781\n",
      "   macro avg       0.80      0.56      0.56      1781\n",
      "weighted avg       0.82      0.83      0.77      1781\n",
      "\n"
     ]
    }
   ],
   "source": [
    "print(classification_report(y_test, m[2][4]))"
   ]
  },
  {
   "cell_type": "code",
   "execution_count": 95,
   "metadata": {},
   "outputs": [
    {
     "name": "stdout",
     "output_type": "stream",
     "text": [
      "              precision    recall  f1-score   support\n",
      "\n",
      "       False       0.87      0.94      0.90      1447\n",
      "        True       0.60      0.37      0.45       334\n",
      "\n",
      "    accuracy                           0.83      1781\n",
      "   macro avg       0.73      0.65      0.68      1781\n",
      "weighted avg       0.82      0.83      0.82      1781\n",
      "\n"
     ]
    }
   ],
   "source": [
    "print(classification_report(y_test, m[2][5]))"
   ]
  },
  {
   "cell_type": "code",
   "execution_count": 96,
   "metadata": {},
   "outputs": [
    {
     "name": "stdout",
     "output_type": "stream",
     "text": [
      "              precision    recall  f1-score   support\n",
      "\n",
      "       False       0.91      0.60      0.72      1447\n",
      "        True       0.30      0.74      0.42       334\n",
      "\n",
      "    accuracy                           0.62      1781\n",
      "   macro avg       0.60      0.67      0.57      1781\n",
      "weighted avg       0.79      0.62      0.66      1781\n",
      "\n"
     ]
    }
   ],
   "source": [
    "print(classification_report(y_test, m[2][0]))"
   ]
  },
  {
   "cell_type": "code",
   "execution_count": 205,
   "metadata": {},
   "outputs": [
    {
     "name": "stdout",
     "output_type": "stream",
     "text": [
      "Confusion matrix, without normalization\n",
      "[[1387   60]\n",
      " [ 222  112]]\n"
     ]
    },
    {
     "data": {
      "image/png": "[encoded data removed]",
      "text/plain": [
       "<Figure size 576x432 with 2 Axes>"
      ]
     },
     "metadata": {},
     "output_type": "display_data"
    }
   ],
   "source": [
    "#m[2][4]\n",
    "\n",
    "def plot_confusion_matrix(cm, classes,\n",
    "                        normalize=False,\n",
    "                        title='Confusion matrix',\n",
    "                        cmap=plt.cm.Blues):\n",
    "    \"\"\"\n",
    "    This function prints and plots the confusion matrix.\n",
    "    Normalization can be applied by setting `normalize=True`.\n",
    "    \"\"\"\n",
    "    plt.imshow(cm, interpolation='nearest', cmap=cmap)\n",
    "    plt.title(title, fontdict={'fontsize': 18})\n",
    "    sns.set_style( 'whitegrid',{'axes.grid' : False})\n",
    "    tick_marks = np.arange(len(classes))\n",
    "    plt.xticks(tick_marks, labels = classes, rotation=45)\n",
    "    plt.yticks(tick_marks, classes)\n",
    "\n",
    "    if normalize:\n",
    "        cm = cm.astype('float') / cm.sum(axis=1)[:, np.newaxis]\n",
    "        print(\"Normalized confusion matrix\")\n",
    "    else:\n",
    "        print('Confusion matrix, without normalization')\n",
    "\n",
    "    print(cm)\n",
    "\n",
    "    thresh = cm.max() / 2.\n",
    "    for i, j in itertools.product(range(cm.shape[0]), range(cm.shape[1])):\n",
    "        plt.text(j, i, cm[i, j],\n",
    "            horizontalalignment=\"center\",\n",
    "            color=\"white\" if cm[i, j] > thresh else \"black\")\n",
    "    plt.ylim([1.5,-.5])\n",
    "    plt.colorbar()\n",
    "    plt.tight_layout()\n",
    "    plt.ylabel('True')\n",
    "    plt.xlabel('Predicted')\n",
    "    plt.grid('off')\n",
    "    plt.show()\n",
    "    \n",
    "cm = confusion_matrix(y_test, y_pred)\n",
    "plt.figure(figsize = (8,6))\n",
    "plot_confusion_matrix(cm, classes = ['Fail', 'Success'])\n"
   ]
  },
  {
   "cell_type": "code",
   "execution_count": 204,
   "metadata": {},
   "outputs": [
    {
     "name": "stdout",
     "output_type": "stream",
     "text": [
      "Normalized confusion matrix\n",
      "[[0.9585349  0.0414651 ]\n",
      " [0.66467066 0.33532934]]\n"
     ]
    },
    {
     "data": {
      "image/png": "[encoded data removed]",
      "text/plain": [
       "<Figure size 576x432 with 2 Axes>"
      ]
     },
     "metadata": {},
     "output_type": "display_data"
    }
   ],
   "source": [
    "cm = confusion_matrix(y_test, y_pred)\n",
    "plt.figure(figsize = (8,6))\n",
    "plot_confusion_matrix(cm, classes = ['Fail', 'Success'], normalize = True)"
   ]
  },
  {
   "cell_type": "code",
   "execution_count": 127,
   "metadata": {},
   "outputs": [
    {
     "name": "stdout",
     "output_type": "stream",
     "text": [
      "Normalized confusion matrix\n",
      "[[0.99101589 0.00898411]\n",
      " [0.8742515  0.1257485 ]]\n"
     ]
    },
    {
     "data": {
      "image/png": "[encoded data removed]",
      "text/plain": [
       "<Figure size 432x288 with 2 Axes>"
      ]
     },
     "metadata": {},
     "output_type": "display_data"
    }
   ],
   "source": [
    "plot_confusion_matrix(cm,normalize = True, classes = ['Fail', 'Success'])"
   ]
  },
  {
   "cell_type": "code",
   "execution_count": 104,
   "metadata": {},
   "outputs": [
    {
     "name": "stdout",
     "output_type": "stream",
     "text": [
      "[Pipeline] ..... (step 1 of 3) Processing preprocessor, total=296.0min\n",
      "[Pipeline] .............. (step 2 of 3) Processing bal2, total=   1.3s\n",
      "[Pipeline] ............. (step 3 of 3) Processing model, total=  10.3s\n",
      "Best: 0.816363 using {'model__alpha': 0.9}\n",
      "0.810367 (0.017409) with: {'model__alpha': 0.1}\n",
      "0.811474 (0.017883) with: {'model__alpha': 0.2}\n",
      "0.812027 (0.018071) with: {'model__alpha': 0.3}\n",
      "0.812766 (0.017846) with: {'model__alpha': 0.4}\n",
      "0.813688 (0.017870) with: {'model__alpha': 0.5}\n",
      "0.814425 (0.018641) with: {'model__alpha': 0.6}\n",
      "0.814335 (0.018202) with: {'model__alpha': 0.7}\n",
      "0.815533 (0.018897) with: {'model__alpha': 0.8}\n",
      "0.816363 (0.018171) with: {'model__alpha': 0.9}\n",
      "0.816179 (0.018318) with: {'model__alpha': 1.0}\n"
     ]
    }
   ],
   "source": [
    "from sklearn.model_selection import RepeatedStratifiedKFold\n",
    "# define models and parameters\n",
    "model = RidgeClassifier()\n",
    "alpha = [0.1, 0.2, 0.3, 0.4, 0.5, 0.6, 0.7, 0.8, 0.9, 1.0]\n",
    "# define grid search\n",
    "grid = {'model__alpha':alpha}\n",
    "cv = RepeatedStratifiedKFold(n_splits=10, n_repeats=3, random_state=1)\n",
    "grid_search = GridSearchCV(estimator=pipe, param_grid=grid, n_jobs=-1, cv=cv, scoring='accuracy',error_score=0)\n",
    "grid_result = grid_search.fit(X_train, y_train)\n",
    "# summarize results\n",
    "print(\"Best: %f using %s\" % (grid_result.best_score_, grid_result.best_params_))\n",
    "means = grid_result.cv_results_['mean_test_score']\n",
    "stds = grid_result.cv_results_['std_test_score']\n",
    "params = grid_result.cv_results_['params']\n",
    "for mean, stdev, param in zip(means, stds, params):\n",
    "    print(\"%f (%f) with: %r\" % (mean, stdev, param))"
   ]
  },
  {
   "cell_type": "code",
   "execution_count": 107,
   "metadata": {},
   "outputs": [
    {
     "data": {
      "text/plain": [
       "{'mean_fit_time': array([  89.29167231,   76.63596298,   72.30785348,   66.62470171,\n",
       "          65.51719398,   63.3219614 ,   68.34306556,   67.94400611,\n",
       "          72.54024591, 1147.64549252]),\n",
       " 'std_fit_time': array([6.64264950e+00, 3.94361421e+00, 3.57428012e+00, 2.51164167e+00,\n",
       "        2.14901634e+00, 2.55033018e+00, 8.52220742e+00, 2.51004073e+00,\n",
       "        3.39069149e+00, 3.23683890e+03]),\n",
       " 'mean_score_time': array([5.83218077, 5.60043542, 5.60391103, 5.31376548, 5.35496079,\n",
       "        5.34178651, 5.69675825, 5.98505461, 6.2658687 , 5.75945344]),\n",
       " 'std_score_time': array([0.6912041 , 0.54745043, 0.57481246, 0.43545885, 0.58029953,\n",
       "        0.59411553, 0.73008918, 0.66579419, 0.59845144, 0.72189419]),\n",
       " 'param_model__alpha': masked_array(data=[0.1, 0.2, 0.3, 0.4, 0.5, 0.6, 0.7, 0.8, 0.9, 1.0],\n",
       "              mask=[False, False, False, False, False, False, False, False,\n",
       "                    False, False],\n",
       "        fill_value='?',\n",
       "             dtype=object),\n",
       " 'params': [{'model__alpha': 0.1},\n",
       "  {'model__alpha': 0.2},\n",
       "  {'model__alpha': 0.3},\n",
       "  {'model__alpha': 0.4},\n",
       "  {'model__alpha': 0.5},\n",
       "  {'model__alpha': 0.6},\n",
       "  {'model__alpha': 0.7},\n",
       "  {'model__alpha': 0.8},\n",
       "  {'model__alpha': 0.9},\n",
       "  {'model__alpha': 1.0}],\n",
       " 'split0_test_score': array([0.83425414, 0.83425414, 0.84254144, 0.83977901, 0.83977901,\n",
       "        0.83977901, 0.83977901, 0.84530387, 0.8480663 , 0.8480663 ]),\n",
       " 'split1_test_score': array([0.79281768, 0.79005525, 0.79005525, 0.79005525, 0.79005525,\n",
       "        0.79834254, 0.79558011, 0.79834254, 0.80110497, 0.8038674 ]),\n",
       " 'split2_test_score': array([0.81491713, 0.81767956, 0.81767956, 0.81767956, 0.81767956,\n",
       "        0.81767956, 0.81767956, 0.82320442, 0.81767956, 0.82044199]),\n",
       " 'split3_test_score': array([0.7679558 , 0.76519337, 0.7679558 , 0.77348066, 0.77071823,\n",
       "        0.7679558 , 0.77071823, 0.77348066, 0.77348066, 0.77348066]),\n",
       " 'split4_test_score': array([0.76454294, 0.76731302, 0.77285319, 0.77285319, 0.77285319,\n",
       "        0.77562327, 0.77285319, 0.77562327, 0.78116343, 0.77839335]),\n",
       " 'split5_test_score': array([0.81440443, 0.81440443, 0.81717452, 0.81717452, 0.8199446 ,\n",
       "        0.82271468, 0.82825485, 0.82548476, 0.82825485, 0.82825485]),\n",
       " 'split6_test_score': array([0.82271468, 0.82271468, 0.82825485, 0.83102493, 0.82825485,\n",
       "        0.83102493, 0.83102493, 0.82825485, 0.82825485, 0.82825485]),\n",
       " 'split7_test_score': array([0.8033241 , 0.80055402, 0.81163435, 0.80886427, 0.81717452,\n",
       "        0.81717452, 0.82271468, 0.82548476, 0.8199446 , 0.8199446 ]),\n",
       " 'split8_test_score': array([0.82271468, 0.82271468, 0.8199446 , 0.81717452, 0.81717452,\n",
       "        0.8199446 , 0.82271468, 0.81717452, 0.81717452, 0.82271468]),\n",
       " 'split9_test_score': array([0.80886427, 0.81163435, 0.81163435, 0.81163435, 0.81440443,\n",
       "        0.81717452, 0.8199446 , 0.8199446 , 0.8199446 , 0.82271468]),\n",
       " 'split10_test_score': array([0.81491713, 0.82320442, 0.82320442, 0.82044199, 0.82320442,\n",
       "        0.82596685, 0.82596685, 0.82044199, 0.82044199, 0.82596685]),\n",
       " 'split11_test_score': array([0.79558011, 0.79558011, 0.80110497, 0.79834254, 0.79834254,\n",
       "        0.79281768, 0.79005525, 0.78729282, 0.79281768, 0.78453039]),\n",
       " 'split12_test_score': array([0.80662983, 0.80939227, 0.80662983, 0.81491713, 0.82044199,\n",
       "        0.82320442, 0.81767956, 0.81767956, 0.81767956, 0.81767956]),\n",
       " 'split13_test_score': array([0.8121547 , 0.8121547 , 0.8121547 , 0.8121547 , 0.81491713,\n",
       "        0.81767956, 0.80939227, 0.8121547 , 0.81491713, 0.8121547 ]),\n",
       " 'split14_test_score': array([0.81717452, 0.82271468, 0.81717452, 0.81717452, 0.82271468,\n",
       "        0.8199446 , 0.81717452, 0.81440443, 0.81717452, 0.81717452]),\n",
       " 'split15_test_score': array([0.82825485, 0.82825485, 0.83102493, 0.8365651 , 0.83933518,\n",
       "        0.84210526, 0.8365651 , 0.83933518, 0.84210526, 0.83933518]),\n",
       " 'split16_test_score': array([0.80609418, 0.81163435, 0.8033241 , 0.80609418, 0.80609418,\n",
       "        0.80055402, 0.80609418, 0.80886427, 0.80886427, 0.81717452]),\n",
       " 'split17_test_score': array([0.80609418, 0.80609418, 0.8033241 , 0.80609418, 0.81163435,\n",
       "        0.81163435, 0.81440443, 0.81440443, 0.81717452, 0.82271468]),\n",
       " 'split18_test_score': array([0.81163435, 0.80886427, 0.80886427, 0.80886427, 0.80886427,\n",
       "        0.80886427, 0.80886427, 0.80609418, 0.80609418, 0.80609418]),\n",
       " 'split19_test_score': array([0.82271468, 0.8199446 , 0.82825485, 0.82825485, 0.82548476,\n",
       "        0.82548476, 0.82271468, 0.82825485, 0.82548476, 0.82548476]),\n",
       " 'split20_test_score': array([0.81767956, 0.81767956, 0.81491713, 0.81767956, 0.81491713,\n",
       "        0.82044199, 0.81767956, 0.82044199, 0.82044199, 0.81767956]),\n",
       " 'split21_test_score': array([0.81491713, 0.8121547 , 0.80939227, 0.80662983, 0.80939227,\n",
       "        0.80939227, 0.81491713, 0.81491713, 0.81767956, 0.8121547 ]),\n",
       " 'split22_test_score': array([0.82872928, 0.83701657, 0.83425414, 0.83149171, 0.83425414,\n",
       "        0.83425414, 0.83701657, 0.83977901, 0.84530387, 0.84254144]),\n",
       " 'split23_test_score': array([0.82596685, 0.82596685, 0.82596685, 0.82596685, 0.82320442,\n",
       "        0.82596685, 0.82044199, 0.82596685, 0.82320442, 0.82320442]),\n",
       " 'split24_test_score': array([0.80055402, 0.79778393, 0.79501385, 0.79501385, 0.79501385,\n",
       "        0.79501385, 0.79501385, 0.79501385, 0.79501385, 0.79224377]),\n",
       " 'split25_test_score': array([0.82548476, 0.82548476, 0.83102493, 0.8365651 , 0.83102493,\n",
       "        0.8365651 , 0.83379501, 0.8365651 , 0.8365651 , 0.83379501]),\n",
       " 'split26_test_score': array([0.77839335, 0.78393352, 0.78116343, 0.78116343, 0.78116343,\n",
       "        0.78116343, 0.78393352, 0.78116343, 0.7867036 , 0.78393352]),\n",
       " 'split27_test_score': array([0.79224377, 0.79501385, 0.79224377, 0.79501385, 0.79778393,\n",
       "        0.79224377, 0.79501385, 0.79778393, 0.79778393, 0.8033241 ]),\n",
       " 'split28_test_score': array([0.82548476, 0.83102493, 0.83379501, 0.83379501, 0.83379501,\n",
       "        0.83379501, 0.8365651 , 0.84210526, 0.84210526, 0.8365651 ]),\n",
       " 'split29_test_score': array([0.83379501, 0.83379501, 0.82825485, 0.83102493, 0.83102493,\n",
       "        0.82825485, 0.82548476, 0.83102493, 0.82825485, 0.82548476]),\n",
       " 'mean_test_score': array([0.8103669 , 0.81147365, 0.81202716, 0.81276559, 0.81368819,\n",
       "        0.81442535, 0.81433454, 0.81553287, 0.81636262, 0.81617897]),\n",
       " 'std_test_score': array([0.01740888, 0.01788332, 0.01807052, 0.01784602, 0.01787028,\n",
       "        0.01864087, 0.01820235, 0.01889712, 0.01817141, 0.01831849]),\n",
       " 'rank_test_score': array([10,  9,  8,  7,  6,  4,  5,  3,  1,  2])}"
      ]
     },
     "execution_count": 107,
     "metadata": {},
     "output_type": "execute_result"
    }
   ],
   "source": []
  },
  {
   "cell_type": "code",
   "execution_count": 23,
   "metadata": {},
   "outputs": [
    {
     "data": {
      "text/plain": [
       "<bound method BaseEstimator.get_params of GridSearchCV(estimator=Pipeline(steps=[('preprocessor',\n",
       "                                        ColumnTransformer(transformers=[('num',\n",
       "                                                                         Pipeline(steps=[('imputer',\n",
       "                                                                                          SimpleImputer(strategy='median')),\n",
       "                                                                                         ('scaler',\n",
       "                                                                                          MinMaxScaler())]),\n",
       "                                                                         ['minimum_age',\n",
       "                                                                          'maximum_age',\n",
       "                                                                          'enrollment',\n",
       "                                                                          'Num '\n",
       "                                                                          'of '\n",
       "                                                                          'citations']),\n",
       "                                                                        ('pmid_tfidf',\n",
       "                                                                         Pipeline(steps=[('vectorizer',\n",
       "                                                                                          TfidfVectorizer(ngram_range=(1,\n",
       "                                                                                                                       2)))]),\n",
       "                                                                         'PMID_tokens'),\n",
       "                                                                        ('tex...\n",
       "                                                                                          OneHotEncoder(handle_unknown='ignore'))]),\n",
       "                                                                         ['has_expanded_access',\n",
       "                                                                          'gender',\n",
       "                                                                          'healthy_volunteers',\n",
       "                                                                          'country',\n",
       "                                                                          'allocation',\n",
       "                                                                          'intervention_model',\n",
       "                                                                          'masking',\n",
       "                                                                          'is_fda_regulated_drug',\n",
       "                                                                          'is_fda_regulated_device',\n",
       "                                                                          'primary_purpose'])])),\n",
       "                                       ('model', LogisticRegression())]),\n",
       "             n_jobs=-1,\n",
       "             param_grid={'model__C': [0.1, 1, 10],\n",
       "                         'model__penalty': ['l1', 'l2'],\n",
       "                         'model__solver': ['liblinear', 'newton-cg']},\n",
       "             verbose=3)>"
      ]
     },
     "execution_count": 23,
     "metadata": {},
     "output_type": "execute_result"
    }
   ],
   "source": [
    "grid_search.scoring"
   ]
  },
  {
   "cell_type": "code",
   "execution_count": 91,
   "metadata": {},
   "outputs": [
    {
     "name": "stdout",
     "output_type": "stream",
     "text": [
      "              precision    recall  f1-score   support\n",
      "\n",
      "       False       0.89      0.91      0.90      1447\n",
      "        True       0.56      0.51      0.53       334\n",
      "\n",
      "    accuracy                           0.83      1781\n",
      "   macro avg       0.73      0.71      0.72      1781\n",
      "weighted avg       0.83      0.83      0.83      1781\n",
      "\n"
     ]
    }
   ],
   "source": [
    "y_pred = pipe.predict(X_test)\n",
    "print(classification_report(y_test, y_pred))"
   ]
  },
  {
   "cell_type": "code",
   "execution_count": null,
   "metadata": {},
   "outputs": [],
   "source": [
    "grid_search"
   ]
  },
  {
   "cell_type": "code",
   "execution_count": 367,
   "metadata": {},
   "outputs": [
    {
     "name": "stderr",
     "output_type": "stream",
     "text": [
      "C:\\Users\\Public\\Anaconda3\\lib\\site-packages\\sklearn\\linear_model\\_logistic.py:764: ConvergenceWarning: lbfgs failed to converge (status=1):\n",
      "STOP: TOTAL NO. of ITERATIONS REACHED LIMIT.\n",
      "\n",
      "Increase the number of iterations (max_iter) or scale the data as shown in:\n",
      "    https://scikit-learn.org/stable/modules/preprocessing.html\n",
      "Please also refer to the documentation for alternative solver options:\n",
      "    https://scikit-learn.org/stable/modules/linear_model.html#logistic-regression\n",
      "  extra_warning_msg=_LOGISTIC_SOLVER_CONVERGENCE_MSG)\n"
     ]
    },
    {
     "data": {
      "text/plain": [
       "Pipeline(steps=[('preprocessor',\n",
       "                 ColumnTransformer(transformers=[('num',\n",
       "                                                  Pipeline(steps=[('imputer',\n",
       "                                                                   SimpleImputer(strategy='median')),\n",
       "                                                                  ('scaler',\n",
       "                                                                   MinMaxScaler())]),\n",
       "                                                  ['minimum_age', 'maximum_age',\n",
       "                                                   'enrollment',\n",
       "                                                   'Num of citations']),\n",
       "                                                 ('pmid_tfidf',\n",
       "                                                  Pipeline(steps=[('vectorizer',\n",
       "                                                                   TfidfVectorizer())]),\n",
       "                                                  'PMID_tokens'),\n",
       "                                                 ('text_tfidf',\n",
       "                                                  Pipeline(steps=[('vectorizer',\n",
       "                                                                   Tfidf...\n",
       "                                                 ('cat',\n",
       "                                                  Pipeline(steps=[('imputer',\n",
       "                                                                   SimpleImputer(fill_value='missing',\n",
       "                                                                                 strategy='constant')),\n",
       "                                                                  ('ohe',\n",
       "                                                                   OneHotEncoder(handle_unknown='ignore'))]),\n",
       "                                                  ['has_expanded_access',\n",
       "                                                   'gender',\n",
       "                                                   'healthy_volunteers',\n",
       "                                                   'country', 'allocation',\n",
       "                                                   'intervention_model',\n",
       "                                                   'masking',\n",
       "                                                   'is_fda_regulated_drug',\n",
       "                                                   'is_fda_regulated_device',\n",
       "                                                   'primary_purpose'])])),\n",
       "                ('model', LogisticRegression())])"
      ]
     },
     "execution_count": 367,
     "metadata": {},
     "output_type": "execute_result"
    }
   ],
   "source": [
    "pipe.fit(X_train, y_train)"
   ]
  },
  {
   "cell_type": "code",
   "execution_count": 370,
   "metadata": {},
   "outputs": [
    {
     "data": {
      "text/plain": [
       "0.8416619876473891"
      ]
     },
     "execution_count": 370,
     "metadata": {},
     "output_type": "execute_result"
    }
   ],
   "source": [
    "pipe.score(X_test, y_test)"
   ]
  },
  {
   "cell_type": "code",
   "execution_count": 371,
   "metadata": {},
   "outputs": [
    {
     "name": "stdout",
     "output_type": "stream",
     "text": [
      "              precision    recall  f1-score   support\n",
      "\n",
      "       False       0.97      0.86      0.91      1629\n",
      "        True       0.31      0.67      0.42       152\n",
      "\n",
      "    accuracy                           0.84      1781\n",
      "   macro avg       0.64      0.76      0.66      1781\n",
      "weighted avg       0.91      0.84      0.87      1781\n",
      "\n"
     ]
    }
   ],
   "source": [
    "y_pred_tf = pipe.predict(X_test)\n",
    "print(classification_report(y_pred_tf, y_test))"
   ]
  },
  {
   "cell_type": "code",
   "execution_count": 305,
   "metadata": {},
   "outputs": [
    {
     "name": "stderr",
     "output_type": "stream",
     "text": [
      "C:\\Users\\Public\\Anaconda3\\lib\\site-packages\\sklearn\\linear_model\\_logistic.py:764: ConvergenceWarning: lbfgs failed to converge (status=1):\n",
      "STOP: TOTAL NO. of ITERATIONS REACHED LIMIT.\n",
      "\n",
      "Increase the number of iterations (max_iter) or scale the data as shown in:\n",
      "    https://scikit-learn.org/stable/modules/preprocessing.html\n",
      "Please also refer to the documentation for alternative solver options:\n",
      "    https://scikit-learn.org/stable/modules/linear_model.html#logistic-regression\n",
      "  extra_warning_msg=_LOGISTIC_SOLVER_CONVERGENCE_MSG)\n"
     ]
    },
    {
     "data": {
      "text/plain": [
       "Pipeline(steps=[('preprocessor',\n",
       "                 ColumnTransformer(transformers=[('num',\n",
       "                                                  Pipeline(steps=[('imputer',\n",
       "                                                                   SimpleImputer(strategy='median')),\n",
       "                                                                  ('scaler',\n",
       "                                                                   MinMaxScaler())]),\n",
       "                                                  ['minimum_age', 'maximum_age',\n",
       "                                                   'enrollment',\n",
       "                                                   'Num of citations']),\n",
       "                                                 ('cat',\n",
       "                                                  Pipeline(steps=[('imputer',\n",
       "                                                                   SimpleImputer(fill_value='missing',\n",
       "                                                                                 strategy='constant')),\n",
       "                                                                  ('ohe',\n",
       "                                                                   OneHotEncoder(handle_unknown='ignore'))]),\n",
       "                                                  ['has_expanded_access',\n",
       "                                                   'gender',\n",
       "                                                   'healthy_volunteers',\n",
       "                                                   'country', 'allocation',\n",
       "                                                   'intervention_model',\n",
       "                                                   'masking',\n",
       "                                                   'is_fda_regulated_drug',\n",
       "                                                   'is_fda_regulated_device',\n",
       "                                                   'primary_purpose'])])),\n",
       "                ('model', LogisticRegression())])"
      ]
     },
     "execution_count": 305,
     "metadata": {},
     "output_type": "execute_result"
    }
   ],
   "source": [
    "pipe.fit(X_train, y_train)\n",
    "#X_train.info"
   ]
  },
  {
   "cell_type": "code",
   "execution_count": 129,
   "metadata": {},
   "outputs": [],
   "source": [
    "import pickle\n",
    "\n",
    "def read_corpus_text(pdfs):\n",
    "    for pdf in pdfs:\n",
    "        print(pdf)\n",
    "        raw = parser.from_file(pdf)\n",
    "        num = re.findall(r'\\d+', pdf)\n",
    "        num = ''.join(num)\n",
    "        #tokens = get_tokens(str(raw['content']))\n",
    "        tokens = word_tokenize(str(raw['content']))\n",
    "        with open('./tokenss/'+num+'.txt', 'wb') as file:\n",
    "            pickle.dump(tokens, file)\n",
    "    \n",
    "    \n",
    "def prepare_corpus():\n",
    "    text = []\n",
    "    for dir in os.listdir('./tokenss/'):\n",
    "        with open('./tokenss/'+ dir, 'rb') as file:\n",
    "            tokens = pickle.load(file)\n",
    "        text.append(tokens)\n",
    "            #yield gensim.corpora.Dictionary(tokens, dir)\n",
    "    #for n, line in enumerate(brief_summary):\n",
    "     #   yield gensim.models.doc2vec.TaggedDocument(line,brief_summary_index[n])\n",
    "    return text"
   ]
  },
  {
   "cell_type": "code",
   "execution_count": 49,
   "metadata": {},
   "outputs": [],
   "source": [
    "def isin(str_of_pmids):\n",
    "    list_of_pmids = str_of_pmids.split(' ')\n",
    "    tokens = []\n",
    "    for pmid in list_of_pmids:\n",
    "        if pmid in tokens_list:\n",
    "            with open('./tokenss/'+pmid+'.txt', 'rb') as file:\n",
    "                tokens.append(pickle.load(file)\n",
    "                              \n",
    "    tokens = [ ', '.join(token) for token in tokens]\n",
    "    return ' '.join(tokens)\n",
    "    "
   ]
  },
  {
   "cell_type": "code",
   "execution_count": 159,
   "metadata": {},
   "outputs": [
    {
     "name": "stdout",
     "output_type": "stream",
     "text": [
      "Fitting 5 folds for each of 10 candidates, totalling 50 fits\n"
     ]
    },
    {
     "name": "stderr",
     "output_type": "stream",
     "text": [
      "[Parallel(n_jobs=-1)]: Using backend LokyBackend with 4 concurrent workers.\n",
      "[Parallel(n_jobs=-1)]: Done  42 tasks      | elapsed: 14.1min\n",
      "[Parallel(n_jobs=-1)]: Done  50 out of  50 | elapsed: 18.9min finished\n",
      "C:\\Users\\Public\\Anaconda3\\lib\\site-packages\\sklearn\\ensemble\\_forest.py:540: UserWarning: Some inputs do not have OOB scores. This probably means too few trees were used to compute any reliable oob estimates.\n",
      "  warn(\"Some inputs do not have OOB scores. \"\n",
      "C:\\Users\\Public\\Anaconda3\\lib\\site-packages\\sklearn\\ensemble\\_forest.py:545: RuntimeWarning: invalid value encountered in true_divide\n",
      "  predictions[k].sum(axis=1)[:, np.newaxis])\n"
     ]
    }
   ],
   "source": [
    "from sklearn.model_selection import RandomizedSearchCV\n",
    "#from numpy import \n",
    "#model\n",
    "MOD = RandomForestClassifier() \n",
    "#Implemente RandomSearchCV\n",
    "m_params = { \n",
    "            \"RF\": {\n",
    "                    \"n_estimators\" : np.linspace(2, 20, 10, dtype = \"int\"),  \n",
    "                    \"max_depth\": [5, 20, 30, None], \n",
    "                    \"min_samples_split\": np.linspace(2, 50, 10, dtype = \"int\"),  \n",
    "                    \"max_features\": [\"sqrt\", \"log2\",10, 20, None],\n",
    "                    \"oob_score\": [True],\n",
    "                    \"bootstrap\": [True]\n",
    "                    },\n",
    "            }\n",
    "scoreFunction = {\"recall\": \"recall\", \"precision\": \"precision\"}\n",
    "random_search = RandomizedSearchCV(MOD,\n",
    "                               param_distributions = m_params['RF'], \n",
    "                                       n_iter = 10,\n",
    "                                       n_jobs=-1,\n",
    "                                       scoring = scoreFunction,               \n",
    "                                       refit = \"recall\",\n",
    "                                       return_train_score = True,\n",
    "                                       random_state = 42,\n",
    "                                       cv = 5,\n",
    "                                        verbose = 1) \n",
    "\n",
    "    #trains and optimizes the model\n",
    "random_search.fit(X_train_transformed, y_train)\n",
    "\n",
    "    #recover the best model\n",
    "MOD = random_search.best_estimator_"
   ]
  },
  {
   "cell_type": "code",
   "execution_count": 575,
   "metadata": {},
   "outputs": [
    {
     "name": "stdout",
     "output_type": "stream",
     "text": [
      "              precision    recall  f1-score   support\n",
      "\n",
      "       False       0.87      0.91      0.89      1398\n",
      "        True       0.61      0.49      0.54       383\n",
      "\n",
      "    accuracy                           0.82      1781\n",
      "   macro avg       0.74      0.70      0.72      1781\n",
      "weighted avg       0.81      0.82      0.82      1781\n",
      "\n"
     ]
    }
   ],
   "source": [
    "log = LogisticRegression(solver =  'newton-cg', C = 10)\n",
    "log.fit(X_train_resampled, y_train_resampled)\n",
    "\n",
    "y_pred = log.predict(X_test_transformed)\n",
    "\n",
    "print(classification_report(y_test, y_pred))"
   ]
  },
  {
   "cell_type": "code",
   "execution_count": 640,
   "metadata": {},
   "outputs": [
    {
     "name": "stdout",
     "output_type": "stream",
     "text": [
      "              precision    recall  f1-score   support\n",
      "\n",
      "       False       0.85      0.95      0.90      1398\n",
      "        True       0.71      0.40      0.51       383\n",
      "\n",
      "    accuracy                           0.84      1781\n",
      "   macro avg       0.78      0.68      0.71      1781\n",
      "weighted avg       0.82      0.84      0.82      1781\n",
      "\n"
     ]
    }
   ],
   "source": [
    "log = LogisticRegression(solver = 'liblinear', penalty = 'l2', C= 1)\n",
    "log.fit(X_train_resampled, y_train_resampled)\n",
    "\n",
    "y_pred = log.predict(X_test_transformed)\n",
    "\n",
    "print(classification_report(y_test, y_pred))"
   ]
  },
  {
   "cell_type": "markdown",
   "metadata": {},
   "source": [
    "## Conclusion\n",
    "\n",
    "After cleaning the data and several iterations of different machine learning models, we achieved an accuracy of around 84%, with a 70% precision rate. With more data and institutional access to PMIDs we can evaluate the validity of this precision rate. Given a success rate of around 15%, we can say this prediction model returns significant results. Howver I would caution the use of these models with unseen interventions.\n",
    "\n",
    "We focused on achieving a higher precision rate to avoid a higher false positive rate. In this scenario, we would like to decrease the amount of false positive predictions because a high amount of false positive predictions would give us a false sense of an accurate model. A false negative would not bear the same consequence as a false positive. A false positive can lead to a clinical trial that is truly unsuccessful thereby wasting millions of dollars and time that can be on a clinical trial that would actually succeed.\n",
    "\n",
    "## Recommendations\n",
    "\n",
    "1. This dataset is small. In order to gain more confidence in the model, institutional access to PMIDs is required.\n",
    "\n",
    "2. After an analysis with more data we can deploy this model with a simple GUI for business partners interested in performing analysis prior to starting a clinical trial\n",
    "\n",
    "3. Be wary of unseen interventions as the results may be unpredictable.\n",
    "\n"
   ]
  },
  {
   "cell_type": "code",
   "execution_count": null,
   "metadata": {},
   "outputs": [],
   "source": []
  }
 ],
 "metadata": {
  "kernelspec": {
   "display_name": "Python 3",
   "language": "python",
   "name": "python3"
  },
  "language_info": {
   "codemirror_mode": {
    "name": "ipython",
    "version": 3
   },
   "file_extension": ".py",
   "mimetype": "text/x-python",
   "name": "python",
   "nbconvert_exporter": "python",
   "pygments_lexer": "ipython3",
   "version": "3.7.4"
  }
 },
 "nbformat": 4,
 "nbformat_minor": 2
}
