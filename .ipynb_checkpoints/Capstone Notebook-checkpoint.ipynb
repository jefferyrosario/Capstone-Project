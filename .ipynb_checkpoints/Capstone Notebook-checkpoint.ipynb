{
 "cells": [
  {
   "cell_type": "code",
   "execution_count": 1,
   "metadata": {},
   "outputs": [
    {
     "name": "stderr",
     "output_type": "stream",
     "text": [
      "C:\\Users\\Public\\Anaconda3\\lib\\site-packages\\statsmodels\\tools\\_testing.py:19: FutureWarning: pandas.util.testing is deprecated. Use the functions in the public API at pandas.testing instead.\n",
      "  import pandas.util.testing as tm\n"
     ]
    }
   ],
   "source": [
    "import pandas as pd\n",
    "import gensim\n",
    "import string\n",
    "import numpy as np\n",
    "import glob\n",
    "import os\n",
    "from bs4 import BeautifulSoup\n",
    "from zipfile import ZipFile\n",
    "import csv\n",
    "import xml.etree.ElementTree as ET\n",
    "from pathlib import Path, PureWindowsPath\n",
    "import csv\n",
    "from nltk.corpus import stopwords\n",
    "from tika import parser\n",
    "from nltk.stem import PorterStemmer\n",
    "import re\n",
    "import sklearn as sk\n",
    "from sklearn.linear_model import LogisticRegression, PoissonRegressor\n",
    "from sklearn.preprocessing import MinMaxScaler, OneHotEncoder, PolynomialFeatures\n",
    "from sklearn.model_selection import cross_val_score, train_test_split, GridSearchCV\n",
    "from sklearn.metrics import classification_report, auc\n",
    "from imblearn.over_sampling import SMOTE\n",
    "import xgboost as xgb\n",
    "import pickle\n",
    "from collections import defaultdict\n",
    "from sklearn.pipeline import Pipeline\n",
    "from sklearn.impute import SimpleImputer, KNNImputer\n",
    "from sklearn.compose import ColumnTransformer, make_column_selector, make_column_transformer\n",
    "from nltk.tokenize import RegexpTokenizer, word_tokenize\n",
    "from gensim.sklearn_api import D2VTransformer, W2VTransformer, LdaTransformer\n",
    "from sklearn.feature_extraction.text import CountVectorizer, TfidfVectorizer\n",
    "from keras.wrappers.scikit_learn import KerasClassifier\n",
    "from keras.models import Sequential\n",
    "from imblearn.over_sampling import SMOTE\n",
    "from imblearn.under_sampling import RandomUnderSampler\n",
    "from imblearn.pipeline import Pipeline as imbPipe\n",
    "from sklearn.feature_extraction import DictVectorizer\n",
    "import matplotlib.pyplot as plt\n",
    "import seaborn as sns\n",
    "import PyPDF2\n",
    "\n"
   ]
  },
  {
   "cell_type": "code",
   "execution_count": 3,
   "metadata": {},
   "outputs": [],
   "source": [
    "def tokenize_col(df, cols):\n",
    "    extra_step = ['intervention_name', 'intervention_type', 'textblock', 'source', 'condition']\n",
    "    for col in cols:\n",
    "        if col in extra_step: \n",
    "            df.loc[:, col] = df.loc[:, col].map(lambda x:' '.join(x))    \n",
    "        df.loc[:, col] = df.loc[:, col].map(get_tokens)  \n",
    "    return df"
   ]
  },
  {
   "cell_type": "code",
   "execution_count": 28,
   "metadata": {},
   "outputs": [],
   "source": [
    "def change_datatype(df, datatype, cols):\n",
    "    for col in cols:\n",
    "        if col == 'minimum_age' or col == 'maximum_age':\n",
    "            df.loc[:, col] = df.loc[:, col].map(change_age)\n",
    "        df.loc[:, col] = df.loc[:, col].astype(datatype)    \n",
    "    return df\n"
   ]
  },
  {
   "cell_type": "code",
   "execution_count": 4,
   "metadata": {},
   "outputs": [],
   "source": [
    "def conv_pdf(pdf):\n",
    "    fileObject = open(pdf, 'rb')\n",
    "    pdf_reader = PyPDF2.PdfFileReader(fileObject)\n",
    "    pages = pdf_reader.getNumPages()\n",
    "    text = []\n",
    "    for n in list(range(pages)):\n",
    "        page_text = pdf_reader.getPage(n)\n",
    "        text.append(page_text.extractText())\n",
    "    text = ' '.join(text)\n",
    "    return text\n",
    "\n",
    "\n",
    "\n",
    "def get_tokens(tokens):\n",
    "    \n",
    "    tokens = word_tokenize(tokens)\n",
    "    #split text in words and implement lower case\n",
    "    tokens = [word.lower() for word in tokens]\n",
    "   # hyphen = '-'\n",
    "    #tokens = [word+word if word.endswith(hyphen) else word for word in tokens]\n",
    "    tokens = [w for w in tokens if not w == ',']\n",
    "    \n",
    "    #remove http\n",
    "    tokens = [re.sub(r'http\\S+', '',w) for w in tokens]\n",
    "    \n",
    "    # combine hyphenated words\n",
    "    tok = []\n",
    "    tokens_to_remove= []\n",
    "    for n,w in enumerate(tokens):\n",
    "        if re.match('(.)*[-]$', w):\n",
    "            w = w.rstrip('-')\n",
    "            if n+1 ==len(tokens):\n",
    "                next\n",
    "            else:\n",
    "                w = w + tokens[n+1]\n",
    "            tokens_to_remove.append(n+1)\n",
    "        tok.append(w)\n",
    "       # if n+1 == len(tokens):\n",
    "        #    tok.append(w)\n",
    "        #else:\n",
    "         #   tok.append(w)\n",
    "            \n",
    "    tok = [w for i, w in enumerate(tok) if i not in tokens_to_remove]\n",
    "    \n",
    "    \n",
    "    #remove punctuation from each word\n",
    "    table = str.maketrans('', '', string.punctuation)\n",
    "    stripped = [w.translate(table) for w in tok]\n",
    "\n",
    "    #remove remaining words that are not alphabetic\n",
    "    words = [word for word in stripped if word.isalpha()] \n",
    "    #words = stripped\n",
    "    #filter out stopwords\n",
    "    stop_words = set(stopwords.words('english'))\n",
    "    #letters = re.search([a-zA-Z])\n",
    "    words = [w for w in words if not w in stop_words]\n",
    "    #\n",
    "    toke = []\n",
    "    \n",
    "    #remove single characters\n",
    "    for w in words:\n",
    "        if len(w) == 1:\n",
    "            if re.match('[a-z]', w):\n",
    "                next\n",
    "        else:\n",
    "            toke.append(w)         \n",
    "    \n",
    "    return toke\n",
    "\n",
    "\n"
   ]
  },
  {
   "cell_type": "markdown",
   "metadata": {},
   "source": [
    "# Problem Statement\n",
    "\n",
    "Clinical Trials Exploration\n",
    "\n",
    "Company A is dedicated to bringing down the cost and improving the outcomes of the drug discovery pipeline. As such we are very interested in understanding the drivers behind successful and unsuccessful clinical trials.\n",
    "\n",
    "\n",
    "\n",
    "### Phase 1:\n",
    "\n",
    "https://www.clinicaltrials.gov/\n",
    "Contains all 270k clinical trials performed in the US.  Each of these clinical trials will have papers associated with it.  Grab the clinical trials and the associated papers and store them in a way that links the two.  You may need to figure out how to grab the associated papers (they will not be stored in the same repository, and you may need to grab them using a different REST API).\n",
    "\n",
    "\n",
    "### Phase 2:\n",
    "Once we have the data all downloaded and linked, we’ll want to start looking for features that may drive whether or not the clinical trial was a success or a failure.  This will mean combing through the trial itself for “features” that we can use (e.g. number of citations on the associated papers, which drugs were under study, phase of the trial, etc . . .).\n",
    "\n",
    "Some pointers:\n",
    "Start by understanding the clinical trials themselves.  Google what you can, and if you still have specific questions around what particular things mean I can get those questions answered by people we have over here.  It will be very important that you understand what the fields in the trial mean in order to make good decisions on what features might make a difference.\n",
    "\n",
    "I’m most interested in doing some deep text-based analysis on the papers associated with the trials themselves.  Try to set things up so that this analysis will be easy.  We’ll want to ask questions like “for all the successful trials, let’s run this algorithm against the associated papers”.  We’ll provide the algorithm (or some pointers to where you can download it).  \n",
    "\n"
   ]
  },
  {
   "cell_type": "markdown",
   "metadata": {},
   "source": [
    "## Data Collection\n",
    "\n",
    "There are two ways to go about retrieving the clinical trials: download all clinical trails in a .zip file from clinicaltrials.gov or you can use their api. We will download the zip folder containing all the clinical trials.\n",
    "\n",
    "Clinical trials point to scientific research papers because the papers indicate that a drug works in some capacity in vivo for example. We will need to collect all of the research papers associated with each clinical trial. Downloading the research papers requires parsing the PMIDs from the clinical trials, creating a list, and downloading it using : https://github.com/billgreenwald/Pubmed-Batch-Download"
   ]
  },
  {
   "cell_type": "code",
   "execution_count": 6,
   "metadata": {},
   "outputs": [],
   "source": [
    "# assign root directory\n",
    "rootdir = './NCT_files/'\n",
    "\n",
    "# make a list of all the nct_files in the directory\n",
    "nct_files = []\n",
    "for subddir, dirs, files in os.walk(rootdir):\n",
    "    for file in files:\n",
    "        nct_files.append(os.path.join(subddir,file).replace('\\\\', '/'))\n"
   ]
  },
  {
   "cell_type": "code",
   "execution_count": null,
   "metadata": {},
   "outputs": [],
   "source": [
    "#view an nct file\n",
    "nct_files[1]\n"
   ]
  },
  {
   "cell_type": "code",
   "execution_count": 16,
   "metadata": {},
   "outputs": [],
   "source": [
    "#\n",
    "all_xmls = []\n",
    "zipfile = './AllPublicXML.zip'\n",
    "with ZipFile(zipfile, 'r') as myzip:\n",
    "    all_xmls.append(zip.namelist())\n",
    "    "
   ]
  },
  {
   "cell_type": "code",
   "execution_count": 346,
   "metadata": {},
   "outputs": [],
   "source": [
    "def split_list(alist, wanted_parts=1):\n",
    "    length = len(alist)\n",
    "    return [ alist[i*length // wanted_parts: (i+1)*length // wanted_parts] \n",
    "             for i in range(wanted_parts) ]\n",
    "\n",
    "# split list into 30 parts\n",
    "PMIDs_split = split_list(PMIDs,30)\n",
    "\n",
    "# create 30 .csv files with a list of PMIDs\n",
    "for i, pmid in enumerate(PMIDs_split):\n",
    "    pd.DataFrame(pmid).to_csv('./list_of_PMIDs'+str(i)+'.csv', index = False)"
   ]
  },
  {
   "cell_type": "raw",
   "metadata": {},
   "source": [
    "Clinical trials.gov uses XML markup. We will use element tree to parse the XML and find the tags we want to use. The first second and third layer describes the parent, child, grandchild dynamic that is used by the element tree module.\n",
    "\n",
    "first layer\n",
    "\n",
    "brief_title\n",
    "source\n",
    "overall_status\n",
    "study_type\n",
    "has_expanded_access\n",
    "condition\n",
    "study_first_posted\n",
    "verification_date\n",
    "last_update_posted\n",
    "keyword\n",
    "results\n",
    "phase\n",
    "enrollment_type\n",
    "\n",
    "second_layer\n",
    "\n",
    "textblock\n",
    "observational_model\n",
    "time_perspective\n",
    "intervention_type\n",
    "intervention_name\n",
    "gender\n",
    "minimum_age\n",
    "maximum_age\n",
    "healthy_volunteers\n",
    "country\n",
    "mesh_term\n",
    "allocation\n",
    "intervention_model\n",
    "primary_purpose\n",
    "masking\n",
    "\n",
    "\n",
    "\n",
    "third layer\n",
    "\n",
    "textblock\n",
    "\n"
   ]
  },
  {
   "cell_type": "code",
   "execution_count": 60,
   "metadata": {},
   "outputs": [
    {
     "name": "stderr",
     "output_type": "stream",
     "text": [
      "C:\\Users\\Public\\Anaconda3\\lib\\site-packages\\ipykernel_launcher.py:5: FutureWarning: Sorting because non-concatenation axis is not aligned. A future version\n",
      "of pandas will change to not sort by default.\n",
      "\n",
      "To accept the future behavior, pass 'sort=False'.\n",
      "\n",
      "To retain the current behavior and silence the warning, pass 'sort=True'.\n",
      "\n",
      "  \"\"\"\n"
     ]
    }
   ],
   "source": [
    "dataframe = parse_files(nct_files)"
   ]
  },
  {
   "cell_type": "markdown",
   "metadata": {},
   "source": [
    "\n",
    "\n",
    "## Pre-processing\n",
    "\n",
    "DataFrame construction:\n",
    "1. Download the dataset from clinicaltrials.gov\n",
    "2. Examine the XML files to determine what elements I would like to extract\n",
    "3. Go through every XML file for the specified elements in child_list and gchild_list. Elements are shown in the dataframe above.\n",
    "4. Determine what part of the dataset is relevant in making a prediction. Studies selected to go further with the analysis included completed, terminated, and suspended studies. This is because we at least have the outcome of these studies. We also want studies that have a phase shown.\n",
    "5. Fill in missing values. \n",
    "\n",
    "\n",
    "Now we want to preprocess the text. These texts would be in the columsn 'intervention_name', 'intervention_type', '"
   ]
  },
  {
   "cell_type": "code",
   "execution_count": 384,
   "metadata": {},
   "outputs": [],
   "source": [
    "child_list = ['brief_title', 'source', 'overall_status', 'study_type','has_expanded_access','condition',\n",
    "                'study_first_posted', 'verification_date', 'last_update_posted', 'keyword', 'phase',\n",
    "              'enrollment', 'intervention_browse', 'PMID']\n",
    "gchild_list = ['textblock', 'nct_id','observational_model', 'time_perspective', 'intervention_type',\n",
    "               'is_fda_regulated_drug', 'is_fda_regulated_device', \n",
    "               'defined Population', 'intervention_type', 'intervention_name', \n",
    "               'gender', 'minimum_age', 'maximum_age','healthy_volunteers', 'country',\n",
    "               'mesh_term', 'allocation', 'intervention_model', 'primary_purpose', 'masking','PMID']\n",
    "\n",
    "def parse_files(nct):\n",
    "    dataframes = []\n",
    "    for f in nct:\n",
    "            dataframes.append(parse_xml(f))\n",
    "    df = pd.concat(dataframes)\n",
    "    return df\n",
    "      \n",
    "  \n",
    "\n",
    "def parse_xml(xml):\n",
    "        #create empty lists for the tag and text\n",
    "        first_layer_tag = []\n",
    "        first_layer_text = []\n",
    "        \n",
    "        tree = etree.parse(xml)\n",
    "        root = tree.getroot()\n",
    "        \n",
    "        for child in root.iter([child_list]):\n",
    "            first_layer_tag.append(child.tag)\n",
    "            first_layer_text.append(child.text)\n",
    "        for gchild in root.iter([gchild_list]):\n",
    "            first_layer_tag.append(gchild.tag)\n",
    "            first_layer_text.append(gchild.text)\n",
    "        df = pd.DataFrame(data = [first_layer_text],\n",
    "                          columns = first_layer_tag\n",
    "                          )\n",
    "        df = df.loc[:,~df.columns.duplicated()]\n",
    "        return df\n",
    "    \n",
    "#dataframe = parse_files(nct_files)\n",
    "            "
   ]
  },
  {
   "cell_type": "code",
   "execution_count": 7,
   "metadata": {},
   "outputs": [],
   "source": [
    "child_list = ['brief_title', 'source', 'overall_status', 'study_type','has_expanded_access','condition',\n",
    "                'study_first_posted', 'verification_date', 'last_update_posted', 'keyword', 'phase',\n",
    "              'enrollment', 'intervention_browse', 'PMID']\n",
    "gchild_list = ['textblock', 'nct_id','observational_model', 'time_perspective', 'intervention_type',\n",
    "               'is_fda_regulated_drug', 'is_fda_regulated_device', \n",
    "               'defined Population', 'intervention_type', 'intervention_name', \n",
    "               'gender', 'minimum_age', 'maximum_age','healthy_volunteers', 'country',\n",
    "               'mesh_term', 'allocation', 'intervention_model', 'primary_purpose', 'masking']\n",
    "\n",
    "\n",
    "\n",
    "np_child_list = np.array(['brief_title', 'source', 'overall_status', 'study_type','has_expanded_access','condition',\n",
    "                'study_first_posted', 'verification_date', 'last_update_posted', 'keyword', 'phase',\n",
    "              'enrollment', 'intervention_browse', 'PMID'])\n",
    "np_gchild_list = np.array(['textblock', 'nct_id','observational_model', 'time_perspective', 'intervention_type',\n",
    "               'is_fda_regulated_drug', 'is_fda_regulated_device', \n",
    "               'defined Population', 'intervention_type', 'intervention_name', \n",
    "               'gender', 'minimum_age', 'maximum_age','healthy_volunteers', 'country',\n",
    "               'mesh_term', 'allocation', 'intervention_model', 'primary_purpose', 'masking'])\n",
    "\n",
    "\n",
    "def parse_files(nct):\n",
    "    dataframes = []\n",
    "    for f in nct:\n",
    "            dataframes.append(parse_xml(f))\n",
    "    df = pd.concat(dataframes)\n",
    "    return df\n",
    "\n",
    "\n",
    "\n",
    "def parse_xml(xml):\n",
    "        #create empty lists for the tag and text\n",
    "    first_layer_tag = []\n",
    "    first_layer_text = []\n",
    "        \n",
    "    tree = etree.parse(xml)\n",
    "    root = tree.getroot()\n",
    "        \n",
    "    for child in root.iter([np_child_list]+[np_gchild_list]):\n",
    "        first_layer_tag.append(child.tag)\n",
    "        first_layer_text.append(child.text)\n",
    "        \n",
    "   # for gchild in root.iter([np_gchild_list]):\n",
    "    #    first_layer_tag.append(gchild.tag)\n",
    "     #   first_layer_text.append(gchild.text)\n",
    "    df = pd.DataFrame(data = np.array([first_layer_text]),\n",
    "                      columns = first_layer_tag)\n",
    "    if 'PMID' in df.columns: \n",
    "        pmids_df = df.loc[:, ['PMID']]\n",
    "        transpose_df = pmids_df.transpose()\n",
    "        np_pmids = transpose_df.to_numpy()\n",
    "        flattened = list(np_pmids.reshape(1,len(np_pmids)).flatten())\n",
    "        pmids = ', '.join(flattened)\n",
    "        df['PMIDs'] = pmids\n",
    "        \n",
    "    \n",
    "    #df = df.loc[:,~df.columns.duplicated()]\n",
    "    return df\n",
    "#parse"
   ]
  },
  {
   "cell_type": "code",
   "execution_count": 2,
   "metadata": {},
   "outputs": [],
   "source": [
    "import PyPDF2\n",
    "def isFullPdf(f):\n",
    "    end_content = ''\n",
    "    start_content = ''\n",
    "    size = os.path.getsize(f)\n",
    "    if size < 1024: return False \n",
    "    with open(f, 'rb') as fin: \n",
    "        #start content \n",
    "        fin.seek(0, 0)\n",
    "        start_content = fin.read(1024)\n",
    "        start_content = start_content.decode(\"ascii\", 'ignore' )\n",
    "        fin.seek(-1024, 2)\n",
    "        end_content = fin.read()\n",
    "        end_content = end_content.decode(\"ascii\", 'ignore' )\n",
    "    start_flag = False\n",
    "    #%PDF\n",
    "    if start_content.count('%PDF') > 0:\n",
    "        start_flag = True\n",
    "    \n",
    "        \n",
    "    if end_content.count('%%EOF') and start_flag > 0:\n",
    "        return True\n",
    "    eof = bytes([0])\n",
    "    eof = eof.decode(\"ascii\")\n",
    "    if end_content.endswith(eof) and start_flag:\n",
    "        return True\n",
    "    return False\n",
    "\n"
   ]
  },
  {
   "cell_type": "code",
   "execution_count": 4,
   "metadata": {},
   "outputs": [],
   "source": [
    "def repeat_columns(col):\n",
    "    if col in df.columns:\n",
    "        col_df = df.loc[:, [col]]\n",
    "        transpose_df = col_df.transpose()\n",
    "        np_col = transpose_df.to_numpy()\n",
    "        flattened = list(np_col.reshape(1,len(np_col)).flatten())\n",
    "        cols = ', '.join(flattened)\n",
    "        return cols\n",
    "    else:\n",
    "        None"
   ]
  },
  {
   "cell_type": "code",
   "execution_count": 3,
   "metadata": {},
   "outputs": [],
   "source": [
    "dirs = os.listdir('./tokens')\n",
    "def pmid_text(pmids):\n",
    "    pmid_t = []\n",
    "    for pmid in pmids:\n",
    "        if pmid+'.txt' in dirs:\n",
    "            with open('./fetched_pdfs/'\n",
    "                      +pmid+'.txt', 'rb') as file:\n",
    "                pmid_t.append(pickle.load(file))\n",
    "    else:\n",
    "        next\n",
    "    return pmid_t "
   ]
  },
  {
   "cell_type": "code",
   "execution_count": 554,
   "metadata": {},
   "outputs": [],
   "source": [
    "PMIDs = []\n",
    "#drop na values and convert series to numpy array\n",
    "PMIDs_to_scrape = df['PMIDs'].dropna().to_numpy()\n",
    "\n",
    "#remove comma from each value\n",
    "PMIDs_to_scrape = [l.replace(\",\", \"\") for l in PMIDs_to_scrape]\n",
    "\n",
    "#split pmids \n",
    "PMIDs_to_scrape = [l.split(' ')for l in PMIDs_to_scrape]\n",
    "\n",
    "\n",
    "for pmids in PMIDs_to_scrape:\n",
    "    for pmid in pmids:\n",
    "        PMIDs.append(pmid)\n",
    "\n",
    "#capture unique PMIDs      \n",
    "PMIDs = set(PMIDs)\n",
    "PMIDS = list(PMIDs)"
   ]
  },
  {
   "cell_type": "code",
   "execution_count": 189,
   "metadata": {},
   "outputs": [],
   "source": [
    "pdfs = os.listdir('./fetched_pdfs/')\n",
    "pdfs = ['./fetched_pdfs/'+pdf for pdf in pdfs]"
   ]
  },
  {
   "cell_type": "code",
   "execution_count": 8,
   "metadata": {},
   "outputs": [],
   "source": [
    "def parse_xml2(xml):\n",
    "    l1 = []\n",
    "    l2 = []\n",
    "    \n",
    "    tree = etree.parse(xml)\n",
    "    root = tree.getroot()\n",
    "    series= {c:[] for c in child_list + gchild_list}\n",
    "    \n",
    "    for child in root.iter(child_list + gchild_list):\n",
    "        l1.append(child.tag)\n",
    "        l2.append(child.text)\n",
    "        series[child.tag].append(child.text)\n",
    "        #print(child.tag, child.text)\n",
    "        \n",
    "    return series\n",
    "\n",
    "\n",
    "#parse_xml2('./NCT_files/NCT0003xxxx/NCT00030030.xml')\n",
    "#ex = parse_xml2('./NCT_files/NCT0007xxxx/NCT00074412.xml')        \n",
    "\n",
    "def return_lists(parsed_xml):\n",
    "    \n",
    "    l1 = np.array(list(parsed_xml.keys())).transpose()\n",
    "    l2 = np.array(list(parsed_xml.values())).transpose()\n",
    "\n",
    "    return l1, l2\n",
    "\n",
    "for file in nct_files:\n",
    "    seri = parse_xml2(file)\n",
    "    l1, l2 = return_lists(seri)\n",
    "    df_s.append(pd.DataFrame(data = [l2], columns=l1))\n"
   ]
  },
  {
   "cell_type": "markdown",
   "metadata": {},
   "source": [
    "Drop columns related to observational studies and other variables we will not need for analysis. "
   ]
  },
  {
   "cell_type": "code",
   "execution_count": 11,
   "metadata": {},
   "outputs": [],
   "source": [
    "df.drop(labels = ['observational_model', 'intervention_browse',\n",
    "                    'time_perspective', 'keyword', 'defined Population', 'mesh_term'],\n",
    "          axis = 1, inplace = True)"
   ]
  },
  {
   "cell_type": "code",
   "execution_count": 13,
   "metadata": {},
   "outputs": [],
   "source": [
    "#combine the dataset where the overall_status is 'completed terminated or suspended'\n",
    "df = pd.concat((completed, terminated, suspended))"
   ]
  },
  {
   "cell_type": "markdown",
   "metadata": {},
   "source": [
    "Load the dataset."
   ]
  },
  {
   "cell_type": "code",
   "execution_count": 63,
   "metadata": {},
   "outputs": [],
   "source": [
    "org_df = open('./original_df.pkl', 'rb')\n",
    "org_df = pickle.load(org_df)"
   ]
  },
  {
   "cell_type": "code",
   "execution_count": 67,
   "metadata": {},
   "outputs": [
    {
     "name": "stdout",
     "output_type": "stream",
     "text": [
      "<class 'pandas.core.frame.DataFrame'>\n",
      "Int64Index: 354534 entries, 0 to 0\n",
      "Data columns (total 33 columns):\n",
      " #   Column                   Non-Null Count   Dtype  \n",
      "---  ------                   --------------   -----  \n",
      " 0   brief_title              354534 non-null  object \n",
      " 1   source                   354534 non-null  object \n",
      " 2   overall_status           354534 non-null  object \n",
      " 3   study_type               354534 non-null  object \n",
      " 4   has_expanded_access      348493 non-null  object \n",
      " 5   condition                353674 non-null  object \n",
      " 6   study_first_posted       354534 non-null  object \n",
      " 7   verification_date        353692 non-null  object \n",
      " 8   last_update_posted       354534 non-null  object \n",
      " 9   keyword                  231168 non-null  object \n",
      " 10  phase                    277467 non-null  object \n",
      " 11  enrollment               347826 non-null  object \n",
      " 12  intervention_browse      125840 non-null  object \n",
      " 13  PMID                     354534 non-null  object \n",
      " 14  textblock                354534 non-null  object \n",
      " 15  nct_id                   354534 non-null  object \n",
      " 16  observational_model      69496 non-null   object \n",
      " 17  time_perspective         72522 non-null   object \n",
      " 18  intervention_type        354534 non-null  object \n",
      " 19  is_fda_regulated_drug    130891 non-null  object \n",
      " 20  is_fda_regulated_device  130883 non-null  object \n",
      " 21  defined Population       0 non-null       float64\n",
      " 22  intervention_name        354534 non-null  object \n",
      " 23  gender                   353673 non-null  object \n",
      " 24  minimum_age              353673 non-null  object \n",
      " 25  maximum_age              353673 non-null  object \n",
      " 26  healthy_volunteers       347490 non-null  object \n",
      " 27  country                  318275 non-null  object \n",
      " 28  mesh_term                310353 non-null  object \n",
      " 29  allocation               271090 non-null  object \n",
      " 30  intervention_model       270778 non-null  object \n",
      " 31  primary_purpose          269715 non-null  object \n",
      " 32  masking                  272151 non-null  object \n",
      "dtypes: float64(1), object(32)\n",
      "memory usage: 92.0+ MB\n"
     ]
    }
   ],
   "source": [
    "org_df.info()"
   ]
  },
  {
   "cell_type": "code",
   "execution_count": 15,
   "metadata": {},
   "outputs": [],
   "source": [
    "with open('./df.pkl', 'rb') as file:\n",
    "    org_df = pickle.load(file)"
   ]
  },
  {
   "cell_type": "markdown",
   "metadata": {},
   "source": [
    "These 4 columns have multiple data points. We will exclude them from the extractions for now."
   ]
  },
  {
   "cell_type": "code",
   "execution_count": 16,
   "metadata": {},
   "outputs": [],
   "source": [
    "l = ['intervention_type', 'intervention_name', 'textblock' ,'PMID', 'PMID_tokens']\n",
    "\n",
    "for col in org_df.columns:\n",
    "    if col not in l:\n",
    "        org_df[col] = org_df.loc[:,col].str[0]"
   ]
  },
  {
   "cell_type": "markdown",
   "metadata": {},
   "source": [
    "Next we want to drop columns that we will not use for analysis. Let's also select the specific study type we want to analyze. \n",
    "\n",
    "There are two different study types: interventional and observational.\n",
    "Clinical trials are interventional studies hence we will divide our dataset and look at only interventional studies."
   ]
  },
  {
   "cell_type": "code",
   "execution_count": 17,
   "metadata": {},
   "outputs": [],
   "source": [
    "def num_of_papers(pmids):\n",
    "    pmid = pmids.split(' ')\n",
    "    return len(pmid)\n",
    "\n",
    "org_df['num_of_papers'] = org_df['PMID'].map(num_of_papers)"
   ]
  },
  {
   "cell_type": "code",
   "execution_count": 18,
   "metadata": {},
   "outputs": [],
   "source": [
    "#drop columns\n",
    "org_df.drop(['observational_model', 'time_perspective', 'verification_date',\n",
    "             'defined Population', 'intervention_browse',\n",
    "             'brief_title', 'keyword', 'mesh_term', 'PMID_tok'], axis = 1, inplace = True)\n",
    "#org_df['success'] = org_df['phase'] == 'Phase 4'\n",
    "\n",
    "#interventional studies only\n",
    "org_df = org_df[org_df.loc[:,'study_type'] == 'Interventional']\n",
    "\n",
    "#replace N/A values in 'phase' as np.nan\n",
    "org_df.loc[:, 'phase'].replace('N/A', np.nan, inplace = True)\n",
    "\n",
    "#drop the na values in 'phase'\n",
    "org_df.dropna(subset = ['phase'],inplace = True)\n",
    "\n",
    "#set the index\n",
    "org_df.set_index('nct_id', inplace = True)\n",
    "\n",
    "#capture completed, terminated, withdrawn values in overall_status\n",
    "completed = org_df[org_df.loc[:, 'overall_status'] == 'Completed']\n",
    "terminated = org_df[org_df.loc[:, 'overall_status'] == 'Terminated']\n",
    "withdrawn = org_df[org_df.loc[:, 'overall_status'] == 'Withdrawn']\n",
    "\n",
    "# combine the 3 dataframes\n",
    "org_df = pd.concat([completed, terminated, withdrawn])\n",
    "\n",
    "# add a new column\n",
    "org_df['num_of_papers'] = org_df['PMID'].map(num_of_papers)\n",
    "\n",
    "# create a success column \n",
    "org_df.loc[:, 'success'] = (org_df.loc[:,'overall_status'] == 'Completed') & (org_df.loc[:, 'phase'] == 'Phase 4')"
   ]
  },
  {
   "cell_type": "code",
   "execution_count": 12,
   "metadata": {},
   "outputs": [
    {
     "data": {
      "text/html": [
       "<div>\n",
       "<style scoped>\n",
       "    .dataframe tbody tr th:only-of-type {\n",
       "        vertical-align: middle;\n",
       "    }\n",
       "\n",
       "    .dataframe tbody tr th {\n",
       "        vertical-align: top;\n",
       "    }\n",
       "\n",
       "    .dataframe thead th {\n",
       "        text-align: right;\n",
       "    }\n",
       "</style>\n",
       "<table border=\"1\" class=\"dataframe\">\n",
       "  <thead>\n",
       "    <tr style=\"text-align: right;\">\n",
       "      <th></th>\n",
       "      <th>source</th>\n",
       "      <th>overall_status</th>\n",
       "      <th>study_type</th>\n",
       "      <th>has_expanded_access</th>\n",
       "      <th>condition</th>\n",
       "      <th>study_first_posted</th>\n",
       "      <th>last_update_posted</th>\n",
       "      <th>phase</th>\n",
       "      <th>enrollment</th>\n",
       "      <th>PMID</th>\n",
       "      <th>...</th>\n",
       "      <th>minimum_age</th>\n",
       "      <th>maximum_age</th>\n",
       "      <th>healthy_volunteers</th>\n",
       "      <th>country</th>\n",
       "      <th>allocation</th>\n",
       "      <th>intervention_model</th>\n",
       "      <th>primary_purpose</th>\n",
       "      <th>masking</th>\n",
       "      <th>PMID_tokens</th>\n",
       "      <th>num_of_papers</th>\n",
       "    </tr>\n",
       "    <tr>\n",
       "      <th>nct_id</th>\n",
       "      <th></th>\n",
       "      <th></th>\n",
       "      <th></th>\n",
       "      <th></th>\n",
       "      <th></th>\n",
       "      <th></th>\n",
       "      <th></th>\n",
       "      <th></th>\n",
       "      <th></th>\n",
       "      <th></th>\n",
       "      <th></th>\n",
       "      <th></th>\n",
       "      <th></th>\n",
       "      <th></th>\n",
       "      <th></th>\n",
       "      <th></th>\n",
       "      <th></th>\n",
       "      <th></th>\n",
       "      <th></th>\n",
       "      <th></th>\n",
       "      <th></th>\n",
       "    </tr>\n",
       "  </thead>\n",
       "  <tbody>\n",
       "    <tr>\n",
       "      <th>NCT00000113</th>\n",
       "      <td>Stony Brook University</td>\n",
       "      <td>Completed</td>\n",
       "      <td>Interventional</td>\n",
       "      <td>No</td>\n",
       "      <td>Myopia</td>\n",
       "      <td>September 24, 1999</td>\n",
       "      <td>April 15, 2016</td>\n",
       "      <td>Phase 3</td>\n",
       "      <td>469</td>\n",
       "      <td>12657584 15223788 16009841</td>\n",
       "      <td>...</td>\n",
       "      <td>6 Years</td>\n",
       "      <td>12 Years</td>\n",
       "      <td>No</td>\n",
       "      <td>United States</td>\n",
       "      <td>Randomized</td>\n",
       "      <td>Parallel Assignment</td>\n",
       "      <td>Treatment</td>\n",
       "      <td>Triple (Participant, Investigator, Outcomes As...</td>\n",
       "      <td>Accommodation, and, Related, Risk, Factors, As...</td>\n",
       "      <td>3</td>\n",
       "    </tr>\n",
       "    <tr>\n",
       "      <th>NCT00000125</th>\n",
       "      <td>Washington University School of Medicine</td>\n",
       "      <td>Completed</td>\n",
       "      <td>Interventional</td>\n",
       "      <td>No</td>\n",
       "      <td>Ocular Hypertension</td>\n",
       "      <td>September 24, 1999</td>\n",
       "      <td>June 2, 2020</td>\n",
       "      <td>Phase 3</td>\n",
       "      <td>1636</td>\n",
       "      <td>10326953 10980763 11024416 11581049 11755836 1...</td>\n",
       "      <td>...</td>\n",
       "      <td>40 Years</td>\n",
       "      <td>80 Years</td>\n",
       "      <td>No</td>\n",
       "      <td>NaN</td>\n",
       "      <td>Randomized</td>\n",
       "      <td>Parallel Assignment</td>\n",
       "      <td>Prevention</td>\n",
       "      <td>None (Open Label)</td>\n",
       "      <td>Asymmetries, and, Visual, Field, Summaries, as...</td>\n",
       "      <td>63</td>\n",
       "    </tr>\n",
       "    <tr>\n",
       "      <th>NCT00000129</th>\n",
       "      <td>National Eye Institute (NEI)</td>\n",
       "      <td>Completed</td>\n",
       "      <td>Interventional</td>\n",
       "      <td>No</td>\n",
       "      <td>Myopia</td>\n",
       "      <td>September 24, 1999</td>\n",
       "      <td>September 17, 2009</td>\n",
       "      <td>Phase 3</td>\n",
       "      <td>NaN</td>\n",
       "      <td>6338438 6380467 6638126 6486212 3872431 388512...</td>\n",
       "      <td>...</td>\n",
       "      <td>21 Years</td>\n",
       "      <td>N/A</td>\n",
       "      <td>No</td>\n",
       "      <td>NaN</td>\n",
       "      <td>Randomized</td>\n",
       "      <td>NaN</td>\n",
       "      <td>Treatment</td>\n",
       "      <td>NaN</td>\n",
       "      <td>British, Journal, of, Ophthalmology, ,, 1988, ...</td>\n",
       "      <td>32</td>\n",
       "    </tr>\n",
       "    <tr>\n",
       "      <th>NCT00000136</th>\n",
       "      <td>Johns Hopkins Bloomberg School of Public Health</td>\n",
       "      <td>Completed</td>\n",
       "      <td>Interventional</td>\n",
       "      <td>No</td>\n",
       "      <td>HIV Infections</td>\n",
       "      <td>September 24, 1999</td>\n",
       "      <td>October 22, 2015</td>\n",
       "      <td>Phase 3</td>\n",
       "      <td>234</td>\n",
       "      <td>1315661 8660161 8660169 8660168 9207349 926253...</td>\n",
       "      <td>...</td>\n",
       "      <td>13 Years</td>\n",
       "      <td>N/A</td>\n",
       "      <td>No</td>\n",
       "      <td>NaN</td>\n",
       "      <td>Randomized</td>\n",
       "      <td>Parallel Assignment</td>\n",
       "      <td>Treatment</td>\n",
       "      <td>Single (Outcomes Assessor)</td>\n",
       "      <td>Mortality, in, Patients, with, the, Acquired, ...</td>\n",
       "      <td>13</td>\n",
       "    </tr>\n",
       "    <tr>\n",
       "      <th>NCT00000139</th>\n",
       "      <td>National Eye Institute (NEI)</td>\n",
       "      <td>Completed</td>\n",
       "      <td>Interventional</td>\n",
       "      <td>No</td>\n",
       "      <td>Keratitis, Herpetic</td>\n",
       "      <td>September 24, 1999</td>\n",
       "      <td>March 24, 2010</td>\n",
       "      <td>Phase 3</td>\n",
       "      <td>NaN</td>\n",
       "      <td>8540857 9194719 9696640</td>\n",
       "      <td>...</td>\n",
       "      <td>18 Years</td>\n",
       "      <td>N/A</td>\n",
       "      <td>No</td>\n",
       "      <td>United States</td>\n",
       "      <td>Randomized</td>\n",
       "      <td>NaN</td>\n",
       "      <td>Treatment</td>\n",
       "      <td>NaN</td>\n",
       "      <td>Acyclovir, for, the, Prevention, of, Recurrent...</td>\n",
       "      <td>3</td>\n",
       "    </tr>\n",
       "    <tr>\n",
       "      <th>...</th>\n",
       "      <td>...</td>\n",
       "      <td>...</td>\n",
       "      <td>...</td>\n",
       "      <td>...</td>\n",
       "      <td>...</td>\n",
       "      <td>...</td>\n",
       "      <td>...</td>\n",
       "      <td>...</td>\n",
       "      <td>...</td>\n",
       "      <td>...</td>\n",
       "      <td>...</td>\n",
       "      <td>...</td>\n",
       "      <td>...</td>\n",
       "      <td>...</td>\n",
       "      <td>...</td>\n",
       "      <td>...</td>\n",
       "      <td>...</td>\n",
       "      <td>...</td>\n",
       "      <td>...</td>\n",
       "      <td>...</td>\n",
       "      <td>...</td>\n",
       "    </tr>\n",
       "    <tr>\n",
       "      <th>NCT04242966</th>\n",
       "      <td>Clinical Evaluation Research Unit at Kingston ...</td>\n",
       "      <td>Withdrawn</td>\n",
       "      <td>Interventional</td>\n",
       "      <td>No</td>\n",
       "      <td>Critical Illness</td>\n",
       "      <td>January 27, 2020</td>\n",
       "      <td>June 18, 2020</td>\n",
       "      <td>Phase 3</td>\n",
       "      <td>0</td>\n",
       "      <td>22811443 21705881 28388372 25781411 23991656 2...</td>\n",
       "      <td>...</td>\n",
       "      <td>18 Years</td>\n",
       "      <td>N/A</td>\n",
       "      <td>No</td>\n",
       "      <td>NaN</td>\n",
       "      <td>Randomized</td>\n",
       "      <td>Parallel Assignment</td>\n",
       "      <td>Basic Science</td>\n",
       "      <td>None (Open Label)</td>\n",
       "      <td>Thrombus, Aspiration, during, ST-Segment, Elev...</td>\n",
       "      <td>70</td>\n",
       "    </tr>\n",
       "    <tr>\n",
       "      <th>NCT04287543</th>\n",
       "      <td>Instituto Mexicano del Seguro Social</td>\n",
       "      <td>Withdrawn</td>\n",
       "      <td>Interventional</td>\n",
       "      <td>No</td>\n",
       "      <td>Parkinson Disease</td>\n",
       "      <td>February 27, 2020</td>\n",
       "      <td>August 4, 2020</td>\n",
       "      <td>Phase 2/Phase 3</td>\n",
       "      <td>0</td>\n",
       "      <td>28332488 12657434 20460187 24235893 24687146 1...</td>\n",
       "      <td>...</td>\n",
       "      <td>20 Years</td>\n",
       "      <td>N/A</td>\n",
       "      <td>No</td>\n",
       "      <td>Mexico</td>\n",
       "      <td>Randomized</td>\n",
       "      <td>Parallel Assignment</td>\n",
       "      <td>Treatment</td>\n",
       "      <td>Double (Participant, Investigator)</td>\n",
       "      <td>Sublethal, RNA, Oxidation, as, a, Mechanism, f...</td>\n",
       "      <td>40</td>\n",
       "    </tr>\n",
       "    <tr>\n",
       "      <th>NCT04290858</th>\n",
       "      <td>Xijing Hospital</td>\n",
       "      <td>Withdrawn</td>\n",
       "      <td>Interventional</td>\n",
       "      <td>No</td>\n",
       "      <td>Coronavirus Infections</td>\n",
       "      <td>March 2, 2020</td>\n",
       "      <td>March 24, 2020</td>\n",
       "      <td>Phase 2</td>\n",
       "      <td>0</td>\n",
       "      <td>15546092 15234326 31978945 32031570 32085846</td>\n",
       "      <td>...</td>\n",
       "      <td>18 Years</td>\n",
       "      <td>N/A</td>\n",
       "      <td>No</td>\n",
       "      <td>NaN</td>\n",
       "      <td>Randomized</td>\n",
       "      <td>Parallel Assignment</td>\n",
       "      <td>Treatment</td>\n",
       "      <td>None (Open Label)</td>\n",
       "      <td>A, Novel, Coronavirus, from, Patients, with, P...</td>\n",
       "      <td>5</td>\n",
       "    </tr>\n",
       "    <tr>\n",
       "      <th>NCT04290871</th>\n",
       "      <td>Xijing Hospital</td>\n",
       "      <td>Withdrawn</td>\n",
       "      <td>Interventional</td>\n",
       "      <td>No</td>\n",
       "      <td>Coronavirus</td>\n",
       "      <td>March 2, 2020</td>\n",
       "      <td>March 24, 2020</td>\n",
       "      <td>Phase 2</td>\n",
       "      <td>0</td>\n",
       "      <td>32031570 31978945 32085846 32105632 15546092 1...</td>\n",
       "      <td>...</td>\n",
       "      <td>18 Years</td>\n",
       "      <td>N/A</td>\n",
       "      <td>No</td>\n",
       "      <td>NaN</td>\n",
       "      <td>Randomized</td>\n",
       "      <td>Parallel Assignment</td>\n",
       "      <td>Treatment</td>\n",
       "      <td>Triple (Participant, Care Provider, Outcomes A...</td>\n",
       "      <td>A, Novel, Coronavirus, from, Patients, with, P...</td>\n",
       "      <td>6</td>\n",
       "    </tr>\n",
       "    <tr>\n",
       "      <th>NCT04354441</th>\n",
       "      <td>Sir Mortimer B. Davis - Jewish General Hospital</td>\n",
       "      <td>Withdrawn</td>\n",
       "      <td>Interventional</td>\n",
       "      <td>No</td>\n",
       "      <td>COVID-19</td>\n",
       "      <td>April 21, 2020</td>\n",
       "      <td>June 25, 2020</td>\n",
       "      <td>Phase 2</td>\n",
       "      <td>0</td>\n",
       "      <td>28561251 26244541 20367629 32151335 32145216 3...</td>\n",
       "      <td>...</td>\n",
       "      <td>18 Years</td>\n",
       "      <td>50 Years</td>\n",
       "      <td>No</td>\n",
       "      <td>NaN</td>\n",
       "      <td>Randomized</td>\n",
       "      <td>Parallel Assignment</td>\n",
       "      <td>Treatment</td>\n",
       "      <td>Quadruple (Participant, Care Provider, Investi...</td>\n",
       "      <td>Hydroxychloroquine, ,, a, less, toxic, derivat...</td>\n",
       "      <td>11</td>\n",
       "    </tr>\n",
       "  </tbody>\n",
       "</table>\n",
       "<p>5395 rows × 26 columns</p>\n",
       "</div>"
      ],
      "text/plain": [
       "                                                        source overall_status  \\\n",
       "nct_id                                                                          \n",
       "NCT00000113                             Stony Brook University      Completed   \n",
       "NCT00000125           Washington University School of Medicine      Completed   \n",
       "NCT00000129                       National Eye Institute (NEI)      Completed   \n",
       "NCT00000136    Johns Hopkins Bloomberg School of Public Health      Completed   \n",
       "NCT00000139                       National Eye Institute (NEI)      Completed   \n",
       "...                                                        ...            ...   \n",
       "NCT04242966  Clinical Evaluation Research Unit at Kingston ...      Withdrawn   \n",
       "NCT04287543               Instituto Mexicano del Seguro Social      Withdrawn   \n",
       "NCT04290858                                    Xijing Hospital      Withdrawn   \n",
       "NCT04290871                                    Xijing Hospital      Withdrawn   \n",
       "NCT04354441    Sir Mortimer B. Davis - Jewish General Hospital      Withdrawn   \n",
       "\n",
       "                 study_type has_expanded_access               condition  \\\n",
       "nct_id                                                                    \n",
       "NCT00000113  Interventional                  No                  Myopia   \n",
       "NCT00000125  Interventional                  No     Ocular Hypertension   \n",
       "NCT00000129  Interventional                  No                  Myopia   \n",
       "NCT00000136  Interventional                  No          HIV Infections   \n",
       "NCT00000139  Interventional                  No     Keratitis, Herpetic   \n",
       "...                     ...                 ...                     ...   \n",
       "NCT04242966  Interventional                  No        Critical Illness   \n",
       "NCT04287543  Interventional                  No       Parkinson Disease   \n",
       "NCT04290858  Interventional                  No  Coronavirus Infections   \n",
       "NCT04290871  Interventional                  No             Coronavirus   \n",
       "NCT04354441  Interventional                  No                COVID-19   \n",
       "\n",
       "             study_first_posted  last_update_posted            phase  \\\n",
       "nct_id                                                                 \n",
       "NCT00000113  September 24, 1999      April 15, 2016          Phase 3   \n",
       "NCT00000125  September 24, 1999        June 2, 2020          Phase 3   \n",
       "NCT00000129  September 24, 1999  September 17, 2009          Phase 3   \n",
       "NCT00000136  September 24, 1999    October 22, 2015          Phase 3   \n",
       "NCT00000139  September 24, 1999      March 24, 2010          Phase 3   \n",
       "...                         ...                 ...              ...   \n",
       "NCT04242966    January 27, 2020       June 18, 2020          Phase 3   \n",
       "NCT04287543   February 27, 2020      August 4, 2020  Phase 2/Phase 3   \n",
       "NCT04290858       March 2, 2020      March 24, 2020          Phase 2   \n",
       "NCT04290871       March 2, 2020      March 24, 2020          Phase 2   \n",
       "NCT04354441      April 21, 2020       June 25, 2020          Phase 2   \n",
       "\n",
       "            enrollment                                               PMID  \\\n",
       "nct_id                                                                      \n",
       "NCT00000113        469                         12657584 15223788 16009841   \n",
       "NCT00000125       1636  10326953 10980763 11024416 11581049 11755836 1...   \n",
       "NCT00000129        NaN  6338438 6380467 6638126 6486212 3872431 388512...   \n",
       "NCT00000136        234  1315661 8660161 8660169 8660168 9207349 926253...   \n",
       "NCT00000139        NaN                            8540857 9194719 9696640   \n",
       "...                ...                                                ...   \n",
       "NCT04242966          0  22811443 21705881 28388372 25781411 23991656 2...   \n",
       "NCT04287543          0  28332488 12657434 20460187 24235893 24687146 1...   \n",
       "NCT04290858          0       15546092 15234326 31978945 32031570 32085846   \n",
       "NCT04290871          0  32031570 31978945 32085846 32105632 15546092 1...   \n",
       "NCT04354441          0  28561251 26244541 20367629 32151335 32145216 3...   \n",
       "\n",
       "             ... minimum_age maximum_age healthy_volunteers        country  \\\n",
       "nct_id       ...                                                             \n",
       "NCT00000113  ...     6 Years    12 Years                 No  United States   \n",
       "NCT00000125  ...    40 Years    80 Years                 No            NaN   \n",
       "NCT00000129  ...    21 Years         N/A                 No            NaN   \n",
       "NCT00000136  ...    13 Years         N/A                 No            NaN   \n",
       "NCT00000139  ...    18 Years         N/A                 No  United States   \n",
       "...          ...         ...         ...                ...            ...   \n",
       "NCT04242966  ...    18 Years         N/A                 No            NaN   \n",
       "NCT04287543  ...    20 Years         N/A                 No         Mexico   \n",
       "NCT04290858  ...    18 Years         N/A                 No            NaN   \n",
       "NCT04290871  ...    18 Years         N/A                 No            NaN   \n",
       "NCT04354441  ...    18 Years    50 Years                 No            NaN   \n",
       "\n",
       "             allocation   intervention_model primary_purpose  \\\n",
       "nct_id                                                         \n",
       "NCT00000113  Randomized  Parallel Assignment       Treatment   \n",
       "NCT00000125  Randomized  Parallel Assignment      Prevention   \n",
       "NCT00000129  Randomized                  NaN       Treatment   \n",
       "NCT00000136  Randomized  Parallel Assignment       Treatment   \n",
       "NCT00000139  Randomized                  NaN       Treatment   \n",
       "...                 ...                  ...             ...   \n",
       "NCT04242966  Randomized  Parallel Assignment   Basic Science   \n",
       "NCT04287543  Randomized  Parallel Assignment       Treatment   \n",
       "NCT04290858  Randomized  Parallel Assignment       Treatment   \n",
       "NCT04290871  Randomized  Parallel Assignment       Treatment   \n",
       "NCT04354441  Randomized  Parallel Assignment       Treatment   \n",
       "\n",
       "                                                       masking  \\\n",
       "nct_id                                                           \n",
       "NCT00000113  Triple (Participant, Investigator, Outcomes As...   \n",
       "NCT00000125                                  None (Open Label)   \n",
       "NCT00000129                                                NaN   \n",
       "NCT00000136                         Single (Outcomes Assessor)   \n",
       "NCT00000139                                                NaN   \n",
       "...                                                        ...   \n",
       "NCT04242966                                  None (Open Label)   \n",
       "NCT04287543                 Double (Participant, Investigator)   \n",
       "NCT04290858                                  None (Open Label)   \n",
       "NCT04290871  Triple (Participant, Care Provider, Outcomes A...   \n",
       "NCT04354441  Quadruple (Participant, Care Provider, Investi...   \n",
       "\n",
       "                                                   PMID_tokens num_of_papers  \n",
       "nct_id                                                                        \n",
       "NCT00000113  Accommodation, and, Related, Risk, Factors, As...             3  \n",
       "NCT00000125  Asymmetries, and, Visual, Field, Summaries, as...            63  \n",
       "NCT00000129  British, Journal, of, Ophthalmology, ,, 1988, ...            32  \n",
       "NCT00000136  Mortality, in, Patients, with, the, Acquired, ...            13  \n",
       "NCT00000139  Acyclovir, for, the, Prevention, of, Recurrent...             3  \n",
       "...                                                        ...           ...  \n",
       "NCT04242966  Thrombus, Aspiration, during, ST-Segment, Elev...            70  \n",
       "NCT04287543  Sublethal, RNA, Oxidation, as, a, Mechanism, f...            40  \n",
       "NCT04290858  A, Novel, Coronavirus, from, Patients, with, P...             5  \n",
       "NCT04290871  A, Novel, Coronavirus, from, Patients, with, P...             6  \n",
       "NCT04354441  Hydroxychloroquine, ,, a, less, toxic, derivat...            11  \n",
       "\n",
       "[5395 rows x 26 columns]"
      ]
     },
     "execution_count": 12,
     "metadata": {},
     "output_type": "execute_result"
    }
   ],
   "source": [
    "org_df"
   ]
  },
  {
   "cell_type": "code",
   "execution_count": 11,
   "metadata": {},
   "outputs": [
    {
     "name": "stderr",
     "output_type": "stream",
     "text": [
      "C:\\Users\\Public\\Anaconda3\\lib\\site-packages\\pandas\\core\\indexing.py:1596: SettingWithCopyWarning: \n",
      "A value is trying to be set on a copy of a slice from a DataFrame.\n",
      "Try using .loc[row_indexer,col_indexer] = value instead\n",
      "\n",
      "See the caveats in the documentation: https://pandas.pydata.org/pandas-docs/stable/user_guide/indexing.html#returning-a-view-versus-a-copy\n",
      "  self.obj[key] = _infer_fill_value(value)\n",
      "C:\\Users\\Public\\Anaconda3\\lib\\site-packages\\pandas\\core\\indexing.py:1743: SettingWithCopyWarning: \n",
      "A value is trying to be set on a copy of a slice from a DataFrame.\n",
      "Try using .loc[row_indexer,col_indexer] = value instead\n",
      "\n",
      "See the caveats in the documentation: https://pandas.pydata.org/pandas-docs/stable/user_guide/indexing.html#returning-a-view-versus-a-copy\n",
      "  isetter(ilocs[0], value)\n"
     ]
    }
   ],
   "source": [
    "#drop columns\n",
    "org_df.drop(['observational_model', 'time_perspective', 'verification_date',\n",
    "             'defined Population', 'intervention_browse',\n",
    "             'brief_title', 'keyword', 'mesh_term'], axis = 1, inplace = True)\n",
    "#org_df['success'] = org_df['phase'] == 'Phase 4'\n",
    "\n",
    "#interventional studies only\n",
    "org_df = org_df[org_df.loc[:,'study_type'] == 'Interventional']\n",
    "\n",
    "#replace N/A values in 'phase' as np.nan\n",
    "org_df.loc[:, 'phase'].replace('N/A', np.nan, inplace = True)\n",
    "\n",
    "#drop the na values in 'phase'\n",
    "org_df.dropna(subset = ['phase'],inplace = True)\n",
    "\n",
    "#set the index\n",
    "org_df.set_index('nct_id', inplace = True)\n",
    "\n",
    "#capture completed, terminated, withdrawn values in overall_status\n",
    "completed = org_df[org_df.loc[:, 'overall_status'] == 'Completed']\n",
    "terminated = org_df[org_df.loc[:, 'overall_status'] == 'Terminated']\n",
    "withdrawn = org_df[org_df.loc[:, 'overall_status'] == 'Withdrawn']\n",
    "\n",
    "# combine the 3 dataframes\n",
    "org_df = pd.concat([completed, terminated, withdrawn])\n",
    "\n",
    "#capture data that has at least 1 value in PMID\n",
    "org_df = org_df[org_df.loc[:,'PMID'].str[0].notnull()]\n",
    "\n",
    "# get the number of citations/PMIDs of each data point \n",
    "org_df.loc[:,'Num of citations'] = org_df.loc[:, 'PMID'].map(lambda x: len(x))\n",
    "\n",
    "# read the PMIDs and tokenize the words\n",
    "org_df.loc[:, 'PMID_tokens'] = org_df.loc[:, 'PMID'].map(pmid_text)\n",
    "org_df.loc[:, 'PMID_tokens'] = org_df.loc[:, 'PMID_tokens'].map(lambda X: [' '.join(x) for x in X])\n",
    "org_df.loc[:, 'PMID_tokens'] = org_df.loc[:, 'PMID_tokens'].map(lambda x: ' '.join(x))\n",
    "\n",
    "# capture pmids with at least one token\n",
    "df = org_df[org_df.loc[:, 'PMID_tokens'].str[0].notnull()]\n",
    "\n",
    "df.loc[:, 'success'] = (df.loc[:,'overall_status'] == 'Completed') & (df.loc[:, 'phase'] == 'Phase 4')"
   ]
  },
  {
   "cell_type": "markdown",
   "metadata": {},
   "source": [
    "## Data Exploration\n",
    "\n",
    "Let's begin by splitting the dataset into it's training and testing set. We will also define the target variable. There are other columns that also need to be dropped."
   ]
  },
  {
   "cell_type": "code",
   "execution_count": 20,
   "metadata": {},
   "outputs": [],
   "source": [
    "X = org_df.drop(['success', 'phase', 'PMID', 'overall_status',\n",
    "             'study_first_posted', 'last_update_posted', 'study_type'], axis = 1)\n",
    "y = org_df['success']"
   ]
  },
  {
   "cell_type": "code",
   "execution_count": 31,
   "metadata": {},
   "outputs": [],
   "source": [
    "X_train, X_test, y_train, y_test = train_test_split(X, y, test_size = 0.33, random_state = 26)"
   ]
  },
  {
   "cell_type": "markdown",
   "metadata": {},
   "source": [
    "All columns are considered objects. This needs to be addressed. We can infer from the column names what each column may contain. We can also look at the distribution of values in each column."
   ]
  },
  {
   "cell_type": "code",
   "execution_count": 14,
   "metadata": {},
   "outputs": [
    {
     "name": "stdout",
     "output_type": "stream",
     "text": [
      "<class 'pandas.core.frame.DataFrame'>\n",
      "Index: 3614 entries, NCT01720316 to NCT01428843\n",
      "Data columns (total 20 columns):\n",
      " #   Column                   Non-Null Count  Dtype \n",
      "---  ------                   --------------  ----- \n",
      " 0   source                   3614 non-null   object\n",
      " 1   has_expanded_access      3553 non-null   object\n",
      " 2   condition                3614 non-null   object\n",
      " 3   enrollment               3538 non-null   object\n",
      " 4   textblock                3614 non-null   object\n",
      " 5   intervention_type        3614 non-null   object\n",
      " 6   is_fda_regulated_drug    561 non-null    object\n",
      " 7   is_fda_regulated_device  554 non-null    object\n",
      " 8   intervention_name        3614 non-null   object\n",
      " 9   gender                   3614 non-null   object\n",
      " 10  minimum_age              3614 non-null   object\n",
      " 11  maximum_age              3614 non-null   object\n",
      " 12  healthy_volunteers       3606 non-null   object\n",
      " 13  country                  3415 non-null   object\n",
      " 14  allocation               3439 non-null   object\n",
      " 15  intervention_model       3398 non-null   object\n",
      " 16  primary_purpose          3551 non-null   object\n",
      " 17  masking                  3437 non-null   object\n",
      " 18  Num of citations         3614 non-null   int64 \n",
      " 19  PMID_tokens              3614 non-null   object\n",
      "dtypes: int64(1), object(19)\n",
      "memory usage: 592.9+ KB\n"
     ]
    }
   ],
   "source": [
    "X_train.info()"
   ]
  },
  {
   "cell_type": "code",
   "execution_count": 20,
   "metadata": {},
   "outputs": [
    {
     "data": {
      "text/html": [
       "<div>\n",
       "<style scoped>\n",
       "    .dataframe tbody tr th:only-of-type {\n",
       "        vertical-align: middle;\n",
       "    }\n",
       "\n",
       "    .dataframe tbody tr th {\n",
       "        vertical-align: top;\n",
       "    }\n",
       "\n",
       "    .dataframe thead th {\n",
       "        text-align: right;\n",
       "    }\n",
       "</style>\n",
       "<table border=\"1\" class=\"dataframe\">\n",
       "  <thead>\n",
       "    <tr style=\"text-align: right;\">\n",
       "      <th></th>\n",
       "      <th>source</th>\n",
       "      <th>has_expanded_access</th>\n",
       "      <th>condition</th>\n",
       "      <th>enrollment</th>\n",
       "      <th>textblock</th>\n",
       "      <th>intervention_type</th>\n",
       "      <th>is_fda_regulated_drug</th>\n",
       "      <th>is_fda_regulated_device</th>\n",
       "      <th>intervention_name</th>\n",
       "      <th>gender</th>\n",
       "      <th>minimum_age</th>\n",
       "      <th>maximum_age</th>\n",
       "      <th>healthy_volunteers</th>\n",
       "      <th>country</th>\n",
       "      <th>allocation</th>\n",
       "      <th>intervention_model</th>\n",
       "      <th>primary_purpose</th>\n",
       "      <th>masking</th>\n",
       "      <th>PMID_tokens</th>\n",
       "      <th>num_of_papers</th>\n",
       "    </tr>\n",
       "    <tr>\n",
       "      <th>nct_id</th>\n",
       "      <th></th>\n",
       "      <th></th>\n",
       "      <th></th>\n",
       "      <th></th>\n",
       "      <th></th>\n",
       "      <th></th>\n",
       "      <th></th>\n",
       "      <th></th>\n",
       "      <th></th>\n",
       "      <th></th>\n",
       "      <th></th>\n",
       "      <th></th>\n",
       "      <th></th>\n",
       "      <th></th>\n",
       "      <th></th>\n",
       "      <th></th>\n",
       "      <th></th>\n",
       "      <th></th>\n",
       "      <th></th>\n",
       "      <th></th>\n",
       "    </tr>\n",
       "  </thead>\n",
       "  <tbody>\n",
       "    <tr>\n",
       "      <th>NCT01720316</th>\n",
       "      <td>Mclean Hospital</td>\n",
       "      <td>No</td>\n",
       "      <td>Schizo-affective Disorder</td>\n",
       "      <td>2</td>\n",
       "      <td>[\\n      The purpose of this study is to asses...</td>\n",
       "      <td>[Drug, Drug]</td>\n",
       "      <td>Yes</td>\n",
       "      <td>No</td>\n",
       "      <td>[Glycine, placebo]</td>\n",
       "      <td>All</td>\n",
       "      <td>18</td>\n",
       "      <td>65</td>\n",
       "      <td>No</td>\n",
       "      <td>United States</td>\n",
       "      <td>Randomized</td>\n",
       "      <td>Crossover Assignment</td>\n",
       "      <td>Treatment</td>\n",
       "      <td>Quadruple (Participant, Care Provider, Investi...</td>\n",
       "      <td>Untitled, Document, 1822, Am, J, Psychiatry, 1...</td>\n",
       "      <td>33</td>\n",
       "    </tr>\n",
       "    <tr>\n",
       "      <th>NCT00297258</th>\n",
       "      <td>GlaxoSmithKline</td>\n",
       "      <td>No</td>\n",
       "      <td>Sarcoma, Soft Tissue</td>\n",
       "      <td>148</td>\n",
       "      <td>[\\n      The purpose of this study is to evalu...</td>\n",
       "      <td>[Drug]</td>\n",
       "      <td>NaN</td>\n",
       "      <td>NaN</td>\n",
       "      <td>[pazopanib]</td>\n",
       "      <td>All</td>\n",
       "      <td>21</td>\n",
       "      <td>0</td>\n",
       "      <td>No</td>\n",
       "      <td>Belgium</td>\n",
       "      <td>Non-Randomized</td>\n",
       "      <td>Single Group Assignment</td>\n",
       "      <td>Treatment</td>\n",
       "      <td>None (Open Label)</td>\n",
       "      <td>Cytokine, and, angiogenic, factors, associated...</td>\n",
       "      <td>2</td>\n",
       "    </tr>\n",
       "    <tr>\n",
       "      <th>NCT01384149</th>\n",
       "      <td>Meir Medical Center</td>\n",
       "      <td>No</td>\n",
       "      <td>Primary Open Angle Glaucoma</td>\n",
       "      <td>32</td>\n",
       "      <td>[\\n      The purpose of this study is to evalu...</td>\n",
       "      <td>[Device, Device]</td>\n",
       "      <td>NaN</td>\n",
       "      <td>NaN</td>\n",
       "      <td>[external slt, standard slt]</td>\n",
       "      <td>All</td>\n",
       "      <td>40</td>\n",
       "      <td>0</td>\n",
       "      <td>No</td>\n",
       "      <td>Israel</td>\n",
       "      <td>Randomized</td>\n",
       "      <td>Parallel Assignment</td>\n",
       "      <td>Treatment</td>\n",
       "      <td>None (Open Label)</td>\n",
       "      <td>Early, Diagnosis, of, Ocular, Hypertension, Us...</td>\n",
       "      <td>11</td>\n",
       "    </tr>\n",
       "    <tr>\n",
       "      <th>NCT01267682</th>\n",
       "      <td>Penn State University</td>\n",
       "      <td>No</td>\n",
       "      <td>Delirium</td>\n",
       "      <td>283</td>\n",
       "      <td>[\\n      The purpose of this study is to test ...</td>\n",
       "      <td>[Behavioral]</td>\n",
       "      <td>NaN</td>\n",
       "      <td>NaN</td>\n",
       "      <td>[Cognitive Stimulation]</td>\n",
       "      <td>All</td>\n",
       "      <td>65</td>\n",
       "      <td>0</td>\n",
       "      <td>No</td>\n",
       "      <td>United States</td>\n",
       "      <td>Randomized</td>\n",
       "      <td>Parallel Assignment</td>\n",
       "      <td>Treatment</td>\n",
       "      <td>Single (Outcomes Assessor)</td>\n",
       "      <td>STUDY, PROTOCOL, Open, Access, Study, protocol...</td>\n",
       "      <td>11</td>\n",
       "    </tr>\n",
       "    <tr>\n",
       "      <th>NCT00331799</th>\n",
       "      <td>Duke University</td>\n",
       "      <td>No</td>\n",
       "      <td>Major Depressive Disorder</td>\n",
       "      <td>18</td>\n",
       "      <td>[\\n      The purpose of this study is to explo...</td>\n",
       "      <td>[Drug]</td>\n",
       "      <td>NaN</td>\n",
       "      <td>NaN</td>\n",
       "      <td>[Duloxetine]</td>\n",
       "      <td>All</td>\n",
       "      <td>18</td>\n",
       "      <td>65</td>\n",
       "      <td>No</td>\n",
       "      <td>United States</td>\n",
       "      <td>N/A</td>\n",
       "      <td>Single Group Assignment</td>\n",
       "      <td>Treatment</td>\n",
       "      <td>None (Open Label)</td>\n",
       "      <td>Article, 1702, Am, J, Psychiatry, 159:10, ,, O...</td>\n",
       "      <td>6</td>\n",
       "    </tr>\n",
       "  </tbody>\n",
       "</table>\n",
       "</div>"
      ],
      "text/plain": [
       "                            source has_expanded_access  \\\n",
       "nct_id                                                   \n",
       "NCT01720316        Mclean Hospital                  No   \n",
       "NCT00297258        GlaxoSmithKline                  No   \n",
       "NCT01384149    Meir Medical Center                  No   \n",
       "NCT01267682  Penn State University                  No   \n",
       "NCT00331799        Duke University                  No   \n",
       "\n",
       "                               condition  enrollment  \\\n",
       "nct_id                                                 \n",
       "NCT01720316    Schizo-affective Disorder           2   \n",
       "NCT00297258         Sarcoma, Soft Tissue         148   \n",
       "NCT01384149  Primary Open Angle Glaucoma          32   \n",
       "NCT01267682                     Delirium         283   \n",
       "NCT00331799    Major Depressive Disorder          18   \n",
       "\n",
       "                                                     textblock  \\\n",
       "nct_id                                                           \n",
       "NCT01720316  [\\n      The purpose of this study is to asses...   \n",
       "NCT00297258  [\\n      The purpose of this study is to evalu...   \n",
       "NCT01384149  [\\n      The purpose of this study is to evalu...   \n",
       "NCT01267682  [\\n      The purpose of this study is to test ...   \n",
       "NCT00331799  [\\n      The purpose of this study is to explo...   \n",
       "\n",
       "            intervention_type is_fda_regulated_drug is_fda_regulated_device  \\\n",
       "nct_id                                                                        \n",
       "NCT01720316      [Drug, Drug]                   Yes                      No   \n",
       "NCT00297258            [Drug]                   NaN                     NaN   \n",
       "NCT01384149  [Device, Device]                   NaN                     NaN   \n",
       "NCT01267682      [Behavioral]                   NaN                     NaN   \n",
       "NCT00331799            [Drug]                   NaN                     NaN   \n",
       "\n",
       "                        intervention_name gender  minimum_age  maximum_age  \\\n",
       "nct_id                                                                       \n",
       "NCT01720316            [Glycine, placebo]    All           18           65   \n",
       "NCT00297258                   [pazopanib]    All           21            0   \n",
       "NCT01384149  [external slt, standard slt]    All           40            0   \n",
       "NCT01267682       [Cognitive Stimulation]    All           65            0   \n",
       "NCT00331799                  [Duloxetine]    All           18           65   \n",
       "\n",
       "            healthy_volunteers        country      allocation  \\\n",
       "nct_id                                                          \n",
       "NCT01720316                 No  United States      Randomized   \n",
       "NCT00297258                 No        Belgium  Non-Randomized   \n",
       "NCT01384149                 No         Israel      Randomized   \n",
       "NCT01267682                 No  United States      Randomized   \n",
       "NCT00331799                 No  United States             N/A   \n",
       "\n",
       "                  intervention_model primary_purpose  \\\n",
       "nct_id                                                 \n",
       "NCT01720316     Crossover Assignment       Treatment   \n",
       "NCT00297258  Single Group Assignment       Treatment   \n",
       "NCT01384149      Parallel Assignment       Treatment   \n",
       "NCT01267682      Parallel Assignment       Treatment   \n",
       "NCT00331799  Single Group Assignment       Treatment   \n",
       "\n",
       "                                                       masking  \\\n",
       "nct_id                                                           \n",
       "NCT01720316  Quadruple (Participant, Care Provider, Investi...   \n",
       "NCT00297258                                  None (Open Label)   \n",
       "NCT01384149                                  None (Open Label)   \n",
       "NCT01267682                         Single (Outcomes Assessor)   \n",
       "NCT00331799                                  None (Open Label)   \n",
       "\n",
       "                                                   PMID_tokens  num_of_papers  \n",
       "nct_id                                                                         \n",
       "NCT01720316  Untitled, Document, 1822, Am, J, Psychiatry, 1...             33  \n",
       "NCT00297258  Cytokine, and, angiogenic, factors, associated...              2  \n",
       "NCT01384149  Early, Diagnosis, of, Ocular, Hypertension, Us...             11  \n",
       "NCT01267682  STUDY, PROTOCOL, Open, Access, Study, protocol...             11  \n",
       "NCT00331799  Article, 1702, Am, J, Psychiatry, 159:10, ,, O...              6  "
      ]
     },
     "execution_count": 20,
     "metadata": {},
     "output_type": "execute_result"
    }
   ],
   "source": [
    "X_train.head()"
   ]
  },
  {
   "cell_type": "markdown",
   "metadata": {},
   "source": [
    "There are several missing values to deal with. Most columns are listed as object which seems incorrect. We will deal with this so we can explore the data more clearly."
   ]
  },
  {
   "cell_type": "code",
   "execution_count": 362,
   "metadata": {},
   "outputs": [
    {
     "name": "stderr",
     "output_type": "stream",
     "text": [
      "C:\\Users\\Public\\Anaconda3\\lib\\site-packages\\pandas\\core\\series.py:4535: SettingWithCopyWarning: \n",
      "A value is trying to be set on a copy of a slice from a DataFrame\n",
      "\n",
      "See the caveats in the documentation: https://pandas.pydata.org/pandas-docs/stable/user_guide/indexing.html#returning-a-view-versus-a-copy\n",
      "  downcast=downcast,\n"
     ]
    }
   ],
   "source": [
    "enrollment_mean = X_train[X_train.loc[:, 'enrollment'].notnull()].loc[:, 'enrollment'].astype(int).median()\n",
    "\n",
    "X_train.loc[:, 'enrollment'].fillna(enrollment_mean, inplace = True)"
   ]
  },
  {
   "cell_type": "code",
   "execution_count": 5,
   "metadata": {},
   "outputs": [],
   "source": [
    "def change_age(ages):\n",
    "    lis = []\n",
    "    n = str(ages).split(' ')\n",
    "    if len(n) < 2:\n",
    "        return 0   \n",
    "    elif n[1] == 'Months' or n[1] == 'Month':\n",
    "        return (1/12) * int(n[0])   \n",
    "    elif n[1] == 'Years' or n[1] == 'Year':\n",
    "        return n[0]\n",
    "    elif n[1] == 'Days' or n[1] == 'Day':\n",
    "        return (1/365) * int(n[0])\n",
    "    elif n[1] == 'Weeks' or n[1] == 'Week':\n",
    "        return (1/52) * int(n[0])\n",
    "    elif n[1] == 'Hours' or n[1] == 'Hour':\n",
    "        return (1/8760) * int(n[0])\n",
    "    elif n[1] == 'Minutes' or n[1] == 'Minute':\n",
    "        return(1/525600) * int(n[0])"
   ]
  },
  {
   "cell_type": "code",
   "execution_count": 363,
   "metadata": {},
   "outputs": [
    {
     "name": "stderr",
     "output_type": "stream",
     "text": [
      "C:\\Users\\Public\\Anaconda3\\lib\\site-packages\\pandas\\core\\indexing.py:1743: SettingWithCopyWarning: \n",
      "A value is trying to be set on a copy of a slice from a DataFrame.\n",
      "Try using .loc[row_indexer,col_indexer] = value instead\n",
      "\n",
      "See the caveats in the documentation: https://pandas.pydata.org/pandas-docs/stable/user_guide/indexing.html#returning-a-view-versus-a-copy\n",
      "  isetter(ilocs[0], value)\n"
     ]
    }
   ],
   "source": [
    "#correctly label columns as a category\n",
    "X_train.loc[:, 'intervention_model'] = X_train.loc[:,'intervention_model'].astype('category')\n",
    "X_train.loc[:, 'healthy_volunteers'] = X_train.loc[:, 'healthy_volunteers'].astype('category')\n",
    "X_train.loc[:, 'masking'] = X_train.loc[:, 'masking'].astype('category')\n",
    "X_train.loc[:, 'primary_purpose'] = X_train.loc[:, 'primary_purpose'].astype('category')\n",
    "X_train.loc[:, 'allocation'] = X_train.loc[:, 'allocation'].astype('category')\n",
    "X_train.loc[:, 'gender'] = X_train.loc[:, 'gender'].astype('category')\n",
    "X_train.loc[:, 'is_fda_regulated_drug'] = X_train.loc[:, 'is_fda_regulated_drug'].astype('category')\n",
    "X_train.loc[:, 'is_fda_regulated_device'] = X_train.loc[:, 'is_fda_regulated_device'].astype('category')\n",
    "X_train.loc[:, 'has_expanded_access'] = X_train.loc[:, 'has_expanded_access'].astype('category')\n",
    "X_train.loc[:,'country'] = X_train.loc[:, 'country'].astype('category')\n",
    "enrollment_mean = X_train[X_train.loc[:, 'enrollment'].notnull()].loc[:, 'enrollment'].astype(int).median()\n",
    "X_train.loc[:, 'enrollment'].fillna(enrollment_mean, inplace = True)\n",
    "\n",
    "#correctly label columns as int\n",
    "X_train.loc[:, 'enrollment'] = X_train.loc[:,'enrollment'].astype(int)\n",
    "X_train.loc[:,'minimum_age'] = X_train.loc[:, 'minimum_age'].map(change_age)\n",
    "X_train.loc[:, 'maximum_age'] = X_train.loc[:, 'maximum_age'].map(change_age)\n",
    "X_train.loc[:, 'maximum_age'] = X_train.loc[:, 'maximum_age'].astype(int)\n",
    "X_train.loc[:, 'minimum_age'] = X_train.loc[:, 'minimum_age'].astype(int)"
   ]
  },
  {
   "cell_type": "code",
   "execution_count": 364,
   "metadata": {},
   "outputs": [],
   "source": [
    "X_test['enrollment'].fillna(enrollment_mean, inplace = True)"
   ]
  },
  {
   "cell_type": "markdown",
   "metadata": {},
   "source": [
    "We've converted the columns into their necessary datatypes. The clinical trials website illustrates the datatype that is used for each column. Next we should take deeper look at each column to better understand the distribution of the columns and to see the necessary steps to take when filling in missing values."
   ]
  },
  {
   "cell_type": "code",
   "execution_count": 22,
   "metadata": {},
   "outputs": [
    {
     "name": "stdout",
     "output_type": "stream",
     "text": [
      "<class 'pandas.core.frame.DataFrame'>\n",
      "Index: 3614 entries, NCT01720316 to NCT01428843\n",
      "Data columns (total 20 columns):\n",
      " #   Column                   Non-Null Count  Dtype   \n",
      "---  ------                   --------------  -----   \n",
      " 0   source                   3614 non-null   object  \n",
      " 1   has_expanded_access      3553 non-null   category\n",
      " 2   condition                3614 non-null   object  \n",
      " 3   enrollment               3614 non-null   int32   \n",
      " 4   textblock                3614 non-null   object  \n",
      " 5   intervention_type        3614 non-null   object  \n",
      " 6   is_fda_regulated_drug    561 non-null    category\n",
      " 7   is_fda_regulated_device  554 non-null    category\n",
      " 8   intervention_name        3614 non-null   object  \n",
      " 9   gender                   3614 non-null   category\n",
      " 10  minimum_age              3614 non-null   int32   \n",
      " 11  maximum_age              3614 non-null   int32   \n",
      " 12  healthy_volunteers       3606 non-null   category\n",
      " 13  country                  3415 non-null   category\n",
      " 14  allocation               3439 non-null   category\n",
      " 15  intervention_model       3398 non-null   category\n",
      " 16  primary_purpose          3551 non-null   category\n",
      " 17  masking                  3437 non-null   category\n",
      " 18  PMID_tokens              3614 non-null   object  \n",
      " 19  num_of_papers            3614 non-null   int64   \n",
      "dtypes: category(10), int32(3), int64(1), object(6)\n",
      "memory usage: 311.2+ KB\n"
     ]
    }
   ],
   "source": [
    "X_train.info()"
   ]
  },
  {
   "cell_type": "markdown",
   "metadata": {},
   "source": [
    "The enrollment column is highly skewed. We can implement log transformations or other types of power transformations to make the distribution less skewed. We will take a look at the distribution of all of the quantitative variables to determine whether they need to be transformed as well."
   ]
  },
  {
   "cell_type": "code",
   "execution_count": 118,
   "metadata": {},
   "outputs": [
    {
     "data": {
      "text/plain": [
       "<matplotlib.axes._subplots.AxesSubplot at 0x1adf136bf08>"
      ]
     },
     "execution_count": 118,
     "metadata": {},
     "output_type": "execute_result"
    },
    {
     "data": {
      "image/png": "[encoded data removed]",
      "text/plain": [
       "<Figure size 720x504 with 1 Axes>"
      ]
     },
     "metadata": {
      "needs_background": "light"
     },
     "output_type": "display_data"
    }
   ],
   "source": [
    "plt.figure(figsize = (10,7))\n",
    "sns.distplot(X_train['enrollment'], kde = True)\n",
    "#X_train['enrollment'].value_counts()"
   ]
  },
  {
   "cell_type": "code",
   "execution_count": 119,
   "metadata": {},
   "outputs": [
    {
     "data": {
      "text/plain": [
       "<matplotlib.axes._subplots.AxesSubplot at 0x1adf0731248>"
      ]
     },
     "execution_count": 119,
     "metadata": {},
     "output_type": "execute_result"
    },
    {
     "data": {
      "image/png": "[encoded data removed]",
      "text/plain": [
       "<Figure size 720x576 with 1 Axes>"
      ]
     },
     "metadata": {
      "needs_background": "light"
     },
     "output_type": "display_data"
    }
   ],
   "source": [
    "def power_transform(column):\n",
    "    power = PowerTransformer(method = 'box-cox')\n",
    "    col_trans = column.to_numpy()\n",
    "    col_trans = col_trans.reshape(len(col_trans), 1)\n",
    "    col_trans = power.fit_transform(col_trans)\n",
    "    return col_trans\n",
    "\n",
    "enrollment = power_transform(X_train['enrollment'])\n",
    "plt.figure(figsize = (10,8))\n",
    "sns.distplot(enrollment)"
   ]
  },
  {
   "cell_type": "code",
   "execution_count": 112,
   "metadata": {},
   "outputs": [
    {
     "data": {
      "text/plain": [
       "<matplotlib.axes._subplots.AxesSubplot at 0x1adf05e7f08>"
      ]
     },
     "execution_count": 112,
     "metadata": {},
     "output_type": "execute_result"
    },
    {
     "data": {
      "image/png": "[encoded data removed]",
      "text/plain": [
       "<Figure size 432x288 with 1 Axes>"
      ]
     },
     "metadata": {
      "needs_background": "light"
     },
     "output_type": "display_data"
    }
   ],
   "source": [
    "sns.distplot(X_train['minimum_age'])"
   ]
  },
  {
   "cell_type": "code",
   "execution_count": 121,
   "metadata": {},
   "outputs": [
    {
     "data": {
      "text/plain": [
       "<matplotlib.axes._subplots.AxesSubplot at 0x1adf1304c48>"
      ]
     },
     "execution_count": 121,
     "metadata": {},
     "output_type": "execute_result"
    },
    {
     "data": {
      "image/png": "[encoded data removed]",
      "text/plain": [
       "<Figure size 432x288 with 1 Axes>"
      ]
     },
     "metadata": {
      "needs_background": "light"
     },
     "output_type": "display_data"
    }
   ],
   "source": [
    "min_age = power_transform(X_train['minimum_age'])\n",
    "sns.distplot(min_age)"
   ]
  },
  {
   "cell_type": "code",
   "execution_count": 124,
   "metadata": {},
   "outputs": [
    {
     "data": {
      "text/plain": [
       "<matplotlib.axes._subplots.AxesSubplot at 0x1adf03899c8>"
      ]
     },
     "execution_count": 124,
     "metadata": {},
     "output_type": "execute_result"
    },
    {
     "data": {
      "image/png": "[encoded data removed]",
      "text/plain": [
       "<Figure size 432x288 with 1 Axes>"
      ]
     },
     "metadata": {
      "needs_background": "light"
     },
     "output_type": "display_data"
    }
   ],
   "source": [
    "sns.distplot(X_train['maximum_age'])"
   ]
  },
  {
   "cell_type": "code",
   "execution_count": 126,
   "metadata": {},
   "outputs": [
    {
     "data": {
      "text/plain": [
       "<matplotlib.axes._subplots.AxesSubplot at 0x1adf114ae48>"
      ]
     },
     "execution_count": 126,
     "metadata": {},
     "output_type": "execute_result"
    },
    {
     "data": {
      "image/png": "[encoded data removed]",
      "text/plain": [
       "<Figure size 432x288 with 1 Axes>"
      ]
     },
     "metadata": {
      "needs_background": "light"
     },
     "output_type": "display_data"
    }
   ],
   "source": [
    "max_age = power_transform(X_train['maximum_age'])\n",
    "sns.distplot(max_age)"
   ]
  },
  {
   "cell_type": "code",
   "execution_count": 91,
   "metadata": {},
   "outputs": [
    {
     "data": {
      "text/plain": [
       "<matplotlib.axes._subplots.AxesSubplot at 0x1adf0929fc8>"
      ]
     },
     "execution_count": 91,
     "metadata": {},
     "output_type": "execute_result"
    },
    {
     "data": {
      "image/png": "[encoded data removed]",
      "text/plain": [
       "<Figure size 576x432 with 1 Axes>"
      ]
     },
     "metadata": {
      "needs_background": "light"
     },
     "output_type": "display_data"
    }
   ],
   "source": [
    "plt.figure(figsize=(8,6))\n",
    "sns.distplot(X_train['minimum_age'])"
   ]
  },
  {
   "cell_type": "code",
   "execution_count": 129,
   "metadata": {},
   "outputs": [
    {
     "data": {
      "text/plain": [
       "<matplotlib.axes._subplots.AxesSubplot at 0x1adf12eec48>"
      ]
     },
     "execution_count": 129,
     "metadata": {},
     "output_type": "execute_result"
    },
    {
     "data": {
      "image/png": "[encoded data removed]",
      "text/plain": [
       "<Figure size 432x288 with 1 Axes>"
      ]
     },
     "metadata": {
      "needs_background": "light"
     },
     "output_type": "display_data"
    }
   ],
   "source": [
    "sns.distplot(X_train['Num_of_papers'])"
   ]
  },
  {
   "cell_type": "code",
   "execution_count": 137,
   "metadata": {},
   "outputs": [
    {
     "data": {
      "text/plain": [
       "<matplotlib.axes._subplots.AxesSubplot at 0x1adf1e28fc8>"
      ]
     },
     "execution_count": 137,
     "metadata": {},
     "output_type": "execute_result"
    },
    {
     "data": {
      "image/png": "[encoded data removed]",
      "text/plain": [
       "<Figure size 432x288 with 1 Axes>"
      ]
     },
     "metadata": {
      "needs_background": "light"
     },
     "output_type": "display_data"
    }
   ],
   "source": [
    "sns.distplot(np.log(X_train['num_of_papers']))"
   ]
  },
  {
   "cell_type": "code",
   "execution_count": 144,
   "metadata": {},
   "outputs": [],
   "source": [
    "from sklearn.preprocessing import QuantileTransformer\n",
    "def power_transform(column):\n",
    "    power = PowerTransformer()\n",
    "    col_trans = column.to_numpy()\n",
    "    col_trans = col_trans.reshape(len(col_trans), 1)\n",
    "    col_trans = power.fit_transform(col_trans)\n",
    "    return col_trans"
   ]
  },
  {
   "cell_type": "code",
   "execution_count": 145,
   "metadata": {},
   "outputs": [
    {
     "data": {
      "text/plain": [
       "<matplotlib.axes._subplots.AxesSubplot at 0x1adf1fcb708>"
      ]
     },
     "execution_count": 145,
     "metadata": {},
     "output_type": "execute_result"
    },
    {
     "data": {
      "image/png": "[encoded data removed]",
      "text/plain": [
       "<Figure size 432x288 with 1 Axes>"
      ]
     },
     "metadata": {
      "needs_background": "light"
     },
     "output_type": "display_data"
    }
   ],
   "source": [
    "num_citations = power_transform(X_train['Num of citations'])\n",
    "sns.distplot(num_citations)"
   ]
  },
  {
   "cell_type": "code",
   "execution_count": 146,
   "metadata": {},
   "outputs": [
    {
     "name": "stdout",
     "output_type": "stream",
     "text": [
      "<class 'pandas.core.frame.DataFrame'>\n",
      "Index: 3614 entries, NCT01720316 to NCT01428843\n",
      "Data columns (total 20 columns):\n",
      " #   Column                   Non-Null Count  Dtype   \n",
      "---  ------                   --------------  -----   \n",
      " 0   source                   3614 non-null   object  \n",
      " 1   has_expanded_access      3553 non-null   category\n",
      " 2   condition                3614 non-null   object  \n",
      " 3   enrollment               3614 non-null   int32   \n",
      " 4   textblock                3614 non-null   object  \n",
      " 5   intervention_type        3614 non-null   object  \n",
      " 6   is_fda_regulated_drug    561 non-null    category\n",
      " 7   is_fda_regulated_device  554 non-null    category\n",
      " 8   intervention_name        3614 non-null   object  \n",
      " 9   gender                   3614 non-null   category\n",
      " 10  minimum_age              3614 non-null   int32   \n",
      " 11  maximum_age              3614 non-null   float64 \n",
      " 12  healthy_volunteers       3606 non-null   category\n",
      " 13  country                  3415 non-null   category\n",
      " 14  allocation               3439 non-null   category\n",
      " 15  intervention_model       3398 non-null   category\n",
      " 16  primary_purpose          3551 non-null   category\n",
      " 17  masking                  3437 non-null   category\n",
      " 18  Num of citations         3614 non-null   int64   \n",
      " 19  PMID_tokens              3614 non-null   object  \n",
      "dtypes: category(10), float64(1), int32(2), int64(1), object(6)\n",
      "memory usage: 485.4+ KB\n"
     ]
    }
   ],
   "source": [
    "X_train.info()"
   ]
  },
  {
   "cell_type": "code",
   "execution_count": 186,
   "metadata": {},
   "outputs": [
    {
     "data": {
      "text/plain": [
       "No     542\n",
       "Yes     12\n",
       "Name: is_fda_regulated_device, dtype: int64"
      ]
     },
     "execution_count": 186,
     "metadata": {},
     "output_type": "execute_result"
    }
   ],
   "source": [
    "X_train['is_fda_regulated_device'].value_counts()"
   ]
  },
  {
   "cell_type": "code",
   "execution_count": 188,
   "metadata": {},
   "outputs": [
    {
     "data": {
      "text/plain": [
       "Yes    292\n",
       "No     269\n",
       "Name: is_fda_regulated_drug, dtype: int64"
      ]
     },
     "execution_count": 188,
     "metadata": {},
     "output_type": "execute_result"
    }
   ],
   "source": [
    "X_train['is_fda_regulated_drug'].value_counts()"
   ]
  },
  {
   "cell_type": "code",
   "execution_count": 190,
   "metadata": {},
   "outputs": [
    {
     "name": "stdout",
     "output_type": "stream",
     "text": [
      "All       3192\n",
      "Female     264\n",
      "Male       158\n",
      "Name: gender, dtype: int64\n"
     ]
    }
   ],
   "source": [
    "X_train['gender'].value_counts()"
   ]
  },
  {
   "cell_type": "code",
   "execution_count": 194,
   "metadata": {},
   "outputs": [
    {
     "data": {
      "text/plain": [
       "United States         1730\n",
       "Canada                 139\n",
       "France                 118\n",
       "Germany                117\n",
       "Italy                  103\n",
       "                      ... \n",
       "Estonia                  1\n",
       "El Salvador              1\n",
       "Dominican Republic       1\n",
       "Côte D'Ivoire            1\n",
       "Albania                  1\n",
       "Name: country, Length: 103, dtype: int64"
      ]
     },
     "execution_count": 194,
     "metadata": {},
     "output_type": "execute_result"
    }
   ],
   "source": [
    "X_train['country'].value_counts()"
   ]
  },
  {
   "cell_type": "code",
   "execution_count": 195,
   "metadata": {},
   "outputs": [
    {
     "data": {
      "text/plain": [
       "Randomized        2427\n",
       "N/A                593\n",
       "Non-Randomized     419\n",
       "Name: allocation, dtype: int64"
      ]
     },
     "execution_count": 195,
     "metadata": {},
     "output_type": "execute_result"
    }
   ],
   "source": [
    "X_train['allocation'].value_counts()"
   ]
  },
  {
   "cell_type": "code",
   "execution_count": 196,
   "metadata": {},
   "outputs": [
    {
     "data": {
      "text/plain": [
       "Parallel Assignment        2114\n",
       "Single Group Assignment     892\n",
       "Crossover Assignment        279\n",
       "Factorial Assignment         79\n",
       "Sequential Assignment        34\n",
       "Name: intervention_model, dtype: int64"
      ]
     },
     "execution_count": 196,
     "metadata": {},
     "output_type": "execute_result"
    }
   ],
   "source": [
    "X_train['intervention_model'].value_counts()"
   ]
  },
  {
   "cell_type": "code",
   "execution_count": 197,
   "metadata": {},
   "outputs": [
    {
     "data": {
      "text/plain": [
       "Treatment                          2699\n",
       "Prevention                          489\n",
       "Diagnostic                          103\n",
       "Basic Science                        96\n",
       "Supportive Care                      76\n",
       "Other                                53\n",
       "Health Services Research             24\n",
       "Screening                            10\n",
       "Educational/Counseling/Training       1\n",
       "Name: primary_purpose, dtype: int64"
      ]
     },
     "execution_count": 197,
     "metadata": {},
     "output_type": "execute_result"
    }
   ],
   "source": [
    "X_train['primary_purpose'].value_counts()"
   ]
  },
  {
   "cell_type": "code",
   "execution_count": 198,
   "metadata": {},
   "outputs": [
    {
     "data": {
      "text/plain": [
       "None (Open Label)                                                          1712\n",
       "Quadruple (Participant, Care Provider, Investigator, Outcomes Assessor)     554\n",
       "Double (Participant, Investigator)                                          290\n",
       "Triple (Participant, Care Provider, Investigator)                           161\n",
       "Single (Outcomes Assessor)                                                  134\n",
       "Double                                                                      123\n",
       "Single (Participant)                                                        116\n",
       "Triple (Participant, Investigator, Outcomes Assessor)                       111\n",
       "Double (Participant, Outcomes Assessor)                                      52\n",
       "Single (Investigator)                                                        49\n",
       "Double (Participant, Care Provider)                                          47\n",
       "Triple (Participant, Care Provider, Outcomes Assessor)                       29\n",
       "Single                                                                       18\n",
       "Double (Investigator, Outcomes Assessor)                                     14\n",
       "Triple (Care Provider, Investigator, Outcomes Assessor)                      11\n",
       "Double (Care Provider, Investigator)                                          8\n",
       "Single (Care Provider)                                                        5\n",
       "Double (Care Provider, Outcomes Assessor)                                     3\n",
       "Name: masking, dtype: int64"
      ]
     },
     "execution_count": 198,
     "metadata": {},
     "output_type": "execute_result"
    }
   ],
   "source": [
    "X_train['masking'].value_counts()"
   ]
  },
  {
   "cell_type": "markdown",
   "metadata": {},
   "source": [
    "Take a look at the target variable. The amount of successful trials is under represented. This will effect our precision and recall. We can look to apply methods to synthetically increase the smaller class."
   ]
  },
  {
   "cell_type": "code",
   "execution_count": 199,
   "metadata": {},
   "outputs": [
    {
     "data": {
      "text/plain": [
       "<matplotlib.axes._subplots.AxesSubplot at 0x2bf42922dc8>"
      ]
     },
     "execution_count": 199,
     "metadata": {},
     "output_type": "execute_result"
    },
    {
     "data": {
      "image/png": "[encoded data removed]",
      "text/plain": [
       "<Figure size 432x288 with 1 Axes>"
      ]
     },
     "metadata": {},
     "output_type": "display_data"
    }
   ],
   "source": [
    "y_train.value_counts().plot(kind = 'bar')"
   ]
  },
  {
   "cell_type": "markdown",
   "metadata": {},
   "source": [
    "For the categorical variables we will one hot encode them. Categorical variables must be represented in a numerical format. This will also increase the complexity and dimensionality of the dataset."
   ]
  },
  {
   "cell_type": "code",
   "execution_count": 365,
   "metadata": {},
   "outputs": [],
   "source": [
    "#df['intervention_model'].fillna(df['intervention_model'].mode())\n",
    "X_train.loc[:, 'intervention_model'].fillna(X_train['intervention_model'].mode()[0], inplace = True)\n",
    "X_train.loc[:, 'healthy_volunteers'].fillna(X_train['healthy_volunteers'].mode()[0], inplace = True)\n",
    "X_train.loc[:, 'masking'].fillna(X_train['masking'].mode()[0], inplace = True)\n",
    "X_train.loc[:, 'primary_purpose'].fillna(X_train['primary_purpose'].mode()[0], inplace = True)\n",
    "X_train.loc[:, 'allocation'].fillna(X_train['allocation'].mode()[0], inplace = True)\n",
    "X_train.loc[:, 'country'].fillna(X_train['country'].mode()[0], inplace = True)\n",
    "X_train.loc[:, 'gender'].fillna(X_train['gender'].mode()[0], inplace = True)\n",
    "X_train.loc[:, 'has_expanded_access'].fillna('No', inplace = True)\n",
    "X_train.loc[:, 'is_fda_regulated_drug'].fillna(X_train['is_fda_regulated_drug'].mode()[0], inplace = True)\n",
    "X_train.loc[:, 'is_fda_regulated_device'].fillna(X_train['is_fda_regulated_device'].mode()[0], inplace = True)"
   ]
  },
  {
   "cell_type": "code",
   "execution_count": 366,
   "metadata": {},
   "outputs": [],
   "source": [
    "X_test.loc[:, 'intervention_model'].fillna(X_train['intervention_model'].mode()[0], inplace = True)\n",
    "X_test.loc[:, 'healthy_volunteers'].fillna(X_train['healthy_volunteers'].mode()[0], inplace = True)\n",
    "X_test.loc[:,'masking'].fillna(X_train['masking'].mode()[0], inplace = True)\n",
    "X_test.loc[:,'primary_purpose'].fillna(X_train['primary_purpose'].mode()[0], inplace = True)\n",
    "X_test.loc[:, 'allocation'].fillna(X_train['allocation'].mode()[0], inplace = True)\n",
    "X_test.loc[:, 'country'].fillna(X_train['country'].mode()[0], inplace = True)\n",
    "X_test.loc[:, 'gender'].fillna(X_train['gender'].mode()[0], inplace = True)\n",
    "X_test.loc[:, 'has_expanded_access'].fillna('No', inplace = True)\n",
    "X_test.loc[:, 'is_fda_regulated_drug'].fillna(X_test['is_fda_regulated_drug'].mode()[0], inplace = True)\n",
    "X_test.loc[:, 'is_fda_regulated_device'].fillna(X_test['is_fda_regulated_device'].mode()[0], inplace = True)"
   ]
  },
  {
   "cell_type": "code",
   "execution_count": 25,
   "metadata": {},
   "outputs": [
    {
     "name": "stderr",
     "output_type": "stream",
     "text": [
      "C:\\Users\\Public\\Anaconda3\\lib\\site-packages\\pandas\\core\\indexing.py:1743: SettingWithCopyWarning: \n",
      "A value is trying to be set on a copy of a slice from a DataFrame.\n",
      "Try using .loc[row_indexer,col_indexer] = value instead\n",
      "\n",
      "See the caveats in the documentation: https://pandas.pydata.org/pandas-docs/stable/user_guide/indexing.html#returning-a-view-versus-a-copy\n",
      "  isetter(ilocs[0], value)\n"
     ]
    }
   ],
   "source": [
    "X_train.loc[:, 'intervention_type'] = X_train['intervention_type'].map(lambda x: ' '.join(x))\n",
    "X_train.loc[:, 'intervention_name'] = X_train['intervention_name'].map(lambda x: ' '.join(x))\n",
    "#X_train.loc[:, 'PMID'] = X_train.loc[:, 'PMID'].map(lambda x: ' '.join(x))\n",
    "X_train.loc[:, 'textblock'] = X_train.loc[:, 'textblock'].str[0]\n",
    "#X_train.loc[:,'textblock'] = X_train.loc[:,'textblock']\n",
    "\n",
    "X_test.loc[:, 'intervention_type'] = X_test['intervention_type'].map(lambda x: ' '.join(x))\n",
    "X_test.loc[:, 'intervention_name'] = X_test['intervention_name'].map(lambda x: ' '.join(x))\n",
    "X_test.loc[:, 'textblock'] = X_test.loc[:, 'textblock'].str[0]"
   ]
  },
  {
   "cell_type": "code",
   "execution_count": 369,
   "metadata": {},
   "outputs": [
    {
     "name": "stderr",
     "output_type": "stream",
     "text": [
      "C:\\Users\\Public\\Anaconda3\\lib\\site-packages\\ipykernel_launcher.py:1: SettingWithCopyWarning: \n",
      "A value is trying to be set on a copy of a slice from a DataFrame.\n",
      "Try using .loc[row_indexer,col_indexer] = value instead\n",
      "\n",
      "See the caveats in the documentation: https://pandas.pydata.org/pandas-docs/stable/user_guide/indexing.html#returning-a-view-versus-a-copy\n",
      "  \"\"\"Entry point for launching an IPython kernel.\n",
      "C:\\Users\\Public\\Anaconda3\\lib\\site-packages\\ipykernel_launcher.py:2: SettingWithCopyWarning: \n",
      "A value is trying to be set on a copy of a slice from a DataFrame.\n",
      "Try using .loc[row_indexer,col_indexer] = value instead\n",
      "\n",
      "See the caveats in the documentation: https://pandas.pydata.org/pandas-docs/stable/user_guide/indexing.html#returning-a-view-versus-a-copy\n",
      "  \n"
     ]
    }
   ],
   "source": [
    "X_train.loc[:, 'combined_text'] = X_train['source']+' '+ X_train['condition']+ ' '+ X_train['textblock'] + ' ' +  X_train['intervention_type'] + ' ' +  X_train['intervention_name'] + ' '+ X_train['PMID_tokens']\n",
    "X_train.loc[:, 'combined_text'] = X_train['combined_text'].map(get_tokens)\n",
    "\n",
    "X_test.loc[:, 'combined_text'] = X_test['source']+ ' '+X_test['condition']+' '+X_test['textblock']+' '+X_test['intervention_type']+' '+X_test['intervention_name']+' '+X_test['PMID_tokens']\n",
    "X_test.loc[:, 'combined_text'] = X_test['combined_text'].map(get_tokens)"
   ]
  },
  {
   "cell_type": "markdown",
   "metadata": {},
   "source": [
    "We will combine the text data to provide the vectorizers with as much data as possible."
   ]
  },
  {
   "cell_type": "code",
   "execution_count": 249,
   "metadata": {},
   "outputs": [],
   "source": [
    "combined_text = X_train['combined_text'].to_numpy()\n",
    "combined_text = [w for sublist in combined_text for w in sublist]\n"
   ]
  },
  {
   "cell_type": "code",
   "execution_count": 251,
   "metadata": {},
   "outputs": [],
   "source": [
    "from  nltk import FreqDist\n",
    "freqdist = FreqDist(combined_text)\n",
    "\n",
    "most_common = freqdist.most_common(200)"
   ]
  },
  {
   "cell_type": "code",
   "execution_count": 253,
   "metadata": {},
   "outputs": [
    {
     "data": {
      "text/plain": [
       "[('patients', 227773),\n",
       " ('study', 134263),\n",
       " ('et', 112246),\n",
       " ('al', 112003),\n",
       " ('treatment', 104628),\n",
       " ('group', 87718),\n",
       " ('cells', 78083),\n",
       " ('http', 73976),\n",
       " ('clinical', 63872),\n",
       " ('cancer', 59822),\n",
       " ('disease', 58204),\n",
       " ('data', 58102),\n",
       " ('may', 51129),\n",
       " ('cell', 48516),\n",
       " ('therapy', 47861),\n",
       " ('analysis', 46626),\n",
       " ('use', 46161),\n",
       " ('studies', 45790),\n",
       " ('results', 44958),\n",
       " ('table', 44527),\n",
       " ('diabetes', 43972),\n",
       " ('trial', 43504),\n",
       " ('also', 42777),\n",
       " ('blood', 42719),\n",
       " ('risk', 42582),\n",
       " ('using', 42111),\n",
       " ('used', 40958),\n",
       " ('effects', 40693),\n",
       " ('one', 40593),\n",
       " ('time', 39959),\n",
       " ('two', 39013),\n",
       " ('levels', 38319),\n",
       " ('response', 38192),\n",
       " ('control', 38110),\n",
       " ('effect', 37902),\n",
       " ('patient', 37227),\n",
       " ('dose', 36969),\n",
       " ('subjects', 36588),\n",
       " ('baseline', 36474),\n",
       " ('mean', 35703),\n",
       " ('compared', 35392),\n",
       " ('significant', 35204),\n",
       " ('med', 34456),\n",
       " ('groups', 34283),\n",
       " ('human', 33548),\n",
       " ('fig', 33005),\n",
       " ('research', 32419),\n",
       " ('placebo', 30873),\n",
       " ('medical', 30641),\n",
       " ('associated', 30437),\n",
       " ('pain', 30116),\n",
       " ('number', 30048),\n",
       " ('new', 29393),\n",
       " ('age', 29353),\n",
       " ('per', 29221),\n",
       " ('years', 29201),\n",
       " ('mg', 29009),\n",
       " ('total', 28881),\n",
       " ('increased', 28857),\n",
       " ('first', 28775),\n",
       " ('type', 28686),\n",
       " ('days', 28466),\n",
       " ('months', 27954),\n",
       " ('reported', 27743),\n",
       " ('activity', 27648),\n",
       " ('however', 27527),\n",
       " ('drug', 27357),\n",
       " ('figure', 27171),\n",
       " ('health', 26974),\n",
       " ('care', 26766),\n",
       " ('shown', 26310),\n",
       " ('rate', 26249),\n",
       " ('without', 26183),\n",
       " ('primary', 25965),\n",
       " ('university', 25963),\n",
       " ('heart', 25377),\n",
       " ('received', 25355),\n",
       " ('insulin', 25155),\n",
       " ('expression', 25046),\n",
       " ('events', 24807),\n",
       " ('day', 24434),\n",
       " ('tumor', 24348),\n",
       " ('md', 23987),\n",
       " ('weeks', 23510),\n",
       " ('observed', 23404),\n",
       " ('significantly', 23090),\n",
       " ('test', 23089),\n",
       " ('among', 22799),\n",
       " ('protein', 22760),\n",
       " ('high', 22685),\n",
       " ('function', 22571),\n",
       " ('medicine', 22553),\n",
       " ('mice', 22165),\n",
       " ('higher', 22103),\n",
       " ('performed', 22103),\n",
       " ('three', 22077),\n",
       " ('randomized', 22065),\n",
       " ('clin', 21886),\n",
       " ('journal', 21808),\n",
       " ('acute', 21764),\n",
       " ('efficacy', 21588),\n",
       " ('treated', 21573),\n",
       " ('trials', 21270),\n",
       " ('increase', 21013),\n",
       " ('children', 20959),\n",
       " ('glucose', 20956),\n",
       " ('level', 20803),\n",
       " ('survival', 20714),\n",
       " ('similar', 20713),\n",
       " ('hospital', 20271),\n",
       " ('plasma', 20206),\n",
       " ('values', 20126),\n",
       " ('safety', 19994),\n",
       " ('serum', 19991),\n",
       " ('within', 19875),\n",
       " ('percent', 19828),\n",
       " ('found', 19780),\n",
       " ('coronary', 19751),\n",
       " ('ci', 19488),\n",
       " ('changes', 19374),\n",
       " ('phase', 19326),\n",
       " ('adverse', 19279),\n",
       " ('different', 19091),\n",
       " ('infection', 19081),\n",
       " ('factors', 18930),\n",
       " ('lower', 18878),\n",
       " ('de', 18782),\n",
       " ('included', 18759),\n",
       " ('surgery', 18745),\n",
       " ('normal', 18704),\n",
       " ('mm', 18477),\n",
       " ('model', 18443),\n",
       " ('although', 18158),\n",
       " ('population', 18128),\n",
       " ('association', 17978),\n",
       " ('chronic', 17950),\n",
       " ('pressure', 17853),\n",
       " ('women', 17701),\n",
       " ('vs', 17678),\n",
       " ('volume', 17650),\n",
       " ('following', 17563),\n",
       " ('factor', 17550),\n",
       " ('including', 17488),\n",
       " ('low', 17415),\n",
       " ('versus', 17402),\n",
       " ('differences', 17319),\n",
       " ('evidence', 17242),\n",
       " ('participants', 17068),\n",
       " ('change', 17060),\n",
       " ('vaccine', 17058),\n",
       " ('death', 17018),\n",
       " ('median', 16941),\n",
       " ('could', 16939),\n",
       " ('range', 16882),\n",
       " ('outcome', 16809),\n",
       " ('growth', 16804),\n",
       " ('difference', 16788),\n",
       " ('based', 16696),\n",
       " ('administration', 16661),\n",
       " ('period', 16637),\n",
       " ('well', 16627),\n",
       " ('methods', 16617),\n",
       " ('followup', 16505),\n",
       " ('october', 16414),\n",
       " ('respectively', 16256),\n",
       " ('reduction', 16072),\n",
       " ('cardiovascular', 15973),\n",
       " ('center', 15910),\n",
       " ('score', 15888),\n",
       " ('res', 15798),\n",
       " ('less', 15776),\n",
       " ('end', 15750),\n",
       " ('least', 15685),\n",
       " ('american', 15591),\n",
       " ('showed', 15521),\n",
       " ('failure', 15361),\n",
       " ('receptor', 15346),\n",
       " ('available', 15334),\n",
       " ('lung', 15290),\n",
       " ('severe', 15196),\n",
       " ('symptoms', 15127),\n",
       " ('responses', 15003),\n",
       " ('early', 14863),\n",
       " ('engl', 14838),\n",
       " ('week', 14831),\n",
       " ('outcomes', 14829),\n",
       " ('cardiac', 14822),\n",
       " ('either', 14785),\n",
       " ('present', 14767),\n",
       " ('development', 14660),\n",
       " ('doptabstract', 14600),\n",
       " ('rates', 14528),\n",
       " ('measured', 14511),\n",
       " ('weight', 14503),\n",
       " ('standard', 14493),\n",
       " ('concentrations', 14467),\n",
       " ('society', 14458),\n",
       " ('role', 14440),\n",
       " ('mortality', 14396),\n",
       " ('addition', 14380)]"
      ]
     },
     "execution_count": 253,
     "metadata": {},
     "output_type": "execute_result"
    }
   ],
   "source": [
    "most_common"
   ]
  },
  {
   "cell_type": "code",
   "execution_count": 371,
   "metadata": {},
   "outputs": [],
   "source": [
    "X_test.loc[:, 'intervention_model'] = X_test.loc[:,'intervention_model'].astype('category')\n",
    "X_test.loc[:, 'healthy_volunteers'] = X_test.loc[:, 'healthy_volunteers'].astype('category')\n",
    "X_test.loc[:, 'masking'] = X_test.loc[:, 'masking'].astype('category')\n",
    "X_test.loc[:, 'primary_purpose'] = X_test.loc[:, 'primary_purpose'].astype('category')\n",
    "X_test.loc[:, 'allocation'] = X_test.loc[:, 'allocation'].astype('category')\n",
    "X_test.loc[:, 'gender'] = X_test.loc[:, 'gender'].astype('category')\n",
    "\n",
    "X_test.loc[:, 'enrollment'].fillna(enrollment_mean, inplace = True)\n",
    "X_test.loc[:, 'enrollment'] = X_test.loc[:,'enrollment'].astype(int)\n",
    "X_test.loc[:,'minimum_age'] = X_test.loc[:, 'minimum_age'].map(change_age).to_numpy()\n",
    "X_test.loc[:, 'maximum_age'] = X_test.loc[:, 'maximum_age'].map(change_age).to_numpy()\n",
    "X_test.loc[:, 'has_expanded_access'] = X_test.loc[:, 'has_expanded_access'].astype('category')\n",
    "X_test.loc[:,'country'] = X_test.loc[:, 'country'].astype('category')\n",
    "X_test.loc[:, 'maximum_age'] = X_test.loc[:,'maximum_age'].astype(int)\n",
    "X_test.loc[:, 'minimum_age'] = X_test.loc[:,'minimum_age'].astype(int)\n"
   ]
  },
  {
   "cell_type": "markdown",
   "metadata": {},
   "source": [
    "Let's create a model using only the text. I'd like to establish a bit of a baseline of what numbers we are going to see when running models down the line. We want to focus on a high precision."
   ]
  },
  {
   "cell_type": "code",
   "execution_count": 263,
   "metadata": {},
   "outputs": [],
   "source": [
    "vectorizer = TfidfVectorizer()\n",
    "tf_idf_train = vectorizer.fit_transform(X_train['combined_text'].map(lambda x: ' '.join(x)))\n",
    "tf_idf_test = vectorizer.transform(X_test['combined_text'].map(lambda x: ' '.join(x)))"
   ]
  },
  {
   "cell_type": "code",
   "execution_count": 264,
   "metadata": {},
   "outputs": [
    {
     "data": {
      "text/plain": [
       "(3614, 426391)"
      ]
     },
     "execution_count": 264,
     "metadata": {},
     "output_type": "execute_result"
    }
   ],
   "source": [
    "tf_idf_train.shape"
   ]
  },
  {
   "cell_type": "code",
   "execution_count": 279,
   "metadata": {},
   "outputs": [
    {
     "name": "stdout",
     "output_type": "stream",
     "text": [
      "Multinomial Naive Bayes\n",
      "Training Accuracy: 0.8157 \t\t Testing Accuracy: 0.8125\n",
      "\n",
      "----------------------------------------------------------------------\n",
      "\n",
      "Random Forest\n",
      "Training Accuracy: 1.0 \t\t Testing Accuracy: 0.8209\n"
     ]
    }
   ],
   "source": [
    "from sklearn.naive_bayes import MultinomialNB\n",
    "from sklearn.ensemble import RandomForestClassifier\n",
    "from sklearn.metrics import accuracy_score\n",
    "nb_classifier = MultinomialNB()\n",
    "rf_classifier = RandomForestClassifier(n_estimators= 100)\n",
    "logreg = LogisticRegression()\n",
    "\n",
    "nb_classifier.fit(tf_idf_train, y_train)\n",
    "nb_train_preds = nb_classifier.predict(tf_idf_train)\n",
    "nb_test_preds = nb_classifier.predict(tf_idf_test)\n",
    "\n",
    "\n",
    "rf_classifier.fit(tf_idf_train, y_train)\n",
    "rf_train_preds = rf_classifier.predict(tf_idf_train)\n",
    "rf_test_preds = rf_classifier.predict(tf_idf_test)\n",
    "\n",
    "logreg.fit(tf_idf_train,y_train)\n",
    "lr_test = logreg.predict(tf_idf_test)\n",
    "\n",
    "nb_train_score = accuracy_score(y_train, nb_train_preds)\n",
    "nb_test_score = accuracy_score(y_test, nb_test_preds)\n",
    "rf_train_score = accuracy_score(y_train, rf_train_preds)\n",
    "rf_test_score = accuracy_score(y_test, rf_test_preds)\n",
    "\n",
    "print(\"Multinomial Naive Bayes\")\n",
    "print(\"Training Accuracy: {:.4} \\t\\t Testing Accuracy: {:.4}\".format(nb_train_score, nb_test_score))\n",
    "print(\"\")\n",
    "print('-'*70)\n",
    "print(\"\")\n",
    "print('Random Forest')\n",
    "print(\"Training Accuracy: {:.4} \\t\\t Testing Accuracy: {:.4}\".format(rf_train_score, rf_test_score))"
   ]
  },
  {
   "cell_type": "code",
   "execution_count": 276,
   "metadata": {},
   "outputs": [
    {
     "name": "stdout",
     "output_type": "stream",
     "text": [
      "              precision    recall  f1-score   support\n",
      "\n",
      "       False       0.82      0.99      0.90      1447\n",
      "        True       0.71      0.07      0.12       334\n",
      "\n",
      "    accuracy                           0.82      1781\n",
      "   macro avg       0.77      0.53      0.51      1781\n",
      "weighted avg       0.80      0.82      0.75      1781\n",
      "\n"
     ]
    }
   ],
   "source": [
    "print(classification_report(y_test, rf_test_preds))"
   ]
  },
  {
   "cell_type": "code",
   "execution_count": 282,
   "metadata": {},
   "outputs": [
    {
     "name": "stdout",
     "output_type": "stream",
     "text": [
      "              precision    recall  f1-score   support\n",
      "\n",
      "       False       1.00      0.82      0.90      1756\n",
      "        True       0.06      0.76      0.11        25\n",
      "\n",
      "    accuracy                           0.82      1781\n",
      "   macro avg       0.53      0.79      0.50      1781\n",
      "weighted avg       0.98      0.82      0.89      1781\n",
      "\n"
     ]
    }
   ],
   "source": [
    "print(classification_report(lr_test, y_test))"
   ]
  },
  {
   "cell_type": "code",
   "execution_count": 178,
   "metadata": {},
   "outputs": [
    {
     "data": {
      "text/plain": [
       "array([False, False, False, ..., False, False, False])"
      ]
     },
     "execution_count": 178,
     "metadata": {},
     "output_type": "execute_result"
    }
   ],
   "source": [
    "logreg = LogisticRegression()\n",
    "\n",
    "logreg.fit(tokens, y_train)\n",
    "\n",
    "logreg.predict(test_tokens)"
   ]
  },
  {
   "cell_type": "code",
   "execution_count": 179,
   "metadata": {},
   "outputs": [
    {
     "name": "stdout",
     "output_type": "stream",
     "text": [
      "              precision    recall  f1-score   support\n",
      "\n",
      "       False       0.81      0.97      0.88      1447\n",
      "        True       0.20      0.04      0.06       334\n",
      "\n",
      "    accuracy                           0.79      1781\n",
      "   macro avg       0.50      0.50      0.47      1781\n",
      "weighted avg       0.70      0.79      0.73      1781\n",
      "\n"
     ]
    }
   ],
   "source": [
    "y_pred = logreg.predict(test_tokens)\n",
    "\n",
    "print(classification_report(y_test, y_pred))"
   ]
  },
  {
   "cell_type": "code",
   "execution_count": 295,
   "metadata": {},
   "outputs": [
    {
     "name": "stderr",
     "output_type": "stream",
     "text": [
      "C:\\Users\\Public\\Anaconda3\\lib\\site-packages\\ipykernel_launcher.py:1: SettingWithCopyWarning: \n",
      "A value is trying to be set on a copy of a slice from a DataFrame.\n",
      "Try using .loc[row_indexer,col_indexer] = value instead\n",
      "\n",
      "See the caveats in the documentation: https://pandas.pydata.org/pandas-docs/stable/user_guide/indexing.html#returning-a-view-versus-a-copy\n",
      "  \"\"\"Entry point for launching an IPython kernel.\n"
     ]
    }
   ],
   "source": [
    "X_train['combined_text'] = X_train['combined_text'].map(lambda x: ' '.join(x))"
   ]
  },
  {
   "cell_type": "code",
   "execution_count": 372,
   "metadata": {},
   "outputs": [
    {
     "name": "stderr",
     "output_type": "stream",
     "text": [
      "C:\\Users\\Public\\Anaconda3\\lib\\site-packages\\pandas\\core\\frame.py:4174: SettingWithCopyWarning: \n",
      "A value is trying to be set on a copy of a slice from a DataFrame\n",
      "\n",
      "See the caveats in the documentation: https://pandas.pydata.org/pandas-docs/stable/user_guide/indexing.html#returning-a-view-versus-a-copy\n",
      "  errors=errors,\n"
     ]
    }
   ],
   "source": [
    "X_train.drop(['source', 'condition', 'textblock', 'intervention_type', \n",
    "              'intervention_name','PMID_tokens'],\n",
    "             axis = 1, inplace = True)\n",
    "X_test.drop(['source', 'condition', 'textblock', 'intervention_type', \n",
    "              'intervention_name', 'PMID_tokens'],\n",
    "             axis = 1, inplace = True)"
   ]
  },
  {
   "cell_type": "code",
   "execution_count": 358,
   "metadata": {},
   "outputs": [
    {
     "name": "stderr",
     "output_type": "stream",
     "text": [
      "C:\\Users\\Public\\Anaconda3\\lib\\site-packages\\ipykernel_launcher.py:1: SettingWithCopyWarning: \n",
      "A value is trying to be set on a copy of a slice from a DataFrame.\n",
      "Try using .loc[row_indexer,col_indexer] = value instead\n",
      "\n",
      "See the caveats in the documentation: https://pandas.pydata.org/pandas-docs/stable/user_guide/indexing.html#returning-a-view-versus-a-copy\n",
      "  \"\"\"Entry point for launching an IPython kernel.\n",
      "C:\\Users\\Public\\Anaconda3\\lib\\site-packages\\ipykernel_launcher.py:2: SettingWithCopyWarning: \n",
      "A value is trying to be set on a copy of a slice from a DataFrame.\n",
      "Try using .loc[row_indexer,col_indexer] = value instead\n",
      "\n",
      "See the caveats in the documentation: https://pandas.pydata.org/pandas-docs/stable/user_guide/indexing.html#returning-a-view-versus-a-copy\n",
      "  \n"
     ]
    }
   ],
   "source": [
    "X_train['combined_text']= X_train['combined_text'].map(lambda x: x.split(' '))\n",
    "X_test['combined_text']= X_test['combined_text'].map(lambda x: x.split(' '))"
   ]
  },
  {
   "cell_type": "markdown",
   "metadata": {},
   "source": [
    "Let's create a more streamlined process since we will want to deploy our model in the future. We will also look at ways to improve the accuracy of the model. One way we can try and improve the accuracy of the model is by not combining the text into one column. We will keep them seperate and apply vectorization to each column to see if that improves our scores. Let's also define which measure of accuracy we want to focus on. \n",
    "\n",
    "Take a look below. In an imbalanced classification, you can have a high overall accuracy and not necessarily predict the under represented column well. If we accurately predict all False labels and no True labels, we can land an accuracy score over 75%.\n",
    "\n",
    "What we need to focus on is the precision score of the True labels. We want to limit the amount of false positives we classify."
   ]
  },
  {
   "cell_type": "code",
   "execution_count": 375,
   "metadata": {},
   "outputs": [
    {
     "name": "stdout",
     "output_type": "stream",
     "text": [
      "[Pipeline] ...... (step 1 of 3) Processing preprocessor, total= 6.8min\n",
      "[Pipeline] .............. (step 2 of 3) Processing bal2, total=   0.5s\n",
      "[Pipeline] ............. (step 3 of 3) Processing model, total=   0.7s\n"
     ]
    },
    {
     "data": {
      "text/plain": [
       "Pipeline(steps=[('preprocessor',\n",
       "                 ColumnTransformer(n_jobs=-1,\n",
       "                                   transformers=[('num',\n",
       "                                                  Pipeline(steps=[('imputer',\n",
       "                                                                   SimpleImputer(strategy='median')),\n",
       "                                                                  ('scaler',\n",
       "                                                                   MinMaxScaler())]),\n",
       "                                                  ['minimum_age', 'maximum_age',\n",
       "                                                   'enrollment',\n",
       "                                                   'num_of_papers']),\n",
       "                                                 ('text',\n",
       "                                                  Pipeline(steps=[('vectorizer',\n",
       "                                                                   D2VTransformer(dbow_words=1))]),\n",
       "                                                  'combined_text'),\n",
       "                                                 ('cat',\n",
       "                                                  Pipeline(steps=[('imputer'...\n",
       "                                                                                 strategy='constant')),\n",
       "                                                                  ('ohe',\n",
       "                                                                   OneHotEncoder(handle_unknown='ignore'))]),\n",
       "                                                  ['has_expanded_access',\n",
       "                                                   'gender',\n",
       "                                                   'healthy_volunteers',\n",
       "                                                   'country', 'allocation',\n",
       "                                                   'intervention_model',\n",
       "                                                   'masking',\n",
       "                                                   'is_fda_regulated_drug',\n",
       "                                                   'is_fda_regulated_device',\n",
       "                                                   'primary_purpose'])])),\n",
       "                ('bal2', SMOTE(sampling_strategy=0.3)),\n",
       "                ('model', LogisticRegression(C=1, solver='liblinear'))],\n",
       "         verbose=True)"
      ]
     },
     "execution_count": 375,
     "metadata": {},
     "output_type": "execute_result"
    }
   ],
   "source": [
    "cat_cols = ['has_expanded_access', 'gender', 'healthy_volunteers', 'country',\n",
    "            'allocation', 'intervention_model', 'masking', 'is_fda_regulated_drug',\n",
    "            'is_fda_regulated_device', 'primary_purpose']\n",
    "num_cols = ['minimum_age', 'maximum_age', 'enrollment', 'num_of_papers']\n",
    "\n",
    "\n",
    "cat_pipe = Pipeline([('imputer', SimpleImputer(strategy = 'constant', fill_value = 'missing')),\n",
    "                     ('ohe', OneHotEncoder(handle_unknown = 'ignore'))])\n",
    "\n",
    "\n",
    "num_pipe = Pipeline([('imputer', SimpleImputer(strategy = 'median')),\n",
    "                     ('scaler', MinMaxScaler())])\n",
    "\n",
    "word_pipe = Pipeline([('vectorizer', D2VTransformer(dm = 1, min_count = 5, dbow_words= 1))])\n",
    "\n",
    "preprocessor = ColumnTransformer(transformers = [('num', num_pipe, num_cols),\n",
    "                                                 ('text', word_pipe, 'combined_text'),\n",
    "                                                 ('cat', cat_pipe, cat_cols),\n",
    "                                                 #('poly', poly_pipe, inter)\n",
    "                                                 ], remainder = 'drop',\n",
    "                                 n_jobs=-1)\n",
    "\n",
    "pipe = imbPipe(steps = [('preprocessor', preprocessor),\n",
    "                        #('poly', PolynomialFeatures()),\n",
    "                         #('bal', RandomUnderSampler(sampling_strategy = 0.4)),\n",
    "                        ('bal2', SMOTE(sampling_strategy= 0.3)),\n",
    "                        \n",
    "                        ('model', LogisticRegression(solver = 'liblinear', C = 1))],\n",
    "               verbose = True)\n",
    "\n",
    "pipe.fit(X_train, y_train)"
   ]
  },
  {
   "cell_type": "code",
   "execution_count": 306,
   "metadata": {},
   "outputs": [
    {
     "name": "stderr",
     "output_type": "stream",
     "text": [
      "C:\\Users\\Public\\Anaconda3\\lib\\site-packages\\ipykernel_launcher.py:1: SettingWithCopyWarning: \n",
      "A value is trying to be set on a copy of a slice from a DataFrame.\n",
      "Try using .loc[row_indexer,col_indexer] = value instead\n",
      "\n",
      "See the caveats in the documentation: https://pandas.pydata.org/pandas-docs/stable/user_guide/indexing.html#returning-a-view-versus-a-copy\n",
      "  \"\"\"Entry point for launching an IPython kernel.\n"
     ]
    }
   ],
   "source": [
    "X_test['combined_text'] = X_test['combined_text'].map(lambda x: ' '.join(x))"
   ]
  },
  {
   "cell_type": "code",
   "execution_count": 200,
   "metadata": {},
   "outputs": [
    {
     "data": {
      "text/html": [
       "<div>\n",
       "<style scoped>\n",
       "    .dataframe tbody tr th:only-of-type {\n",
       "        vertical-align: middle;\n",
       "    }\n",
       "\n",
       "    .dataframe tbody tr th {\n",
       "        vertical-align: top;\n",
       "    }\n",
       "\n",
       "    .dataframe thead th {\n",
       "        text-align: right;\n",
       "    }\n",
       "</style>\n",
       "<table border=\"1\" class=\"dataframe\">\n",
       "  <thead>\n",
       "    <tr style=\"text-align: right;\">\n",
       "      <th></th>\n",
       "      <th>source</th>\n",
       "      <th>has_expanded_access</th>\n",
       "      <th>condition</th>\n",
       "      <th>enrollment</th>\n",
       "      <th>textblock</th>\n",
       "      <th>intervention_type</th>\n",
       "      <th>is_fda_regulated_drug</th>\n",
       "      <th>is_fda_regulated_device</th>\n",
       "      <th>intervention_name</th>\n",
       "      <th>gender</th>\n",
       "      <th>minimum_age</th>\n",
       "      <th>maximum_age</th>\n",
       "      <th>healthy_volunteers</th>\n",
       "      <th>country</th>\n",
       "      <th>allocation</th>\n",
       "      <th>intervention_model</th>\n",
       "      <th>primary_purpose</th>\n",
       "      <th>masking</th>\n",
       "      <th>PMID_tokens</th>\n",
       "      <th>num_of_papers</th>\n",
       "    </tr>\n",
       "    <tr>\n",
       "      <th>nct_id</th>\n",
       "      <th></th>\n",
       "      <th></th>\n",
       "      <th></th>\n",
       "      <th></th>\n",
       "      <th></th>\n",
       "      <th></th>\n",
       "      <th></th>\n",
       "      <th></th>\n",
       "      <th></th>\n",
       "      <th></th>\n",
       "      <th></th>\n",
       "      <th></th>\n",
       "      <th></th>\n",
       "      <th></th>\n",
       "      <th></th>\n",
       "      <th></th>\n",
       "      <th></th>\n",
       "      <th></th>\n",
       "      <th></th>\n",
       "      <th></th>\n",
       "    </tr>\n",
       "  </thead>\n",
       "  <tbody>\n",
       "    <tr>\n",
       "      <th>NCT01720316</th>\n",
       "      <td>mclean hospital</td>\n",
       "      <td>No</td>\n",
       "      <td>schizoaffective disorder</td>\n",
       "      <td>2.0</td>\n",
       "      <td>purpose study assess efficacy oral glycine aug...</td>\n",
       "      <td>drug drug</td>\n",
       "      <td>Yes</td>\n",
       "      <td>No</td>\n",
       "      <td>glycine placebo</td>\n",
       "      <td>All</td>\n",
       "      <td>18.0</td>\n",
       "      <td>65.0</td>\n",
       "      <td>No</td>\n",
       "      <td>United States</td>\n",
       "      <td>Randomized</td>\n",
       "      <td>Crossover Assignment</td>\n",
       "      <td>Treatment</td>\n",
       "      <td>Quadruple (Participant, Care Provider, Investi...</td>\n",
       "      <td>untitled document psychiatry november brief re...</td>\n",
       "      <td>33.0</td>\n",
       "    </tr>\n",
       "    <tr>\n",
       "      <th>NCT00297258</th>\n",
       "      <td>glaxosmithkline</td>\n",
       "      <td>No</td>\n",
       "      <td>sarcoma soft tissue</td>\n",
       "      <td>148.0</td>\n",
       "      <td>purpose study evaluate activity tolerability p...</td>\n",
       "      <td>drug</td>\n",
       "      <td>NaN</td>\n",
       "      <td>NaN</td>\n",
       "      <td>pazopanib</td>\n",
       "      <td>All</td>\n",
       "      <td>21.0</td>\n",
       "      <td>0.0</td>\n",
       "      <td>No</td>\n",
       "      <td>Belgium</td>\n",
       "      <td>Non-Randomized</td>\n",
       "      <td>Single Group Assignment</td>\n",
       "      <td>Treatment</td>\n",
       "      <td>None (Open Label)</td>\n",
       "      <td>cytokine angiogenic factors associated efficac...</td>\n",
       "      <td>2.0</td>\n",
       "    </tr>\n",
       "    <tr>\n",
       "      <th>NCT01384149</th>\n",
       "      <td>meir medical center</td>\n",
       "      <td>No</td>\n",
       "      <td>primary open angle glaucoma</td>\n",
       "      <td>32.0</td>\n",
       "      <td>purpose study evaluate advantages disadvantage...</td>\n",
       "      <td>device device</td>\n",
       "      <td>NaN</td>\n",
       "      <td>NaN</td>\n",
       "      <td>external slt standard slt</td>\n",
       "      <td>All</td>\n",
       "      <td>40.0</td>\n",
       "      <td>0.0</td>\n",
       "      <td>No</td>\n",
       "      <td>Israel</td>\n",
       "      <td>Randomized</td>\n",
       "      <td>Parallel Assignment</td>\n",
       "      <td>Treatment</td>\n",
       "      <td>None (Open Label)</td>\n",
       "      <td>early diagnosis ocular hypertension using lowi...</td>\n",
       "      <td>11.0</td>\n",
       "    </tr>\n",
       "    <tr>\n",
       "      <th>NCT01267682</th>\n",
       "      <td>penn state university</td>\n",
       "      <td>No</td>\n",
       "      <td>delirium</td>\n",
       "      <td>283.0</td>\n",
       "      <td>purpose study test effectiveness cognitively s...</td>\n",
       "      <td>behavioral</td>\n",
       "      <td>NaN</td>\n",
       "      <td>NaN</td>\n",
       "      <td>cognitive stimulation</td>\n",
       "      <td>All</td>\n",
       "      <td>65.0</td>\n",
       "      <td>0.0</td>\n",
       "      <td>No</td>\n",
       "      <td>United States</td>\n",
       "      <td>Randomized</td>\n",
       "      <td>Parallel Assignment</td>\n",
       "      <td>Treatment</td>\n",
       "      <td>Single (Outcomes Assessor)</td>\n",
       "      <td>study protocol open access study protocol recr...</td>\n",
       "      <td>11.0</td>\n",
       "    </tr>\n",
       "    <tr>\n",
       "      <th>NCT00331799</th>\n",
       "      <td>duke university</td>\n",
       "      <td>No</td>\n",
       "      <td>major depressive disorder</td>\n",
       "      <td>18.0</td>\n",
       "      <td>purpose study explore benefits duloxetine enha...</td>\n",
       "      <td>drug</td>\n",
       "      <td>NaN</td>\n",
       "      <td>NaN</td>\n",
       "      <td>duloxetine</td>\n",
       "      <td>All</td>\n",
       "      <td>18.0</td>\n",
       "      <td>65.0</td>\n",
       "      <td>No</td>\n",
       "      <td>United States</td>\n",
       "      <td>N/A</td>\n",
       "      <td>Single Group Assignment</td>\n",
       "      <td>Treatment</td>\n",
       "      <td>None (Open Label)</td>\n",
       "      <td>article psychiatry october inhibition norepine...</td>\n",
       "      <td>6.0</td>\n",
       "    </tr>\n",
       "    <tr>\n",
       "      <th>...</th>\n",
       "      <td>...</td>\n",
       "      <td>...</td>\n",
       "      <td>...</td>\n",
       "      <td>...</td>\n",
       "      <td>...</td>\n",
       "      <td>...</td>\n",
       "      <td>...</td>\n",
       "      <td>...</td>\n",
       "      <td>...</td>\n",
       "      <td>...</td>\n",
       "      <td>...</td>\n",
       "      <td>...</td>\n",
       "      <td>...</td>\n",
       "      <td>...</td>\n",
       "      <td>...</td>\n",
       "      <td>...</td>\n",
       "      <td>...</td>\n",
       "      <td>...</td>\n",
       "      <td>...</td>\n",
       "      <td>...</td>\n",
       "    </tr>\n",
       "    <tr>\n",
       "      <th>NCT00844493</th>\n",
       "      <td>johns hopkins bloomberg school public health</td>\n",
       "      <td>No</td>\n",
       "      <td>diarrhea</td>\n",
       "      <td>30.0</td>\n",
       "      <td>study validate model testing new vaccines desi...</td>\n",
       "      <td>biological biological biological biological</td>\n",
       "      <td>NaN</td>\n",
       "      <td>NaN</td>\n",
       "      <td>coli strain buffer coli strain buffer coli str...</td>\n",
       "      <td>All</td>\n",
       "      <td>18.0</td>\n",
       "      <td>45.0</td>\n",
       "      <td>Accepts Healthy Volunteers</td>\n",
       "      <td>United States</td>\n",
       "      <td>Randomized</td>\n",
       "      <td>Single Group Assignment</td>\n",
       "      <td>Prevention</td>\n",
       "      <td>Quadruple (Participant, Care Provider, Investi...</td>\n",
       "      <td>comparative safety immunogenicity two attenuat...</td>\n",
       "      <td>7.0</td>\n",
       "    </tr>\n",
       "    <tr>\n",
       "      <th>NCT00365170</th>\n",
       "      <td>novo nordisk</td>\n",
       "      <td>No</td>\n",
       "      <td>diabetes</td>\n",
       "      <td>419.0</td>\n",
       "      <td>trial conducted europe middle east north ameri...</td>\n",
       "      <td>drug drug</td>\n",
       "      <td>NaN</td>\n",
       "      <td>NaN</td>\n",
       "      <td>human insulin insulin aspart</td>\n",
       "      <td>Female</td>\n",
       "      <td>18.0</td>\n",
       "      <td>0.0</td>\n",
       "      <td>No</td>\n",
       "      <td>Argentina</td>\n",
       "      <td>Randomized</td>\n",
       "      <td>Parallel Assignment</td>\n",
       "      <td>Treatment</td>\n",
       "      <td>None (Open Label)</td>\n",
       "      <td>maternal glycemic control hypoglycemia type di...</td>\n",
       "      <td>6.0</td>\n",
       "    </tr>\n",
       "    <tr>\n",
       "      <th>NCT00826020</th>\n",
       "      <td>university nebraska</td>\n",
       "      <td>No</td>\n",
       "      <td>parenteral nutrition associated liver disease ...</td>\n",
       "      <td>72.0</td>\n",
       "      <td>purpose study determine established parenteral...</td>\n",
       "      <td>drug</td>\n",
       "      <td>NaN</td>\n",
       "      <td>NaN</td>\n",
       "      <td></td>\n",
       "      <td>All</td>\n",
       "      <td>0.0</td>\n",
       "      <td>0.0</td>\n",
       "      <td>No</td>\n",
       "      <td>United States</td>\n",
       "      <td>N/A</td>\n",
       "      <td>Single Group Assignment</td>\n",
       "      <td>Treatment</td>\n",
       "      <td>None (Open Label)</td>\n",
       "      <td>fatty acid supplementation prevents hepatic st...</td>\n",
       "      <td>5.0</td>\n",
       "    </tr>\n",
       "    <tr>\n",
       "      <th>NCT00505375</th>\n",
       "      <td>national institute diabetes digestive kidney d...</td>\n",
       "      <td>No</td>\n",
       "      <td>type diabetes mellitus</td>\n",
       "      <td>112.0</td>\n",
       "      <td>purpose study determine whether treatment abat...</td>\n",
       "      <td>drug</td>\n",
       "      <td>Yes</td>\n",
       "      <td>No</td>\n",
       "      <td>ig placebo</td>\n",
       "      <td>All</td>\n",
       "      <td>6.0</td>\n",
       "      <td>45.0</td>\n",
       "      <td>No</td>\n",
       "      <td>United States</td>\n",
       "      <td>Randomized</td>\n",
       "      <td>Parallel Assignment</td>\n",
       "      <td>Treatment</td>\n",
       "      <td>Triple (Participant, Care Provider, Investigator)</td>\n",
       "      <td>introduction psoriasis multifactorial disease ...</td>\n",
       "      <td>8.0</td>\n",
       "    </tr>\n",
       "    <tr>\n",
       "      <th>NCT01428843</th>\n",
       "      <td>groupe detude therapeutique des affections inf...</td>\n",
       "      <td>No</td>\n",
       "      <td>inflammatory bowel disease</td>\n",
       "      <td>60.0</td>\n",
       "      <td>anemia frequently extradigestive symptom infla...</td>\n",
       "      <td>drug drug</td>\n",
       "      <td>NaN</td>\n",
       "      <td>NaN</td>\n",
       "      <td>ferrisat placebo</td>\n",
       "      <td>All</td>\n",
       "      <td>18.0</td>\n",
       "      <td>0.0</td>\n",
       "      <td>No</td>\n",
       "      <td>France</td>\n",
       "      <td>Randomized</td>\n",
       "      <td>Parallel Assignment</td>\n",
       "      <td>Treatment</td>\n",
       "      <td>Double (Participant, Investigator)</td>\n",
       "      <td>gut observations incidence cause anaemia ulcer...</td>\n",
       "      <td>6.0</td>\n",
       "    </tr>\n",
       "  </tbody>\n",
       "</table>\n",
       "<p>3614 rows × 20 columns</p>\n",
       "</div>"
      ],
      "text/plain": [
       "                                                        source  \\\n",
       "nct_id                                                           \n",
       "NCT01720316                                    mclean hospital   \n",
       "NCT00297258                                    glaxosmithkline   \n",
       "NCT01384149                                meir medical center   \n",
       "NCT01267682                              penn state university   \n",
       "NCT00331799                                    duke university   \n",
       "...                                                        ...   \n",
       "NCT00844493       johns hopkins bloomberg school public health   \n",
       "NCT00365170                                       novo nordisk   \n",
       "NCT00826020                                university nebraska   \n",
       "NCT00505375  national institute diabetes digestive kidney d...   \n",
       "NCT01428843  groupe detude therapeutique des affections inf...   \n",
       "\n",
       "            has_expanded_access  \\\n",
       "nct_id                            \n",
       "NCT01720316                  No   \n",
       "NCT00297258                  No   \n",
       "NCT01384149                  No   \n",
       "NCT01267682                  No   \n",
       "NCT00331799                  No   \n",
       "...                         ...   \n",
       "NCT00844493                  No   \n",
       "NCT00365170                  No   \n",
       "NCT00826020                  No   \n",
       "NCT00505375                  No   \n",
       "NCT01428843                  No   \n",
       "\n",
       "                                                     condition  enrollment  \\\n",
       "nct_id                                                                       \n",
       "NCT01720316                           schizoaffective disorder         2.0   \n",
       "NCT00297258                                sarcoma soft tissue       148.0   \n",
       "NCT01384149                        primary open angle glaucoma        32.0   \n",
       "NCT01267682                                           delirium       283.0   \n",
       "NCT00331799                          major depressive disorder        18.0   \n",
       "...                                                        ...         ...   \n",
       "NCT00844493                                           diarrhea        30.0   \n",
       "NCT00365170                                           diabetes       419.0   \n",
       "NCT00826020  parenteral nutrition associated liver disease ...        72.0   \n",
       "NCT00505375                             type diabetes mellitus       112.0   \n",
       "NCT01428843                         inflammatory bowel disease        60.0   \n",
       "\n",
       "                                                     textblock  \\\n",
       "nct_id                                                           \n",
       "NCT01720316  purpose study assess efficacy oral glycine aug...   \n",
       "NCT00297258  purpose study evaluate activity tolerability p...   \n",
       "NCT01384149  purpose study evaluate advantages disadvantage...   \n",
       "NCT01267682  purpose study test effectiveness cognitively s...   \n",
       "NCT00331799  purpose study explore benefits duloxetine enha...   \n",
       "...                                                        ...   \n",
       "NCT00844493  study validate model testing new vaccines desi...   \n",
       "NCT00365170  trial conducted europe middle east north ameri...   \n",
       "NCT00826020  purpose study determine established parenteral...   \n",
       "NCT00505375  purpose study determine whether treatment abat...   \n",
       "NCT01428843  anemia frequently extradigestive symptom infla...   \n",
       "\n",
       "                                       intervention_type  \\\n",
       "nct_id                                                     \n",
       "NCT01720316                                    drug drug   \n",
       "NCT00297258                                         drug   \n",
       "NCT01384149                                device device   \n",
       "NCT01267682                                   behavioral   \n",
       "NCT00331799                                         drug   \n",
       "...                                                  ...   \n",
       "NCT00844493  biological biological biological biological   \n",
       "NCT00365170                                    drug drug   \n",
       "NCT00826020                                         drug   \n",
       "NCT00505375                                         drug   \n",
       "NCT01428843                                    drug drug   \n",
       "\n",
       "            is_fda_regulated_drug is_fda_regulated_device  \\\n",
       "nct_id                                                      \n",
       "NCT01720316                   Yes                      No   \n",
       "NCT00297258                   NaN                     NaN   \n",
       "NCT01384149                   NaN                     NaN   \n",
       "NCT01267682                   NaN                     NaN   \n",
       "NCT00331799                   NaN                     NaN   \n",
       "...                           ...                     ...   \n",
       "NCT00844493                   NaN                     NaN   \n",
       "NCT00365170                   NaN                     NaN   \n",
       "NCT00826020                   NaN                     NaN   \n",
       "NCT00505375                   Yes                      No   \n",
       "NCT01428843                   NaN                     NaN   \n",
       "\n",
       "                                             intervention_name  gender  \\\n",
       "nct_id                                                                   \n",
       "NCT01720316                                    glycine placebo     All   \n",
       "NCT00297258                                          pazopanib     All   \n",
       "NCT01384149                          external slt standard slt     All   \n",
       "NCT01267682                              cognitive stimulation     All   \n",
       "NCT00331799                                         duloxetine     All   \n",
       "...                                                        ...     ...   \n",
       "NCT00844493  coli strain buffer coli strain buffer coli str...     All   \n",
       "NCT00365170                       human insulin insulin aspart  Female   \n",
       "NCT00826020                                                        All   \n",
       "NCT00505375                                         ig placebo     All   \n",
       "NCT01428843                                   ferrisat placebo     All   \n",
       "\n",
       "             minimum_age  maximum_age          healthy_volunteers  \\\n",
       "nct_id                                                              \n",
       "NCT01720316         18.0         65.0                          No   \n",
       "NCT00297258         21.0          0.0                          No   \n",
       "NCT01384149         40.0          0.0                          No   \n",
       "NCT01267682         65.0          0.0                          No   \n",
       "NCT00331799         18.0         65.0                          No   \n",
       "...                  ...          ...                         ...   \n",
       "NCT00844493         18.0         45.0  Accepts Healthy Volunteers   \n",
       "NCT00365170         18.0          0.0                          No   \n",
       "NCT00826020          0.0          0.0                          No   \n",
       "NCT00505375          6.0         45.0                          No   \n",
       "NCT01428843         18.0          0.0                          No   \n",
       "\n",
       "                   country      allocation       intervention_model  \\\n",
       "nct_id                                                                \n",
       "NCT01720316  United States      Randomized     Crossover Assignment   \n",
       "NCT00297258        Belgium  Non-Randomized  Single Group Assignment   \n",
       "NCT01384149         Israel      Randomized      Parallel Assignment   \n",
       "NCT01267682  United States      Randomized      Parallel Assignment   \n",
       "NCT00331799  United States             N/A  Single Group Assignment   \n",
       "...                    ...             ...                      ...   \n",
       "NCT00844493  United States      Randomized  Single Group Assignment   \n",
       "NCT00365170      Argentina      Randomized      Parallel Assignment   \n",
       "NCT00826020  United States             N/A  Single Group Assignment   \n",
       "NCT00505375  United States      Randomized      Parallel Assignment   \n",
       "NCT01428843         France      Randomized      Parallel Assignment   \n",
       "\n",
       "            primary_purpose  \\\n",
       "nct_id                        \n",
       "NCT01720316       Treatment   \n",
       "NCT00297258       Treatment   \n",
       "NCT01384149       Treatment   \n",
       "NCT01267682       Treatment   \n",
       "NCT00331799       Treatment   \n",
       "...                     ...   \n",
       "NCT00844493      Prevention   \n",
       "NCT00365170       Treatment   \n",
       "NCT00826020       Treatment   \n",
       "NCT00505375       Treatment   \n",
       "NCT01428843       Treatment   \n",
       "\n",
       "                                                       masking  \\\n",
       "nct_id                                                           \n",
       "NCT01720316  Quadruple (Participant, Care Provider, Investi...   \n",
       "NCT00297258                                  None (Open Label)   \n",
       "NCT01384149                                  None (Open Label)   \n",
       "NCT01267682                         Single (Outcomes Assessor)   \n",
       "NCT00331799                                  None (Open Label)   \n",
       "...                                                        ...   \n",
       "NCT00844493  Quadruple (Participant, Care Provider, Investi...   \n",
       "NCT00365170                                  None (Open Label)   \n",
       "NCT00826020                                  None (Open Label)   \n",
       "NCT00505375  Triple (Participant, Care Provider, Investigator)   \n",
       "NCT01428843                 Double (Participant, Investigator)   \n",
       "\n",
       "                                                   PMID_tokens  num_of_papers  \n",
       "nct_id                                                                         \n",
       "NCT01720316  untitled document psychiatry november brief re...           33.0  \n",
       "NCT00297258  cytokine angiogenic factors associated efficac...            2.0  \n",
       "NCT01384149  early diagnosis ocular hypertension using lowi...           11.0  \n",
       "NCT01267682  study protocol open access study protocol recr...           11.0  \n",
       "NCT00331799  article psychiatry october inhibition norepine...            6.0  \n",
       "...                                                        ...            ...  \n",
       "NCT00844493  comparative safety immunogenicity two attenuat...            7.0  \n",
       "NCT00365170  maternal glycemic control hypoglycemia type di...            6.0  \n",
       "NCT00826020  fatty acid supplementation prevents hepatic st...            5.0  \n",
       "NCT00505375  introduction psoriasis multifactorial disease ...            8.0  \n",
       "NCT01428843  gut observations incidence cause anaemia ulcer...            6.0  \n",
       "\n",
       "[3614 rows x 20 columns]"
      ]
     },
     "execution_count": 200,
     "metadata": {},
     "output_type": "execute_result"
    }
   ],
   "source": [
    "X_train"
   ]
  },
  {
   "cell_type": "code",
   "execution_count": 307,
   "metadata": {},
   "outputs": [
    {
     "name": "stdout",
     "output_type": "stream",
     "text": [
      "              precision    recall  f1-score   support\n",
      "\n",
      "       False       0.83      0.99      0.90      1447\n",
      "        True       0.73      0.14      0.24       334\n",
      "\n",
      "    accuracy                           0.83      1781\n",
      "   macro avg       0.78      0.57      0.57      1781\n",
      "weighted avg       0.81      0.83      0.78      1781\n",
      "\n"
     ]
    }
   ],
   "source": [
    "y_pred = pipe.predict(X_test)\n",
    "print(classification_report(y_test, y_pred))"
   ]
  },
  {
   "cell_type": "code",
   "execution_count": 309,
   "metadata": {},
   "outputs": [
    {
     "name": "stdout",
     "output_type": "stream",
     "text": [
      "              precision    recall  f1-score   support\n",
      "\n",
      "       False       0.84      0.98      0.90      1447\n",
      "        True       0.72      0.17      0.27       334\n",
      "\n",
      "    accuracy                           0.83      1781\n",
      "   macro avg       0.78      0.58      0.59      1781\n",
      "weighted avg       0.81      0.83      0.79      1781\n",
      "\n"
     ]
    }
   ],
   "source": [
    "y_pred = pipe.predict(X_test)\n",
    "print(classification_report(y_test, y_pred))"
   ]
  },
  {
   "cell_type": "code",
   "execution_count": 323,
   "metadata": {},
   "outputs": [
    {
     "name": "stdout",
     "output_type": "stream",
     "text": [
      "              precision    recall  f1-score   support\n",
      "\n",
      "       False       0.86      0.94      0.90      1447\n",
      "        True       0.56      0.32      0.41       334\n",
      "\n",
      "    accuracy                           0.83      1781\n",
      "   macro avg       0.71      0.63      0.65      1781\n",
      "weighted avg       0.80      0.83      0.81      1781\n",
      "\n"
     ]
    }
   ],
   "source": [
    "y_pred = pipe.predict(X_test)\n",
    "print(classification_report(y_test, y_pred))"
   ]
  },
  {
   "cell_type": "code",
   "execution_count": 374,
   "metadata": {},
   "outputs": [
    {
     "name": "stdout",
     "output_type": "stream",
     "text": [
      "              precision    recall  f1-score   support\n",
      "\n",
      "       False       0.86      0.90      0.88      1447\n",
      "        True       0.46      0.37      0.41       334\n",
      "\n",
      "    accuracy                           0.80      1781\n",
      "   macro avg       0.66      0.63      0.64      1781\n",
      "weighted avg       0.78      0.80      0.79      1781\n",
      "\n"
     ]
    }
   ],
   "source": [
    "y_pred = pipe.predict(X_test)\n",
    "print(classification_report(y_test, y_pred))"
   ]
  },
  {
   "cell_type": "code",
   "execution_count": 376,
   "metadata": {},
   "outputs": [
    {
     "name": "stdout",
     "output_type": "stream",
     "text": [
      "              precision    recall  f1-score   support\n",
      "\n",
      "       False       0.87      0.91      0.89      1447\n",
      "        True       0.49      0.39      0.43       334\n",
      "\n",
      "    accuracy                           0.81      1781\n",
      "   macro avg       0.68      0.65      0.66      1781\n",
      "weighted avg       0.79      0.81      0.80      1781\n",
      "\n"
     ]
    }
   ],
   "source": [
    "y_pred = pipe.predict(X_test)\n",
    "print(classification_report(y_test, y_pred))"
   ]
  },
  {
   "cell_type": "markdown",
   "metadata": {},
   "source": [
    "Let's try a different approach. Let's keep the text columns seperate to see if there is a difference in the accuracy of the models."
   ]
  },
  {
   "cell_type": "code",
   "execution_count": 328,
   "metadata": {},
   "outputs": [
    {
     "name": "stdout",
     "output_type": "stream",
     "text": [
      "              precision    recall  f1-score   support\n",
      "\n",
      "       False       0.85      0.97      0.91      1447\n",
      "        True       0.65      0.26      0.37       334\n",
      "\n",
      "    accuracy                           0.84      1781\n",
      "   macro avg       0.75      0.61      0.64      1781\n",
      "weighted avg       0.81      0.84      0.81      1781\n",
      "\n"
     ]
    }
   ],
   "source": [
    "y_pred = pipe.predict(X_test)\n",
    "print(classification_report(y_test, y_pred))"
   ]
  },
  {
   "cell_type": "code",
   "execution_count": 325,
   "metadata": {},
   "outputs": [
    {
     "name": "stdout",
     "output_type": "stream",
     "text": [
      "              precision    recall  f1-score   support\n",
      "\n",
      "       False       0.85      0.97      0.91      1447\n",
      "        True       0.65      0.25      0.37       334\n",
      "\n",
      "    accuracy                           0.83      1781\n",
      "   macro avg       0.75      0.61      0.64      1781\n",
      "weighted avg       0.81      0.83      0.80      1781\n",
      "\n"
     ]
    }
   ],
   "source": [
    "y_pred = pipe.predict(X_test)\n",
    "print(classification_report(y_test, y_pred))"
   ]
  },
  {
   "cell_type": "markdown",
   "metadata": {},
   "source": [
    "Each clinical trial may use reference papers which in turn have PMIDs associated with them. These PMIDs are reference numbers to the actual article themselves. We will capture each PMID in every clinical trial to later perform a web crawl to obtan each article if permissible. "
   ]
  },
  {
   "cell_type": "markdown",
   "metadata": {},
   "source": [
    "We also need to only keep the interventional studies that are finished. We will keep completed, unknown_status, terminated, withdrawn, suspended studies."
   ]
  },
  {
   "cell_type": "markdown",
   "metadata": {},
   "source": [
    "Split the training and test set. We will conserve 33% of dataset as the test set."
   ]
  },
  {
   "cell_type": "code",
   "execution_count": 338,
   "metadata": {},
   "outputs": [
    {
     "name": "stdout",
     "output_type": "stream",
     "text": [
      "[Pipeline] ...... (step 1 of 3) Processing preprocessor, total=  32.8s\n",
      "[Pipeline] .............. (step 2 of 3) Processing bal2, total=   1.1s\n",
      "[Pipeline] ............. (step 3 of 3) Processing model, total=   8.3s\n",
      "AUC for 0.2: 0.802676609462485\n",
      "-------------------------------------------------------------------------------------\n",
      "[Pipeline] ...... (step 1 of 3) Processing preprocessor, total=  35.3s\n",
      "[Pipeline] .............. (step 2 of 3) Processing bal2, total=   1.5s\n",
      "[Pipeline] ............. (step 3 of 3) Processing model, total=  11.2s\n",
      "AUC for 0.25: 0.8035559840926303\n",
      "-------------------------------------------------------------------------------------\n",
      "[Pipeline] ...... (step 1 of 3) Processing preprocessor, total=  25.5s\n",
      "[Pipeline] .............. (step 2 of 3) Processing bal2, total=   1.1s\n",
      "[Pipeline] ............. (step 3 of 3) Processing model, total=   6.8s\n",
      "AUC for 0.33: 0.8065665490028927\n",
      "-------------------------------------------------------------------------------------\n",
      "[Pipeline] ...... (step 1 of 3) Processing preprocessor, total=  25.8s\n",
      "[Pipeline] .............. (step 2 of 3) Processing bal2, total=   1.1s\n",
      "[Pipeline] ............. (step 3 of 3) Processing model, total=   6.9s\n",
      "AUC for 0.5: 0.8069514047233797\n",
      "-------------------------------------------------------------------------------------\n",
      "[Pipeline] ...... (step 1 of 3) Processing preprocessor, total=  26.0s\n",
      "[Pipeline] .............. (step 2 of 3) Processing bal2, total=   1.2s\n",
      "[Pipeline] ............. (step 3 of 3) Processing model, total=  10.1s\n",
      "AUC for 0.8: 0.8092564008127492\n",
      "-------------------------------------------------------------------------------------\n"
     ]
    },
    {
     "data": {
      "image/png": "[encoded data removed]",
      "text/plain": [
       "<Figure size 720x576 with 1 Axes>"
      ]
     },
     "metadata": {
      "needs_background": "light"
     },
     "output_type": "display_data"
    }
   ],
   "source": [
    "import seaborn as sns\n",
    "import matplotlib.pyplot as plt\n",
    "from sklearn.metrics import roc_curve\n",
    "\n",
    "%matplotlib inline\n",
    "ratios = [ 0.3, 0.6, 0.5, .7, .9]\n",
    "names = ['0.2', '0.25', '0.33','0.5','0.8','even']\n",
    "colors = sns.color_palette('Set2')\n",
    "\n",
    "plt.figure(figsize=(10, 8))\n",
    "\n",
    "for n, ratio in enumerate(ratios):\n",
    "    #smote = SMOTE(sampling_strategy=ratio, random_state=42)\n",
    "    #X_train_resampled, y_train_resampled = smote.fit_sample(X_train, y_train)\n",
    "    pipe = imbPipe(steps = [('preprocessor', preprocessor),\n",
    "                        #('poly', PolynomialFeatures()),\n",
    "                         #('bal', RandomUnderSampler(sampling_strategy = 0.4)),\n",
    "                        ('bal2', SMOTE(sampling_strategy= ratio)),\n",
    "                         ('model', LogisticRegression(solver = 'liblinear', C = 1))],\n",
    "               verbose = True)\n",
    "\n",
    "    pipe.fit(X_train, y_train)\n",
    "    \n",
    "    \n",
    "    # Predict\n",
    "    y_hat_test = pipe.predict(X_test)\n",
    "\n",
    "    y_score = pipe.decision_function(X_test)\n",
    "\n",
    "    fpr, tpr, thresholds = roc_curve(y_test, y_score)\n",
    "    print('AUC for {}: {}'.format(names[n], auc(fpr, tpr)))\n",
    "    print('-------------------------------------------------------------------------------------')\n",
    "    lw = 2\n",
    "    plt.plot(fpr, tpr, color=colors[n],\n",
    "             lw=lw, label='ROC curve {}'.format(names[n]))\n",
    "\n",
    "plt.plot([0, 1], [0, 1], color='navy', lw=lw, linestyle='--')\n",
    "plt.xlim([0.0, 1.0])\n",
    "plt.ylim([0.0, 1.05])\n",
    "\n",
    "plt.yticks([i/20.0 for i in range(21)])\n",
    "plt.xticks([i/20.0 for i in range(21)])\n",
    "plt.xlabel('False Positive Rate')\n",
    "plt.ylabel('True Positive Rate')\n",
    "plt.title('Receiver operating characteristic (ROC) Curve')\n",
    "plt.legend(loc='lower right')\n",
    "plt.show()"
   ]
  },
  {
   "cell_type": "code",
   "execution_count": 33,
   "metadata": {},
   "outputs": [
    {
     "name": "stderr",
     "output_type": "stream",
     "text": [
      "C:\\Users\\Public\\Anaconda3\\lib\\site-packages\\pandas\\core\\indexing.py:1743: SettingWithCopyWarning: \n",
      "A value is trying to be set on a copy of a slice from a DataFrame.\n",
      "Try using .loc[row_indexer,col_indexer] = value instead\n",
      "\n",
      "See the caveats in the documentation: https://pandas.pydata.org/pandas-docs/stable/user_guide/indexing.html#returning-a-view-versus-a-copy\n",
      "  isetter(ilocs[0], value)\n"
     ]
    },
    {
     "data": {
      "text/html": [
       "<div>\n",
       "<style scoped>\n",
       "    .dataframe tbody tr th:only-of-type {\n",
       "        vertical-align: middle;\n",
       "    }\n",
       "\n",
       "    .dataframe tbody tr th {\n",
       "        vertical-align: top;\n",
       "    }\n",
       "\n",
       "    .dataframe thead th {\n",
       "        text-align: right;\n",
       "    }\n",
       "</style>\n",
       "<table border=\"1\" class=\"dataframe\">\n",
       "  <thead>\n",
       "    <tr style=\"text-align: right;\">\n",
       "      <th></th>\n",
       "      <th>source</th>\n",
       "      <th>has_expanded_access</th>\n",
       "      <th>condition</th>\n",
       "      <th>enrollment</th>\n",
       "      <th>textblock</th>\n",
       "      <th>intervention_type</th>\n",
       "      <th>is_fda_regulated_drug</th>\n",
       "      <th>is_fda_regulated_device</th>\n",
       "      <th>intervention_name</th>\n",
       "      <th>gender</th>\n",
       "      <th>minimum_age</th>\n",
       "      <th>maximum_age</th>\n",
       "      <th>healthy_volunteers</th>\n",
       "      <th>country</th>\n",
       "      <th>allocation</th>\n",
       "      <th>intervention_model</th>\n",
       "      <th>primary_purpose</th>\n",
       "      <th>masking</th>\n",
       "      <th>PMID_tokens</th>\n",
       "      <th>num_of_papers</th>\n",
       "    </tr>\n",
       "    <tr>\n",
       "      <th>nct_id</th>\n",
       "      <th></th>\n",
       "      <th></th>\n",
       "      <th></th>\n",
       "      <th></th>\n",
       "      <th></th>\n",
       "      <th></th>\n",
       "      <th></th>\n",
       "      <th></th>\n",
       "      <th></th>\n",
       "      <th></th>\n",
       "      <th></th>\n",
       "      <th></th>\n",
       "      <th></th>\n",
       "      <th></th>\n",
       "      <th></th>\n",
       "      <th></th>\n",
       "      <th></th>\n",
       "      <th></th>\n",
       "      <th></th>\n",
       "      <th></th>\n",
       "    </tr>\n",
       "  </thead>\n",
       "  <tbody>\n",
       "    <tr>\n",
       "      <th>NCT02627131</th>\n",
       "      <td>[Vinmec, Healthcare, System]</td>\n",
       "      <td>No</td>\n",
       "      <td>[Autistic, Disorder]</td>\n",
       "      <td>24</td>\n",
       "      <td>[\\n      The aim of this study was to evaluate...</td>\n",
       "      <td>[Biological]</td>\n",
       "      <td>NaN</td>\n",
       "      <td>NaN</td>\n",
       "      <td>[Autologous Bone Marrow Mononuclear Cells]</td>\n",
       "      <td>All</td>\n",
       "      <td>3 Years</td>\n",
       "      <td>16 Years</td>\n",
       "      <td>No</td>\n",
       "      <td>Vietnam</td>\n",
       "      <td>N/A</td>\n",
       "      <td>Single Group Assignment</td>\n",
       "      <td>Treatment</td>\n",
       "      <td>None (Open Label)</td>\n",
       "      <td>[Hindawi,, Publishing,, Corporation,, Stem,, C...</td>\n",
       "      <td>1</td>\n",
       "    </tr>\n",
       "    <tr>\n",
       "      <th>NCT02735213</th>\n",
       "      <td>[The, Eye, Hospital, of, Wenzhou, Medical, Uni...</td>\n",
       "      <td>No</td>\n",
       "      <td>[Central, Serous, Choroidopathy]</td>\n",
       "      <td>88</td>\n",
       "      <td>[\\n      The purpose of this study is to obser...</td>\n",
       "      <td>[Device, Device]</td>\n",
       "      <td>NaN</td>\n",
       "      <td>NaN</td>\n",
       "      <td>[577-MPL, TLT]</td>\n",
       "      <td>All</td>\n",
       "      <td>18 Years</td>\n",
       "      <td>N/A</td>\n",
       "      <td>No</td>\n",
       "      <td>China</td>\n",
       "      <td>Randomized</td>\n",
       "      <td>Parallel Assignment</td>\n",
       "      <td>Treatment</td>\n",
       "      <td>Double (Participant, Outcomes Assessor)</td>\n",
       "      <td>[ORE441502.indd,, E-Mail,, karger,, @,, karger...</td>\n",
       "      <td>5</td>\n",
       "    </tr>\n",
       "    <tr>\n",
       "      <th>NCT01819129</th>\n",
       "      <td>[Novo, Nordisk, A/S]</td>\n",
       "      <td>No</td>\n",
       "      <td>[Diabetes]</td>\n",
       "      <td>881</td>\n",
       "      <td>[\\n      This trial is conducted in Asia, Euro...</td>\n",
       "      <td>[Drug, Drug, Drug]</td>\n",
       "      <td>Yes</td>\n",
       "      <td>No</td>\n",
       "      <td>[Faster-acting insulin aspart, Insulin aspart,...</td>\n",
       "      <td>All</td>\n",
       "      <td>18 Years</td>\n",
       "      <td>N/A</td>\n",
       "      <td>No</td>\n",
       "      <td>United States</td>\n",
       "      <td>Randomized</td>\n",
       "      <td>Parallel Assignment</td>\n",
       "      <td>Treatment</td>\n",
       "      <td>Double (Participant, Investigator)</td>\n",
       "      <td>[Faster,, Aspart,, Versus,, Insulin,, Aspart,,...</td>\n",
       "      <td>3</td>\n",
       "    </tr>\n",
       "    <tr>\n",
       "      <th>NCT00045838</th>\n",
       "      <td>[National, Institutes, of, Health, Clinical, C...</td>\n",
       "      <td>No</td>\n",
       "      <td>[Healthy]</td>\n",
       "      <td>0</td>\n",
       "      <td>[\\n      This study will test the safety of an...</td>\n",
       "      <td>[Drug]</td>\n",
       "      <td>NaN</td>\n",
       "      <td>NaN</td>\n",
       "      <td>[VCR-HIVDNA006-00-VP]</td>\n",
       "      <td>All</td>\n",
       "      <td>N/A</td>\n",
       "      <td>N/A</td>\n",
       "      <td>Accepts Healthy Volunteers</td>\n",
       "      <td>United States</td>\n",
       "      <td>NaN</td>\n",
       "      <td>NaN</td>\n",
       "      <td>Treatment</td>\n",
       "      <td>NaN</td>\n",
       "      <td>[Proc,, .,, Nati,, .,, Acad,, .,, Sci,, .,, US...</td>\n",
       "      <td>3</td>\n",
       "    </tr>\n",
       "    <tr>\n",
       "      <th>NCT01309997</th>\n",
       "      <td>[Fred, Hutchinson, Cancer, Research, Center]</td>\n",
       "      <td>No</td>\n",
       "      <td>[Graft, Versus, Host, Disease]</td>\n",
       "      <td>72</td>\n",
       "      <td>[\\n      This randomized phase II trial is eva...</td>\n",
       "      <td>[Drug, Biological]</td>\n",
       "      <td>NaN</td>\n",
       "      <td>NaN</td>\n",
       "      <td>[imatinib mesylate, rituximab]</td>\n",
       "      <td>All</td>\n",
       "      <td>2 Years</td>\n",
       "      <td>N/A</td>\n",
       "      <td>No</td>\n",
       "      <td>United States</td>\n",
       "      <td>Randomized</td>\n",
       "      <td>Crossover Assignment</td>\n",
       "      <td>Treatment</td>\n",
       "      <td>None (Open Label)</td>\n",
       "      <td>[CCR-15-1443,, 319..327,, Cancer,, Therapy,, :...</td>\n",
       "      <td>1</td>\n",
       "    </tr>\n",
       "    <tr>\n",
       "      <th>...</th>\n",
       "      <td>...</td>\n",
       "      <td>...</td>\n",
       "      <td>...</td>\n",
       "      <td>...</td>\n",
       "      <td>...</td>\n",
       "      <td>...</td>\n",
       "      <td>...</td>\n",
       "      <td>...</td>\n",
       "      <td>...</td>\n",
       "      <td>...</td>\n",
       "      <td>...</td>\n",
       "      <td>...</td>\n",
       "      <td>...</td>\n",
       "      <td>...</td>\n",
       "      <td>...</td>\n",
       "      <td>...</td>\n",
       "      <td>...</td>\n",
       "      <td>...</td>\n",
       "      <td>...</td>\n",
       "      <td>...</td>\n",
       "    </tr>\n",
       "    <tr>\n",
       "      <th>NCT00506831</th>\n",
       "      <td>[Stanford, University]</td>\n",
       "      <td>No</td>\n",
       "      <td>[Scleroderma,, Systemic]</td>\n",
       "      <td>9</td>\n",
       "      <td>[\\n      Systemic sclerosis (SSc) is an autoim...</td>\n",
       "      <td>[Drug]</td>\n",
       "      <td>Yes</td>\n",
       "      <td>No</td>\n",
       "      <td>[Imatinib mesylate]</td>\n",
       "      <td>All</td>\n",
       "      <td>18 Years</td>\n",
       "      <td>80 Years</td>\n",
       "      <td>No</td>\n",
       "      <td>United States</td>\n",
       "      <td>N/A</td>\n",
       "      <td>Single Group Assignment</td>\n",
       "      <td>Treatment</td>\n",
       "      <td>None (Open Label)</td>\n",
       "      <td>[Systemic,, and,, cell,, type-specific,, gene,...</td>\n",
       "      <td>2</td>\n",
       "    </tr>\n",
       "    <tr>\n",
       "      <th>NCT02049762</th>\n",
       "      <td>[Sheba, Medical, Center]</td>\n",
       "      <td>No</td>\n",
       "      <td>[Acute, Coronary, Syndrome]</td>\n",
       "      <td>29</td>\n",
       "      <td>[\\n      Thus far, no study has evaluated the ...</td>\n",
       "      <td>[Drug]</td>\n",
       "      <td>NaN</td>\n",
       "      <td>NaN</td>\n",
       "      <td>[Aspirin]</td>\n",
       "      <td>All</td>\n",
       "      <td>18 Years</td>\n",
       "      <td>80 Years</td>\n",
       "      <td>No</td>\n",
       "      <td>Israel</td>\n",
       "      <td>Randomized</td>\n",
       "      <td>Crossover Assignment</td>\n",
       "      <td>Basic Science</td>\n",
       "      <td>Quadruple (Participant, Care Provider, Investi...</td>\n",
       "      <td>[Ticagrelor,, versus,, Clopidogrel,, in,, Pati...</td>\n",
       "      <td>14</td>\n",
       "    </tr>\n",
       "    <tr>\n",
       "      <th>NCT01314066</th>\n",
       "      <td>[Weill, Medical, College, of, Cornell, Univers...</td>\n",
       "      <td>No</td>\n",
       "      <td>[Severe, Sepsis]</td>\n",
       "      <td>0</td>\n",
       "      <td>[\\n      This study aims to test the effective...</td>\n",
       "      <td>[Drug, Drug]</td>\n",
       "      <td>NaN</td>\n",
       "      <td>NaN</td>\n",
       "      <td>[Bevacizumab, Placebo]</td>\n",
       "      <td>All</td>\n",
       "      <td>18 Years</td>\n",
       "      <td>99 Years</td>\n",
       "      <td>No</td>\n",
       "      <td>United States</td>\n",
       "      <td>Randomized</td>\n",
       "      <td>Parallel Assignment</td>\n",
       "      <td>Prevention</td>\n",
       "      <td>Triple (Participant, Care Provider, Investigator)</td>\n",
       "      <td>[Incidence,, and,, Outcomes,, of,, Acute,, Lun...</td>\n",
       "      <td>18</td>\n",
       "    </tr>\n",
       "    <tr>\n",
       "      <th>NCT01445106</th>\n",
       "      <td>[National, Institutes, of, Health, Clinical, C...</td>\n",
       "      <td>No</td>\n",
       "      <td>[Solid, Tumors]</td>\n",
       "      <td>28</td>\n",
       "      <td>[\\n      Background:\\n\\n        -  The PI3K/Ak...</td>\n",
       "      <td>[Drug, Drug]</td>\n",
       "      <td>NaN</td>\n",
       "      <td>NaN</td>\n",
       "      <td>[Nelfinavir, Nelfinavir Mesylate]</td>\n",
       "      <td>All</td>\n",
       "      <td>18 Years</td>\n",
       "      <td>N/A</td>\n",
       "      <td>No</td>\n",
       "      <td>United States</td>\n",
       "      <td>Non-Randomized</td>\n",
       "      <td>NaN</td>\n",
       "      <td>Treatment</td>\n",
       "      <td>None (Open Label)</td>\n",
       "      <td>[20016.indd,, Research,, article,, 928,, The,,...</td>\n",
       "      <td>3</td>\n",
       "    </tr>\n",
       "    <tr>\n",
       "      <th>NCT00486044</th>\n",
       "      <td>[University, of, Wisconsin,, Madison]</td>\n",
       "      <td>No</td>\n",
       "      <td>[Alzheimer, Disease]</td>\n",
       "      <td>103</td>\n",
       "      <td>[\\n      The purpose of this study is to see h...</td>\n",
       "      <td>[Drug, Drug]</td>\n",
       "      <td>NaN</td>\n",
       "      <td>NaN</td>\n",
       "      <td>[Simvastatin, Placebo]</td>\n",
       "      <td>All</td>\n",
       "      <td>35 Years</td>\n",
       "      <td>69 Years</td>\n",
       "      <td>Accepts Healthy Volunteers</td>\n",
       "      <td>United States</td>\n",
       "      <td>Randomized</td>\n",
       "      <td>Parallel Assignment</td>\n",
       "      <td>Prevention</td>\n",
       "      <td>Triple (Participant, Investigator, Outcomes As...</td>\n",
       "      <td>[Simvastatin,, strongly,, reduces,, levels,, o...</td>\n",
       "      <td>3</td>\n",
       "    </tr>\n",
       "  </tbody>\n",
       "</table>\n",
       "<p>1781 rows × 20 columns</p>\n",
       "</div>"
      ],
      "text/plain": [
       "                                                        source  \\\n",
       "nct_id                                                           \n",
       "NCT02627131                       [Vinmec, Healthcare, System]   \n",
       "NCT02735213  [The, Eye, Hospital, of, Wenzhou, Medical, Uni...   \n",
       "NCT01819129                               [Novo, Nordisk, A/S]   \n",
       "NCT00045838  [National, Institutes, of, Health, Clinical, C...   \n",
       "NCT01309997       [Fred, Hutchinson, Cancer, Research, Center]   \n",
       "...                                                        ...   \n",
       "NCT00506831                             [Stanford, University]   \n",
       "NCT02049762                           [Sheba, Medical, Center]   \n",
       "NCT01314066  [Weill, Medical, College, of, Cornell, Univers...   \n",
       "NCT01445106  [National, Institutes, of, Health, Clinical, C...   \n",
       "NCT00486044              [University, of, Wisconsin,, Madison]   \n",
       "\n",
       "            has_expanded_access                         condition enrollment  \\\n",
       "nct_id                                                                         \n",
       "NCT02627131                  No              [Autistic, Disorder]         24   \n",
       "NCT02735213                  No  [Central, Serous, Choroidopathy]         88   \n",
       "NCT01819129                  No                        [Diabetes]        881   \n",
       "NCT00045838                  No                         [Healthy]          0   \n",
       "NCT01309997                  No    [Graft, Versus, Host, Disease]         72   \n",
       "...                         ...                               ...        ...   \n",
       "NCT00506831                  No          [Scleroderma,, Systemic]          9   \n",
       "NCT02049762                  No       [Acute, Coronary, Syndrome]         29   \n",
       "NCT01314066                  No                  [Severe, Sepsis]          0   \n",
       "NCT01445106                  No                   [Solid, Tumors]         28   \n",
       "NCT00486044                  No              [Alzheimer, Disease]        103   \n",
       "\n",
       "                                                     textblock  \\\n",
       "nct_id                                                           \n",
       "NCT02627131  [\\n      The aim of this study was to evaluate...   \n",
       "NCT02735213  [\\n      The purpose of this study is to obser...   \n",
       "NCT01819129  [\\n      This trial is conducted in Asia, Euro...   \n",
       "NCT00045838  [\\n      This study will test the safety of an...   \n",
       "NCT01309997  [\\n      This randomized phase II trial is eva...   \n",
       "...                                                        ...   \n",
       "NCT00506831  [\\n      Systemic sclerosis (SSc) is an autoim...   \n",
       "NCT02049762  [\\n      Thus far, no study has evaluated the ...   \n",
       "NCT01314066  [\\n      This study aims to test the effective...   \n",
       "NCT01445106  [\\n      Background:\\n\\n        -  The PI3K/Ak...   \n",
       "NCT00486044  [\\n      The purpose of this study is to see h...   \n",
       "\n",
       "              intervention_type is_fda_regulated_drug is_fda_regulated_device  \\\n",
       "nct_id                                                                          \n",
       "NCT02627131        [Biological]                   NaN                     NaN   \n",
       "NCT02735213    [Device, Device]                   NaN                     NaN   \n",
       "NCT01819129  [Drug, Drug, Drug]                   Yes                      No   \n",
       "NCT00045838              [Drug]                   NaN                     NaN   \n",
       "NCT01309997  [Drug, Biological]                   NaN                     NaN   \n",
       "...                         ...                   ...                     ...   \n",
       "NCT00506831              [Drug]                   Yes                      No   \n",
       "NCT02049762              [Drug]                   NaN                     NaN   \n",
       "NCT01314066        [Drug, Drug]                   NaN                     NaN   \n",
       "NCT01445106        [Drug, Drug]                   NaN                     NaN   \n",
       "NCT00486044        [Drug, Drug]                   NaN                     NaN   \n",
       "\n",
       "                                             intervention_name gender  \\\n",
       "nct_id                                                                  \n",
       "NCT02627131         [Autologous Bone Marrow Mononuclear Cells]    All   \n",
       "NCT02735213                                     [577-MPL, TLT]    All   \n",
       "NCT01819129  [Faster-acting insulin aspart, Insulin aspart,...    All   \n",
       "NCT00045838                              [VCR-HIVDNA006-00-VP]    All   \n",
       "NCT01309997                     [imatinib mesylate, rituximab]    All   \n",
       "...                                                        ...    ...   \n",
       "NCT00506831                                [Imatinib mesylate]    All   \n",
       "NCT02049762                                          [Aspirin]    All   \n",
       "NCT01314066                             [Bevacizumab, Placebo]    All   \n",
       "NCT01445106                  [Nelfinavir, Nelfinavir Mesylate]    All   \n",
       "NCT00486044                             [Simvastatin, Placebo]    All   \n",
       "\n",
       "            minimum_age maximum_age          healthy_volunteers  \\\n",
       "nct_id                                                            \n",
       "NCT02627131     3 Years    16 Years                          No   \n",
       "NCT02735213    18 Years         N/A                          No   \n",
       "NCT01819129    18 Years         N/A                          No   \n",
       "NCT00045838         N/A         N/A  Accepts Healthy Volunteers   \n",
       "NCT01309997     2 Years         N/A                          No   \n",
       "...                 ...         ...                         ...   \n",
       "NCT00506831    18 Years    80 Years                          No   \n",
       "NCT02049762    18 Years    80 Years                          No   \n",
       "NCT01314066    18 Years    99 Years                          No   \n",
       "NCT01445106    18 Years         N/A                          No   \n",
       "NCT00486044    35 Years    69 Years  Accepts Healthy Volunteers   \n",
       "\n",
       "                   country      allocation       intervention_model  \\\n",
       "nct_id                                                                \n",
       "NCT02627131        Vietnam             N/A  Single Group Assignment   \n",
       "NCT02735213          China      Randomized      Parallel Assignment   \n",
       "NCT01819129  United States      Randomized      Parallel Assignment   \n",
       "NCT00045838  United States             NaN                      NaN   \n",
       "NCT01309997  United States      Randomized     Crossover Assignment   \n",
       "...                    ...             ...                      ...   \n",
       "NCT00506831  United States             N/A  Single Group Assignment   \n",
       "NCT02049762         Israel      Randomized     Crossover Assignment   \n",
       "NCT01314066  United States      Randomized      Parallel Assignment   \n",
       "NCT01445106  United States  Non-Randomized                      NaN   \n",
       "NCT00486044  United States      Randomized      Parallel Assignment   \n",
       "\n",
       "            primary_purpose  \\\n",
       "nct_id                        \n",
       "NCT02627131       Treatment   \n",
       "NCT02735213       Treatment   \n",
       "NCT01819129       Treatment   \n",
       "NCT00045838       Treatment   \n",
       "NCT01309997       Treatment   \n",
       "...                     ...   \n",
       "NCT00506831       Treatment   \n",
       "NCT02049762   Basic Science   \n",
       "NCT01314066      Prevention   \n",
       "NCT01445106       Treatment   \n",
       "NCT00486044      Prevention   \n",
       "\n",
       "                                                       masking  \\\n",
       "nct_id                                                           \n",
       "NCT02627131                                  None (Open Label)   \n",
       "NCT02735213            Double (Participant, Outcomes Assessor)   \n",
       "NCT01819129                 Double (Participant, Investigator)   \n",
       "NCT00045838                                                NaN   \n",
       "NCT01309997                                  None (Open Label)   \n",
       "...                                                        ...   \n",
       "NCT00506831                                  None (Open Label)   \n",
       "NCT02049762  Quadruple (Participant, Care Provider, Investi...   \n",
       "NCT01314066  Triple (Participant, Care Provider, Investigator)   \n",
       "NCT01445106                                  None (Open Label)   \n",
       "NCT00486044  Triple (Participant, Investigator, Outcomes As...   \n",
       "\n",
       "                                                   PMID_tokens  num_of_papers  \n",
       "nct_id                                                                         \n",
       "NCT02627131  [Hindawi,, Publishing,, Corporation,, Stem,, C...              1  \n",
       "NCT02735213  [ORE441502.indd,, E-Mail,, karger,, @,, karger...              5  \n",
       "NCT01819129  [Faster,, Aspart,, Versus,, Insulin,, Aspart,,...              3  \n",
       "NCT00045838  [Proc,, .,, Nati,, .,, Acad,, .,, Sci,, .,, US...              3  \n",
       "NCT01309997  [CCR-15-1443,, 319..327,, Cancer,, Therapy,, :...              1  \n",
       "...                                                        ...            ...  \n",
       "NCT00506831  [Systemic,, and,, cell,, type-specific,, gene,...              2  \n",
       "NCT02049762  [Ticagrelor,, versus,, Clopidogrel,, in,, Pati...             14  \n",
       "NCT01314066  [Incidence,, and,, Outcomes,, of,, Acute,, Lun...             18  \n",
       "NCT01445106  [20016.indd,, Research,, article,, 928,, The,,...              3  \n",
       "NCT00486044  [Simvastatin,, strongly,, reduces,, levels,, o...              3  \n",
       "\n",
       "[1781 rows x 20 columns]"
      ]
     },
     "execution_count": 33,
     "metadata": {},
     "output_type": "execute_result"
    }
   ],
   "source": [
    "def split_words_col(df, y):\n",
    "    cols = ['source','condition', 'PMID_tokens']\n",
    "    other_cols = ['intervention_type', 'intervention_name', 'textblock']\n",
    "    for col in cols:\n",
    "        df.loc[:, col] =df[col].map(lambda x: x.split(' '))\n",
    "    for col in other_cols:\n",
    "        df.loc[:, col] = df[col]\n",
    "    return df\n",
    "\n",
    "\n",
    "#df['PMID_tokens'] = df['PMID_tokens'].map(lambda x: x.split(' '))\n",
    "#X_['PMID_tokens'] = D2VTransformer().fit_transform(df['PMID_tokens'], y_train)\n",
    "#tokenized_cols = [ 'condition', 'intervention_name', 'textblock',\n",
    " #                 'intervention_type', 'PMID_tokens']\n",
    "split_words_col(X_train, y_train)\n",
    "split_words_col(X_test, y_test)"
   ]
  },
  {
   "cell_type": "code",
   "execution_count": 34,
   "metadata": {},
   "outputs": [
    {
     "name": "stderr",
     "output_type": "stream",
     "text": [
      "C:\\Users\\Public\\Anaconda3\\lib\\site-packages\\pandas\\core\\indexing.py:1743: SettingWithCopyWarning: \n",
      "A value is trying to be set on a copy of a slice from a DataFrame.\n",
      "Try using .loc[row_indexer,col_indexer] = value instead\n",
      "\n",
      "See the caveats in the documentation: https://pandas.pydata.org/pandas-docs/stable/user_guide/indexing.html#returning-a-view-versus-a-copy\n",
      "  isetter(ilocs[0], value)\n"
     ]
    },
    {
     "data": {
      "text/html": [
       "<div>\n",
       "<style scoped>\n",
       "    .dataframe tbody tr th:only-of-type {\n",
       "        vertical-align: middle;\n",
       "    }\n",
       "\n",
       "    .dataframe tbody tr th {\n",
       "        vertical-align: top;\n",
       "    }\n",
       "\n",
       "    .dataframe thead th {\n",
       "        text-align: right;\n",
       "    }\n",
       "</style>\n",
       "<table border=\"1\" class=\"dataframe\">\n",
       "  <thead>\n",
       "    <tr style=\"text-align: right;\">\n",
       "      <th></th>\n",
       "      <th>source</th>\n",
       "      <th>has_expanded_access</th>\n",
       "      <th>condition</th>\n",
       "      <th>enrollment</th>\n",
       "      <th>textblock</th>\n",
       "      <th>intervention_type</th>\n",
       "      <th>is_fda_regulated_drug</th>\n",
       "      <th>is_fda_regulated_device</th>\n",
       "      <th>intervention_name</th>\n",
       "      <th>gender</th>\n",
       "      <th>minimum_age</th>\n",
       "      <th>maximum_age</th>\n",
       "      <th>healthy_volunteers</th>\n",
       "      <th>country</th>\n",
       "      <th>allocation</th>\n",
       "      <th>intervention_model</th>\n",
       "      <th>primary_purpose</th>\n",
       "      <th>masking</th>\n",
       "      <th>PMID_tokens</th>\n",
       "      <th>num_of_papers</th>\n",
       "    </tr>\n",
       "    <tr>\n",
       "      <th>nct_id</th>\n",
       "      <th></th>\n",
       "      <th></th>\n",
       "      <th></th>\n",
       "      <th></th>\n",
       "      <th></th>\n",
       "      <th></th>\n",
       "      <th></th>\n",
       "      <th></th>\n",
       "      <th></th>\n",
       "      <th></th>\n",
       "      <th></th>\n",
       "      <th></th>\n",
       "      <th></th>\n",
       "      <th></th>\n",
       "      <th></th>\n",
       "      <th></th>\n",
       "      <th></th>\n",
       "      <th></th>\n",
       "      <th></th>\n",
       "      <th></th>\n",
       "    </tr>\n",
       "  </thead>\n",
       "  <tbody>\n",
       "    <tr>\n",
       "      <th>NCT02627131</th>\n",
       "      <td>[vinmec, healthcare, system]</td>\n",
       "      <td>No</td>\n",
       "      <td>[autistic, disorder]</td>\n",
       "      <td>24.0</td>\n",
       "      <td>[aim, study, evaluate, safety, effectiveness, ...</td>\n",
       "      <td>[biological]</td>\n",
       "      <td>NaN</td>\n",
       "      <td>NaN</td>\n",
       "      <td>[autologous, bone, marrow, mononuclear, cells]</td>\n",
       "      <td>All</td>\n",
       "      <td>3.0</td>\n",
       "      <td>16.0</td>\n",
       "      <td>No</td>\n",
       "      <td>Vietnam</td>\n",
       "      <td>N/A</td>\n",
       "      <td>Single Group Assignment</td>\n",
       "      <td>Treatment</td>\n",
       "      <td>None (Open Label)</td>\n",
       "      <td>[Hindawi,, Publishing,, Corporation,, Stem,, C...</td>\n",
       "      <td>1.0</td>\n",
       "    </tr>\n",
       "    <tr>\n",
       "      <th>NCT02735213</th>\n",
       "      <td>[eye, hospital, wenzhou, medical, university]</td>\n",
       "      <td>No</td>\n",
       "      <td>[central, serous, choroidopathy]</td>\n",
       "      <td>88.0</td>\n",
       "      <td>[purpose, study, observe, whether, micropulse,...</td>\n",
       "      <td>[device, device]</td>\n",
       "      <td>NaN</td>\n",
       "      <td>NaN</td>\n",
       "      <td>[tlt]</td>\n",
       "      <td>All</td>\n",
       "      <td>18.0</td>\n",
       "      <td>0.0</td>\n",
       "      <td>No</td>\n",
       "      <td>China</td>\n",
       "      <td>Randomized</td>\n",
       "      <td>Parallel Assignment</td>\n",
       "      <td>Treatment</td>\n",
       "      <td>Double (Participant, Outcomes Assessor)</td>\n",
       "      <td>[ORE441502.indd,, E-Mail,, karger,, @,, karger...</td>\n",
       "      <td>5.0</td>\n",
       "    </tr>\n",
       "    <tr>\n",
       "      <th>NCT01819129</th>\n",
       "      <td>[novo, nordisk]</td>\n",
       "      <td>No</td>\n",
       "      <td>[diabetes]</td>\n",
       "      <td>881.0</td>\n",
       "      <td>[trial, conducted, asia, europe, north, americ...</td>\n",
       "      <td>[drug, drug, drug]</td>\n",
       "      <td>Yes</td>\n",
       "      <td>No</td>\n",
       "      <td>[fasteracting, insulin, aspart, insulin, aspar...</td>\n",
       "      <td>All</td>\n",
       "      <td>18.0</td>\n",
       "      <td>0.0</td>\n",
       "      <td>No</td>\n",
       "      <td>United States</td>\n",
       "      <td>Randomized</td>\n",
       "      <td>Parallel Assignment</td>\n",
       "      <td>Treatment</td>\n",
       "      <td>Double (Participant, Investigator)</td>\n",
       "      <td>[Faster,, Aspart,, Versus,, Insulin,, Aspart,,...</td>\n",
       "      <td>3.0</td>\n",
       "    </tr>\n",
       "    <tr>\n",
       "      <th>NCT00045838</th>\n",
       "      <td>[national, institutes, health, clinical, cente...</td>\n",
       "      <td>No</td>\n",
       "      <td>[healthy]</td>\n",
       "      <td>0.0</td>\n",
       "      <td>[study, test, safety, experimental, vaccine, h...</td>\n",
       "      <td>[drug]</td>\n",
       "      <td>NaN</td>\n",
       "      <td>NaN</td>\n",
       "      <td>[]</td>\n",
       "      <td>All</td>\n",
       "      <td>0.0</td>\n",
       "      <td>0.0</td>\n",
       "      <td>Accepts Healthy Volunteers</td>\n",
       "      <td>United States</td>\n",
       "      <td>NaN</td>\n",
       "      <td>NaN</td>\n",
       "      <td>Treatment</td>\n",
       "      <td>NaN</td>\n",
       "      <td>[Proc,, .,, Nati,, .,, Acad,, .,, Sci,, .,, US...</td>\n",
       "      <td>3.0</td>\n",
       "    </tr>\n",
       "    <tr>\n",
       "      <th>NCT01309997</th>\n",
       "      <td>[fred, hutchinson, cancer, research, center]</td>\n",
       "      <td>No</td>\n",
       "      <td>[graft, versus, host, disease]</td>\n",
       "      <td>72.0</td>\n",
       "      <td>[randomized, phase, ii, trial, evaluating, wel...</td>\n",
       "      <td>[drug, biological]</td>\n",
       "      <td>NaN</td>\n",
       "      <td>NaN</td>\n",
       "      <td>[imatinib, mesylate, rituximab]</td>\n",
       "      <td>All</td>\n",
       "      <td>2.0</td>\n",
       "      <td>0.0</td>\n",
       "      <td>No</td>\n",
       "      <td>United States</td>\n",
       "      <td>Randomized</td>\n",
       "      <td>Crossover Assignment</td>\n",
       "      <td>Treatment</td>\n",
       "      <td>None (Open Label)</td>\n",
       "      <td>[CCR-15-1443,, 319..327,, Cancer,, Therapy,, :...</td>\n",
       "      <td>1.0</td>\n",
       "    </tr>\n",
       "    <tr>\n",
       "      <th>...</th>\n",
       "      <td>...</td>\n",
       "      <td>...</td>\n",
       "      <td>...</td>\n",
       "      <td>...</td>\n",
       "      <td>...</td>\n",
       "      <td>...</td>\n",
       "      <td>...</td>\n",
       "      <td>...</td>\n",
       "      <td>...</td>\n",
       "      <td>...</td>\n",
       "      <td>...</td>\n",
       "      <td>...</td>\n",
       "      <td>...</td>\n",
       "      <td>...</td>\n",
       "      <td>...</td>\n",
       "      <td>...</td>\n",
       "      <td>...</td>\n",
       "      <td>...</td>\n",
       "      <td>...</td>\n",
       "      <td>...</td>\n",
       "    </tr>\n",
       "    <tr>\n",
       "      <th>NCT00506831</th>\n",
       "      <td>[stanford, university]</td>\n",
       "      <td>No</td>\n",
       "      <td>[scleroderma, systemic]</td>\n",
       "      <td>9.0</td>\n",
       "      <td>[systemic, sclerosis, ssc, autoimmune, disease...</td>\n",
       "      <td>[drug]</td>\n",
       "      <td>Yes</td>\n",
       "      <td>No</td>\n",
       "      <td>[imatinib, mesylate]</td>\n",
       "      <td>All</td>\n",
       "      <td>18.0</td>\n",
       "      <td>80.0</td>\n",
       "      <td>No</td>\n",
       "      <td>United States</td>\n",
       "      <td>N/A</td>\n",
       "      <td>Single Group Assignment</td>\n",
       "      <td>Treatment</td>\n",
       "      <td>None (Open Label)</td>\n",
       "      <td>[Systemic,, and,, cell,, type-specific,, gene,...</td>\n",
       "      <td>2.0</td>\n",
       "    </tr>\n",
       "    <tr>\n",
       "      <th>NCT02049762</th>\n",
       "      <td>[sheba, medical, center]</td>\n",
       "      <td>No</td>\n",
       "      <td>[acute, coronary, syndrome]</td>\n",
       "      <td>29.0</td>\n",
       "      <td>[thus, far, study, evaluated, impact, aspirin,...</td>\n",
       "      <td>[drug]</td>\n",
       "      <td>NaN</td>\n",
       "      <td>NaN</td>\n",
       "      <td>[aspirin]</td>\n",
       "      <td>All</td>\n",
       "      <td>18.0</td>\n",
       "      <td>80.0</td>\n",
       "      <td>No</td>\n",
       "      <td>Israel</td>\n",
       "      <td>Randomized</td>\n",
       "      <td>Crossover Assignment</td>\n",
       "      <td>Basic Science</td>\n",
       "      <td>Quadruple (Participant, Care Provider, Investi...</td>\n",
       "      <td>[Ticagrelor,, versus,, Clopidogrel,, in,, Pati...</td>\n",
       "      <td>14.0</td>\n",
       "    </tr>\n",
       "    <tr>\n",
       "      <th>NCT01314066</th>\n",
       "      <td>[weill, medical, college, cornell, university]</td>\n",
       "      <td>No</td>\n",
       "      <td>[severe, sepsis]</td>\n",
       "      <td>0.0</td>\n",
       "      <td>[study, aims, test, effectiveness, single, int...</td>\n",
       "      <td>[drug, drug]</td>\n",
       "      <td>NaN</td>\n",
       "      <td>NaN</td>\n",
       "      <td>[bevacizumab, placebo]</td>\n",
       "      <td>All</td>\n",
       "      <td>18.0</td>\n",
       "      <td>99.0</td>\n",
       "      <td>No</td>\n",
       "      <td>United States</td>\n",
       "      <td>Randomized</td>\n",
       "      <td>Parallel Assignment</td>\n",
       "      <td>Prevention</td>\n",
       "      <td>Triple (Participant, Care Provider, Investigator)</td>\n",
       "      <td>[Incidence,, and,, Outcomes,, of,, Acute,, Lun...</td>\n",
       "      <td>18.0</td>\n",
       "    </tr>\n",
       "    <tr>\n",
       "      <th>NCT01445106</th>\n",
       "      <td>[national, institutes, health, clinical, cente...</td>\n",
       "      <td>No</td>\n",
       "      <td>[solid, tumors]</td>\n",
       "      <td>28.0</td>\n",
       "      <td>[background, pathway, important, target, cance...</td>\n",
       "      <td>[drug, drug]</td>\n",
       "      <td>NaN</td>\n",
       "      <td>NaN</td>\n",
       "      <td>[nelfinavir, nelfinavir, mesylate]</td>\n",
       "      <td>All</td>\n",
       "      <td>18.0</td>\n",
       "      <td>0.0</td>\n",
       "      <td>No</td>\n",
       "      <td>United States</td>\n",
       "      <td>Non-Randomized</td>\n",
       "      <td>NaN</td>\n",
       "      <td>Treatment</td>\n",
       "      <td>None (Open Label)</td>\n",
       "      <td>[20016.indd,, Research,, article,, 928,, The,,...</td>\n",
       "      <td>3.0</td>\n",
       "    </tr>\n",
       "    <tr>\n",
       "      <th>NCT00486044</th>\n",
       "      <td>[university, wisconsin, madison]</td>\n",
       "      <td>No</td>\n",
       "      <td>[alzheimer, disease]</td>\n",
       "      <td>103.0</td>\n",
       "      <td>[purpose, study, see, simvastatin, cholesterol...</td>\n",
       "      <td>[drug, drug]</td>\n",
       "      <td>NaN</td>\n",
       "      <td>NaN</td>\n",
       "      <td>[simvastatin, placebo]</td>\n",
       "      <td>All</td>\n",
       "      <td>35.0</td>\n",
       "      <td>69.0</td>\n",
       "      <td>Accepts Healthy Volunteers</td>\n",
       "      <td>United States</td>\n",
       "      <td>Randomized</td>\n",
       "      <td>Parallel Assignment</td>\n",
       "      <td>Prevention</td>\n",
       "      <td>Triple (Participant, Investigator, Outcomes As...</td>\n",
       "      <td>[Simvastatin,, strongly,, reduces,, levels,, o...</td>\n",
       "      <td>3.0</td>\n",
       "    </tr>\n",
       "  </tbody>\n",
       "</table>\n",
       "<p>1781 rows × 20 columns</p>\n",
       "</div>"
      ],
      "text/plain": [
       "                                                        source  \\\n",
       "nct_id                                                           \n",
       "NCT02627131                       [vinmec, healthcare, system]   \n",
       "NCT02735213      [eye, hospital, wenzhou, medical, university]   \n",
       "NCT01819129                                    [novo, nordisk]   \n",
       "NCT00045838  [national, institutes, health, clinical, cente...   \n",
       "NCT01309997       [fred, hutchinson, cancer, research, center]   \n",
       "...                                                        ...   \n",
       "NCT00506831                             [stanford, university]   \n",
       "NCT02049762                           [sheba, medical, center]   \n",
       "NCT01314066     [weill, medical, college, cornell, university]   \n",
       "NCT01445106  [national, institutes, health, clinical, cente...   \n",
       "NCT00486044                   [university, wisconsin, madison]   \n",
       "\n",
       "            has_expanded_access                         condition  enrollment  \\\n",
       "nct_id                                                                          \n",
       "NCT02627131                  No              [autistic, disorder]        24.0   \n",
       "NCT02735213                  No  [central, serous, choroidopathy]        88.0   \n",
       "NCT01819129                  No                        [diabetes]       881.0   \n",
       "NCT00045838                  No                         [healthy]         0.0   \n",
       "NCT01309997                  No    [graft, versus, host, disease]        72.0   \n",
       "...                         ...                               ...         ...   \n",
       "NCT00506831                  No           [scleroderma, systemic]         9.0   \n",
       "NCT02049762                  No       [acute, coronary, syndrome]        29.0   \n",
       "NCT01314066                  No                  [severe, sepsis]         0.0   \n",
       "NCT01445106                  No                   [solid, tumors]        28.0   \n",
       "NCT00486044                  No              [alzheimer, disease]       103.0   \n",
       "\n",
       "                                                     textblock  \\\n",
       "nct_id                                                           \n",
       "NCT02627131  [aim, study, evaluate, safety, effectiveness, ...   \n",
       "NCT02735213  [purpose, study, observe, whether, micropulse,...   \n",
       "NCT01819129  [trial, conducted, asia, europe, north, americ...   \n",
       "NCT00045838  [study, test, safety, experimental, vaccine, h...   \n",
       "NCT01309997  [randomized, phase, ii, trial, evaluating, wel...   \n",
       "...                                                        ...   \n",
       "NCT00506831  [systemic, sclerosis, ssc, autoimmune, disease...   \n",
       "NCT02049762  [thus, far, study, evaluated, impact, aspirin,...   \n",
       "NCT01314066  [study, aims, test, effectiveness, single, int...   \n",
       "NCT01445106  [background, pathway, important, target, cance...   \n",
       "NCT00486044  [purpose, study, see, simvastatin, cholesterol...   \n",
       "\n",
       "              intervention_type is_fda_regulated_drug is_fda_regulated_device  \\\n",
       "nct_id                                                                          \n",
       "NCT02627131        [biological]                   NaN                     NaN   \n",
       "NCT02735213    [device, device]                   NaN                     NaN   \n",
       "NCT01819129  [drug, drug, drug]                   Yes                      No   \n",
       "NCT00045838              [drug]                   NaN                     NaN   \n",
       "NCT01309997  [drug, biological]                   NaN                     NaN   \n",
       "...                         ...                   ...                     ...   \n",
       "NCT00506831              [drug]                   Yes                      No   \n",
       "NCT02049762              [drug]                   NaN                     NaN   \n",
       "NCT01314066        [drug, drug]                   NaN                     NaN   \n",
       "NCT01445106        [drug, drug]                   NaN                     NaN   \n",
       "NCT00486044        [drug, drug]                   NaN                     NaN   \n",
       "\n",
       "                                             intervention_name gender  \\\n",
       "nct_id                                                                  \n",
       "NCT02627131     [autologous, bone, marrow, mononuclear, cells]    All   \n",
       "NCT02735213                                              [tlt]    All   \n",
       "NCT01819129  [fasteracting, insulin, aspart, insulin, aspar...    All   \n",
       "NCT00045838                                                 []    All   \n",
       "NCT01309997                    [imatinib, mesylate, rituximab]    All   \n",
       "...                                                        ...    ...   \n",
       "NCT00506831                               [imatinib, mesylate]    All   \n",
       "NCT02049762                                          [aspirin]    All   \n",
       "NCT01314066                             [bevacizumab, placebo]    All   \n",
       "NCT01445106                 [nelfinavir, nelfinavir, mesylate]    All   \n",
       "NCT00486044                             [simvastatin, placebo]    All   \n",
       "\n",
       "             minimum_age  maximum_age          healthy_volunteers  \\\n",
       "nct_id                                                              \n",
       "NCT02627131          3.0         16.0                          No   \n",
       "NCT02735213         18.0          0.0                          No   \n",
       "NCT01819129         18.0          0.0                          No   \n",
       "NCT00045838          0.0          0.0  Accepts Healthy Volunteers   \n",
       "NCT01309997          2.0          0.0                          No   \n",
       "...                  ...          ...                         ...   \n",
       "NCT00506831         18.0         80.0                          No   \n",
       "NCT02049762         18.0         80.0                          No   \n",
       "NCT01314066         18.0         99.0                          No   \n",
       "NCT01445106         18.0          0.0                          No   \n",
       "NCT00486044         35.0         69.0  Accepts Healthy Volunteers   \n",
       "\n",
       "                   country      allocation       intervention_model  \\\n",
       "nct_id                                                                \n",
       "NCT02627131        Vietnam             N/A  Single Group Assignment   \n",
       "NCT02735213          China      Randomized      Parallel Assignment   \n",
       "NCT01819129  United States      Randomized      Parallel Assignment   \n",
       "NCT00045838  United States             NaN                      NaN   \n",
       "NCT01309997  United States      Randomized     Crossover Assignment   \n",
       "...                    ...             ...                      ...   \n",
       "NCT00506831  United States             N/A  Single Group Assignment   \n",
       "NCT02049762         Israel      Randomized     Crossover Assignment   \n",
       "NCT01314066  United States      Randomized      Parallel Assignment   \n",
       "NCT01445106  United States  Non-Randomized                      NaN   \n",
       "NCT00486044  United States      Randomized      Parallel Assignment   \n",
       "\n",
       "            primary_purpose  \\\n",
       "nct_id                        \n",
       "NCT02627131       Treatment   \n",
       "NCT02735213       Treatment   \n",
       "NCT01819129       Treatment   \n",
       "NCT00045838       Treatment   \n",
       "NCT01309997       Treatment   \n",
       "...                     ...   \n",
       "NCT00506831       Treatment   \n",
       "NCT02049762   Basic Science   \n",
       "NCT01314066      Prevention   \n",
       "NCT01445106       Treatment   \n",
       "NCT00486044      Prevention   \n",
       "\n",
       "                                                       masking  \\\n",
       "nct_id                                                           \n",
       "NCT02627131                                  None (Open Label)   \n",
       "NCT02735213            Double (Participant, Outcomes Assessor)   \n",
       "NCT01819129                 Double (Participant, Investigator)   \n",
       "NCT00045838                                                NaN   \n",
       "NCT01309997                                  None (Open Label)   \n",
       "...                                                        ...   \n",
       "NCT00506831                                  None (Open Label)   \n",
       "NCT02049762  Quadruple (Participant, Care Provider, Investi...   \n",
       "NCT01314066  Triple (Participant, Care Provider, Investigator)   \n",
       "NCT01445106                                  None (Open Label)   \n",
       "NCT00486044  Triple (Participant, Investigator, Outcomes As...   \n",
       "\n",
       "                                                   PMID_tokens  num_of_papers  \n",
       "nct_id                                                                         \n",
       "NCT02627131  [Hindawi,, Publishing,, Corporation,, Stem,, C...            1.0  \n",
       "NCT02735213  [ORE441502.indd,, E-Mail,, karger,, @,, karger...            5.0  \n",
       "NCT01819129  [Faster,, Aspart,, Versus,, Insulin,, Aspart,,...            3.0  \n",
       "NCT00045838  [Proc,, .,, Nati,, .,, Acad,, .,, Sci,, .,, US...            3.0  \n",
       "NCT01309997  [CCR-15-1443,, 319..327,, Cancer,, Therapy,, :...            1.0  \n",
       "...                                                        ...            ...  \n",
       "NCT00506831  [Systemic,, and,, cell,, type-specific,, gene,...            2.0  \n",
       "NCT02049762  [Ticagrelor,, versus,, Clopidogrel,, in,, Pati...           14.0  \n",
       "NCT01314066  [Incidence,, and,, Outcomes,, of,, Acute,, Lun...           18.0  \n",
       "NCT01445106  [20016.indd,, Research,, article,, 928,, The,,...            3.0  \n",
       "NCT00486044  [Simvastatin,, strongly,, reduces,, levels,, o...            3.0  \n",
       "\n",
       "[1781 rows x 20 columns]"
      ]
     },
     "execution_count": 34,
     "metadata": {},
     "output_type": "execute_result"
    }
   ],
   "source": [
    "tokenized_cols = ['source', 'condition','textblock','intervention_type',\n",
    "                  'intervention_name']\n",
    "\n",
    "cat_cols = ['has_expanded_access', 'gender', 'healthy_volunteers', 'country',\n",
    "            'allocation', 'intervention_model', 'masking', 'is_fda_regulated_drug',\n",
    "            'is_fda_regulated_device', 'primary_purpose']\n",
    "num_cols = ['minimum_age', 'maximum_age', 'enrollment', 'num_of_papers']\n",
    "\n",
    "def split_words_col(df, y):\n",
    "    cols = ['source','condition', 'PMID_tokens']\n",
    "    other_cols = ['intervention_type', 'intervention_name', 'textblock']\n",
    "    for col in cols:\n",
    "        df.loc[:, col] =df[col].map(lambda x: x.split(' '))\n",
    "    for col in other_cols:\n",
    "        df.loc[:, col] = df[col]\n",
    "    return df\n",
    "\n",
    "\n",
    "split_words_col(X_train, y_train)\n",
    "split_words_col(X_test, y_test)\n",
    "\n",
    "change_datatype(X_train, 'category', cat_cols)\n",
    "change_datatype(X_train, np.number, num_cols)\n",
    "tokenize_col(X_train, tokenized_cols)\n",
    "\n",
    "change_datatype(X_test, 'category', cat_cols)\n",
    "change_datatype(X_test, np.number, num_cols)\n",
    "tokenize_col(X_test, tokenized_cols)\n",
    "\n",
    "\n",
    "X_train.loc[:,'intervention_name'] = X_train['intervention_name'].map(lambda x: ' '.join(x))\n",
    "X_train.loc[:,'intervention_type'] = X_train['intervention_type'].map(lambda x: ' '.join(x))\n",
    "X_train.loc[:,'condition'] = X_train['condition'].map(lambda x: ' '.join(x))\n",
    "X_train.loc[:,'source'] = X_train['source'].map(lambda x: ' '.join(x))\n",
    "\n",
    "X_test.loc[:,'intervention_name'] = X_test['intervention_name'].map(lambda x: ' '.join(x))\n",
    "X_test.loc[:,'intervention_type'] = X_test['intervention_type'].map(lambda x: ' '.join(x))\n",
    "X_test.loc[:,'condition'] = X_test['condition'].map(lambda x: ' '.join(x))\n",
    "X_test.loc[:,'source'] = X_test['source'].map(lambda x: ' '.join(x))\n",
    "\n",
    "#for col in ['PMID']:\n",
    " #   X_train.loc[:, col] = X_train[col].map(lambda x: x.split(' '))\n",
    "  #  X_test.loc[:, col] = X_test[col].map(lambda x : x.split(' '))\n"
   ]
  },
  {
   "cell_type": "code",
   "execution_count": 36,
   "metadata": {},
   "outputs": [
    {
     "name": "stderr",
     "output_type": "stream",
     "text": [
      "C:\\Users\\Public\\Anaconda3\\lib\\site-packages\\pandas\\core\\indexing.py:1743: SettingWithCopyWarning: \n",
      "A value is trying to be set on a copy of a slice from a DataFrame.\n",
      "Try using .loc[row_indexer,col_indexer] = value instead\n",
      "\n",
      "See the caveats in the documentation: https://pandas.pydata.org/pandas-docs/stable/user_guide/indexing.html#returning-a-view-versus-a-copy\n",
      "  isetter(ilocs[0], value)\n"
     ]
    }
   ],
   "source": [
    "X_train.loc[:,'intervention_name'] = X_train['intervention_name'].map(lambda x: ' '.join(x))\n",
    "X_train.loc[:,'intervention_type'] = X_train['intervention_type'].map(lambda x: ' '.join(x))\n",
    "X_train.loc[:,'condition'] = X_train['condition'].map(lambda x: ' '.join(x))\n",
    "X_train.loc[:,'source'] = X_train['source'].map(lambda x: ' '.join(x))\n",
    "\n",
    "X_test.loc[:,'intervention_name'] = X_test['intervention_name'].map(lambda x: ' '.join(x))\n",
    "X_test.loc[:,'intervention_type'] = X_test['intervention_type'].map(lambda x: ' '.join(x))\n",
    "X_test.loc[:,'condition'] = X_test['condition'].map(lambda x: ' '.join(x))\n",
    "X_test.loc[:,'source'] = X_test['source'].map(lambda x: ' '.join(x))"
   ]
  },
  {
   "cell_type": "code",
   "execution_count": 140,
   "metadata": {},
   "outputs": [],
   "source": [
    "X_copy = X.copy()\n",
    "y_copy = y.copy()\n",
    "\n",
    "split_words_col(X_copy, y_copy)\n",
    "\n",
    "change_datatype(X_copy, 'category', cat_cols)\n",
    "change_datatype(X_copy, np.number, num_cols)\n",
    "tokenize_col(X_copy, tokenized_cols)\n",
    "\n",
    "X_copy.loc[:,'intervention_name'] = X_copy['intervention_name'].map(lambda x: ' '.join(x))\n",
    "X_copy.loc[:,'intervention_type'] = X_copy['intervention_type'].map(lambda x: ' '.join(x))\n",
    "X_copy.loc[:,'condition'] = X_copy['condition'].map(lambda x: ' '.join(x))\n",
    "X_copy.loc[:,'source'] = X_copy['source'].map(lambda x: ' '.join(x))\n",
    "\n",
    "X_copy.loc[:, 'PMID_tokens'] = X_copy['PMID_tokens'].map(lambda x: ' '.join(x))\n",
    "X_copy.loc[:, 'PMID_tokens'] = X_copy['PMID_tokens'].map(get_tokens)\n",
    "\n",
    "X_copy.loc[:, 'PMID_tokens'] = X_copy['PMID_tokens'].map(lambda x: ' '.join(x))\n",
    "X_copy.loc[:, 'textblock'] = X_copy['textblock'].map(lambda x: ' '.join(x))"
   ]
  },
  {
   "cell_type": "code",
   "execution_count": 37,
   "metadata": {},
   "outputs": [
    {
     "name": "stderr",
     "output_type": "stream",
     "text": [
      "C:\\Users\\Public\\Anaconda3\\lib\\site-packages\\ipykernel_launcher.py:1: SettingWithCopyWarning: \n",
      "A value is trying to be set on a copy of a slice from a DataFrame.\n",
      "Try using .loc[row_indexer,col_indexer] = value instead\n",
      "\n",
      "See the caveats in the documentation: https://pandas.pydata.org/pandas-docs/stable/user_guide/indexing.html#returning-a-view-versus-a-copy\n",
      "  \"\"\"Entry point for launching an IPython kernel.\n",
      "C:\\Users\\Public\\Anaconda3\\lib\\site-packages\\ipykernel_launcher.py:2: SettingWithCopyWarning: \n",
      "A value is trying to be set on a copy of a slice from a DataFrame.\n",
      "Try using .loc[row_indexer,col_indexer] = value instead\n",
      "\n",
      "See the caveats in the documentation: https://pandas.pydata.org/pandas-docs/stable/user_guide/indexing.html#returning-a-view-versus-a-copy\n",
      "  \n",
      "C:\\Users\\Public\\Anaconda3\\lib\\site-packages\\ipykernel_launcher.py:4: SettingWithCopyWarning: \n",
      "A value is trying to be set on a copy of a slice from a DataFrame.\n",
      "Try using .loc[row_indexer,col_indexer] = value instead\n",
      "\n",
      "See the caveats in the documentation: https://pandas.pydata.org/pandas-docs/stable/user_guide/indexing.html#returning-a-view-versus-a-copy\n",
      "  after removing the cwd from sys.path.\n",
      "C:\\Users\\Public\\Anaconda3\\lib\\site-packages\\ipykernel_launcher.py:5: SettingWithCopyWarning: \n",
      "A value is trying to be set on a copy of a slice from a DataFrame.\n",
      "Try using .loc[row_indexer,col_indexer] = value instead\n",
      "\n",
      "See the caveats in the documentation: https://pandas.pydata.org/pandas-docs/stable/user_guide/indexing.html#returning-a-view-versus-a-copy\n",
      "  \"\"\"\n"
     ]
    }
   ],
   "source": [
    "X_train.loc[:, 'PMID_tokens'] = X_train['PMID_tokens'].map(lambda x: ' '.join(x))\n",
    "X_test.loc[:'PMID_tokens'] = X_test['PMID_tokens'].map(lambda x: ' '.join(x))\n",
    "\n",
    "X_train.loc[:, 'PMID_tokens'] = X_train['PMID_tokens'].map(get_tokens)\n",
    "X_test.loc[:, 'PMID_tokens'] = X_test['PMID_tokens'].map(get_tokens)\n",
    "\n",
    "X_train.loc[:, 'PMID_tokens'] = X_train['PMID_tokens'].map(lambda x: ' '.join(x))\n",
    "X_train.loc[:, 'textblock'] = X_train['textblock'].map(lambda x: ' '.join(x))\n",
    "\n",
    "X_test.loc[:, 'PMID_tokens'] = X_test['PMID_tokens'].map(lambda x: ' '.join(x))\n",
    "X_test.loc[:, 'textblock'] = X_test['textblock'].map(lambda x: ' '.join(x))"
   ]
  },
  {
   "cell_type": "code",
   "execution_count": 40,
   "metadata": {},
   "outputs": [
    {
     "name": "stderr",
     "output_type": "stream",
     "text": [
      "C:\\Users\\Public\\Anaconda3\\lib\\site-packages\\ipykernel_launcher.py:1: SettingWithCopyWarning: \n",
      "A value is trying to be set on a copy of a slice from a DataFrame.\n",
      "Try using .loc[row_indexer,col_indexer] = value instead\n",
      "\n",
      "See the caveats in the documentation: https://pandas.pydata.org/pandas-docs/stable/user_guide/indexing.html#returning-a-view-versus-a-copy\n",
      "  \"\"\"Entry point for launching an IPython kernel.\n",
      "C:\\Users\\Public\\Anaconda3\\lib\\site-packages\\ipykernel_launcher.py:2: SettingWithCopyWarning: \n",
      "A value is trying to be set on a copy of a slice from a DataFrame.\n",
      "Try using .loc[row_indexer,col_indexer] = value instead\n",
      "\n",
      "See the caveats in the documentation: https://pandas.pydata.org/pandas-docs/stable/user_guide/indexing.html#returning-a-view-versus-a-copy\n",
      "  \n",
      "C:\\Users\\Public\\Anaconda3\\lib\\site-packages\\ipykernel_launcher.py:4: SettingWithCopyWarning: \n",
      "A value is trying to be set on a copy of a slice from a DataFrame.\n",
      "Try using .loc[row_indexer,col_indexer] = value instead\n",
      "\n",
      "See the caveats in the documentation: https://pandas.pydata.org/pandas-docs/stable/user_guide/indexing.html#returning-a-view-versus-a-copy\n",
      "  after removing the cwd from sys.path.\n",
      "C:\\Users\\Public\\Anaconda3\\lib\\site-packages\\ipykernel_launcher.py:5: SettingWithCopyWarning: \n",
      "A value is trying to be set on a copy of a slice from a DataFrame.\n",
      "Try using .loc[row_indexer,col_indexer] = value instead\n",
      "\n",
      "See the caveats in the documentation: https://pandas.pydata.org/pandas-docs/stable/user_guide/indexing.html#returning-a-view-versus-a-copy\n",
      "  \"\"\"\n"
     ]
    }
   ],
   "source": [
    "X_train.loc[:, 'PMID_tokens'] = X_train['PMID_tokens'].map(lambda x: ' '.join(x))\n",
    "X_train.loc[:, 'textblock'] = X_train['textblock'].map(lambda x: ' '.join(x))\n",
    "\n",
    "X_test.loc[:, 'PMID_tokens'] = X_test['PMID_tokens'].map(lambda x: ' '.join(x))\n",
    "X_test.loc[:, 'textblock'] = X_test['textblock'].map(lambda x: ' '.join(x))"
   ]
  },
  {
   "cell_type": "code",
   "execution_count": 203,
   "metadata": {},
   "outputs": [
    {
     "name": "stderr",
     "output_type": "stream",
     "text": [
      "C:\\Users\\Public\\Anaconda3\\lib\\site-packages\\pandas\\core\\indexing.py:1743: SettingWithCopyWarning: \n",
      "A value is trying to be set on a copy of a slice from a DataFrame.\n",
      "Try using .loc[row_indexer,col_indexer] = value instead\n",
      "\n",
      "See the caveats in the documentation: https://pandas.pydata.org/pandas-docs/stable/user_guide/indexing.html#returning-a-view-versus-a-copy\n",
      "  isetter(ilocs[0], value)\n"
     ]
    }
   ],
   "source": [
    "X_train.loc[:, 'PMID_tokens'] = X_train['PMID_tokens'].map(lambda x: x.split(' '))\n"
   ]
  },
  {
   "cell_type": "code",
   "execution_count": 215,
   "metadata": {},
   "outputs": [
    {
     "data": {
      "text/plain": [
       "18229"
      ]
     },
     "execution_count": 215,
     "metadata": {},
     "output_type": "execute_result"
    }
   ],
   "source": [
    "import gc\n",
    "gc.collect()"
   ]
  },
  {
   "cell_type": "code",
   "execution_count": 213,
   "metadata": {},
   "outputs": [
    {
     "ename": "MemoryError",
     "evalue": "Unable to allocate 4.79 MiB for an array with shape (3141, 400) and data type float32",
     "output_type": "error",
     "traceback": [
      "\u001b[1;31m---------------------------------------------------------------------------\u001b[0m",
      "\u001b[1;31m_RemoteTraceback\u001b[0m                          Traceback (most recent call last)",
      "\u001b[1;31m_RemoteTraceback\u001b[0m: \n\"\"\"\nTraceback (most recent call last):\n  File \"C:\\Users\\Public\\Anaconda3\\lib\\site-packages\\joblib\\externals\\loky\\process_executor.py\", line 418, in _process_worker\n    r = call_item()\n  File \"C:\\Users\\Public\\Anaconda3\\lib\\site-packages\\joblib\\externals\\loky\\process_executor.py\", line 272, in __call__\n    return self.fn(*self.args, **self.kwargs)\n  File \"C:\\Users\\Public\\Anaconda3\\lib\\site-packages\\joblib\\_parallel_backends.py\", line 567, in __call__\n    return self.func(*args, **kwargs)\n  File \"C:\\Users\\Public\\Anaconda3\\lib\\site-packages\\joblib\\parallel.py\", line 225, in __call__\n    for func, args, kwargs in self.items]\n  File \"C:\\Users\\Public\\Anaconda3\\lib\\site-packages\\joblib\\parallel.py\", line 225, in <listcomp>\n    for func, args, kwargs in self.items]\n  File \"C:\\Users\\Public\\Anaconda3\\lib\\site-packages\\sklearn\\pipeline.py\", line 740, in _fit_transform_one\n    res = transformer.fit_transform(X, y, **fit_params)\n  File \"C:\\Users\\Public\\Anaconda3\\lib\\site-packages\\sklearn\\pipeline.py\", line 376, in fit_transform\n    return last_step.fit_transform(Xt, y, **fit_params_last_step)\n  File \"C:\\Users\\Public\\Anaconda3\\lib\\site-packages\\sklearn\\base.py\", line 693, in fit_transform\n    return self.fit(X, y, **fit_params).transform(X)\n  File \"C:\\Users\\Public\\Anaconda3\\lib\\site-packages\\gensim\\sklearn_api\\w2vmodel.py\", line 179, in transform\n    vectors = [self.gensim_model.wv[word] for word in words]\n  File \"C:\\Users\\Public\\Anaconda3\\lib\\site-packages\\gensim\\sklearn_api\\w2vmodel.py\", line 179, in <listcomp>\n    vectors = [self.gensim_model.wv[word] for word in words]\n  File \"C:\\Users\\Public\\Anaconda3\\lib\\site-packages\\gensim\\models\\keyedvectors.py\", line 384, in __getitem__\n    return vstack([self.get_vector(key) for key in key_or_keys])\n  File \"<__array_function__ internals>\", line 6, in vstack\n  File \"C:\\Users\\Public\\Anaconda3\\lib\\site-packages\\numpy\\core\\shape_base.py\", line 283, in vstack\n    return _nx.concatenate(arrs, 0)\n  File \"<__array_function__ internals>\", line 6, in concatenate\nMemoryError: Unable to allocate 4.79 MiB for an array with shape (3141, 400) and data type float32\n\"\"\"",
      "\nThe above exception was the direct cause of the following exception:\n",
      "\u001b[1;31mMemoryError\u001b[0m                               Traceback (most recent call last)",
      "\u001b[1;32m<ipython-input-213-a4fa4d83a08f>\u001b[0m in \u001b[0;36m<module>\u001b[1;34m\u001b[0m\n\u001b[0;32m     75\u001b[0m \u001b[1;33m\u001b[0m\u001b[0m\n\u001b[0;32m     76\u001b[0m \u001b[1;31m#grid_search.fit(X_train, y_train)\u001b[0m\u001b[1;33m\u001b[0m\u001b[1;33m\u001b[0m\u001b[1;33m\u001b[0m\u001b[0m\n\u001b[1;32m---> 77\u001b[1;33m \u001b[0mpipe\u001b[0m\u001b[1;33m.\u001b[0m\u001b[0mfit\u001b[0m\u001b[1;33m(\u001b[0m\u001b[0mX_train\u001b[0m\u001b[1;33m,\u001b[0m \u001b[0my_train\u001b[0m\u001b[1;33m)\u001b[0m\u001b[1;33m\u001b[0m\u001b[1;33m\u001b[0m\u001b[0m\n\u001b[0m",
      "\u001b[1;32mC:\\Users\\Public\\Anaconda3\\lib\\site-packages\\imbalanced_learn-0.7.0-py3.7.egg\\imblearn\\pipeline.py\u001b[0m in \u001b[0;36mfit\u001b[1;34m(self, X, y, **fit_params)\u001b[0m\n\u001b[0;32m    275\u001b[0m             \u001b[0mThis\u001b[0m \u001b[0mestimator\u001b[0m\u001b[1;33m.\u001b[0m\u001b[1;33m\u001b[0m\u001b[1;33m\u001b[0m\u001b[0m\n\u001b[0;32m    276\u001b[0m         \"\"\"\n\u001b[1;32m--> 277\u001b[1;33m         \u001b[0mXt\u001b[0m\u001b[1;33m,\u001b[0m \u001b[0myt\u001b[0m\u001b[1;33m,\u001b[0m \u001b[0mfit_params\u001b[0m \u001b[1;33m=\u001b[0m \u001b[0mself\u001b[0m\u001b[1;33m.\u001b[0m\u001b[0m_fit\u001b[0m\u001b[1;33m(\u001b[0m\u001b[0mX\u001b[0m\u001b[1;33m,\u001b[0m \u001b[0my\u001b[0m\u001b[1;33m,\u001b[0m \u001b[1;33m**\u001b[0m\u001b[0mfit_params\u001b[0m\u001b[1;33m)\u001b[0m\u001b[1;33m\u001b[0m\u001b[1;33m\u001b[0m\u001b[0m\n\u001b[0m\u001b[0;32m    278\u001b[0m         with _print_elapsed_time('Pipeline',\n\u001b[0;32m    279\u001b[0m                                  self._log_message(len(self.steps) - 1)):\n",
      "\u001b[1;32mC:\\Users\\Public\\Anaconda3\\lib\\site-packages\\imbalanced_learn-0.7.0-py3.7.egg\\imblearn\\pipeline.py\u001b[0m in \u001b[0;36m_fit\u001b[1;34m(self, X, y, **fit_params)\u001b[0m\n\u001b[0;32m    231\u001b[0m                     \u001b[0mmessage_clsname\u001b[0m\u001b[1;33m=\u001b[0m\u001b[1;34m'Pipeline'\u001b[0m\u001b[1;33m,\u001b[0m\u001b[1;33m\u001b[0m\u001b[1;33m\u001b[0m\u001b[0m\n\u001b[0;32m    232\u001b[0m                     \u001b[0mmessage\u001b[0m\u001b[1;33m=\u001b[0m\u001b[0mself\u001b[0m\u001b[1;33m.\u001b[0m\u001b[0m_log_message\u001b[0m\u001b[1;33m(\u001b[0m\u001b[0mstep_idx\u001b[0m\u001b[1;33m)\u001b[0m\u001b[1;33m,\u001b[0m\u001b[1;33m\u001b[0m\u001b[1;33m\u001b[0m\u001b[0m\n\u001b[1;32m--> 233\u001b[1;33m                     \u001b[1;33m**\u001b[0m\u001b[0mfit_params_steps\u001b[0m\u001b[1;33m[\u001b[0m\u001b[0mname\u001b[0m\u001b[1;33m]\u001b[0m\u001b[1;33m\u001b[0m\u001b[1;33m\u001b[0m\u001b[0m\n\u001b[0m\u001b[0;32m    234\u001b[0m                 )\n\u001b[0;32m    235\u001b[0m             \u001b[1;32melif\u001b[0m \u001b[0mhasattr\u001b[0m\u001b[1;33m(\u001b[0m\u001b[0mcloned_transformer\u001b[0m\u001b[1;33m,\u001b[0m \u001b[1;34m\"fit_resample\"\u001b[0m\u001b[1;33m)\u001b[0m\u001b[1;33m:\u001b[0m\u001b[1;33m\u001b[0m\u001b[1;33m\u001b[0m\u001b[0m\n",
      "\u001b[1;32mC:\\Users\\Public\\Anaconda3\\lib\\site-packages\\joblib\\memory.py\u001b[0m in \u001b[0;36m__call__\u001b[1;34m(self, *args, **kwargs)\u001b[0m\n\u001b[0;32m    353\u001b[0m \u001b[1;33m\u001b[0m\u001b[0m\n\u001b[0;32m    354\u001b[0m     \u001b[1;32mdef\u001b[0m \u001b[0m__call__\u001b[0m\u001b[1;33m(\u001b[0m\u001b[0mself\u001b[0m\u001b[1;33m,\u001b[0m \u001b[1;33m*\u001b[0m\u001b[0margs\u001b[0m\u001b[1;33m,\u001b[0m \u001b[1;33m**\u001b[0m\u001b[0mkwargs\u001b[0m\u001b[1;33m)\u001b[0m\u001b[1;33m:\u001b[0m\u001b[1;33m\u001b[0m\u001b[1;33m\u001b[0m\u001b[0m\n\u001b[1;32m--> 355\u001b[1;33m         \u001b[1;32mreturn\u001b[0m \u001b[0mself\u001b[0m\u001b[1;33m.\u001b[0m\u001b[0mfunc\u001b[0m\u001b[1;33m(\u001b[0m\u001b[1;33m*\u001b[0m\u001b[0margs\u001b[0m\u001b[1;33m,\u001b[0m \u001b[1;33m**\u001b[0m\u001b[0mkwargs\u001b[0m\u001b[1;33m)\u001b[0m\u001b[1;33m\u001b[0m\u001b[1;33m\u001b[0m\u001b[0m\n\u001b[0m\u001b[0;32m    356\u001b[0m \u001b[1;33m\u001b[0m\u001b[0m\n\u001b[0;32m    357\u001b[0m     \u001b[1;32mdef\u001b[0m \u001b[0mcall_and_shelve\u001b[0m\u001b[1;33m(\u001b[0m\u001b[0mself\u001b[0m\u001b[1;33m,\u001b[0m \u001b[1;33m*\u001b[0m\u001b[0margs\u001b[0m\u001b[1;33m,\u001b[0m \u001b[1;33m**\u001b[0m\u001b[0mkwargs\u001b[0m\u001b[1;33m)\u001b[0m\u001b[1;33m:\u001b[0m\u001b[1;33m\u001b[0m\u001b[1;33m\u001b[0m\u001b[0m\n",
      "\u001b[1;32mC:\\Users\\Public\\Anaconda3\\lib\\site-packages\\sklearn\\pipeline.py\u001b[0m in \u001b[0;36m_fit_transform_one\u001b[1;34m(transformer, X, y, weight, message_clsname, message, **fit_params)\u001b[0m\n\u001b[0;32m    738\u001b[0m     \u001b[1;32mwith\u001b[0m \u001b[0m_print_elapsed_time\u001b[0m\u001b[1;33m(\u001b[0m\u001b[0mmessage_clsname\u001b[0m\u001b[1;33m,\u001b[0m \u001b[0mmessage\u001b[0m\u001b[1;33m)\u001b[0m\u001b[1;33m:\u001b[0m\u001b[1;33m\u001b[0m\u001b[1;33m\u001b[0m\u001b[0m\n\u001b[0;32m    739\u001b[0m         \u001b[1;32mif\u001b[0m \u001b[0mhasattr\u001b[0m\u001b[1;33m(\u001b[0m\u001b[0mtransformer\u001b[0m\u001b[1;33m,\u001b[0m \u001b[1;34m'fit_transform'\u001b[0m\u001b[1;33m)\u001b[0m\u001b[1;33m:\u001b[0m\u001b[1;33m\u001b[0m\u001b[1;33m\u001b[0m\u001b[0m\n\u001b[1;32m--> 740\u001b[1;33m             \u001b[0mres\u001b[0m \u001b[1;33m=\u001b[0m \u001b[0mtransformer\u001b[0m\u001b[1;33m.\u001b[0m\u001b[0mfit_transform\u001b[0m\u001b[1;33m(\u001b[0m\u001b[0mX\u001b[0m\u001b[1;33m,\u001b[0m \u001b[0my\u001b[0m\u001b[1;33m,\u001b[0m \u001b[1;33m**\u001b[0m\u001b[0mfit_params\u001b[0m\u001b[1;33m)\u001b[0m\u001b[1;33m\u001b[0m\u001b[1;33m\u001b[0m\u001b[0m\n\u001b[0m\u001b[0;32m    741\u001b[0m         \u001b[1;32melse\u001b[0m\u001b[1;33m:\u001b[0m\u001b[1;33m\u001b[0m\u001b[1;33m\u001b[0m\u001b[0m\n\u001b[0;32m    742\u001b[0m             \u001b[0mres\u001b[0m \u001b[1;33m=\u001b[0m \u001b[0mtransformer\u001b[0m\u001b[1;33m.\u001b[0m\u001b[0mfit\u001b[0m\u001b[1;33m(\u001b[0m\u001b[0mX\u001b[0m\u001b[1;33m,\u001b[0m \u001b[0my\u001b[0m\u001b[1;33m,\u001b[0m \u001b[1;33m**\u001b[0m\u001b[0mfit_params\u001b[0m\u001b[1;33m)\u001b[0m\u001b[1;33m.\u001b[0m\u001b[0mtransform\u001b[0m\u001b[1;33m(\u001b[0m\u001b[0mX\u001b[0m\u001b[1;33m)\u001b[0m\u001b[1;33m\u001b[0m\u001b[1;33m\u001b[0m\u001b[0m\n",
      "\u001b[1;32mC:\\Users\\Public\\Anaconda3\\lib\\site-packages\\sklearn\\compose\\_column_transformer.py\u001b[0m in \u001b[0;36mfit_transform\u001b[1;34m(self, X, y)\u001b[0m\n\u001b[0;32m    529\u001b[0m         \u001b[0mself\u001b[0m\u001b[1;33m.\u001b[0m\u001b[0m_validate_remainder\u001b[0m\u001b[1;33m(\u001b[0m\u001b[0mX\u001b[0m\u001b[1;33m)\u001b[0m\u001b[1;33m\u001b[0m\u001b[1;33m\u001b[0m\u001b[0m\n\u001b[0;32m    530\u001b[0m \u001b[1;33m\u001b[0m\u001b[0m\n\u001b[1;32m--> 531\u001b[1;33m         \u001b[0mresult\u001b[0m \u001b[1;33m=\u001b[0m \u001b[0mself\u001b[0m\u001b[1;33m.\u001b[0m\u001b[0m_fit_transform\u001b[0m\u001b[1;33m(\u001b[0m\u001b[0mX\u001b[0m\u001b[1;33m,\u001b[0m \u001b[0my\u001b[0m\u001b[1;33m,\u001b[0m \u001b[0m_fit_transform_one\u001b[0m\u001b[1;33m)\u001b[0m\u001b[1;33m\u001b[0m\u001b[1;33m\u001b[0m\u001b[0m\n\u001b[0m\u001b[0;32m    532\u001b[0m \u001b[1;33m\u001b[0m\u001b[0m\n\u001b[0;32m    533\u001b[0m         \u001b[1;32mif\u001b[0m \u001b[1;32mnot\u001b[0m \u001b[0mresult\u001b[0m\u001b[1;33m:\u001b[0m\u001b[1;33m\u001b[0m\u001b[1;33m\u001b[0m\u001b[0m\n",
      "\u001b[1;32mC:\\Users\\Public\\Anaconda3\\lib\\site-packages\\sklearn\\compose\\_column_transformer.py\u001b[0m in \u001b[0;36m_fit_transform\u001b[1;34m(self, X, y, func, fitted)\u001b[0m\n\u001b[0;32m    465\u001b[0m                     message=self._log_message(name, idx, len(transformers)))\n\u001b[0;32m    466\u001b[0m                 for idx, (name, trans, column, weight) in enumerate(\n\u001b[1;32m--> 467\u001b[1;33m                         self._iter(fitted=fitted, replace_strings=True), 1))\n\u001b[0m\u001b[0;32m    468\u001b[0m         \u001b[1;32mexcept\u001b[0m \u001b[0mValueError\u001b[0m \u001b[1;32mas\u001b[0m \u001b[0me\u001b[0m\u001b[1;33m:\u001b[0m\u001b[1;33m\u001b[0m\u001b[1;33m\u001b[0m\u001b[0m\n\u001b[0;32m    469\u001b[0m             \u001b[1;32mif\u001b[0m \u001b[1;34m\"Expected 2D array, got 1D array instead\"\u001b[0m \u001b[1;32min\u001b[0m \u001b[0mstr\u001b[0m\u001b[1;33m(\u001b[0m\u001b[0me\u001b[0m\u001b[1;33m)\u001b[0m\u001b[1;33m:\u001b[0m\u001b[1;33m\u001b[0m\u001b[1;33m\u001b[0m\u001b[0m\n",
      "\u001b[1;32mC:\\Users\\Public\\Anaconda3\\lib\\site-packages\\joblib\\parallel.py\u001b[0m in \u001b[0;36m__call__\u001b[1;34m(self, iterable)\u001b[0m\n\u001b[0;32m    932\u001b[0m \u001b[1;33m\u001b[0m\u001b[0m\n\u001b[0;32m    933\u001b[0m             \u001b[1;32mwith\u001b[0m \u001b[0mself\u001b[0m\u001b[1;33m.\u001b[0m\u001b[0m_backend\u001b[0m\u001b[1;33m.\u001b[0m\u001b[0mretrieval_context\u001b[0m\u001b[1;33m(\u001b[0m\u001b[1;33m)\u001b[0m\u001b[1;33m:\u001b[0m\u001b[1;33m\u001b[0m\u001b[1;33m\u001b[0m\u001b[0m\n\u001b[1;32m--> 934\u001b[1;33m                 \u001b[0mself\u001b[0m\u001b[1;33m.\u001b[0m\u001b[0mretrieve\u001b[0m\u001b[1;33m(\u001b[0m\u001b[1;33m)\u001b[0m\u001b[1;33m\u001b[0m\u001b[1;33m\u001b[0m\u001b[0m\n\u001b[0m\u001b[0;32m    935\u001b[0m             \u001b[1;31m# Make sure that we get a last message telling us we are done\u001b[0m\u001b[1;33m\u001b[0m\u001b[1;33m\u001b[0m\u001b[1;33m\u001b[0m\u001b[0m\n\u001b[0;32m    936\u001b[0m             \u001b[0melapsed_time\u001b[0m \u001b[1;33m=\u001b[0m \u001b[0mtime\u001b[0m\u001b[1;33m.\u001b[0m\u001b[0mtime\u001b[0m\u001b[1;33m(\u001b[0m\u001b[1;33m)\u001b[0m \u001b[1;33m-\u001b[0m \u001b[0mself\u001b[0m\u001b[1;33m.\u001b[0m\u001b[0m_start_time\u001b[0m\u001b[1;33m\u001b[0m\u001b[1;33m\u001b[0m\u001b[0m\n",
      "\u001b[1;32mC:\\Users\\Public\\Anaconda3\\lib\\site-packages\\joblib\\parallel.py\u001b[0m in \u001b[0;36mretrieve\u001b[1;34m(self)\u001b[0m\n\u001b[0;32m    831\u001b[0m             \u001b[1;32mtry\u001b[0m\u001b[1;33m:\u001b[0m\u001b[1;33m\u001b[0m\u001b[1;33m\u001b[0m\u001b[0m\n\u001b[0;32m    832\u001b[0m                 \u001b[1;32mif\u001b[0m \u001b[0mgetattr\u001b[0m\u001b[1;33m(\u001b[0m\u001b[0mself\u001b[0m\u001b[1;33m.\u001b[0m\u001b[0m_backend\u001b[0m\u001b[1;33m,\u001b[0m \u001b[1;34m'supports_timeout'\u001b[0m\u001b[1;33m,\u001b[0m \u001b[1;32mFalse\u001b[0m\u001b[1;33m)\u001b[0m\u001b[1;33m:\u001b[0m\u001b[1;33m\u001b[0m\u001b[1;33m\u001b[0m\u001b[0m\n\u001b[1;32m--> 833\u001b[1;33m                     \u001b[0mself\u001b[0m\u001b[1;33m.\u001b[0m\u001b[0m_output\u001b[0m\u001b[1;33m.\u001b[0m\u001b[0mextend\u001b[0m\u001b[1;33m(\u001b[0m\u001b[0mjob\u001b[0m\u001b[1;33m.\u001b[0m\u001b[0mget\u001b[0m\u001b[1;33m(\u001b[0m\u001b[0mtimeout\u001b[0m\u001b[1;33m=\u001b[0m\u001b[0mself\u001b[0m\u001b[1;33m.\u001b[0m\u001b[0mtimeout\u001b[0m\u001b[1;33m)\u001b[0m\u001b[1;33m)\u001b[0m\u001b[1;33m\u001b[0m\u001b[1;33m\u001b[0m\u001b[0m\n\u001b[0m\u001b[0;32m    834\u001b[0m                 \u001b[1;32melse\u001b[0m\u001b[1;33m:\u001b[0m\u001b[1;33m\u001b[0m\u001b[1;33m\u001b[0m\u001b[0m\n\u001b[0;32m    835\u001b[0m                     \u001b[0mself\u001b[0m\u001b[1;33m.\u001b[0m\u001b[0m_output\u001b[0m\u001b[1;33m.\u001b[0m\u001b[0mextend\u001b[0m\u001b[1;33m(\u001b[0m\u001b[0mjob\u001b[0m\u001b[1;33m.\u001b[0m\u001b[0mget\u001b[0m\u001b[1;33m(\u001b[0m\u001b[1;33m)\u001b[0m\u001b[1;33m)\u001b[0m\u001b[1;33m\u001b[0m\u001b[1;33m\u001b[0m\u001b[0m\n",
      "\u001b[1;32mC:\\Users\\Public\\Anaconda3\\lib\\site-packages\\joblib\\_parallel_backends.py\u001b[0m in \u001b[0;36mwrap_future_result\u001b[1;34m(future, timeout)\u001b[0m\n\u001b[0;32m    519\u001b[0m         AsyncResults.get from multiprocessing.\"\"\"\n\u001b[0;32m    520\u001b[0m         \u001b[1;32mtry\u001b[0m\u001b[1;33m:\u001b[0m\u001b[1;33m\u001b[0m\u001b[1;33m\u001b[0m\u001b[0m\n\u001b[1;32m--> 521\u001b[1;33m             \u001b[1;32mreturn\u001b[0m \u001b[0mfuture\u001b[0m\u001b[1;33m.\u001b[0m\u001b[0mresult\u001b[0m\u001b[1;33m(\u001b[0m\u001b[0mtimeout\u001b[0m\u001b[1;33m=\u001b[0m\u001b[0mtimeout\u001b[0m\u001b[1;33m)\u001b[0m\u001b[1;33m\u001b[0m\u001b[1;33m\u001b[0m\u001b[0m\n\u001b[0m\u001b[0;32m    522\u001b[0m         \u001b[1;32mexcept\u001b[0m \u001b[0mLokyTimeoutError\u001b[0m\u001b[1;33m:\u001b[0m\u001b[1;33m\u001b[0m\u001b[1;33m\u001b[0m\u001b[0m\n\u001b[0;32m    523\u001b[0m             \u001b[1;32mraise\u001b[0m \u001b[0mTimeoutError\u001b[0m\u001b[1;33m(\u001b[0m\u001b[1;33m)\u001b[0m\u001b[1;33m\u001b[0m\u001b[1;33m\u001b[0m\u001b[0m\n",
      "\u001b[1;32mC:\\Users\\Public\\Anaconda3\\lib\\concurrent\\futures\\_base.py\u001b[0m in \u001b[0;36mresult\u001b[1;34m(self, timeout)\u001b[0m\n\u001b[0;32m    433\u001b[0m                 \u001b[1;32mraise\u001b[0m \u001b[0mCancelledError\u001b[0m\u001b[1;33m(\u001b[0m\u001b[1;33m)\u001b[0m\u001b[1;33m\u001b[0m\u001b[1;33m\u001b[0m\u001b[0m\n\u001b[0;32m    434\u001b[0m             \u001b[1;32melif\u001b[0m \u001b[0mself\u001b[0m\u001b[1;33m.\u001b[0m\u001b[0m_state\u001b[0m \u001b[1;33m==\u001b[0m \u001b[0mFINISHED\u001b[0m\u001b[1;33m:\u001b[0m\u001b[1;33m\u001b[0m\u001b[1;33m\u001b[0m\u001b[0m\n\u001b[1;32m--> 435\u001b[1;33m                 \u001b[1;32mreturn\u001b[0m \u001b[0mself\u001b[0m\u001b[1;33m.\u001b[0m\u001b[0m__get_result\u001b[0m\u001b[1;33m(\u001b[0m\u001b[1;33m)\u001b[0m\u001b[1;33m\u001b[0m\u001b[1;33m\u001b[0m\u001b[0m\n\u001b[0m\u001b[0;32m    436\u001b[0m             \u001b[1;32melse\u001b[0m\u001b[1;33m:\u001b[0m\u001b[1;33m\u001b[0m\u001b[1;33m\u001b[0m\u001b[0m\n\u001b[0;32m    437\u001b[0m                 \u001b[1;32mraise\u001b[0m \u001b[0mTimeoutError\u001b[0m\u001b[1;33m(\u001b[0m\u001b[1;33m)\u001b[0m\u001b[1;33m\u001b[0m\u001b[1;33m\u001b[0m\u001b[0m\n",
      "\u001b[1;32mC:\\Users\\Public\\Anaconda3\\lib\\concurrent\\futures\\_base.py\u001b[0m in \u001b[0;36m__get_result\u001b[1;34m(self)\u001b[0m\n\u001b[0;32m    382\u001b[0m     \u001b[1;32mdef\u001b[0m \u001b[0m__get_result\u001b[0m\u001b[1;33m(\u001b[0m\u001b[0mself\u001b[0m\u001b[1;33m)\u001b[0m\u001b[1;33m:\u001b[0m\u001b[1;33m\u001b[0m\u001b[1;33m\u001b[0m\u001b[0m\n\u001b[0;32m    383\u001b[0m         \u001b[1;32mif\u001b[0m \u001b[0mself\u001b[0m\u001b[1;33m.\u001b[0m\u001b[0m_exception\u001b[0m\u001b[1;33m:\u001b[0m\u001b[1;33m\u001b[0m\u001b[1;33m\u001b[0m\u001b[0m\n\u001b[1;32m--> 384\u001b[1;33m             \u001b[1;32mraise\u001b[0m \u001b[0mself\u001b[0m\u001b[1;33m.\u001b[0m\u001b[0m_exception\u001b[0m\u001b[1;33m\u001b[0m\u001b[1;33m\u001b[0m\u001b[0m\n\u001b[0m\u001b[0;32m    385\u001b[0m         \u001b[1;32melse\u001b[0m\u001b[1;33m:\u001b[0m\u001b[1;33m\u001b[0m\u001b[1;33m\u001b[0m\u001b[0m\n\u001b[0;32m    386\u001b[0m             \u001b[1;32mreturn\u001b[0m \u001b[0mself\u001b[0m\u001b[1;33m.\u001b[0m\u001b[0m_result\u001b[0m\u001b[1;33m\u001b[0m\u001b[1;33m\u001b[0m\u001b[0m\n",
      "\u001b[1;31mMemoryError\u001b[0m: Unable to allocate 4.79 MiB for an array with shape (3141, 400) and data type float32"
     ]
    }
   ],
   "source": [
    "from keras.layers import Dense\n",
    "from sklearn.ensemble import AdaBoostClassifier, BaggingClassifier, RandomForestClassifier\n",
    "from sklearn.neighbors import KNeighborsClassifier\n",
    "from sklearn.svm import SVC\n",
    "from gensim.sklearn_api import LdaSeqTransformer, FTTransformer,LdaTransformer,LsiTransformer\n",
    "from gensim.test.utils import common_corpus, common_dictionary\n",
    "\n",
    "tokenized_cols = ['source', 'condition', 'intervention_name', 'textblock',\n",
    "                  'intervention_type']\n",
    "cat_cols = ['has_expanded_access', 'gender', 'healthy_volunteers', 'country',\n",
    "            'allocation', 'intervention_model', 'masking', 'is_fda_regulated_drug',\n",
    "            'is_fda_regulated_device', 'primary_purpose']\n",
    "num_cols = ['minimum_age', 'maximum_age', 'enrollment', 'num_of_papers']\n",
    "\n",
    "#word_cols = ['source', 'intervention_name', 'PMID_tokens']\n",
    "#cat_cols = X_train.select_dtypes('category').columns.to_list\n",
    "#num_cols = X_train.select_dtypes('number').columns\n",
    "\n",
    "#word_cols = X_train.select_dtypes('object').columns\n",
    "\n",
    "#for col in tokenize_col:\n",
    "\n",
    "cat_pipe = Pipeline([('imputer', SimpleImputer(strategy = 'constant', fill_value = 'missing')),\n",
    "                     ('ohe', OneHotEncoder(handle_unknown = 'ignore'))])\n",
    "\n",
    "\n",
    "num_pipe = Pipeline([('imputer', SimpleImputer(strategy = 'median')),\n",
    "                     ('scaler', MinMaxScaler())])\n",
    "\n",
    "word_pipe = Pipeline([('vectorizer', TfidfVectorizer(ngram_range= (1,1)))])\n",
    "\n",
    "d2v_pipe = Pipeline([('d2v', W2VTransformer(min_count = 1, vector_size = 400))])\n",
    "poly_pipe = Pipeline([('poly', PolynomialFeatures())])\n",
    "\n",
    "grid_params = {\n",
    "    'model__penalty' : ['l1', 'l2'],\n",
    "    'model__C' : [ 0.1, 1, 10],\n",
    "    'model__solver':['liblinear', 'newton-cg']\n",
    "    \n",
    "}\n",
    "\n",
    "def get_model():\n",
    "    # create model\n",
    "    model = Sequential()\n",
    "    model.add(Dense(10, activation='relu'))\n",
    "    model.add(Dense(5, activation = 'relu'))\n",
    "    model.add(Dense(1, activation='sigmoid'))\n",
    "    # Compile model\n",
    "    model.compile(loss='binary_crossentropy', optimizer='adam', metrics=['accuracy'])\n",
    "    return model\n",
    "\n",
    "cnn = KerasClassifier(build_fn=get_model, epochs = 10)\n",
    "cnn._estimator_type = 'classifier'\n",
    "\n",
    "\n",
    "preprocessor = ColumnTransformer(transformers = [('num', num_pipe, num_cols),\n",
    "                                                 ('pmid_tfidf', d2v_pipe, 'PMID_tokens'),\n",
    "                                                 ('text_tfidf', word_pipe, 'textblock'),\n",
    "                                                 ('condition_tfidf',word_pipe , 'condition'),\n",
    "                                                 ('source_tfidf', word_pipe, 'source'),\n",
    "                                                 ('intervention_name_tfidf', word_pipe, 'intervention_name'),\n",
    "                                                 ('intervention_type_tfidf', word_pipe, 'intervention_type'),\n",
    "                                                 ('cat', cat_pipe, cat_cols),\n",
    "                                                 ], remainder = 'drop',n_jobs=-1)\n",
    "                            \n",
    "pipe = imbPipe(steps = [('preprocessor', preprocessor),                       \n",
    "                         #('bal', RandomUnderSampler(sampling_strategy = 0.2)),\n",
    "                        ('bal2', SMOTE(sampling_strategy= 0.3)),\n",
    "                         #('model', LogisticRegression(solver = 'newton-cg', C=100, n_jobs= -1))\n",
    "                        ('model', LogisticRegression())],\n",
    "                    \n",
    "               verbose = True)\n",
    "\n",
    "#grid_search = GridSearchCV(pipe, grid_params, n_jobs = -1, verbose = 3)\n",
    "\n",
    "#grid_search.fit(X_train, y_train)\n",
    "pipe.fit(X_train, y_train)"
   ]
  },
  {
   "cell_type": "code",
   "execution_count": 136,
   "metadata": {},
   "outputs": [],
   "source": [
    "from sklearn.model_selection import RepeatedStratifiedKFold\n",
    "from sklearn.model_selection import cross_val_predict, cross_val_score\n",
    "kFold = RepeatedStratifiedKFold()\n",
    "\n",
    "x_folds = kFold.split(X,y)"
   ]
  },
  {
   "cell_type": "code",
   "execution_count": 147,
   "metadata": {},
   "outputs": [
    {
     "data": {
      "text/html": [
       "<div>\n",
       "<style scoped>\n",
       "    .dataframe tbody tr th:only-of-type {\n",
       "        vertical-align: middle;\n",
       "    }\n",
       "\n",
       "    .dataframe tbody tr th {\n",
       "        vertical-align: top;\n",
       "    }\n",
       "\n",
       "    .dataframe thead th {\n",
       "        text-align: right;\n",
       "    }\n",
       "</style>\n",
       "<table border=\"1\" class=\"dataframe\">\n",
       "  <thead>\n",
       "    <tr style=\"text-align: right;\">\n",
       "      <th></th>\n",
       "      <th>source</th>\n",
       "      <th>has_expanded_access</th>\n",
       "      <th>condition</th>\n",
       "      <th>enrollment</th>\n",
       "      <th>textblock</th>\n",
       "      <th>intervention_type</th>\n",
       "      <th>is_fda_regulated_drug</th>\n",
       "      <th>is_fda_regulated_device</th>\n",
       "      <th>intervention_name</th>\n",
       "      <th>gender</th>\n",
       "      <th>minimum_age</th>\n",
       "      <th>maximum_age</th>\n",
       "      <th>healthy_volunteers</th>\n",
       "      <th>country</th>\n",
       "      <th>allocation</th>\n",
       "      <th>intervention_model</th>\n",
       "      <th>primary_purpose</th>\n",
       "      <th>masking</th>\n",
       "      <th>PMID_tokens</th>\n",
       "      <th>num_of_papers</th>\n",
       "    </tr>\n",
       "    <tr>\n",
       "      <th>nct_id</th>\n",
       "      <th></th>\n",
       "      <th></th>\n",
       "      <th></th>\n",
       "      <th></th>\n",
       "      <th></th>\n",
       "      <th></th>\n",
       "      <th></th>\n",
       "      <th></th>\n",
       "      <th></th>\n",
       "      <th></th>\n",
       "      <th></th>\n",
       "      <th></th>\n",
       "      <th></th>\n",
       "      <th></th>\n",
       "      <th></th>\n",
       "      <th></th>\n",
       "      <th></th>\n",
       "      <th></th>\n",
       "      <th></th>\n",
       "      <th></th>\n",
       "    </tr>\n",
       "  </thead>\n",
       "  <tbody>\n",
       "    <tr>\n",
       "      <th>NCT00000113</th>\n",
       "      <td>stony brook university</td>\n",
       "      <td>No</td>\n",
       "      <td>myopia</td>\n",
       "      <td>469.0</td>\n",
       "      <td>evaluate whether progressive addition lenses p...</td>\n",
       "      <td></td>\n",
       "      <td>NaN</td>\n",
       "      <td>NaN</td>\n",
       "      <td>progressive addition lenses single vision lenses</td>\n",
       "      <td>All</td>\n",
       "      <td>6.0</td>\n",
       "      <td>12.0</td>\n",
       "      <td>No</td>\n",
       "      <td>United States</td>\n",
       "      <td>Randomized</td>\n",
       "      <td>Parallel Assignment</td>\n",
       "      <td>Treatment</td>\n",
       "      <td>Triple (Participant, Investigator, Outcomes As...</td>\n",
       "      <td>accommodation related risk factors associated ...</td>\n",
       "      <td>3.0</td>\n",
       "    </tr>\n",
       "    <tr>\n",
       "      <th>NCT00000125</th>\n",
       "      <td>washington university school medicine</td>\n",
       "      <td>No</td>\n",
       "      <td>ocular hypertension</td>\n",
       "      <td>1636.0</td>\n",
       "      <td>determine whether medical reduction intraocula...</td>\n",
       "      <td>drug</td>\n",
       "      <td>NaN</td>\n",
       "      <td>NaN</td>\n",
       "      <td>topical ocular hypotensive eye drops</td>\n",
       "      <td>All</td>\n",
       "      <td>40.0</td>\n",
       "      <td>80.0</td>\n",
       "      <td>No</td>\n",
       "      <td>NaN</td>\n",
       "      <td>Randomized</td>\n",
       "      <td>Parallel Assignment</td>\n",
       "      <td>Prevention</td>\n",
       "      <td>None (Open Label)</td>\n",
       "      <td>asymmetries visual field summaries predictors ...</td>\n",
       "      <td>63.0</td>\n",
       "    </tr>\n",
       "    <tr>\n",
       "      <th>NCT00000129</th>\n",
       "      <td>national eye institute nei</td>\n",
       "      <td>No</td>\n",
       "      <td>myopia</td>\n",
       "      <td>NaN</td>\n",
       "      <td>determine whether radial keratotomy effective ...</td>\n",
       "      <td>procedure</td>\n",
       "      <td>NaN</td>\n",
       "      <td>NaN</td>\n",
       "      <td>radial keratotomy</td>\n",
       "      <td>All</td>\n",
       "      <td>21.0</td>\n",
       "      <td>0.0</td>\n",
       "      <td>No</td>\n",
       "      <td>NaN</td>\n",
       "      <td>Randomized</td>\n",
       "      <td>NaN</td>\n",
       "      <td>Treatment</td>\n",
       "      <td>NaN</td>\n",
       "      <td>british journal ophthalmology evaluation corne...</td>\n",
       "      <td>32.0</td>\n",
       "    </tr>\n",
       "    <tr>\n",
       "      <th>NCT00000136</th>\n",
       "      <td>johns hopkins bloomberg school public health</td>\n",
       "      <td>No</td>\n",
       "      <td>hiv infections</td>\n",
       "      <td>234.0</td>\n",
       "      <td>evaluate relative safety efficacy ganciclovir ...</td>\n",
       "      <td>drug drug</td>\n",
       "      <td>NaN</td>\n",
       "      <td>NaN</td>\n",
       "      <td>foscarnet ganciclovir</td>\n",
       "      <td>All</td>\n",
       "      <td>13.0</td>\n",
       "      <td>0.0</td>\n",
       "      <td>No</td>\n",
       "      <td>NaN</td>\n",
       "      <td>Randomized</td>\n",
       "      <td>Parallel Assignment</td>\n",
       "      <td>Treatment</td>\n",
       "      <td>Single (Outcomes Assessor)</td>\n",
       "      <td>mortality patients acquired immunodeficiency s...</td>\n",
       "      <td>13.0</td>\n",
       "    </tr>\n",
       "    <tr>\n",
       "      <th>NCT00000139</th>\n",
       "      <td>national eye institute nei</td>\n",
       "      <td>No</td>\n",
       "      <td>keratitis herpetic</td>\n",
       "      <td>NaN</td>\n",
       "      <td>determine whether early treatment oral acyclov...</td>\n",
       "      <td>behavioral drug</td>\n",
       "      <td>NaN</td>\n",
       "      <td>NaN</td>\n",
       "      <td>stress acyclovir</td>\n",
       "      <td>All</td>\n",
       "      <td>18.0</td>\n",
       "      <td>0.0</td>\n",
       "      <td>No</td>\n",
       "      <td>United States</td>\n",
       "      <td>Randomized</td>\n",
       "      <td>NaN</td>\n",
       "      <td>Treatment</td>\n",
       "      <td>NaN</td>\n",
       "      <td>acyclovir prevention recurrent herpes simplex ...</td>\n",
       "      <td>3.0</td>\n",
       "    </tr>\n",
       "    <tr>\n",
       "      <th>...</th>\n",
       "      <td>...</td>\n",
       "      <td>...</td>\n",
       "      <td>...</td>\n",
       "      <td>...</td>\n",
       "      <td>...</td>\n",
       "      <td>...</td>\n",
       "      <td>...</td>\n",
       "      <td>...</td>\n",
       "      <td>...</td>\n",
       "      <td>...</td>\n",
       "      <td>...</td>\n",
       "      <td>...</td>\n",
       "      <td>...</td>\n",
       "      <td>...</td>\n",
       "      <td>...</td>\n",
       "      <td>...</td>\n",
       "      <td>...</td>\n",
       "      <td>...</td>\n",
       "      <td>...</td>\n",
       "      <td>...</td>\n",
       "    </tr>\n",
       "    <tr>\n",
       "      <th>NCT04242966</th>\n",
       "      <td>clinical evaluation research unit kingston gen...</td>\n",
       "      <td>No</td>\n",
       "      <td>critical illness</td>\n",
       "      <td>0.0</td>\n",
       "      <td>investigators evaluate effects higher proteina...</td>\n",
       "      <td></td>\n",
       "      <td>No</td>\n",
       "      <td>No</td>\n",
       "      <td>usual care higher proteinamino acid group ultr...</td>\n",
       "      <td>All</td>\n",
       "      <td>18.0</td>\n",
       "      <td>0.0</td>\n",
       "      <td>No</td>\n",
       "      <td>NaN</td>\n",
       "      <td>Randomized</td>\n",
       "      <td>Parallel Assignment</td>\n",
       "      <td>Basic Science</td>\n",
       "      <td>None (Open Label)</td>\n",
       "      <td>thrombus aspiration stsegment elevation myocar...</td>\n",
       "      <td>70.0</td>\n",
       "    </tr>\n",
       "    <tr>\n",
       "      <th>NCT04287543</th>\n",
       "      <td>instituto mexicano del seguro social</td>\n",
       "      <td>No</td>\n",
       "      <td>parkinson disease</td>\n",
       "      <td>0.0</td>\n",
       "      <td>parkinson disease pd second important neurodeg...</td>\n",
       "      <td>drug drug</td>\n",
       "      <td>No</td>\n",
       "      <td>No</td>\n",
       "      <td>melatonin placebos</td>\n",
       "      <td>All</td>\n",
       "      <td>20.0</td>\n",
       "      <td>0.0</td>\n",
       "      <td>No</td>\n",
       "      <td>Mexico</td>\n",
       "      <td>Randomized</td>\n",
       "      <td>Parallel Assignment</td>\n",
       "      <td>Treatment</td>\n",
       "      <td>Double (Participant, Investigator)</td>\n",
       "      <td>sublethal rna oxidation mechanism neurodegener...</td>\n",
       "      <td>40.0</td>\n",
       "    </tr>\n",
       "    <tr>\n",
       "      <th>NCT04290858</th>\n",
       "      <td>xijing hospital</td>\n",
       "      <td>No</td>\n",
       "      <td>coronavirus infections</td>\n",
       "      <td>0.0</td>\n",
       "      <td>scientific community search novel therapies he...</td>\n",
       "      <td>drug</td>\n",
       "      <td>No</td>\n",
       "      <td>No</td>\n",
       "      <td>nitric oxide</td>\n",
       "      <td>All</td>\n",
       "      <td>18.0</td>\n",
       "      <td>0.0</td>\n",
       "      <td>No</td>\n",
       "      <td>NaN</td>\n",
       "      <td>Randomized</td>\n",
       "      <td>Parallel Assignment</td>\n",
       "      <td>Treatment</td>\n",
       "      <td>None (Open Label)</td>\n",
       "      <td>novel coronavirus patients pneumonia china ngl...</td>\n",
       "      <td>5.0</td>\n",
       "    </tr>\n",
       "    <tr>\n",
       "      <th>NCT04290871</th>\n",
       "      <td>xijing hospital</td>\n",
       "      <td>No</td>\n",
       "      <td>coronavirus</td>\n",
       "      <td>0.0</td>\n",
       "      <td>investigators enroll patients confirmed diagno...</td>\n",
       "      <td>drug</td>\n",
       "      <td>Yes</td>\n",
       "      <td>No</td>\n",
       "      <td>nitric oxide gas</td>\n",
       "      <td>All</td>\n",
       "      <td>18.0</td>\n",
       "      <td>0.0</td>\n",
       "      <td>No</td>\n",
       "      <td>NaN</td>\n",
       "      <td>Randomized</td>\n",
       "      <td>Parallel Assignment</td>\n",
       "      <td>Treatment</td>\n",
       "      <td>Triple (Participant, Care Provider, Outcomes A...</td>\n",
       "      <td>novel coronavirus patients pneumonia china ngl...</td>\n",
       "      <td>6.0</td>\n",
       "    </tr>\n",
       "    <tr>\n",
       "      <th>NCT04354441</th>\n",
       "      <td>sir mortimer davis jewish general hospital</td>\n",
       "      <td>No</td>\n",
       "      <td></td>\n",
       "      <td>0.0</td>\n",
       "      <td>declared pandemic march efforts save lives ess...</td>\n",
       "      <td>drug drug</td>\n",
       "      <td>No</td>\n",
       "      <td>No</td>\n",
       "      <td>hydroxychloroquine sulfate mg placebo oral tablet</td>\n",
       "      <td>Female</td>\n",
       "      <td>18.0</td>\n",
       "      <td>50.0</td>\n",
       "      <td>No</td>\n",
       "      <td>NaN</td>\n",
       "      <td>Randomized</td>\n",
       "      <td>Parallel Assignment</td>\n",
       "      <td>Treatment</td>\n",
       "      <td>Quadruple (Participant, Care Provider, Investi...</td>\n",
       "      <td>hydroxychloroquine less toxic derivative chlor...</td>\n",
       "      <td>11.0</td>\n",
       "    </tr>\n",
       "  </tbody>\n",
       "</table>\n",
       "<p>5395 rows × 20 columns</p>\n",
       "</div>"
      ],
      "text/plain": [
       "                                                        source  \\\n",
       "nct_id                                                           \n",
       "NCT00000113                             stony brook university   \n",
       "NCT00000125              washington university school medicine   \n",
       "NCT00000129                         national eye institute nei   \n",
       "NCT00000136       johns hopkins bloomberg school public health   \n",
       "NCT00000139                         national eye institute nei   \n",
       "...                                                        ...   \n",
       "NCT04242966  clinical evaluation research unit kingston gen...   \n",
       "NCT04287543               instituto mexicano del seguro social   \n",
       "NCT04290858                                    xijing hospital   \n",
       "NCT04290871                                    xijing hospital   \n",
       "NCT04354441         sir mortimer davis jewish general hospital   \n",
       "\n",
       "            has_expanded_access               condition  enrollment  \\\n",
       "nct_id                                                                \n",
       "NCT00000113                  No                  myopia       469.0   \n",
       "NCT00000125                  No     ocular hypertension      1636.0   \n",
       "NCT00000129                  No                  myopia         NaN   \n",
       "NCT00000136                  No          hiv infections       234.0   \n",
       "NCT00000139                  No      keratitis herpetic         NaN   \n",
       "...                         ...                     ...         ...   \n",
       "NCT04242966                  No        critical illness         0.0   \n",
       "NCT04287543                  No       parkinson disease         0.0   \n",
       "NCT04290858                  No  coronavirus infections         0.0   \n",
       "NCT04290871                  No             coronavirus         0.0   \n",
       "NCT04354441                  No                                 0.0   \n",
       "\n",
       "                                                     textblock  \\\n",
       "nct_id                                                           \n",
       "NCT00000113  evaluate whether progressive addition lenses p...   \n",
       "NCT00000125  determine whether medical reduction intraocula...   \n",
       "NCT00000129  determine whether radial keratotomy effective ...   \n",
       "NCT00000136  evaluate relative safety efficacy ganciclovir ...   \n",
       "NCT00000139  determine whether early treatment oral acyclov...   \n",
       "...                                                        ...   \n",
       "NCT04242966  investigators evaluate effects higher proteina...   \n",
       "NCT04287543  parkinson disease pd second important neurodeg...   \n",
       "NCT04290858  scientific community search novel therapies he...   \n",
       "NCT04290871  investigators enroll patients confirmed diagno...   \n",
       "NCT04354441  declared pandemic march efforts save lives ess...   \n",
       "\n",
       "            intervention_type is_fda_regulated_drug is_fda_regulated_device  \\\n",
       "nct_id                                                                        \n",
       "NCT00000113                                     NaN                     NaN   \n",
       "NCT00000125              drug                   NaN                     NaN   \n",
       "NCT00000129         procedure                   NaN                     NaN   \n",
       "NCT00000136         drug drug                   NaN                     NaN   \n",
       "NCT00000139   behavioral drug                   NaN                     NaN   \n",
       "...                       ...                   ...                     ...   \n",
       "NCT04242966                                      No                      No   \n",
       "NCT04287543         drug drug                    No                      No   \n",
       "NCT04290858              drug                    No                      No   \n",
       "NCT04290871              drug                   Yes                      No   \n",
       "NCT04354441         drug drug                    No                      No   \n",
       "\n",
       "                                             intervention_name  gender  \\\n",
       "nct_id                                                                   \n",
       "NCT00000113   progressive addition lenses single vision lenses     All   \n",
       "NCT00000125               topical ocular hypotensive eye drops     All   \n",
       "NCT00000129                                  radial keratotomy     All   \n",
       "NCT00000136                              foscarnet ganciclovir     All   \n",
       "NCT00000139                                   stress acyclovir     All   \n",
       "...                                                        ...     ...   \n",
       "NCT04242966  usual care higher proteinamino acid group ultr...     All   \n",
       "NCT04287543                                 melatonin placebos     All   \n",
       "NCT04290858                                       nitric oxide     All   \n",
       "NCT04290871                                   nitric oxide gas     All   \n",
       "NCT04354441  hydroxychloroquine sulfate mg placebo oral tablet  Female   \n",
       "\n",
       "             minimum_age  maximum_age healthy_volunteers        country  \\\n",
       "nct_id                                                                    \n",
       "NCT00000113          6.0         12.0                 No  United States   \n",
       "NCT00000125         40.0         80.0                 No            NaN   \n",
       "NCT00000129         21.0          0.0                 No            NaN   \n",
       "NCT00000136         13.0          0.0                 No            NaN   \n",
       "NCT00000139         18.0          0.0                 No  United States   \n",
       "...                  ...          ...                ...            ...   \n",
       "NCT04242966         18.0          0.0                 No            NaN   \n",
       "NCT04287543         20.0          0.0                 No         Mexico   \n",
       "NCT04290858         18.0          0.0                 No            NaN   \n",
       "NCT04290871         18.0          0.0                 No            NaN   \n",
       "NCT04354441         18.0         50.0                 No            NaN   \n",
       "\n",
       "             allocation   intervention_model primary_purpose  \\\n",
       "nct_id                                                         \n",
       "NCT00000113  Randomized  Parallel Assignment       Treatment   \n",
       "NCT00000125  Randomized  Parallel Assignment      Prevention   \n",
       "NCT00000129  Randomized                  NaN       Treatment   \n",
       "NCT00000136  Randomized  Parallel Assignment       Treatment   \n",
       "NCT00000139  Randomized                  NaN       Treatment   \n",
       "...                 ...                  ...             ...   \n",
       "NCT04242966  Randomized  Parallel Assignment   Basic Science   \n",
       "NCT04287543  Randomized  Parallel Assignment       Treatment   \n",
       "NCT04290858  Randomized  Parallel Assignment       Treatment   \n",
       "NCT04290871  Randomized  Parallel Assignment       Treatment   \n",
       "NCT04354441  Randomized  Parallel Assignment       Treatment   \n",
       "\n",
       "                                                       masking  \\\n",
       "nct_id                                                           \n",
       "NCT00000113  Triple (Participant, Investigator, Outcomes As...   \n",
       "NCT00000125                                  None (Open Label)   \n",
       "NCT00000129                                                NaN   \n",
       "NCT00000136                         Single (Outcomes Assessor)   \n",
       "NCT00000139                                                NaN   \n",
       "...                                                        ...   \n",
       "NCT04242966                                  None (Open Label)   \n",
       "NCT04287543                 Double (Participant, Investigator)   \n",
       "NCT04290858                                  None (Open Label)   \n",
       "NCT04290871  Triple (Participant, Care Provider, Outcomes A...   \n",
       "NCT04354441  Quadruple (Participant, Care Provider, Investi...   \n",
       "\n",
       "                                                   PMID_tokens  num_of_papers  \n",
       "nct_id                                                                         \n",
       "NCT00000113  accommodation related risk factors associated ...            3.0  \n",
       "NCT00000125  asymmetries visual field summaries predictors ...           63.0  \n",
       "NCT00000129  british journal ophthalmology evaluation corne...           32.0  \n",
       "NCT00000136  mortality patients acquired immunodeficiency s...           13.0  \n",
       "NCT00000139  acyclovir prevention recurrent herpes simplex ...            3.0  \n",
       "...                                                        ...            ...  \n",
       "NCT04242966  thrombus aspiration stsegment elevation myocar...           70.0  \n",
       "NCT04287543  sublethal rna oxidation mechanism neurodegener...           40.0  \n",
       "NCT04290858  novel coronavirus patients pneumonia china ngl...            5.0  \n",
       "NCT04290871  novel coronavirus patients pneumonia china ngl...            6.0  \n",
       "NCT04354441  hydroxychloroquine less toxic derivative chlor...           11.0  \n",
       "\n",
       "[5395 rows x 20 columns]"
      ]
     },
     "execution_count": 147,
     "metadata": {},
     "output_type": "execute_result"
    }
   ],
   "source": [
    "X_copy"
   ]
  },
  {
   "cell_type": "code",
   "execution_count": 148,
   "metadata": {},
   "outputs": [
    {
     "name": "stdout",
     "output_type": "stream",
     "text": [
      "[Pipeline] ...... (step 1 of 3) Processing preprocessor, total=  42.0s\n",
      "[Pipeline] .............. (step 2 of 3) Processing bal2, total=   1.5s\n",
      "[Pipeline] ............. (step 3 of 3) Processing model, total= 4.2min\n",
      "[Pipeline] ...... (step 1 of 3) Processing preprocessor, total=  40.2s\n",
      "[Pipeline] .............. (step 2 of 3) Processing bal2, total=   1.1s\n",
      "[Pipeline] ............. (step 3 of 3) Processing model, total= 4.1min\n",
      "[Pipeline] ...... (step 1 of 3) Processing preprocessor, total=  35.9s\n",
      "[Pipeline] .............. (step 2 of 3) Processing bal2, total=   1.1s\n",
      "[Pipeline] ............. (step 3 of 3) Processing model, total= 4.1min\n",
      "[Pipeline] ...... (step 1 of 3) Processing preprocessor, total=  37.5s\n",
      "[Pipeline] .............. (step 2 of 3) Processing bal2, total=   1.2s\n",
      "[Pipeline] ............. (step 3 of 3) Processing model, total= 3.9min\n",
      "[Pipeline] ...... (step 1 of 3) Processing preprocessor, total=  33.4s\n",
      "[Pipeline] .............. (step 2 of 3) Processing bal2, total=   1.0s\n",
      "[Pipeline] ............. (step 3 of 3) Processing model, total= 3.7min\n"
     ]
    }
   ],
   "source": [
    "cross = cross_val_predict(pipe, X_copy, y_copy)"
   ]
  },
  {
   "cell_type": "code",
   "execution_count": 151,
   "metadata": {},
   "outputs": [
    {
     "name": "stdout",
     "output_type": "stream",
     "text": [
      "              precision    recall  f1-score   support\n",
      "\n",
      "       False       0.83      0.99      0.90      4395\n",
      "        True       0.64      0.11      0.18      1000\n",
      "\n",
      "    accuracy                           0.82      5395\n",
      "   macro avg       0.73      0.55      0.54      5395\n",
      "weighted avg       0.79      0.82      0.77      5395\n",
      "\n"
     ]
    }
   ],
   "source": [
    "print(classification_report(y_copy, cross))"
   ]
  },
  {
   "cell_type": "code",
   "execution_count": 152,
   "metadata": {},
   "outputs": [
    {
     "data": {
      "text/plain": [
       "['text_classification.joblib']"
      ]
     },
     "execution_count": 152,
     "metadata": {},
     "output_type": "execute_result"
    }
   ],
   "source": [
    "# import joblib\n",
    "from joblib import dump\n",
    "\n",
    "# dump the pipeline model\n",
    "dump(pipe, filename=\"text_classification.joblib\")"
   ]
  },
  {
   "cell_type": "code",
   "execution_count": 181,
   "metadata": {},
   "outputs": [
    {
     "data": {
      "text/plain": [
       "Index(['source', 'has_expanded_access', 'condition', 'enrollment', 'textblock',\n",
       "       'intervention_type', 'is_fda_regulated_drug', 'is_fda_regulated_device',\n",
       "       'intervention_name', 'gender', 'minimum_age', 'maximum_age',\n",
       "       'healthy_volunteers', 'country', 'allocation', 'intervention_model',\n",
       "       'primary_purpose', 'masking', 'PMID_tokens', 'num_of_papers'],\n",
       "      dtype='object')"
      ]
     },
     "execution_count": 181,
     "metadata": {},
     "output_type": "execute_result"
    }
   ],
   "source": [
    "X_copy.columns"
   ]
  },
  {
   "cell_type": "code",
   "execution_count": 183,
   "metadata": {},
   "outputs": [
    {
     "data": {
      "text/html": [
       "<div>\n",
       "<style scoped>\n",
       "    .dataframe tbody tr th:only-of-type {\n",
       "        vertical-align: middle;\n",
       "    }\n",
       "\n",
       "    .dataframe tbody tr th {\n",
       "        vertical-align: top;\n",
       "    }\n",
       "\n",
       "    .dataframe thead th {\n",
       "        text-align: right;\n",
       "    }\n",
       "</style>\n",
       "<table border=\"1\" class=\"dataframe\">\n",
       "  <thead>\n",
       "    <tr style=\"text-align: right;\">\n",
       "      <th></th>\n",
       "      <th>source</th>\n",
       "      <th>has_expanded_access</th>\n",
       "      <th>condition</th>\n",
       "      <th>enrollment</th>\n",
       "      <th>textblock</th>\n",
       "      <th>intervention_type</th>\n",
       "      <th>is_fda_regulated_drug</th>\n",
       "      <th>is_fda_regulated_device</th>\n",
       "      <th>intervention_name</th>\n",
       "      <th>gender</th>\n",
       "      <th>minimum_age</th>\n",
       "      <th>maximum_age</th>\n",
       "      <th>healthy_volunteers</th>\n",
       "      <th>country</th>\n",
       "      <th>allocation</th>\n",
       "      <th>intervention_model</th>\n",
       "      <th>primary_purpose</th>\n",
       "      <th>masking</th>\n",
       "      <th>PMID_tokens</th>\n",
       "      <th>num_of_papers</th>\n",
       "    </tr>\n",
       "  </thead>\n",
       "  <tbody>\n",
       "    <tr>\n",
       "      <th>nct00000113</th>\n",
       "      <td>stony brook university</td>\n",
       "      <td>No</td>\n",
       "      <td>myopia</td>\n",
       "      <td>470</td>\n",
       "      <td>evaluate whether progressive</td>\n",
       "      <td></td>\n",
       "      <td>NaN</td>\n",
       "      <td>NaN</td>\n",
       "      <td>progressive addition lenses</td>\n",
       "      <td>All</td>\n",
       "      <td>6.0</td>\n",
       "      <td>12.0</td>\n",
       "      <td>No</td>\n",
       "      <td>United States</td>\n",
       "      <td>Randomized</td>\n",
       "      <td>Parallel Assignment</td>\n",
       "      <td>Treatment</td>\n",
       "      <td>NaN</td>\n",
       "      <td>accomodation related risk factors</td>\n",
       "      <td>3.0</td>\n",
       "    </tr>\n",
       "  </tbody>\n",
       "</table>\n",
       "</div>"
      ],
      "text/plain": [
       "                              source  has_expanded_access  condition  \\\n",
       "nct00000113   stony brook university                   No     myopia   \n",
       "\n",
       "              enrollment                      textblock  intervention_type  \\\n",
       "nct00000113          470   evaluate whether progressive                      \n",
       "\n",
       "             is_fda_regulated_drug  is_fda_regulated_device  \\\n",
       "nct00000113                    NaN                      NaN   \n",
       "\n",
       "                        intervention_name  gender   minimum_age   maximum_age  \\\n",
       "nct00000113   progressive addition lenses     All           6.0          12.0   \n",
       "\n",
       "            healthy_volunteers         country   allocation  \\\n",
       "nct00000113                 No   United States   Randomized   \n",
       "\n",
       "               intervention_model primary_purpose  masking  \\\n",
       "nct00000113   Parallel Assignment       Treatment      NaN   \n",
       "\n",
       "                                    PMID_tokens   num_of_papers  \n",
       "nct00000113   accomodation related risk factors             3.0  "
      ]
     },
     "execution_count": 183,
     "metadata": {},
     "output_type": "execute_result"
    }
   ],
   "source": [
    "import csv\n",
    "with open('file_to_predict.txt') as f:\n",
    "    lines = f.readline()\n",
    "    #lines.replace\n",
    "#pd.DataFrame(data = lines)\n",
    "lines = lines.split(',')\n",
    "pd.read_csv('file_to_predict.txt')"
   ]
  },
  {
   "cell_type": "code",
   "execution_count": 68,
   "metadata": {},
   "outputs": [
    {
     "name": "stdout",
     "output_type": "stream",
     "text": [
      "              precision    recall  f1-score   support\n",
      "\n",
      "       False       0.88      0.88      0.88      1447\n",
      "        True       0.48      0.47      0.47       334\n",
      "\n",
      "    accuracy                           0.81      1781\n",
      "   macro avg       0.68      0.68      0.68      1781\n",
      "weighted avg       0.80      0.81      0.80      1781\n",
      "\n"
     ]
    }
   ],
   "source": [
    "y_pred = pipe.predict(X_test)\n",
    "print(classification_report(y_test, y_pred))"
   ]
  },
  {
   "cell_type": "code",
   "execution_count": 66,
   "metadata": {},
   "outputs": [
    {
     "name": "stdout",
     "output_type": "stream",
     "text": [
      "              precision    recall  f1-score   support\n",
      "\n",
      "       False       0.87      0.90      0.89      1447\n",
      "        True       0.50      0.42      0.46       334\n",
      "\n",
      "    accuracy                           0.81      1781\n",
      "   macro avg       0.69      0.66      0.67      1781\n",
      "weighted avg       0.80      0.81      0.81      1781\n",
      "\n"
     ]
    }
   ],
   "source": [
    "y_pred = pipe.predict(X_test)\n",
    "print(classification_report(y_test, y_pred))"
   ]
  },
  {
   "cell_type": "code",
   "execution_count": 205,
   "metadata": {},
   "outputs": [],
   "source": [
    "from sklearn.ensemble import BaggingClassifier\n",
    "from sklearn.linear_model import RidgeClassifier\n",
    "from sklearn.naive_bayes import CategoricalNB\n",
    "\n",
    "\n",
    "def run_base_models():\n",
    "    knn = KNeighborsClassifier()\n",
    "    logreg = LogisticRegression()\n",
    "    ada = AdaBoostClassifier()\n",
    "    rf = RandomForestClassifier()\n",
    "    svm = SVC()\n",
    "    ridge = RidgeClassifier()\n",
    "    #nb = CategoricalNB()\n",
    "    \n",
    "    models = [knn, logreg, ada, rf, svm, ridge]\n",
    "    scores = []\n",
    "    y_preds = []\n",
    "    knn_params = {}\n",
    "    preprocessor = ColumnTransformer(transformers = [('num', num_pipe, num_cols),\n",
    "                                                 ('cat', cat_pipe, cat_cols)], \n",
    "                                 n_jobs=-1,\n",
    "                                 remainder='passthrough')\n",
    "    for model in models:\n",
    "        \n",
    "        pipe = imbPipe(steps = [('preprocessor', preprocessor),\n",
    "                        ('poly', PolynomialFeatures()),\n",
    "                        ('model', model)],\n",
    "               verbose = True)\n",
    "        pipe.fit(X_train, y_train)\n",
    "        score = pipe.score(X_test, y_test)\n",
    "        y_pred = pipe.predict(X_test)\n",
    "        y_preds.append(y_pred)\n",
    "        scores.append(score)\n",
    "    return [models, scores]\n",
    "m = run_models()"
   ]
  },
  {
   "cell_type": "code",
   "execution_count": 212,
   "metadata": {},
   "outputs": [
    {
     "data": {
      "text/plain": [
       "[[KNeighborsClassifier(),\n",
       "  LogisticRegression(),\n",
       "  AdaBoostClassifier(),\n",
       "  RandomForestClassifier(),\n",
       "  SVC(),\n",
       "  RidgeClassifier()],\n",
       " [0.7400336889387984,\n",
       "  0.7916900617630545,\n",
       "  0.8135878719820325,\n",
       "  0.8130263896687254,\n",
       "  0.8158338012352611,\n",
       "  0.7770915216170691]]"
      ]
     },
     "execution_count": 212,
     "metadata": {},
     "output_type": "execute_result"
    }
   ],
   "source": [
    "m"
   ]
  },
  {
   "cell_type": "code",
   "execution_count": 207,
   "metadata": {},
   "outputs": [
    {
     "name": "stdout",
     "output_type": "stream",
     "text": [
      "[Pipeline] ...... (step 1 of 3) Processing preprocessor, total=   0.1s\n",
      "[Pipeline] .............. (step 2 of 3) Processing poly, total=   0.0s\n",
      "[Pipeline] ............. (step 3 of 3) Processing model, total=   0.0s\n",
      "[Pipeline] ...... (step 1 of 3) Processing preprocessor, total=   0.1s\n",
      "[Pipeline] .............. (step 2 of 3) Processing poly, total=   0.0s\n"
     ]
    },
    {
     "name": "stderr",
     "output_type": "stream",
     "text": [
      "C:\\Users\\Public\\Anaconda3\\lib\\site-packages\\sklearn\\linear_model\\_logistic.py:764: ConvergenceWarning: lbfgs failed to converge (status=1):\n",
      "STOP: TOTAL NO. of ITERATIONS REACHED LIMIT.\n",
      "\n",
      "Increase the number of iterations (max_iter) or scale the data as shown in:\n",
      "    https://scikit-learn.org/stable/modules/preprocessing.html\n",
      "Please also refer to the documentation for alternative solver options:\n",
      "    https://scikit-learn.org/stable/modules/linear_model.html#logistic-regression\n",
      "  extra_warning_msg=_LOGISTIC_SOLVER_CONVERGENCE_MSG)\n"
     ]
    },
    {
     "name": "stdout",
     "output_type": "stream",
     "text": [
      "[Pipeline] ............. (step 3 of 3) Processing model, total=   0.7s\n",
      "[Pipeline] ...... (step 1 of 3) Processing preprocessor, total=   0.1s\n",
      "[Pipeline] .............. (step 2 of 3) Processing poly, total=   0.0s\n",
      "[Pipeline] ............. (step 3 of 3) Processing model, total=   3.8s\n",
      "[Pipeline] ...... (step 1 of 3) Processing preprocessor, total=   0.1s\n",
      "[Pipeline] .............. (step 2 of 3) Processing poly, total=   0.0s\n",
      "[Pipeline] ............. (step 3 of 3) Processing model, total=   3.3s\n",
      "[Pipeline] ...... (step 1 of 3) Processing preprocessor, total=   0.1s\n",
      "[Pipeline] .............. (step 2 of 3) Processing poly, total=   0.0s\n",
      "[Pipeline] ............. (step 3 of 3) Processing model, total=   6.8s\n",
      "[Pipeline] ...... (step 1 of 3) Processing preprocessor, total=   0.1s\n",
      "[Pipeline] .............. (step 2 of 3) Processing poly, total=   0.0s\n",
      "[Pipeline] ............. (step 3 of 3) Processing model, total=   0.8s\n"
     ]
    }
   ],
   "source": [
    "m = run_base_models()"
   ]
  },
  {
   "cell_type": "code",
   "execution_count": 138,
   "metadata": {},
   "outputs": [
    {
     "data": {
      "text/plain": [
       "8894"
      ]
     },
     "execution_count": 138,
     "metadata": {},
     "output_type": "execute_result"
    }
   ],
   "source": [
    "gc.collect()"
   ]
  },
  {
   "cell_type": "code",
   "execution_count": 47,
   "metadata": {},
   "outputs": [
    {
     "name": "stdout",
     "output_type": "stream",
     "text": [
      "[Pipeline] ...... (step 1 of 3) Processing preprocessor, total=  25.2s\n",
      "[Pipeline] .............. (step 2 of 3) Processing bal2, total=   0.9s\n",
      "[Pipeline] ............. (step 3 of 3) Processing model, total=   0.0s\n",
      "[Pipeline] ...... (step 1 of 3) Processing preprocessor, total=  25.7s\n",
      "[Pipeline] .............. (step 2 of 3) Processing bal2, total=   0.9s\n",
      "[Pipeline] ............. (step 3 of 3) Processing model, total=  21.5s\n",
      "[Pipeline] ...... (step 1 of 3) Processing preprocessor, total=  25.7s\n",
      "[Pipeline] .............. (step 2 of 3) Processing bal2, total=   0.9s\n",
      "[Pipeline] ............. (step 3 of 3) Processing model, total= 1.1min\n",
      "[Pipeline] ...... (step 1 of 3) Processing preprocessor, total=  25.4s\n",
      "[Pipeline] .............. (step 2 of 3) Processing bal2, total=   0.8s\n",
      "[Pipeline] ............. (step 3 of 3) Processing model, total=   6.2s\n",
      "[Pipeline] ...... (step 1 of 3) Processing preprocessor, total=  25.3s\n",
      "[Pipeline] .............. (step 2 of 3) Processing bal2, total=   1.0s\n",
      "[Pipeline] ............. (step 3 of 3) Processing model, total= 2.6min\n",
      "[Pipeline] ...... (step 1 of 3) Processing preprocessor, total=  25.9s\n",
      "[Pipeline] .............. (step 2 of 3) Processing bal2, total=   0.8s\n",
      "[Pipeline] ............. (step 3 of 3) Processing model, total=   5.7s\n"
     ]
    }
   ],
   "source": [
    "from sklearn.linear_model import LogisticRegression, RidgeClassifier\n",
    "from sklearn.neighbors import KNeighborsClassifier\n",
    "from sklearn.ensemble import RandomForestClassifier, AdaBoostClassifier\n",
    "from sklearn.svm import SVC\n",
    "from sklearn.tree import DecisionTreeClassifier, ExtraTreeClassifier\n",
    "from sklearn.neural_network import MLPClassifier\n",
    "\n",
    "\n",
    "def run_base_models():\n",
    "    knn = KNeighborsClassifier()\n",
    "    logreg = LogisticRegression(solver = 'newton-cg')\n",
    "    ada = AdaBoostClassifier()\n",
    "    rf = RandomForestClassifier(n_estimators=50)\n",
    "    svm = SVC()\n",
    "    ridge = RidgeClassifier()\n",
    "    \n",
    "    #nb = CategoricalNB()\n",
    "    \n",
    "    models = [knn, logreg, ada, rf, svm, ridge]\n",
    "    scores = []\n",
    "    y_preds = []\n",
    "    word_pipe = Pipeline([('vectorizer', TfidfVectorizer(ngram_range= (1,1)))])\n",
    "    preprocessor = ColumnTransformer(transformers = [('num', num_pipe, num_cols),\n",
    "                                                 ('pmid_tfidf', word_pipe, 'PMID_tokens'),\n",
    "                                                 ('text_tfidf', word_pipe, 'textblock'),\n",
    "                                                 ('condition_tfidf', word_pipe, 'condition'),\n",
    "                                                 ('source_tfidf', word_pipe, 'source'),\n",
    "                                                 ('intervention_name_tfidf', word_pipe, 'intervention_name'),\n",
    "                                                 ('intervention_type_tfidf', word_pipe, 'intervention_type'),\n",
    "                                                 ('cat', cat_pipe, cat_cols),\n",
    "                                                 #('poly', poly_pipe, inter)\n",
    "                                                \n",
    "                                                 ], n_jobs=-1)\n",
    "\n",
    "    for model in models:                    \n",
    "            pipe = imbPipe(steps = [('preprocessor', preprocessor),\n",
    "                         #('bal', RandomUnderSampler(sampling_strategy = 0.2)),\n",
    "                        ('bal2', SMOTE(sampling_strategy= 0.3)),\n",
    "                         ('model', model)],\n",
    "                           verbose = True)\n",
    "\n",
    "            pipe.fit(X_train, y_train)\n",
    "            pipe.predict(X_test)\n",
    "            score = pipe.score(X_test, y_test)\n",
    "            scores.append(score)\n",
    "            y_pred = pipe.predict(X_test)\n",
    "            y_preds.append(y_pred)\n",
    "    return [models, scores, y_preds]\n",
    "m = run_base_models()"
   ]
  },
  {
   "cell_type": "code",
   "execution_count": 215,
   "metadata": {},
   "outputs": [
    {
     "data": {
      "text/plain": [
       "[[KNeighborsClassifier(),\n",
       "  LogisticRegression(),\n",
       "  AdaBoostClassifier(),\n",
       "  RandomForestClassifier(),\n",
       "  SVC(),\n",
       "  RidgeClassifier()],\n",
       " [0.8107804604154969,\n",
       "  0.8349241998877035,\n",
       "  0.7978663672094329,\n",
       "  0.8265019651880966,\n",
       "  0.8147108366086468,\n",
       "  0.8338012352610893]]"
      ]
     },
     "execution_count": 215,
     "metadata": {},
     "output_type": "execute_result"
    }
   ],
   "source": [
    "m"
   ]
  },
  {
   "cell_type": "code",
   "execution_count": 67,
   "metadata": {},
   "outputs": [
    {
     "data": {
      "text/plain": [
       "[array([False,  True, False, ..., False, False, False]),\n",
       " array([False, False, False, ..., False, False, False]),\n",
       " array([False,  True, False, ..., False, False, False]),\n",
       " array([False, False, False, ..., False, False, False]),\n",
       " array([False, False, False, ..., False, False, False]),\n",
       " array([False, False, False, ..., False, False, False])]"
      ]
     },
     "execution_count": 67,
     "metadata": {},
     "output_type": "execute_result"
    }
   ],
   "source": [
    "from sklearn.metrics import accuracy_score, auc, f1_score, recall_score, precision_score\n",
    "from sklearn.metrics import \n",
    "\n",
    "m[2]"
   ]
  },
  {
   "cell_type": "code",
   "execution_count": 83,
   "metadata": {},
   "outputs": [
    {
     "data": {
      "text/html": [
       "<div>\n",
       "<style scoped>\n",
       "    .dataframe tbody tr th:only-of-type {\n",
       "        vertical-align: middle;\n",
       "    }\n",
       "\n",
       "    .dataframe tbody tr th {\n",
       "        vertical-align: top;\n",
       "    }\n",
       "\n",
       "    .dataframe thead th {\n",
       "        text-align: right;\n",
       "    }\n",
       "</style>\n",
       "<table border=\"1\" class=\"dataframe\">\n",
       "  <thead>\n",
       "    <tr style=\"text-align: right;\">\n",
       "      <th></th>\n",
       "      <th>accuracy</th>\n",
       "      <th>auc</th>\n",
       "      <th>f1_scores</th>\n",
       "      <th>recall_score</th>\n",
       "      <th>precision score</th>\n",
       "    </tr>\n",
       "  </thead>\n",
       "  <tbody>\n",
       "    <tr>\n",
       "      <th>0</th>\n",
       "      <td>0.623245</td>\n",
       "      <td>217.5</td>\n",
       "      <td>0.424034</td>\n",
       "      <td>0.739521</td>\n",
       "      <td>0.297232</td>\n",
       "    </tr>\n",
       "    <tr>\n",
       "      <th>1</th>\n",
       "      <td>0.840539</td>\n",
       "      <td>99.0</td>\n",
       "      <td>0.447471</td>\n",
       "      <td>0.344311</td>\n",
       "      <td>0.638889</td>\n",
       "    </tr>\n",
       "    <tr>\n",
       "      <th>2</th>\n",
       "      <td>0.798989</td>\n",
       "      <td>112.5</td>\n",
       "      <td>0.393220</td>\n",
       "      <td>0.347305</td>\n",
       "      <td>0.453125</td>\n",
       "    </tr>\n",
       "    <tr>\n",
       "      <th>3</th>\n",
       "      <td>0.821449</td>\n",
       "      <td>18.0</td>\n",
       "      <td>0.126374</td>\n",
       "      <td>0.068862</td>\n",
       "      <td>0.766667</td>\n",
       "    </tr>\n",
       "    <tr>\n",
       "      <th>4</th>\n",
       "      <td>0.828748</td>\n",
       "      <td>33.5</td>\n",
       "      <td>0.215938</td>\n",
       "      <td>0.125749</td>\n",
       "      <td>0.763636</td>\n",
       "    </tr>\n",
       "    <tr>\n",
       "      <th>5</th>\n",
       "      <td>0.834924</td>\n",
       "      <td>107.5</td>\n",
       "      <td>0.453532</td>\n",
       "      <td>0.365269</td>\n",
       "      <td>0.598039</td>\n",
       "    </tr>\n",
       "  </tbody>\n",
       "</table>\n",
       "</div>"
      ],
      "text/plain": [
       "   accuracy    auc  f1_scores  recall_score  precision score\n",
       "0  0.623245  217.5   0.424034      0.739521         0.297232\n",
       "1  0.840539   99.0   0.447471      0.344311         0.638889\n",
       "2  0.798989  112.5   0.393220      0.347305         0.453125\n",
       "3  0.821449   18.0   0.126374      0.068862         0.766667\n",
       "4  0.828748   33.5   0.215938      0.125749         0.763636\n",
       "5  0.834924  107.5   0.453532      0.365269         0.598039"
      ]
     },
     "execution_count": 83,
     "metadata": {},
     "output_type": "execute_result"
    }
   ],
   "source": [
    "def get_metrics(y_preds, y_test):\n",
    "    accuracy_scores = [accuracy_score(y_test, y_pred) for y_pred in y_preds]\n",
    "    aucs = [auc(y_test, y_pred) for y_pred in y_preds]\n",
    "    f1_scores = [f1_score(y_test, y_pred) for y_pred in y_preds]\n",
    "    recall_scores = [recall_score(y_test, y_pred) for y_pred in y_preds]\n",
    "    precision_scores = [precision_score(y_test, y_pred) for y_pred in y_preds]\n",
    "    \n",
    "    return accuracy_scores, aucs, f1_scores, recall_scores, precision_scores\n",
    "\n",
    "metrics = np.array(get_metrics(m[2], y_test)).transpose()\n",
    "\n",
    "#np.A\n",
    "  \n",
    "metrics_df = pd.DataFrame(metrics)\n",
    "\n",
    "metrics_df.columns = ['accuracy', 'auc', 'f1_scores', 'recall_score', 'precision score']\n",
    "\n",
    "metrics_df"
   ]
  },
  {
   "cell_type": "code",
   "execution_count": 91,
   "metadata": {},
   "outputs": [
    {
     "name": "stdout",
     "output_type": "stream",
     "text": [
      "              precision    recall  f1-score   support\n",
      "\n",
      "       False       0.91      0.60      0.72      1447\n",
      "        True       0.30      0.74      0.42       334\n",
      "\n",
      "    accuracy                           0.62      1781\n",
      "   macro avg       0.60      0.67      0.57      1781\n",
      "weighted avg       0.79      0.62      0.66      1781\n",
      "\n"
     ]
    }
   ],
   "source": [
    "print(classification_report(y_test, m[2][0]))"
   ]
  },
  {
   "cell_type": "code",
   "execution_count": 90,
   "metadata": {},
   "outputs": [
    {
     "name": "stdout",
     "output_type": "stream",
     "text": [
      "              precision    recall  f1-score   support\n",
      "\n",
      "       False       0.86      0.96      0.91      1447\n",
      "        True       0.64      0.34      0.45       334\n",
      "\n",
      "    accuracy                           0.84      1781\n",
      "   macro avg       0.75      0.65      0.68      1781\n",
      "weighted avg       0.82      0.84      0.82      1781\n",
      "\n"
     ]
    }
   ],
   "source": [
    "print(classification_report(y_test, m[2][1]))"
   ]
  },
  {
   "cell_type": "code",
   "execution_count": 92,
   "metadata": {},
   "outputs": [
    {
     "name": "stdout",
     "output_type": "stream",
     "text": [
      "              precision    recall  f1-score   support\n",
      "\n",
      "       False       0.86      0.90      0.88      1447\n",
      "        True       0.45      0.35      0.39       334\n",
      "\n",
      "    accuracy                           0.80      1781\n",
      "   macro avg       0.66      0.63      0.64      1781\n",
      "weighted avg       0.78      0.80      0.79      1781\n",
      "\n"
     ]
    }
   ],
   "source": [
    "print(classification_report(y_test, m[2][2]))"
   ]
  },
  {
   "cell_type": "code",
   "execution_count": 93,
   "metadata": {},
   "outputs": [
    {
     "name": "stdout",
     "output_type": "stream",
     "text": [
      "              precision    recall  f1-score   support\n",
      "\n",
      "       False       0.82      1.00      0.90      1447\n",
      "        True       0.77      0.07      0.13       334\n",
      "\n",
      "    accuracy                           0.82      1781\n",
      "   macro avg       0.79      0.53      0.51      1781\n",
      "weighted avg       0.81      0.82      0.76      1781\n",
      "\n"
     ]
    }
   ],
   "source": [
    "print(classification_report(y_test, m[2][3]))"
   ]
  },
  {
   "cell_type": "code",
   "execution_count": 94,
   "metadata": {},
   "outputs": [
    {
     "name": "stdout",
     "output_type": "stream",
     "text": [
      "              precision    recall  f1-score   support\n",
      "\n",
      "       False       0.83      0.99      0.90      1447\n",
      "        True       0.76      0.13      0.22       334\n",
      "\n",
      "    accuracy                           0.83      1781\n",
      "   macro avg       0.80      0.56      0.56      1781\n",
      "weighted avg       0.82      0.83      0.77      1781\n",
      "\n"
     ]
    }
   ],
   "source": [
    "print(classification_report(y_test, m[2][4]))"
   ]
  },
  {
   "cell_type": "code",
   "execution_count": 95,
   "metadata": {},
   "outputs": [
    {
     "name": "stdout",
     "output_type": "stream",
     "text": [
      "              precision    recall  f1-score   support\n",
      "\n",
      "       False       0.87      0.94      0.90      1447\n",
      "        True       0.60      0.37      0.45       334\n",
      "\n",
      "    accuracy                           0.83      1781\n",
      "   macro avg       0.73      0.65      0.68      1781\n",
      "weighted avg       0.82      0.83      0.82      1781\n",
      "\n"
     ]
    }
   ],
   "source": [
    "print(classification_report(y_test, m[2][5]))"
   ]
  },
  {
   "cell_type": "code",
   "execution_count": 96,
   "metadata": {},
   "outputs": [
    {
     "name": "stdout",
     "output_type": "stream",
     "text": [
      "              precision    recall  f1-score   support\n",
      "\n",
      "       False       0.91      0.60      0.72      1447\n",
      "        True       0.30      0.74      0.42       334\n",
      "\n",
      "    accuracy                           0.62      1781\n",
      "   macro avg       0.60      0.67      0.57      1781\n",
      "weighted avg       0.79      0.62      0.66      1781\n",
      "\n"
     ]
    }
   ],
   "source": [
    "print(classification_report(y_test, m[2][0]))"
   ]
  },
  {
   "cell_type": "code",
   "execution_count": 124,
   "metadata": {},
   "outputs": [
    {
     "ename": "TypeError",
     "evalue": "plot_confusion_matrix() missing 2 required positional arguments: 'X' and 'y_true'",
     "output_type": "error",
     "traceback": [
      "\u001b[1;31m---------------------------------------------------------------------------\u001b[0m",
      "\u001b[1;31mTypeError\u001b[0m                                 Traceback (most recent call last)",
      "\u001b[1;32m<ipython-input-124-d473bf681ba4>\u001b[0m in \u001b[0;36m<module>\u001b[1;34m\u001b[0m\n\u001b[0;32m      3\u001b[0m \u001b[0mcm\u001b[0m \u001b[1;33m=\u001b[0m \u001b[0mconfusion_matrix\u001b[0m\u001b[1;33m(\u001b[0m\u001b[0my_test\u001b[0m\u001b[1;33m,\u001b[0m \u001b[0mm\u001b[0m\u001b[1;33m[\u001b[0m\u001b[1;36m2\u001b[0m\u001b[1;33m]\u001b[0m\u001b[1;33m[\u001b[0m\u001b[1;36m4\u001b[0m\u001b[1;33m]\u001b[0m\u001b[1;33m)\u001b[0m\u001b[1;33m\u001b[0m\u001b[1;33m\u001b[0m\u001b[0m\n\u001b[0;32m      4\u001b[0m \u001b[1;33m\u001b[0m\u001b[0m\n\u001b[1;32m----> 5\u001b[1;33m \u001b[0mplot_confusion_matrix\u001b[0m\u001b[1;33m(\u001b[0m\u001b[0mcm\u001b[0m\u001b[1;33m)\u001b[0m\u001b[1;33m\u001b[0m\u001b[1;33m\u001b[0m\u001b[0m\n\u001b[0m",
      "\u001b[1;32mC:\\Users\\Public\\Anaconda3\\lib\\site-packages\\sklearn\\utils\\validation.py\u001b[0m in \u001b[0;36minner_f\u001b[1;34m(*args, **kwargs)\u001b[0m\n\u001b[0;32m     71\u001b[0m                           FutureWarning)\n\u001b[0;32m     72\u001b[0m         \u001b[0mkwargs\u001b[0m\u001b[1;33m.\u001b[0m\u001b[0mupdate\u001b[0m\u001b[1;33m(\u001b[0m\u001b[1;33m{\u001b[0m\u001b[0mk\u001b[0m\u001b[1;33m:\u001b[0m \u001b[0marg\u001b[0m \u001b[1;32mfor\u001b[0m \u001b[0mk\u001b[0m\u001b[1;33m,\u001b[0m \u001b[0marg\u001b[0m \u001b[1;32min\u001b[0m \u001b[0mzip\u001b[0m\u001b[1;33m(\u001b[0m\u001b[0msig\u001b[0m\u001b[1;33m.\u001b[0m\u001b[0mparameters\u001b[0m\u001b[1;33m,\u001b[0m \u001b[0margs\u001b[0m\u001b[1;33m)\u001b[0m\u001b[1;33m}\u001b[0m\u001b[1;33m)\u001b[0m\u001b[1;33m\u001b[0m\u001b[1;33m\u001b[0m\u001b[0m\n\u001b[1;32m---> 73\u001b[1;33m         \u001b[1;32mreturn\u001b[0m \u001b[0mf\u001b[0m\u001b[1;33m(\u001b[0m\u001b[1;33m**\u001b[0m\u001b[0mkwargs\u001b[0m\u001b[1;33m)\u001b[0m\u001b[1;33m\u001b[0m\u001b[1;33m\u001b[0m\u001b[0m\n\u001b[0m\u001b[0;32m     74\u001b[0m     \u001b[1;32mreturn\u001b[0m \u001b[0minner_f\u001b[0m\u001b[1;33m\u001b[0m\u001b[1;33m\u001b[0m\u001b[0m\n\u001b[0;32m     75\u001b[0m \u001b[1;33m\u001b[0m\u001b[0m\n",
      "\u001b[1;31mTypeError\u001b[0m: plot_confusion_matrix() missing 2 required positional arguments: 'X' and 'y_true'"
     ]
    }
   ],
   "source": [
    "from sklearn.metrics import confusion_matrix, plot_confusion_matrix\n",
    "import itertools\n",
    "cm = confusion_matrix(y_test, m[2][4])\n",
    "\n",
    "plot_confusion_matrix(pipe, X_)\n"
   ]
  },
  {
   "cell_type": "code",
   "execution_count": 125,
   "metadata": {},
   "outputs": [
    {
     "data": {
      "text/plain": [
       "False    1447\n",
       "True      334\n",
       "Name: success, dtype: int64"
      ]
     },
     "execution_count": 125,
     "metadata": {},
     "output_type": "execute_result"
    }
   ],
   "source": [
    "y_test.value_counts()"
   ]
  },
  {
   "cell_type": "code",
   "execution_count": null,
   "metadata": {},
   "outputs": [],
   "source": [
    "print(classification_report(m))"
   ]
  },
  {
   "cell_type": "code",
   "execution_count": 126,
   "metadata": {},
   "outputs": [
    {
     "name": "stdout",
     "output_type": "stream",
     "text": [
      "Confusion matrix, without normalization\n",
      "[[1434   13]\n",
      " [ 292   42]]\n"
     ]
    },
    {
     "data": {
      "image/png": "[encoded data removed]",
      "text/plain": [
       "<Figure size 576x432 with 2 Axes>"
      ]
     },
     "metadata": {},
     "output_type": "display_data"
    }
   ],
   "source": [
    "m[2][4]\n",
    "\n",
    "def plot_confusion_matrix(cm, classes,\n",
    "                        normalize=False,\n",
    "                        title='Confusion matrix',\n",
    "                        cmap=plt.cm.Blues):\n",
    "    \"\"\"\n",
    "    This function prints and plots the confusion matrix.\n",
    "    Normalization can be applied by setting `normalize=True`.\n",
    "    \"\"\"\n",
    "    plt.imshow(cm, interpolation='nearest', cmap=cmap)\n",
    "    plt.title(title, fontdict={'fontsize': 18})\n",
    "    sns.set_style( 'whitegrid',{'axes.grid' : False})\n",
    "    tick_marks = np.arange(len(classes))\n",
    "    plt.xticks(tick_marks, labels = classes, rotation=45)\n",
    "    plt.yticks(tick_marks, classes)\n",
    "\n",
    "    if normalize:\n",
    "        cm = cm.astype('float') / cm.sum(axis=1)[:, np.newaxis]\n",
    "        print(\"Normalized confusion matrix\")\n",
    "    else:\n",
    "        print('Confusion matrix, without normalization')\n",
    "\n",
    "    print(cm)\n",
    "\n",
    "    thresh = cm.max() / 2.\n",
    "    for i, j in itertools.product(range(cm.shape[0]), range(cm.shape[1])):\n",
    "        plt.text(j, i, cm[i, j],\n",
    "            horizontalalignment=\"center\",\n",
    "            color=\"white\" if cm[i, j] > thresh else \"black\")\n",
    "    plt.ylim([1.5,-.5])\n",
    "    plt.colorbar()\n",
    "    plt.tight_layout()\n",
    "    plt.ylabel('True')\n",
    "    plt.xlabel('Predicted')\n",
    "    plt.grid('off')\n",
    "    plt.show()\n",
    "plt.figure(figsize = (8,6))\n",
    "plot_confusion_matrix(cm, classes = ['Fail', 'Success'])\n"
   ]
  },
  {
   "cell_type": "code",
   "execution_count": 127,
   "metadata": {},
   "outputs": [
    {
     "name": "stdout",
     "output_type": "stream",
     "text": [
      "Normalized confusion matrix\n",
      "[[0.99101589 0.00898411]\n",
      " [0.8742515  0.1257485 ]]\n"
     ]
    },
    {
     "data": {
      "image/png": "[encoded data removed]",
      "text/plain": [
       "<Figure size 432x288 with 2 Axes>"
      ]
     },
     "metadata": {},
     "output_type": "display_data"
    }
   ],
   "source": [
    "plot_confusion_matrix(cm,normalize = True, classes = ['Fail', 'Success'])"
   ]
  },
  {
   "cell_type": "code",
   "execution_count": null,
   "metadata": {},
   "outputs": [],
   "source": []
  },
  {
   "cell_type": "code",
   "execution_count": 104,
   "metadata": {},
   "outputs": [
    {
     "name": "stdout",
     "output_type": "stream",
     "text": [
      "[Pipeline] ..... (step 1 of 3) Processing preprocessor, total=296.0min\n",
      "[Pipeline] .............. (step 2 of 3) Processing bal2, total=   1.3s\n",
      "[Pipeline] ............. (step 3 of 3) Processing model, total=  10.3s\n",
      "Best: 0.816363 using {'model__alpha': 0.9}\n",
      "0.810367 (0.017409) with: {'model__alpha': 0.1}\n",
      "0.811474 (0.017883) with: {'model__alpha': 0.2}\n",
      "0.812027 (0.018071) with: {'model__alpha': 0.3}\n",
      "0.812766 (0.017846) with: {'model__alpha': 0.4}\n",
      "0.813688 (0.017870) with: {'model__alpha': 0.5}\n",
      "0.814425 (0.018641) with: {'model__alpha': 0.6}\n",
      "0.814335 (0.018202) with: {'model__alpha': 0.7}\n",
      "0.815533 (0.018897) with: {'model__alpha': 0.8}\n",
      "0.816363 (0.018171) with: {'model__alpha': 0.9}\n",
      "0.816179 (0.018318) with: {'model__alpha': 1.0}\n"
     ]
    }
   ],
   "source": [
    "from sklearn.model_selection import RepeatedStratifiedKFold\n",
    "# define models and parameters\n",
    "model = RidgeClassifier()\n",
    "alpha = [0.1, 0.2, 0.3, 0.4, 0.5, 0.6, 0.7, 0.8, 0.9, 1.0]\n",
    "# define grid search\n",
    "grid = {'model__alpha':alpha}\n",
    "cv = RepeatedStratifiedKFold(n_splits=10, n_repeats=3, random_state=1)\n",
    "grid_search = GridSearchCV(estimator=pipe, param_grid=grid, n_jobs=-1, cv=cv, scoring='accuracy',error_score=0)\n",
    "grid_result = grid_search.fit(X_train, y_train)\n",
    "# summarize results\n",
    "print(\"Best: %f using %s\" % (grid_result.best_score_, grid_result.best_params_))\n",
    "means = grid_result.cv_results_['mean_test_score']\n",
    "stds = grid_result.cv_results_['std_test_score']\n",
    "params = grid_result.cv_results_['params']\n",
    "for mean, stdev, param in zip(means, stds, params):\n",
    "    print(\"%f (%f) with: %r\" % (mean, stdev, param))"
   ]
  },
  {
   "cell_type": "code",
   "execution_count": 107,
   "metadata": {},
   "outputs": [
    {
     "data": {
      "text/plain": [
       "{'mean_fit_time': array([  89.29167231,   76.63596298,   72.30785348,   66.62470171,\n",
       "          65.51719398,   63.3219614 ,   68.34306556,   67.94400611,\n",
       "          72.54024591, 1147.64549252]),\n",
       " 'std_fit_time': array([6.64264950e+00, 3.94361421e+00, 3.57428012e+00, 2.51164167e+00,\n",
       "        2.14901634e+00, 2.55033018e+00, 8.52220742e+00, 2.51004073e+00,\n",
       "        3.39069149e+00, 3.23683890e+03]),\n",
       " 'mean_score_time': array([5.83218077, 5.60043542, 5.60391103, 5.31376548, 5.35496079,\n",
       "        5.34178651, 5.69675825, 5.98505461, 6.2658687 , 5.75945344]),\n",
       " 'std_score_time': array([0.6912041 , 0.54745043, 0.57481246, 0.43545885, 0.58029953,\n",
       "        0.59411553, 0.73008918, 0.66579419, 0.59845144, 0.72189419]),\n",
       " 'param_model__alpha': masked_array(data=[0.1, 0.2, 0.3, 0.4, 0.5, 0.6, 0.7, 0.8, 0.9, 1.0],\n",
       "              mask=[False, False, False, False, False, False, False, False,\n",
       "                    False, False],\n",
       "        fill_value='?',\n",
       "             dtype=object),\n",
       " 'params': [{'model__alpha': 0.1},\n",
       "  {'model__alpha': 0.2},\n",
       "  {'model__alpha': 0.3},\n",
       "  {'model__alpha': 0.4},\n",
       "  {'model__alpha': 0.5},\n",
       "  {'model__alpha': 0.6},\n",
       "  {'model__alpha': 0.7},\n",
       "  {'model__alpha': 0.8},\n",
       "  {'model__alpha': 0.9},\n",
       "  {'model__alpha': 1.0}],\n",
       " 'split0_test_score': array([0.83425414, 0.83425414, 0.84254144, 0.83977901, 0.83977901,\n",
       "        0.83977901, 0.83977901, 0.84530387, 0.8480663 , 0.8480663 ]),\n",
       " 'split1_test_score': array([0.79281768, 0.79005525, 0.79005525, 0.79005525, 0.79005525,\n",
       "        0.79834254, 0.79558011, 0.79834254, 0.80110497, 0.8038674 ]),\n",
       " 'split2_test_score': array([0.81491713, 0.81767956, 0.81767956, 0.81767956, 0.81767956,\n",
       "        0.81767956, 0.81767956, 0.82320442, 0.81767956, 0.82044199]),\n",
       " 'split3_test_score': array([0.7679558 , 0.76519337, 0.7679558 , 0.77348066, 0.77071823,\n",
       "        0.7679558 , 0.77071823, 0.77348066, 0.77348066, 0.77348066]),\n",
       " 'split4_test_score': array([0.76454294, 0.76731302, 0.77285319, 0.77285319, 0.77285319,\n",
       "        0.77562327, 0.77285319, 0.77562327, 0.78116343, 0.77839335]),\n",
       " 'split5_test_score': array([0.81440443, 0.81440443, 0.81717452, 0.81717452, 0.8199446 ,\n",
       "        0.82271468, 0.82825485, 0.82548476, 0.82825485, 0.82825485]),\n",
       " 'split6_test_score': array([0.82271468, 0.82271468, 0.82825485, 0.83102493, 0.82825485,\n",
       "        0.83102493, 0.83102493, 0.82825485, 0.82825485, 0.82825485]),\n",
       " 'split7_test_score': array([0.8033241 , 0.80055402, 0.81163435, 0.80886427, 0.81717452,\n",
       "        0.81717452, 0.82271468, 0.82548476, 0.8199446 , 0.8199446 ]),\n",
       " 'split8_test_score': array([0.82271468, 0.82271468, 0.8199446 , 0.81717452, 0.81717452,\n",
       "        0.8199446 , 0.82271468, 0.81717452, 0.81717452, 0.82271468]),\n",
       " 'split9_test_score': array([0.80886427, 0.81163435, 0.81163435, 0.81163435, 0.81440443,\n",
       "        0.81717452, 0.8199446 , 0.8199446 , 0.8199446 , 0.82271468]),\n",
       " 'split10_test_score': array([0.81491713, 0.82320442, 0.82320442, 0.82044199, 0.82320442,\n",
       "        0.82596685, 0.82596685, 0.82044199, 0.82044199, 0.82596685]),\n",
       " 'split11_test_score': array([0.79558011, 0.79558011, 0.80110497, 0.79834254, 0.79834254,\n",
       "        0.79281768, 0.79005525, 0.78729282, 0.79281768, 0.78453039]),\n",
       " 'split12_test_score': array([0.80662983, 0.80939227, 0.80662983, 0.81491713, 0.82044199,\n",
       "        0.82320442, 0.81767956, 0.81767956, 0.81767956, 0.81767956]),\n",
       " 'split13_test_score': array([0.8121547 , 0.8121547 , 0.8121547 , 0.8121547 , 0.81491713,\n",
       "        0.81767956, 0.80939227, 0.8121547 , 0.81491713, 0.8121547 ]),\n",
       " 'split14_test_score': array([0.81717452, 0.82271468, 0.81717452, 0.81717452, 0.82271468,\n",
       "        0.8199446 , 0.81717452, 0.81440443, 0.81717452, 0.81717452]),\n",
       " 'split15_test_score': array([0.82825485, 0.82825485, 0.83102493, 0.8365651 , 0.83933518,\n",
       "        0.84210526, 0.8365651 , 0.83933518, 0.84210526, 0.83933518]),\n",
       " 'split16_test_score': array([0.80609418, 0.81163435, 0.8033241 , 0.80609418, 0.80609418,\n",
       "        0.80055402, 0.80609418, 0.80886427, 0.80886427, 0.81717452]),\n",
       " 'split17_test_score': array([0.80609418, 0.80609418, 0.8033241 , 0.80609418, 0.81163435,\n",
       "        0.81163435, 0.81440443, 0.81440443, 0.81717452, 0.82271468]),\n",
       " 'split18_test_score': array([0.81163435, 0.80886427, 0.80886427, 0.80886427, 0.80886427,\n",
       "        0.80886427, 0.80886427, 0.80609418, 0.80609418, 0.80609418]),\n",
       " 'split19_test_score': array([0.82271468, 0.8199446 , 0.82825485, 0.82825485, 0.82548476,\n",
       "        0.82548476, 0.82271468, 0.82825485, 0.82548476, 0.82548476]),\n",
       " 'split20_test_score': array([0.81767956, 0.81767956, 0.81491713, 0.81767956, 0.81491713,\n",
       "        0.82044199, 0.81767956, 0.82044199, 0.82044199, 0.81767956]),\n",
       " 'split21_test_score': array([0.81491713, 0.8121547 , 0.80939227, 0.80662983, 0.80939227,\n",
       "        0.80939227, 0.81491713, 0.81491713, 0.81767956, 0.8121547 ]),\n",
       " 'split22_test_score': array([0.82872928, 0.83701657, 0.83425414, 0.83149171, 0.83425414,\n",
       "        0.83425414, 0.83701657, 0.83977901, 0.84530387, 0.84254144]),\n",
       " 'split23_test_score': array([0.82596685, 0.82596685, 0.82596685, 0.82596685, 0.82320442,\n",
       "        0.82596685, 0.82044199, 0.82596685, 0.82320442, 0.82320442]),\n",
       " 'split24_test_score': array([0.80055402, 0.79778393, 0.79501385, 0.79501385, 0.79501385,\n",
       "        0.79501385, 0.79501385, 0.79501385, 0.79501385, 0.79224377]),\n",
       " 'split25_test_score': array([0.82548476, 0.82548476, 0.83102493, 0.8365651 , 0.83102493,\n",
       "        0.8365651 , 0.83379501, 0.8365651 , 0.8365651 , 0.83379501]),\n",
       " 'split26_test_score': array([0.77839335, 0.78393352, 0.78116343, 0.78116343, 0.78116343,\n",
       "        0.78116343, 0.78393352, 0.78116343, 0.7867036 , 0.78393352]),\n",
       " 'split27_test_score': array([0.79224377, 0.79501385, 0.79224377, 0.79501385, 0.79778393,\n",
       "        0.79224377, 0.79501385, 0.79778393, 0.79778393, 0.8033241 ]),\n",
       " 'split28_test_score': array([0.82548476, 0.83102493, 0.83379501, 0.83379501, 0.83379501,\n",
       "        0.83379501, 0.8365651 , 0.84210526, 0.84210526, 0.8365651 ]),\n",
       " 'split29_test_score': array([0.83379501, 0.83379501, 0.82825485, 0.83102493, 0.83102493,\n",
       "        0.82825485, 0.82548476, 0.83102493, 0.82825485, 0.82548476]),\n",
       " 'mean_test_score': array([0.8103669 , 0.81147365, 0.81202716, 0.81276559, 0.81368819,\n",
       "        0.81442535, 0.81433454, 0.81553287, 0.81636262, 0.81617897]),\n",
       " 'std_test_score': array([0.01740888, 0.01788332, 0.01807052, 0.01784602, 0.01787028,\n",
       "        0.01864087, 0.01820235, 0.01889712, 0.01817141, 0.01831849]),\n",
       " 'rank_test_score': array([10,  9,  8,  7,  6,  4,  5,  3,  1,  2])}"
      ]
     },
     "execution_count": 107,
     "metadata": {},
     "output_type": "execute_result"
    }
   ],
   "source": []
  },
  {
   "cell_type": "code",
   "execution_count": 23,
   "metadata": {},
   "outputs": [
    {
     "data": {
      "text/plain": [
       "<bound method BaseEstimator.get_params of GridSearchCV(estimator=Pipeline(steps=[('preprocessor',\n",
       "                                        ColumnTransformer(transformers=[('num',\n",
       "                                                                         Pipeline(steps=[('imputer',\n",
       "                                                                                          SimpleImputer(strategy='median')),\n",
       "                                                                                         ('scaler',\n",
       "                                                                                          MinMaxScaler())]),\n",
       "                                                                         ['minimum_age',\n",
       "                                                                          'maximum_age',\n",
       "                                                                          'enrollment',\n",
       "                                                                          'Num '\n",
       "                                                                          'of '\n",
       "                                                                          'citations']),\n",
       "                                                                        ('pmid_tfidf',\n",
       "                                                                         Pipeline(steps=[('vectorizer',\n",
       "                                                                                          TfidfVectorizer(ngram_range=(1,\n",
       "                                                                                                                       2)))]),\n",
       "                                                                         'PMID_tokens'),\n",
       "                                                                        ('tex...\n",
       "                                                                                          OneHotEncoder(handle_unknown='ignore'))]),\n",
       "                                                                         ['has_expanded_access',\n",
       "                                                                          'gender',\n",
       "                                                                          'healthy_volunteers',\n",
       "                                                                          'country',\n",
       "                                                                          'allocation',\n",
       "                                                                          'intervention_model',\n",
       "                                                                          'masking',\n",
       "                                                                          'is_fda_regulated_drug',\n",
       "                                                                          'is_fda_regulated_device',\n",
       "                                                                          'primary_purpose'])])),\n",
       "                                       ('model', LogisticRegression())]),\n",
       "             n_jobs=-1,\n",
       "             param_grid={'model__C': [0.1, 1, 10],\n",
       "                         'model__penalty': ['l1', 'l2'],\n",
       "                         'model__solver': ['liblinear', 'newton-cg']},\n",
       "             verbose=3)>"
      ]
     },
     "execution_count": 23,
     "metadata": {},
     "output_type": "execute_result"
    }
   ],
   "source": [
    "grid_search.scoring"
   ]
  },
  {
   "cell_type": "code",
   "execution_count": 91,
   "metadata": {},
   "outputs": [
    {
     "name": "stdout",
     "output_type": "stream",
     "text": [
      "              precision    recall  f1-score   support\n",
      "\n",
      "       False       0.89      0.91      0.90      1447\n",
      "        True       0.56      0.51      0.53       334\n",
      "\n",
      "    accuracy                           0.83      1781\n",
      "   macro avg       0.73      0.71      0.72      1781\n",
      "weighted avg       0.83      0.83      0.83      1781\n",
      "\n"
     ]
    }
   ],
   "source": [
    "y_pred = pipe.predict(X_test)\n",
    "print(classification_report(y_test, y_pred))"
   ]
  },
  {
   "cell_type": "code",
   "execution_count": null,
   "metadata": {},
   "outputs": [],
   "source": [
    "grid_search"
   ]
  },
  {
   "cell_type": "code",
   "execution_count": 367,
   "metadata": {},
   "outputs": [
    {
     "name": "stderr",
     "output_type": "stream",
     "text": [
      "C:\\Users\\Public\\Anaconda3\\lib\\site-packages\\sklearn\\linear_model\\_logistic.py:764: ConvergenceWarning: lbfgs failed to converge (status=1):\n",
      "STOP: TOTAL NO. of ITERATIONS REACHED LIMIT.\n",
      "\n",
      "Increase the number of iterations (max_iter) or scale the data as shown in:\n",
      "    https://scikit-learn.org/stable/modules/preprocessing.html\n",
      "Please also refer to the documentation for alternative solver options:\n",
      "    https://scikit-learn.org/stable/modules/linear_model.html#logistic-regression\n",
      "  extra_warning_msg=_LOGISTIC_SOLVER_CONVERGENCE_MSG)\n"
     ]
    },
    {
     "data": {
      "text/plain": [
       "Pipeline(steps=[('preprocessor',\n",
       "                 ColumnTransformer(transformers=[('num',\n",
       "                                                  Pipeline(steps=[('imputer',\n",
       "                                                                   SimpleImputer(strategy='median')),\n",
       "                                                                  ('scaler',\n",
       "                                                                   MinMaxScaler())]),\n",
       "                                                  ['minimum_age', 'maximum_age',\n",
       "                                                   'enrollment',\n",
       "                                                   'Num of citations']),\n",
       "                                                 ('pmid_tfidf',\n",
       "                                                  Pipeline(steps=[('vectorizer',\n",
       "                                                                   TfidfVectorizer())]),\n",
       "                                                  'PMID_tokens'),\n",
       "                                                 ('text_tfidf',\n",
       "                                                  Pipeline(steps=[('vectorizer',\n",
       "                                                                   Tfidf...\n",
       "                                                 ('cat',\n",
       "                                                  Pipeline(steps=[('imputer',\n",
       "                                                                   SimpleImputer(fill_value='missing',\n",
       "                                                                                 strategy='constant')),\n",
       "                                                                  ('ohe',\n",
       "                                                                   OneHotEncoder(handle_unknown='ignore'))]),\n",
       "                                                  ['has_expanded_access',\n",
       "                                                   'gender',\n",
       "                                                   'healthy_volunteers',\n",
       "                                                   'country', 'allocation',\n",
       "                                                   'intervention_model',\n",
       "                                                   'masking',\n",
       "                                                   'is_fda_regulated_drug',\n",
       "                                                   'is_fda_regulated_device',\n",
       "                                                   'primary_purpose'])])),\n",
       "                ('model', LogisticRegression())])"
      ]
     },
     "execution_count": 367,
     "metadata": {},
     "output_type": "execute_result"
    }
   ],
   "source": [
    "pipe.fit(X_train, y_train)"
   ]
  },
  {
   "cell_type": "code",
   "execution_count": 370,
   "metadata": {},
   "outputs": [
    {
     "data": {
      "text/plain": [
       "0.8416619876473891"
      ]
     },
     "execution_count": 370,
     "metadata": {},
     "output_type": "execute_result"
    }
   ],
   "source": [
    "pipe.score(X_test, y_test)"
   ]
  },
  {
   "cell_type": "code",
   "execution_count": 371,
   "metadata": {},
   "outputs": [
    {
     "name": "stdout",
     "output_type": "stream",
     "text": [
      "              precision    recall  f1-score   support\n",
      "\n",
      "       False       0.97      0.86      0.91      1629\n",
      "        True       0.31      0.67      0.42       152\n",
      "\n",
      "    accuracy                           0.84      1781\n",
      "   macro avg       0.64      0.76      0.66      1781\n",
      "weighted avg       0.91      0.84      0.87      1781\n",
      "\n"
     ]
    }
   ],
   "source": [
    "y_pred_tf = pipe.predict(X_test)\n",
    "print(classification_report(y_pred_tf, y_test))"
   ]
  },
  {
   "cell_type": "code",
   "execution_count": 305,
   "metadata": {},
   "outputs": [
    {
     "name": "stderr",
     "output_type": "stream",
     "text": [
      "C:\\Users\\Public\\Anaconda3\\lib\\site-packages\\sklearn\\linear_model\\_logistic.py:764: ConvergenceWarning: lbfgs failed to converge (status=1):\n",
      "STOP: TOTAL NO. of ITERATIONS REACHED LIMIT.\n",
      "\n",
      "Increase the number of iterations (max_iter) or scale the data as shown in:\n",
      "    https://scikit-learn.org/stable/modules/preprocessing.html\n",
      "Please also refer to the documentation for alternative solver options:\n",
      "    https://scikit-learn.org/stable/modules/linear_model.html#logistic-regression\n",
      "  extra_warning_msg=_LOGISTIC_SOLVER_CONVERGENCE_MSG)\n"
     ]
    },
    {
     "data": {
      "text/plain": [
       "Pipeline(steps=[('preprocessor',\n",
       "                 ColumnTransformer(transformers=[('num',\n",
       "                                                  Pipeline(steps=[('imputer',\n",
       "                                                                   SimpleImputer(strategy='median')),\n",
       "                                                                  ('scaler',\n",
       "                                                                   MinMaxScaler())]),\n",
       "                                                  ['minimum_age', 'maximum_age',\n",
       "                                                   'enrollment',\n",
       "                                                   'Num of citations']),\n",
       "                                                 ('cat',\n",
       "                                                  Pipeline(steps=[('imputer',\n",
       "                                                                   SimpleImputer(fill_value='missing',\n",
       "                                                                                 strategy='constant')),\n",
       "                                                                  ('ohe',\n",
       "                                                                   OneHotEncoder(handle_unknown='ignore'))]),\n",
       "                                                  ['has_expanded_access',\n",
       "                                                   'gender',\n",
       "                                                   'healthy_volunteers',\n",
       "                                                   'country', 'allocation',\n",
       "                                                   'intervention_model',\n",
       "                                                   'masking',\n",
       "                                                   'is_fda_regulated_drug',\n",
       "                                                   'is_fda_regulated_device',\n",
       "                                                   'primary_purpose'])])),\n",
       "                ('model', LogisticRegression())])"
      ]
     },
     "execution_count": 305,
     "metadata": {},
     "output_type": "execute_result"
    }
   ],
   "source": [
    "pipe.fit(X_train, y_train)\n",
    "#X_train.info"
   ]
  },
  {
   "cell_type": "code",
   "execution_count": 489,
   "metadata": {},
   "outputs": [
    {
     "data": {
      "text/plain": [
       "<matplotlib.axes._subplots.AxesSubplot at 0x28f12da1248>"
      ]
     },
     "execution_count": 489,
     "metadata": {},
     "output_type": "execute_result"
    },
    {
     "data": {
      "image/png": "[encoded data removed]",
      "text/plain": [
       "<Figure size 432x288 with 1 Axes>"
      ]
     },
     "metadata": {
      "needs_background": "light"
     },
     "output_type": "display_data"
    }
   ],
   "source": [
    "X_train['minimum_age'].plot(kind = 'kde')"
   ]
  },
  {
   "cell_type": "markdown",
   "metadata": {},
   "source": [
    "The next step is to create several .csv files so we can run the web crawl in parallel. Depending on your hardware you can increase the amount of lists you want to create. My hardware can only handle about 15 seperate python shells running at the same time. This web scrape took about 24 hours to complete running for a total of about 30GB. "
   ]
  },
  {
   "cell_type": "code",
   "execution_count": 51,
   "metadata": {},
   "outputs": [],
   "source": [
    "pdfs = set(pdfs)"
   ]
  },
  {
   "cell_type": "code",
   "execution_count": 58,
   "metadata": {},
   "outputs": [],
   "source": [
    "pdfs = list(pdfs)"
   ]
  },
  {
   "cell_type": "code",
   "execution_count": 7,
   "metadata": {},
   "outputs": [
    {
     "ename": "KeyboardInterrupt",
     "evalue": "",
     "output_type": "error",
     "traceback": [
      "\u001b[1;31m---------------------------------------------------------------------------\u001b[0m",
      "\u001b[1;31mKeyboardInterrupt\u001b[0m                         Traceback (most recent call last)",
      "\u001b[1;32m<ipython-input-7-54ebdd2b12a8>\u001b[0m in \u001b[0;36m<module>\u001b[1;34m\u001b[0m\n\u001b[0;32m      1\u001b[0m \u001b[0mfetch_pdfs\u001b[0m \u001b[1;33m=\u001b[0m \u001b[0mos\u001b[0m\u001b[1;33m.\u001b[0m\u001b[0mlistdir\u001b[0m\u001b[1;33m(\u001b[0m\u001b[1;34m'./fetched_pdfs/'\u001b[0m\u001b[1;33m)\u001b[0m\u001b[1;33m\u001b[0m\u001b[1;33m\u001b[0m\u001b[0m\n\u001b[0;32m      2\u001b[0m \u001b[0mfetch_pdfs\u001b[0m \u001b[1;33m=\u001b[0m \u001b[0mfetch_pdfs\u001b[0m\u001b[1;33m\u001b[0m\u001b[1;33m\u001b[0m\u001b[0m\n\u001b[1;32m----> 3\u001b[1;33m \u001b[0mgood_pdfs\u001b[0m \u001b[1;33m=\u001b[0m \u001b[1;33m[\u001b[0m\u001b[0mpdf\u001b[0m \u001b[1;32mfor\u001b[0m \u001b[0mpdf\u001b[0m \u001b[1;32min\u001b[0m \u001b[0mfetch_pdfs\u001b[0m \u001b[1;32mif\u001b[0m \u001b[0misFullPdf\u001b[0m\u001b[1;33m(\u001b[0m\u001b[1;34m'./fetched_pdfs/'\u001b[0m\u001b[1;33m+\u001b[0m\u001b[0mpdf\u001b[0m\u001b[1;33m)\u001b[0m\u001b[1;33m]\u001b[0m\u001b[1;33m\u001b[0m\u001b[1;33m\u001b[0m\u001b[0m\n\u001b[0m",
      "\u001b[1;32m<ipython-input-7-54ebdd2b12a8>\u001b[0m in \u001b[0;36m<listcomp>\u001b[1;34m(.0)\u001b[0m\n\u001b[0;32m      1\u001b[0m \u001b[0mfetch_pdfs\u001b[0m \u001b[1;33m=\u001b[0m \u001b[0mos\u001b[0m\u001b[1;33m.\u001b[0m\u001b[0mlistdir\u001b[0m\u001b[1;33m(\u001b[0m\u001b[1;34m'./fetched_pdfs/'\u001b[0m\u001b[1;33m)\u001b[0m\u001b[1;33m\u001b[0m\u001b[1;33m\u001b[0m\u001b[0m\n\u001b[0;32m      2\u001b[0m \u001b[0mfetch_pdfs\u001b[0m \u001b[1;33m=\u001b[0m \u001b[0mfetch_pdfs\u001b[0m\u001b[1;33m\u001b[0m\u001b[1;33m\u001b[0m\u001b[0m\n\u001b[1;32m----> 3\u001b[1;33m \u001b[0mgood_pdfs\u001b[0m \u001b[1;33m=\u001b[0m \u001b[1;33m[\u001b[0m\u001b[0mpdf\u001b[0m \u001b[1;32mfor\u001b[0m \u001b[0mpdf\u001b[0m \u001b[1;32min\u001b[0m \u001b[0mfetch_pdfs\u001b[0m \u001b[1;32mif\u001b[0m \u001b[0misFullPdf\u001b[0m\u001b[1;33m(\u001b[0m\u001b[1;34m'./fetched_pdfs/'\u001b[0m\u001b[1;33m+\u001b[0m\u001b[0mpdf\u001b[0m\u001b[1;33m)\u001b[0m\u001b[1;33m]\u001b[0m\u001b[1;33m\u001b[0m\u001b[1;33m\u001b[0m\u001b[0m\n\u001b[0m",
      "\u001b[1;32m<ipython-input-6-2c5eabbe3a81>\u001b[0m in \u001b[0;36misFullPdf\u001b[1;34m(f)\u001b[0m\n\u001b[0;32m      5\u001b[0m     \u001b[0msize\u001b[0m \u001b[1;33m=\u001b[0m \u001b[0mos\u001b[0m\u001b[1;33m.\u001b[0m\u001b[0mpath\u001b[0m\u001b[1;33m.\u001b[0m\u001b[0mgetsize\u001b[0m\u001b[1;33m(\u001b[0m\u001b[0mf\u001b[0m\u001b[1;33m)\u001b[0m\u001b[1;33m\u001b[0m\u001b[1;33m\u001b[0m\u001b[0m\n\u001b[0;32m      6\u001b[0m     \u001b[1;32mif\u001b[0m \u001b[0msize\u001b[0m \u001b[1;33m<\u001b[0m \u001b[1;36m1024\u001b[0m\u001b[1;33m:\u001b[0m \u001b[1;32mreturn\u001b[0m \u001b[1;32mFalse\u001b[0m\u001b[1;33m\u001b[0m\u001b[1;33m\u001b[0m\u001b[0m\n\u001b[1;32m----> 7\u001b[1;33m     \u001b[1;32mwith\u001b[0m \u001b[0mopen\u001b[0m\u001b[1;33m(\u001b[0m\u001b[0mf\u001b[0m\u001b[1;33m,\u001b[0m \u001b[1;34m'rb'\u001b[0m\u001b[1;33m)\u001b[0m \u001b[1;32mas\u001b[0m \u001b[0mfin\u001b[0m\u001b[1;33m:\u001b[0m\u001b[1;33m\u001b[0m\u001b[1;33m\u001b[0m\u001b[0m\n\u001b[0m\u001b[0;32m      8\u001b[0m         \u001b[1;31m#start content\u001b[0m\u001b[1;33m\u001b[0m\u001b[1;33m\u001b[0m\u001b[1;33m\u001b[0m\u001b[0m\n\u001b[0;32m      9\u001b[0m         \u001b[0mfin\u001b[0m\u001b[1;33m.\u001b[0m\u001b[0mseek\u001b[0m\u001b[1;33m(\u001b[0m\u001b[1;36m0\u001b[0m\u001b[1;33m,\u001b[0m \u001b[1;36m0\u001b[0m\u001b[1;33m)\u001b[0m\u001b[1;33m\u001b[0m\u001b[1;33m\u001b[0m\u001b[0m\n",
      "\u001b[1;31mKeyboardInterrupt\u001b[0m: "
     ]
    }
   ],
   "source": [
    "fetch_pdfs = os.listdir('./fetched_pdfs/')\n",
    "fetch_pdfs = fetch_pdfs\n",
    "good_pdfs = [pdf for pdf in fetch_pdfs if isFullPdf('./fetched_pdfs/'+pdf)]        "
   ]
  },
  {
   "cell_type": "code",
   "execution_count": null,
   "metadata": {},
   "outputs": [],
   "source": [
    "len(good_pdfs)\n",
    "pdfs_dir = ['./fetched_pdfs/'+pdf for pdf in good_pdfs]"
   ]
  },
  {
   "cell_type": "code",
   "execution_count": 5,
   "metadata": {},
   "outputs": [],
   "source": [
    "tokens_list = os.listdir('./tokenss/')\n",
    "tokens_list = [tokens.rstrip('.txt') for tokens in tokens_list]"
   ]
  },
  {
   "cell_type": "code",
   "execution_count": 129,
   "metadata": {},
   "outputs": [],
   "source": [
    "import pickle\n",
    "\n",
    "def read_corpus_text(pdfs):\n",
    "    for pdf in pdfs:\n",
    "        print(pdf)\n",
    "        raw = parser.from_file(pdf)\n",
    "        num = re.findall(r'\\d+', pdf)\n",
    "        num = ''.join(num)\n",
    "        #tokens = get_tokens(str(raw['content']))\n",
    "        tokens = word_tokenize(str(raw['content']))\n",
    "        with open('./tokenss/'+num+'.txt', 'wb') as file:\n",
    "            pickle.dump(tokens, file)\n",
    "        \n",
    "        \n",
    "        \n",
    "#read_corpus_text(captured_pdfs[28307:])\n",
    "#raw = parser.from_file(captured_pdfs[0])\n",
    "#tokens = get_tokens(str(raw['content']))\n",
    "#type(tokens)\n",
    "\n",
    "#def read_corpus(pdfs, textblock):\n",
    " #   for dir in os.listdir\n",
    "    \n",
    "def prepare_corpus():\n",
    "    text = []\n",
    "    for dir in os.listdir('./tokenss/'):\n",
    "        with open('./tokenss/'+ dir, 'rb') as file:\n",
    "            tokens = pickle.load(file)\n",
    "        text.append(tokens)\n",
    "            #yield gensim.corpora.Dictionary(tokens, dir)\n",
    "    #for n, line in enumerate(brief_summary):\n",
    "     #   yield gensim.models.doc2vec.TaggedDocument(line,brief_summary_index[n])\n",
    "    return text\n",
    "#corpus = prepare_corpus()\n",
    "#len(corpus)\n",
    "#model = gensim.models.doc2vec.Doc2Vec(vector_size=50, min_count=2, epochs=40)\n",
    "#model.build_vocab(corpus)\n",
    "prepare_corpus"
   ]
  },
  {
   "cell_type": "code",
   "execution_count": 6,
   "metadata": {},
   "outputs": [],
   "source": [
    "org_df['PMID'] = org_df['PMID'].map(lambda x: ' '.join(x))"
   ]
  },
  {
   "cell_type": "code",
   "execution_count": 7,
   "metadata": {},
   "outputs": [],
   "source": [
    "org_df['PMID'].replace('', np.nan, inplace = True)"
   ]
  },
  {
   "cell_type": "code",
   "execution_count": 8,
   "metadata": {},
   "outputs": [],
   "source": [
    "org_df.dropna(inplace = True)"
   ]
  },
  {
   "cell_type": "code",
   "execution_count": 10,
   "metadata": {},
   "outputs": [
    {
     "data": {
      "text/plain": [
       "0                           12657584 15223788 16009841\n",
       "0                                      8512476 8675413\n",
       "0                                              8684794\n",
       "0                                    15364708 15364709\n",
       "0                                              7993207\n",
       "                           ...                        \n",
       "0    29272507 22336838 26138016 29734124 26245722 2...\n",
       "0    26280804 28029924 26277411 24382065 23836740 1...\n",
       "0    28332101 30356639 14985292 26062039 30001713 2...\n",
       "0                                    29099872 32102255\n",
       "0    32843804 32563073 32439926 32023174 31862217 3...\n",
       "Name: PMID, Length: 71530, dtype: object"
      ]
     },
     "execution_count": 10,
     "metadata": {},
     "output_type": "execute_result"
    }
   ],
   "source": [
    "org_df['PMID']"
   ]
  },
  {
   "cell_type": "code",
   "execution_count": 49,
   "metadata": {},
   "outputs": [],
   "source": [
    "#org_df['PMID'].map(lambda x: )\n",
    "\n",
    "\n",
    "def isin(str_of_pmids):\n",
    "    list_of_pmids = str_of_pmids.split(' ')\n",
    "    tokens = []\n",
    "    for pmid in list_of_pmids:\n",
    "        if pmid in tokens_list:\n",
    "            with open('./tokenss/'+pmid+'.txt', 'rb') as file:\n",
    "                tokens.append(pickle.load(file))\n",
    "    #if tokens:\n",
    "       # tokens = ' '.join(tokens)\n",
    "    tokens = [ ', '.join(token) for token in tokens]\n",
    "    return ' '.join(tokens)\n",
    "    \n",
    "#org_df['PMID_tokens'][:20000] = org_df['PMID'][:20000].map(isin)\n",
    "\n",
    "#org_df['PMID_tok'] = org_df['PMID'].map(isin)"
   ]
  },
  {
   "cell_type": "code",
   "execution_count": 51,
   "metadata": {},
   "outputs": [],
   "source": [
    "org_df['PMID_tokens'] = org_df['PMID'].map(isin)"
   ]
  },
  {
   "cell_type": "code",
   "execution_count": 50,
   "metadata": {},
   "outputs": [],
   "source": [
    "org_df.drop('PMID_tokens', axis = 1, inplace = True)"
   ]
  },
  {
   "cell_type": "code",
   "execution_count": 54,
   "metadata": {},
   "outputs": [],
   "source": [
    "org_df.to_pickle('./df.pkl')"
   ]
  },
  {
   "cell_type": "code",
   "execution_count": 16,
   "metadata": {},
   "outputs": [],
   "source": [
    "pmid_df = pd.Series(org_df['PMID'].map(isin))"
   ]
  },
  {
   "cell_type": "code",
   "execution_count": 193,
   "metadata": {},
   "outputs": [
    {
     "data": {
      "text/plain": [
       "33190"
      ]
     },
     "execution_count": 193,
     "metadata": {},
     "output_type": "execute_result"
    }
   ],
   "source": [
    "captured_pdfs = []\n",
    "for i,pdf in enumerate(good_pdfs):\n",
    "    if pdf == True:\n",
    "        captured_pdfs.append(pdfs[i])\n",
    "len(captured_pdfs)"
   ]
  },
  {
   "cell_type": "code",
   "execution_count": 159,
   "metadata": {},
   "outputs": [
    {
     "name": "stdout",
     "output_type": "stream",
     "text": [
      "Fitting 5 folds for each of 10 candidates, totalling 50 fits\n"
     ]
    },
    {
     "name": "stderr",
     "output_type": "stream",
     "text": [
      "[Parallel(n_jobs=-1)]: Using backend LokyBackend with 4 concurrent workers.\n",
      "[Parallel(n_jobs=-1)]: Done  42 tasks      | elapsed: 14.1min\n",
      "[Parallel(n_jobs=-1)]: Done  50 out of  50 | elapsed: 18.9min finished\n",
      "C:\\Users\\Public\\Anaconda3\\lib\\site-packages\\sklearn\\ensemble\\_forest.py:540: UserWarning: Some inputs do not have OOB scores. This probably means too few trees were used to compute any reliable oob estimates.\n",
      "  warn(\"Some inputs do not have OOB scores. \"\n",
      "C:\\Users\\Public\\Anaconda3\\lib\\site-packages\\sklearn\\ensemble\\_forest.py:545: RuntimeWarning: invalid value encountered in true_divide\n",
      "  predictions[k].sum(axis=1)[:, np.newaxis])\n"
     ]
    }
   ],
   "source": [
    "from sklearn.model_selection import RandomizedSearchCV\n",
    "#from numpy import \n",
    "#model\n",
    "MOD = RandomForestClassifier() \n",
    "#Implemente RandomSearchCV\n",
    "m_params = { \n",
    "            \"RF\": {\n",
    "                    \"n_estimators\" : np.linspace(2, 20, 10, dtype = \"int\"),  \n",
    "                    \"max_depth\": [5, 20, 30, None], \n",
    "                    \"min_samples_split\": np.linspace(2, 50, 10, dtype = \"int\"),  \n",
    "                    \"max_features\": [\"sqrt\", \"log2\",10, 20, None],\n",
    "                    \"oob_score\": [True],\n",
    "                    \"bootstrap\": [True]\n",
    "                    },\n",
    "            }\n",
    "scoreFunction = {\"recall\": \"recall\", \"precision\": \"precision\"}\n",
    "random_search = RandomizedSearchCV(MOD,\n",
    "                               param_distributions = m_params['RF'], \n",
    "                                       n_iter = 10,\n",
    "                                       n_jobs=-1,\n",
    "                                       scoring = scoreFunction,               \n",
    "                                       refit = \"recall\",\n",
    "                                       return_train_score = True,\n",
    "                                       random_state = 42,\n",
    "                                       cv = 5,\n",
    "                                        verbose = 1) \n",
    "\n",
    "    #trains and optimizes the model\n",
    "random_search.fit(X_train_transformed, y_train)\n",
    "\n",
    "    #recover the best model\n",
    "MOD = random_search.best_estimator_"
   ]
  },
  {
   "cell_type": "code",
   "execution_count": 575,
   "metadata": {},
   "outputs": [
    {
     "name": "stdout",
     "output_type": "stream",
     "text": [
      "              precision    recall  f1-score   support\n",
      "\n",
      "       False       0.87      0.91      0.89      1398\n",
      "        True       0.61      0.49      0.54       383\n",
      "\n",
      "    accuracy                           0.82      1781\n",
      "   macro avg       0.74      0.70      0.72      1781\n",
      "weighted avg       0.81      0.82      0.82      1781\n",
      "\n"
     ]
    }
   ],
   "source": [
    "log = LogisticRegression(solver =  'newton-cg', C = 10)\n",
    "log.fit(X_train_resampled, y_train_resampled)\n",
    "\n",
    "y_pred = log.predict(X_test_transformed)\n",
    "\n",
    "print(classification_report(y_test, y_pred))"
   ]
  },
  {
   "cell_type": "code",
   "execution_count": 640,
   "metadata": {},
   "outputs": [
    {
     "name": "stdout",
     "output_type": "stream",
     "text": [
      "              precision    recall  f1-score   support\n",
      "\n",
      "       False       0.85      0.95      0.90      1398\n",
      "        True       0.71      0.40      0.51       383\n",
      "\n",
      "    accuracy                           0.84      1781\n",
      "   macro avg       0.78      0.68      0.71      1781\n",
      "weighted avg       0.82      0.84      0.82      1781\n",
      "\n"
     ]
    }
   ],
   "source": [
    "log = LogisticRegression(solver = 'liblinear', penalty = 'l2', C= 1)\n",
    "log.fit(X_train_resampled, y_train_resampled)\n",
    "\n",
    "y_pred = log.predict(X_test_transformed)\n",
    "\n",
    "print(classification_report(y_test, y_pred))"
   ]
  },
  {
   "cell_type": "code",
   "execution_count": 630,
   "metadata": {},
   "outputs": [],
   "source": [
    "\n",
    "log_param_grid = {\n",
    "    'solver': ['newton-cg', 'liblinear', 'lbfgs'],\n",
    "    'C' : [1e12, 100, 10, 1.0, 0.1, 0.01],\n",
    "    'penalty': ['l1', 'l2']\n",
    "}\n",
    "\n",
    "RandomizedSearchCV(log, log_param_grid, n_jobs = -1, cv = 3)\n",
    "\n",
    "scoreFunction = {\"recall\": \"recall\", \"precision\": \"precision\"}\n",
    "random_search = RandomizedSearchCV(log,\n",
    "                               param_distributions = log_param_grid, \n",
    "                                       n_iter = 20,\n",
    "                                       n_jobs=2,\n",
    "                                       scoring = scoreFunction,               \n",
    "                                       refit = \"precision\",\n",
    "                                       return_train_score = True,\n",
    "                                       random_state = 42,\n",
    "                                       cv = 5,\n",
    "                                        verbose = 1) "
   ]
  },
  {
   "cell_type": "code",
   "execution_count": 631,
   "metadata": {},
   "outputs": [
    {
     "name": "stdout",
     "output_type": "stream",
     "text": [
      "Fitting 5 folds for each of 20 candidates, totalling 100 fits\n"
     ]
    },
    {
     "name": "stderr",
     "output_type": "stream",
     "text": [
      "[Parallel(n_jobs=2)]: Using backend LokyBackend with 2 concurrent workers.\n",
      "[Parallel(n_jobs=2)]: Done  46 tasks      | elapsed:  5.5min\n",
      "[Parallel(n_jobs=2)]: Done 100 out of 100 | elapsed: 39.0min finished\n"
     ]
    },
    {
     "data": {
      "text/plain": [
       "RandomizedSearchCV(cv=5, estimator=LogisticRegression(C=10, solver='newton-cg'),\n",
       "                   n_iter=20, n_jobs=2,\n",
       "                   param_distributions={'C': [1000000000000.0, 100, 10, 1.0,\n",
       "                                              0.1, 0.01],\n",
       "                                        'penalty': ['l1', 'l2'],\n",
       "                                        'solver': ['newton-cg', 'liblinear',\n",
       "                                                   'lbfgs']},\n",
       "                   random_state=42, refit='precision', return_train_score=True,\n",
       "                   scoring={'precision': 'precision', 'recall': 'recall'},\n",
       "                   verbose=1)"
      ]
     },
     "execution_count": 631,
     "metadata": {},
     "output_type": "execute_result"
    }
   ],
   "source": [
    "random_search.fit(X_train_resampled, y_train_resampled)"
   ]
  },
  {
   "cell_type": "markdown",
   "metadata": {},
   "source": [
    "Let's take a look at the columns and their unique values."
   ]
  },
  {
   "cell_type": "code",
   "execution_count": 202,
   "metadata": {},
   "outputs": [
    {
     "data": {
      "text/plain": [
       "33183"
      ]
     },
     "execution_count": 202,
     "metadata": {},
     "output_type": "execute_result"
    }
   ],
   "source": [
    "pmids_tokens = os.listdir('./tokens')\n",
    "pmids_tokens = [''.join(re.findall('\\d+', token)) for token in pmids_tokens]\n",
    "#for pmid in pmids_tokens:   \n",
    "  #  num = re.findall('\\d+', pmid)\n",
    "   # num = ''.join(num)\n",
    "    #print(num)\n",
    "len(pmids_tokens)"
   ]
  },
  {
   "cell_type": "code",
   "execution_count": 239,
   "metadata": {},
   "outputs": [],
   "source": [
    "pmids_df = df.loc[:, ['PMID']]\n",
    "transpose_df = pmids_df.transpose()\n",
    "np_pmids = transpose_df.to_numpy()\n",
    "flattened = list(np_pmids.reshape(1,20).flatten())\n",
    "pmids = ', '.join(flattened)\n",
    "df['PMIDs'] = pmids"
   ]
  }
 ],
 "metadata": {
  "kernelspec": {
   "display_name": "Python 3",
   "language": "python",
   "name": "python3"
  },
  "language_info": {
   "codemirror_mode": {
    "name": "ipython",
    "version": 3
   },
   "file_extension": ".py",
   "mimetype": "text/x-python",
   "name": "python",
   "nbconvert_exporter": "python",
   "pygments_lexer": "ipython3",
   "version": "3.7.4"
  }
 },
 "nbformat": 4,
 "nbformat_minor": 2
}
